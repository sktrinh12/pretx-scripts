{
 "cells": [
  {
   "cell_type": "code",
   "execution_count": 1,
   "id": "7f701ebd-c225-4109-b889-357458e25558",
   "metadata": {},
   "outputs": [
    {
     "name": "stdout",
     "output_type": "stream",
     "text": [
      "Collecting psycopg2-binary\n",
      "  Downloading psycopg2_binary-2.9.10-cp311-cp311-manylinux_2_17_x86_64.manylinux2014_x86_64.whl.metadata (4.9 kB)\n",
      "Downloading psycopg2_binary-2.9.10-cp311-cp311-manylinux_2_17_x86_64.manylinux2014_x86_64.whl (3.0 MB)\n",
      "\u001b[2K   \u001b[90m━━━━━━━━━━━━━━━━━━━━━━━━━━━━━━━━━━━━━━━━\u001b[0m \u001b[32m3.0/3.0 MB\u001b[0m \u001b[31m1.4 MB/s\u001b[0m eta \u001b[36m0:00:00\u001b[0m00:01\u001b[0m00:01\u001b[0m0m\n",
      "\u001b[?25hInstalling collected packages: psycopg2-binary\n",
      "Successfully installed psycopg2-binary-2.9.10\n",
      "Note: you may need to restart the kernel to use updated packages.\n"
     ]
    }
   ],
   "source": [
    "pip install psycopg2-binary"
   ]
  },
  {
   "cell_type": "code",
   "execution_count": 2,
   "id": "1cf4146c-47f1-40d4-bedc-2855f535201f",
   "metadata": {},
   "outputs": [],
   "source": [
    "import requests\n",
    "import psycopg2\n",
    "import json\n",
    "import os\n",
    "from urllib.parse import quote\n",
    "from datetime import datetime\n",
    "from dotenv import load_dotenv"
   ]
  },
  {
   "cell_type": "code",
   "execution_count": 3,
   "id": "2864ce97-2a3c-4a0b-981f-5b4510d99ad8",
   "metadata": {},
   "outputs": [],
   "source": [
    "TABLE_SUFFIX = \"ELN_WRITEUP_INTERP_DATA\"\n",
    "DS_DATA = {'dev' : {'ds_id': 1751, 'domain': 'prelude-dev', 'project_id': 104000},\n",
    "           'up6' : {'ds_id': 1372, 'domain': 'prelude-upgrade6', 'project_id': 96000},\n",
    "           'prod' : {'ds_id': 1419, 'domain': 'prelude', 'project_id': 99000},\n",
    "          }\n",
    "BASE_URL = \"dotmatics.net\"\n",
    "ISID = \"preludeAdmin\"\n",
    "PASSWORD = quote(os.getenv('DM_PASS'))\n",
    "EXPIRATION = 4*60*60\n",
    "formats = [\"%Y-%m-%d\", \"%d/%m/%Y\"]"
   ]
  },
  {
   "cell_type": "code",
   "execution_count": 13,
   "id": "a42bd1c3-9954-4110-8beb-0ef678d446c6",
   "metadata": {},
   "outputs": [],
   "source": [
    "load_dotenv()\n",
    "DB_HOST = os.getenv(\"DB_HOST\")\n",
    "DB_USER = os.getenv(\"DB_USER\")\n",
    "DB_PASSWORD = os.getenv(\"DB_PASS\")\n",
    "DB_NAME = os.getenv(\"DB_NAME\")"
   ]
  },
  {
   "cell_type": "code",
   "execution_count": 5,
   "id": "420a7fcf-d9ff-43a7-b3a8-f7e37c3e38b0",
   "metadata": {},
   "outputs": [],
   "source": [
    "def create_table_if_not_exists(cursor, table_name):\n",
    "    create_table_query = f\"\"\"\n",
    "    CREATE TABLE IF NOT EXISTS {table_name} (\n",
    "      id SERIAL PRIMARY KEY,\n",
    "      entry_date DATE,\n",
    "      experiment_id VARCHAR(100),\n",
    "      match_position INT,\n",
    "      mask_id VARCHAR(400),\n",
    "      unique_id VARCHAR(150),\n",
    "      mask_title VARCHAR(200),\n",
    "      mask_text VARCHAR(300),\n",
    "      write_up TEXT\n",
    "    );\n",
    "    \"\"\"\n",
    "    cursor.execute(create_table_query)\n",
    "\n",
    "def parse_date(date_str):\n",
    "    \"\"\"Parse date string into consistent 'YYYY-MM-DD' format.\"\"\"\n",
    "    for fmt in formats:\n",
    "        try:\n",
    "            return datetime.strptime(date_str, fmt).strftime(\"%Y-%m-%d\")\n",
    "        except ValueError:\n",
    "            continue\n",
    "    raise ValueError(f\"Invalid date format: {date_str}\")\n",
    "\n",
    "def insert_data(cursor, table_name, entry_date, experiment_id, match_position, mask_id, unique_id, mask_title, mask_text, write_up):\n",
    "    insert_query = f\"\"\"\n",
    "        INSERT INTO {table_name} (entry_date, experiment_id, match_position, mask_id, unique_id, mask_title, mask_text, write_up)\n",
    "        VALUES (%s, %s, %s, %s, %s, %s, %s, %s);\n",
    "    \"\"\"\n",
    "    cursor.execute(insert_query, (entry_date, experiment_id, match_position, mask_id, unique_id, mask_title, mask_text, write_up))\n",
    "\n",
    "def process_response_and_save_to_db(response_json, cursor, table_name):\n",
    "    for experiment_id, details in response_json.items():\n",
    "        data_sources = details.get(\"dataSources\", {})\n",
    "        for source_id, entries in data_sources.items():\n",
    "            for entry in entries.values():\n",
    "                insert_data(\n",
    "                    cursor,\n",
    "                    table_name,\n",
    "                    parse_date(entry.get(\"ENTRY_DATE\")),\n",
    "                    experiment_id,\n",
    "                    entry.get(\"MATCH_POSITION\"),\n",
    "                    entry.get(\"MASK_ID\"),\n",
    "                    entry.get(\"UNIQUE_ID\"),\n",
    "                    entry.get(\"MASK_TITLE\"),\n",
    "                    entry.get(\"MASK_TEXT\"),\n",
    "                    entry.get(\"WRITE_UP\")\n",
    "                )\n",
    "\n",
    "def process_experiment_ids(file_path, db_connection, DOMAIN, DS_ID, PROJECT_ID, API_TOKEN):\n",
    "    table_name = f\"{DOMAIN.replace('prelude-', '').replace('prelude', 'prod').upper()}_{TABLE_SUFFIX}\"\n",
    "\n",
    "    with db_connection.cursor() as cursor:\n",
    "        create_table_if_not_exists(cursor, table_name)\n",
    "\n",
    "        with open(file_path, \"r\") as file:\n",
    "            for line in file:\n",
    "                ids_str = line.strip()\n",
    "                api_url = f\"https://{DOMAIN}.{BASE_URL}/browser/api/data/{ISID}/{PROJECT_ID}/{DS_ID}/{ids_str}?token={API_TOKEN}\"\n",
    "                print(f'fetching data - {api_url}')\n",
    "                print()\n",
    "                response = requests.get(api_url)\n",
    "                if response.status_code == 200:\n",
    "                    data = response.json()\n",
    "                    process_response_and_save_to_db(data, cursor, table_name)\n",
    "                    empty_exp_ids = [key for key, item in data.items() if not item['dataSources']]\n",
    "                    if empty_exp_ids:\n",
    "                        print(f'# empty exp ids: {len(empty_exp_ids)} - {empty_exp_ids}')\n",
    "                        print()\n",
    "                else:\n",
    "                    print(f\"Failed to fetch data for IDs in line: {line.strip()[:50]}...: {response.status_code}\")\n",
    "            \n",
    "        db_connection.commit()"
   ]
  },
  {
   "cell_type": "code",
   "execution_count": 6,
   "id": "ed7e2444-f5e6-4bf3-bfba-d978f5c75e41",
   "metadata": {
    "jupyter": {
     "source_hidden": true
    }
   },
   "outputs": [],
   "source": [
    "# def fetch_data(DOMAIN, DS_ID, PROJECT_ID, API_TOKEN):\n",
    "#     \"\"\"\n",
    "#     for testing purposes; no sql data upload; uses wildcard selection\n",
    "#     \"\"\"\n",
    "#     table_name = f\"{DOMAIN.replace('-', '_').upper()}_{TABLE_SUFFIX}\"\n",
    "#     api_url = f\"https://{DOMAIN}.{BASE_URL}/browser/api/data/{ISID}/{PROJECT_ID}/{DS_ID}/*?token={API_TOKEN}\"\n",
    "#     print(f'fetching data - {api_url}')\n",
    "#     print()\n",
    "#     response = requests.get(api_url)\n",
    "#     if response.status_code == 200:\n",
    "#         return response.json()\n",
    "#     else:\n",
    "#         print(f\"Failed to fetch data for IDs in line: {line.strip()[:50]}...: {response.status_code}\")"
   ]
  },
  {
   "cell_type": "code",
   "execution_count": 7,
   "id": "cb92816a-51e9-47d2-8b24-f841fd1d4b2d",
   "metadata": {
    "jupyter": {
     "source_hidden": true
    }
   },
   "outputs": [],
   "source": [
    "# for testing purposes, no datbase upload\n",
    "# ds_name = 'up6'\n",
    "# api_token = retrieve_token(DS_DATA[ds_name]['domain'])\n",
    "# print(api_token)\n",
    "# try:\n",
    "#     response = fetch_data(DS_DATA[ds_name]['domain'], DS_DATA[ds_name]['ds_id'], DS_DATA[ds_name]['project_id'], api_token)\n",
    "# except Exception as e:\n",
    "#     print(f\"Error: {e}\")"
   ]
  },
  {
   "cell_type": "code",
   "execution_count": 8,
   "id": "cef796ae-00ec-49a5-ad63-3bd1375980de",
   "metadata": {},
   "outputs": [],
   "source": [
    "# len(response)"
   ]
  },
  {
   "cell_type": "code",
   "execution_count": 9,
   "id": "c8b841db-c896-4ec5-a9aa-66ebfd889097",
   "metadata": {
    "jupyter": {
     "source_hidden": true
    }
   },
   "outputs": [],
   "source": [
    "# for testing purposes, no datbase upload, use of wildcard\n",
    "# empty_count = sum(1 for item in response.values() if not item['dataSources'])\n",
    "# empty_count"
   ]
  },
  {
   "cell_type": "code",
   "execution_count": 10,
   "id": "d762ea3c-b56f-4557-ad8e-af60d6d0e2a7",
   "metadata": {},
   "outputs": [],
   "source": [
    "def main(file_path, domain, ds_id, proj_id, api_token):\n",
    "    if not os.path.exists(file_path):\n",
    "        print(\"File exp_ids.txt not found!\")\n",
    "        return\n",
    "    \n",
    "    try:\n",
    "        db_connection = psycopg2.connect(\n",
    "            host=DB_HOST, \n",
    "            user=DB_USER, \n",
    "            password=DB_PASSWORD,\n",
    "            dbname=DB_NAME\n",
    "        )\n",
    "        process_experiment_ids(file_path, db_connection, domain, ds_id, proj_id, api_token)\n",
    "    except Exception as e:\n",
    "        print(f\"Error: {e}\")\n",
    "    finally:\n",
    "        if db_connection:\n",
    "            db_connection.close()"
   ]
  },
  {
   "cell_type": "code",
   "execution_count": 11,
   "id": "26c74bc0-c694-4943-a8a3-e85e951a6c88",
   "metadata": {},
   "outputs": [],
   "source": [
    "def retrieve_token(DOMAIN):\n",
    "    token_url = f\"https://{DOMAIN}.{BASE_URL}/browser/api/authenticate/requestToken?isid={ISID}&password={PASSWORD}&expiration={EXPIRATION}\"\n",
    "    # print(token_url)\n",
    "    try:\n",
    "        response = requests.get(token_url)\n",
    "        if response.status_code == 200:\n",
    "            return response.json()\n",
    "        else:\n",
    "            print(f\"Failed to retrieve token: {response.status_code}, {response.text}\")\n",
    "            return None\n",
    "    except Exception as e:\n",
    "        print(f\"Error retrieving token: {e}\")\n",
    "        return None"
   ]
  },
  {
   "cell_type": "markdown",
   "id": "f25673d4-e08a-4a18-a142-6c48f31721c2",
   "metadata": {},
   "source": [
    "### UPGRADE 6 interpolated data"
   ]
  },
  {
   "cell_type": "code",
   "execution_count": null,
   "id": "6a7a10c0-3c78-4a37-aaca-1a26a7ec2cc9",
   "metadata": {
    "scrolled": true
   },
   "outputs": [],
   "source": [
    "file_path = \"/home/jovyan/work/Documents/RCH/exp_ids_eln_writeup_compr.txt\"\n",
    "ds_name = 'up6'\n",
    "domain = DS_DATA[ds_name]['domain']\n",
    "ds_id = DS_DATA[ds_name]['ds_id']\n",
    "proj_id = DS_DATA[ds_name]['project_id']\n",
    "api_token = retrieve_token(domain)\n",
    "print(api_token)\n",
    "\n",
    "main(file_path, domain, ds_id, proj_id, api_token)"
   ]
  },
  {
   "cell_type": "markdown",
   "id": "1b63afd1-f36d-44af-814b-15efdfa64b22",
   "metadata": {},
   "source": [
    "### DEV - interpolated data "
   ]
  },
  {
   "cell_type": "code",
   "execution_count": null,
   "id": "1577eb3d-d892-41e5-a6b6-278bfa892fe0",
   "metadata": {
    "scrolled": true
   },
   "outputs": [],
   "source": [
    "file_path = \"/home/jovyan/work/Documents/RCH/exp_ids_eln_writeup_compr.txt\"\n",
    "ds_name = 'dev'\n",
    "domain = DS_DATA[ds_name]['domain']\n",
    "ds_id = DS_DATA[ds_name]['ds_id']\n",
    "proj_id = DS_DATA[ds_name]['project_id']\n",
    "api_token = retrieve_token(domain)\n",
    "print(api_token)\n",
    "\n",
    "main(file_path, domain, ds_id, proj_id, api_token)"
   ]
  },
  {
   "cell_type": "markdown",
   "id": "e6e5b6d1-a574-4a1b-8c18-636258209ae9",
   "metadata": {},
   "source": [
    "### PROD interpolated data"
   ]
  },
  {
   "cell_type": "code",
   "execution_count": null,
   "id": "b01ba1c1-54a2-42c8-a811-2a7ddec9caf3",
   "metadata": {
    "scrolled": true
   },
   "outputs": [],
   "source": [
    "# PROD\n",
    "file_path = \"/home/jovyan/work/Documents/RCH/exp_ids_eln_writeup_compr.txt\"\n",
    "ds_name = 'prod'\n",
    "domain = DS_DATA[ds_name]['domain']\n",
    "ds_id = DS_DATA[ds_name]['ds_id']\n",
    "proj_id = DS_DATA[ds_name]['project_id']\n",
    "api_token = retrieve_token(domain)\n",
    "print(api_token)\n",
    "\n",
    "main(file_path, domain, ds_id, proj_id, api_token)"
   ]
  },
  {
   "cell_type": "code",
   "execution_count": 17,
   "id": "5a486328-50b6-4efc-b144-7da1d020eb3f",
   "metadata": {},
   "outputs": [],
   "source": [
    "import pandas as pd\n",
    "import re\n",
    "from sqlalchemy import create_engine\n",
    "from IPython.display import HTML, display"
   ]
  },
  {
   "cell_type": "code",
   "execution_count": 18,
   "id": "d5d059cc-4890-458f-936c-2ec5d981cdab",
   "metadata": {},
   "outputs": [],
   "source": [
    "db_url = f\"postgresql://{DB_USER}:{DB_PASSWORD}@{DB_HOST}/{DB_NAME}\"\n",
    "engine = create_engine(db_url)\n",
    "\n",
    "table_up6_query = \"SELECT * FROM upgrade6_eln_writeup_interp_data\"\n",
    "table_dev_query = \"SELECT * FROM dev_eln_writeup_interp_data\"\n",
    "table_prod_query = \"SELECT * FROM prod_eln_writeup_interp_data\"\n",
    "\n",
    "df_up6 = pd.read_sql(table_up6_query, engine)\n",
    "df_dev = pd.read_sql(table_dev_query, engine)\n",
    "df_prod = pd.read_sql(table_prod_query, engine)\n",
    "df_prod = df_prod.rename(columns=lambda x: f\"{x}_prod\" if x not in [\"experiment_id\", \"match_position\"] else x)\n",
    "                                                                    \n",
    "merged_df_temp = pd.merge(\n",
    "  df_up6,\n",
    "  df_dev,\n",
    "  on=[\"experiment_id\", \"match_position\"], \n",
    "  suffixes=(\"_u6\", \"_dev\")\n",
    ") \n",
    "\n",
    "merged_df = pd.merge(\n",
    "  merged_df_temp,\n",
    "  df_prod,\n",
    "  on=[\"experiment_id\", \"match_position\"]\n",
    ")\n",
    "\n",
    "merged_dff = merged_df[merged_df[\"match_position\"] == 1]\n",
    "merged_dff = merged_dff[['entry_date_prod', 'experiment_id', 'write_up_u6', 'write_up_dev', 'write_up_prod']]"
   ]
  },
  {
   "cell_type": "code",
   "execution_count": 19,
   "id": "81bdda2e-9e27-4d1d-9aae-b174730a20bd",
   "metadata": {},
   "outputs": [],
   "source": [
    "filtered_df = merged_df[ \n",
    "    (merged_df['mask_id_u6'] != merged_df['mask_id_dev']) |\n",
    "    (merged_df['unique_id_u6'] != merged_df['unique_id_dev']) |\n",
    "    (merged_df['mask_title_u6'] != merged_df['mask_title_dev']) |\n",
    "    (merged_df['mask_text_u6'] != merged_df['mask_text_dev']) |\n",
    "    (merged_df['mask_id_u6'] != merged_df['mask_id_prod']) |\n",
    "    (merged_df['unique_id_u6'] != merged_df['unique_id_prod']) |\n",
    "    (merged_df['mask_title_u6'] != merged_df['mask_title_prod']) |\n",
    "    (merged_df['mask_text_u6'] != merged_df['mask_text_prod']) \n",
    "]"
   ]
  },
  {
   "cell_type": "code",
   "execution_count": 82,
   "id": "74fe62ba-1642-4b85-bb52-bcfb6d0243d6",
   "metadata": {
    "scrolled": true
   },
   "outputs": [
    {
     "data": {
      "text/plain": [
       "1894"
      ]
     },
     "execution_count": 82,
     "metadata": {},
     "output_type": "execute_result"
    }
   ],
   "source": [
    "# len(filtered_df)"
   ]
  },
  {
   "cell_type": "code",
   "execution_count": 20,
   "id": "19ba7a81-6ca3-429a-aab5-01de75998bf6",
   "metadata": {},
   "outputs": [],
   "source": [
    "diff_columns = ['mask_id', 'unique_id', 'mask_title', 'mask_text']\n",
    "ordered_columns = [\"entry_date_dev\", \"experiment_id\", \"match_position\"] \n",
    "for col in diff_columns:\n",
    "    ordered_columns.append(f\"{col}_u6\")\n",
    "    ordered_columns.append(f\"{col}_dev\") \n",
    "    ordered_columns.append(f\"{col}_prod\") \n",
    "\n",
    "# ordered_columns"
   ]
  },
  {
   "cell_type": "code",
   "execution_count": 21,
   "id": "0d3ecbfd-e96b-4b50-839c-093c20606302",
   "metadata": {
    "scrolled": true
   },
   "outputs": [],
   "source": [
    "result = filtered_df[ordered_columns]\n",
    "# result"
   ]
  },
  {
   "cell_type": "code",
   "execution_count": 83,
   "id": "9ea6d23f-ff0a-4f63-ab4b-a9ac3ff88426",
   "metadata": {},
   "outputs": [],
   "source": [
    "# result.to_csv(\"differences.csv\", index=False)"
   ]
  },
  {
   "cell_type": "code",
   "execution_count": 103,
   "id": "13be51bd-ce39-480f-a23a-7499b19bc48b",
   "metadata": {},
   "outputs": [],
   "source": [
    "pd.set_option('display.max_rows', None)\n",
    "pd.set_option('display.max_columns', None)\n",
    "pd.set_option('display.max_colwidth', None)"
   ]
  },
  {
   "cell_type": "code",
   "execution_count": 130,
   "id": "e837ee06-0b63-4bfb-bf49-3e2459b165d3",
   "metadata": {},
   "outputs": [
    {
     "data": {
      "text/html": [
       "<div>\n",
       "<style scoped>\n",
       "    .dataframe tbody tr th:only-of-type {\n",
       "        vertical-align: middle;\n",
       "    }\n",
       "\n",
       "    .dataframe tbody tr th {\n",
       "        vertical-align: top;\n",
       "    }\n",
       "\n",
       "    .dataframe thead th {\n",
       "        text-align: right;\n",
       "    }\n",
       "</style>\n",
       "<table border=\"1\" class=\"dataframe\">\n",
       "  <thead>\n",
       "    <tr style=\"text-align: right;\">\n",
       "      <th></th>\n",
       "      <th>id_u6</th>\n",
       "      <th>entry_date_u6</th>\n",
       "      <th>experiment_id</th>\n",
       "      <th>match_position</th>\n",
       "      <th>mask_id_u6</th>\n",
       "      <th>unique_id_u6</th>\n",
       "      <th>mask_title_u6</th>\n",
       "      <th>mask_text_u6</th>\n",
       "      <th>write_up_u6</th>\n",
       "      <th>id_dev</th>\n",
       "      <th>entry_date_dev</th>\n",
       "      <th>mask_id_dev</th>\n",
       "      <th>unique_id_dev</th>\n",
       "      <th>mask_title_dev</th>\n",
       "      <th>mask_text_dev</th>\n",
       "      <th>write_up_dev</th>\n",
       "      <th>id_prod</th>\n",
       "      <th>entry_date_prod</th>\n",
       "      <th>mask_id_prod</th>\n",
       "      <th>unique_id_prod</th>\n",
       "      <th>mask_title_prod</th>\n",
       "      <th>mask_text_prod</th>\n",
       "      <th>write_up_prod</th>\n",
       "    </tr>\n",
       "  </thead>\n",
       "  <tbody>\n",
       "    <tr>\n",
       "      <th>0</th>\n",
       "      <td>1</td>\n",
       "      <td>2022-09-11</td>\n",
       "      <td>206974</td>\n",
       "      <td>3</td>\n",
       "      <td>3</td>\n",
       "      <td>uid 4450</td>\n",
       "      <td>solvent volume</td>\n",
       "      <td>{SOLVENT_NAME} ({VOLUME} {VOLUME_UNITS})</td>\n",
       "      <td>None</td>\n",
       "      <td>2</td>\n",
       "      <td>2022-09-11</td>\n",
       "      <td>3</td>\n",
       "      <td>uid 4450</td>\n",
       "      <td>solvent volume</td>\n",
       "      <td>{SOLVENT_NAME} ({VOLUME} {VOLUME_UNITS})</td>\n",
       "      <td>None</td>\n",
       "      <td>2</td>\n",
       "      <td>2022-09-11</td>\n",
       "      <td>3</td>\n",
       "      <td>uid 4450</td>\n",
       "      <td>solvent volume</td>\n",
       "      <td>{SOLVENT_NAME} ({VOLUME} {VOLUME_UNITS})</td>\n",
       "      <td>None</td>\n",
       "    </tr>\n",
       "    <tr>\n",
       "      <th>1</th>\n",
       "      <td>2</td>\n",
       "      <td>2022-09-11</td>\n",
       "      <td>206974</td>\n",
       "      <td>1</td>\n",
       "      <td>9</td>\n",
       "      <td>uid 2</td>\n",
       "      <td>reactant volume or quant</td>\n",
       "      <td>{REACTANT_NAME} ({QUANT}, {MMOL} mmol)</td>\n",
       "      <td>&lt;p&gt;&lt;span style=\"font-size: 12pt;\"&gt;To a solution of&amp;nbsp;&lt;span style=\"color: #0B3142\"&gt;1-(2-bromo-1,3-thiazol-5-yl)-2,2-difluoroethanone (?, .181 mmol)&lt;/span&gt; &amp;nbsp;and&amp;nbsp;&lt;span style=\"color: #0B3142\"&gt;N-(1-methylsulfonylpiperidin-4-yl)-5-(trifluoromethyl)-4-trimethylstannylpyrimidin-2-amine (?, .181 mmol)&lt;/span&gt; &amp;nbsp;in&amp;nbsp;&lt;span style=\"color: #53DD6C\"&gt;1,4-Dioxane (1.5 mL)&lt;/span&gt; &amp;nbsp;was added&amp;nbsp;&lt;span style=\"color: #0B3142\"&gt;bis(triphenylphosphine)palladium(II) dichloride (?, .036 mmol)&lt;/span&gt; &amp;nbsp;,&amp;nbsp;&lt;span style=\"color: #0B3142\"&gt;copper(I) iodide (?, .036 mmol)&lt;/span&gt; &amp;nbsp;and&amp;nbsp;&lt;span style=\"color: #0B3142\"&gt;Lithium Chloride (?, .542 mmol)&lt;/span&gt; . The reaction mixture was bubbled with N2 for 1min and stirred at&amp;nbsp;&lt;span style=\"color: #EB5E28\"&gt;100 °C&lt;/span&gt; for 3h. LCMS showed the SM was consumed. The reaciton was quencehd with KF solution and stirred at rt for 1h. The solution was filtered and concentrated under reduced pressure.&amp;nbsp;The residue was purified by prep-HPLC on a C18 column eluting with MeCN/H2O (20-60%) with 0.1% TFA to yield&amp;nbsp;&lt;span style=\"color: #6A7FDB\"&gt;2,2-difluoro-1-[2-[2-[(1-methylsulfonylpiperidin-4-yl)amino]-5-(trifluoromethyl)pyrimidin-4-yl]-1,3-thiazol-5-yl]ethanone (22 mg, .045 mmol, 25.087% yield)&lt;/span&gt;&amp;nbsp;&lt;/span&gt;&lt;/p&gt;</td>\n",
       "      <td>5</td>\n",
       "      <td>2022-09-11</td>\n",
       "      <td>9</td>\n",
       "      <td>uid 2</td>\n",
       "      <td>reactant volume or quant</td>\n",
       "      <td>{REACTANT_NAME} ({QUANT}, {MMOL} mmol)</td>\n",
       "      <td>&lt;p&gt;&lt;span style=\"font-size: 12pt;\"&gt;To a solution of&amp;nbsp;&lt;span style=\"color: #0B3142\"&gt;1-(2-bromo-1,3-thiazol-5-yl)-2,2-difluoroethanone (?, .181 mmol)&lt;/span&gt; &amp;nbsp;and&amp;nbsp;&lt;span style=\"color: #0B3142\"&gt;N-(1-methylsulfonylpiperidin-4-yl)-5-(trifluoromethyl)-4-trimethylstannylpyrimidin-2-amine (?, .181 mmol)&lt;/span&gt; &amp;nbsp;in&amp;nbsp;&lt;span style=\"color: #53DD6C\"&gt;1,4-Dioxane (1.5 mL)&lt;/span&gt; &amp;nbsp;was added&amp;nbsp;&lt;span style=\"color: #0B3142\"&gt;bis(triphenylphosphine)palladium(II) dichloride (?, .036 mmol)&lt;/span&gt; &amp;nbsp;,&amp;nbsp;&lt;span style=\"color: #0B3142\"&gt;copper(I) iodide (?, .036 mmol)&lt;/span&gt; &amp;nbsp;and&amp;nbsp;&lt;span style=\"color: #0B3142\"&gt;Lithium Chloride (?, .542 mmol)&lt;/span&gt; . The reaction mixture was bubbled with N2 for 1min and stirred at&amp;nbsp;&lt;span style=\"color: #EB5E28\"&gt;100 °C&lt;/span&gt; for 3h. LCMS showed the SM was consumed. The reaciton was quencehd with KF solution and stirred at rt for 1h. The solution was filtered and concentrated under reduced pressure.&amp;nbsp;The residue was purified by prep-HPLC on a C18 column eluting with MeCN/H2O (20-60%) with 0.1% TFA to yield&amp;nbsp;&lt;span style=\"color: #6A7FDB\"&gt;2,2-difluoro-1-[2-[2-[(1-methylsulfonylpiperidin-4-yl)amino]-5-(trifluoromethyl)pyrimidin-4-yl]-1,3-thiazol-5-yl]ethanone (22 mg, .045 mmol, 25.087% yield)&lt;/span&gt;&amp;nbsp;&lt;/span&gt;&lt;/p&gt;</td>\n",
       "      <td>5</td>\n",
       "      <td>2022-09-11</td>\n",
       "      <td>9</td>\n",
       "      <td>uid 2</td>\n",
       "      <td>reactant volume or quant</td>\n",
       "      <td>{REACTANT_NAME} ({QUANT}, {MMOL} mmol)</td>\n",
       "      <td>&lt;p&gt;&lt;span style=\"font-size: 12pt;\"&gt;To a solution of&amp;nbsp;&lt;span style=\"color: #0B3142\"&gt;1-(2-bromo-1,3-thiazol-5-yl)-2,2-difluoroethanone (?, .181 mmol)&lt;/span&gt; &amp;nbsp;and&amp;nbsp;&lt;span style=\"color: #0B3142\"&gt;N-(1-methylsulfonylpiperidin-4-yl)-5-(trifluoromethyl)-4-trimethylstannylpyrimidin-2-amine (?, .181 mmol)&lt;/span&gt; &amp;nbsp;in&amp;nbsp;&lt;span style=\"color: #53DD6C\"&gt;1,4-Dioxane (1.5 mL)&lt;/span&gt; &amp;nbsp;was added&amp;nbsp;&lt;span style=\"color: #0B3142\"&gt;bis(triphenylphosphine)palladium(II) dichloride (?, .036 mmol)&lt;/span&gt; &amp;nbsp;,&amp;nbsp;&lt;span style=\"color: #0B3142\"&gt;copper(I) iodide (?, .036 mmol)&lt;/span&gt; &amp;nbsp;and&amp;nbsp;&lt;span style=\"color: #0B3142\"&gt;Lithium Chloride (?, .542 mmol)&lt;/span&gt; . The reaction mixture was bubbled with N2 for 1min and stirred at&amp;nbsp;&lt;span style=\"color: #EB5E28\"&gt;100 °C&lt;/span&gt; for 3h. LCMS showed the SM was consumed. The reaciton was quencehd with KF solution and stirred at rt for 1h. The solution was filtered and concentrated under reduced pressure.&amp;nbsp;The residue was purified by prep-HPLC on a C18 column eluting with MeCN/H2O (20-60%) with 0.1% TFA to yield&amp;nbsp;&lt;span style=\"color: #6A7FDB\"&gt;2,2-difluoro-1-[2-[2-[(1-methylsulfonylpiperidin-4-yl)amino]-5-(trifluoromethyl)pyrimidin-4-yl]-1,3-thiazol-5-yl]ethanone (22 mg, .045 mmol, 25.087% yield)&lt;/span&gt;&amp;nbsp;&lt;/span&gt;&lt;/p&gt;</td>\n",
       "    </tr>\n",
       "    <tr>\n",
       "      <th>2</th>\n",
       "      <td>3</td>\n",
       "      <td>2022-09-11</td>\n",
       "      <td>206974</td>\n",
       "      <td>4</td>\n",
       "      <td>9</td>\n",
       "      <td>uid 5</td>\n",
       "      <td>reactant volume or quant</td>\n",
       "      <td>{REACTANT_NAME} ({QUANT}, {MMOL} mmol)</td>\n",
       "      <td>None</td>\n",
       "      <td>8</td>\n",
       "      <td>2022-09-11</td>\n",
       "      <td>9</td>\n",
       "      <td>uid 5</td>\n",
       "      <td>reactant volume or quant</td>\n",
       "      <td>{REACTANT_NAME} ({QUANT}, {MMOL} mmol)</td>\n",
       "      <td>None</td>\n",
       "      <td>8</td>\n",
       "      <td>2022-09-11</td>\n",
       "      <td>9</td>\n",
       "      <td>uid 5</td>\n",
       "      <td>reactant volume or quant</td>\n",
       "      <td>{REACTANT_NAME} ({QUANT}, {MMOL} mmol)</td>\n",
       "      <td>None</td>\n",
       "    </tr>\n",
       "    <tr>\n",
       "      <th>3</th>\n",
       "      <td>4</td>\n",
       "      <td>2022-09-11</td>\n",
       "      <td>206974</td>\n",
       "      <td>6</td>\n",
       "      <td>9</td>\n",
       "      <td>uid 3</td>\n",
       "      <td>reactant volume or quant</td>\n",
       "      <td>{REACTANT_NAME} ({QUANT}, {MMOL} mmol)</td>\n",
       "      <td>None</td>\n",
       "      <td>6</td>\n",
       "      <td>2022-09-11</td>\n",
       "      <td>9</td>\n",
       "      <td>uid 3</td>\n",
       "      <td>reactant volume or quant</td>\n",
       "      <td>{REACTANT_NAME} ({QUANT}, {MMOL} mmol)</td>\n",
       "      <td>None</td>\n",
       "      <td>6</td>\n",
       "      <td>2022-09-11</td>\n",
       "      <td>9</td>\n",
       "      <td>uid 3</td>\n",
       "      <td>reactant volume or quant</td>\n",
       "      <td>{REACTANT_NAME} ({QUANT}, {MMOL} mmol)</td>\n",
       "      <td>None</td>\n",
       "    </tr>\n",
       "    <tr>\n",
       "      <th>4</th>\n",
       "      <td>5</td>\n",
       "      <td>2022-09-11</td>\n",
       "      <td>206974</td>\n",
       "      <td>2</td>\n",
       "      <td>9</td>\n",
       "      <td>uid 1</td>\n",
       "      <td>reactant volume or quant</td>\n",
       "      <td>{REACTANT_NAME} ({QUANT}, {MMOL} mmol)</td>\n",
       "      <td>None</td>\n",
       "      <td>4</td>\n",
       "      <td>2022-09-11</td>\n",
       "      <td>9</td>\n",
       "      <td>uid 1</td>\n",
       "      <td>reactant volume or quant</td>\n",
       "      <td>{REACTANT_NAME} ({QUANT}, {MMOL} mmol)</td>\n",
       "      <td>None</td>\n",
       "      <td>4</td>\n",
       "      <td>2022-09-11</td>\n",
       "      <td>9</td>\n",
       "      <td>uid 1</td>\n",
       "      <td>reactant volume or quant</td>\n",
       "      <td>{REACTANT_NAME} ({QUANT}, {MMOL} mmol)</td>\n",
       "      <td>None</td>\n",
       "    </tr>\n",
       "    <tr>\n",
       "      <th>5</th>\n",
       "      <td>6</td>\n",
       "      <td>2022-09-11</td>\n",
       "      <td>206974</td>\n",
       "      <td>8</td>\n",
       "      <td>2</td>\n",
       "      <td>uid 1</td>\n",
       "      <td>product quantity</td>\n",
       "      <td>{PRODUCT_NAME} ({QUANTITY} {QUANTITY_UNITS}, {MMOL} mmol, {YIELD}% yield)</td>\n",
       "      <td>None</td>\n",
       "      <td>1</td>\n",
       "      <td>2022-09-11</td>\n",
       "      <td>2</td>\n",
       "      <td>uid 1</td>\n",
       "      <td>product quantity</td>\n",
       "      <td>{PRODUCT_NAME} ({QUANTITY} {QUANTITY_UNITS}, {MMOL} mmol, {YIELD}% yield)</td>\n",
       "      <td>None</td>\n",
       "      <td>1</td>\n",
       "      <td>2022-09-11</td>\n",
       "      <td>2</td>\n",
       "      <td>uid 1</td>\n",
       "      <td>product quantity</td>\n",
       "      <td>{PRODUCT_NAME} ({QUANTITY} {QUANTITY_UNITS}, {MMOL} mmol, {YIELD}% yield)</td>\n",
       "      <td>None</td>\n",
       "    </tr>\n",
       "    <tr>\n",
       "      <th>6</th>\n",
       "      <td>7</td>\n",
       "      <td>2022-09-11</td>\n",
       "      <td>206974</td>\n",
       "      <td>7</td>\n",
       "      <td>8</td>\n",
       "      <td>row 1</td>\n",
       "      <td>Reaction temp</td>\n",
       "      <td>{REACTION_TEMP} °C</td>\n",
       "      <td>None</td>\n",
       "      <td>3</td>\n",
       "      <td>2022-09-11</td>\n",
       "      <td>8</td>\n",
       "      <td>row 1</td>\n",
       "      <td>Reaction temp</td>\n",
       "      <td>{REACTION_TEMP} °C</td>\n",
       "      <td>None</td>\n",
       "      <td>3</td>\n",
       "      <td>2022-09-11</td>\n",
       "      <td>8</td>\n",
       "      <td>row 1</td>\n",
       "      <td>Reaction temp</td>\n",
       "      <td>{REACTION_TEMP} °C</td>\n",
       "      <td>None</td>\n",
       "    </tr>\n",
       "    <tr>\n",
       "      <th>7</th>\n",
       "      <td>8</td>\n",
       "      <td>2022-09-11</td>\n",
       "      <td>206974</td>\n",
       "      <td>5</td>\n",
       "      <td>9</td>\n",
       "      <td>uid 4</td>\n",
       "      <td>reactant volume or quant</td>\n",
       "      <td>{REACTANT_NAME} ({QUANT}, {MMOL} mmol)</td>\n",
       "      <td>None</td>\n",
       "      <td>7</td>\n",
       "      <td>2022-09-11</td>\n",
       "      <td>9</td>\n",
       "      <td>uid 4</td>\n",
       "      <td>reactant volume or quant</td>\n",
       "      <td>{REACTANT_NAME} ({QUANT}, {MMOL} mmol)</td>\n",
       "      <td>None</td>\n",
       "      <td>7</td>\n",
       "      <td>2022-09-11</td>\n",
       "      <td>9</td>\n",
       "      <td>uid 4</td>\n",
       "      <td>reactant volume or quant</td>\n",
       "      <td>{REACTANT_NAME} ({QUANT}, {MMOL} mmol)</td>\n",
       "      <td>None</td>\n",
       "    </tr>\n",
       "  </tbody>\n",
       "</table>\n",
       "</div>"
      ],
      "text/plain": [
       "   id_u6 entry_date_u6 experiment_id  match_position mask_id_u6 unique_id_u6  \\\n",
       "0      1    2022-09-11        206974               3          3     uid 4450   \n",
       "1      2    2022-09-11        206974               1          9        uid 2   \n",
       "2      3    2022-09-11        206974               4          9        uid 5   \n",
       "3      4    2022-09-11        206974               6          9        uid 3   \n",
       "4      5    2022-09-11        206974               2          9        uid 1   \n",
       "5      6    2022-09-11        206974               8          2        uid 1   \n",
       "6      7    2022-09-11        206974               7          8        row 1   \n",
       "7      8    2022-09-11        206974               5          9        uid 4   \n",
       "\n",
       "              mask_title_u6  \\\n",
       "0            solvent volume   \n",
       "1  reactant volume or quant   \n",
       "2  reactant volume or quant   \n",
       "3  reactant volume or quant   \n",
       "4  reactant volume or quant   \n",
       "5          product quantity   \n",
       "6             Reaction temp   \n",
       "7  reactant volume or quant   \n",
       "\n",
       "                                                                mask_text_u6  \\\n",
       "0                                   {SOLVENT_NAME} ({VOLUME} {VOLUME_UNITS})   \n",
       "1                                     {REACTANT_NAME} ({QUANT}, {MMOL} mmol)   \n",
       "2                                     {REACTANT_NAME} ({QUANT}, {MMOL} mmol)   \n",
       "3                                     {REACTANT_NAME} ({QUANT}, {MMOL} mmol)   \n",
       "4                                     {REACTANT_NAME} ({QUANT}, {MMOL} mmol)   \n",
       "5  {PRODUCT_NAME} ({QUANTITY} {QUANTITY_UNITS}, {MMOL} mmol, {YIELD}% yield)   \n",
       "6                                                         {REACTION_TEMP} °C   \n",
       "7                                     {REACTANT_NAME} ({QUANT}, {MMOL} mmol)   \n",
       "\n",
       "                                                                                                                                                                                                                                                                                                                                                                                                                                                                                                                                                                                                                                                                                                                                                                                                                                                                                                                                                                                                                                                                                                                                                                                                                                                                                                                               write_up_u6  \\\n",
       "0                                                                                                                                                                                                                                                                                                                                                                                                                                                                                                                                                                                                                                                                                                                                                                                                                                                                                                                                                                                                                                                                                                                                                                                                                                                                                                                                     None   \n",
       "1  <p><span style=\"font-size: 12pt;\">To a solution of&nbsp;<span style=\"color: #0B3142\">1-(2-bromo-1,3-thiazol-5-yl)-2,2-difluoroethanone (?, .181 mmol)</span> &nbsp;and&nbsp;<span style=\"color: #0B3142\">N-(1-methylsulfonylpiperidin-4-yl)-5-(trifluoromethyl)-4-trimethylstannylpyrimidin-2-amine (?, .181 mmol)</span> &nbsp;in&nbsp;<span style=\"color: #53DD6C\">1,4-Dioxane (1.5 mL)</span> &nbsp;was added&nbsp;<span style=\"color: #0B3142\">bis(triphenylphosphine)palladium(II) dichloride (?, .036 mmol)</span> &nbsp;,&nbsp;<span style=\"color: #0B3142\">copper(I) iodide (?, .036 mmol)</span> &nbsp;and&nbsp;<span style=\"color: #0B3142\">Lithium Chloride (?, .542 mmol)</span> . The reaction mixture was bubbled with N2 for 1min and stirred at&nbsp;<span style=\"color: #EB5E28\">100 °C</span> for 3h. LCMS showed the SM was consumed. The reaciton was quencehd with KF solution and stirred at rt for 1h. The solution was filtered and concentrated under reduced pressure.&nbsp;The residue was purified by prep-HPLC on a C18 column eluting with MeCN/H2O (20-60%) with 0.1% TFA to yield&nbsp;<span style=\"color: #6A7FDB\">2,2-difluoro-1-[2-[2-[(1-methylsulfonylpiperidin-4-yl)amino]-5-(trifluoromethyl)pyrimidin-4-yl]-1,3-thiazol-5-yl]ethanone (22 mg, .045 mmol, 25.087% yield)</span>&nbsp;</span></p>   \n",
       "2                                                                                                                                                                                                                                                                                                                                                                                                                                                                                                                                                                                                                                                                                                                                                                                                                                                                                                                                                                                                                                                                                                                                                                                                                                                                                                                                     None   \n",
       "3                                                                                                                                                                                                                                                                                                                                                                                                                                                                                                                                                                                                                                                                                                                                                                                                                                                                                                                                                                                                                                                                                                                                                                                                                                                                                                                                     None   \n",
       "4                                                                                                                                                                                                                                                                                                                                                                                                                                                                                                                                                                                                                                                                                                                                                                                                                                                                                                                                                                                                                                                                                                                                                                                                                                                                                                                                     None   \n",
       "5                                                                                                                                                                                                                                                                                                                                                                                                                                                                                                                                                                                                                                                                                                                                                                                                                                                                                                                                                                                                                                                                                                                                                                                                                                                                                                                                     None   \n",
       "6                                                                                                                                                                                                                                                                                                                                                                                                                                                                                                                                                                                                                                                                                                                                                                                                                                                                                                                                                                                                                                                                                                                                                                                                                                                                                                                                     None   \n",
       "7                                                                                                                                                                                                                                                                                                                                                                                                                                                                                                                                                                                                                                                                                                                                                                                                                                                                                                                                                                                                                                                                                                                                                                                                                                                                                                                                     None   \n",
       "\n",
       "   id_dev entry_date_dev mask_id_dev unique_id_dev            mask_title_dev  \\\n",
       "0       2     2022-09-11           3      uid 4450            solvent volume   \n",
       "1       5     2022-09-11           9         uid 2  reactant volume or quant   \n",
       "2       8     2022-09-11           9         uid 5  reactant volume or quant   \n",
       "3       6     2022-09-11           9         uid 3  reactant volume or quant   \n",
       "4       4     2022-09-11           9         uid 1  reactant volume or quant   \n",
       "5       1     2022-09-11           2         uid 1          product quantity   \n",
       "6       3     2022-09-11           8         row 1             Reaction temp   \n",
       "7       7     2022-09-11           9         uid 4  reactant volume or quant   \n",
       "\n",
       "                                                               mask_text_dev  \\\n",
       "0                                   {SOLVENT_NAME} ({VOLUME} {VOLUME_UNITS})   \n",
       "1                                     {REACTANT_NAME} ({QUANT}, {MMOL} mmol)   \n",
       "2                                     {REACTANT_NAME} ({QUANT}, {MMOL} mmol)   \n",
       "3                                     {REACTANT_NAME} ({QUANT}, {MMOL} mmol)   \n",
       "4                                     {REACTANT_NAME} ({QUANT}, {MMOL} mmol)   \n",
       "5  {PRODUCT_NAME} ({QUANTITY} {QUANTITY_UNITS}, {MMOL} mmol, {YIELD}% yield)   \n",
       "6                                                         {REACTION_TEMP} °C   \n",
       "7                                     {REACTANT_NAME} ({QUANT}, {MMOL} mmol)   \n",
       "\n",
       "                                                                                                                                                                                                                                                                                                                                                                                                                                                                                                                                                                                                                                                                                                                                                                                                                                                                                                                                                                                                                                                                                                                                                                                                                                                                                                                              write_up_dev  \\\n",
       "0                                                                                                                                                                                                                                                                                                                                                                                                                                                                                                                                                                                                                                                                                                                                                                                                                                                                                                                                                                                                                                                                                                                                                                                                                                                                                                                                     None   \n",
       "1  <p><span style=\"font-size: 12pt;\">To a solution of&nbsp;<span style=\"color: #0B3142\">1-(2-bromo-1,3-thiazol-5-yl)-2,2-difluoroethanone (?, .181 mmol)</span> &nbsp;and&nbsp;<span style=\"color: #0B3142\">N-(1-methylsulfonylpiperidin-4-yl)-5-(trifluoromethyl)-4-trimethylstannylpyrimidin-2-amine (?, .181 mmol)</span> &nbsp;in&nbsp;<span style=\"color: #53DD6C\">1,4-Dioxane (1.5 mL)</span> &nbsp;was added&nbsp;<span style=\"color: #0B3142\">bis(triphenylphosphine)palladium(II) dichloride (?, .036 mmol)</span> &nbsp;,&nbsp;<span style=\"color: #0B3142\">copper(I) iodide (?, .036 mmol)</span> &nbsp;and&nbsp;<span style=\"color: #0B3142\">Lithium Chloride (?, .542 mmol)</span> . The reaction mixture was bubbled with N2 for 1min and stirred at&nbsp;<span style=\"color: #EB5E28\">100 °C</span> for 3h. LCMS showed the SM was consumed. The reaciton was quencehd with KF solution and stirred at rt for 1h. The solution was filtered and concentrated under reduced pressure.&nbsp;The residue was purified by prep-HPLC on a C18 column eluting with MeCN/H2O (20-60%) with 0.1% TFA to yield&nbsp;<span style=\"color: #6A7FDB\">2,2-difluoro-1-[2-[2-[(1-methylsulfonylpiperidin-4-yl)amino]-5-(trifluoromethyl)pyrimidin-4-yl]-1,3-thiazol-5-yl]ethanone (22 mg, .045 mmol, 25.087% yield)</span>&nbsp;</span></p>   \n",
       "2                                                                                                                                                                                                                                                                                                                                                                                                                                                                                                                                                                                                                                                                                                                                                                                                                                                                                                                                                                                                                                                                                                                                                                                                                                                                                                                                     None   \n",
       "3                                                                                                                                                                                                                                                                                                                                                                                                                                                                                                                                                                                                                                                                                                                                                                                                                                                                                                                                                                                                                                                                                                                                                                                                                                                                                                                                     None   \n",
       "4                                                                                                                                                                                                                                                                                                                                                                                                                                                                                                                                                                                                                                                                                                                                                                                                                                                                                                                                                                                                                                                                                                                                                                                                                                                                                                                                     None   \n",
       "5                                                                                                                                                                                                                                                                                                                                                                                                                                                                                                                                                                                                                                                                                                                                                                                                                                                                                                                                                                                                                                                                                                                                                                                                                                                                                                                                     None   \n",
       "6                                                                                                                                                                                                                                                                                                                                                                                                                                                                                                                                                                                                                                                                                                                                                                                                                                                                                                                                                                                                                                                                                                                                                                                                                                                                                                                                     None   \n",
       "7                                                                                                                                                                                                                                                                                                                                                                                                                                                                                                                                                                                                                                                                                                                                                                                                                                                                                                                                                                                                                                                                                                                                                                                                                                                                                                                                     None   \n",
       "\n",
       "   id_prod entry_date_prod mask_id_prod unique_id_prod  \\\n",
       "0        2      2022-09-11            3       uid 4450   \n",
       "1        5      2022-09-11            9          uid 2   \n",
       "2        8      2022-09-11            9          uid 5   \n",
       "3        6      2022-09-11            9          uid 3   \n",
       "4        4      2022-09-11            9          uid 1   \n",
       "5        1      2022-09-11            2          uid 1   \n",
       "6        3      2022-09-11            8          row 1   \n",
       "7        7      2022-09-11            9          uid 4   \n",
       "\n",
       "            mask_title_prod  \\\n",
       "0            solvent volume   \n",
       "1  reactant volume or quant   \n",
       "2  reactant volume or quant   \n",
       "3  reactant volume or quant   \n",
       "4  reactant volume or quant   \n",
       "5          product quantity   \n",
       "6             Reaction temp   \n",
       "7  reactant volume or quant   \n",
       "\n",
       "                                                              mask_text_prod  \\\n",
       "0                                   {SOLVENT_NAME} ({VOLUME} {VOLUME_UNITS})   \n",
       "1                                     {REACTANT_NAME} ({QUANT}, {MMOL} mmol)   \n",
       "2                                     {REACTANT_NAME} ({QUANT}, {MMOL} mmol)   \n",
       "3                                     {REACTANT_NAME} ({QUANT}, {MMOL} mmol)   \n",
       "4                                     {REACTANT_NAME} ({QUANT}, {MMOL} mmol)   \n",
       "5  {PRODUCT_NAME} ({QUANTITY} {QUANTITY_UNITS}, {MMOL} mmol, {YIELD}% yield)   \n",
       "6                                                         {REACTION_TEMP} °C   \n",
       "7                                     {REACTANT_NAME} ({QUANT}, {MMOL} mmol)   \n",
       "\n",
       "                                                                                                                                                                                                                                                                                                                                                                                                                                                                                                                                                                                                                                                                                                                                                                                                                                                                                                                                                                                                                                                                                                                                                                                                                                                                                                                             write_up_prod  \n",
       "0                                                                                                                                                                                                                                                                                                                                                                                                                                                                                                                                                                                                                                                                                                                                                                                                                                                                                                                                                                                                                                                                                                                                                                                                                                                                                                                                     None  \n",
       "1  <p><span style=\"font-size: 12pt;\">To a solution of&nbsp;<span style=\"color: #0B3142\">1-(2-bromo-1,3-thiazol-5-yl)-2,2-difluoroethanone (?, .181 mmol)</span> &nbsp;and&nbsp;<span style=\"color: #0B3142\">N-(1-methylsulfonylpiperidin-4-yl)-5-(trifluoromethyl)-4-trimethylstannylpyrimidin-2-amine (?, .181 mmol)</span> &nbsp;in&nbsp;<span style=\"color: #53DD6C\">1,4-Dioxane (1.5 mL)</span> &nbsp;was added&nbsp;<span style=\"color: #0B3142\">bis(triphenylphosphine)palladium(II) dichloride (?, .036 mmol)</span> &nbsp;,&nbsp;<span style=\"color: #0B3142\">copper(I) iodide (?, .036 mmol)</span> &nbsp;and&nbsp;<span style=\"color: #0B3142\">Lithium Chloride (?, .542 mmol)</span> . The reaction mixture was bubbled with N2 for 1min and stirred at&nbsp;<span style=\"color: #EB5E28\">100 °C</span> for 3h. LCMS showed the SM was consumed. The reaciton was quencehd with KF solution and stirred at rt for 1h. The solution was filtered and concentrated under reduced pressure.&nbsp;The residue was purified by prep-HPLC on a C18 column eluting with MeCN/H2O (20-60%) with 0.1% TFA to yield&nbsp;<span style=\"color: #6A7FDB\">2,2-difluoro-1-[2-[2-[(1-methylsulfonylpiperidin-4-yl)amino]-5-(trifluoromethyl)pyrimidin-4-yl]-1,3-thiazol-5-yl]ethanone (22 mg, .045 mmol, 25.087% yield)</span>&nbsp;</span></p>  \n",
       "2                                                                                                                                                                                                                                                                                                                                                                                                                                                                                                                                                                                                                                                                                                                                                                                                                                                                                                                                                                                                                                                                                                                                                                                                                                                                                                                                     None  \n",
       "3                                                                                                                                                                                                                                                                                                                                                                                                                                                                                                                                                                                                                                                                                                                                                                                                                                                                                                                                                                                                                                                                                                                                                                                                                                                                                                                                     None  \n",
       "4                                                                                                                                                                                                                                                                                                                                                                                                                                                                                                                                                                                                                                                                                                                                                                                                                                                                                                                                                                                                                                                                                                                                                                                                                                                                                                                                     None  \n",
       "5                                                                                                                                                                                                                                                                                                                                                                                                                                                                                                                                                                                                                                                                                                                                                                                                                                                                                                                                                                                                                                                                                                                                                                                                                                                                                                                                     None  \n",
       "6                                                                                                                                                                                                                                                                                                                                                                                                                                                                                                                                                                                                                                                                                                                                                                                                                                                                                                                                                                                                                                                                                                                                                                                                                                                                                                                                     None  \n",
       "7                                                                                                                                                                                                                                                                                                                                                                                                                                                                                                                                                                                                                                                                                                                                                                                                                                                                                                                                                                                                                                                                                                                                                                                                                                                                                                                                     None  "
      ]
     },
     "execution_count": 130,
     "metadata": {},
     "output_type": "execute_result"
    }
   ],
   "source": [
    "# merged_df[(merged_df['experiment_id'] == '206974') ]"
   ]
  },
  {
   "cell_type": "code",
   "execution_count": 35,
   "id": "5480736c-4b68-4eaf-82d9-bd5242262feb",
   "metadata": {},
   "outputs": [
    {
     "data": {
      "text/html": [
       "<div>\n",
       "<style scoped>\n",
       "    .dataframe tbody tr th:only-of-type {\n",
       "        vertical-align: middle;\n",
       "    }\n",
       "\n",
       "    .dataframe tbody tr th {\n",
       "        vertical-align: top;\n",
       "    }\n",
       "\n",
       "    .dataframe thead th {\n",
       "        text-align: right;\n",
       "    }\n",
       "</style>\n",
       "<table border=\"1\" class=\"dataframe\">\n",
       "  <thead>\n",
       "    <tr style=\"text-align: right;\">\n",
       "      <th></th>\n",
       "      <th>entry_date_u6</th>\n",
       "      <th>experiment_id</th>\n",
       "      <th>match_position</th>\n",
       "      <th>mask_id_u6</th>\n",
       "      <th>unique_id_u6</th>\n",
       "      <th>mask_title_u6</th>\n",
       "      <th>mask_text_u6</th>\n",
       "      <th>mask_id_dev</th>\n",
       "      <th>unique_id_dev</th>\n",
       "      <th>mask_title_dev</th>\n",
       "      <th>mask_text_dev</th>\n",
       "      <th>mask_id_prod</th>\n",
       "      <th>unique_id_prod</th>\n",
       "      <th>mask_title_prod</th>\n",
       "      <th>mask_text_prod</th>\n",
       "    </tr>\n",
       "  </thead>\n",
       "  <tbody>\n",
       "    <tr>\n",
       "      <th>649</th>\n",
       "      <td>2022-09-16</td>\n",
       "      <td>207225</td>\n",
       "      <td>3</td>\n",
       "      <td>8</td>\n",
       "      <td>row 1</td>\n",
       "      <td>Reaction temp</td>\n",
       "      <td>{REACTION_TEMP} °C</td>\n",
       "      <td>3</td>\n",
       "      <td>uid 5499</td>\n",
       "      <td>solvent volume</td>\n",
       "      <td>{SOLVENT_NAME} ({VOLUME} {VOLUME_UNITS})</td>\n",
       "      <td>8</td>\n",
       "      <td>row 1</td>\n",
       "      <td>Reaction temp</td>\n",
       "      <td>{REACTION_TEMP} °C</td>\n",
       "    </tr>\n",
       "    <tr>\n",
       "      <th>650</th>\n",
       "      <td>2022-09-16</td>\n",
       "      <td>207225</td>\n",
       "      <td>4</td>\n",
       "      <td>9</td>\n",
       "      <td>uid 1</td>\n",
       "      <td>reactant volume or quant</td>\n",
       "      <td>{REACTANT_NAME} ({QUANT}, {MMOL} mmol)</td>\n",
       "      <td>1071</td>\n",
       "      <td>uid 5500</td>\n",
       "      <td>solvent volume ELN</td>\n",
       "      <td>{SOLVENT_NAME}​​({VOLUME}​{VOLUME_UNITS})​</td>\n",
       "      <td>9</td>\n",
       "      <td>uid 1</td>\n",
       "      <td>reactant volume or quant</td>\n",
       "      <td>{REACTANT_NAME} ({QUANT}, {MMOL} mmol)</td>\n",
       "    </tr>\n",
       "    <tr>\n",
       "      <th>651</th>\n",
       "      <td>2022-09-16</td>\n",
       "      <td>207225</td>\n",
       "      <td>1</td>\n",
       "      <td>9</td>\n",
       "      <td>uid 2</td>\n",
       "      <td>reactant volume or quant</td>\n",
       "      <td>{REACTANT_NAME} ({QUANT}, {MMOL} mmol)</td>\n",
       "      <td>1082</td>\n",
       "      <td>uid 1</td>\n",
       "      <td>Reactant volume or quant Test 1</td>\n",
       "      <td>{REACTANT_NAME} (​{QUANT}, ​{MMOL} mmol)​</td>\n",
       "      <td>9</td>\n",
       "      <td>uid 2</td>\n",
       "      <td>reactant volume or quant</td>\n",
       "      <td>{REACTANT_NAME} ({QUANT}, {MMOL} mmol)</td>\n",
       "    </tr>\n",
       "    <tr>\n",
       "      <th>652</th>\n",
       "      <td>2022-09-16</td>\n",
       "      <td>207225</td>\n",
       "      <td>2</td>\n",
       "      <td>9</td>\n",
       "      <td>uid 3</td>\n",
       "      <td>reactant volume or quant</td>\n",
       "      <td>{REACTANT_NAME} ({QUANT}, {MMOL} mmol)</td>\n",
       "      <td>1082</td>\n",
       "      <td>uid 2</td>\n",
       "      <td>Reactant volume or quant Test 1</td>\n",
       "      <td>{REACTANT_NAME} (​{QUANT}, ​{MMOL} mmol)​</td>\n",
       "      <td>9</td>\n",
       "      <td>uid 3</td>\n",
       "      <td>reactant volume or quant</td>\n",
       "      <td>{REACTANT_NAME} ({QUANT}, {MMOL} mmol)</td>\n",
       "    </tr>\n",
       "  </tbody>\n",
       "</table>\n",
       "</div>"
      ],
      "text/plain": [
       "    entry_date_u6 experiment_id  match_position mask_id_u6 unique_id_u6  \\\n",
       "649    2022-09-16        207225               3          8        row 1   \n",
       "650    2022-09-16        207225               4          9        uid 1   \n",
       "651    2022-09-16        207225               1          9        uid 2   \n",
       "652    2022-09-16        207225               2          9        uid 3   \n",
       "\n",
       "                mask_title_u6                            mask_text_u6  \\\n",
       "649             Reaction temp                      {REACTION_TEMP} °C   \n",
       "650  reactant volume or quant  {REACTANT_NAME} ({QUANT}, {MMOL} mmol)   \n",
       "651  reactant volume or quant  {REACTANT_NAME} ({QUANT}, {MMOL} mmol)   \n",
       "652  reactant volume or quant  {REACTANT_NAME} ({QUANT}, {MMOL} mmol)   \n",
       "\n",
       "    mask_id_dev unique_id_dev                   mask_title_dev  \\\n",
       "649           3      uid 5499                   solvent volume   \n",
       "650        1071      uid 5500               solvent volume ELN   \n",
       "651        1082         uid 1  Reactant volume or quant Test 1   \n",
       "652        1082         uid 2  Reactant volume or quant Test 1   \n",
       "\n",
       "                                  mask_text_dev mask_id_prod unique_id_prod  \\\n",
       "649    {SOLVENT_NAME} ({VOLUME} {VOLUME_UNITS})            8          row 1   \n",
       "650  {SOLVENT_NAME}​​({VOLUME}​{VOLUME_UNITS})​            9          uid 1   \n",
       "651   {REACTANT_NAME} (​{QUANT}, ​{MMOL} mmol)​            9          uid 2   \n",
       "652   {REACTANT_NAME} (​{QUANT}, ​{MMOL} mmol)​            9          uid 3   \n",
       "\n",
       "              mask_title_prod                          mask_text_prod  \n",
       "649             Reaction temp                      {REACTION_TEMP} °C  \n",
       "650  reactant volume or quant  {REACTANT_NAME} ({QUANT}, {MMOL} mmol)  \n",
       "651  reactant volume or quant  {REACTANT_NAME} ({QUANT}, {MMOL} mmol)  \n",
       "652  reactant volume or quant  {REACTANT_NAME} ({QUANT}, {MMOL} mmol)  "
      ]
     },
     "execution_count": 35,
     "metadata": {},
     "output_type": "execute_result"
    }
   ],
   "source": [
    "merged_df[(merged_df['experiment_id'] == '207225')][['entry_date_u6', 'experiment_id', 'match_position', 'mask_id_u6', 'unique_id_u6', 'mask_title_u6', 'mask_text_u6', 'mask_id_dev', 'unique_id_dev', 'mask_title_dev', 'mask_text_dev', 'mask_id_prod', 'unique_id_prod', 'mask_title_prod', 'mask_text_prod']]\n"
   ]
  },
  {
   "cell_type": "code",
   "execution_count": 25,
   "id": "c6d9a5c1-3c76-4662-be7b-1c4eda8aff16",
   "metadata": {},
   "outputs": [
    {
     "name": "stdin",
     "output_type": "stream",
     "text": [
      "Enter chunk size (integer) or a list of experiment IDs (comma-separated):  207423,207424,207425,207426,207427,207428,207429,207430,207431,207432,207433,207435,207442,207443,207447,207449,207454,207464,207465,215088,215187\n"
     ]
    },
    {
     "data": {
      "text/html": [
       "<strong>Filter mode: Selected experiment IDs: ['207423', '207424', '207425', '207426', '207427', '207428', '207429', '207430', '207431', '207432', '207433', '207435', '207442', '207443', '207447', '207449', '207454', '207464', '207465', '215088', '215187']</strong>"
      ],
      "text/plain": [
       "<IPython.core.display.HTML object>"
      ]
     },
     "metadata": {},
     "output_type": "display_data"
    }
   ],
   "source": [
    "# Get user input for chunk size\n",
    "try:\n",
    "    user_input = input(\"Enter chunk size (integer) or a list of experiment IDs (comma-separated): \").strip()\n",
    "    if \",\" in user_input:\n",
    "        experiment_ids = [x.strip() for x in user_input.split(\",\") if x.strip().isdigit()]\n",
    "        if not experiment_ids:\n",
    "            raise ValueError(\"No valid experiment IDs provided.\")\n",
    "        user_selection = {\"type\": \"filter\", \"experiment_ids\": experiment_ids}\n",
    "    elif user_input.isdigit():\n",
    "        chunk_size = int(user_input)\n",
    "        user_selection = {\"type\": \"pagination\", \"chunk_size\": chunk_size, \"offset\": 0}\n",
    "    else:\n",
    "        raise ValueError(\"Input must be a positive integer or a comma-separated list of integers.\")\n",
    "except ValueError as e:\n",
    "    display(HTML(f\"<strong style='color: red;'>Error: {e}</strong>\"))\n",
    "\n",
    "if user_selection[\"type\"] == \"pagination\":\n",
    "    display(HTML(f\"<strong>Pagination mode: Chunk size set to {user_selection['chunk_size']} rows per page.</strong>\"))\n",
    "    if \"pagination_state\" not in globals():\n",
    "        pagination_state = {\"offset\": user_selection[\"offset\"], \"chunk_size\": user_selection[\"chunk_size\"]}\n",
    "    else:\n",
    "        pagination_state[\"chunk_size\"] = user_selection[\"chunk_size\"]\n",
    "        pagination_state[\"offset\"] = 0\n",
    "elif user_selection[\"type\"] == \"filter\":\n",
    "    display(HTML(f\"<strong>Filter mode: Selected experiment IDs: {user_selection['experiment_ids']}</strong>\"))\n",
    "    offset = 0"
   ]
  },
  {
   "cell_type": "code",
   "execution_count": 30,
   "id": "ad6bd94c-4fac-4677-832b-26c0f114915b",
   "metadata": {},
   "outputs": [
    {
     "data": {
      "text/html": [
       "\n",
       "    <div style=\"border: 1px solid #ccc; margin: 10px 0; padding: 10px; background-color: #f9f9f9;\">\n",
       "        <strong>ExpID Group: 1 - DEV</strong>\n",
       "        <div style=\"margin-top: 5px;\">\n",
       "            <em><strong>Experiment ID: </strong>215187</em>\n",
       "        </div>\n",
       "        <div style=\"margin-top: 5px;\">\n",
       "            <em><strong>Entry Date: </strong>2022-11-11</em>\n",
       "        </div>        \n",
       "        <div style=\"border-top: 1px dashed #999; margin-top: 10px; padding-top: 10px\">\n",
       "            <span style=\"font-size: 18px !important;\"><p>Standard Controls Apply: Lab coats, gloves and safety specs are to be worn at all times. All experiments should be performed in a fumehood.<span style=\"color: #12516E\">2-chloronaphthalene​(100​,.615  mmol)​</span> &nbsp;The reaction was concentrated to dryness and the residue was taken up in EtOAc ( ml) and the organics washed with 2 x ml water then 1 x ml saturated brine solution. The organics were then separated and dried (MgSO4) before concentration to dryness. The crude was then purified by flash column chromatography eluting %EtOAc in Isohexane. The desired fractions were concentrated to dryness in vacuo.<span style=\"color: #6A7FDB\">2-chloro-3-fluoronaphthalene​C10H6ClF​mmol​</span> .&nbsp;<span style=\"color: #12516E\">2-chloronaphthalene​(100​,.615  mmol)​</span> &nbsp;<span style=\"color: #12516E\">2-chloronaphthalene​(100​,.615  mmol)​</span> &nbsp;<span style=\"color: #12516E\">fluorane​(12.3​,.615  mmol)​</span> &nbsp;<span style=\"color: #12516E\">fluorane​(12.3​,.615  mmol)​</span> &nbsp;<span style=\"color: #6A7FDB\">2-chloro-3-fluoronaphthalene​(23​mg​,.127​ mmol,20.709 %Yield)​</span> &nbsp;<span style=\"color: #6A7FDB\">2-chloro-3-fluoronaphthalene​C10H6ClF​mmol​</span>&nbsp; &nbsp;temperature</p></span>\n",
       "        </div>\n",
       "    </div>\n",
       "    "
      ],
      "text/plain": [
       "<IPython.core.display.HTML object>"
      ]
     },
     "metadata": {},
     "output_type": "display_data"
    },
    {
     "data": {
      "text/html": [
       "\n",
       "    <div style=\"border: 1px solid #ccc; margin: 10px 0; padding: 10px; background-color: #f9f9f9;\">\n",
       "        <strong>ExpID Group: 1 - U6</strong>\n",
       "        <div style=\"margin-top: 5px;\">\n",
       "            <em><strong>Experiment ID: </strong>215187</em>\n",
       "        </div>\n",
       "        <div style=\"margin-top: 5px;\">\n",
       "            <em><strong>Entry Date: </strong>2022-11-11</em>\n",
       "        </div>        \n",
       "        <div style=\"border-top: 1px dashed #999; margin-top: 10px; padding-top: 10px\">\n",
       "            <span style=\"font-size: 18px !important;\"><p>To a solution of&nbsp;<span style=\"color: #12516E\">2-(7-azabicyclo[2.2.1]heptan-7-yl)-8-(1-ethoxyethenyl)-3,6-dimethylquinazolin-4-one (114.32, .293 mmol)</span> &nbsp;in&nbsp;<span style=\"color: #53DD6C\">THF (20 mL)</span> &nbsp;was added&nbsp;<span style=\"color: #12516E\">Hydrochloric\tacid (, .5 mmol)</span> &nbsp;The mixture was stirred at&nbsp;room temperature for&nbsp;30 min before full conversion was observed on LC-MS. The mixture was concentrated under reduced pressure and diluted with water and DCM (20 mL). The aqueous phase was extracted with DCM (3 x 10 mL).&nbsp;The combined organic phase was washed with brine, dried over sodium sulfate and concentrated under reduced pressure to give a crude product, which was&nbsp;purified by flash column chromatography (0-40% EA/Heptane) to afford the title compound&nbsp;<span style=\"color: #6A7FDB\">8-acetyl-2-(7-azabicyclo[2.2.1]heptan-7-yl)-3,6-dimethylquinazolin-4-one (90.5 mg, .291 mmol, 99.195% yield)</span>, a yellow solid.</p> \n",
       "<p>&nbsp;</p> \n",
       "<p>&nbsp;</p></span>\n",
       "        </div>\n",
       "    </div>\n",
       "    "
      ],
      "text/plain": [
       "<IPython.core.display.HTML object>"
      ]
     },
     "metadata": {},
     "output_type": "display_data"
    },
    {
     "data": {
      "text/html": [
       "\n",
       "    <div style=\"border: 1px solid #ccc; margin: 10px 0; padding: 10px; background-color: #f9f9f9;\">\n",
       "        <strong>ExpID Group: 1 - PROD</strong>\n",
       "        <div style=\"margin-top: 5px;\">\n",
       "            <em><strong>Experiment ID: </strong>215187</em>\n",
       "        </div>\n",
       "        <div style=\"margin-top: 5px;\">\n",
       "            <em><strong>Entry Date: </strong>2022-11-11</em>\n",
       "        </div>        \n",
       "        <div style=\"border-top: 1px dashed #999; margin-top: 10px; padding-top: 10px\">\n",
       "            <span style=\"font-size: 18px !important;\"><p>To a solution of&nbsp;<span style=\"color: #12516E\">2-(7-azabicyclo[2.2.1]heptan-7-yl)-8-(1-ethoxyethenyl)-3,6-dimethylquinazolin-4-one (114.32, .293 mmol)</span> &nbsp;in&nbsp;<span style=\"color: #53DD6C\">THF (20 mL)</span> &nbsp;was added&nbsp;<span style=\"color: #12516E\">Hydrochloric\tacid (, .5 mmol)</span> &nbsp;The mixture was stirred at&nbsp;room temperature for&nbsp;30 min before full conversion was observed on LC-MS. The mixture was concentrated under reduced pressure and diluted with water and DCM (20 mL). The aqueous phase was extracted with DCM (3 x 10 mL).&nbsp;The combined organic phase was washed with brine, dried over sodium sulfate and concentrated under reduced pressure to give a crude product, which was&nbsp;purified by flash column chromatography (0-40% EA/Heptane) to afford the title compound&nbsp;<span style=\"color: #6A7FDB\">8-acetyl-2-(7-azabicyclo[2.2.1]heptan-7-yl)-3,6-dimethylquinazolin-4-one (90.5 mg, .291 mmol, 99.195% yield)</span>, a yellow solid.</p> \n",
       "<p>&nbsp;</p> \n",
       "<p>&nbsp;</p></span>\n",
       "        </div>\n",
       "    </div>\n",
       "    "
      ],
      "text/plain": [
       "<IPython.core.display.HTML object>"
      ]
     },
     "metadata": {},
     "output_type": "display_data"
    },
    {
     "data": {
      "text/html": [
       "<hr style=\"border: 2px solid #999; margin: 30px 0; padding: 10px 0;\">"
      ],
      "text/plain": [
       "<IPython.core.display.HTML object>"
      ]
     },
     "metadata": {},
     "output_type": "display_data"
    },
    {
     "data": {
      "text/html": [
       "\n",
       "    <div style=\"border: 1px solid #ccc; margin: 10px 0; padding: 10px; background-color: #f9f9f9;\">\n",
       "        <strong>ExpID Group: 2 - DEV</strong>\n",
       "        <div style=\"margin-top: 5px;\">\n",
       "            <em><strong>Experiment ID: </strong>215088</em>\n",
       "        </div>\n",
       "        <div style=\"margin-top: 5px;\">\n",
       "            <em><strong>Entry Date: </strong>2023-01-06</em>\n",
       "        </div>        \n",
       "        <div style=\"border-top: 1px dashed #999; margin-top: 10px; padding-top: 10px\">\n",
       "            <span style=\"font-size: 18px !important;\"><p>Standard Controls Apply: Lab coats, gloves and safety specs are to be worn at all times. All experiments should be performed in a fumehood.</p>\n",
       "<p>The reaction was concentrated to dryness and the residue was taken up in EtOAc ( ml) and the organics washed with 2 x ml water then 1 x ml saturated brine solution. The organics were then separated and dried (MgSO4) before concentration to dryness. The crude was then purified by flash column chromatography eluting %EtOAc in Isohexane. The desired fractions were concentrated to dryness in vacuo.</p>\n",
       "<p>°C</p>\n",
       "<p><span style=\"color: #6A7FDB\">naphthalene​(2691.57​mg​,21​ mmol,91.304 %Yield)​</span></p>\n",
       "<p><span style=\"color: #12516E\">Benzene​(1796.53​,23  mmol)​</span></p></span>\n",
       "        </div>\n",
       "    </div>\n",
       "    "
      ],
      "text/plain": [
       "<IPython.core.display.HTML object>"
      ]
     },
     "metadata": {},
     "output_type": "display_data"
    },
    {
     "data": {
      "text/html": [
       "\n",
       "    <div style=\"border: 1px solid #ccc; margin: 10px 0; padding: 10px; background-color: #f9f9f9;\">\n",
       "        <strong>ExpID Group: 2 - U6</strong>\n",
       "        <div style=\"margin-top: 5px;\">\n",
       "            <em><strong>Experiment ID: </strong>215088</em>\n",
       "        </div>\n",
       "        <div style=\"margin-top: 5px;\">\n",
       "            <em><strong>Entry Date: </strong>2023-01-06</em>\n",
       "        </div>        \n",
       "        <div style=\"border-top: 1px dashed #999; margin-top: 10px; padding-top: 10px\">\n",
       "            <span style=\"font-size: 18px !important;\"><p><span style=\"font-family: verdana; color: #000000; font-size: 8.0000pt; background: #ffffff;\">To a solution of&nbsp;&nbsp;<span style=\"color: #12516E\">3-[4-[4-(3,3-dimethoxypropyl)piperidin-1-yl]phenyl]-2,6-bis(phenylmethoxy)pyridine (230, .416 mmol)</span> &nbsp;,<span style=\"color: #12516E\">Palladium hydroxide on carbon (259.68, 1.849 mmol)</span> &nbsp;,<span style=\"color: #12516E\">Palladium on carbon (259.68, 2.44 mmol)</span> &nbsp;</span><span style=\"font-family: verdana; color: #000000; font-size: 8.0000pt; background: #ffffff;\">&nbsp;in&nbsp;<span style=\"color: #53DD6C\">THF (6 mL)</span> and stirred at&nbsp;<span style=\"color: #EB5E28\">25 °C</span> &nbsp;</span><span style=\"font-family: verdana; color: #000000; font-size: 8.0000pt; background: #ffffff;\">for 10 hours under<span style=\"color: #12516E\">Hydrogen (, .416 mmol)</span> </span><span style=\"font-family: verdana; color: #000000; font-size: 8.0000pt; background: #ffffff;\">&nbsp;,<span style=\"color: #12516E\">3-[4-[4-(3,3-dimethoxypropyl)piperidin-1-yl]phenyl]-2,6-bis(phenylmethoxy)pyridine (230, .416 mmol)</span> &nbsp;</span><span style=\"font-family: verdana; color: #000000; font-size: 8.0000pt; background: #ffffff;\">&nbsp; was consumed and new spot was detected by LCMS;add&nbsp;100ml DCM to&nbsp;the&nbsp;reaction&nbsp;solution,&nbsp;then &nbsp;the&nbsp;mixture was&nbsp;filtered.the filtrate was&nbsp;dried over sodium sulate,filtered and the filtrate<span style=\"font-family: 宋体; color: #000000; font-size: 8.0000pt; background: #ffffff;\">&nbsp;</span>was<span style=\"font-family: 宋体; color: #000000; font-size: 8.0000pt; background: #ffffff;\">&nbsp;</span>concentreated<span style=\"font-family: 宋体; color: #000000; font-size: 8.0000pt; background: #ffffff;\">&nbsp;</span>under<span style=\"font-family: 宋体; color: #000000; font-size: 8.0000pt; background: #ffffff;\">&nbsp;</span>reduced<span style=\"font-family: 宋体; color: #000000; font-size: 8.0000pt; background: #ffffff;\">&nbsp;</span>pressure by water<span style=\"font-family: 宋体; color: #000000; font-size: 8.0000pt; background: #ffffff;\">&nbsp;</span>pumb to give the desired product&nbsp;<span style=\"color: #6A7FDB\">3-[4-[4-(3,3-dimethoxypropyl)piperidin-1-yl]phenyl]piperidine-2,6-dione (220 mg, .587 mmol, 141.177% yield)</span> &nbsp;&nbsp;as a brown oil.</span></p></span>\n",
       "        </div>\n",
       "    </div>\n",
       "    "
      ],
      "text/plain": [
       "<IPython.core.display.HTML object>"
      ]
     },
     "metadata": {},
     "output_type": "display_data"
    },
    {
     "data": {
      "text/html": [
       "\n",
       "    <div style=\"border: 1px solid #ccc; margin: 10px 0; padding: 10px; background-color: #f9f9f9;\">\n",
       "        <strong>ExpID Group: 2 - PROD</strong>\n",
       "        <div style=\"margin-top: 5px;\">\n",
       "            <em><strong>Experiment ID: </strong>215088</em>\n",
       "        </div>\n",
       "        <div style=\"margin-top: 5px;\">\n",
       "            <em><strong>Entry Date: </strong>2023-01-06</em>\n",
       "        </div>        \n",
       "        <div style=\"border-top: 1px dashed #999; margin-top: 10px; padding-top: 10px\">\n",
       "            <span style=\"font-size: 18px !important;\"><p><span style=\"font-family: verdana; color: #000000; font-size: 8.0000pt; background: #ffffff;\">To a solution of&nbsp;&nbsp;<span style=\"color: #12516E\">3-[4-[4-(3,3-dimethoxypropyl)piperidin-1-yl]phenyl]-2,6-bis(phenylmethoxy)pyridine (230, .416 mmol)</span> &nbsp;,<span style=\"color: #12516E\">Palladium hydroxide on carbon (259.68, 1.849 mmol)</span> &nbsp;,<span style=\"color: #12516E\">Palladium on carbon (259.68, 2.44 mmol)</span> &nbsp;</span><span style=\"font-family: verdana; color: #000000; font-size: 8.0000pt; background: #ffffff;\">&nbsp;in&nbsp;<span style=\"color: #53DD6C\">THF (6 mL)</span> and stirred at&nbsp;<span style=\"color: #EB5E28\">25 °C</span> &nbsp;</span><span style=\"font-family: verdana; color: #000000; font-size: 8.0000pt; background: #ffffff;\">for 10 hours under<span style=\"color: #12516E\">Hydrogen (, .416 mmol)</span> </span><span style=\"font-family: verdana; color: #000000; font-size: 8.0000pt; background: #ffffff;\">&nbsp;,<span style=\"color: #12516E\">3-[4-[4-(3,3-dimethoxypropyl)piperidin-1-yl]phenyl]-2,6-bis(phenylmethoxy)pyridine (230, .416 mmol)</span> &nbsp;</span><span style=\"font-family: verdana; color: #000000; font-size: 8.0000pt; background: #ffffff;\">&nbsp; was consumed and new spot was detected by LCMS;add&nbsp;100ml DCM to&nbsp;the&nbsp;reaction&nbsp;solution,&nbsp;then &nbsp;the&nbsp;mixture was&nbsp;filtered.the filtrate was&nbsp;dried over sodium sulate,filtered and the filtrate<span style=\"font-family: 宋体; color: #000000; font-size: 8.0000pt; background: #ffffff;\">&nbsp;</span>was<span style=\"font-family: 宋体; color: #000000; font-size: 8.0000pt; background: #ffffff;\">&nbsp;</span>concentreated<span style=\"font-family: 宋体; color: #000000; font-size: 8.0000pt; background: #ffffff;\">&nbsp;</span>under<span style=\"font-family: 宋体; color: #000000; font-size: 8.0000pt; background: #ffffff;\">&nbsp;</span>reduced<span style=\"font-family: 宋体; color: #000000; font-size: 8.0000pt; background: #ffffff;\">&nbsp;</span>pressure by water<span style=\"font-family: 宋体; color: #000000; font-size: 8.0000pt; background: #ffffff;\">&nbsp;</span>pumb to give the desired product&nbsp;<span style=\"color: #6A7FDB\">3-[4-[4-(3,3-dimethoxypropyl)piperidin-1-yl]phenyl]piperidine-2,6-dione (220 mg, .587 mmol, 141.177% yield)</span> &nbsp;&nbsp;as a brown oil.</span></p></span>\n",
       "        </div>\n",
       "    </div>\n",
       "    "
      ],
      "text/plain": [
       "<IPython.core.display.HTML object>"
      ]
     },
     "metadata": {},
     "output_type": "display_data"
    },
    {
     "data": {
      "text/html": [
       "<hr style=\"border: 2px solid #999; margin: 30px 0; padding: 10px 0;\">"
      ],
      "text/plain": [
       "<IPython.core.display.HTML object>"
      ]
     },
     "metadata": {},
     "output_type": "display_data"
    },
    {
     "data": {
      "text/html": [
       "\n",
       "    <div style=\"border: 1px solid #ccc; margin: 10px 0; padding: 10px; background-color: #f9f9f9;\">\n",
       "        <strong>ExpID Group: 3 - DEV</strong>\n",
       "        <div style=\"margin-top: 5px;\">\n",
       "            <em><strong>Experiment ID: </strong>207465</em>\n",
       "        </div>\n",
       "        <div style=\"margin-top: 5px;\">\n",
       "            <em><strong>Entry Date: </strong>2022-09-21</em>\n",
       "        </div>        \n",
       "        <div style=\"border-top: 1px dashed #999; margin-top: 10px; padding-top: 10px\">\n",
       "            <span style=\"font-size: 18px !important;\"><p><span style=\"font-size: 18pt;\">To a solution of&nbsp;<span style=\"color: #12516E\">2-amino-5-bromo-3-iodo-N-methylbenzamide (, 2.395 mmol)</span> &nbsp;in&nbsp;<span style=\"color: #53DD6C\">THF (30 mL)</span> &nbsp;was added&nbsp;<span style=\"color: #12516E\">triphosgene (, .958 mmol)</span> . The resulting mixture was stirred at <span style=\"color: #EB5E28\">60 °C</span> for 30 min to give a suspension. The mixture was cooled to 0 °C. Water (30 mL) was added. The mixture was stirred at the same temperature for 1 h. The solid was collected by filtration, dried to give&nbsp;<span style=\"color: #6A7FDB\">6-bromo-8-iodo-3-methyl-1H-quinazoline-2,4-dione ( g, 2.451 mmol, 102.345% yield)</span>, a colorless solid.</span></p> \n",
       "<p><span style=\"font-size: 18pt;\">&nbsp;</span></p></span>\n",
       "        </div>\n",
       "    </div>\n",
       "    "
      ],
      "text/plain": [
       "<IPython.core.display.HTML object>"
      ]
     },
     "metadata": {},
     "output_type": "display_data"
    },
    {
     "data": {
      "text/html": [
       "\n",
       "    <div style=\"border: 1px solid #ccc; margin: 10px 0; padding: 10px; background-color: #f9f9f9;\">\n",
       "        <strong>ExpID Group: 3 - U6</strong>\n",
       "        <div style=\"margin-top: 5px;\">\n",
       "            <em><strong>Experiment ID: </strong>207465</em>\n",
       "        </div>\n",
       "        <div style=\"margin-top: 5px;\">\n",
       "            <em><strong>Entry Date: </strong>2022-09-21</em>\n",
       "        </div>        \n",
       "        <div style=\"border-top: 1px dashed #999; margin-top: 10px; padding-top: 10px\">\n",
       "            <span style=\"font-size: 18px !important;\"><p><span style=\"font-size: 18pt;\">To a solution of&nbsp;<span style=\"color: #12516E\">2-amino-5-bromo-3-iodo-N-methylbenzamide (10.4, 29.298 mmol)</span> &nbsp;in&nbsp;<span style=\"color: #53DD6C\">THF (200 mL)</span> &nbsp;was added&nbsp;<span style=\"color: #12516E\">triphosgene (3.48, 11.719 mmol)</span> . The resulting mixture was stirred at <span style=\"color: #EB5E28\">60 °C</span> for 30 min to give a suspension. The mixture was cooled to 0 °C. Water (50 mL) was added. The mixture was stirred at the same temperature for 1 h. The solid was collected by filtration, dried to give&nbsp;<span style=\"color: #6A7FDB\">6-bromo-8-iodo-3-methyl-1H-quinazoline-2,4-dione (10 g, 26.249 mmol, 89.592% yield)</span> , an off-white solid.</span></p> \n",
       "<p><span style=\"font-size: 18pt;\">&nbsp;</span></p> \n",
       "<p><span style=\"font-size: 18pt;\">LCMS observed as demethylated fragment.</span></p></span>\n",
       "        </div>\n",
       "    </div>\n",
       "    "
      ],
      "text/plain": [
       "<IPython.core.display.HTML object>"
      ]
     },
     "metadata": {},
     "output_type": "display_data"
    },
    {
     "data": {
      "text/html": [
       "\n",
       "    <div style=\"border: 1px solid #ccc; margin: 10px 0; padding: 10px; background-color: #f9f9f9;\">\n",
       "        <strong>ExpID Group: 3 - PROD</strong>\n",
       "        <div style=\"margin-top: 5px;\">\n",
       "            <em><strong>Experiment ID: </strong>207465</em>\n",
       "        </div>\n",
       "        <div style=\"margin-top: 5px;\">\n",
       "            <em><strong>Entry Date: </strong>2022-09-21</em>\n",
       "        </div>        \n",
       "        <div style=\"border-top: 1px dashed #999; margin-top: 10px; padding-top: 10px\">\n",
       "            <span style=\"font-size: 18px !important;\"><p><span style=\"font-size: 18pt;\">To a solution of&nbsp;<span style=\"color: #12516E\">2-amino-5-bromo-3-iodo-N-methylbenzamide (10.4, 29.298 mmol)</span> &nbsp;in&nbsp;<span style=\"color: #53DD6C\">THF (200 mL)</span> &nbsp;was added&nbsp;<span style=\"color: #12516E\">triphosgene (3.48, 11.719 mmol)</span> . The resulting mixture was stirred at <span style=\"color: #EB5E28\">60 °C</span> for 30 min to give a suspension. The mixture was cooled to 0 °C. Water (50 mL) was added. The mixture was stirred at the same temperature for 1 h. The solid was collected by filtration, dried to give&nbsp;<span style=\"color: #6A7FDB\">6-bromo-8-iodo-3-methyl-1H-quinazoline-2,4-dione (10 g, 26.249 mmol, 89.592% yield)</span> , an off-white solid.</span></p> \n",
       "<p><span style=\"font-size: 18pt;\">&nbsp;</span></p> \n",
       "<p><span style=\"font-size: 18pt;\">LCMS observed as demethylated fragment.</span></p></span>\n",
       "        </div>\n",
       "    </div>\n",
       "    "
      ],
      "text/plain": [
       "<IPython.core.display.HTML object>"
      ]
     },
     "metadata": {},
     "output_type": "display_data"
    },
    {
     "data": {
      "text/html": [
       "<hr style=\"border: 2px solid #999; margin: 30px 0; padding: 10px 0;\">"
      ],
      "text/plain": [
       "<IPython.core.display.HTML object>"
      ]
     },
     "metadata": {},
     "output_type": "display_data"
    },
    {
     "data": {
      "text/html": [
       "\n",
       "    <div style=\"border: 1px solid #ccc; margin: 10px 0; padding: 10px; background-color: #f9f9f9;\">\n",
       "        <strong>ExpID Group: 4 - DEV</strong>\n",
       "        <div style=\"margin-top: 5px;\">\n",
       "            <em><strong>Experiment ID: </strong>207464</em>\n",
       "        </div>\n",
       "        <div style=\"margin-top: 5px;\">\n",
       "            <em><strong>Entry Date: </strong>2022-09-21</em>\n",
       "        </div>        \n",
       "        <div style=\"border-top: 1px dashed #999; margin-top: 10px; padding-top: 10px\">\n",
       "            <span style=\"font-size: 18px !important;\"><p>To a solution of&nbsp;<span style=\"color: #12516E\">methyl 2-[1-[2-(1,3-dihydroisoindol-2-yl)-3,6-dimethyl-4-oxoquinazolin-8-yl]ethylamino]-3-formylbenzoate (, .012 mmol)</span> &nbsp;in&nbsp;<span style=\"color: #53DD6C\">1,4-Dioxane (2.5 mL)</span> &nbsp;was added&nbsp;<span style=\"color: #12516E\">LiOH 1 M solution (, .06 mmol)</span> &nbsp;and&nbsp;<span style=\"color: #12516E\">H2O (, 3.359 mmol)</span> . The mixture was heated to&nbsp;<span style=\"color: #EB5E28\">90 °C</span> &nbsp;for 15 min. The mixture was cooled to 0&nbsp;°C. 1 N HCl (588 uL) was added. To the mixture was added EtOAc (3 mL).&nbsp;The organic phase was separated, and the aqueous phase was extracted with EtOAc (3 x 3 mL).&nbsp;The combined organic phases were dried over Na2SO4, concentrated and triturated with 1:1 DCM/Heptane to give&nbsp;<span style=\"color: #6A7FDB\">2-[1-[2-(1,3-dihydroisoindol-2-yl)-3,6-dimethyl-4-oxoquinazolin-8-yl]ethylamino]-3-formylbenzoic acid ( mg, .104 mmol, 862.928% yield)</span>, a colorless solid. 98% pure.</p> \n",
       "<p>&nbsp;</p> \n",
       "<p>LCMS calc. for C28H26N5O3 [M+H]+ m/z= 480.2; Found 480.1.</p> \n",
       "<p>&nbsp;</p> \n",
       "<p>1H NMR (300 MHz, DMSO-d6) δ 13.39 (s, 1H), 9.11 (d, J = 9.2 Hz, 1H), 8.07 (dd, J = 7.8, 1.8 Hz, 1H), 7.80 – 7.70 (m, 2H), 7.50 (d, J = 2.1 Hz, 1H), 7.40 – 7.26 (m, 4H), 6.72 (t, J = 7.8 Hz, 1H), 6.36 – 6.25 (m, 1H), 5.08 – 4.91 (m, 4H), 3.58 (s, 3H), 2.35 (s, 3H), 1.66 (d, J = 6.6 Hz, 3H).</p> \n",
       "<p>&nbsp;</p> \n",
       "<p>V113033</p> \n",
       "<p>Tare: 4.3185</p> \n",
       "<p>Total: 4.3223</p></span>\n",
       "        </div>\n",
       "    </div>\n",
       "    "
      ],
      "text/plain": [
       "<IPython.core.display.HTML object>"
      ]
     },
     "metadata": {},
     "output_type": "display_data"
    },
    {
     "data": {
      "text/html": [
       "\n",
       "    <div style=\"border: 1px solid #ccc; margin: 10px 0; padding: 10px; background-color: #f9f9f9;\">\n",
       "        <strong>ExpID Group: 4 - U6</strong>\n",
       "        <div style=\"margin-top: 5px;\">\n",
       "            <em><strong>Experiment ID: </strong>207464</em>\n",
       "        </div>\n",
       "        <div style=\"margin-top: 5px;\">\n",
       "            <em><strong>Entry Date: </strong>2022-09-21</em>\n",
       "        </div>        \n",
       "        <div style=\"border-top: 1px dashed #999; margin-top: 10px; padding-top: 10px\">\n",
       "            <span style=\"font-size: 18px !important;\"><p>To a solution of&nbsp;<span style=\"color: #12516E\">methyl 2-[1-[2-(1,3-dihydroisoindol-2-yl)-3,6-dimethyl-4-oxoquinazolin-8-yl]ethylamino]-3-formylbenzoate (6, .012 mmol)</span> &nbsp;in&nbsp;<span style=\"color: #53DD6C\">1,4-Dioxane (2.5 mL)</span> &nbsp;was added&nbsp;<span style=\"color: #12516E\">LiOH 1 M solution (, .06 mmol)</span> &nbsp;and&nbsp;<span style=\"color: #12516E\">H2O (60.46, 3.359 mmol)</span> . The mixture was heated to&nbsp;<span style=\"color: #EB5E28\">90 °C</span> &nbsp;for 15 min. The mixture was cooled to 0&nbsp;°C. 1 N HCl (588 uL) was added. To the mixture was added EtOAc (3 mL).&nbsp;The organic phase was separated, and the aqueous phase was extracted with EtOAc (3 x 3 mL).&nbsp;The combined organic phases were dried over Na2SO4, concentrated and triturated with 1:1 DCM/Heptane to give&nbsp;<span style=\"color: #6A7FDB\">2-[1-[2-(1,3-dihydroisoindol-2-yl)-3,6-dimethyl-4-oxoquinazolin-8-yl]ethylamino]-3-formylbenzoic acid ( mg, .104 mmol, 862.928% yield)</span>, a colorless solid. 98% pure.</p> \n",
       "<p>&nbsp;</p> \n",
       "<p>LCMS calc. for C28H26N5O3 [M+H]+ m/z= 480.2; Found 480.1.</p> \n",
       "<p>&nbsp;</p> \n",
       "<p>1H NMR (300 MHz, DMSO-d6) δ 13.39 (s, 1H), 9.11 (d, J = 9.2 Hz, 1H), 8.07 (dd, J = 7.8, 1.8 Hz, 1H), 7.80 – 7.70 (m, 2H), 7.50 (d, J = 2.1 Hz, 1H), 7.40 – 7.26 (m, 4H), 6.72 (t, J = 7.8 Hz, 1H), 6.36 – 6.25 (m, 1H), 5.08 – 4.91 (m, 4H), 3.58 (s, 3H), 2.35 (s, 3H), 1.66 (d, J = 6.6 Hz, 3H).</p> \n",
       "<p>&nbsp;</p> \n",
       "<p>V113033</p> \n",
       "<p>Tare: 4.3185</p> \n",
       "<p>Total: 4.3223</p></span>\n",
       "        </div>\n",
       "    </div>\n",
       "    "
      ],
      "text/plain": [
       "<IPython.core.display.HTML object>"
      ]
     },
     "metadata": {},
     "output_type": "display_data"
    },
    {
     "data": {
      "text/html": [
       "\n",
       "    <div style=\"border: 1px solid #ccc; margin: 10px 0; padding: 10px; background-color: #f9f9f9;\">\n",
       "        <strong>ExpID Group: 4 - PROD</strong>\n",
       "        <div style=\"margin-top: 5px;\">\n",
       "            <em><strong>Experiment ID: </strong>207464</em>\n",
       "        </div>\n",
       "        <div style=\"margin-top: 5px;\">\n",
       "            <em><strong>Entry Date: </strong>2022-09-21</em>\n",
       "        </div>        \n",
       "        <div style=\"border-top: 1px dashed #999; margin-top: 10px; padding-top: 10px\">\n",
       "            <span style=\"font-size: 18px !important;\"><p>To a solution of&nbsp;<span style=\"color: #12516E\">methyl 2-[1-[2-(1,3-dihydroisoindol-2-yl)-3,6-dimethyl-4-oxoquinazolin-8-yl]ethylamino]-3-formylbenzoate (6, .012 mmol)</span> &nbsp;in&nbsp;<span style=\"color: #53DD6C\">1,4-Dioxane (2.5 mL)</span> &nbsp;was added&nbsp;<span style=\"color: #12516E\">LiOH 1 M solution (, .06 mmol)</span> &nbsp;and&nbsp;<span style=\"color: #12516E\">H2O (60.46, 3.359 mmol)</span> . The mixture was heated to&nbsp;<span style=\"color: #EB5E28\">90 °C</span> &nbsp;for 15 min. The mixture was cooled to 0&nbsp;°C. 1 N HCl (588 uL) was added. To the mixture was added EtOAc (3 mL).&nbsp;The organic phase was separated, and the aqueous phase was extracted with EtOAc (3 x 3 mL).&nbsp;The combined organic phases were dried over Na2SO4, concentrated and triturated with 1:1 DCM/Heptane to give&nbsp;<span style=\"color: #6A7FDB\">2-[1-[2-(1,3-dihydroisoindol-2-yl)-3,6-dimethyl-4-oxoquinazolin-8-yl]ethylamino]-3-formylbenzoic acid ( mg, .104 mmol, 862.928% yield)</span>, a colorless solid. 98% pure.</p> \n",
       "<p>&nbsp;</p> \n",
       "<p>LCMS calc. for C28H26N5O3 [M+H]+ m/z= 480.2; Found 480.1.</p> \n",
       "<p>&nbsp;</p> \n",
       "<p>1H NMR (300 MHz, DMSO-d6) δ 13.39 (s, 1H), 9.11 (d, J = 9.2 Hz, 1H), 8.07 (dd, J = 7.8, 1.8 Hz, 1H), 7.80 – 7.70 (m, 2H), 7.50 (d, J = 2.1 Hz, 1H), 7.40 – 7.26 (m, 4H), 6.72 (t, J = 7.8 Hz, 1H), 6.36 – 6.25 (m, 1H), 5.08 – 4.91 (m, 4H), 3.58 (s, 3H), 2.35 (s, 3H), 1.66 (d, J = 6.6 Hz, 3H).</p> \n",
       "<p>&nbsp;</p> \n",
       "<p>V113033</p> \n",
       "<p>Tare: 4.3185</p> \n",
       "<p>Total: 4.3223</p></span>\n",
       "        </div>\n",
       "    </div>\n",
       "    "
      ],
      "text/plain": [
       "<IPython.core.display.HTML object>"
      ]
     },
     "metadata": {},
     "output_type": "display_data"
    },
    {
     "data": {
      "text/html": [
       "<hr style=\"border: 2px solid #999; margin: 30px 0; padding: 10px 0;\">"
      ],
      "text/plain": [
       "<IPython.core.display.HTML object>"
      ]
     },
     "metadata": {},
     "output_type": "display_data"
    },
    {
     "data": {
      "text/html": [
       "\n",
       "    <div style=\"border: 1px solid #ccc; margin: 10px 0; padding: 10px; background-color: #f9f9f9;\">\n",
       "        <strong>ExpID Group: 5 - DEV</strong>\n",
       "        <div style=\"margin-top: 5px;\">\n",
       "            <em><strong>Experiment ID: </strong>207454</em>\n",
       "        </div>\n",
       "        <div style=\"margin-top: 5px;\">\n",
       "            <em><strong>Entry Date: </strong>2022-09-21</em>\n",
       "        </div>        \n",
       "        <div style=\"border-top: 1px dashed #999; margin-top: 10px; padding-top: 10px\">\n",
       "            <span style=\"font-size: 18px !important;\"><p>To a solution of&nbsp;<span style=\"color: #12516E\">8-bromo-2-ethylsulfanyl-6-methyl-3-(oxetan-3-yl)quinazolin-4-one (, .031 mmol)</span>&nbsp;in&nbsp;<span style=\"color: #53DD6C\">DCM (3 mL)</span>&nbsp;at&nbsp;<span style=\"color: #EB5E28\">0 °C</span>&nbsp;was added&nbsp;<span style=\"color: #12516E\">MCPBA (, .139 mmol)</span>&nbsp;The&nbsp;reaction mixture was stirred overnight and allowed to warm to&nbsp;room temperature.</p> \n",
       "<p>Desired mass (387&amp;389) was observed on LC-MS. 464&amp;466. 447&amp;449 also observed and not yet figured out.</p> \n",
       "<p>HPLC :</p> \n",
       "<p>5.368, 27%</p> \n",
       "<p>5.552, 73% (product)</p> \n",
       "<p>The&nbsp;reaction mixture was concentrated under reduced pressure and purified with prep-HPLC to afford the desired product as white solid.</p></span>\n",
       "        </div>\n",
       "    </div>\n",
       "    "
      ],
      "text/plain": [
       "<IPython.core.display.HTML object>"
      ]
     },
     "metadata": {},
     "output_type": "display_data"
    },
    {
     "data": {
      "text/html": [
       "\n",
       "    <div style=\"border: 1px solid #ccc; margin: 10px 0; padding: 10px; background-color: #f9f9f9;\">\n",
       "        <strong>ExpID Group: 5 - U6</strong>\n",
       "        <div style=\"margin-top: 5px;\">\n",
       "            <em><strong>Experiment ID: </strong>207454</em>\n",
       "        </div>\n",
       "        <div style=\"margin-top: 5px;\">\n",
       "            <em><strong>Entry Date: </strong>2022-09-21</em>\n",
       "        </div>        \n",
       "        <div style=\"border-top: 1px dashed #999; margin-top: 10px; padding-top: 10px\">\n",
       "            <span style=\"font-size: 18px !important;\"><p>To a solution of&nbsp;<span style=\"color: #12516E\">8-bromo-2-ethylsulfanyl-6-methyl-3-(oxetan-3-yl)quinazolin-4-one (11.1, .031 mmol)</span>&nbsp;in&nbsp;<span style=\"color: #53DD6C\">DCM (3 mL)</span>&nbsp;at&nbsp;<span style=\"color: #EB5E28\">0 °C</span>&nbsp;was added&nbsp;<span style=\"color: #12516E\">MCPBA (24, .139 mmol)</span>&nbsp;The&nbsp;reaction mixture was stirred overnight and allowed to warm to&nbsp;room temperature.</p> \n",
       "<p>Desired mass (387&amp;389) was observed on LC-MS. 464&amp;466. 447&amp;449 also observed and not yet figured out.</p> \n",
       "<p>HPLC :</p> \n",
       "<p>5.368, 27%</p> \n",
       "<p>5.552, 73% (product)</p> \n",
       "<p>The&nbsp;reaction mixture was concentrated under reduced pressure and purified with prep-HPLC to afford the desired product as white solid.</p></span>\n",
       "        </div>\n",
       "    </div>\n",
       "    "
      ],
      "text/plain": [
       "<IPython.core.display.HTML object>"
      ]
     },
     "metadata": {},
     "output_type": "display_data"
    },
    {
     "data": {
      "text/html": [
       "\n",
       "    <div style=\"border: 1px solid #ccc; margin: 10px 0; padding: 10px; background-color: #f9f9f9;\">\n",
       "        <strong>ExpID Group: 5 - PROD</strong>\n",
       "        <div style=\"margin-top: 5px;\">\n",
       "            <em><strong>Experiment ID: </strong>207454</em>\n",
       "        </div>\n",
       "        <div style=\"margin-top: 5px;\">\n",
       "            <em><strong>Entry Date: </strong>2022-09-21</em>\n",
       "        </div>        \n",
       "        <div style=\"border-top: 1px dashed #999; margin-top: 10px; padding-top: 10px\">\n",
       "            <span style=\"font-size: 18px !important;\"><p>To a solution of&nbsp;<span style=\"color: #12516E\">8-bromo-2-ethylsulfanyl-6-methyl-3-(oxetan-3-yl)quinazolin-4-one (11.1, .031 mmol)</span>&nbsp;in&nbsp;<span style=\"color: #53DD6C\">DCM (3 mL)</span>&nbsp;at&nbsp;<span style=\"color: #EB5E28\">0 °C</span>&nbsp;was added&nbsp;<span style=\"color: #12516E\">MCPBA (24, .139 mmol)</span>&nbsp;The&nbsp;reaction mixture was stirred overnight and allowed to warm to&nbsp;room temperature.</p> \n",
       "<p>Desired mass (387&amp;389) was observed on LC-MS. 464&amp;466. 447&amp;449 also observed and not yet figured out.</p> \n",
       "<p>HPLC :</p> \n",
       "<p>5.368, 27%</p> \n",
       "<p>5.552, 73% (product)</p> \n",
       "<p>The&nbsp;reaction mixture was concentrated under reduced pressure and purified with prep-HPLC to afford the desired product as white solid.</p></span>\n",
       "        </div>\n",
       "    </div>\n",
       "    "
      ],
      "text/plain": [
       "<IPython.core.display.HTML object>"
      ]
     },
     "metadata": {},
     "output_type": "display_data"
    },
    {
     "data": {
      "text/html": [
       "<hr style=\"border: 2px solid #999; margin: 30px 0; padding: 10px 0;\">"
      ],
      "text/plain": [
       "<IPython.core.display.HTML object>"
      ]
     },
     "metadata": {},
     "output_type": "display_data"
    },
    {
     "data": {
      "text/html": [
       "\n",
       "    <div style=\"border: 1px solid #ccc; margin: 10px 0; padding: 10px; background-color: #f9f9f9;\">\n",
       "        <strong>ExpID Group: 6 - DEV</strong>\n",
       "        <div style=\"margin-top: 5px;\">\n",
       "            <em><strong>Experiment ID: </strong>207449</em>\n",
       "        </div>\n",
       "        <div style=\"margin-top: 5px;\">\n",
       "            <em><strong>Entry Date: </strong>2022-09-21</em>\n",
       "        </div>        \n",
       "        <div style=\"border-top: 1px dashed #999; margin-top: 10px; padding-top: 10px\">\n",
       "            <span style=\"font-size: 18px !important;\"><p><span style=\"font-size: 18pt;\">To a solution of&nbsp;<span style=\"color: #12516E\">8-acetyl-2-(5,7-dihydropyrrolo[3,4-b]pyridin-6-yl)-6-methyl-3-(oxan-4-yl)quinazolin-4-one (, .131 mmol)</span> &nbsp;in&nbsp;<span style=\"color: #53DD6C\">DCM (.5 mL)</span> &nbsp;at&nbsp;<span style=\"color: #EB5E28\">0 °C</span> &nbsp;was added&nbsp;<span style=\"color: #12516E\">Sodium borohydride (, .262 mmol)</span> &nbsp;. The resulting mixture was stirred at rt for 1 h. LC-MS indicated the consumption of SM and the formation of desired product. The reaction was quenched by adding 10 mL of water followed by 10 mL of EtOAc. The layers were separated and the aqueous layer was extracted with EtOAc (10 mL x 2). The combined organic layers were dried over sodium sulfate, filtered and concentrated under reduced pressure. The crude product was further purified by flash chromatography (SiO2, 20% to 60% EA in heptane) to afford&nbsp;<span style=\"color: #6A7FDB\">2-(5,7-dihydropyrrolo[3,4-b]pyridin-6-yl)-8-(1-hydroxyethyl)-6-methyl-3-(oxan-4-yl)quinazolin-4-one ( mg, .187 mmol, 142.362% yield)</span> &nbsp;as a light pink solid.</span></p> \n",
       "<p><span style=\"font-size: 18pt;\">1H NMR (300 MHz, Chloroform-d) δ 7.87 (dd, J = 2.1, 1.0 Hz, 1H), 7.37 (d, J = 2.1 Hz, 1H), 7.32 - 7.26 (m, 1H), 7.10 – 6.99 (m, 2H), 5.21 (s, 1H), 5.05 (s, 1H), 4.85 (d, J = 15.0 Hz, 4H), 4.48 (tt, J = 11.7, 3.6 Hz, 1H), 4.16 (dd, J = 11.4, 4.3 Hz, 2H), 3.58 – 3.36 (m, 2H), 3.20 (qd, J = 12.4, 4.5 Hz, 2H), 2.42 (s, 3H), 1.73 (d, J = 12.8 Hz, 2H), 1.64 (d, J = 6.6 Hz, 3H).</span>&nbsp;</p> \n",
       "<p>&nbsp;</p> \n",
       "<p>&nbsp;</p></span>\n",
       "        </div>\n",
       "    </div>\n",
       "    "
      ],
      "text/plain": [
       "<IPython.core.display.HTML object>"
      ]
     },
     "metadata": {},
     "output_type": "display_data"
    },
    {
     "data": {
      "text/html": [
       "\n",
       "    <div style=\"border: 1px solid #ccc; margin: 10px 0; padding: 10px; background-color: #f9f9f9;\">\n",
       "        <strong>ExpID Group: 6 - U6</strong>\n",
       "        <div style=\"margin-top: 5px;\">\n",
       "            <em><strong>Experiment ID: </strong>207449</em>\n",
       "        </div>\n",
       "        <div style=\"margin-top: 5px;\">\n",
       "            <em><strong>Entry Date: </strong>2022-09-21</em>\n",
       "        </div>        \n",
       "        <div style=\"border-top: 1px dashed #999; margin-top: 10px; padding-top: 10px\">\n",
       "            <span style=\"font-size: 18px !important;\"><p><span style=\"font-size: 18pt;\">To a solution of&nbsp;<span style=\"color: #12516E\">8-acetyl-2-(5,7-dihydropyrrolo[3,4-b]pyridin-6-yl)-6-methyl-3-(oxan-4-yl)quinazolin-4-one (53, .131 mmol)</span> &nbsp;in&nbsp;<span style=\"color: #53DD6C\">DCM (.5 mL)</span> &nbsp;at&nbsp;<span style=\"color: #EB5E28\">0 °C</span> &nbsp;was added&nbsp;<span style=\"color: #12516E\">Sodium borohydride (9.91, .262 mmol)</span> &nbsp;. The resulting mixture was stirred at rt for 1 h. LC-MS indicated the consumption of SM and the formation of desired product. The reaction was quenched by adding 10 mL of water followed by 10 mL of EtOAc. The layers were separated and the aqueous layer was extracted with EtOAc (10 mL x 2). The combined organic layers were dried over sodium sulfate, filtered and concentrated under reduced pressure. The crude product was further purified by flash chromatography (SiO2, 20% to 60% EA in heptane) to afford&nbsp;<span style=\"color: #6A7FDB\">2-(5,7-dihydropyrrolo[3,4-b]pyridin-6-yl)-8-(1-hydroxyethyl)-6-methyl-3-(oxan-4-yl)quinazolin-4-one (34.4 mg, .085 mmol, 64.583% yield)</span> &nbsp;as a light pink solid.</span></p> \n",
       "<p>&nbsp;</p> \n",
       "<p><span style=\"font-size: 18pt;\">Note: According to 1H NMR, the product was mixed with some TPPO.</span></p> \n",
       "<p>&nbsp;</p> \n",
       "<p>&nbsp;</p></span>\n",
       "        </div>\n",
       "    </div>\n",
       "    "
      ],
      "text/plain": [
       "<IPython.core.display.HTML object>"
      ]
     },
     "metadata": {},
     "output_type": "display_data"
    },
    {
     "data": {
      "text/html": [
       "\n",
       "    <div style=\"border: 1px solid #ccc; margin: 10px 0; padding: 10px; background-color: #f9f9f9;\">\n",
       "        <strong>ExpID Group: 6 - PROD</strong>\n",
       "        <div style=\"margin-top: 5px;\">\n",
       "            <em><strong>Experiment ID: </strong>207449</em>\n",
       "        </div>\n",
       "        <div style=\"margin-top: 5px;\">\n",
       "            <em><strong>Entry Date: </strong>2022-09-21</em>\n",
       "        </div>        \n",
       "        <div style=\"border-top: 1px dashed #999; margin-top: 10px; padding-top: 10px\">\n",
       "            <span style=\"font-size: 18px !important;\"><p><span style=\"font-size: 18pt;\">To a solution of&nbsp;<span style=\"color: #12516E\">8-acetyl-2-(5,7-dihydropyrrolo[3,4-b]pyridin-6-yl)-6-methyl-3-(oxan-4-yl)quinazolin-4-one (53, .131 mmol)</span> &nbsp;in&nbsp;<span style=\"color: #53DD6C\">DCM (.5 mL)</span> &nbsp;at&nbsp;<span style=\"color: #EB5E28\">0 °C</span> &nbsp;was added&nbsp;<span style=\"color: #12516E\">Sodium borohydride (9.91, .262 mmol)</span> &nbsp;. The resulting mixture was stirred at rt for 1 h. LC-MS indicated the consumption of SM and the formation of desired product. The reaction was quenched by adding 10 mL of water followed by 10 mL of EtOAc. The layers were separated and the aqueous layer was extracted with EtOAc (10 mL x 2). The combined organic layers were dried over sodium sulfate, filtered and concentrated under reduced pressure. The crude product was further purified by flash chromatography (SiO2, 20% to 60% EA in heptane) to afford&nbsp;<span style=\"color: #6A7FDB\">2-(5,7-dihydropyrrolo[3,4-b]pyridin-6-yl)-8-(1-hydroxyethyl)-6-methyl-3-(oxan-4-yl)quinazolin-4-one (34.4 mg, .085 mmol, 64.583% yield)</span> &nbsp;as a light pink solid.</span></p> \n",
       "<p>&nbsp;</p> \n",
       "<p><span style=\"font-size: 18pt;\">Note: According to 1H NMR, the product was mixed with some TPPO.</span></p> \n",
       "<p>&nbsp;</p> \n",
       "<p>&nbsp;</p></span>\n",
       "        </div>\n",
       "    </div>\n",
       "    "
      ],
      "text/plain": [
       "<IPython.core.display.HTML object>"
      ]
     },
     "metadata": {},
     "output_type": "display_data"
    },
    {
     "data": {
      "text/html": [
       "<hr style=\"border: 2px solid #999; margin: 30px 0; padding: 10px 0;\">"
      ],
      "text/plain": [
       "<IPython.core.display.HTML object>"
      ]
     },
     "metadata": {},
     "output_type": "display_data"
    },
    {
     "data": {
      "text/html": [
       "\n",
       "    <div style=\"border: 1px solid #ccc; margin: 10px 0; padding: 10px; background-color: #f9f9f9;\">\n",
       "        <strong>ExpID Group: 7 - DEV</strong>\n",
       "        <div style=\"margin-top: 5px;\">\n",
       "            <em><strong>Experiment ID: </strong>207447</em>\n",
       "        </div>\n",
       "        <div style=\"margin-top: 5px;\">\n",
       "            <em><strong>Entry Date: </strong>2022-09-21</em>\n",
       "        </div>        \n",
       "        <div style=\"border-top: 1px dashed #999; margin-top: 10px; padding-top: 10px\">\n",
       "            <span style=\"font-size: 18px !important;\"><p>&nbsp;To a solution of&nbsp;<span style=\"color: #12516E\">8-(1-aminoethyl)-2-(1,3-dihydroisoindol-2-yl)-3,6-dimethylquinazolin-4-one (, .018 mmol)</span> &nbsp;and&nbsp;<span style=\"color: #12516E\">methyl 2-fluoro-3-formylbenzoate (, .018 mmol)</span> &nbsp;in&nbsp;<span style=\"color: #53DD6C\">NMP (2 mL)</span> &nbsp;was added&nbsp;<span style=\"color: #12516E\">DIPEA (, .054 mmol)</span> . The mixture was heated to&nbsp;<span style=\"color: #EB5E28\">100 °C</span> &nbsp;for 4 h. The mixture was cooled to rt. ice water was added (20 mL). The precipitate was colloected by filtration and dried, then&nbsp;purified by flash column chromatography (0%-50% EtOAc/Heptane) to give&nbsp;<span style=\"color: #6A7FDB\">methyl 2-[1-[2-(1,3-dihydroisoindol-2-yl)-3,6-dimethyl-4-oxoquinazolin-8-yl]ethylamino]-3-formylbenzoate ( mg, .28 mmol, 1558.373% yield)</span> , a colorless solid.</p> \n",
       "<p>&nbsp;</p> \n",
       "<p>Product Rf~0.5 (50% EtOAc/Heptane, blue fluorescent)</p></span>\n",
       "        </div>\n",
       "    </div>\n",
       "    "
      ],
      "text/plain": [
       "<IPython.core.display.HTML object>"
      ]
     },
     "metadata": {},
     "output_type": "display_data"
    },
    {
     "data": {
      "text/html": [
       "\n",
       "    <div style=\"border: 1px solid #ccc; margin: 10px 0; padding: 10px; background-color: #f9f9f9;\">\n",
       "        <strong>ExpID Group: 7 - U6</strong>\n",
       "        <div style=\"margin-top: 5px;\">\n",
       "            <em><strong>Experiment ID: </strong>207447</em>\n",
       "        </div>\n",
       "        <div style=\"margin-top: 5px;\">\n",
       "            <em><strong>Entry Date: </strong>2022-09-21</em>\n",
       "        </div>        \n",
       "        <div style=\"border-top: 1px dashed #999; margin-top: 10px; padding-top: 10px\">\n",
       "            <span style=\"font-size: 18px !important;\"><p>&nbsp;To a solution of&nbsp;<span style=\"color: #12516E\">8-(1-aminoethyl)-2-(1,3-dihydroisoindol-2-yl)-3,6-dimethylquinazolin-4-one (6, .018 mmol)</span> &nbsp;and&nbsp;<span style=\"color: #12516E\">methyl 2-fluoro-3-formylbenzoate (3.27, .018 mmol)</span> &nbsp;in&nbsp;<span style=\"color: #53DD6C\">NMP (2 mL)</span> &nbsp;was added&nbsp;<span style=\"color: #12516E\">DIPEA (6.96, .054 mmol)</span> . The mixture was heated to&nbsp;<span style=\"color: #EB5E28\">100 °C</span> &nbsp;for 4 h. The mixture was cooled to rt. ice water was added (20 mL). The precipitate was colloected by filtration and dried, then&nbsp;purified by flash column chromatography (0%-50% EtOAc/Heptane) to give&nbsp;<span style=\"color: #6A7FDB\">methyl 2-[1-[2-(1,3-dihydroisoindol-2-yl)-3,6-dimethyl-4-oxoquinazolin-8-yl]ethylamino]-3-formylbenzoate ( mg, .28 mmol, 1558.373% yield)</span> , a colorless solid.</p> \n",
       "<p>&nbsp;</p> \n",
       "<p>Product Rf~0.5 (50% EtOAc/Heptane, blue fluorescent)</p></span>\n",
       "        </div>\n",
       "    </div>\n",
       "    "
      ],
      "text/plain": [
       "<IPython.core.display.HTML object>"
      ]
     },
     "metadata": {},
     "output_type": "display_data"
    },
    {
     "data": {
      "text/html": [
       "\n",
       "    <div style=\"border: 1px solid #ccc; margin: 10px 0; padding: 10px; background-color: #f9f9f9;\">\n",
       "        <strong>ExpID Group: 7 - PROD</strong>\n",
       "        <div style=\"margin-top: 5px;\">\n",
       "            <em><strong>Experiment ID: </strong>207447</em>\n",
       "        </div>\n",
       "        <div style=\"margin-top: 5px;\">\n",
       "            <em><strong>Entry Date: </strong>2022-09-21</em>\n",
       "        </div>        \n",
       "        <div style=\"border-top: 1px dashed #999; margin-top: 10px; padding-top: 10px\">\n",
       "            <span style=\"font-size: 18px !important;\"><p>&nbsp;To a solution of&nbsp;<span style=\"color: #12516E\">8-(1-aminoethyl)-2-(1,3-dihydroisoindol-2-yl)-3,6-dimethylquinazolin-4-one (6, .018 mmol)</span> &nbsp;and&nbsp;<span style=\"color: #12516E\">methyl 2-fluoro-3-formylbenzoate (3.27, .018 mmol)</span> &nbsp;in&nbsp;<span style=\"color: #53DD6C\">NMP (2 mL)</span> &nbsp;was added&nbsp;<span style=\"color: #12516E\">DIPEA (6.96, .054 mmol)</span> . The mixture was heated to&nbsp;<span style=\"color: #EB5E28\">100 °C</span> &nbsp;for 4 h. The mixture was cooled to rt. ice water was added (20 mL). The precipitate was colloected by filtration and dried, then&nbsp;purified by flash column chromatography (0%-50% EtOAc/Heptane) to give&nbsp;<span style=\"color: #6A7FDB\">methyl 2-[1-[2-(1,3-dihydroisoindol-2-yl)-3,6-dimethyl-4-oxoquinazolin-8-yl]ethylamino]-3-formylbenzoate ( mg, .28 mmol, 1558.373% yield)</span> , a colorless solid.</p> \n",
       "<p>&nbsp;</p> \n",
       "<p>Product Rf~0.5 (50% EtOAc/Heptane, blue fluorescent)</p></span>\n",
       "        </div>\n",
       "    </div>\n",
       "    "
      ],
      "text/plain": [
       "<IPython.core.display.HTML object>"
      ]
     },
     "metadata": {},
     "output_type": "display_data"
    },
    {
     "data": {
      "text/html": [
       "<hr style=\"border: 2px solid #999; margin: 30px 0; padding: 10px 0;\">"
      ],
      "text/plain": [
       "<IPython.core.display.HTML object>"
      ]
     },
     "metadata": {},
     "output_type": "display_data"
    },
    {
     "data": {
      "text/html": [
       "\n",
       "    <div style=\"border: 1px solid #ccc; margin: 10px 0; padding: 10px; background-color: #f9f9f9;\">\n",
       "        <strong>ExpID Group: 8 - DEV</strong>\n",
       "        <div style=\"margin-top: 5px;\">\n",
       "            <em><strong>Experiment ID: </strong>207443</em>\n",
       "        </div>\n",
       "        <div style=\"margin-top: 5px;\">\n",
       "            <em><strong>Entry Date: </strong>2022-09-21</em>\n",
       "        </div>        \n",
       "        <div style=\"border-top: 1px dashed #999; margin-top: 10px; padding-top: 10px\">\n",
       "            <span style=\"font-size: 18px !important;\"><p>To a mixture of&nbsp;<span style=\"color: #12516E\">1-[(2-methylpropan-2-yl)oxycarbonyl]pyrrolidine-2-carboxylic acid (, .836 mmol)</span>&nbsp;and&nbsp;<span style=\"color: #12516E\">4-(dimethylamino)pyridine (, 1.67 mmol)</span>&nbsp;in&nbsp;<span style=\"color: #53DD6C\">DCM (5 mL)</span>&nbsp;was added<span style=\"color: #12516E\">methanesulfonyl chloride (, .452 mmol)</span>&nbsp;at&nbsp;<span style=\"color: #EB5E28\">0 °C</span>&nbsp;The&nbsp;reaction mixture was stirred under N2 for an hour before&nbsp;<span style=\"color: #12516E\">1-[(2-methylpropan-2-yl)oxycarbonyl]pyrrolidine-2-carboxylic acid (, .836 mmol)</span>&nbsp;was added. The&nbsp;resulting mixture was stirred for 15 h, LC-MS showed no reaction with only SM1 remained.</p> \n",
       "<p>&nbsp;</p></span>\n",
       "        </div>\n",
       "    </div>\n",
       "    "
      ],
      "text/plain": [
       "<IPython.core.display.HTML object>"
      ]
     },
     "metadata": {},
     "output_type": "display_data"
    },
    {
     "data": {
      "text/html": [
       "\n",
       "    <div style=\"border: 1px solid #ccc; margin: 10px 0; padding: 10px; background-color: #f9f9f9;\">\n",
       "        <strong>ExpID Group: 8 - U6</strong>\n",
       "        <div style=\"margin-top: 5px;\">\n",
       "            <em><strong>Experiment ID: </strong>207443</em>\n",
       "        </div>\n",
       "        <div style=\"margin-top: 5px;\">\n",
       "            <em><strong>Entry Date: </strong>2022-09-21</em>\n",
       "        </div>        \n",
       "        <div style=\"border-top: 1px dashed #999; margin-top: 10px; padding-top: 10px\">\n",
       "            <span style=\"font-size: 18px !important;\"><p>To a mixture of&nbsp;<span style=\"color: #12516E\">1-[(2-methylpropan-2-yl)oxycarbonyl]pyrrolidine-2-carboxylic acid (180, .836 mmol)</span>&nbsp;and&nbsp;<span style=\"color: #12516E\">4-(dimethylamino)pyridine (204, 1.67 mmol)</span>&nbsp;in&nbsp;<span style=\"color: #53DD6C\">DCM (5 mL)</span>&nbsp;was added<span style=\"color: #12516E\">methanesulfonyl chloride (51.8, .452 mmol)</span>&nbsp;at&nbsp;<span style=\"color: #EB5E28\">0 °C</span>&nbsp;The&nbsp;reaction mixture was stirred under N2 for an hour before&nbsp;<span style=\"color: #12516E\">1-[(2-methylpropan-2-yl)oxycarbonyl]pyrrolidine-2-carboxylic acid (180, .836 mmol)</span>&nbsp;was added. The&nbsp;resulting mixture was stirred for 15 h, LC-MS showed no reaction with only SM1 remained.</p> \n",
       "<p>&nbsp;</p></span>\n",
       "        </div>\n",
       "    </div>\n",
       "    "
      ],
      "text/plain": [
       "<IPython.core.display.HTML object>"
      ]
     },
     "metadata": {},
     "output_type": "display_data"
    },
    {
     "data": {
      "text/html": [
       "\n",
       "    <div style=\"border: 1px solid #ccc; margin: 10px 0; padding: 10px; background-color: #f9f9f9;\">\n",
       "        <strong>ExpID Group: 8 - PROD</strong>\n",
       "        <div style=\"margin-top: 5px;\">\n",
       "            <em><strong>Experiment ID: </strong>207443</em>\n",
       "        </div>\n",
       "        <div style=\"margin-top: 5px;\">\n",
       "            <em><strong>Entry Date: </strong>2022-09-21</em>\n",
       "        </div>        \n",
       "        <div style=\"border-top: 1px dashed #999; margin-top: 10px; padding-top: 10px\">\n",
       "            <span style=\"font-size: 18px !important;\"><p>To a mixture of&nbsp;<span style=\"color: #12516E\">1-[(2-methylpropan-2-yl)oxycarbonyl]pyrrolidine-2-carboxylic acid (180, .836 mmol)</span>&nbsp;and&nbsp;<span style=\"color: #12516E\">4-(dimethylamino)pyridine (204, 1.67 mmol)</span>&nbsp;in&nbsp;<span style=\"color: #53DD6C\">DCM (5 mL)</span>&nbsp;was added<span style=\"color: #12516E\">methanesulfonyl chloride (51.8, .452 mmol)</span>&nbsp;at&nbsp;<span style=\"color: #EB5E28\">0 °C</span>&nbsp;The&nbsp;reaction mixture was stirred under N2 for an hour before&nbsp;<span style=\"color: #12516E\">1-[(2-methylpropan-2-yl)oxycarbonyl]pyrrolidine-2-carboxylic acid (180, .836 mmol)</span>&nbsp;was added. The&nbsp;resulting mixture was stirred for 15 h, LC-MS showed no reaction with only SM1 remained.</p> \n",
       "<p>&nbsp;</p></span>\n",
       "        </div>\n",
       "    </div>\n",
       "    "
      ],
      "text/plain": [
       "<IPython.core.display.HTML object>"
      ]
     },
     "metadata": {},
     "output_type": "display_data"
    },
    {
     "data": {
      "text/html": [
       "<hr style=\"border: 2px solid #999; margin: 30px 0; padding: 10px 0;\">"
      ],
      "text/plain": [
       "<IPython.core.display.HTML object>"
      ]
     },
     "metadata": {},
     "output_type": "display_data"
    },
    {
     "data": {
      "text/html": [
       "\n",
       "    <div style=\"border: 1px solid #ccc; margin: 10px 0; padding: 10px; background-color: #f9f9f9;\">\n",
       "        <strong>ExpID Group: 9 - DEV</strong>\n",
       "        <div style=\"margin-top: 5px;\">\n",
       "            <em><strong>Experiment ID: </strong>207442</em>\n",
       "        </div>\n",
       "        <div style=\"margin-top: 5px;\">\n",
       "            <em><strong>Entry Date: </strong>2022-09-21</em>\n",
       "        </div>        \n",
       "        <div style=\"border-top: 1px dashed #999; margin-top: 10px; padding-top: 10px\">\n",
       "            <span style=\"font-size: 18px !important;\"><p>To a solution of&nbsp;<span style=\"color: #12516E\">8-bromo-6-methyl-3-(oxetan-3-yl)-2-sulfanylidene-1H-quinazolin-4-one (, .119 mmol)</span>&nbsp;in&nbsp;<span style=\"color: #53DD6C\">THF (2 mL)</span> at&nbsp;<span style=\"color: #EB5E28\">0 °C</span>&nbsp;was added&nbsp;<span style=\"color: #12516E\">sodium hydride (, .333 mmol)</span>&nbsp;The&nbsp;reaction mixture was stirred&nbsp;for 3 min before&nbsp;<span style=\"color: #12516E\">Iodoethane (, .361 mmol)</span>&nbsp;was added. The&nbsp;reaction mixture was then stirred for overnight before LC-MS showed the desired mass. The&nbsp;reaction mixture was quenched with water and extracted with DCM (x3).&nbsp;The combined organic phase was washed with brine, dried over Na2SO4 and concentrated under reduced pressure to give the crude product.&nbsp;The crude product was purified with FCC to afford the desired product.</p></span>\n",
       "        </div>\n",
       "    </div>\n",
       "    "
      ],
      "text/plain": [
       "<IPython.core.display.HTML object>"
      ]
     },
     "metadata": {},
     "output_type": "display_data"
    },
    {
     "data": {
      "text/html": [
       "\n",
       "    <div style=\"border: 1px solid #ccc; margin: 10px 0; padding: 10px; background-color: #f9f9f9;\">\n",
       "        <strong>ExpID Group: 9 - U6</strong>\n",
       "        <div style=\"margin-top: 5px;\">\n",
       "            <em><strong>Experiment ID: </strong>207442</em>\n",
       "        </div>\n",
       "        <div style=\"margin-top: 5px;\">\n",
       "            <em><strong>Entry Date: </strong>2022-09-21</em>\n",
       "        </div>        \n",
       "        <div style=\"border-top: 1px dashed #999; margin-top: 10px; padding-top: 10px\">\n",
       "            <span style=\"font-size: 18px !important;\"><p>To a solution of&nbsp;<span style=\"color: #12516E\">8-bromo-6-methyl-3-(oxetan-3-yl)-2-sulfanylidene-1H-quinazolin-4-one (38.8, .119 mmol)</span>&nbsp;in&nbsp;<span style=\"color: #53DD6C\">THF (2 mL)</span> at&nbsp;<span style=\"color: #EB5E28\">0 °C</span>&nbsp;was added&nbsp;<span style=\"color: #12516E\">sodium hydride (8, .333 mmol)</span>&nbsp;The&nbsp;reaction mixture was stirred&nbsp;for 3 min before&nbsp;<span style=\"color: #12516E\">Iodoethane (56.26, .361 mmol)</span>&nbsp;was added. The&nbsp;reaction mixture was then stirred for overnight before LC-MS showed the desired mass. The&nbsp;reaction mixture was quenched with water and extracted with DCM (x3).&nbsp;The combined organic phase was washed with brine, dried over Na2SO4 and concentrated under reduced pressure to give the crude product.&nbsp;The crude product was purified with FCC to afford the desired product.</p></span>\n",
       "        </div>\n",
       "    </div>\n",
       "    "
      ],
      "text/plain": [
       "<IPython.core.display.HTML object>"
      ]
     },
     "metadata": {},
     "output_type": "display_data"
    },
    {
     "data": {
      "text/html": [
       "\n",
       "    <div style=\"border: 1px solid #ccc; margin: 10px 0; padding: 10px; background-color: #f9f9f9;\">\n",
       "        <strong>ExpID Group: 9 - PROD</strong>\n",
       "        <div style=\"margin-top: 5px;\">\n",
       "            <em><strong>Experiment ID: </strong>207442</em>\n",
       "        </div>\n",
       "        <div style=\"margin-top: 5px;\">\n",
       "            <em><strong>Entry Date: </strong>2022-09-21</em>\n",
       "        </div>        \n",
       "        <div style=\"border-top: 1px dashed #999; margin-top: 10px; padding-top: 10px\">\n",
       "            <span style=\"font-size: 18px !important;\"><p>To a solution of&nbsp;<span style=\"color: #12516E\">8-bromo-6-methyl-3-(oxetan-3-yl)-2-sulfanylidene-1H-quinazolin-4-one (38.8, .119 mmol)</span>&nbsp;in&nbsp;<span style=\"color: #53DD6C\">THF (2 mL)</span> at&nbsp;<span style=\"color: #EB5E28\">0 °C</span>&nbsp;was added&nbsp;<span style=\"color: #12516E\">sodium hydride (8, .333 mmol)</span>&nbsp;The&nbsp;reaction mixture was stirred&nbsp;for 3 min before&nbsp;<span style=\"color: #12516E\">Iodoethane (56.26, .361 mmol)</span>&nbsp;was added. The&nbsp;reaction mixture was then stirred for overnight before LC-MS showed the desired mass. The&nbsp;reaction mixture was quenched with water and extracted with DCM (x3).&nbsp;The combined organic phase was washed with brine, dried over Na2SO4 and concentrated under reduced pressure to give the crude product.&nbsp;The crude product was purified with FCC to afford the desired product.</p></span>\n",
       "        </div>\n",
       "    </div>\n",
       "    "
      ],
      "text/plain": [
       "<IPython.core.display.HTML object>"
      ]
     },
     "metadata": {},
     "output_type": "display_data"
    },
    {
     "data": {
      "text/html": [
       "<hr style=\"border: 2px solid #999; margin: 30px 0; padding: 10px 0;\">"
      ],
      "text/plain": [
       "<IPython.core.display.HTML object>"
      ]
     },
     "metadata": {},
     "output_type": "display_data"
    },
    {
     "data": {
      "text/html": [
       "\n",
       "    <div style=\"border: 1px solid #ccc; margin: 10px 0; padding: 10px; background-color: #f9f9f9;\">\n",
       "        <strong>ExpID Group: 10 - DEV</strong>\n",
       "        <div style=\"margin-top: 5px;\">\n",
       "            <em><strong>Experiment ID: </strong>207435</em>\n",
       "        </div>\n",
       "        <div style=\"margin-top: 5px;\">\n",
       "            <em><strong>Entry Date: </strong>2022-09-21</em>\n",
       "        </div>        \n",
       "        <div style=\"border-top: 1px dashed #999; margin-top: 10px; padding-top: 10px\">\n",
       "            <span style=\"font-size: 18px !important;\"><p style=\"margin: 1em 0px; padding: 0px; box-sizing: border-box; font-size: 12pt; font-weight: 400; color: #000000; font-family: Arial, sans-serif; font-style: normal; font-variant-ligatures: normal; font-variant-caps: normal; letter-spacing: normal; orphans: 2; text-align: left; text-indent: 0px; text-transform: none; white-space: normal; widows: 2; word-spacing: 0px; -webkit-text-stroke-width: 0px; background-color: #ffffff; text-decoration-thickness: initial; text-decoration-style: initial; text-decoration-color: initial;\">To a 50 mL RBF (N2 flushed),&nbsp;<span style=\"color: #53DD6C\">DCM (40 mL)</span> &nbsp;&nbsp; &nbsp;was taken and&nbsp;<span style=\"color: #12516E\">N,N-dimethylformamide, extra dry over M.S. (, 15.504 mmol)</span> &nbsp;was added. To this solution&nbsp;<span style=\"color: #12516E\">Oxalyl chloride (, 15.504 mmol)</span> &nbsp;&nbsp; &nbsp;was added dropwise at 0°C over the period of 10-15 minutes. After the addition was finished. The reaction mixture was stirred for 30 mins at 0-10°C. To this solution was added&nbsp;<span style=\"color: #12516E\">rac-(4R)-2-methyl-1-[(2-methylpropan-2-yl)oxycarbonyl]-4-phenylmethoxypyrrolidine-2-carboxylic acid (, 11.926 mmol)</span> &nbsp;&nbsp; and&nbsp;<span style=\"color: #12516E\">Pyridine (, 17.889 mmol)</span> &nbsp;dissolved in 2-3 mL DCM dropwise at&nbsp;<span style=\"margin: 0px; padding: 0px; box-sizing: border-box; display: inline !important; color: #000000; font-family: Verdana, Arial, Helvetica, sans-serif; font-size: 16px; font-style: normal; font-variant-ligatures: normal; font-variant-caps: normal; font-weight: 400; letter-spacing: normal; orphans: 2; text-align: start; text-indent: 0px; text-transform: none; white-space: normal; widows: 2; word-spacing: 0px; -webkit-text-stroke-width: 0px; background-color: #ffffff; text-decoration-thickness: initial; text-decoration-style: initial; text-decoration-color: initial; float: none;\">0°C. The reaction mixture was stirred for 30 minutes and monitored by TLC.&nbsp;The conversion was 100%, monitored by TLC (50% EA/Heptanes, stained by Ninhydrin). The reaction mixture was washed with water (2 mL X 2). The organic layer was dried over Na2SO4 and concentrated to obtain yellowish liquid (as intermediate) which was taken directly to next step.&nbsp;</span></p> \n",
       "<p style=\"margin: 1em 0px; padding: 0px; box-sizing: border-box; font-size: 16px; font-weight: 400; color: #000000; font-style: normal; font-variant-ligatures: normal; font-variant-caps: normal; letter-spacing: normal; orphans: 2; text-indent: 0px; text-transform: none; white-space: normal; widows: 2; word-spacing: 0px; -webkit-text-stroke-width: 0px; background-color: #ffffff; text-decoration-thickness: initial; text-decoration-style: initial; text-decoration-color: initial; font-family: Verdana, Arial, Helvetica, sans-serif; text-align: start;\"><span style=\"margin: 0px; padding: 0px; box-sizing: border-box; display: inline !important; color: #000000; font-family: Verdana, Arial, Helvetica, sans-serif; font-size: 16px; font-style: normal; font-variant-ligatures: normal; font-variant-caps: normal; font-weight: 400; letter-spacing: normal; orphans: 2; text-align: start; text-indent: 0px; text-transform: none; white-space: normal; widows: 2; word-spacing: 0px; -webkit-text-stroke-width: 0px; background-color: #ffffff; text-decoration-thickness: initial; text-decoration-style: initial; text-decoration-color: initial; float: none;\">The temperature of organic layer was maintained about 0-10°C throughout the process.</span></p> \n",
       "<p style=\"margin: 1em 0px; padding: 0px; box-sizing: border-box; font-size: 16px; font-weight: 400; color: #000000; font-style: normal; font-variant-ligatures: normal; font-variant-caps: normal; letter-spacing: normal; orphans: 2; text-indent: 0px; text-transform: none; white-space: normal; widows: 2; word-spacing: 0px; -webkit-text-stroke-width: 0px; background-color: #ffffff; text-decoration-thickness: initial; text-decoration-style: initial; text-decoration-color: initial; font-family: Verdana, Arial, Helvetica, sans-serif; text-align: start;\">&nbsp;To a 50 mL RBF (N2 flushed), was added&nbsp;Intermediate, with&nbsp;<span style=\"color: #12516E\">4-bromo-6-chloropyridazin-3-amine (, 17.889 mmol)</span> &nbsp;along with&nbsp;<span style=\"color: #53DD6C\">THF (75 mL)</span> &nbsp;&nbsp; To this solution was added&nbsp;<span style=\"color: #12516E\">sodium hydride (, 35.778 mmol)</span> &nbsp;&nbsp;in 3 potions at 0°C.&nbsp; &nbsp;After&nbsp;2h of stirring, rxn was monitored by HPLC to see the desired peak as well as two distinct extra peak. The extra peaks were the cyclized product. The ratio for amide and cyclized compounds was 1:2.</p> \n",
       "<p style=\"margin: 1em 0px; padding: 0px; box-sizing: border-box; font-size: 16px; font-weight: 400; color: #000000; font-style: normal; font-variant-ligatures: normal; font-variant-caps: normal; letter-spacing: normal; orphans: 2; text-indent: 0px; text-transform: none; white-space: normal; widows: 2; word-spacing: 0px; -webkit-text-stroke-width: 0px; background-color: #ffffff; text-decoration-thickness: initial; text-decoration-style: initial; text-decoration-color: initial; font-family: Verdana, Arial, Helvetica, sans-serif; text-align: start;\">Further purification was&nbsp;done by FCC (10% to 80% EA/Heptanes) to obtain white solid as&nbsp;only cyclized compound.&nbsp;<span style=\"color: #6A7FDB\">(4R)-12-chloro-6-methyl-4-phenylmethoxy-2,8,10,11-tetrazatricyclo[7.4.0.02,6]trideca-1(9),10,12-trien-7-one ( g, 3.19 mmol, 26.75% yield)</span></p></span>\n",
       "        </div>\n",
       "    </div>\n",
       "    "
      ],
      "text/plain": [
       "<IPython.core.display.HTML object>"
      ]
     },
     "metadata": {},
     "output_type": "display_data"
    },
    {
     "data": {
      "text/html": [
       "\n",
       "    <div style=\"border: 1px solid #ccc; margin: 10px 0; padding: 10px; background-color: #f9f9f9;\">\n",
       "        <strong>ExpID Group: 10 - U6</strong>\n",
       "        <div style=\"margin-top: 5px;\">\n",
       "            <em><strong>Experiment ID: </strong>207435</em>\n",
       "        </div>\n",
       "        <div style=\"margin-top: 5px;\">\n",
       "            <em><strong>Entry Date: </strong>2022-09-21</em>\n",
       "        </div>        \n",
       "        <div style=\"border-top: 1px dashed #999; margin-top: 10px; padding-top: 10px\">\n",
       "            <span style=\"font-size: 18px !important;\"><p style=\"margin: 1em 0px; padding: 0px; box-sizing: border-box; font-size: 12pt; font-weight: 400; color: #000000; font-family: Arial, sans-serif; font-style: normal; font-variant-ligatures: normal; font-variant-caps: normal; letter-spacing: normal; orphans: 2; text-align: left; text-indent: 0px; text-transform: none; white-space: normal; widows: 2; word-spacing: 0px; -webkit-text-stroke-width: 0px; background-color: #ffffff; text-decoration-thickness: initial; text-decoration-style: initial; text-decoration-color: initial;\">To a 50 mL RBF (N2 flushed),&nbsp;<span style=\"color: #53DD6C\">DCM (40 mL)</span> &nbsp;&nbsp; &nbsp;was taken and&nbsp;<span style=\"color: #12516E\">N,N-dimethylformamide, extra dry over M.S. (1.13, 15.504 mmol)</span> &nbsp;was added. To this solution&nbsp;<span style=\"color: #12516E\">Oxalyl chloride (1967.75, 15.504 mmol)</span> &nbsp;&nbsp; &nbsp;was added dropwise at 0°C over the period of 10-15 minutes. After the addition was finished. The reaction mixture was stirred for 30 mins at 0-10°C. To this solution was added&nbsp;<span style=\"color: #12516E\">rac-(4R)-2-methyl-1-[(2-methylpropan-2-yl)oxycarbonyl]-4-phenylmethoxypyrrolidine-2-carboxylic acid (4, 11.926 mmol)</span> &nbsp;&nbsp; and&nbsp;<span style=\"color: #12516E\">Pyridine (1.42, 17.889 mmol)</span> &nbsp;dissolved in 2-3 mL DCM dropwise at&nbsp;<span style=\"margin: 0px; padding: 0px; box-sizing: border-box; display: inline !important; color: #000000; font-family: Verdana, Arial, Helvetica, sans-serif; font-size: 16px; font-style: normal; font-variant-ligatures: normal; font-variant-caps: normal; font-weight: 400; letter-spacing: normal; orphans: 2; text-align: start; text-indent: 0px; text-transform: none; white-space: normal; widows: 2; word-spacing: 0px; -webkit-text-stroke-width: 0px; background-color: #ffffff; text-decoration-thickness: initial; text-decoration-style: initial; text-decoration-color: initial; float: none;\">0°C. The reaction mixture was stirred for 30 minutes and monitored by TLC.&nbsp;The conversion was 100%, monitored by TLC (50% EA/Heptanes, stained by Ninhydrin). The reaction mixture was washed with water (2 mL X 2). The organic layer was dried over Na2SO4 and concentrated to obtain yellowish liquid (as intermediate) which was taken directly to next step.&nbsp;</span></p> \n",
       "<p style=\"margin: 1em 0px; padding: 0px; box-sizing: border-box; font-size: 16px; font-weight: 400; color: #000000; font-style: normal; font-variant-ligatures: normal; font-variant-caps: normal; letter-spacing: normal; orphans: 2; text-indent: 0px; text-transform: none; white-space: normal; widows: 2; word-spacing: 0px; -webkit-text-stroke-width: 0px; background-color: #ffffff; text-decoration-thickness: initial; text-decoration-style: initial; text-decoration-color: initial; font-family: Verdana, Arial, Helvetica, sans-serif; text-align: start;\"><span style=\"margin: 0px; padding: 0px; box-sizing: border-box; display: inline !important; color: #000000; font-family: Verdana, Arial, Helvetica, sans-serif; font-size: 16px; font-style: normal; font-variant-ligatures: normal; font-variant-caps: normal; font-weight: 400; letter-spacing: normal; orphans: 2; text-align: start; text-indent: 0px; text-transform: none; white-space: normal; widows: 2; word-spacing: 0px; -webkit-text-stroke-width: 0px; background-color: #ffffff; text-decoration-thickness: initial; text-decoration-style: initial; text-decoration-color: initial; float: none;\">The temperature of organic layer was maintained about 0-10°C throughout the process.</span></p> \n",
       "<p style=\"margin: 1em 0px; padding: 0px; box-sizing: border-box; font-size: 16px; font-weight: 400; color: #000000; font-style: normal; font-variant-ligatures: normal; font-variant-caps: normal; letter-spacing: normal; orphans: 2; text-indent: 0px; text-transform: none; white-space: normal; widows: 2; word-spacing: 0px; -webkit-text-stroke-width: 0px; background-color: #ffffff; text-decoration-thickness: initial; text-decoration-style: initial; text-decoration-color: initial; font-family: Verdana, Arial, Helvetica, sans-serif; text-align: start;\">&nbsp;To a 50 mL RBF (N2 flushed), was added&nbsp;Intermediate, with&nbsp;<span style=\"color: #12516E\">4-bromo-6-chloropyridazin-3-amine (3.73, 17.889 mmol)</span> &nbsp;along with&nbsp;<span style=\"color: #53DD6C\">THF (75 mL)</span> &nbsp;&nbsp; To this solution was added&nbsp;<span style=\"color: #12516E\">sodium hydride (.86, 35.778 mmol)</span> &nbsp;&nbsp;in 3 potions at 0°C.&nbsp; &nbsp;After&nbsp;2h of stirring, rxn was monitored by HPLC to see the desired peak as well as two distinct extra peak. The extra peaks were the cyclized product. The ratio for amide and cyclized compounds was 1:2.</p> \n",
       "<p style=\"margin: 1em 0px; padding: 0px; box-sizing: border-box; font-size: 16px; font-weight: 400; color: #000000; font-style: normal; font-variant-ligatures: normal; font-variant-caps: normal; letter-spacing: normal; orphans: 2; text-indent: 0px; text-transform: none; white-space: normal; widows: 2; word-spacing: 0px; -webkit-text-stroke-width: 0px; background-color: #ffffff; text-decoration-thickness: initial; text-decoration-style: initial; text-decoration-color: initial; font-family: Verdana, Arial, Helvetica, sans-serif; text-align: start;\">Further purification was&nbsp;done by FCC (10% to 80% EA/Heptanes) to obtain white solid as&nbsp;only cyclized compound.&nbsp;<span style=\"color: #6A7FDB\">(4R)-12-chloro-6-methyl-4-phenylmethoxy-2,8,10,11-tetrazatricyclo[7.4.0.02,6]trideca-1(9),10,12-trien-7-one (1.85 g, 5.365 mmol, 44.989% yield)</span></p></span>\n",
       "        </div>\n",
       "    </div>\n",
       "    "
      ],
      "text/plain": [
       "<IPython.core.display.HTML object>"
      ]
     },
     "metadata": {},
     "output_type": "display_data"
    },
    {
     "data": {
      "text/html": [
       "\n",
       "    <div style=\"border: 1px solid #ccc; margin: 10px 0; padding: 10px; background-color: #f9f9f9;\">\n",
       "        <strong>ExpID Group: 10 - PROD</strong>\n",
       "        <div style=\"margin-top: 5px;\">\n",
       "            <em><strong>Experiment ID: </strong>207435</em>\n",
       "        </div>\n",
       "        <div style=\"margin-top: 5px;\">\n",
       "            <em><strong>Entry Date: </strong>2022-09-21</em>\n",
       "        </div>        \n",
       "        <div style=\"border-top: 1px dashed #999; margin-top: 10px; padding-top: 10px\">\n",
       "            <span style=\"font-size: 18px !important;\"><p style=\"margin: 1em 0px; padding: 0px; box-sizing: border-box; font-size: 12pt; font-weight: 400; color: #000000; font-family: Arial, sans-serif; font-style: normal; font-variant-ligatures: normal; font-variant-caps: normal; letter-spacing: normal; orphans: 2; text-align: left; text-indent: 0px; text-transform: none; white-space: normal; widows: 2; word-spacing: 0px; -webkit-text-stroke-width: 0px; background-color: #ffffff; text-decoration-thickness: initial; text-decoration-style: initial; text-decoration-color: initial;\">To a 50 mL RBF (N2 flushed),&nbsp;<span style=\"color: #53DD6C\">DCM (40 mL)</span> &nbsp;&nbsp; &nbsp;was taken and&nbsp;<span style=\"color: #12516E\">N,N-dimethylformamide, extra dry over M.S. (1.13, 15.504 mmol)</span> &nbsp;was added. To this solution&nbsp;<span style=\"color: #12516E\">Oxalyl chloride (1967.75, 15.504 mmol)</span> &nbsp;&nbsp; &nbsp;was added dropwise at 0°C over the period of 10-15 minutes. After the addition was finished. The reaction mixture was stirred for 30 mins at 0-10°C. To this solution was added&nbsp;<span style=\"color: #12516E\">rac-(4R)-2-methyl-1-[(2-methylpropan-2-yl)oxycarbonyl]-4-phenylmethoxypyrrolidine-2-carboxylic acid (4, 11.926 mmol)</span> &nbsp;&nbsp; and&nbsp;<span style=\"color: #12516E\">Pyridine (1.42, 17.889 mmol)</span> &nbsp;dissolved in 2-3 mL DCM dropwise at&nbsp;<span style=\"margin: 0px; padding: 0px; box-sizing: border-box; display: inline !important; color: #000000; font-family: Verdana, Arial, Helvetica, sans-serif; font-size: 16px; font-style: normal; font-variant-ligatures: normal; font-variant-caps: normal; font-weight: 400; letter-spacing: normal; orphans: 2; text-align: start; text-indent: 0px; text-transform: none; white-space: normal; widows: 2; word-spacing: 0px; -webkit-text-stroke-width: 0px; background-color: #ffffff; text-decoration-thickness: initial; text-decoration-style: initial; text-decoration-color: initial; float: none;\">0°C. The reaction mixture was stirred for 30 minutes and monitored by TLC.&nbsp;The conversion was 100%, monitored by TLC (50% EA/Heptanes, stained by Ninhydrin). The reaction mixture was washed with water (2 mL X 2). The organic layer was dried over Na2SO4 and concentrated to obtain yellowish liquid (as intermediate) which was taken directly to next step.&nbsp;</span></p> \n",
       "<p style=\"margin: 1em 0px; padding: 0px; box-sizing: border-box; font-size: 16px; font-weight: 400; color: #000000; font-style: normal; font-variant-ligatures: normal; font-variant-caps: normal; letter-spacing: normal; orphans: 2; text-indent: 0px; text-transform: none; white-space: normal; widows: 2; word-spacing: 0px; -webkit-text-stroke-width: 0px; background-color: #ffffff; text-decoration-thickness: initial; text-decoration-style: initial; text-decoration-color: initial; font-family: Verdana, Arial, Helvetica, sans-serif; text-align: start;\"><span style=\"margin: 0px; padding: 0px; box-sizing: border-box; display: inline !important; color: #000000; font-family: Verdana, Arial, Helvetica, sans-serif; font-size: 16px; font-style: normal; font-variant-ligatures: normal; font-variant-caps: normal; font-weight: 400; letter-spacing: normal; orphans: 2; text-align: start; text-indent: 0px; text-transform: none; white-space: normal; widows: 2; word-spacing: 0px; -webkit-text-stroke-width: 0px; background-color: #ffffff; text-decoration-thickness: initial; text-decoration-style: initial; text-decoration-color: initial; float: none;\">The temperature of organic layer was maintained about 0-10°C throughout the process.</span></p> \n",
       "<p style=\"margin: 1em 0px; padding: 0px; box-sizing: border-box; font-size: 16px; font-weight: 400; color: #000000; font-style: normal; font-variant-ligatures: normal; font-variant-caps: normal; letter-spacing: normal; orphans: 2; text-indent: 0px; text-transform: none; white-space: normal; widows: 2; word-spacing: 0px; -webkit-text-stroke-width: 0px; background-color: #ffffff; text-decoration-thickness: initial; text-decoration-style: initial; text-decoration-color: initial; font-family: Verdana, Arial, Helvetica, sans-serif; text-align: start;\">&nbsp;To a 50 mL RBF (N2 flushed), was added&nbsp;Intermediate, with&nbsp;<span style=\"color: #12516E\">4-bromo-6-chloropyridazin-3-amine (3.73, 17.889 mmol)</span> &nbsp;along with&nbsp;<span style=\"color: #53DD6C\">THF (75 mL)</span> &nbsp;&nbsp; To this solution was added&nbsp;<span style=\"color: #12516E\">sodium hydride (.86, 35.778 mmol)</span> &nbsp;&nbsp;in 3 potions at 0°C.&nbsp; &nbsp;After&nbsp;2h of stirring, rxn was monitored by HPLC to see the desired peak as well as two distinct extra peak. The extra peaks were the cyclized product. The ratio for amide and cyclized compounds was 1:2.</p> \n",
       "<p style=\"margin: 1em 0px; padding: 0px; box-sizing: border-box; font-size: 16px; font-weight: 400; color: #000000; font-style: normal; font-variant-ligatures: normal; font-variant-caps: normal; letter-spacing: normal; orphans: 2; text-indent: 0px; text-transform: none; white-space: normal; widows: 2; word-spacing: 0px; -webkit-text-stroke-width: 0px; background-color: #ffffff; text-decoration-thickness: initial; text-decoration-style: initial; text-decoration-color: initial; font-family: Verdana, Arial, Helvetica, sans-serif; text-align: start;\">Further purification was&nbsp;done by FCC (10% to 80% EA/Heptanes) to obtain white solid as&nbsp;only cyclized compound.&nbsp;<span style=\"color: #6A7FDB\">(4R)-12-chloro-6-methyl-4-phenylmethoxy-2,8,10,11-tetrazatricyclo[7.4.0.02,6]trideca-1(9),10,12-trien-7-one (1.85 g, 5.365 mmol, 44.989% yield)</span></p></span>\n",
       "        </div>\n",
       "    </div>\n",
       "    "
      ],
      "text/plain": [
       "<IPython.core.display.HTML object>"
      ]
     },
     "metadata": {},
     "output_type": "display_data"
    },
    {
     "data": {
      "text/html": [
       "<hr style=\"border: 2px solid #999; margin: 30px 0; padding: 10px 0;\">"
      ],
      "text/plain": [
       "<IPython.core.display.HTML object>"
      ]
     },
     "metadata": {},
     "output_type": "display_data"
    },
    {
     "data": {
      "text/html": [
       "\n",
       "    <div style=\"border: 1px solid #ccc; margin: 10px 0; padding: 10px; background-color: #f9f9f9;\">\n",
       "        <strong>ExpID Group: 11 - DEV</strong>\n",
       "        <div style=\"margin-top: 5px;\">\n",
       "            <em><strong>Experiment ID: </strong>207433</em>\n",
       "        </div>\n",
       "        <div style=\"margin-top: 5px;\">\n",
       "            <em><strong>Entry Date: </strong>2022-09-21</em>\n",
       "        </div>        \n",
       "        <div style=\"border-top: 1px dashed #999; margin-top: 10px; padding-top: 10px\">\n",
       "            <span style=\"font-size: 18px !important;\"><p>&nbsp; &nbsp; &nbsp; &nbsp;To a solution of&nbsp;<span style=\"color: #12516E\">10-(benzenesulfonyl)-5-methyl-12-(1-methylindazol-5-yl)-3-(oxan-4-yl)-3,5,8,10-tetrazatricyclo[7.3.0.02,6]dodeca-1,6,8,11-tetraen-4-one (, .184 mmol)</span> &nbsp;in&nbsp;<span style=\"color: #53DD6C\">THF (3 mL)</span> &nbsp;was added&nbsp;<span style=\"color: #12516E\">LDA (, .553 mmol)</span> &nbsp;under&nbsp;<span style=\"color: #EB5E28\">-78 °C</span> &nbsp;and stirred at&nbsp;<span style=\"color: #EB5E28\">-78 °C</span> &nbsp;for 30min, then was added a solution of&nbsp;<span style=\"color: #12516E\">1,2-Dibromotetrachloroethane (, .276 mmol)</span> &nbsp;in&nbsp;<span style=\"color: #53DD6C\">THF (2 mL)</span> &nbsp;and stirred at&nbsp;<span style=\"color: #EB5E28\">-78 °C</span> &nbsp;for 30min.</p> \n",
       "<p>&nbsp; &nbsp; &nbsp; &nbsp;MS showed the target MS was formed.</p> \n",
       "<p>&nbsp; &nbsp; &nbsp; &nbsp;<span style=\"color: #000000; font-family: Verdana, Arial, Helvetica, sans-serif; font-size: 11px; font-style: normal; font-variant-ligatures: normal; font-variant-caps: normal; font-weight: 400; letter-spacing: normal; orphans: 2; text-align: start; text-indent: 0px; text-transform: none; white-space: normal; widows: 2; word-spacing: 0px; -webkit-text-stroke-width: 0px; background-color: #ffffff; text-decoration-style: initial; text-decoration-color: initial; display: inline !important; float: none;\">The mixture was&nbsp;puroed into 1M HCl solution and extracted with EA(20 ml*3),&nbsp;</span><span style=\"color: #000000; font-family: Verdana, Arial, Helvetica, sans-serif; font-size: 11px; font-style: normal; font-variant-ligatures: normal; font-variant-caps: normal; font-weight: 400; letter-spacing: normal; orphans: 2; text-align: start; text-indent: 0px; text-transform: none; white-space: normal; widows: 2; word-spacing: 0px; -webkit-text-stroke-width: 0px; background-color: #ffffff; text-decoration-style: initial; text-decoration-color: initial; display: inline !important; float: none;\">The organic phase was washed with brine, dried over Na2SO4, concentrated in reduce pressure to get crude product and was puritied by prep-TLC to get&nbsp;<span style=\"color: #6A7FDB\">10-(benzenesulfonyl)-11-bromo-5-methyl-12-(1-methylindazol-5-yl)-3-(oxan-4-yl)-3,5,8,10-tetrazatricyclo[7.3.0.02,6]dodeca-1,6,8,11-tetraen-4-one (120 mg, .137 mmol, 74.174% yield)</span> &nbsp;&nbsp;as&nbsp;white solid.</span></p></span>\n",
       "        </div>\n",
       "    </div>\n",
       "    "
      ],
      "text/plain": [
       "<IPython.core.display.HTML object>"
      ]
     },
     "metadata": {},
     "output_type": "display_data"
    },
    {
     "data": {
      "text/html": [
       "\n",
       "    <div style=\"border: 1px solid #ccc; margin: 10px 0; padding: 10px; background-color: #f9f9f9;\">\n",
       "        <strong>ExpID Group: 11 - U6</strong>\n",
       "        <div style=\"margin-top: 5px;\">\n",
       "            <em><strong>Experiment ID: </strong>207433</em>\n",
       "        </div>\n",
       "        <div style=\"margin-top: 5px;\">\n",
       "            <em><strong>Entry Date: </strong>2022-09-21</em>\n",
       "        </div>        \n",
       "        <div style=\"border-top: 1px dashed #999; margin-top: 10px; padding-top: 10px\">\n",
       "            <span style=\"font-size: 18px !important;\"><p>&nbsp; &nbsp; &nbsp; &nbsp;To a solution of&nbsp;<span style=\"color: #12516E\">10-(benzenesulfonyl)-5-methyl-12-(1-methylindazol-5-yl)-3-(oxan-4-yl)-3,5,8,10-tetrazatricyclo[7.3.0.02,6]dodeca-1,6,8,11-tetraen-4-one (100, .184 mmol)</span> &nbsp;in&nbsp;<span style=\"color: #53DD6C\">THF (3 mL)</span> &nbsp;was added&nbsp;<span style=\"color: #12516E\">LDA (, .553 mmol)</span> &nbsp;under&nbsp;<span style=\"color: #EB5E28\">-78 °C</span> &nbsp;and stirred at&nbsp;<span style=\"color: #EB5E28\">-78 °C</span> &nbsp;for 30min, then was added a solution of&nbsp;<span style=\"color: #12516E\">1,2-Dibromotetrachloroethane (90.02, .276 mmol)</span> &nbsp;in&nbsp;<span style=\"color: #53DD6C\">THF (2 mL)</span> &nbsp;and stirred at&nbsp;<span style=\"color: #EB5E28\">-78 °C</span> &nbsp;for 30min.</p> \n",
       "<p>&nbsp; &nbsp; &nbsp; &nbsp;MS showed the target MS was formed.</p> \n",
       "<p>&nbsp; &nbsp; &nbsp; &nbsp;<span style=\"color: #000000; font-family: Verdana, Arial, Helvetica, sans-serif; font-size: 11px; font-style: normal; font-variant-ligatures: normal; font-variant-caps: normal; font-weight: 400; letter-spacing: normal; orphans: 2; text-align: start; text-indent: 0px; text-transform: none; white-space: normal; widows: 2; word-spacing: 0px; -webkit-text-stroke-width: 0px; background-color: #ffffff; text-decoration-style: initial; text-decoration-color: initial; display: inline !important; float: none;\">The mixture was&nbsp;puroed into 1M HCl solution and extracted with EA(20 ml*3),&nbsp;</span><span style=\"color: #000000; font-family: Verdana, Arial, Helvetica, sans-serif; font-size: 11px; font-style: normal; font-variant-ligatures: normal; font-variant-caps: normal; font-weight: 400; letter-spacing: normal; orphans: 2; text-align: start; text-indent: 0px; text-transform: none; white-space: normal; widows: 2; word-spacing: 0px; -webkit-text-stroke-width: 0px; background-color: #ffffff; text-decoration-style: initial; text-decoration-color: initial; display: inline !important; float: none;\">The organic phase was washed with brine, dried over Na2SO4, concentrated in reduce pressure to get crude product and was puritied by prep-TLC to get&nbsp;<span style=\"color: #6A7FDB\">10-(benzenesulfonyl)-11-bromo-5-methyl-12-(1-methylindazol-5-yl)-3-(oxan-4-yl)-3,5,8,10-tetrazatricyclo[7.3.0.02,6]dodeca-1,6,8,11-tetraen-4-one (120 mg, .137 mmol, 74.174% yield)</span> &nbsp;&nbsp;as&nbsp;white solid.</span></p></span>\n",
       "        </div>\n",
       "    </div>\n",
       "    "
      ],
      "text/plain": [
       "<IPython.core.display.HTML object>"
      ]
     },
     "metadata": {},
     "output_type": "display_data"
    },
    {
     "data": {
      "text/html": [
       "\n",
       "    <div style=\"border: 1px solid #ccc; margin: 10px 0; padding: 10px; background-color: #f9f9f9;\">\n",
       "        <strong>ExpID Group: 11 - PROD</strong>\n",
       "        <div style=\"margin-top: 5px;\">\n",
       "            <em><strong>Experiment ID: </strong>207433</em>\n",
       "        </div>\n",
       "        <div style=\"margin-top: 5px;\">\n",
       "            <em><strong>Entry Date: </strong>2022-09-21</em>\n",
       "        </div>        \n",
       "        <div style=\"border-top: 1px dashed #999; margin-top: 10px; padding-top: 10px\">\n",
       "            <span style=\"font-size: 18px !important;\"><p>&nbsp; &nbsp; &nbsp; &nbsp;To a solution of&nbsp;<span style=\"color: #12516E\">10-(benzenesulfonyl)-5-methyl-12-(1-methylindazol-5-yl)-3-(oxan-4-yl)-3,5,8,10-tetrazatricyclo[7.3.0.02,6]dodeca-1,6,8,11-tetraen-4-one (100, .184 mmol)</span> &nbsp;in&nbsp;<span style=\"color: #53DD6C\">THF (3 mL)</span> &nbsp;was added&nbsp;<span style=\"color: #12516E\">LDA (, .553 mmol)</span> &nbsp;under&nbsp;<span style=\"color: #EB5E28\">-78 °C</span> &nbsp;and stirred at&nbsp;<span style=\"color: #EB5E28\">-78 °C</span> &nbsp;for 30min, then was added a solution of&nbsp;<span style=\"color: #12516E\">1,2-Dibromotetrachloroethane (90.02, .276 mmol)</span> &nbsp;in&nbsp;<span style=\"color: #53DD6C\">THF (2 mL)</span> &nbsp;and stirred at&nbsp;<span style=\"color: #EB5E28\">-78 °C</span> &nbsp;for 30min.</p> \n",
       "<p>&nbsp; &nbsp; &nbsp; &nbsp;MS showed the target MS was formed.</p> \n",
       "<p>&nbsp; &nbsp; &nbsp; &nbsp;<span style=\"color: #000000; font-family: Verdana, Arial, Helvetica, sans-serif; font-size: 11px; font-style: normal; font-variant-ligatures: normal; font-variant-caps: normal; font-weight: 400; letter-spacing: normal; orphans: 2; text-align: start; text-indent: 0px; text-transform: none; white-space: normal; widows: 2; word-spacing: 0px; -webkit-text-stroke-width: 0px; background-color: #ffffff; text-decoration-style: initial; text-decoration-color: initial; display: inline !important; float: none;\">The mixture was&nbsp;puroed into 1M HCl solution and extracted with EA(20 ml*3),&nbsp;</span><span style=\"color: #000000; font-family: Verdana, Arial, Helvetica, sans-serif; font-size: 11px; font-style: normal; font-variant-ligatures: normal; font-variant-caps: normal; font-weight: 400; letter-spacing: normal; orphans: 2; text-align: start; text-indent: 0px; text-transform: none; white-space: normal; widows: 2; word-spacing: 0px; -webkit-text-stroke-width: 0px; background-color: #ffffff; text-decoration-style: initial; text-decoration-color: initial; display: inline !important; float: none;\">The organic phase was washed with brine, dried over Na2SO4, concentrated in reduce pressure to get crude product and was puritied by prep-TLC to get&nbsp;<span style=\"color: #6A7FDB\">10-(benzenesulfonyl)-11-bromo-5-methyl-12-(1-methylindazol-5-yl)-3-(oxan-4-yl)-3,5,8,10-tetrazatricyclo[7.3.0.02,6]dodeca-1,6,8,11-tetraen-4-one (120 mg, .137 mmol, 74.174% yield)</span> &nbsp;&nbsp;as&nbsp;white solid.</span></p></span>\n",
       "        </div>\n",
       "    </div>\n",
       "    "
      ],
      "text/plain": [
       "<IPython.core.display.HTML object>"
      ]
     },
     "metadata": {},
     "output_type": "display_data"
    },
    {
     "data": {
      "text/html": [
       "<hr style=\"border: 2px solid #999; margin: 30px 0; padding: 10px 0;\">"
      ],
      "text/plain": [
       "<IPython.core.display.HTML object>"
      ]
     },
     "metadata": {},
     "output_type": "display_data"
    },
    {
     "data": {
      "text/html": [
       "\n",
       "    <div style=\"border: 1px solid #ccc; margin: 10px 0; padding: 10px; background-color: #f9f9f9;\">\n",
       "        <strong>ExpID Group: 12 - DEV</strong>\n",
       "        <div style=\"margin-top: 5px;\">\n",
       "            <em><strong>Experiment ID: </strong>207432</em>\n",
       "        </div>\n",
       "        <div style=\"margin-top: 5px;\">\n",
       "            <em><strong>Entry Date: </strong>2022-09-21</em>\n",
       "        </div>        \n",
       "        <div style=\"border-top: 1px dashed #999; margin-top: 10px; padding-top: 10px\">\n",
       "            <span style=\"font-size: 18px !important;\"><p>&nbsp; &nbsp; &nbsp;To a solution of&nbsp;<span style=\"color: #12516E\">1-[4-[5-methyl-12-(1-methylindazol-5-yl)-4-oxo-3-propan-2-yl-3,5,8,10-tetrazatricyclo[7.3.0.02,6]dodeca-1,6,8,11-tetraen-11-yl]phenyl]piperidine-4-carbaldehyde (, .027 mmol)</span>&nbsp;in&nbsp;<span style=\"color: #53DD6C\">DMSO (1 mL)</span>&nbsp;was added&nbsp;<span style=\"color: #12516E\">2-(2,6-dioxopiperidin-3-yl)-5-piperidin-4-yloxyisoindole-1,3-dione (, .033 mmol)</span>&nbsp;and stirred at&nbsp;<span style=\"color: #EB5E28\">30 °C</span>&nbsp;for 1h.</p> \n",
       "<p>&nbsp; &nbsp; &nbsp;MS showed the starting material was not consumed.<br />&nbsp; &nbsp; &nbsp;The reaction was unsuccessful,the mixture was discarded.</p></span>\n",
       "        </div>\n",
       "    </div>\n",
       "    "
      ],
      "text/plain": [
       "<IPython.core.display.HTML object>"
      ]
     },
     "metadata": {},
     "output_type": "display_data"
    },
    {
     "data": {
      "text/html": [
       "\n",
       "    <div style=\"border: 1px solid #ccc; margin: 10px 0; padding: 10px; background-color: #f9f9f9;\">\n",
       "        <strong>ExpID Group: 12 - U6</strong>\n",
       "        <div style=\"margin-top: 5px;\">\n",
       "            <em><strong>Experiment ID: </strong>207432</em>\n",
       "        </div>\n",
       "        <div style=\"margin-top: 5px;\">\n",
       "            <em><strong>Entry Date: </strong>2022-09-21</em>\n",
       "        </div>        \n",
       "        <div style=\"border-top: 1px dashed #999; margin-top: 10px; padding-top: 10px\">\n",
       "            <span style=\"font-size: 18px !important;\"><p>&nbsp; &nbsp; &nbsp;To a solution of&nbsp;<span style=\"color: #12516E\">1-[4-[5-methyl-12-(1-methylindazol-5-yl)-4-oxo-3-propan-2-yl-3,5,8,10-tetrazatricyclo[7.3.0.02,6]dodeca-1,6,8,11-tetraen-11-yl]phenyl]piperidine-4-carbaldehyde (15, .027 mmol)</span>&nbsp;in&nbsp;<span style=\"color: #53DD6C\">DMSO (1 mL)</span>&nbsp;was added&nbsp;<span style=\"color: #12516E\">2-(2,6-dioxopiperidin-3-yl)-5-piperidin-4-yloxyisoindole-1,3-dione (11.75, .033 mmol)</span>&nbsp;and stirred at&nbsp;<span style=\"color: #EB5E28\">30 °C</span>&nbsp;for 1h.</p> \n",
       "<p>&nbsp; &nbsp; &nbsp;MS showed the starting material was not consumed.<br />&nbsp; &nbsp; &nbsp;The reaction was unsuccessful,the mixture was discarded.</p></span>\n",
       "        </div>\n",
       "    </div>\n",
       "    "
      ],
      "text/plain": [
       "<IPython.core.display.HTML object>"
      ]
     },
     "metadata": {},
     "output_type": "display_data"
    },
    {
     "data": {
      "text/html": [
       "\n",
       "    <div style=\"border: 1px solid #ccc; margin: 10px 0; padding: 10px; background-color: #f9f9f9;\">\n",
       "        <strong>ExpID Group: 12 - PROD</strong>\n",
       "        <div style=\"margin-top: 5px;\">\n",
       "            <em><strong>Experiment ID: </strong>207432</em>\n",
       "        </div>\n",
       "        <div style=\"margin-top: 5px;\">\n",
       "            <em><strong>Entry Date: </strong>2022-09-21</em>\n",
       "        </div>        \n",
       "        <div style=\"border-top: 1px dashed #999; margin-top: 10px; padding-top: 10px\">\n",
       "            <span style=\"font-size: 18px !important;\"><p>&nbsp; &nbsp; &nbsp;To a solution of&nbsp;<span style=\"color: #12516E\">1-[4-[5-methyl-12-(1-methylindazol-5-yl)-4-oxo-3-propan-2-yl-3,5,8,10-tetrazatricyclo[7.3.0.02,6]dodeca-1,6,8,11-tetraen-11-yl]phenyl]piperidine-4-carbaldehyde (15, .027 mmol)</span>&nbsp;in&nbsp;<span style=\"color: #53DD6C\">DMSO (1 mL)</span>&nbsp;was added&nbsp;<span style=\"color: #12516E\">2-(2,6-dioxopiperidin-3-yl)-5-piperidin-4-yloxyisoindole-1,3-dione (11.75, .033 mmol)</span>&nbsp;and stirred at&nbsp;<span style=\"color: #EB5E28\">30 °C</span>&nbsp;for 1h.</p> \n",
       "<p>&nbsp; &nbsp; &nbsp;MS showed the starting material was not consumed.<br />&nbsp; &nbsp; &nbsp;The reaction was unsuccessful,the mixture was discarded.</p></span>\n",
       "        </div>\n",
       "    </div>\n",
       "    "
      ],
      "text/plain": [
       "<IPython.core.display.HTML object>"
      ]
     },
     "metadata": {},
     "output_type": "display_data"
    },
    {
     "data": {
      "text/html": [
       "<hr style=\"border: 2px solid #999; margin: 30px 0; padding: 10px 0;\">"
      ],
      "text/plain": [
       "<IPython.core.display.HTML object>"
      ]
     },
     "metadata": {},
     "output_type": "display_data"
    },
    {
     "data": {
      "text/html": [
       "\n",
       "    <div style=\"border: 1px solid #ccc; margin: 10px 0; padding: 10px; background-color: #f9f9f9;\">\n",
       "        <strong>ExpID Group: 13 - DEV</strong>\n",
       "        <div style=\"margin-top: 5px;\">\n",
       "            <em><strong>Experiment ID: </strong>207431</em>\n",
       "        </div>\n",
       "        <div style=\"margin-top: 5px;\">\n",
       "            <em><strong>Entry Date: </strong>2022-09-21</em>\n",
       "        </div>        \n",
       "        <div style=\"border-top: 1px dashed #999; margin-top: 10px; padding-top: 10px\">\n",
       "            <span style=\"font-size: 18px !important;\"><p>&nbsp; &nbsp; &nbsp;To a solution of&nbsp;<span style=\"color: #12516E\">11-[4-[4-(hydroxymethyl)piperidin-1-yl]phenyl]-5-methyl-12-(1-methylindazol-5-yl)-3-propan-2-yl-3,5,8,10-tetrazatricyclo[7.3.0.02,6]dodeca-1,6,8,11-tetraen-4-one (, .036 mmol)</span>&nbsp;in&nbsp;<span style=\"color: #53DD6C\">DMSO (1 mL)</span>&nbsp;was added&nbsp;<span style=\"color: #12516E\">IBX (, .036 mmol)</span>&nbsp;and stirred at&nbsp;<span style=\"color: #EB5E28\">30 °C</span>&nbsp;for 2h.</p> \n",
       "<p>&nbsp; &nbsp; MS show the starting material was consumed and a new peak was formed.</p> \n",
       "<p>&nbsp; &nbsp; The mixture was used directly.</p></span>\n",
       "        </div>\n",
       "    </div>\n",
       "    "
      ],
      "text/plain": [
       "<IPython.core.display.HTML object>"
      ]
     },
     "metadata": {},
     "output_type": "display_data"
    },
    {
     "data": {
      "text/html": [
       "\n",
       "    <div style=\"border: 1px solid #ccc; margin: 10px 0; padding: 10px; background-color: #f9f9f9;\">\n",
       "        <strong>ExpID Group: 13 - U6</strong>\n",
       "        <div style=\"margin-top: 5px;\">\n",
       "            <em><strong>Experiment ID: </strong>207431</em>\n",
       "        </div>\n",
       "        <div style=\"margin-top: 5px;\">\n",
       "            <em><strong>Entry Date: </strong>2022-09-21</em>\n",
       "        </div>        \n",
       "        <div style=\"border-top: 1px dashed #999; margin-top: 10px; padding-top: 10px\">\n",
       "            <span style=\"font-size: 18px !important;\"><p>&nbsp; &nbsp; &nbsp;To a solution of&nbsp;<span style=\"color: #12516E\">11-[4-[4-(hydroxymethyl)piperidin-1-yl]phenyl]-5-methyl-12-(1-methylindazol-5-yl)-3-propan-2-yl-3,5,8,10-tetrazatricyclo[7.3.0.02,6]dodeca-1,6,8,11-tetraen-4-one (20, .036 mmol)</span>&nbsp;in&nbsp;<span style=\"color: #53DD6C\">DMSO (1 mL)</span>&nbsp;was added&nbsp;<span style=\"color: #12516E\">IBX (10.19, .036 mmol)</span>&nbsp;and stirred at&nbsp;<span style=\"color: #EB5E28\">30 °C</span>&nbsp;for 2h.</p> \n",
       "<p>&nbsp; &nbsp; MS show the starting material was consumed and a new peak was formed.</p> \n",
       "<p>&nbsp; &nbsp; The mixture was used directly.</p></span>\n",
       "        </div>\n",
       "    </div>\n",
       "    "
      ],
      "text/plain": [
       "<IPython.core.display.HTML object>"
      ]
     },
     "metadata": {},
     "output_type": "display_data"
    },
    {
     "data": {
      "text/html": [
       "\n",
       "    <div style=\"border: 1px solid #ccc; margin: 10px 0; padding: 10px; background-color: #f9f9f9;\">\n",
       "        <strong>ExpID Group: 13 - PROD</strong>\n",
       "        <div style=\"margin-top: 5px;\">\n",
       "            <em><strong>Experiment ID: </strong>207431</em>\n",
       "        </div>\n",
       "        <div style=\"margin-top: 5px;\">\n",
       "            <em><strong>Entry Date: </strong>2022-09-21</em>\n",
       "        </div>        \n",
       "        <div style=\"border-top: 1px dashed #999; margin-top: 10px; padding-top: 10px\">\n",
       "            <span style=\"font-size: 18px !important;\"><p>&nbsp; &nbsp; &nbsp;To a solution of&nbsp;<span style=\"color: #12516E\">11-[4-[4-(hydroxymethyl)piperidin-1-yl]phenyl]-5-methyl-12-(1-methylindazol-5-yl)-3-propan-2-yl-3,5,8,10-tetrazatricyclo[7.3.0.02,6]dodeca-1,6,8,11-tetraen-4-one (20, .036 mmol)</span>&nbsp;in&nbsp;<span style=\"color: #53DD6C\">DMSO (1 mL)</span>&nbsp;was added&nbsp;<span style=\"color: #12516E\">IBX (10.19, .036 mmol)</span>&nbsp;and stirred at&nbsp;<span style=\"color: #EB5E28\">30 °C</span>&nbsp;for 2h.</p> \n",
       "<p>&nbsp; &nbsp; MS show the starting material was consumed and a new peak was formed.</p> \n",
       "<p>&nbsp; &nbsp; The mixture was used directly.</p></span>\n",
       "        </div>\n",
       "    </div>\n",
       "    "
      ],
      "text/plain": [
       "<IPython.core.display.HTML object>"
      ]
     },
     "metadata": {},
     "output_type": "display_data"
    },
    {
     "data": {
      "text/html": [
       "<hr style=\"border: 2px solid #999; margin: 30px 0; padding: 10px 0;\">"
      ],
      "text/plain": [
       "<IPython.core.display.HTML object>"
      ]
     },
     "metadata": {},
     "output_type": "display_data"
    },
    {
     "data": {
      "text/html": [
       "\n",
       "    <div style=\"border: 1px solid #ccc; margin: 10px 0; padding: 10px; background-color: #f9f9f9;\">\n",
       "        <strong>ExpID Group: 14 - DEV</strong>\n",
       "        <div style=\"margin-top: 5px;\">\n",
       "            <em><strong>Experiment ID: </strong>207430</em>\n",
       "        </div>\n",
       "        <div style=\"margin-top: 5px;\">\n",
       "            <em><strong>Entry Date: </strong>2022-09-21</em>\n",
       "        </div>        \n",
       "        <div style=\"border-top: 1px dashed #999; margin-top: 10px; padding-top: 10px\">\n",
       "            <span style=\"font-size: 18px !important;\"><p style=\"margin: 1em 0px; color: #000000; font-family: Verdana, Arial, Helvetica, sans-serif; font-size: 11px; font-style: normal; font-variant-ligatures: normal; font-variant-caps: normal; font-weight: 400; letter-spacing: normal; orphans: 2; text-align: start; text-indent: 0px; text-transform: none; white-space: normal; widows: 2; word-spacing: 0px; -webkit-text-stroke-width: 0px; text-decoration-style: initial; text-decoration-color: initial;\">&nbsp; &nbsp; &nbsp; To a solution of&nbsp;<span style=\"color: #12516E\">10-(benzenesulfonyl)-12-bromo-5-methyl-3-(oxan-4-yl)-3,5,8,10-tetrazatricyclo[7.3.0.02,6]dodeca-1,6,8,11-tetraen-4-one (, 1.425 mmol)</span> &nbsp;&nbsp;&nbsp;&nbsp;in&nbsp;<span style=\"color: #53DD6C\">1,4-Dioxane (20 mL)</span> &nbsp;&nbsp;&nbsp;&nbsp;and&nbsp;<span style=\"color: #53DD6C\">Water (4 mL)</span> &nbsp;&nbsp;&nbsp;&nbsp; were added&nbsp;<span style=\"color: #12516E\">1-methyl-5-(4,4,5,5-tetramethyl-1,3,2-dioxaborolan-2-yl)indazole (, 2.849 mmol)</span> &nbsp;&nbsp;&nbsp;&nbsp;,<span style=\"color: #12516E\">K2CO3 (, 4.274 mmol)</span> &nbsp;&nbsp;&nbsp;&nbsp;,<span style=\"color: #12516E\">Pd(dppf)Cl2 (, .142 mmol)</span> &nbsp;&nbsp;&nbsp;&nbsp;and stirred at&nbsp;<span class=\"mask mceNonEditable\" style=\"text-decoration: underline; color: #4169e1; cursor: default;\">100 °C</span>&nbsp;&nbsp;for 1h.</p> \n",
       "<p style=\"margin: 1em 0px; color: #000000; font-family: Verdana, Arial, Helvetica, sans-serif; font-size: 11px; font-style: normal; font-variant-ligatures: normal; font-variant-caps: normal; font-weight: 400; letter-spacing: normal; orphans: 2; text-align: start; text-indent: 0px; text-transform: none; white-space: normal; widows: 2; word-spacing: 0px; -webkit-text-stroke-width: 0px; text-decoration-style: initial; text-decoration-color: initial;\">&nbsp; &nbsp; &nbsp; MS showed target MS was detected.</p> \n",
       "<p style=\"margin: 1em 0px; color: #000000; font-family: Verdana, Arial, Helvetica, sans-serif; font-size: 11px; font-style: normal; font-variant-ligatures: normal; font-variant-caps: normal; font-weight: 400; letter-spacing: normal; orphans: 2; text-align: start; text-indent: 0px; text-transform: none; white-space: normal; widows: 2; word-spacing: 0px; -webkit-text-stroke-width: 0px; text-decoration-style: initial; text-decoration-color: initial;\">&nbsp; &nbsp; &nbsp;&nbsp;<span style=\"color: #000000; font-family: Verdana, Arial, Helvetica, sans-serif; font-size: 11px; font-style: normal; font-variant-ligatures: normal; font-variant-caps: normal; font-weight: 400; letter-spacing: normal; orphans: 2; text-align: start; text-indent: 0px; text-transform: none; white-space: normal; widows: 2; word-spacing: 0px; -webkit-text-stroke-width: 0px; background-color: #ffffff; text-decoration-style: initial; text-decoration-color: initial; display: inline !important; float: none;\">T</span><span style=\"color: #000000; font-family: Verdana, Arial, Helvetica, sans-serif; font-size: 11px; font-style: normal; font-variant-ligatures: normal; font-variant-caps: normal; font-weight: 400; letter-spacing: normal; orphans: 2; text-align: start; text-indent: 0px; text-transform: none; white-space: normal; widows: 2; word-spacing: 0px; -webkit-text-stroke-width: 0px; background-color: #ffffff; text-decoration-style: initial; text-decoration-color: initial; display: inline !important; float: none;\">he mixture was poured into water (50ml ) and extracted with EA (50*2),</span><span style=\"color: #000000; font-family: Verdana, Arial, Helvetica, sans-serif; font-size: 11px; font-style: normal; font-variant-ligatures: normal; font-variant-caps: normal; font-weight: 400; letter-spacing: normal; orphans: 2; text-align: start; text-indent: 0px; text-transform: none; white-space: normal; widows: 2; word-spacing: 0px; -webkit-text-stroke-width: 0px; background-color: #ffffff; text-decoration-style: initial; text-decoration-color: initial; display: inline !important; float: none;\">The organic phase was washed with brine, dried over Na2SO4, concentrated in reduce pressure to get crude product, the crude product was puritied by&nbsp;silica gel to give&nbsp;<span style=\"color: #6A7FDB\">10-(benzenesulfonyl)-5-methyl-12-(1-methylindazol-5-yl)-3-(oxan-4-yl)-3,5,8,10-tetrazatricyclo[7.3.0.02,6]dodeca-1,6,8,11-tetraen-4-one (730 mg, 1.345 mmol, 94.436% yield)</span> &nbsp;&nbsp;&nbsp;&nbsp;</span><span style=\"color: #000000; font-family: Verdana, Arial, Helvetica, sans-serif; font-size: 11px; font-style: normal; font-variant-ligatures: normal; font-variant-caps: normal; font-weight: 400; letter-spacing: normal; orphans: 2; text-align: start; text-indent: 0px; text-transform: none; white-space: normal; widows: 2; word-spacing: 0px; -webkit-text-stroke-width: 0px; background-color: #ffffff; text-decoration-style: initial; text-decoration-color: initial; display: inline !important; float: none;\">as&nbsp;yellow solid.</span></p></span>\n",
       "        </div>\n",
       "    </div>\n",
       "    "
      ],
      "text/plain": [
       "<IPython.core.display.HTML object>"
      ]
     },
     "metadata": {},
     "output_type": "display_data"
    },
    {
     "data": {
      "text/html": [
       "\n",
       "    <div style=\"border: 1px solid #ccc; margin: 10px 0; padding: 10px; background-color: #f9f9f9;\">\n",
       "        <strong>ExpID Group: 14 - U6</strong>\n",
       "        <div style=\"margin-top: 5px;\">\n",
       "            <em><strong>Experiment ID: </strong>207430</em>\n",
       "        </div>\n",
       "        <div style=\"margin-top: 5px;\">\n",
       "            <em><strong>Entry Date: </strong>2022-09-21</em>\n",
       "        </div>        \n",
       "        <div style=\"border-top: 1px dashed #999; margin-top: 10px; padding-top: 10px\">\n",
       "            <span style=\"font-size: 18px !important;\"><p style=\"margin: 1em 0px; color: #000000; font-family: Verdana, Arial, Helvetica, sans-serif; font-size: 11px; font-style: normal; font-variant-ligatures: normal; font-variant-caps: normal; font-weight: 400; letter-spacing: normal; orphans: 2; text-align: start; text-indent: 0px; text-transform: none; white-space: normal; widows: 2; word-spacing: 0px; -webkit-text-stroke-width: 0px; text-decoration-style: initial; text-decoration-color: initial;\">&nbsp; &nbsp; &nbsp; To a solution of&nbsp;<span style=\"color: #12516E\">10-(benzenesulfonyl)-12-bromo-5-methyl-3-(oxan-4-yl)-3,5,8,10-tetrazatricyclo[7.3.0.02,6]dodeca-1,6,8,11-tetraen-4-one (700, 1.425 mmol)</span> &nbsp;&nbsp;&nbsp;&nbsp;in&nbsp;<span style=\"color: #53DD6C\">1,4-Dioxane (20 mL)</span> &nbsp;&nbsp;&nbsp;&nbsp;and&nbsp;<span style=\"color: #53DD6C\">Water (4 mL)</span> &nbsp;&nbsp;&nbsp;&nbsp; were added&nbsp;<span style=\"color: #12516E\">1-methyl-5-(4,4,5,5-tetramethyl-1,3,2-dioxaborolan-2-yl)indazole (735.47, 2.849 mmol)</span> &nbsp;&nbsp;&nbsp;&nbsp;,<span style=\"color: #12516E\">K2CO3 (590.65, 4.274 mmol)</span> &nbsp;&nbsp;&nbsp;&nbsp;,<span style=\"color: #12516E\">Pd(dppf)Cl2 (104.24, .142 mmol)</span> &nbsp;&nbsp;&nbsp;&nbsp;and stirred at&nbsp;<span class=\"mask mceNonEditable\" style=\"text-decoration: underline; color: #4169e1; cursor: default;\">100 °C</span>&nbsp;&nbsp;for 1h.</p> \n",
       "<p style=\"margin: 1em 0px; color: #000000; font-family: Verdana, Arial, Helvetica, sans-serif; font-size: 11px; font-style: normal; font-variant-ligatures: normal; font-variant-caps: normal; font-weight: 400; letter-spacing: normal; orphans: 2; text-align: start; text-indent: 0px; text-transform: none; white-space: normal; widows: 2; word-spacing: 0px; -webkit-text-stroke-width: 0px; text-decoration-style: initial; text-decoration-color: initial;\">&nbsp; &nbsp; &nbsp; MS showed target MS was detected.</p> \n",
       "<p style=\"margin: 1em 0px; color: #000000; font-family: Verdana, Arial, Helvetica, sans-serif; font-size: 11px; font-style: normal; font-variant-ligatures: normal; font-variant-caps: normal; font-weight: 400; letter-spacing: normal; orphans: 2; text-align: start; text-indent: 0px; text-transform: none; white-space: normal; widows: 2; word-spacing: 0px; -webkit-text-stroke-width: 0px; text-decoration-style: initial; text-decoration-color: initial;\">&nbsp; &nbsp; &nbsp;&nbsp;<span style=\"color: #000000; font-family: Verdana, Arial, Helvetica, sans-serif; font-size: 11px; font-style: normal; font-variant-ligatures: normal; font-variant-caps: normal; font-weight: 400; letter-spacing: normal; orphans: 2; text-align: start; text-indent: 0px; text-transform: none; white-space: normal; widows: 2; word-spacing: 0px; -webkit-text-stroke-width: 0px; background-color: #ffffff; text-decoration-style: initial; text-decoration-color: initial; display: inline !important; float: none;\">T</span><span style=\"color: #000000; font-family: Verdana, Arial, Helvetica, sans-serif; font-size: 11px; font-style: normal; font-variant-ligatures: normal; font-variant-caps: normal; font-weight: 400; letter-spacing: normal; orphans: 2; text-align: start; text-indent: 0px; text-transform: none; white-space: normal; widows: 2; word-spacing: 0px; -webkit-text-stroke-width: 0px; background-color: #ffffff; text-decoration-style: initial; text-decoration-color: initial; display: inline !important; float: none;\">he mixture was poured into water (50ml ) and extracted with EA (50*2),</span><span style=\"color: #000000; font-family: Verdana, Arial, Helvetica, sans-serif; font-size: 11px; font-style: normal; font-variant-ligatures: normal; font-variant-caps: normal; font-weight: 400; letter-spacing: normal; orphans: 2; text-align: start; text-indent: 0px; text-transform: none; white-space: normal; widows: 2; word-spacing: 0px; -webkit-text-stroke-width: 0px; background-color: #ffffff; text-decoration-style: initial; text-decoration-color: initial; display: inline !important; float: none;\">The organic phase was washed with brine, dried over Na2SO4, concentrated in reduce pressure to get crude product, the crude product was puritied by&nbsp;silica gel to give&nbsp;<span style=\"color: #6A7FDB\">10-(benzenesulfonyl)-5-methyl-12-(1-methylindazol-5-yl)-3-(oxan-4-yl)-3,5,8,10-tetrazatricyclo[7.3.0.02,6]dodeca-1,6,8,11-tetraen-4-one (730 mg, 1.345 mmol, 94.436% yield)</span> &nbsp;&nbsp;&nbsp;&nbsp;</span><span style=\"color: #000000; font-family: Verdana, Arial, Helvetica, sans-serif; font-size: 11px; font-style: normal; font-variant-ligatures: normal; font-variant-caps: normal; font-weight: 400; letter-spacing: normal; orphans: 2; text-align: start; text-indent: 0px; text-transform: none; white-space: normal; widows: 2; word-spacing: 0px; -webkit-text-stroke-width: 0px; background-color: #ffffff; text-decoration-style: initial; text-decoration-color: initial; display: inline !important; float: none;\">as&nbsp;yellow solid.</span></p></span>\n",
       "        </div>\n",
       "    </div>\n",
       "    "
      ],
      "text/plain": [
       "<IPython.core.display.HTML object>"
      ]
     },
     "metadata": {},
     "output_type": "display_data"
    },
    {
     "data": {
      "text/html": [
       "\n",
       "    <div style=\"border: 1px solid #ccc; margin: 10px 0; padding: 10px; background-color: #f9f9f9;\">\n",
       "        <strong>ExpID Group: 14 - PROD</strong>\n",
       "        <div style=\"margin-top: 5px;\">\n",
       "            <em><strong>Experiment ID: </strong>207430</em>\n",
       "        </div>\n",
       "        <div style=\"margin-top: 5px;\">\n",
       "            <em><strong>Entry Date: </strong>2022-09-21</em>\n",
       "        </div>        \n",
       "        <div style=\"border-top: 1px dashed #999; margin-top: 10px; padding-top: 10px\">\n",
       "            <span style=\"font-size: 18px !important;\"><p style=\"margin: 1em 0px; color: #000000; font-family: Verdana, Arial, Helvetica, sans-serif; font-size: 11px; font-style: normal; font-variant-ligatures: normal; font-variant-caps: normal; font-weight: 400; letter-spacing: normal; orphans: 2; text-align: start; text-indent: 0px; text-transform: none; white-space: normal; widows: 2; word-spacing: 0px; -webkit-text-stroke-width: 0px; text-decoration-style: initial; text-decoration-color: initial;\">&nbsp; &nbsp; &nbsp; To a solution of&nbsp;<span style=\"color: #12516E\">10-(benzenesulfonyl)-12-bromo-5-methyl-3-(oxan-4-yl)-3,5,8,10-tetrazatricyclo[7.3.0.02,6]dodeca-1,6,8,11-tetraen-4-one (700, 1.425 mmol)</span> &nbsp;&nbsp;&nbsp;&nbsp;in&nbsp;<span style=\"color: #53DD6C\">1,4-Dioxane (20 mL)</span> &nbsp;&nbsp;&nbsp;&nbsp;and&nbsp;<span style=\"color: #53DD6C\">Water (4 mL)</span> &nbsp;&nbsp;&nbsp;&nbsp; were added&nbsp;<span style=\"color: #12516E\">1-methyl-5-(4,4,5,5-tetramethyl-1,3,2-dioxaborolan-2-yl)indazole (735.47, 2.849 mmol)</span> &nbsp;&nbsp;&nbsp;&nbsp;,<span style=\"color: #12516E\">K2CO3 (590.65, 4.274 mmol)</span> &nbsp;&nbsp;&nbsp;&nbsp;,<span style=\"color: #12516E\">Pd(dppf)Cl2 (104.24, .142 mmol)</span> &nbsp;&nbsp;&nbsp;&nbsp;and stirred at&nbsp;<span class=\"mask mceNonEditable\" style=\"text-decoration: underline; color: #4169e1; cursor: default;\">100 °C</span>&nbsp;&nbsp;for 1h.</p> \n",
       "<p style=\"margin: 1em 0px; color: #000000; font-family: Verdana, Arial, Helvetica, sans-serif; font-size: 11px; font-style: normal; font-variant-ligatures: normal; font-variant-caps: normal; font-weight: 400; letter-spacing: normal; orphans: 2; text-align: start; text-indent: 0px; text-transform: none; white-space: normal; widows: 2; word-spacing: 0px; -webkit-text-stroke-width: 0px; text-decoration-style: initial; text-decoration-color: initial;\">&nbsp; &nbsp; &nbsp; MS showed target MS was detected.</p> \n",
       "<p style=\"margin: 1em 0px; color: #000000; font-family: Verdana, Arial, Helvetica, sans-serif; font-size: 11px; font-style: normal; font-variant-ligatures: normal; font-variant-caps: normal; font-weight: 400; letter-spacing: normal; orphans: 2; text-align: start; text-indent: 0px; text-transform: none; white-space: normal; widows: 2; word-spacing: 0px; -webkit-text-stroke-width: 0px; text-decoration-style: initial; text-decoration-color: initial;\">&nbsp; &nbsp; &nbsp;&nbsp;<span style=\"color: #000000; font-family: Verdana, Arial, Helvetica, sans-serif; font-size: 11px; font-style: normal; font-variant-ligatures: normal; font-variant-caps: normal; font-weight: 400; letter-spacing: normal; orphans: 2; text-align: start; text-indent: 0px; text-transform: none; white-space: normal; widows: 2; word-spacing: 0px; -webkit-text-stroke-width: 0px; background-color: #ffffff; text-decoration-style: initial; text-decoration-color: initial; display: inline !important; float: none;\">T</span><span style=\"color: #000000; font-family: Verdana, Arial, Helvetica, sans-serif; font-size: 11px; font-style: normal; font-variant-ligatures: normal; font-variant-caps: normal; font-weight: 400; letter-spacing: normal; orphans: 2; text-align: start; text-indent: 0px; text-transform: none; white-space: normal; widows: 2; word-spacing: 0px; -webkit-text-stroke-width: 0px; background-color: #ffffff; text-decoration-style: initial; text-decoration-color: initial; display: inline !important; float: none;\">he mixture was poured into water (50ml ) and extracted with EA (50*2),</span><span style=\"color: #000000; font-family: Verdana, Arial, Helvetica, sans-serif; font-size: 11px; font-style: normal; font-variant-ligatures: normal; font-variant-caps: normal; font-weight: 400; letter-spacing: normal; orphans: 2; text-align: start; text-indent: 0px; text-transform: none; white-space: normal; widows: 2; word-spacing: 0px; -webkit-text-stroke-width: 0px; background-color: #ffffff; text-decoration-style: initial; text-decoration-color: initial; display: inline !important; float: none;\">The organic phase was washed with brine, dried over Na2SO4, concentrated in reduce pressure to get crude product, the crude product was puritied by&nbsp;silica gel to give&nbsp;<span style=\"color: #6A7FDB\">10-(benzenesulfonyl)-5-methyl-12-(1-methylindazol-5-yl)-3-(oxan-4-yl)-3,5,8,10-tetrazatricyclo[7.3.0.02,6]dodeca-1,6,8,11-tetraen-4-one (730 mg, 1.345 mmol, 94.436% yield)</span> &nbsp;&nbsp;&nbsp;&nbsp;</span><span style=\"color: #000000; font-family: Verdana, Arial, Helvetica, sans-serif; font-size: 11px; font-style: normal; font-variant-ligatures: normal; font-variant-caps: normal; font-weight: 400; letter-spacing: normal; orphans: 2; text-align: start; text-indent: 0px; text-transform: none; white-space: normal; widows: 2; word-spacing: 0px; -webkit-text-stroke-width: 0px; background-color: #ffffff; text-decoration-style: initial; text-decoration-color: initial; display: inline !important; float: none;\">as&nbsp;yellow solid.</span></p></span>\n",
       "        </div>\n",
       "    </div>\n",
       "    "
      ],
      "text/plain": [
       "<IPython.core.display.HTML object>"
      ]
     },
     "metadata": {},
     "output_type": "display_data"
    },
    {
     "data": {
      "text/html": [
       "<hr style=\"border: 2px solid #999; margin: 30px 0; padding: 10px 0;\">"
      ],
      "text/plain": [
       "<IPython.core.display.HTML object>"
      ]
     },
     "metadata": {},
     "output_type": "display_data"
    },
    {
     "data": {
      "text/html": [
       "\n",
       "    <div style=\"border: 1px solid #ccc; margin: 10px 0; padding: 10px; background-color: #f9f9f9;\">\n",
       "        <strong>ExpID Group: 15 - DEV</strong>\n",
       "        <div style=\"margin-top: 5px;\">\n",
       "            <em><strong>Experiment ID: </strong>207429</em>\n",
       "        </div>\n",
       "        <div style=\"margin-top: 5px;\">\n",
       "            <em><strong>Entry Date: </strong>2022-09-21</em>\n",
       "        </div>        \n",
       "        <div style=\"border-top: 1px dashed #999; margin-top: 10px; padding-top: 10px\">\n",
       "            <span style=\"font-size: 18px !important;\"><p style=\"margin: 1em 0px; color: #000000; font-family: Verdana, Arial, Helvetica, sans-serif; font-size: 11px; font-style: normal; font-variant-ligatures: normal; font-variant-caps: normal; font-weight: 400; letter-spacing: normal; orphans: 2; text-align: start; text-indent: 0px; text-transform: none; white-space: normal; widows: 2; word-spacing: 0px; -webkit-text-stroke-width: 0px; text-decoration-style: initial; text-decoration-color: initial;\"><span style=\"font-family: Calibri; font-size: 10.5000pt;\">To a solution of&nbsp;<span style=\"color: #12516E\">[2-amino-3-bromo-5-(trifluoromethyl)phenyl]-imidazol-1-ylmethanone (, .177 mmol)</span> &nbsp;in THF from last step was added&nbsp;<span style=\"color: #12516E\">4-aminotetrahydropyran (, .265 mmol)</span> under N2.&nbsp;</span><span style=\"font-family: Calibri; font-size: 10.5pt;\">The resulting mixture was stirred at 29<span style=\"color: #000000; font-family: Calibri; font-size: 14px; font-style: normal; font-variant-ligatures: normal; font-variant-caps: normal; font-weight: 400; letter-spacing: normal; orphans: 2; text-align: start; text-indent: 0px; text-transform: none; white-space: normal; widows: 2; word-spacing: 0px; -webkit-text-stroke-width: 0px; background-color: #ffffff; text-decoration-style: initial; text-decoration-color: initial; display: inline !important; float: none;\">°C</span>&nbsp;for 16 h.&nbsp;</span></p> \n",
       "<p style=\"margin: 1em 0px; color: #000000; font-family: Verdana, Arial, Helvetica, sans-serif; font-size: 11px; font-style: normal; font-variant-ligatures: normal; font-variant-caps: normal; font-weight: 400; letter-spacing: normal; orphans: 2; text-align: start; text-indent: 0px; text-transform: none; white-space: normal; widows: 2; word-spacing: 0px; -webkit-text-stroke-width: 0px; text-decoration-style: initial; text-decoration-color: initial;\"><span style=\"font-size: 14px; font-family: Calibri;\">TLC showed SM was consumed, and DP was formed (PE:EA= 1:1, Rf: SM 0.5, DP 0.7).</span></p> \n",
       "<p style=\"margin: 1em 0px; color: #000000; font-family: Verdana, Arial, Helvetica, sans-serif; font-size: 11px; font-style: normal; font-variant-ligatures: normal; font-variant-caps: normal; font-weight: 400; letter-spacing: normal; orphans: 2; text-align: start; text-indent: 0px; text-transform: none; white-space: normal; widows: 2; word-spacing: 0px; -webkit-text-stroke-width: 0px; text-decoration-style: initial; text-decoration-color: initial;\"><span style=\"font-size: 14px; font-family: Calibri;\">The reaction was successful.</span></p> \n",
       "<p style=\"margin: 1em 0px; color: #000000; font-family: Verdana, Arial, Helvetica, sans-serif; font-size: 11px; font-style: normal; font-variant-ligatures: normal; font-variant-caps: normal; font-weight: 400; letter-spacing: normal; orphans: 2; text-align: start; text-indent: 0px; text-transform: none; white-space: normal; widows: 2; word-spacing: 0px; -webkit-text-stroke-width: 0px; text-decoration-style: initial; text-decoration-color: initial;\">&nbsp;</p></span>\n",
       "        </div>\n",
       "    </div>\n",
       "    "
      ],
      "text/plain": [
       "<IPython.core.display.HTML object>"
      ]
     },
     "metadata": {},
     "output_type": "display_data"
    },
    {
     "data": {
      "text/html": [
       "\n",
       "    <div style=\"border: 1px solid #ccc; margin: 10px 0; padding: 10px; background-color: #f9f9f9;\">\n",
       "        <strong>ExpID Group: 15 - U6</strong>\n",
       "        <div style=\"margin-top: 5px;\">\n",
       "            <em><strong>Experiment ID: </strong>207429</em>\n",
       "        </div>\n",
       "        <div style=\"margin-top: 5px;\">\n",
       "            <em><strong>Entry Date: </strong>2022-09-21</em>\n",
       "        </div>        \n",
       "        <div style=\"border-top: 1px dashed #999; margin-top: 10px; padding-top: 10px\">\n",
       "            <span style=\"font-size: 18px !important;\"><p style=\"margin: 1em 0px; color: #000000; font-family: Verdana, Arial, Helvetica, sans-serif; font-size: 11px; font-style: normal; font-variant-ligatures: normal; font-variant-caps: normal; font-weight: 400; letter-spacing: normal; orphans: 2; text-align: start; text-indent: 0px; text-transform: none; white-space: normal; widows: 2; word-spacing: 0px; -webkit-text-stroke-width: 0px; text-decoration-style: initial; text-decoration-color: initial;\"><span style=\"font-family: Calibri; font-size: 10.5000pt;\">To a solution of&nbsp;<span style=\"color: #12516E\">[2-amino-3-bromo-5-(trifluoromethyl)phenyl]-imidazol-1-ylmethanone (59, .177 mmol)</span> &nbsp;in THF from last step was added&nbsp;<span style=\"color: #12516E\">4-aminotetrahydropyran (26.79, .265 mmol)</span> under N2.&nbsp;</span><span style=\"font-family: Calibri; font-size: 10.5pt;\">The resulting mixture was stirred at 29<span style=\"color: #000000; font-family: Calibri; font-size: 14px; font-style: normal; font-variant-ligatures: normal; font-variant-caps: normal; font-weight: 400; letter-spacing: normal; orphans: 2; text-align: start; text-indent: 0px; text-transform: none; white-space: normal; widows: 2; word-spacing: 0px; -webkit-text-stroke-width: 0px; background-color: #ffffff; text-decoration-style: initial; text-decoration-color: initial; display: inline !important; float: none;\">°C</span>&nbsp;for 16 h.&nbsp;</span></p> \n",
       "<p style=\"margin: 1em 0px; color: #000000; font-family: Verdana, Arial, Helvetica, sans-serif; font-size: 11px; font-style: normal; font-variant-ligatures: normal; font-variant-caps: normal; font-weight: 400; letter-spacing: normal; orphans: 2; text-align: start; text-indent: 0px; text-transform: none; white-space: normal; widows: 2; word-spacing: 0px; -webkit-text-stroke-width: 0px; text-decoration-style: initial; text-decoration-color: initial;\"><span style=\"font-size: 14px; font-family: Calibri;\">TLC showed SM was consumed, and DP was formed (PE:EA= 1:1, Rf: SM 0.5, DP 0.7).</span></p> \n",
       "<p style=\"margin: 1em 0px; color: #000000; font-family: Verdana, Arial, Helvetica, sans-serif; font-size: 11px; font-style: normal; font-variant-ligatures: normal; font-variant-caps: normal; font-weight: 400; letter-spacing: normal; orphans: 2; text-align: start; text-indent: 0px; text-transform: none; white-space: normal; widows: 2; word-spacing: 0px; -webkit-text-stroke-width: 0px; text-decoration-style: initial; text-decoration-color: initial;\"><span style=\"font-size: 14px; font-family: Calibri;\">The reaction was successful.</span></p> \n",
       "<p style=\"margin: 1em 0px; color: #000000; font-family: Verdana, Arial, Helvetica, sans-serif; font-size: 11px; font-style: normal; font-variant-ligatures: normal; font-variant-caps: normal; font-weight: 400; letter-spacing: normal; orphans: 2; text-align: start; text-indent: 0px; text-transform: none; white-space: normal; widows: 2; word-spacing: 0px; -webkit-text-stroke-width: 0px; text-decoration-style: initial; text-decoration-color: initial;\">&nbsp;</p></span>\n",
       "        </div>\n",
       "    </div>\n",
       "    "
      ],
      "text/plain": [
       "<IPython.core.display.HTML object>"
      ]
     },
     "metadata": {},
     "output_type": "display_data"
    },
    {
     "data": {
      "text/html": [
       "\n",
       "    <div style=\"border: 1px solid #ccc; margin: 10px 0; padding: 10px; background-color: #f9f9f9;\">\n",
       "        <strong>ExpID Group: 15 - PROD</strong>\n",
       "        <div style=\"margin-top: 5px;\">\n",
       "            <em><strong>Experiment ID: </strong>207429</em>\n",
       "        </div>\n",
       "        <div style=\"margin-top: 5px;\">\n",
       "            <em><strong>Entry Date: </strong>2022-09-21</em>\n",
       "        </div>        \n",
       "        <div style=\"border-top: 1px dashed #999; margin-top: 10px; padding-top: 10px\">\n",
       "            <span style=\"font-size: 18px !important;\"><p style=\"margin: 1em 0px; color: #000000; font-family: Verdana, Arial, Helvetica, sans-serif; font-size: 11px; font-style: normal; font-variant-ligatures: normal; font-variant-caps: normal; font-weight: 400; letter-spacing: normal; orphans: 2; text-align: start; text-indent: 0px; text-transform: none; white-space: normal; widows: 2; word-spacing: 0px; -webkit-text-stroke-width: 0px; text-decoration-style: initial; text-decoration-color: initial;\"><span style=\"font-family: Calibri; font-size: 10.5000pt;\">To a solution of&nbsp;<span style=\"color: #12516E\">[2-amino-3-bromo-5-(trifluoromethyl)phenyl]-imidazol-1-ylmethanone (59, .177 mmol)</span> &nbsp;in THF from last step was added&nbsp;<span style=\"color: #12516E\">4-aminotetrahydropyran (26.79, .265 mmol)</span> under N2.&nbsp;</span><span style=\"font-family: Calibri; font-size: 10.5pt;\">The resulting mixture was stirred at 29<span style=\"color: #000000; font-family: Calibri; font-size: 14px; font-style: normal; font-variant-ligatures: normal; font-variant-caps: normal; font-weight: 400; letter-spacing: normal; orphans: 2; text-align: start; text-indent: 0px; text-transform: none; white-space: normal; widows: 2; word-spacing: 0px; -webkit-text-stroke-width: 0px; background-color: #ffffff; text-decoration-style: initial; text-decoration-color: initial; display: inline !important; float: none;\">°C</span>&nbsp;for 16 h.&nbsp;</span></p> \n",
       "<p style=\"margin: 1em 0px; color: #000000; font-family: Verdana, Arial, Helvetica, sans-serif; font-size: 11px; font-style: normal; font-variant-ligatures: normal; font-variant-caps: normal; font-weight: 400; letter-spacing: normal; orphans: 2; text-align: start; text-indent: 0px; text-transform: none; white-space: normal; widows: 2; word-spacing: 0px; -webkit-text-stroke-width: 0px; text-decoration-style: initial; text-decoration-color: initial;\"><span style=\"font-size: 14px; font-family: Calibri;\">TLC showed SM was consumed, and DP was formed (PE:EA= 1:1, Rf: SM 0.5, DP 0.7).</span></p> \n",
       "<p style=\"margin: 1em 0px; color: #000000; font-family: Verdana, Arial, Helvetica, sans-serif; font-size: 11px; font-style: normal; font-variant-ligatures: normal; font-variant-caps: normal; font-weight: 400; letter-spacing: normal; orphans: 2; text-align: start; text-indent: 0px; text-transform: none; white-space: normal; widows: 2; word-spacing: 0px; -webkit-text-stroke-width: 0px; text-decoration-style: initial; text-decoration-color: initial;\"><span style=\"font-size: 14px; font-family: Calibri;\">The reaction was successful.</span></p> \n",
       "<p style=\"margin: 1em 0px; color: #000000; font-family: Verdana, Arial, Helvetica, sans-serif; font-size: 11px; font-style: normal; font-variant-ligatures: normal; font-variant-caps: normal; font-weight: 400; letter-spacing: normal; orphans: 2; text-align: start; text-indent: 0px; text-transform: none; white-space: normal; widows: 2; word-spacing: 0px; -webkit-text-stroke-width: 0px; text-decoration-style: initial; text-decoration-color: initial;\">&nbsp;</p></span>\n",
       "        </div>\n",
       "    </div>\n",
       "    "
      ],
      "text/plain": [
       "<IPython.core.display.HTML object>"
      ]
     },
     "metadata": {},
     "output_type": "display_data"
    },
    {
     "data": {
      "text/html": [
       "<hr style=\"border: 2px solid #999; margin: 30px 0; padding: 10px 0;\">"
      ],
      "text/plain": [
       "<IPython.core.display.HTML object>"
      ]
     },
     "metadata": {},
     "output_type": "display_data"
    },
    {
     "data": {
      "text/html": [
       "\n",
       "    <div style=\"border: 1px solid #ccc; margin: 10px 0; padding: 10px; background-color: #f9f9f9;\">\n",
       "        <strong>ExpID Group: 16 - DEV</strong>\n",
       "        <div style=\"margin-top: 5px;\">\n",
       "            <em><strong>Experiment ID: </strong>207428</em>\n",
       "        </div>\n",
       "        <div style=\"margin-top: 5px;\">\n",
       "            <em><strong>Entry Date: </strong>2022-09-21</em>\n",
       "        </div>        \n",
       "        <div style=\"border-top: 1px dashed #999; margin-top: 10px; padding-top: 10px\">\n",
       "            <span style=\"font-size: 18px !important;\"><p style=\"margin: 1em 0px; color: #000000; font-family: Verdana, Arial, Helvetica, sans-serif; font-size: 11px; font-style: normal; font-variant-ligatures: normal; font-variant-caps: normal; font-weight: 400; letter-spacing: normal; orphans: 2; text-align: start; text-indent: 0px; text-transform: none; white-space: normal; widows: 2; word-spacing: 0px; -webkit-text-stroke-width: 0px; text-decoration-style: initial; text-decoration-color: initial;\"><span style=\"font-family: Calibri; font-size: 10.5000pt;\">To a solution of&nbsp;<span style=\"color: #12516E\">2-Amino-3-bromo-5-(trifluoromethyl)benzoic acid (, 1.76 mmol)</span> (crude)&nbsp;in&nbsp;<span style=\"color: #53DD6C\">THF (5 mL)</span> was added&nbsp;<span style=\"color: #12516E\">CDI (, 2.112 mmol)</span>&nbsp;under N2 at rt.&nbsp;</span><span style=\"font-family: Calibri; font-size: 10.5pt;\">The resulting mixture was stirred at rt&nbsp;for 22 h.&nbsp;</span></p> \n",
       "<p style=\"margin: 1em 0px; color: #000000; font-family: Verdana, Arial, Helvetica, sans-serif; font-size: 11px; font-style: normal; font-variant-ligatures: normal; font-variant-caps: normal; font-weight: 400; letter-spacing: normal; orphans: 2; text-align: start; text-indent: 0px; text-transform: none; white-space: normal; widows: 2; word-spacing: 0px; -webkit-text-stroke-width: 0px; text-decoration-style: initial; text-decoration-color: initial;\"><span style=\"font-family: Calibri; font-size: 10.5pt;\">TLC showed SM was consumed, but DP was a little, and the main spot was large polar impurity&nbsp;(PE:EA= 1:1 Rf: SM 0.2, DP 0.5, <span style=\"color: #000000; font-family: Calibri; font-size: 14px; font-style: normal; font-variant-ligatures: normal; font-variant-caps: normal; font-weight: 400; letter-spacing: normal; orphans: 2; text-align: start; text-indent: 0px; text-transform: none; white-space: normal; widows: 2; word-spacing: 0px; -webkit-text-stroke-width: 0px; background-color: #ffffff; text-decoration-style: initial; text-decoration-color: initial; display: inline !important; float: none;\">impurity 0.1</span>) .</span></p> \n",
       "<p style=\"margin: 1em 0px; color: #000000; font-family: Verdana, Arial, Helvetica, sans-serif; font-size: 11px; font-style: normal; font-variant-ligatures: normal; font-variant-caps: normal; font-weight: 400; letter-spacing: normal; orphans: 2; text-align: start; text-indent: 0px; text-transform: none; white-space: normal; widows: 2; word-spacing: 0px; -webkit-text-stroke-width: 0px; text-decoration-style: initial; text-decoration-color: initial;\"><span style=\"font-family: Calibri;\"><span style=\"font-size: 14px;\"><span style=\"color: #000000; font-family: Calibri; font-size: 14px; font-style: normal; font-variant-ligatures: normal; font-variant-caps: normal; font-weight: 400; letter-spacing: normal; orphans: 2; text-align: start; text-indent: 0px; text-transform: none; white-space: normal; widows: 2; word-spacing: 0px; -webkit-text-stroke-width: 0px; background-color: #ffffff; text-decoration-style: initial; text-decoration-color: initial; display: inline !important; float: none;\">The reaction was fail.</span></span></span></p> \n",
       "<p style=\"margin: 1em 0px; color: #000000; font-family: Verdana, Arial, Helvetica, sans-serif; font-size: 11px; font-style: normal; font-variant-ligatures: normal; font-variant-caps: normal; font-weight: 400; letter-spacing: normal; orphans: 2; text-align: start; text-indent: 0px; text-transform: none; white-space: normal; widows: 2; word-spacing: 0px; -webkit-text-stroke-width: 0px; text-decoration-style: initial; text-decoration-color: initial;\"><span style=\"font-family: Calibri;\"><span style=\"font-size: 14px;\">The SM was needed to purification for reaction.</span></span></p></span>\n",
       "        </div>\n",
       "    </div>\n",
       "    "
      ],
      "text/plain": [
       "<IPython.core.display.HTML object>"
      ]
     },
     "metadata": {},
     "output_type": "display_data"
    },
    {
     "data": {
      "text/html": [
       "\n",
       "    <div style=\"border: 1px solid #ccc; margin: 10px 0; padding: 10px; background-color: #f9f9f9;\">\n",
       "        <strong>ExpID Group: 16 - U6</strong>\n",
       "        <div style=\"margin-top: 5px;\">\n",
       "            <em><strong>Experiment ID: </strong>207428</em>\n",
       "        </div>\n",
       "        <div style=\"margin-top: 5px;\">\n",
       "            <em><strong>Entry Date: </strong>2022-09-21</em>\n",
       "        </div>        \n",
       "        <div style=\"border-top: 1px dashed #999; margin-top: 10px; padding-top: 10px\">\n",
       "            <span style=\"font-size: 18px !important;\"><p style=\"margin: 1em 0px; color: #000000; font-family: Verdana, Arial, Helvetica, sans-serif; font-size: 11px; font-style: normal; font-variant-ligatures: normal; font-variant-caps: normal; font-weight: 400; letter-spacing: normal; orphans: 2; text-align: start; text-indent: 0px; text-transform: none; white-space: normal; widows: 2; word-spacing: 0px; -webkit-text-stroke-width: 0px; text-decoration-style: initial; text-decoration-color: initial;\"><span style=\"font-family: Calibri; font-size: 10.5000pt;\">To a solution of&nbsp;<span style=\"color: #12516E\">2-Amino-3-bromo-5-(trifluoromethyl)benzoic acid (500, 1.76 mmol)</span> (crude)&nbsp;in&nbsp;<span style=\"color: #53DD6C\">THF (5 mL)</span> was added&nbsp;<span style=\"color: #12516E\">CDI (342.53, 2.112 mmol)</span>&nbsp;under N2 at rt.&nbsp;</span><span style=\"font-family: Calibri; font-size: 10.5pt;\">The resulting mixture was stirred at rt&nbsp;for 22 h.&nbsp;</span></p> \n",
       "<p style=\"margin: 1em 0px; color: #000000; font-family: Verdana, Arial, Helvetica, sans-serif; font-size: 11px; font-style: normal; font-variant-ligatures: normal; font-variant-caps: normal; font-weight: 400; letter-spacing: normal; orphans: 2; text-align: start; text-indent: 0px; text-transform: none; white-space: normal; widows: 2; word-spacing: 0px; -webkit-text-stroke-width: 0px; text-decoration-style: initial; text-decoration-color: initial;\"><span style=\"font-family: Calibri; font-size: 10.5pt;\">TLC showed SM was consumed, but DP was a little, and the main spot was large polar impurity&nbsp;(PE:EA= 1:1 Rf: SM 0.2, DP 0.5, <span style=\"color: #000000; font-family: Calibri; font-size: 14px; font-style: normal; font-variant-ligatures: normal; font-variant-caps: normal; font-weight: 400; letter-spacing: normal; orphans: 2; text-align: start; text-indent: 0px; text-transform: none; white-space: normal; widows: 2; word-spacing: 0px; -webkit-text-stroke-width: 0px; background-color: #ffffff; text-decoration-style: initial; text-decoration-color: initial; display: inline !important; float: none;\">impurity 0.1</span>) .</span></p> \n",
       "<p style=\"margin: 1em 0px; color: #000000; font-family: Verdana, Arial, Helvetica, sans-serif; font-size: 11px; font-style: normal; font-variant-ligatures: normal; font-variant-caps: normal; font-weight: 400; letter-spacing: normal; orphans: 2; text-align: start; text-indent: 0px; text-transform: none; white-space: normal; widows: 2; word-spacing: 0px; -webkit-text-stroke-width: 0px; text-decoration-style: initial; text-decoration-color: initial;\"><span style=\"font-family: Calibri;\"><span style=\"font-size: 14px;\"><span style=\"color: #000000; font-family: Calibri; font-size: 14px; font-style: normal; font-variant-ligatures: normal; font-variant-caps: normal; font-weight: 400; letter-spacing: normal; orphans: 2; text-align: start; text-indent: 0px; text-transform: none; white-space: normal; widows: 2; word-spacing: 0px; -webkit-text-stroke-width: 0px; background-color: #ffffff; text-decoration-style: initial; text-decoration-color: initial; display: inline !important; float: none;\">The reaction was fail.</span></span></span></p> \n",
       "<p style=\"margin: 1em 0px; color: #000000; font-family: Verdana, Arial, Helvetica, sans-serif; font-size: 11px; font-style: normal; font-variant-ligatures: normal; font-variant-caps: normal; font-weight: 400; letter-spacing: normal; orphans: 2; text-align: start; text-indent: 0px; text-transform: none; white-space: normal; widows: 2; word-spacing: 0px; -webkit-text-stroke-width: 0px; text-decoration-style: initial; text-decoration-color: initial;\"><span style=\"font-family: Calibri;\"><span style=\"font-size: 14px;\">The SM was needed to purification for reaction.</span></span></p></span>\n",
       "        </div>\n",
       "    </div>\n",
       "    "
      ],
      "text/plain": [
       "<IPython.core.display.HTML object>"
      ]
     },
     "metadata": {},
     "output_type": "display_data"
    },
    {
     "data": {
      "text/html": [
       "\n",
       "    <div style=\"border: 1px solid #ccc; margin: 10px 0; padding: 10px; background-color: #f9f9f9;\">\n",
       "        <strong>ExpID Group: 16 - PROD</strong>\n",
       "        <div style=\"margin-top: 5px;\">\n",
       "            <em><strong>Experiment ID: </strong>207428</em>\n",
       "        </div>\n",
       "        <div style=\"margin-top: 5px;\">\n",
       "            <em><strong>Entry Date: </strong>2022-09-21</em>\n",
       "        </div>        \n",
       "        <div style=\"border-top: 1px dashed #999; margin-top: 10px; padding-top: 10px\">\n",
       "            <span style=\"font-size: 18px !important;\"><p style=\"margin: 1em 0px; color: #000000; font-family: Verdana, Arial, Helvetica, sans-serif; font-size: 11px; font-style: normal; font-variant-ligatures: normal; font-variant-caps: normal; font-weight: 400; letter-spacing: normal; orphans: 2; text-align: start; text-indent: 0px; text-transform: none; white-space: normal; widows: 2; word-spacing: 0px; -webkit-text-stroke-width: 0px; text-decoration-style: initial; text-decoration-color: initial;\"><span style=\"font-family: Calibri; font-size: 10.5000pt;\">To a solution of&nbsp;<span style=\"color: #12516E\">2-Amino-3-bromo-5-(trifluoromethyl)benzoic acid (500, 1.76 mmol)</span> (crude)&nbsp;in&nbsp;<span style=\"color: #53DD6C\">THF (5 mL)</span> was added&nbsp;<span style=\"color: #12516E\">CDI (342.53, 2.112 mmol)</span>&nbsp;under N2 at rt.&nbsp;</span><span style=\"font-family: Calibri; font-size: 10.5pt;\">The resulting mixture was stirred at rt&nbsp;for 22 h.&nbsp;</span></p> \n",
       "<p style=\"margin: 1em 0px; color: #000000; font-family: Verdana, Arial, Helvetica, sans-serif; font-size: 11px; font-style: normal; font-variant-ligatures: normal; font-variant-caps: normal; font-weight: 400; letter-spacing: normal; orphans: 2; text-align: start; text-indent: 0px; text-transform: none; white-space: normal; widows: 2; word-spacing: 0px; -webkit-text-stroke-width: 0px; text-decoration-style: initial; text-decoration-color: initial;\"><span style=\"font-family: Calibri; font-size: 10.5pt;\">TLC showed SM was consumed, but DP was a little, and the main spot was large polar impurity&nbsp;(PE:EA= 1:1 Rf: SM 0.2, DP 0.5, <span style=\"color: #000000; font-family: Calibri; font-size: 14px; font-style: normal; font-variant-ligatures: normal; font-variant-caps: normal; font-weight: 400; letter-spacing: normal; orphans: 2; text-align: start; text-indent: 0px; text-transform: none; white-space: normal; widows: 2; word-spacing: 0px; -webkit-text-stroke-width: 0px; background-color: #ffffff; text-decoration-style: initial; text-decoration-color: initial; display: inline !important; float: none;\">impurity 0.1</span>) .</span></p> \n",
       "<p style=\"margin: 1em 0px; color: #000000; font-family: Verdana, Arial, Helvetica, sans-serif; font-size: 11px; font-style: normal; font-variant-ligatures: normal; font-variant-caps: normal; font-weight: 400; letter-spacing: normal; orphans: 2; text-align: start; text-indent: 0px; text-transform: none; white-space: normal; widows: 2; word-spacing: 0px; -webkit-text-stroke-width: 0px; text-decoration-style: initial; text-decoration-color: initial;\"><span style=\"font-family: Calibri;\"><span style=\"font-size: 14px;\"><span style=\"color: #000000; font-family: Calibri; font-size: 14px; font-style: normal; font-variant-ligatures: normal; font-variant-caps: normal; font-weight: 400; letter-spacing: normal; orphans: 2; text-align: start; text-indent: 0px; text-transform: none; white-space: normal; widows: 2; word-spacing: 0px; -webkit-text-stroke-width: 0px; background-color: #ffffff; text-decoration-style: initial; text-decoration-color: initial; display: inline !important; float: none;\">The reaction was fail.</span></span></span></p> \n",
       "<p style=\"margin: 1em 0px; color: #000000; font-family: Verdana, Arial, Helvetica, sans-serif; font-size: 11px; font-style: normal; font-variant-ligatures: normal; font-variant-caps: normal; font-weight: 400; letter-spacing: normal; orphans: 2; text-align: start; text-indent: 0px; text-transform: none; white-space: normal; widows: 2; word-spacing: 0px; -webkit-text-stroke-width: 0px; text-decoration-style: initial; text-decoration-color: initial;\"><span style=\"font-family: Calibri;\"><span style=\"font-size: 14px;\">The SM was needed to purification for reaction.</span></span></p></span>\n",
       "        </div>\n",
       "    </div>\n",
       "    "
      ],
      "text/plain": [
       "<IPython.core.display.HTML object>"
      ]
     },
     "metadata": {},
     "output_type": "display_data"
    },
    {
     "data": {
      "text/html": [
       "<hr style=\"border: 2px solid #999; margin: 30px 0; padding: 10px 0;\">"
      ],
      "text/plain": [
       "<IPython.core.display.HTML object>"
      ]
     },
     "metadata": {},
     "output_type": "display_data"
    },
    {
     "data": {
      "text/html": [
       "\n",
       "    <div style=\"border: 1px solid #ccc; margin: 10px 0; padding: 10px; background-color: #f9f9f9;\">\n",
       "        <strong>ExpID Group: 17 - DEV</strong>\n",
       "        <div style=\"margin-top: 5px;\">\n",
       "            <em><strong>Experiment ID: </strong>207427</em>\n",
       "        </div>\n",
       "        <div style=\"margin-top: 5px;\">\n",
       "            <em><strong>Entry Date: </strong>2022-09-21</em>\n",
       "        </div>        \n",
       "        <div style=\"border-top: 1px dashed #999; margin-top: 10px; padding-top: 10px\">\n",
       "            <span style=\"font-size: 18px !important;\"><p style=\"margin: 1em 0px; color: #000000; font-family: Verdana, Arial, Helvetica, sans-serif; font-size: 11px; font-style: normal; font-variant-ligatures: normal; font-variant-caps: normal; font-weight: 400; letter-spacing: normal; orphans: 2; text-align: start; text-indent: 0px; text-transform: none; white-space: normal; widows: 2; word-spacing: 0px; -webkit-text-stroke-width: 0px; text-decoration-style: initial; text-decoration-color: initial;\"><span style=\"font-family: Calibri; font-size: 10.5000pt;\">To a solution of&nbsp;<span style=\"color: #12516E\">methyl 2-[1-[2-(1,3-dihydroisoindol-2-yl)-6-fluoro-3-(oxan-4-yl)-4-oxoquinazolin-8-yl]ethylamino]benzoate (, .085 mmol)</span>&nbsp; (crude) in&nbsp;<span style=\"color: #53DD6C\">Methanol (1 mL)</span> ,&nbsp;<span style=\"color: #53DD6C\">THF (1 mL)</span> and&nbsp;<span style=\"color: #53DD6C\">Water (.5 mL)</span> &nbsp;was added&nbsp;<span style=\"color: #12516E\">NaOH (, .848 mmol)</span> &nbsp;under N2.&nbsp;</span><span style=\"font-family: Calibri; font-size: 10.5pt;\">The resulting mixture was stirred at 50&nbsp;<span style=\"color: #000000; font-family: Calibri; font-size: 14px; font-style: normal; font-variant-ligatures: normal; font-variant-caps: normal; font-weight: 400; letter-spacing: normal; orphans: 2; text-align: start; text-indent: 0px; text-transform: none; white-space: normal; widows: 2; word-spacing: 0px; -webkit-text-stroke-width: 0px; background-color: #ffffff; text-decoration-style: initial; text-decoration-color: initial; display: inline !important; float: none;\">°C</span>&nbsp;for 5 h.&nbsp;</span></p> \n",
       "<p style=\"margin: 1em 0px; color: #000000; font-family: Verdana, Arial, Helvetica, sans-serif; font-size: 11px; font-style: normal; font-variant-ligatures: normal; font-variant-caps: normal; font-weight: 400; letter-spacing: normal; orphans: 2; text-align: start; text-indent: 0px; text-transform: none; white-space: normal; widows: 2; word-spacing: 0px; -webkit-text-stroke-width: 0px; text-decoration-style: initial; text-decoration-color: initial;\"><span style=\"font-family: Calibri; font-size: 10.5pt;\">LCMS showed trace DP.</span></p> \n",
       "<p style=\"margin: 1em 0px; color: #000000; font-family: Verdana, Arial, Helvetica, sans-serif; font-size: 11px; font-style: normal; font-variant-ligatures: normal; font-variant-caps: normal; font-weight: 400; letter-spacing: normal; orphans: 2; text-align: start; text-indent: 0px; text-transform: none; white-space: normal; widows: 2; word-spacing: 0px; -webkit-text-stroke-width: 0px; text-decoration-style: initial; text-decoration-color: initial;\"><span style=\"font-family: Calibri; font-size: 10.5pt;\">The reaction was discarded.</span></p> \n",
       "<p style=\"margin: 1em 0px; color: #000000; font-family: Verdana, Arial, Helvetica, sans-serif; font-size: 11px; font-style: normal; font-variant-ligatures: normal; font-variant-caps: normal; font-weight: 400; letter-spacing: normal; orphans: 2; text-align: start; text-indent: 0px; text-transform: none; white-space: normal; widows: 2; word-spacing: 0px; -webkit-text-stroke-width: 0px; text-decoration-style: initial; text-decoration-color: initial;\">&nbsp;</p> \n",
       "<p style=\"margin: 1em 0px; color: #000000; font-family: Verdana, Arial, Helvetica, sans-serif; font-size: 11px; font-style: normal; font-variant-ligatures: normal; font-variant-caps: normal; font-weight: 400; letter-spacing: normal; orphans: 2; text-align: start; text-indent: 0px; text-transform: none; white-space: normal; widows: 2; word-spacing: 0px; -webkit-text-stroke-width: 0px; text-decoration-style: initial; text-decoration-color: initial;\">&nbsp;</p> \n",
       "<p style=\"margin: 1em 0px; color: #000000; font-family: Verdana, Arial, Helvetica, sans-serif; font-size: 11px; font-style: normal; font-variant-ligatures: normal; font-variant-caps: normal; font-weight: 400; letter-spacing: normal; orphans: 2; text-align: start; text-indent: 0px; text-transform: none; white-space: normal; widows: 2; word-spacing: 0px; -webkit-text-stroke-width: 0px; text-decoration-style: initial; text-decoration-color: initial;\">&nbsp;</p></span>\n",
       "        </div>\n",
       "    </div>\n",
       "    "
      ],
      "text/plain": [
       "<IPython.core.display.HTML object>"
      ]
     },
     "metadata": {},
     "output_type": "display_data"
    },
    {
     "data": {
      "text/html": [
       "\n",
       "    <div style=\"border: 1px solid #ccc; margin: 10px 0; padding: 10px; background-color: #f9f9f9;\">\n",
       "        <strong>ExpID Group: 17 - U6</strong>\n",
       "        <div style=\"margin-top: 5px;\">\n",
       "            <em><strong>Experiment ID: </strong>207427</em>\n",
       "        </div>\n",
       "        <div style=\"margin-top: 5px;\">\n",
       "            <em><strong>Entry Date: </strong>2022-09-21</em>\n",
       "        </div>        \n",
       "        <div style=\"border-top: 1px dashed #999; margin-top: 10px; padding-top: 10px\">\n",
       "            <span style=\"font-size: 18px !important;\"><p style=\"margin: 1em 0px; color: #000000; font-family: Verdana, Arial, Helvetica, sans-serif; font-size: 11px; font-style: normal; font-variant-ligatures: normal; font-variant-caps: normal; font-weight: 400; letter-spacing: normal; orphans: 2; text-align: start; text-indent: 0px; text-transform: none; white-space: normal; widows: 2; word-spacing: 0px; -webkit-text-stroke-width: 0px; text-decoration-style: initial; text-decoration-color: initial;\"><span style=\"font-family: Calibri; font-size: 10.5000pt;\">To a solution of&nbsp;<span style=\"color: #12516E\">methyl 2-[1-[2-(1,3-dihydroisoindol-2-yl)-6-fluoro-3-(oxan-4-yl)-4-oxoquinazolin-8-yl]ethylamino]benzoate (46, .085 mmol)</span>&nbsp; (crude) in&nbsp;<span style=\"color: #53DD6C\">Methanol (1 mL)</span> ,&nbsp;<span style=\"color: #53DD6C\">THF (1 mL)</span> and&nbsp;<span style=\"color: #53DD6C\">Water (.5 mL)</span> &nbsp;was added&nbsp;<span style=\"color: #12516E\">NaOH (33.91, .848 mmol)</span> &nbsp;under N2.&nbsp;</span><span style=\"font-family: Calibri; font-size: 10.5pt;\">The resulting mixture was stirred at 50&nbsp;<span style=\"color: #000000; font-family: Calibri; font-size: 14px; font-style: normal; font-variant-ligatures: normal; font-variant-caps: normal; font-weight: 400; letter-spacing: normal; orphans: 2; text-align: start; text-indent: 0px; text-transform: none; white-space: normal; widows: 2; word-spacing: 0px; -webkit-text-stroke-width: 0px; background-color: #ffffff; text-decoration-style: initial; text-decoration-color: initial; display: inline !important; float: none;\">°C</span>&nbsp;for 5 h.&nbsp;</span></p> \n",
       "<p style=\"margin: 1em 0px; color: #000000; font-family: Verdana, Arial, Helvetica, sans-serif; font-size: 11px; font-style: normal; font-variant-ligatures: normal; font-variant-caps: normal; font-weight: 400; letter-spacing: normal; orphans: 2; text-align: start; text-indent: 0px; text-transform: none; white-space: normal; widows: 2; word-spacing: 0px; -webkit-text-stroke-width: 0px; text-decoration-style: initial; text-decoration-color: initial;\"><span style=\"font-family: Calibri; font-size: 10.5pt;\">LCMS showed trace DP.</span></p> \n",
       "<p style=\"margin: 1em 0px; color: #000000; font-family: Verdana, Arial, Helvetica, sans-serif; font-size: 11px; font-style: normal; font-variant-ligatures: normal; font-variant-caps: normal; font-weight: 400; letter-spacing: normal; orphans: 2; text-align: start; text-indent: 0px; text-transform: none; white-space: normal; widows: 2; word-spacing: 0px; -webkit-text-stroke-width: 0px; text-decoration-style: initial; text-decoration-color: initial;\"><span style=\"font-family: Calibri; font-size: 10.5pt;\">The reaction was discarded.</span></p> \n",
       "<p style=\"margin: 1em 0px; color: #000000; font-family: Verdana, Arial, Helvetica, sans-serif; font-size: 11px; font-style: normal; font-variant-ligatures: normal; font-variant-caps: normal; font-weight: 400; letter-spacing: normal; orphans: 2; text-align: start; text-indent: 0px; text-transform: none; white-space: normal; widows: 2; word-spacing: 0px; -webkit-text-stroke-width: 0px; text-decoration-style: initial; text-decoration-color: initial;\">&nbsp;</p> \n",
       "<p style=\"margin: 1em 0px; color: #000000; font-family: Verdana, Arial, Helvetica, sans-serif; font-size: 11px; font-style: normal; font-variant-ligatures: normal; font-variant-caps: normal; font-weight: 400; letter-spacing: normal; orphans: 2; text-align: start; text-indent: 0px; text-transform: none; white-space: normal; widows: 2; word-spacing: 0px; -webkit-text-stroke-width: 0px; text-decoration-style: initial; text-decoration-color: initial;\">&nbsp;</p> \n",
       "<p style=\"margin: 1em 0px; color: #000000; font-family: Verdana, Arial, Helvetica, sans-serif; font-size: 11px; font-style: normal; font-variant-ligatures: normal; font-variant-caps: normal; font-weight: 400; letter-spacing: normal; orphans: 2; text-align: start; text-indent: 0px; text-transform: none; white-space: normal; widows: 2; word-spacing: 0px; -webkit-text-stroke-width: 0px; text-decoration-style: initial; text-decoration-color: initial;\">&nbsp;</p></span>\n",
       "        </div>\n",
       "    </div>\n",
       "    "
      ],
      "text/plain": [
       "<IPython.core.display.HTML object>"
      ]
     },
     "metadata": {},
     "output_type": "display_data"
    },
    {
     "data": {
      "text/html": [
       "\n",
       "    <div style=\"border: 1px solid #ccc; margin: 10px 0; padding: 10px; background-color: #f9f9f9;\">\n",
       "        <strong>ExpID Group: 17 - PROD</strong>\n",
       "        <div style=\"margin-top: 5px;\">\n",
       "            <em><strong>Experiment ID: </strong>207427</em>\n",
       "        </div>\n",
       "        <div style=\"margin-top: 5px;\">\n",
       "            <em><strong>Entry Date: </strong>2022-09-21</em>\n",
       "        </div>        \n",
       "        <div style=\"border-top: 1px dashed #999; margin-top: 10px; padding-top: 10px\">\n",
       "            <span style=\"font-size: 18px !important;\"><p style=\"margin: 1em 0px; color: #000000; font-family: Verdana, Arial, Helvetica, sans-serif; font-size: 11px; font-style: normal; font-variant-ligatures: normal; font-variant-caps: normal; font-weight: 400; letter-spacing: normal; orphans: 2; text-align: start; text-indent: 0px; text-transform: none; white-space: normal; widows: 2; word-spacing: 0px; -webkit-text-stroke-width: 0px; text-decoration-style: initial; text-decoration-color: initial;\"><span style=\"font-family: Calibri; font-size: 10.5000pt;\">To a solution of&nbsp;<span style=\"color: #12516E\">methyl 2-[1-[2-(1,3-dihydroisoindol-2-yl)-6-fluoro-3-(oxan-4-yl)-4-oxoquinazolin-8-yl]ethylamino]benzoate (46, .085 mmol)</span>&nbsp; (crude) in&nbsp;<span style=\"color: #53DD6C\">Methanol (1 mL)</span> ,&nbsp;<span style=\"color: #53DD6C\">THF (1 mL)</span> and&nbsp;<span style=\"color: #53DD6C\">Water (.5 mL)</span> &nbsp;was added&nbsp;<span style=\"color: #12516E\">NaOH (33.91, .848 mmol)</span> &nbsp;under N2.&nbsp;</span><span style=\"font-family: Calibri; font-size: 10.5pt;\">The resulting mixture was stirred at 50&nbsp;<span style=\"color: #000000; font-family: Calibri; font-size: 14px; font-style: normal; font-variant-ligatures: normal; font-variant-caps: normal; font-weight: 400; letter-spacing: normal; orphans: 2; text-align: start; text-indent: 0px; text-transform: none; white-space: normal; widows: 2; word-spacing: 0px; -webkit-text-stroke-width: 0px; background-color: #ffffff; text-decoration-style: initial; text-decoration-color: initial; display: inline !important; float: none;\">°C</span>&nbsp;for 5 h.&nbsp;</span></p> \n",
       "<p style=\"margin: 1em 0px; color: #000000; font-family: Verdana, Arial, Helvetica, sans-serif; font-size: 11px; font-style: normal; font-variant-ligatures: normal; font-variant-caps: normal; font-weight: 400; letter-spacing: normal; orphans: 2; text-align: start; text-indent: 0px; text-transform: none; white-space: normal; widows: 2; word-spacing: 0px; -webkit-text-stroke-width: 0px; text-decoration-style: initial; text-decoration-color: initial;\"><span style=\"font-family: Calibri; font-size: 10.5pt;\">LCMS showed trace DP.</span></p> \n",
       "<p style=\"margin: 1em 0px; color: #000000; font-family: Verdana, Arial, Helvetica, sans-serif; font-size: 11px; font-style: normal; font-variant-ligatures: normal; font-variant-caps: normal; font-weight: 400; letter-spacing: normal; orphans: 2; text-align: start; text-indent: 0px; text-transform: none; white-space: normal; widows: 2; word-spacing: 0px; -webkit-text-stroke-width: 0px; text-decoration-style: initial; text-decoration-color: initial;\"><span style=\"font-family: Calibri; font-size: 10.5pt;\">The reaction was discarded.</span></p> \n",
       "<p style=\"margin: 1em 0px; color: #000000; font-family: Verdana, Arial, Helvetica, sans-serif; font-size: 11px; font-style: normal; font-variant-ligatures: normal; font-variant-caps: normal; font-weight: 400; letter-spacing: normal; orphans: 2; text-align: start; text-indent: 0px; text-transform: none; white-space: normal; widows: 2; word-spacing: 0px; -webkit-text-stroke-width: 0px; text-decoration-style: initial; text-decoration-color: initial;\">&nbsp;</p> \n",
       "<p style=\"margin: 1em 0px; color: #000000; font-family: Verdana, Arial, Helvetica, sans-serif; font-size: 11px; font-style: normal; font-variant-ligatures: normal; font-variant-caps: normal; font-weight: 400; letter-spacing: normal; orphans: 2; text-align: start; text-indent: 0px; text-transform: none; white-space: normal; widows: 2; word-spacing: 0px; -webkit-text-stroke-width: 0px; text-decoration-style: initial; text-decoration-color: initial;\">&nbsp;</p> \n",
       "<p style=\"margin: 1em 0px; color: #000000; font-family: Verdana, Arial, Helvetica, sans-serif; font-size: 11px; font-style: normal; font-variant-ligatures: normal; font-variant-caps: normal; font-weight: 400; letter-spacing: normal; orphans: 2; text-align: start; text-indent: 0px; text-transform: none; white-space: normal; widows: 2; word-spacing: 0px; -webkit-text-stroke-width: 0px; text-decoration-style: initial; text-decoration-color: initial;\">&nbsp;</p></span>\n",
       "        </div>\n",
       "    </div>\n",
       "    "
      ],
      "text/plain": [
       "<IPython.core.display.HTML object>"
      ]
     },
     "metadata": {},
     "output_type": "display_data"
    },
    {
     "data": {
      "text/html": [
       "<hr style=\"border: 2px solid #999; margin: 30px 0; padding: 10px 0;\">"
      ],
      "text/plain": [
       "<IPython.core.display.HTML object>"
      ]
     },
     "metadata": {},
     "output_type": "display_data"
    },
    {
     "data": {
      "text/html": [
       "\n",
       "    <div style=\"border: 1px solid #ccc; margin: 10px 0; padding: 10px; background-color: #f9f9f9;\">\n",
       "        <strong>ExpID Group: 18 - DEV</strong>\n",
       "        <div style=\"margin-top: 5px;\">\n",
       "            <em><strong>Experiment ID: </strong>207426</em>\n",
       "        </div>\n",
       "        <div style=\"margin-top: 5px;\">\n",
       "            <em><strong>Entry Date: </strong>2022-09-21</em>\n",
       "        </div>        \n",
       "        <div style=\"border-top: 1px dashed #999; margin-top: 10px; padding-top: 10px\">\n",
       "            <span style=\"font-size: 18px !important;\"><p style=\"margin: 1em 0px; color: #000000; font-family: Verdana, Arial, Helvetica, sans-serif; font-size: 11px; font-style: normal; font-variant-ligatures: normal; font-variant-caps: normal; font-weight: 400; letter-spacing: normal; orphans: 2; text-align: start; text-indent: 0px; text-transform: none; white-space: normal; widows: 2; word-spacing: 0px; -webkit-text-stroke-width: 0px; text-decoration-style: initial; text-decoration-color: initial;\"><span style=\"font-family: Calibri; font-size: 10.5000pt;\">To a solution of&nbsp;<span style=\"color: #12516E\">1-[2-(3-azabicyclo[3.1.0]hexan-3-yl)-6-fluoro-3-(oxan-4-yl)-4-oxoquinazolin-8-yl]ethyl methanesulfonate (, .011 mmol)</span> &nbsp;in&nbsp;<span style=\"color: #53DD6C\">THF (.5 mL)</span> was added&nbsp;<span style=\"color: #12516E\">Methyl anthranilate (, .013 mmol)</span> &nbsp;and&nbsp;<span style=\"color: #12516E\">t-BuOK (, .022 mmol)</span> &nbsp;under N2 at rt.&nbsp;</span><span style=\"font-family: Calibri; font-size: 10.5pt;\">The resulting mixture was stirred at 70<span style=\"color: #000000; font-family: Calibri; font-size: 14px; font-style: normal; font-variant-ligatures: normal; font-variant-caps: normal; font-weight: 400; letter-spacing: normal; orphans: 2; text-align: start; text-indent: 0px; text-transform: none; white-space: normal; widows: 2; word-spacing: 0px; -webkit-text-stroke-width: 0px; background-color: #ffffff; text-decoration-style: initial; text-decoration-color: initial; display: inline !important; float: none;\">°C</span>&nbsp;for 15 h.&nbsp;</span></p> \n",
       "<p style=\"margin: 1em 0px; color: #000000; font-family: Verdana, Arial, Helvetica, sans-serif; font-size: 11px; font-style: normal; font-variant-ligatures: normal; font-variant-caps: normal; font-weight: 400; letter-spacing: normal; orphans: 2; text-align: start; text-indent: 0px; text-transform: none; white-space: normal; widows: 2; word-spacing: 0px; -webkit-text-stroke-width: 0px; text-decoration-style: initial; text-decoration-color: initial;\"><span style=\"font-size: 14px; font-family: Calibri;\">LCMS showed trace DP, and SM were remained.</span></p> \n",
       "<p style=\"margin: 1em 0px; color: #000000; font-family: Verdana, Arial, Helvetica, sans-serif; font-size: 11px; font-style: normal; font-variant-ligatures: normal; font-variant-caps: normal; font-weight: 400; letter-spacing: normal; orphans: 2; text-align: start; text-indent: 0px; text-transform: none; white-space: normal; widows: 2; word-spacing: 0px; -webkit-text-stroke-width: 0px; text-decoration-style: initial; text-decoration-color: initial;\"><span style=\"font-size: 14px; font-family: Calibri;\">The reaction was fail.</span></p></span>\n",
       "        </div>\n",
       "    </div>\n",
       "    "
      ],
      "text/plain": [
       "<IPython.core.display.HTML object>"
      ]
     },
     "metadata": {},
     "output_type": "display_data"
    },
    {
     "data": {
      "text/html": [
       "\n",
       "    <div style=\"border: 1px solid #ccc; margin: 10px 0; padding: 10px; background-color: #f9f9f9;\">\n",
       "        <strong>ExpID Group: 18 - U6</strong>\n",
       "        <div style=\"margin-top: 5px;\">\n",
       "            <em><strong>Experiment ID: </strong>207426</em>\n",
       "        </div>\n",
       "        <div style=\"margin-top: 5px;\">\n",
       "            <em><strong>Entry Date: </strong>2022-09-21</em>\n",
       "        </div>        \n",
       "        <div style=\"border-top: 1px dashed #999; margin-top: 10px; padding-top: 10px\">\n",
       "            <span style=\"font-size: 18px !important;\"><p style=\"margin: 1em 0px; color: #000000; font-family: Verdana, Arial, Helvetica, sans-serif; font-size: 11px; font-style: normal; font-variant-ligatures: normal; font-variant-caps: normal; font-weight: 400; letter-spacing: normal; orphans: 2; text-align: start; text-indent: 0px; text-transform: none; white-space: normal; widows: 2; word-spacing: 0px; -webkit-text-stroke-width: 0px; text-decoration-style: initial; text-decoration-color: initial;\"><span style=\"font-family: Calibri; font-size: 10.5000pt;\">To a solution of&nbsp;<span style=\"color: #12516E\">1-[2-(3-azabicyclo[3.1.0]hexan-3-yl)-6-fluoro-3-(oxan-4-yl)-4-oxoquinazolin-8-yl]ethyl methanesulfonate (5, .011 mmol)</span> &nbsp;in&nbsp;<span style=\"color: #53DD6C\">THF (.5 mL)</span> was added&nbsp;<span style=\"color: #12516E\">Methyl anthranilate (2.01, .013 mmol)</span> &nbsp;and&nbsp;<span style=\"color: #12516E\">t-BuOK (2.49, .022 mmol)</span> &nbsp;under N2 at rt.&nbsp;</span><span style=\"font-family: Calibri; font-size: 10.5pt;\">The resulting mixture was stirred at 70<span style=\"color: #000000; font-family: Calibri; font-size: 14px; font-style: normal; font-variant-ligatures: normal; font-variant-caps: normal; font-weight: 400; letter-spacing: normal; orphans: 2; text-align: start; text-indent: 0px; text-transform: none; white-space: normal; widows: 2; word-spacing: 0px; -webkit-text-stroke-width: 0px; background-color: #ffffff; text-decoration-style: initial; text-decoration-color: initial; display: inline !important; float: none;\">°C</span>&nbsp;for 15 h.&nbsp;</span></p> \n",
       "<p style=\"margin: 1em 0px; color: #000000; font-family: Verdana, Arial, Helvetica, sans-serif; font-size: 11px; font-style: normal; font-variant-ligatures: normal; font-variant-caps: normal; font-weight: 400; letter-spacing: normal; orphans: 2; text-align: start; text-indent: 0px; text-transform: none; white-space: normal; widows: 2; word-spacing: 0px; -webkit-text-stroke-width: 0px; text-decoration-style: initial; text-decoration-color: initial;\"><span style=\"font-size: 14px; font-family: Calibri;\">LCMS showed trace DP, and SM were remained.</span></p> \n",
       "<p style=\"margin: 1em 0px; color: #000000; font-family: Verdana, Arial, Helvetica, sans-serif; font-size: 11px; font-style: normal; font-variant-ligatures: normal; font-variant-caps: normal; font-weight: 400; letter-spacing: normal; orphans: 2; text-align: start; text-indent: 0px; text-transform: none; white-space: normal; widows: 2; word-spacing: 0px; -webkit-text-stroke-width: 0px; text-decoration-style: initial; text-decoration-color: initial;\"><span style=\"font-size: 14px; font-family: Calibri;\">The reaction was fail.</span></p></span>\n",
       "        </div>\n",
       "    </div>\n",
       "    "
      ],
      "text/plain": [
       "<IPython.core.display.HTML object>"
      ]
     },
     "metadata": {},
     "output_type": "display_data"
    },
    {
     "data": {
      "text/html": [
       "\n",
       "    <div style=\"border: 1px solid #ccc; margin: 10px 0; padding: 10px; background-color: #f9f9f9;\">\n",
       "        <strong>ExpID Group: 18 - PROD</strong>\n",
       "        <div style=\"margin-top: 5px;\">\n",
       "            <em><strong>Experiment ID: </strong>207426</em>\n",
       "        </div>\n",
       "        <div style=\"margin-top: 5px;\">\n",
       "            <em><strong>Entry Date: </strong>2022-09-21</em>\n",
       "        </div>        \n",
       "        <div style=\"border-top: 1px dashed #999; margin-top: 10px; padding-top: 10px\">\n",
       "            <span style=\"font-size: 18px !important;\"><p style=\"margin: 1em 0px; color: #000000; font-family: Verdana, Arial, Helvetica, sans-serif; font-size: 11px; font-style: normal; font-variant-ligatures: normal; font-variant-caps: normal; font-weight: 400; letter-spacing: normal; orphans: 2; text-align: start; text-indent: 0px; text-transform: none; white-space: normal; widows: 2; word-spacing: 0px; -webkit-text-stroke-width: 0px; text-decoration-style: initial; text-decoration-color: initial;\"><span style=\"font-family: Calibri; font-size: 10.5000pt;\">To a solution of&nbsp;<span style=\"color: #12516E\">1-[2-(3-azabicyclo[3.1.0]hexan-3-yl)-6-fluoro-3-(oxan-4-yl)-4-oxoquinazolin-8-yl]ethyl methanesulfonate (5, .011 mmol)</span> &nbsp;in&nbsp;<span style=\"color: #53DD6C\">THF (.5 mL)</span> was added&nbsp;<span style=\"color: #12516E\">Methyl anthranilate (2.01, .013 mmol)</span> &nbsp;and&nbsp;<span style=\"color: #12516E\">t-BuOK (2.49, .022 mmol)</span> &nbsp;under N2 at rt.&nbsp;</span><span style=\"font-family: Calibri; font-size: 10.5pt;\">The resulting mixture was stirred at 70<span style=\"color: #000000; font-family: Calibri; font-size: 14px; font-style: normal; font-variant-ligatures: normal; font-variant-caps: normal; font-weight: 400; letter-spacing: normal; orphans: 2; text-align: start; text-indent: 0px; text-transform: none; white-space: normal; widows: 2; word-spacing: 0px; -webkit-text-stroke-width: 0px; background-color: #ffffff; text-decoration-style: initial; text-decoration-color: initial; display: inline !important; float: none;\">°C</span>&nbsp;for 15 h.&nbsp;</span></p> \n",
       "<p style=\"margin: 1em 0px; color: #000000; font-family: Verdana, Arial, Helvetica, sans-serif; font-size: 11px; font-style: normal; font-variant-ligatures: normal; font-variant-caps: normal; font-weight: 400; letter-spacing: normal; orphans: 2; text-align: start; text-indent: 0px; text-transform: none; white-space: normal; widows: 2; word-spacing: 0px; -webkit-text-stroke-width: 0px; text-decoration-style: initial; text-decoration-color: initial;\"><span style=\"font-size: 14px; font-family: Calibri;\">LCMS showed trace DP, and SM were remained.</span></p> \n",
       "<p style=\"margin: 1em 0px; color: #000000; font-family: Verdana, Arial, Helvetica, sans-serif; font-size: 11px; font-style: normal; font-variant-ligatures: normal; font-variant-caps: normal; font-weight: 400; letter-spacing: normal; orphans: 2; text-align: start; text-indent: 0px; text-transform: none; white-space: normal; widows: 2; word-spacing: 0px; -webkit-text-stroke-width: 0px; text-decoration-style: initial; text-decoration-color: initial;\"><span style=\"font-size: 14px; font-family: Calibri;\">The reaction was fail.</span></p></span>\n",
       "        </div>\n",
       "    </div>\n",
       "    "
      ],
      "text/plain": [
       "<IPython.core.display.HTML object>"
      ]
     },
     "metadata": {},
     "output_type": "display_data"
    },
    {
     "data": {
      "text/html": [
       "<hr style=\"border: 2px solid #999; margin: 30px 0; padding: 10px 0;\">"
      ],
      "text/plain": [
       "<IPython.core.display.HTML object>"
      ]
     },
     "metadata": {},
     "output_type": "display_data"
    },
    {
     "data": {
      "text/html": [
       "\n",
       "    <div style=\"border: 1px solid #ccc; margin: 10px 0; padding: 10px; background-color: #f9f9f9;\">\n",
       "        <strong>ExpID Group: 19 - DEV</strong>\n",
       "        <div style=\"margin-top: 5px;\">\n",
       "            <em><strong>Experiment ID: </strong>207425</em>\n",
       "        </div>\n",
       "        <div style=\"margin-top: 5px;\">\n",
       "            <em><strong>Entry Date: </strong>2022-09-21</em>\n",
       "        </div>        \n",
       "        <div style=\"border-top: 1px dashed #999; margin-top: 10px; padding-top: 10px\">\n",
       "            <span style=\"font-size: 18px !important;\"><p style=\"margin: 1em 0px; color: #000000; font-family: Verdana, Arial, Helvetica, sans-serif; font-size: 11px; font-style: normal; font-variant-ligatures: normal; font-variant-caps: normal; font-weight: 400; letter-spacing: normal; orphans: 2; text-align: start; text-indent: 0px; text-transform: none; white-space: normal; widows: 2; word-spacing: 0px; -webkit-text-stroke-width: 0px; text-decoration-style: initial; text-decoration-color: initial;\"><span style=\"font-family: Calibri; font-size: 10.5000pt;\">To a solution of&nbsp;<span style=\"color: #12516E\">1-[2-(3-azabicyclo[3.1.0]hexan-3-yl)-6-fluoro-3-(oxan-4-yl)-4-oxoquinazolin-8-yl]ethyl methanesulfonate (, .011 mmol)</span> &nbsp;in&nbsp;<span style=\"color: #53DD6C\">THF (.5 mL)</span> was added&nbsp;<span style=\"color: #12516E\">Methyl anthranilate (, .013 mmol)</span> &nbsp;and&nbsp;<span style=\"color: #12516E\">DBU (, .022 mmol)</span> &nbsp;under N2 at rt.&nbsp;</span><span style=\"font-family: Calibri; font-size: 10.5pt;\">The resulting mixture was stirred at 70<span style=\"color: #000000; font-family: Calibri; font-size: 14px; font-style: normal; font-variant-ligatures: normal; font-variant-caps: normal; font-weight: 400; letter-spacing: normal; orphans: 2; text-align: start; text-indent: 0px; text-transform: none; white-space: normal; widows: 2; word-spacing: 0px; -webkit-text-stroke-width: 0px; background-color: #ffffff; text-decoration-style: initial; text-decoration-color: initial; display: inline !important; float: none;\">°C</span>&nbsp;for 15 h.&nbsp;</span></p> \n",
       "<p style=\"margin: 1em 0px; color: #000000; font-family: Verdana, Arial, Helvetica, sans-serif; font-size: 11px; font-style: normal; font-variant-ligatures: normal; font-variant-caps: normal; font-weight: 400; letter-spacing: normal; orphans: 2; text-align: start; text-indent: 0px; text-transform: none; white-space: normal; widows: 2; word-spacing: 0px; -webkit-text-stroke-width: 0px; text-decoration-style: initial; text-decoration-color: initial;\"><span style=\"font-size: 14px; font-family: Calibri;\">LCMS showed trace DP, and SM were remained.</span></p> \n",
       "<p style=\"margin: 1em 0px; color: #000000; font-family: Verdana, Arial, Helvetica, sans-serif; font-size: 11px; font-style: normal; font-variant-ligatures: normal; font-variant-caps: normal; font-weight: 400; letter-spacing: normal; orphans: 2; text-align: start; text-indent: 0px; text-transform: none; white-space: normal; widows: 2; word-spacing: 0px; -webkit-text-stroke-width: 0px; text-decoration-style: initial; text-decoration-color: initial;\"><span style=\"font-size: 14px; font-family: Calibri;\">The reaction was fail.</span></p></span>\n",
       "        </div>\n",
       "    </div>\n",
       "    "
      ],
      "text/plain": [
       "<IPython.core.display.HTML object>"
      ]
     },
     "metadata": {},
     "output_type": "display_data"
    },
    {
     "data": {
      "text/html": [
       "\n",
       "    <div style=\"border: 1px solid #ccc; margin: 10px 0; padding: 10px; background-color: #f9f9f9;\">\n",
       "        <strong>ExpID Group: 19 - U6</strong>\n",
       "        <div style=\"margin-top: 5px;\">\n",
       "            <em><strong>Experiment ID: </strong>207425</em>\n",
       "        </div>\n",
       "        <div style=\"margin-top: 5px;\">\n",
       "            <em><strong>Entry Date: </strong>2022-09-21</em>\n",
       "        </div>        \n",
       "        <div style=\"border-top: 1px dashed #999; margin-top: 10px; padding-top: 10px\">\n",
       "            <span style=\"font-size: 18px !important;\"><p style=\"margin: 1em 0px; color: #000000; font-family: Verdana, Arial, Helvetica, sans-serif; font-size: 11px; font-style: normal; font-variant-ligatures: normal; font-variant-caps: normal; font-weight: 400; letter-spacing: normal; orphans: 2; text-align: start; text-indent: 0px; text-transform: none; white-space: normal; widows: 2; word-spacing: 0px; -webkit-text-stroke-width: 0px; text-decoration-style: initial; text-decoration-color: initial;\"><span style=\"font-family: Calibri; font-size: 10.5000pt;\">To a solution of&nbsp;<span style=\"color: #12516E\">1-[2-(3-azabicyclo[3.1.0]hexan-3-yl)-6-fluoro-3-(oxan-4-yl)-4-oxoquinazolin-8-yl]ethyl methanesulfonate (5, .011 mmol)</span> &nbsp;in&nbsp;<span style=\"color: #53DD6C\">THF (.5 mL)</span> was added&nbsp;<span style=\"color: #12516E\">Methyl anthranilate (2.01, .013 mmol)</span> &nbsp;and&nbsp;<span style=\"color: #12516E\">DBU (3.37, .022 mmol)</span> &nbsp;under N2 at rt.&nbsp;</span><span style=\"font-family: Calibri; font-size: 10.5pt;\">The resulting mixture was stirred at 70<span style=\"color: #000000; font-family: Calibri; font-size: 14px; font-style: normal; font-variant-ligatures: normal; font-variant-caps: normal; font-weight: 400; letter-spacing: normal; orphans: 2; text-align: start; text-indent: 0px; text-transform: none; white-space: normal; widows: 2; word-spacing: 0px; -webkit-text-stroke-width: 0px; background-color: #ffffff; text-decoration-style: initial; text-decoration-color: initial; display: inline !important; float: none;\">°C</span>&nbsp;for 15 h.&nbsp;</span></p> \n",
       "<p style=\"margin: 1em 0px; color: #000000; font-family: Verdana, Arial, Helvetica, sans-serif; font-size: 11px; font-style: normal; font-variant-ligatures: normal; font-variant-caps: normal; font-weight: 400; letter-spacing: normal; orphans: 2; text-align: start; text-indent: 0px; text-transform: none; white-space: normal; widows: 2; word-spacing: 0px; -webkit-text-stroke-width: 0px; text-decoration-style: initial; text-decoration-color: initial;\"><span style=\"font-size: 14px; font-family: Calibri;\">LCMS showed trace DP, and SM were remained.</span></p> \n",
       "<p style=\"margin: 1em 0px; color: #000000; font-family: Verdana, Arial, Helvetica, sans-serif; font-size: 11px; font-style: normal; font-variant-ligatures: normal; font-variant-caps: normal; font-weight: 400; letter-spacing: normal; orphans: 2; text-align: start; text-indent: 0px; text-transform: none; white-space: normal; widows: 2; word-spacing: 0px; -webkit-text-stroke-width: 0px; text-decoration-style: initial; text-decoration-color: initial;\"><span style=\"font-size: 14px; font-family: Calibri;\">The reaction was fail.</span></p></span>\n",
       "        </div>\n",
       "    </div>\n",
       "    "
      ],
      "text/plain": [
       "<IPython.core.display.HTML object>"
      ]
     },
     "metadata": {},
     "output_type": "display_data"
    },
    {
     "data": {
      "text/html": [
       "\n",
       "    <div style=\"border: 1px solid #ccc; margin: 10px 0; padding: 10px; background-color: #f9f9f9;\">\n",
       "        <strong>ExpID Group: 19 - PROD</strong>\n",
       "        <div style=\"margin-top: 5px;\">\n",
       "            <em><strong>Experiment ID: </strong>207425</em>\n",
       "        </div>\n",
       "        <div style=\"margin-top: 5px;\">\n",
       "            <em><strong>Entry Date: </strong>2022-09-21</em>\n",
       "        </div>        \n",
       "        <div style=\"border-top: 1px dashed #999; margin-top: 10px; padding-top: 10px\">\n",
       "            <span style=\"font-size: 18px !important;\"><p style=\"margin: 1em 0px; color: #000000; font-family: Verdana, Arial, Helvetica, sans-serif; font-size: 11px; font-style: normal; font-variant-ligatures: normal; font-variant-caps: normal; font-weight: 400; letter-spacing: normal; orphans: 2; text-align: start; text-indent: 0px; text-transform: none; white-space: normal; widows: 2; word-spacing: 0px; -webkit-text-stroke-width: 0px; text-decoration-style: initial; text-decoration-color: initial;\"><span style=\"font-family: Calibri; font-size: 10.5000pt;\">To a solution of&nbsp;<span style=\"color: #12516E\">1-[2-(3-azabicyclo[3.1.0]hexan-3-yl)-6-fluoro-3-(oxan-4-yl)-4-oxoquinazolin-8-yl]ethyl methanesulfonate (5, .011 mmol)</span> &nbsp;in&nbsp;<span style=\"color: #53DD6C\">THF (.5 mL)</span> was added&nbsp;<span style=\"color: #12516E\">Methyl anthranilate (2.01, .013 mmol)</span> &nbsp;and&nbsp;<span style=\"color: #12516E\">DBU (3.37, .022 mmol)</span> &nbsp;under N2 at rt.&nbsp;</span><span style=\"font-family: Calibri; font-size: 10.5pt;\">The resulting mixture was stirred at 70<span style=\"color: #000000; font-family: Calibri; font-size: 14px; font-style: normal; font-variant-ligatures: normal; font-variant-caps: normal; font-weight: 400; letter-spacing: normal; orphans: 2; text-align: start; text-indent: 0px; text-transform: none; white-space: normal; widows: 2; word-spacing: 0px; -webkit-text-stroke-width: 0px; background-color: #ffffff; text-decoration-style: initial; text-decoration-color: initial; display: inline !important; float: none;\">°C</span>&nbsp;for 15 h.&nbsp;</span></p> \n",
       "<p style=\"margin: 1em 0px; color: #000000; font-family: Verdana, Arial, Helvetica, sans-serif; font-size: 11px; font-style: normal; font-variant-ligatures: normal; font-variant-caps: normal; font-weight: 400; letter-spacing: normal; orphans: 2; text-align: start; text-indent: 0px; text-transform: none; white-space: normal; widows: 2; word-spacing: 0px; -webkit-text-stroke-width: 0px; text-decoration-style: initial; text-decoration-color: initial;\"><span style=\"font-size: 14px; font-family: Calibri;\">LCMS showed trace DP, and SM were remained.</span></p> \n",
       "<p style=\"margin: 1em 0px; color: #000000; font-family: Verdana, Arial, Helvetica, sans-serif; font-size: 11px; font-style: normal; font-variant-ligatures: normal; font-variant-caps: normal; font-weight: 400; letter-spacing: normal; orphans: 2; text-align: start; text-indent: 0px; text-transform: none; white-space: normal; widows: 2; word-spacing: 0px; -webkit-text-stroke-width: 0px; text-decoration-style: initial; text-decoration-color: initial;\"><span style=\"font-size: 14px; font-family: Calibri;\">The reaction was fail.</span></p></span>\n",
       "        </div>\n",
       "    </div>\n",
       "    "
      ],
      "text/plain": [
       "<IPython.core.display.HTML object>"
      ]
     },
     "metadata": {},
     "output_type": "display_data"
    },
    {
     "data": {
      "text/html": [
       "<hr style=\"border: 2px solid #999; margin: 30px 0; padding: 10px 0;\">"
      ],
      "text/plain": [
       "<IPython.core.display.HTML object>"
      ]
     },
     "metadata": {},
     "output_type": "display_data"
    },
    {
     "data": {
      "text/html": [
       "\n",
       "    <div style=\"border: 1px solid #ccc; margin: 10px 0; padding: 10px; background-color: #f9f9f9;\">\n",
       "        <strong>ExpID Group: 20 - DEV</strong>\n",
       "        <div style=\"margin-top: 5px;\">\n",
       "            <em><strong>Experiment ID: </strong>207424</em>\n",
       "        </div>\n",
       "        <div style=\"margin-top: 5px;\">\n",
       "            <em><strong>Entry Date: </strong>2022-09-21</em>\n",
       "        </div>        \n",
       "        <div style=\"border-top: 1px dashed #999; margin-top: 10px; padding-top: 10px\">\n",
       "            <span style=\"font-size: 18px !important;\"><p style=\"margin: 1em 0px; color: #000000; font-family: Verdana, Arial, Helvetica, sans-serif; font-size: 11px; font-style: normal; font-variant-ligatures: normal; font-variant-caps: normal; font-weight: 400; letter-spacing: normal; orphans: 2; text-align: start; text-indent: 0px; text-transform: none; white-space: normal; widows: 2; word-spacing: 0px; -webkit-text-stroke-width: 0px; text-decoration-style: initial; text-decoration-color: initial;\"><span style=\"font-family: Calibri; font-size: 10.5000pt;\">To a solution of&nbsp;<span style=\"color: #12516E\">1-[2-(3-azabicyclo[3.1.0]hexan-3-yl)-6-fluoro-3-(oxan-4-yl)-4-oxoquinazolin-8-yl]ethyl methanesulfonate (, .122 mmol)</span>&nbsp;in&nbsp;<span style=\"color: #53DD6C\">DCM (2 mL)</span> was added&nbsp;<span style=\"color: #12516E\">Methyl anthranilate (, .146 mmol)</span> &nbsp;and&nbsp;<span style=\"color: #12516E\">DIEA (, .244 mmol)</span> &nbsp;under N2 at rt.&nbsp;</span><span style=\"font-family: Calibri; font-size: 10.5pt;\">The resulting mixture was stirred at 40<span style=\"color: #000000; font-family: Calibri; font-size: 14px; font-style: normal; font-variant-ligatures: normal; font-variant-caps: normal; font-weight: 400; letter-spacing: normal; orphans: 2; text-align: start; text-indent: 0px; text-transform: none; white-space: normal; widows: 2; word-spacing: 0px; -webkit-text-stroke-width: 0px; background-color: #ffffff; text-decoration-style: initial; text-decoration-color: initial; display: inline !important; float: none;\">°C</span>&nbsp;for 15 h.&nbsp;</span></p> \n",
       "<p style=\"margin: 1em 0px; color: #000000; font-family: Verdana, Arial, Helvetica, sans-serif; font-size: 11px; font-style: normal; font-variant-ligatures: normal; font-variant-caps: normal; font-weight: 400; letter-spacing: normal; orphans: 2; text-align: start; text-indent: 0px; text-transform: none; white-space: normal; widows: 2; word-spacing: 0px; -webkit-text-stroke-width: 0px; text-decoration-style: initial; text-decoration-color: initial;\"><span style=\"font-size: 14px; font-family: Calibri;\">LCMS showed trace DP, and SM were remained.</span></p> \n",
       "<p style=\"margin: 1em 0px; color: #000000; font-family: Verdana, Arial, Helvetica, sans-serif; font-size: 11px; font-style: normal; font-variant-ligatures: normal; font-variant-caps: normal; font-weight: 400; letter-spacing: normal; orphans: 2; text-align: start; text-indent: 0px; text-transform: none; white-space: normal; widows: 2; word-spacing: 0px; -webkit-text-stroke-width: 0px; text-decoration-style: initial; text-decoration-color: initial;\"><span style=\"font-size: 14px; font-family: Calibri;\">The reaction was fail.</span></p></span>\n",
       "        </div>\n",
       "    </div>\n",
       "    "
      ],
      "text/plain": [
       "<IPython.core.display.HTML object>"
      ]
     },
     "metadata": {},
     "output_type": "display_data"
    },
    {
     "data": {
      "text/html": [
       "\n",
       "    <div style=\"border: 1px solid #ccc; margin: 10px 0; padding: 10px; background-color: #f9f9f9;\">\n",
       "        <strong>ExpID Group: 20 - U6</strong>\n",
       "        <div style=\"margin-top: 5px;\">\n",
       "            <em><strong>Experiment ID: </strong>207424</em>\n",
       "        </div>\n",
       "        <div style=\"margin-top: 5px;\">\n",
       "            <em><strong>Entry Date: </strong>2022-09-21</em>\n",
       "        </div>        \n",
       "        <div style=\"border-top: 1px dashed #999; margin-top: 10px; padding-top: 10px\">\n",
       "            <span style=\"font-size: 18px !important;\"><p style=\"margin: 1em 0px; color: #000000; font-family: Verdana, Arial, Helvetica, sans-serif; font-size: 11px; font-style: normal; font-variant-ligatures: normal; font-variant-caps: normal; font-weight: 400; letter-spacing: normal; orphans: 2; text-align: start; text-indent: 0px; text-transform: none; white-space: normal; widows: 2; word-spacing: 0px; -webkit-text-stroke-width: 0px; text-decoration-style: initial; text-decoration-color: initial;\"><span style=\"font-family: Calibri; font-size: 10.5000pt;\">To a solution of&nbsp;<span style=\"color: #12516E\">1-[2-(3-azabicyclo[3.1.0]hexan-3-yl)-6-fluoro-3-(oxan-4-yl)-4-oxoquinazolin-8-yl]ethyl methanesulfonate (55, .122 mmol)</span>&nbsp;in&nbsp;<span style=\"color: #53DD6C\">DCM (2 mL)</span> was added&nbsp;<span style=\"color: #12516E\">Methyl anthranilate (22.1, .146 mmol)</span> &nbsp;and&nbsp;<span style=\"color: #12516E\">DIEA (31.49, .244 mmol)</span> &nbsp;under N2 at rt.&nbsp;</span><span style=\"font-family: Calibri; font-size: 10.5pt;\">The resulting mixture was stirred at 40<span style=\"color: #000000; font-family: Calibri; font-size: 14px; font-style: normal; font-variant-ligatures: normal; font-variant-caps: normal; font-weight: 400; letter-spacing: normal; orphans: 2; text-align: start; text-indent: 0px; text-transform: none; white-space: normal; widows: 2; word-spacing: 0px; -webkit-text-stroke-width: 0px; background-color: #ffffff; text-decoration-style: initial; text-decoration-color: initial; display: inline !important; float: none;\">°C</span>&nbsp;for 15 h.&nbsp;</span></p> \n",
       "<p style=\"margin: 1em 0px; color: #000000; font-family: Verdana, Arial, Helvetica, sans-serif; font-size: 11px; font-style: normal; font-variant-ligatures: normal; font-variant-caps: normal; font-weight: 400; letter-spacing: normal; orphans: 2; text-align: start; text-indent: 0px; text-transform: none; white-space: normal; widows: 2; word-spacing: 0px; -webkit-text-stroke-width: 0px; text-decoration-style: initial; text-decoration-color: initial;\"><span style=\"font-size: 14px; font-family: Calibri;\">LCMS showed trace DP, and SM were remained.</span></p> \n",
       "<p style=\"margin: 1em 0px; color: #000000; font-family: Verdana, Arial, Helvetica, sans-serif; font-size: 11px; font-style: normal; font-variant-ligatures: normal; font-variant-caps: normal; font-weight: 400; letter-spacing: normal; orphans: 2; text-align: start; text-indent: 0px; text-transform: none; white-space: normal; widows: 2; word-spacing: 0px; -webkit-text-stroke-width: 0px; text-decoration-style: initial; text-decoration-color: initial;\"><span style=\"font-size: 14px; font-family: Calibri;\">The reaction was fail.</span></p></span>\n",
       "        </div>\n",
       "    </div>\n",
       "    "
      ],
      "text/plain": [
       "<IPython.core.display.HTML object>"
      ]
     },
     "metadata": {},
     "output_type": "display_data"
    },
    {
     "data": {
      "text/html": [
       "\n",
       "    <div style=\"border: 1px solid #ccc; margin: 10px 0; padding: 10px; background-color: #f9f9f9;\">\n",
       "        <strong>ExpID Group: 20 - PROD</strong>\n",
       "        <div style=\"margin-top: 5px;\">\n",
       "            <em><strong>Experiment ID: </strong>207424</em>\n",
       "        </div>\n",
       "        <div style=\"margin-top: 5px;\">\n",
       "            <em><strong>Entry Date: </strong>2022-09-21</em>\n",
       "        </div>        \n",
       "        <div style=\"border-top: 1px dashed #999; margin-top: 10px; padding-top: 10px\">\n",
       "            <span style=\"font-size: 18px !important;\"><p style=\"margin: 1em 0px; color: #000000; font-family: Verdana, Arial, Helvetica, sans-serif; font-size: 11px; font-style: normal; font-variant-ligatures: normal; font-variant-caps: normal; font-weight: 400; letter-spacing: normal; orphans: 2; text-align: start; text-indent: 0px; text-transform: none; white-space: normal; widows: 2; word-spacing: 0px; -webkit-text-stroke-width: 0px; text-decoration-style: initial; text-decoration-color: initial;\"><span style=\"font-family: Calibri; font-size: 10.5000pt;\">To a solution of&nbsp;<span style=\"color: #12516E\">1-[2-(3-azabicyclo[3.1.0]hexan-3-yl)-6-fluoro-3-(oxan-4-yl)-4-oxoquinazolin-8-yl]ethyl methanesulfonate (55, .122 mmol)</span>&nbsp;in&nbsp;<span style=\"color: #53DD6C\">DCM (2 mL)</span> was added&nbsp;<span style=\"color: #12516E\">Methyl anthranilate (22.1, .146 mmol)</span> &nbsp;and&nbsp;<span style=\"color: #12516E\">DIEA (31.49, .244 mmol)</span> &nbsp;under N2 at rt.&nbsp;</span><span style=\"font-family: Calibri; font-size: 10.5pt;\">The resulting mixture was stirred at 40<span style=\"color: #000000; font-family: Calibri; font-size: 14px; font-style: normal; font-variant-ligatures: normal; font-variant-caps: normal; font-weight: 400; letter-spacing: normal; orphans: 2; text-align: start; text-indent: 0px; text-transform: none; white-space: normal; widows: 2; word-spacing: 0px; -webkit-text-stroke-width: 0px; background-color: #ffffff; text-decoration-style: initial; text-decoration-color: initial; display: inline !important; float: none;\">°C</span>&nbsp;for 15 h.&nbsp;</span></p> \n",
       "<p style=\"margin: 1em 0px; color: #000000; font-family: Verdana, Arial, Helvetica, sans-serif; font-size: 11px; font-style: normal; font-variant-ligatures: normal; font-variant-caps: normal; font-weight: 400; letter-spacing: normal; orphans: 2; text-align: start; text-indent: 0px; text-transform: none; white-space: normal; widows: 2; word-spacing: 0px; -webkit-text-stroke-width: 0px; text-decoration-style: initial; text-decoration-color: initial;\"><span style=\"font-size: 14px; font-family: Calibri;\">LCMS showed trace DP, and SM were remained.</span></p> \n",
       "<p style=\"margin: 1em 0px; color: #000000; font-family: Verdana, Arial, Helvetica, sans-serif; font-size: 11px; font-style: normal; font-variant-ligatures: normal; font-variant-caps: normal; font-weight: 400; letter-spacing: normal; orphans: 2; text-align: start; text-indent: 0px; text-transform: none; white-space: normal; widows: 2; word-spacing: 0px; -webkit-text-stroke-width: 0px; text-decoration-style: initial; text-decoration-color: initial;\"><span style=\"font-size: 14px; font-family: Calibri;\">The reaction was fail.</span></p></span>\n",
       "        </div>\n",
       "    </div>\n",
       "    "
      ],
      "text/plain": [
       "<IPython.core.display.HTML object>"
      ]
     },
     "metadata": {},
     "output_type": "display_data"
    },
    {
     "data": {
      "text/html": [
       "<hr style=\"border: 2px solid #999; margin: 30px 0; padding: 10px 0;\">"
      ],
      "text/plain": [
       "<IPython.core.display.HTML object>"
      ]
     },
     "metadata": {},
     "output_type": "display_data"
    },
    {
     "data": {
      "text/html": [
       "\n",
       "    <div style=\"border: 1px solid #ccc; margin: 10px 0; padding: 10px; background-color: #f9f9f9;\">\n",
       "        <strong>ExpID Group: 21 - DEV</strong>\n",
       "        <div style=\"margin-top: 5px;\">\n",
       "            <em><strong>Experiment ID: </strong>207423</em>\n",
       "        </div>\n",
       "        <div style=\"margin-top: 5px;\">\n",
       "            <em><strong>Entry Date: </strong>2022-09-21</em>\n",
       "        </div>        \n",
       "        <div style=\"border-top: 1px dashed #999; margin-top: 10px; padding-top: 10px\">\n",
       "            <span style=\"font-size: 18px !important;\"><p style=\"margin: 1em 0px; color: #000000; font-family: Verdana, Arial, Helvetica, sans-serif; font-size: 11px; font-style: normal; font-variant-ligatures: normal; font-variant-caps: normal; font-weight: 400; letter-spacing: normal; orphans: 2; text-align: start; text-indent: 0px; text-transform: none; white-space: normal; widows: 2; word-spacing: 0px; -webkit-text-stroke-width: 0px; text-decoration-style: initial; text-decoration-color: initial;\"><span style=\"font-family: Calibri; font-size: 10.5000pt;\">To a solution of&nbsp;<span style=\"color: #12516E\">1-[2-(1,3-dihydroisoindol-2-yl)-6-fluoro-3-(oxan-4-yl)-4-oxoquinazolin-8-yl]ethyl methanesulfonate (, .113 mmol)</span>&nbsp; in&nbsp;<span style=\"color: #53DD6C\">DCM (2 mL)</span> was added&nbsp;<span style=\"color: #12516E\">Methyl anthranilate (, .135 mmol)</span> &nbsp;and&nbsp;<span style=\"color: #12516E\">DIEA (, .226 mmol)</span> &nbsp;under N2 at rt.&nbsp;</span><span style=\"font-family: Calibri; font-size: 10.5pt;\">The resulting mixture was stirred at 40<span style=\"color: #000000; font-family: Calibri; font-size: 14px; font-style: normal; font-variant-ligatures: normal; font-variant-caps: normal; font-weight: 400; letter-spacing: normal; orphans: 2; text-align: start; text-indent: 0px; text-transform: none; white-space: normal; widows: 2; word-spacing: 0px; -webkit-text-stroke-width: 0px; background-color: #ffffff; text-decoration-style: initial; text-decoration-color: initial; display: inline !important; float: none;\">°C</span>&nbsp;for 15 h.&nbsp;</span></p> \n",
       "<p style=\"margin: 1em 0px; color: #000000; font-family: Verdana, Arial, Helvetica, sans-serif; font-size: 11px; font-style: normal; font-variant-ligatures: normal; font-variant-caps: normal; font-weight: 400; letter-spacing: normal; orphans: 2; text-align: start; text-indent: 0px; text-transform: none; white-space: normal; widows: 2; word-spacing: 0px; -webkit-text-stroke-width: 0px; text-decoration-style: initial; text-decoration-color: initial;\"><span style=\"font-size: 14px; font-family: Calibri;\">LCMS showed trace DP, and SM were remained.</span></p> \n",
       "<p style=\"margin: 1em 0px; color: #000000; font-family: Verdana, Arial, Helvetica, sans-serif; font-size: 11px; font-style: normal; font-variant-ligatures: normal; font-variant-caps: normal; font-weight: 400; letter-spacing: normal; orphans: 2; text-align: start; text-indent: 0px; text-transform: none; white-space: normal; widows: 2; word-spacing: 0px; -webkit-text-stroke-width: 0px; text-decoration-style: initial; text-decoration-color: initial;\"><span style=\"font-size: 14px; font-family: Calibri;\">The reaction was fail.</span></p></span>\n",
       "        </div>\n",
       "    </div>\n",
       "    "
      ],
      "text/plain": [
       "<IPython.core.display.HTML object>"
      ]
     },
     "metadata": {},
     "output_type": "display_data"
    },
    {
     "data": {
      "text/html": [
       "\n",
       "    <div style=\"border: 1px solid #ccc; margin: 10px 0; padding: 10px; background-color: #f9f9f9;\">\n",
       "        <strong>ExpID Group: 21 - U6</strong>\n",
       "        <div style=\"margin-top: 5px;\">\n",
       "            <em><strong>Experiment ID: </strong>207423</em>\n",
       "        </div>\n",
       "        <div style=\"margin-top: 5px;\">\n",
       "            <em><strong>Entry Date: </strong>2022-09-21</em>\n",
       "        </div>        \n",
       "        <div style=\"border-top: 1px dashed #999; margin-top: 10px; padding-top: 10px\">\n",
       "            <span style=\"font-size: 18px !important;\"><p style=\"margin: 1em 0px; color: #000000; font-family: Verdana, Arial, Helvetica, sans-serif; font-size: 11px; font-style: normal; font-variant-ligatures: normal; font-variant-caps: normal; font-weight: 400; letter-spacing: normal; orphans: 2; text-align: start; text-indent: 0px; text-transform: none; white-space: normal; widows: 2; word-spacing: 0px; -webkit-text-stroke-width: 0px; text-decoration-style: initial; text-decoration-color: initial;\"><span style=\"font-family: Calibri; font-size: 10.5000pt;\">To a solution of&nbsp;<span style=\"color: #12516E\">1-[2-(1,3-dihydroisoindol-2-yl)-6-fluoro-3-(oxan-4-yl)-4-oxoquinazolin-8-yl]ethyl methanesulfonate (55, .113 mmol)</span>&nbsp; in&nbsp;<span style=\"color: #53DD6C\">DCM (2 mL)</span> was added&nbsp;<span style=\"color: #12516E\">Methyl anthranilate (20.46, .135 mmol)</span> &nbsp;and&nbsp;<span style=\"color: #12516E\">DIEA (29.16, .226 mmol)</span> &nbsp;under N2 at rt.&nbsp;</span><span style=\"font-family: Calibri; font-size: 10.5pt;\">The resulting mixture was stirred at 40<span style=\"color: #000000; font-family: Calibri; font-size: 14px; font-style: normal; font-variant-ligatures: normal; font-variant-caps: normal; font-weight: 400; letter-spacing: normal; orphans: 2; text-align: start; text-indent: 0px; text-transform: none; white-space: normal; widows: 2; word-spacing: 0px; -webkit-text-stroke-width: 0px; background-color: #ffffff; text-decoration-style: initial; text-decoration-color: initial; display: inline !important; float: none;\">°C</span>&nbsp;for 15 h.&nbsp;</span></p> \n",
       "<p style=\"margin: 1em 0px; color: #000000; font-family: Verdana, Arial, Helvetica, sans-serif; font-size: 11px; font-style: normal; font-variant-ligatures: normal; font-variant-caps: normal; font-weight: 400; letter-spacing: normal; orphans: 2; text-align: start; text-indent: 0px; text-transform: none; white-space: normal; widows: 2; word-spacing: 0px; -webkit-text-stroke-width: 0px; text-decoration-style: initial; text-decoration-color: initial;\"><span style=\"font-size: 14px; font-family: Calibri;\">LCMS showed trace DP, and SM were remained.</span></p> \n",
       "<p style=\"margin: 1em 0px; color: #000000; font-family: Verdana, Arial, Helvetica, sans-serif; font-size: 11px; font-style: normal; font-variant-ligatures: normal; font-variant-caps: normal; font-weight: 400; letter-spacing: normal; orphans: 2; text-align: start; text-indent: 0px; text-transform: none; white-space: normal; widows: 2; word-spacing: 0px; -webkit-text-stroke-width: 0px; text-decoration-style: initial; text-decoration-color: initial;\"><span style=\"font-size: 14px; font-family: Calibri;\">The reaction was fail.</span></p></span>\n",
       "        </div>\n",
       "    </div>\n",
       "    "
      ],
      "text/plain": [
       "<IPython.core.display.HTML object>"
      ]
     },
     "metadata": {},
     "output_type": "display_data"
    },
    {
     "data": {
      "text/html": [
       "\n",
       "    <div style=\"border: 1px solid #ccc; margin: 10px 0; padding: 10px; background-color: #f9f9f9;\">\n",
       "        <strong>ExpID Group: 21 - PROD</strong>\n",
       "        <div style=\"margin-top: 5px;\">\n",
       "            <em><strong>Experiment ID: </strong>207423</em>\n",
       "        </div>\n",
       "        <div style=\"margin-top: 5px;\">\n",
       "            <em><strong>Entry Date: </strong>2022-09-21</em>\n",
       "        </div>        \n",
       "        <div style=\"border-top: 1px dashed #999; margin-top: 10px; padding-top: 10px\">\n",
       "            <span style=\"font-size: 18px !important;\"><p style=\"margin: 1em 0px; color: #000000; font-family: Verdana, Arial, Helvetica, sans-serif; font-size: 11px; font-style: normal; font-variant-ligatures: normal; font-variant-caps: normal; font-weight: 400; letter-spacing: normal; orphans: 2; text-align: start; text-indent: 0px; text-transform: none; white-space: normal; widows: 2; word-spacing: 0px; -webkit-text-stroke-width: 0px; text-decoration-style: initial; text-decoration-color: initial;\"><span style=\"font-family: Calibri; font-size: 10.5000pt;\">To a solution of&nbsp;<span style=\"color: #12516E\">1-[2-(1,3-dihydroisoindol-2-yl)-6-fluoro-3-(oxan-4-yl)-4-oxoquinazolin-8-yl]ethyl methanesulfonate (55, .113 mmol)</span>&nbsp; in&nbsp;<span style=\"color: #53DD6C\">DCM (2 mL)</span> was added&nbsp;<span style=\"color: #12516E\">Methyl anthranilate (20.46, .135 mmol)</span> &nbsp;and&nbsp;<span style=\"color: #12516E\">DIEA (29.16, .226 mmol)</span> &nbsp;under N2 at rt.&nbsp;</span><span style=\"font-family: Calibri; font-size: 10.5pt;\">The resulting mixture was stirred at 40<span style=\"color: #000000; font-family: Calibri; font-size: 14px; font-style: normal; font-variant-ligatures: normal; font-variant-caps: normal; font-weight: 400; letter-spacing: normal; orphans: 2; text-align: start; text-indent: 0px; text-transform: none; white-space: normal; widows: 2; word-spacing: 0px; -webkit-text-stroke-width: 0px; background-color: #ffffff; text-decoration-style: initial; text-decoration-color: initial; display: inline !important; float: none;\">°C</span>&nbsp;for 15 h.&nbsp;</span></p> \n",
       "<p style=\"margin: 1em 0px; color: #000000; font-family: Verdana, Arial, Helvetica, sans-serif; font-size: 11px; font-style: normal; font-variant-ligatures: normal; font-variant-caps: normal; font-weight: 400; letter-spacing: normal; orphans: 2; text-align: start; text-indent: 0px; text-transform: none; white-space: normal; widows: 2; word-spacing: 0px; -webkit-text-stroke-width: 0px; text-decoration-style: initial; text-decoration-color: initial;\"><span style=\"font-size: 14px; font-family: Calibri;\">LCMS showed trace DP, and SM were remained.</span></p> \n",
       "<p style=\"margin: 1em 0px; color: #000000; font-family: Verdana, Arial, Helvetica, sans-serif; font-size: 11px; font-style: normal; font-variant-ligatures: normal; font-variant-caps: normal; font-weight: 400; letter-spacing: normal; orphans: 2; text-align: start; text-indent: 0px; text-transform: none; white-space: normal; widows: 2; word-spacing: 0px; -webkit-text-stroke-width: 0px; text-decoration-style: initial; text-decoration-color: initial;\"><span style=\"font-size: 14px; font-family: Calibri;\">The reaction was fail.</span></p></span>\n",
       "        </div>\n",
       "    </div>\n",
       "    "
      ],
      "text/plain": [
       "<IPython.core.display.HTML object>"
      ]
     },
     "metadata": {},
     "output_type": "display_data"
    },
    {
     "data": {
      "text/html": [
       "<hr style=\"border: 2px solid #999; margin: 30px 0; padding: 10px 0;\">"
      ],
      "text/plain": [
       "<IPython.core.display.HTML object>"
      ]
     },
     "metadata": {},
     "output_type": "display_data"
    }
   ],
   "source": [
    "def render_html(row, idx, ds_suffix):\n",
    "    experiment_id = row.experiment_id\n",
    "    entry_date = getattr(row, f'entry_date_prod')\n",
    "    write_up = getattr(row, f'write_up_{ds_suffix}')\n",
    "    return f\"\"\"\n",
    "    <div style=\"border: 1px solid #ccc; margin: 10px 0; padding: 10px; background-color: #f9f9f9;\">\n",
    "        <strong>ExpID Group: {idx} - {ds_suffix.upper()}</strong>\n",
    "        <div style=\"margin-top: 5px;\">\n",
    "            <em><strong>Experiment ID: </strong>{experiment_id}</em>\n",
    "        </div>\n",
    "        <div style=\"margin-top: 5px;\">\n",
    "            <em><strong>Entry Date: </strong>{entry_date}</em>\n",
    "        </div>        \n",
    "        <div style=\"border-top: 1px dashed #999; margin-top: 10px; padding-top: 10px\">\n",
    "            <span style=\"font-size: 18px !important;\">{write_up}</span>\n",
    "        </div>\n",
    "    </div>\n",
    "    \"\"\"\n",
    "\n",
    "if user_selection[\"type\"] == \"pagination\":\n",
    "    chunk_size = pagination_state[\"chunk_size\"]\n",
    "    offset = pagination_state[\"offset\"]\n",
    "    dff = merged_dff.iloc[offset:offset + chunk_size]\n",
    "elif user_selection[\"type\"] == \"filter\":\n",
    "    dff = merged_dff[merged_dff.experiment_id.isin(user_selection[\"experiment_ids\"])].sort_values(by=\"experiment_id\", ascending=False)\n",
    "    \n",
    "for idx, row in enumerate(dff.itertuples(index=False), start=offset + 1):\n",
    "    html_u6 = render_html(row, idx, 'u6') \n",
    "    html_dev = render_html(row, idx, 'dev') \n",
    "    html_prod = render_html(row, idx, 'prod') \n",
    "    display(HTML(html_dev))\n",
    "    display(HTML(html_u6))\n",
    "    display(HTML(html_prod))\n",
    "    display(HTML('<hr style=\"border: 2px solid #999; margin: 30px 0; padding: 10px 0;\">'))\n",
    "\n",
    "if user_selection[\"type\"] == \"pagination\":\n",
    "    pagination_state[\"offset\"] += chunk_size\n",
    "\n",
    "    if pagination_state[\"offset\"] >= len(merged_dff):\n",
    "        pagination_state[\"offset\"] = 0\n",
    "        display(HTML(\"<strong>Restarting pagination: Beginning of dataset.</strong>\"))"
   ]
  }
 ],
 "metadata": {
  "kernelspec": {
   "display_name": "Python 3 (ipykernel)",
   "language": "python",
   "name": "python3"
  },
  "language_info": {
   "codemirror_mode": {
    "name": "ipython",
    "version": 3
   },
   "file_extension": ".py",
   "mimetype": "text/x-python",
   "name": "python",
   "nbconvert_exporter": "python",
   "pygments_lexer": "ipython3",
   "version": "3.11.6"
  }
 },
 "nbformat": 4,
 "nbformat_minor": 5
}
