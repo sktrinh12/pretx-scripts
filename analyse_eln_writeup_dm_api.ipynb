{
 "cells": [
  {
   "cell_type": "markdown",
   "id": "0e527a0f-eb3e-4668-b26e-0284d88cf0d5",
   "metadata": {},
   "source": [
    "#### Load Libraries"
   ]
  },
  {
   "cell_type": "code",
   "execution_count": null,
   "id": "d041d65c-3e2b-4c93-92b6-ef569d07f36b",
   "metadata": {},
   "outputs": [],
   "source": [
    "import psycopg2\n",
    "from os import getenv\n",
    "from dotenv import load_dotenv\n",
    "from urllib.parse import quote\n",
    "import pandas as pd\n",
    "from IPython.display import display, HTML\n",
    "from sqlalchemy import create_engine\n",
    "import io\n",
    "import urllib\n",
    "\n",
    "load_dotenv(override=True)\n",
    "export_prompt = 'Enter file name for the export:'\n",
    "DM_USER = getenv('DM_USER')\n",
    "DM_PASS = quote(getenv('DM_PASS'))\n",
    "DB_CONFIG = {\n",
    "    \"DB_NAME\": getenv(\"DB_NAME\"),\n",
    "    \"DB_USER\": getenv(\"DB_USER\"),\n",
    "    \"DB_PASS\": getenv(\"DB_PASS\"),\n",
    "    \"DB_HOST\": getenv(\"DB_HOST\"),\n",
    "    \"DB_PORT\": getenv(\"DB_PORT\"),\n",
    "}\n",
    "conn_str = f\"postgresql+psycopg2://{DB_CONFIG['DB_USER']}:{DB_CONFIG['DB_PASS']}@{DB_CONFIG['DB_HOST']}:{DB_CONFIG['DB_PORT']}/{DB_CONFIG['DB_NAME']}\"\n",
    "csv_buffer = io.StringIO()\n",
    "download_btn_template = '''\n",
    "<a href=\"data:text/csv;charset=utf-8,{csv_content}\" download=\"{file_name}.csv\" id=\"downloadBtn\">Download CSV</a>\n",
    "\n",
    "<style>\n",
    "    #downloadBtn {{\n",
    "        padding: 12px 24px;\n",
    "        font-size: 18px;\n",
    "        border-radius: 8px;\n",
    "        background-color: #007BFF;\n",
    "        color: white;\n",
    "        border: none;\n",
    "        cursor: pointer;\n",
    "        margin-top: 10px;\n",
    "        text-decoration: none;\n",
    "        display: inline-block;\n",
    "        margin-left: 20px; \n",
    "        transition: transform 0.3s ease;\n",
    "    }}\n",
    "    \n",
    "    #downloadBtn:hover {{\n",
    "        transform: scale(1.08);\n",
    "    }}\n",
    "    \n",
    "    #downloadBtn:active {{\n",
    "        transform: scale(1);\n",
    "        animation: flash 0.5s;\n",
    "    }}\n",
    "    \n",
    "    @keyframes flash {{\n",
    "        0% {{ background-color: #007BFF; }}\n",
    "        50% {{ background-color: #FF8C00; }}\n",
    "        100% {{ background-color: #007BFF; }}\n",
    "    }}\n",
    "</style>\n",
    "\n",
    "<div style=\"margin-bottom: 20px;\"></div>\n",
    "'''"
   ]
  },
  {
   "cell_type": "markdown",
   "id": "cd2f3670-a6d5-4471-9d4d-a33d95f34051",
   "metadata": {},
   "source": [
    "#### View Writeup Data"
   ]
  },
  {
   "cell_type": "code",
   "execution_count": null,
   "id": "3c719701-f7a2-4344-98d2-f927b4358b15",
   "metadata": {},
   "outputs": [],
   "source": [
    "def fetch_data_from_db(query, conn_str):\n",
    "    engine = create_engine(conn_str)\n",
    "    df = pd.read_sql(query, engine)\n",
    "    return df\n",
    "    \n",
    "df_writeup = fetch_data_from_db(\"SELECT * FROM ELN_WRITEUP_API_EXTRACT\", conn_str)\n",
    "display(HTML(df_writeup.to_html()))"
   ]
  },
  {
   "cell_type": "markdown",
   "id": "7421b755-eca1-4262-9fbc-726dc6a41dac",
   "metadata": {},
   "source": [
    "### View Similarity Results"
   ]
  },
  {
   "cell_type": "code",
   "execution_count": null,
   "id": "1e5f7197-0c00-4f55-b452-d2266de6fb23",
   "metadata": {},
   "outputs": [],
   "source": [
    "df_compr = fetch_data_from_db(\"SELECT * FROM ELN_WRITEUP_COMPARISON\", conn_str)\n",
    "display(HTML(df_compr.to_html()))"
   ]
  },
  {
   "cell_type": "markdown",
   "id": "174459c0-fb3e-40b7-9af8-bd63ba16bb50",
   "metadata": {},
   "source": [
    "#### Export Dataframe as html"
   ]
  },
  {
   "cell_type": "code",
   "execution_count": null,
   "id": "49d7f3da-56e9-4236-9cf8-d14ec24e0f1d",
   "metadata": {},
   "outputs": [],
   "source": [
    "# df_name = input('select the data to export (drop-down list would be good here)')\n",
    "file_name = input(export_prompt)\n",
    "data_df.to_csv(csv_buffer, index=False)\n",
    "csv_content = csv_buffer.getvalue()\n",
    "csv_content = urllib.parse.quote(csv_content)\n",
    "download_link = download_btn_template.format(csv_content=csv_content, file_name=file_name)\n",
    "display(HTML(download_link))"
   ]
  }
 ],
 "metadata": {
  "kernelspec": {
   "display_name": "Python 3 (ipykernel)",
   "language": "python",
   "name": "python3"
  },
  "language_info": {
   "codemirror_mode": {
    "name": "ipython",
    "version": 3
   },
   "file_extension": ".py",
   "mimetype": "text/x-python",
   "name": "python",
   "nbconvert_exporter": "python",
   "pygments_lexer": "ipython3",
   "version": "3.11.6"
  }
 },
 "nbformat": 4,
 "nbformat_minor": 5
}
