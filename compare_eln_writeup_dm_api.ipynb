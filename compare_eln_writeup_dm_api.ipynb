{
 "cells": [
  {
   "cell_type": "code",
   "execution_count": 1,
   "id": "d3a47489-800f-4e3d-8120-6a0fab075091",
   "metadata": {
    "scrolled": true
   },
   "outputs": [
    {
     "name": "stdout",
     "output_type": "stream",
     "text": [
      "Collecting python-dotenv\n",
      "  Downloading python_dotenv-1.0.1-py3-none-any.whl.metadata (23 kB)\n",
      "Downloading python_dotenv-1.0.1-py3-none-any.whl (19 kB)\n",
      "Installing collected packages: python-dotenv\n",
      "Successfully installed python-dotenv-1.0.1\n",
      "Note: you may need to restart the kernel to use updated packages.\n"
     ]
    }
   ],
   "source": [
    "pip install python-dotenv"
   ]
  },
  {
   "cell_type": "code",
   "execution_count": 18,
   "id": "d041d65c-3e2b-4c93-92b6-ef569d07f36b",
   "metadata": {},
   "outputs": [],
   "source": [
    "import getpass\n",
    "import requests\n",
    "from os import getenv\n",
    "from dotenv import load_dotenv\n",
    "from urllib.parse import quote\n",
    "import pandas as pd\n",
    "from IPython.display import display, HTML\n",
    "\n",
    "load_dotenv(override=True)\n",
    "DM_USER = getenv('DM_USER')\n",
    "DM_PASS = quote(getenv('DM_PASS'))\n",
    "SYS_NAMES = [\"prelude\", \"prelude-upgrade6\", \"prelude-masks\"] \n",
    "BASE_URL = 'dotmatics.net/browser/api'"
   ]
  },
  {
   "cell_type": "code",
   "execution_count": 38,
   "id": "37bb4c0c-7af4-43ce-af2f-9f5e88f77be3",
   "metadata": {},
   "outputs": [],
   "source": [
    "DOMAIN = SYS_NAMES[2] # only this instance has this DS to extract exp ids\n",
    "LIMIT = 1000\n",
    "token_dct = {}\n",
    "for sname in SYS_NAMES:\n",
    "    token_endpoint = f'https://{sname}.{BASE_URL}/authenticate/requestToken?isid={DM_USER}&password={DM_PASS}'\n",
    "    token = requests.get(token_endpoint).json()\n",
    "    token_dct[sname] = token"
   ]
  },
  {
   "cell_type": "code",
   "execution_count": 20,
   "id": "10456fe1-009e-4ef3-93a1-293ae2cfb431",
   "metadata": {},
   "outputs": [],
   "source": [
    "exp_id_query_endpoint = f\"query/{DM_USER}/100000/1422/EXPERIMENT_ID/greaterthan/1?limit={LIMIT}\"\n",
    "url = f\"https://{DOMAIN}.{BASE_URL}/{exp_id_query_endpoint}\"\n",
    "headers = {\"Authorization\": f\"Dotmatics {token_dct[DOMAIN]}\"}\n",
    "response = requests.get(url, headers=headers)\n",
    "exp_id_list = response.json()[\"ids\"]"
   ]
  },
  {
   "cell_type": "code",
   "execution_count": 40,
   "id": "b73adb3d-8ce9-4605-a6d7-f3fd7b660b92",
   "metadata": {},
   "outputs": [],
   "source": [
    "results = []\n",
    "for exp_id in reversed(list(exp_id_list[:20])):\n",
    "    for sname in SYS_NAMES:\n",
    "        writeup_url_endpoint = f\"https://{sname}.{BASE_URL}/studies/experiment/{exp_id}/writeup/{{includeHtml}}\"\n",
    "        response = requests.get(writeup_url_endpoint, headers={\"Authorization\": f\"Dotmatics {token_dct[sname]}\"})\n",
    "        eln_writeup = response.json()\n",
    "        if type(eln_writeup) is str and \"?\" in eln_writeup:\n",
    "            exp_summary_endpoint = f\"https://{sname}.{BASE_URL}/data/{DM_USER}/100000/1423_PROTOCOL,1423_PROTOCOL_ID,1423_ISID,1423_CREATED_DATE/{exp_id}\"\n",
    "            response = requests.get(exp_summary_endpoint, headers={\"Authorization\": f\"Dotmatics {token_dct[sname]}\"})\n",
    "            results.append({\n",
    "                \"Experiment ID\": exp_id,\n",
    "                \"Writeup\": eln_writeup,\n",
    "                \"System Name\": sname,\n",
    "                \"Summary\": response.json()\n",
    "            })"
   ]
  },
  {
   "cell_type": "code",
   "execution_count": 41,
   "id": "3c719701-f7a2-4344-98d2-f927b4358b15",
   "metadata": {},
   "outputs": [
    {
     "data": {
      "text/html": [
       "<table border=\"1\" class=\"dataframe\">\n",
       "  <thead>\n",
       "    <tr style=\"text-align: right;\">\n",
       "      <th>Experiment ID</th>\n",
       "      <th>Writeup</th>\n",
       "      <th>System Name</th>\n",
       "      <th>Summary</th>\n",
       "    </tr>\n",
       "  </thead>\n",
       "  <tbody>\n",
       "    <tr>\n",
       "      <td>138606</td>\n",
       "      <td>A mixture of ? (100.mg, 0.3500mmol)  sodium iodide (10.49 mg, 0.07 mmol){{9:row 2}}_XXXXX_   ), sodium iodide (10.49 mg, 0.07 mmol){{9:row 2}}_XXXXX_  , N,N-diethylethanamine (0.05 mL, 0.35 mmol){{9:row 3}}_XXXXX_  and (2R,3R,4S,5S)-2-(6-aminopurin-9-yl)-5-(chloromethyl)tetrahydrofuran-3,4-diol (50.0 mg, 0.18 mmol){{9:row 4}}_XXXXX_  in IPA (? mL){{3:row 1}}_XXXXX_  was heated at 50 C over 72 hrs. No new spot was observed on TLC. Discarded3-Fluoroazetidine hydrochloride (117.14 mg, 1.05 mmol){{9:row 1}}_XXXXX_   3-Fluoroazetidine hydrochloride (117.14 mg, 1.05 mmol){{9:row 1}}_XXXXX_</td>\n",
       "      <td>prelude</td>\n",
       "      <td>{'status': 'error', 'message': 'failed to load project: 100000'}</td>\n",
       "    </tr>\n",
       "    <tr>\n",
       "      <td>138606</td>\n",
       "      <td>A mixture of ? (100.mg, 0.3500mmol)  sodium iodide (10.49 mg, 0.07 mmol){{9:row 2}}_XXXXX_   ), sodium iodide (10.49 mg, 0.07 mmol){{9:row 2}}_XXXXX_  , N,N-diethylethanamine (0.05 mL, 0.35 mmol){{9:row 3}}_XXXXX_  and (2R,3R,4S,5S)-2-(6-aminopurin-9-yl)-5-(chloromethyl)tetrahydrofuran-3,4-diol (50.0 mg, 0.18 mmol){{9:row 4}}_XXXXX_  in IPA (? mL){{3:row 1}}_XXXXX_  was heated at 50 C over 72 hrs. No new spot was observed on TLC. Discarded3-Fluoroazetidine hydrochloride (117.14 mg, 1.05 mmol){{9:row 1}}_XXXXX_   3-Fluoroazetidine hydrochloride (117.14 mg, 1.05 mmol){{9:row 1}}_XXXXX_</td>\n",
       "      <td>prelude-upgrade6</td>\n",
       "      <td>{'status': 'error', 'message': 'failed to load project: 100000'}</td>\n",
       "    </tr>\n",
       "    <tr>\n",
       "      <td>138606</td>\n",
       "      <td>A mixture of ? (100.mg, 0.3500mmol)  sodium iodide (10.49 mg, 0.07 mmol){{9:row 2}}_XXXXX_   ), sodium iodide (10.49 mg, 0.07 mmol){{9:row 2}}_XXXXX_  , N,N-diethylethanamine (0.05 mL, 0.35 mmol){{9:row 3}}_XXXXX_  and (2R,3R,4S,5S)-2-(6-aminopurin-9-yl)-5-(chloromethyl)tetrahydrofuran-3,4-diol (50.0 mg, 0.18 mmol){{9:row 4}}_XXXXX_  in IPA (? mL){{3:row 1}}_XXXXX_  was heated at 50 C over 72 hrs. No new spot was observed on TLC. Discarded3-Fluoroazetidine hydrochloride (117.14 mg, 1.05 mmol){{9:row 1}}_XXXXX_   3-Fluoroazetidine hydrochloride (117.14 mg, 1.05 mmol){{9:row 1}}_XXXXX_</td>\n",
       "      <td>prelude-masks</td>\n",
       "      <td>{'138606': {'primary': '138606', 'dataSources': {'1423': {'1': {'CREATED_DATE': '05/09/2016', 'ISID': 'h.lin', 'PROTOCOL': 'ChemELN', 'PROTOCOL_ID': '81'}}}}}</td>\n",
       "    </tr>\n",
       "    <tr>\n",
       "      <td>138443</td>\n",
       "      <td>[(22S,23R,24S,25R,26S,27R,37S,38S,39S)-39-acetoxy-24-[(2R,3S)-3-amino-2-hydroxy-3-(p-tolyl)propanoyl]oxy-22,27,38-trihydroxy-28,36,36,37-tetramethyl-30-oxo-49-oxatetracyclo[BLAH.BLAH.BLAH.BLAH.BLAH]heptadec-28-en-26-yl] benzoate (190.0 mg, 0.26 mmol){{9:row 1}}_XXXXX_  was added to DCM (200 mL){{3:row 1}}_XXXXX_  andditert-butyl carbonate (67.0 mg, 0.38 mmol){{9:row 2}}_XXXXX_  added to make  [(25S,26R,27S,28R,29S,30R,41S,42S,43S)-43-acetoxy-27-[(2R,3S)-3-(tert-butoxycarbonylamino)-2-hydroxy-3-(p-tolyl)propanoyl]oxy-25,30,42-trihydroxy-31,40,40,41-tetramethyl-33-oxo-55-oxatetracyclo[BLAH.BLAH.BLAH.BLAH.BLAH]heptadec-31-en-29-yl] benzoate (100 mg, 0.12167 mmol, ?% yield){{2:row 1}}_XXXXX_</td>\n",
       "      <td>prelude</td>\n",
       "      <td>{'status': 'error', 'message': 'failed to load project: 100000'}</td>\n",
       "    </tr>\n",
       "    <tr>\n",
       "      <td>138443</td>\n",
       "      <td>[(22S,23R,24S,25R,26S,27R,37S,38S,39S)-39-acetoxy-24-[(2R,3S)-3-amino-2-hydroxy-3-(p-tolyl)propanoyl]oxy-22,27,38-trihydroxy-28,36,36,37-tetramethyl-30-oxo-49-oxatetracyclo[BLAH.BLAH.BLAH.BLAH.BLAH]heptadec-28-en-26-yl] benzoate (190.0 mg, 0.26 mmol){{9:row 1}}_XXXXX_  was added to DCM (200 mL){{3:row 1}}_XXXXX_  andditert-butyl carbonate (67.0 mg, 0.38 mmol){{9:row 2}}_XXXXX_  added to make  [(25S,26R,27S,28R,29S,30R,41S,42S,43S)-43-acetoxy-27-[(2R,3S)-3-(tert-butoxycarbonylamino)-2-hydroxy-3-(p-tolyl)propanoyl]oxy-25,30,42-trihydroxy-31,40,40,41-tetramethyl-33-oxo-55-oxatetracyclo[BLAH.BLAH.BLAH.BLAH.BLAH]heptadec-31-en-29-yl] benzoate (? mg, ? mmol, ?% yield){{2:row 1}}_XXXXX_</td>\n",
       "      <td>prelude-upgrade6</td>\n",
       "      <td>{'status': 'error', 'message': 'failed to load project: 100000'}</td>\n",
       "    </tr>\n",
       "    <tr>\n",
       "      <td>138443</td>\n",
       "      <td>[(22S,23R,24S,25R,26S,27R,37S,38S,39S)-39-acetoxy-24-[(2R,3S)-3-amino-2-hydroxy-3-(p-tolyl)propanoyl]oxy-22,27,38-trihydroxy-28,36,36,37-tetramethyl-30-oxo-49-oxatetracyclo[BLAH.BLAH.BLAH.BLAH.BLAH]heptadec-28-en-26-yl] benzoate (190.0 mg, 0.26 mmol){{9:row 1}}_XXXXX_  was added to DCM (200 mL){{3:row 1}}_XXXXX_  andditert-butyl carbonate (67.0 mg, 0.38 mmol){{9:row 2}}_XXXXX_  added to make  [(25S,26R,27S,28R,29S,30R,41S,42S,43S)-43-acetoxy-27-[(2R,3S)-3-(tert-butoxycarbonylamino)-2-hydroxy-3-(p-tolyl)propanoyl]oxy-25,30,42-trihydroxy-31,40,40,41-tetramethyl-33-oxo-55-oxatetracyclo[BLAH.BLAH.BLAH.BLAH.BLAH]heptadec-31-en-29-yl] benzoate (100 mg, 0.12167 mmol, ?% yield){{2:row 1}}_XXXXX_</td>\n",
       "      <td>prelude-masks</td>\n",
       "      <td>{'138443': {'primary': '138443', 'dataSources': {'1423': {'1': {'CREATED_DATE': '06/03/2013', 'ISID': 'testadmin', 'PROTOCOL': 'ChemELN', 'PROTOCOL_ID': '81'}}}}}</td>\n",
       "    </tr>\n",
       "  </tbody>\n",
       "</table>"
      ],
      "text/plain": [
       "<IPython.core.display.HTML object>"
      ]
     },
     "metadata": {},
     "output_type": "display_data"
    }
   ],
   "source": [
    "df = pd.DataFrame(results)\n",
    "df.to_csv(\"experiment_errors.csv\", index=False)\n",
    "\n",
    "html_output = df.to_html(index=False)\n",
    "with open(\"experiment_errors.html\", \"w\") as f:\n",
    "    f.write(html_output)\n",
    "\n",
    "display(HTML(html_output))"
   ]
  },
  {
   "cell_type": "code",
   "execution_count": null,
   "id": "313641f2-cdf0-456b-aa33-8b26c2df9bf7",
   "metadata": {},
   "outputs": [],
   "source": []
  },
  {
   "cell_type": "code",
   "execution_count": null,
   "id": "23b2b5cb-8cd9-445c-a4d4-78a660003334",
   "metadata": {},
   "outputs": [],
   "source": []
  },
  {
   "cell_type": "code",
   "execution_count": null,
   "id": "8a736473-9a5b-4935-934d-6f47f531fb38",
   "metadata": {},
   "outputs": [],
   "source": []
  }
 ],
 "metadata": {
  "kernelspec": {
   "display_name": "Python 3 (ipykernel)",
   "language": "python",
   "name": "python3"
  },
  "language_info": {
   "codemirror_mode": {
    "name": "ipython",
    "version": 3
   },
   "file_extension": ".py",
   "mimetype": "text/x-python",
   "name": "python",
   "nbconvert_exporter": "python",
   "pygments_lexer": "ipython3",
   "version": "3.11.6"
  }
 },
 "nbformat": 4,
 "nbformat_minor": 5
}
