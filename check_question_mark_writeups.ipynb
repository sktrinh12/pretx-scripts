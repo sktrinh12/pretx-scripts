{
 "cells": [
  {
   "cell_type": "code",
   "execution_count": 1,
   "id": "e0248aff-ca71-42bc-be07-ada98fb7d371",
   "metadata": {},
   "outputs": [
    {
     "name": "stdout",
     "output_type": "stream",
     "text": [
      "Collecting dotenv\n",
      "  Downloading dotenv-0.9.9-py2.py3-none-any.whl.metadata (279 bytes)\n",
      "Collecting python-dotenv (from dotenv)\n",
      "  Downloading python_dotenv-1.0.1-py3-none-any.whl.metadata (23 kB)\n",
      "Downloading dotenv-0.9.9-py2.py3-none-any.whl (1.9 kB)\n",
      "Downloading python_dotenv-1.0.1-py3-none-any.whl (19 kB)\n",
      "Installing collected packages: python-dotenv, dotenv\n",
      "Successfully installed dotenv-0.9.9 python-dotenv-1.0.1\n"
     ]
    }
   ],
   "source": [
    "!pip install dotenv"
   ]
  },
  {
   "cell_type": "code",
   "execution_count": 2,
   "id": "f040f117-eb40-4467-ad9a-967228334d06",
   "metadata": {},
   "outputs": [],
   "source": [
    "from dotenv import load_dotenv\n",
    "import requests\n",
    "from os import getenv\n",
    "from urllib.parse import quote\n",
    "import pandas as pd\n",
    "from IPython.display import HTML, display\n",
    "import re\n",
    "from os import path"
   ]
  },
  {
   "cell_type": "code",
   "execution_count": 7,
   "id": "0f39bc83-1088-43dc-b46e-3039e13d0c03",
   "metadata": {
    "scrolled": true
   },
   "outputs": [],
   "source": [
    "load_dotenv()\n",
    "DM_USER = getenv(\"DM_USER\")\n",
    "DM_PASS = getenv(\"DM_PASS\")\n",
    "browser_url = \"https://prelude.dotmatics.net/browser/api\"\n",
    "\n",
    "token_endpoint = f\"{browser_url}/authenticate/requestToken?expiration=5000\"\n",
    "exp_id_list = [\n",
    "    138606,\n",
    "    140442,\n",
    "    143526,\n",
    "    143545,\n",
    "    145301,\n",
    "    146623,\n",
    "    146696,\n",
    "    147096,\n",
    "    149864,\n",
    "    150324,\n",
    "    152823,\n",
    "    153056,\n",
    "    156573,\n",
    "    157390,\n",
    "    157845,\n",
    "    157858,\n",
    "    157884,\n",
    "    157885,\n",
    "    157887,\n",
    "    158504,\n",
    "    158648,\n",
    "    158804,\n",
    "    159305,\n",
    "    159568,\n",
    "    159826,\n",
    "    160317,\n",
    "    160324,\n",
    "    160325,\n",
    "    160326,\n",
    "    160826,\n",
    "    160944,\n",
    "    160949,\n",
    "    161059,\n",
    "    161352,\n",
    "    161635,\n",
    "    163275,\n",
    "    165404,\n",
    "    168950,\n",
    "    170145,\n",
    "    176069,\n",
    "    176683,\n",
    "    176775,\n",
    "    178004,\n",
    "    178326,\n",
    "    180354,\n",
    "    180525,\n",
    "    180636,\n",
    "    180665,\n",
    "    180666,\n",
    "    180682,\n",
    "    180791,\n",
    "    180892,\n",
    "    180936,\n",
    "    183092,\n",
    "    183194,\n",
    "    183464,\n",
    "    183767,\n",
    "    183850,\n",
    "    183975,\n",
    "    184197,\n",
    "    184623,\n",
    "    184657,\n",
    "    185889,\n",
    "    190882,\n",
    "    190883,\n",
    "    191125,\n",
    "    191434,\n",
    "    191865,\n",
    "    192261,\n",
    "    192580,\n",
    "    192929,\n",
    "    193350,\n",
    "    196064,\n",
    "    196086,\n",
    "    196087,\n",
    "    196329,\n",
    "    196355,\n",
    "    196423,\n",
    "    196586,\n",
    "    197164,\n",
    "    197791,\n",
    "    197915,\n",
    "    198490,\n",
    "    199296,\n",
    "    199477,\n",
    "    199908,\n",
    "    199923,\n",
    "    200146,\n",
    "    200639,\n",
    "    201526,\n",
    "    201767,\n",
    "    202113,\n",
    "    202578,\n",
    "    202638,\n",
    "    202678,\n",
    "    202681,\n",
    "    203497,\n",
    "    203535,\n",
    "    205469,\n",
    "    205473,\n",
    "    205931,\n",
    "    206064,\n",
    "    206108,\n",
    "    206117,\n",
    "    206118,\n",
    "    206121,\n",
    "    206441,\n",
    "    206594,\n",
    "    207085,\n",
    "    207168,\n",
    "    207754,\n",
    "    207912,\n",
    "    207920,\n",
    "    210275,\n",
    "    210473,\n",
    "    210847,\n",
    "    216848,\n",
    "    217168,\n",
    "    217247,\n",
    "    220381,\n",
    "    225434,\n",
    "    225700,\n",
    "    226053,\n",
    "    226247,\n",
    "    226306,\n",
    "    226343,\n",
    "    226407,\n",
    "    227022,\n",
    "    229371,\n",
    "    230117,\n",
    "    230797,\n",
    "    230840,\n",
    "    231094,\n",
    "    231468,\n",
    "    231614,\n",
    "    231827,\n",
    "    231858,\n",
    "    232399,\n",
    "    232587,\n",
    "    232996,\n",
    "    233004,\n",
    "    233101,\n",
    "    233706,\n",
    "    234064,\n",
    "    234862,\n",
    "    235011,\n",
    "    235176,\n",
    "    235916,\n",
    "    236148,\n",
    "    236533,\n",
    "    239297,\n",
    "    239380,\n",
    "    240666,\n",
    "    240787,\n",
    "    240885,\n",
    "    240888,\n",
    "    242757,\n",
    "    243064,\n",
    "    245935,\n",
    "    246609,\n",
    "    247426,\n",
    "    247948,\n",
    "    251519,\n",
    "    251915,\n",
    "    251916,\n",
    "    251917,\n",
    "    251918,\n",
    "    251919,\n",
    "    251920,\n",
    "    252772,\n",
    "    253050,\n",
    "    253374,\n",
    "    254023,\n",
    "    254282,\n",
    "    255133,\n",
    "    256068,\n",
    "    256451,\n",
    "    256511,\n",
    "    256522,\n",
    "    256875,\n",
    "    256948,\n",
    "    257084,\n",
    "    257177,\n",
    "    257443,\n",
    "    258356,\n",
    "    259087,\n",
    "    259383,\n",
    "    259417,\n",
    "    259421,\n",
    "    259422,\n",
    "    259463,\n",
    "    259668,\n",
    "    260178,\n",
    "    260345,\n",
    "    260516,\n",
    "    260570,\n",
    "    260667,\n",
    "    261401,\n",
    "    261819,\n",
    "    262058,\n",
    "    265928,\n",
    "    266388,\n",
    "    267059,\n",
    "    267088,\n",
    "    267198,\n",
    "    267203,\n",
    "    267217,\n",
    "    267342,\n",
    "    267397,\n",
    "]\n",
    "\n",
    "\n",
    "def fetch_writeups(exp_id_list, writeup_filename):\n",
    "    token = requests.get(token_endpoint, auth=(DM_USER, DM_PASS)).json()\n",
    "    headers = {\"Authorization\": f\"Dotmatics {token}\"}\n",
    "    writeups_data = []\n",
    "    \n",
    "    for i, exp_id in enumerate(exp_id_list):\n",
    "        try:\n",
    "            writeup_url = f\"{browser_url}/studies/experiment/{exp_id}/writeup/{{includeHtml}}\"\n",
    "            response = requests.get(writeup_url, headers=headers)\n",
    "            \n",
    "            data = {\n",
    "                \"index\": i,\n",
    "                \"exp_id\": exp_id,\n",
    "                \"writeup\": response.json(),\n",
    "                \"url\": writeup_url\n",
    "            }\n",
    "            \n",
    "            writeups_data.append(data)\n",
    "            print(data)\n",
    "        except Exception as e:\n",
    "            print(f\"Error fetching {exp_id}: {str(e)}\")\n",
    "    \n",
    "    df = pd.DataFrame(writeups_data)\n",
    "    df.to_pickle(writeup_filename)\n",
    "\n",
    "    return df\n",
    "\n",
    "\n",
    "def display_full_width(content):\n",
    "    display(HTML(\n",
    "        f\"<div style='margin: 10px 0; width: 100%; display: flex; \"\n",
    "        f\"border: 1px solid #ddd; border-radius: 4px; background: #f8f9fa;'>\"\n",
    "        f\"{content}</div>\"\n",
    "    ))\n",
    "\n",
    "\n",
    "def highlight_question_marks(text):\n",
    "    return re.sub(r'\\?', \"<span style='background-color: yellow; color: black;'>?</span>\", text)\n",
    "\n",
    "\n",
    "filtered_df_pkl = 'writeups_filtered_df.pkl'\n",
    "if not path.isfile(filtered_df_pkl):\n",
    "    fetch_writeups(exp_id_list, filtered_df_pkl)\n",
    "else:\n",
    "    df = pd.read_pickle(filtered_df_pkl)"
   ]
  },
  {
   "cell_type": "code",
   "execution_count": 28,
   "id": "461aca40-aa4c-46f8-b603-446b59f2d19f",
   "metadata": {},
   "outputs": [
    {
     "data": {
      "text/html": [
       "<div>\n",
       "<style scoped>\n",
       "    .dataframe tbody tr th:only-of-type {\n",
       "        vertical-align: middle;\n",
       "    }\n",
       "\n",
       "    .dataframe tbody tr th {\n",
       "        vertical-align: top;\n",
       "    }\n",
       "\n",
       "    .dataframe thead th {\n",
       "        text-align: right;\n",
       "    }\n",
       "</style>\n",
       "<table border=\"1\" class=\"dataframe\">\n",
       "  <thead>\n",
       "    <tr style=\"text-align: right;\">\n",
       "      <th></th>\n",
       "      <th>index</th>\n",
       "      <th>exp_id</th>\n",
       "      <th>writeup</th>\n",
       "      <th>url</th>\n",
       "    </tr>\n",
       "  </thead>\n",
       "  <tbody>\n",
       "    <tr>\n",
       "      <th>0</th>\n",
       "      <td>0</td>\n",
       "      <td>138606</td>\n",
       "      <td>A mixture of ? (100.mg, 0.3500mmol)  sodium io...</td>\n",
       "      <td>https://prelude.dotmatics.net/browser/api/stud...</td>\n",
       "    </tr>\n",
       "    <tr>\n",
       "      <th>1</th>\n",
       "      <td>1</td>\n",
       "      <td>140442</td>\n",
       "      <td>A 20 mL vial containing tert-butyl N-[(Z)-[7-[...</td>\n",
       "      <td>https://prelude.dotmatics.net/browser/api/stud...</td>\n",
       "    </tr>\n",
       "    <tr>\n",
       "      <th>2</th>\n",
       "      <td>2</td>\n",
       "      <td>143526</td>\n",
       "      <td>To (R)-[(3aS,4R,6R,6aR)-4-(4-chloropyrrolo[2,3...</td>\n",
       "      <td>https://prelude.dotmatics.net/browser/api/stud...</td>\n",
       "    </tr>\n",
       "    <tr>\n",
       "      <th>3</th>\n",
       "      <td>3</td>\n",
       "      <td>143545</td>\n",
       "      <td>To (R)-[(3aS,4R,6R,6aR)-4-(4-chloropyrrolo[2,3...</td>\n",
       "      <td>https://prelude.dotmatics.net/browser/api/stud...</td>\n",
       "    </tr>\n",
       "    <tr>\n",
       "      <th>4</th>\n",
       "      <td>4</td>\n",
       "      <td>145301</td>\n",
       "      <td>To a solution of  2,2,2-trichloroethane-1,1-di...</td>\n",
       "      <td>https://prelude.dotmatics.net/browser/api/stud...</td>\n",
       "    </tr>\n",
       "  </tbody>\n",
       "</table>\n",
       "</div>"
      ],
      "text/plain": [
       "   index  exp_id                                            writeup  \\\n",
       "0      0  138606  A mixture of ? (100.mg, 0.3500mmol)  sodium io...   \n",
       "1      1  140442  A 20 mL vial containing tert-butyl N-[(Z)-[7-[...   \n",
       "2      2  143526  To (R)-[(3aS,4R,6R,6aR)-4-(4-chloropyrrolo[2,3...   \n",
       "3      3  143545  To (R)-[(3aS,4R,6R,6aR)-4-(4-chloropyrrolo[2,3...   \n",
       "4      4  145301  To a solution of  2,2,2-trichloroethane-1,1-di...   \n",
       "\n",
       "                                                 url  \n",
       "0  https://prelude.dotmatics.net/browser/api/stud...  \n",
       "1  https://prelude.dotmatics.net/browser/api/stud...  \n",
       "2  https://prelude.dotmatics.net/browser/api/stud...  \n",
       "3  https://prelude.dotmatics.net/browser/api/stud...  \n",
       "4  https://prelude.dotmatics.net/browser/api/stud...  "
      ]
     },
     "execution_count": 28,
     "metadata": {},
     "output_type": "execute_result"
    }
   ],
   "source": [
    "df.head()"
   ]
  },
  {
   "cell_type": "code",
   "execution_count": 5,
   "id": "6bd0b707-1f4f-47fb-ade6-1d0c26b39477",
   "metadata": {},
   "outputs": [
    {
     "data": {
      "text/html": [
       "<div style='margin: 10px 0; width: 100%; display: flex; border: 1px solid #ddd; border-radius: 4px; background: #f8f9fa;'>\n",
       "    <div style=\"display: flex; flex-direction: column; width: 100%; border: 2px solid #bbb;\">\n",
       "        <!-- Header Row -->\n",
       "        <div style=\"display: flex; font-weight: bold; background: #d6d8db; padding: 8px; border-bottom: 2px solid #bbb;\">\n",
       "            <div style=\"width: 80px; text-align: center; border-right: 2px solid #bbb; display: flex; align-items: center; justify-content: center;\">Index</div>\n",
       "            <div style=\"width: 150px; text-align: center; border-right: 2px solid #bbb; display: flex; align-items: center; justify-content: center;\">Experiment ID</div>\n",
       "            <div style=\"flex: 1; text-align: center;\">Writeup</div>\n",
       "        </div>\n",
       "\n",
       "        <!-- Data Row -->\n",
       "        <div style=\"display: flex; padding: 8px; background: #f8f9fa;\">\n",
       "            <div style=\"width: 80px; text-align: center; border-right: 2px solid #ddd; font-weight: bold; display: flex; align-items: center; justify-content: center;\">\n",
       "                1\n",
       "            </div>\n",
       "            <div style=\"width: 150px; text-align: center; border-right: 2px solid #ddd; font-weight: bold; display: flex; align-items: center; justify-content: center;\">\n",
       "                138606\n",
       "            </div>\n",
       "            <div style=\"flex: 1; padding: 8px 12px; white-space: pre-wrap; overflow-wrap: break-word;\">\n",
       "                A mixture of <span style='background-color: yellow; color: black;'>?</span> (100.mg, 0.3500mmol)  sodium iodide (10.49 mg, 0.07 mmol){{9:row 2}}_XXXXX_   ), sodium iodide (10.49 mg, 0.07 mmol){{9:row 2}}_XXXXX_  , N,N-diethylethanamine (0.05 mL, 0.35 mmol){{9:row 3}}_XXXXX_  and (2R,3R,4S,5S)-2-(6-aminopurin-9-yl)-5-(chloromethyl)tetrahydrofuran-3,4-diol (50.0 mg, 0.18 mmol){{9:row 4}}_XXXXX_  in IPA (<span style='background-color: yellow; color: black;'>?</span> mL){{3:row 1}}_XXXXX_  was heated at 50 C over 72 hrs. No new spot was observed on TLC. Discarded3-Fluoroazetidine hydrochloride (117.14 mg, 1.05 mmol){{9:row 1}}_XXXXX_   3-Fluoroazetidine hydrochloride (117.14 mg, 1.05 mmol){{9:row 1}}_XXXXX_      \n",
       "            </div>\n",
       "        </div>\n",
       "    </div>\n",
       "    </div>"
      ],
      "text/plain": [
       "<IPython.core.display.HTML object>"
      ]
     },
     "metadata": {},
     "output_type": "display_data"
    },
    {
     "data": {
      "text/html": [
       "<div style='margin: 10px 0; width: 100%; display: flex; border: 1px solid #ddd; border-radius: 4px; background: #f8f9fa;'>\n",
       "    <div style=\"display: flex; flex-direction: column; width: 100%; border: 2px solid #bbb;\">\n",
       "        <!-- Header Row -->\n",
       "        <div style=\"display: flex; font-weight: bold; background: #d6d8db; padding: 8px; border-bottom: 2px solid #bbb;\">\n",
       "            <div style=\"width: 80px; text-align: center; border-right: 2px solid #bbb; display: flex; align-items: center; justify-content: center;\">Index</div>\n",
       "            <div style=\"width: 150px; text-align: center; border-right: 2px solid #bbb; display: flex; align-items: center; justify-content: center;\">Experiment ID</div>\n",
       "            <div style=\"flex: 1; text-align: center;\">Writeup</div>\n",
       "        </div>\n",
       "\n",
       "        <!-- Data Row -->\n",
       "        <div style=\"display: flex; padding: 8px; background: #f8f9fa;\">\n",
       "            <div style=\"width: 80px; text-align: center; border-right: 2px solid #ddd; font-weight: bold; display: flex; align-items: center; justify-content: center;\">\n",
       "                2\n",
       "            </div>\n",
       "            <div style=\"width: 150px; text-align: center; border-right: 2px solid #ddd; font-weight: bold; display: flex; align-items: center; justify-content: center;\">\n",
       "                140442\n",
       "            </div>\n",
       "            <div style=\"flex: 1; padding: 8px 12px; white-space: pre-wrap; overflow-wrap: break-word;\">\n",
       "                A 20 mL vial containing tert-butyl N-[(Z)-[7-[(2R,3R,4S,5R)-5-[(R)-(4-chlorophenyl)-hydroxy-methyl]-3,4-dihydroxy-tetrahydrofuran-2-yl]-1H-pyrrolo[2,3-d]pyrimidin-4-ylidene]amino]-N-methyl-carbamate (15.9 mg, 0.03 mmol){{9:row 1}}_XXXXX_  was charged with a room temperature solution of 2,2,2-trifluoroacetic acid;TFA (0.05 mL, 0.65 mmol){{9:row 2}}_XXXXX_  in Water (0.45 mL){{3:row 1}}_XXXXX_ . The vial was blanketed with Ar, sealed, and stirred at RT for 2 h. The reaction mixture was concentrated under reduced pressure to remove a majority of the TFA. The residue was dissolved in MeCN (5 mL) and charged with Amberlyst IRA-67 resin until a neutral pH was obtained. The mixture was filtered through a cotton plug and rinsed with MeOH.The filtrate was concentrated under reduced pressure and purified by FCC (4 g SiO2, 10-&gt;80% 85:15:1 DCM:MeOH:NH4OH in DCM, wet-loaded in eluent + DCM) to yield impure(<span style='background-color: yellow; color: black;'>?</span>) (2R,3S,4R,5R)-2-[(R)-(4-chlorophenyl)-hydroxy-methyl]-5-[(4Z)-4-(methylhydrazono)-1H-pyrrolo[2,3-d]pyrimidin-7-yl]tetrahydrofuran-3,4-diol (5.1 mg, 0.01005 mmol, 31.99% yield){{2:row 1}}_XXXXX_ . Difficult to assess purity by NMR. May contain rotamers. Form the HCl salt next time. Avoid using NH4OH for purification.    \n",
       "            </div>\n",
       "        </div>\n",
       "    </div>\n",
       "    </div>"
      ],
      "text/plain": [
       "<IPython.core.display.HTML object>"
      ]
     },
     "metadata": {},
     "output_type": "display_data"
    },
    {
     "data": {
      "text/html": [
       "<div style='margin: 10px 0; width: 100%; display: flex; border: 1px solid #ddd; border-radius: 4px; background: #f8f9fa;'>\n",
       "    <div style=\"display: flex; flex-direction: column; width: 100%; border: 2px solid #bbb;\">\n",
       "        <!-- Header Row -->\n",
       "        <div style=\"display: flex; font-weight: bold; background: #d6d8db; padding: 8px; border-bottom: 2px solid #bbb;\">\n",
       "            <div style=\"width: 80px; text-align: center; border-right: 2px solid #bbb; display: flex; align-items: center; justify-content: center;\">Index</div>\n",
       "            <div style=\"width: 150px; text-align: center; border-right: 2px solid #bbb; display: flex; align-items: center; justify-content: center;\">Experiment ID</div>\n",
       "            <div style=\"flex: 1; text-align: center;\">Writeup</div>\n",
       "        </div>\n",
       "\n",
       "        <!-- Data Row -->\n",
       "        <div style=\"display: flex; padding: 8px; background: #f8f9fa;\">\n",
       "            <div style=\"width: 80px; text-align: center; border-right: 2px solid #ddd; font-weight: bold; display: flex; align-items: center; justify-content: center;\">\n",
       "                3\n",
       "            </div>\n",
       "            <div style=\"width: 150px; text-align: center; border-right: 2px solid #ddd; font-weight: bold; display: flex; align-items: center; justify-content: center;\">\n",
       "                143526\n",
       "            </div>\n",
       "            <div style=\"flex: 1; padding: 8px 12px; white-space: pre-wrap; overflow-wrap: break-word;\">\n",
       "                To (R)-[(3aS,4R,6R,6aR)-4-(4-chloropyrrolo[2,3-d]pyrimidin-7-yl)-2,2-dimethyl-4,5,6,6a-tetrahydro-3aH-cyclopenta[d][1,3]dioxol-6-yl]-(3,4-dichlorophenyl)methanol (50.mg, 0.1100 mmol) in THF (1 mL) and  Hexane (1 mL) were added Lipase PS (50.mg, <span style='background-color: yellow; color: black;'>?</span> mmol) and Vinyl acetate (100.uL, 1.08 mmol) and the resulting suspension was stirred overnight at 1000 rpm. TLC (70:30 hexane / EtOAc) showed a very light non-polar spot but LCMS did not show the right mass. Another 0.5 mL of vinyl acetate were added and the reaction was stirred for 72 h at rt. No reaction took place and only starting material was observed. The reaction was filtered throught cotton using a pipette and concentrated under reduced pressure.     \n",
       "            </div>\n",
       "        </div>\n",
       "    </div>\n",
       "    </div>"
      ],
      "text/plain": [
       "<IPython.core.display.HTML object>"
      ]
     },
     "metadata": {},
     "output_type": "display_data"
    },
    {
     "data": {
      "text/html": [
       "<div style='margin: 10px 0; width: 100%; display: flex; border: 1px solid #ddd; border-radius: 4px; background: #f8f9fa;'>\n",
       "    <div style=\"display: flex; flex-direction: column; width: 100%; border: 2px solid #bbb;\">\n",
       "        <!-- Header Row -->\n",
       "        <div style=\"display: flex; font-weight: bold; background: #d6d8db; padding: 8px; border-bottom: 2px solid #bbb;\">\n",
       "            <div style=\"width: 80px; text-align: center; border-right: 2px solid #bbb; display: flex; align-items: center; justify-content: center;\">Index</div>\n",
       "            <div style=\"width: 150px; text-align: center; border-right: 2px solid #bbb; display: flex; align-items: center; justify-content: center;\">Experiment ID</div>\n",
       "            <div style=\"flex: 1; text-align: center;\">Writeup</div>\n",
       "        </div>\n",
       "\n",
       "        <!-- Data Row -->\n",
       "        <div style=\"display: flex; padding: 8px; background: #f8f9fa;\">\n",
       "            <div style=\"width: 80px; text-align: center; border-right: 2px solid #ddd; font-weight: bold; display: flex; align-items: center; justify-content: center;\">\n",
       "                4\n",
       "            </div>\n",
       "            <div style=\"width: 150px; text-align: center; border-right: 2px solid #ddd; font-weight: bold; display: flex; align-items: center; justify-content: center;\">\n",
       "                143545\n",
       "            </div>\n",
       "            <div style=\"flex: 1; padding: 8px 12px; white-space: pre-wrap; overflow-wrap: break-word;\">\n",
       "                To (R)-[(3aS,4R,6R,6aR)-4-(4-chloropyrrolo[2,3-d]pyrimidin-7-yl)-2,2-dimethyl-4,5,6,6a-tetrahydro-3aH-cyclopenta[d][1,3]dioxol-6-yl]-(3,4-dichlorophenyl)methanol (50.mg, 0.1100 mmol) in THF (1 mL) and  Hexane (1 mL) were added Lipase PS (50.mg, <span style='background-color: yellow; color: black;'>?</span> mmol) and Vinyl acetate (100.uL, 1.08 mmol) and the resulting suspension was stirred overnight at 1000 rpm. No reaction was observed. The solvent was removed under reduced pressure and 0.1 mL of vinyl acetate were added. After 72 h at rt, no reaction took place (TLC and LCMS only showed starting material). The crude was filtered through cotton and concentrated under vacuum.     \n",
       "            </div>\n",
       "        </div>\n",
       "    </div>\n",
       "    </div>"
      ],
      "text/plain": [
       "<IPython.core.display.HTML object>"
      ]
     },
     "metadata": {},
     "output_type": "display_data"
    },
    {
     "data": {
      "text/html": [
       "<div style='margin: 10px 0; width: 100%; display: flex; border: 1px solid #ddd; border-radius: 4px; background: #f8f9fa;'>\n",
       "    <div style=\"display: flex; flex-direction: column; width: 100%; border: 2px solid #bbb;\">\n",
       "        <!-- Header Row -->\n",
       "        <div style=\"display: flex; font-weight: bold; background: #d6d8db; padding: 8px; border-bottom: 2px solid #bbb;\">\n",
       "            <div style=\"width: 80px; text-align: center; border-right: 2px solid #bbb; display: flex; align-items: center; justify-content: center;\">Index</div>\n",
       "            <div style=\"width: 150px; text-align: center; border-right: 2px solid #bbb; display: flex; align-items: center; justify-content: center;\">Experiment ID</div>\n",
       "            <div style=\"flex: 1; text-align: center;\">Writeup</div>\n",
       "        </div>\n",
       "\n",
       "        <!-- Data Row -->\n",
       "        <div style=\"display: flex; padding: 8px; background: #f8f9fa;\">\n",
       "            <div style=\"width: 80px; text-align: center; border-right: 2px solid #ddd; font-weight: bold; display: flex; align-items: center; justify-content: center;\">\n",
       "                5\n",
       "            </div>\n",
       "            <div style=\"width: 150px; text-align: center; border-right: 2px solid #ddd; font-weight: bold; display: flex; align-items: center; justify-content: center;\">\n",
       "                145301\n",
       "            </div>\n",
       "            <div style=\"flex: 1; padding: 8px 12px; white-space: pre-wrap; overflow-wrap: break-word;\">\n",
       "                To a solution of  2,2,2-trichloroethane-1,1-diol (5.61g, 33.95 mmol) in Water (200 mL) was added sodium sulfate (35.07g, 246.88 mmol)  and 3,4-dichloroaniline (5.g, 30.86 mmol), OXAMMONIUM HCL (7.72g, 111.1 mmol), and Hydrochloric acid (3.5mL, <span style='background-color: yellow; color: black;'>?</span> mmol) was added at last, the reaction mixture was stirred at 75 °C  for 18 hrs.   TLC(EA:PE=1:3,Rf=0.3) show the reaction was ok.   Water was added to the reaction mixture, extracted with DCM (100 mL*2),the combined organic layers were washed wtih brine, dried over anhydrous Na2SO4, the solvent was concentrated under reduced pressure to give the product (2E)-N-[(3,4-dichlorophenyl)methyl]-2-hydroxyimino-acetamide (6.4 g, 24.607 mmol, 79.738% yield){{2:row 1}}_XXXXX_  as a brown solid.  \n",
       "            </div>\n",
       "        </div>\n",
       "    </div>\n",
       "    </div>"
      ],
      "text/plain": [
       "<IPython.core.display.HTML object>"
      ]
     },
     "metadata": {},
     "output_type": "display_data"
    },
    {
     "data": {
      "text/html": [
       "<div style='margin: 10px 0; width: 100%; display: flex; border: 1px solid #ddd; border-radius: 4px; background: #f8f9fa;'>\n",
       "    <div style=\"display: flex; flex-direction: column; width: 100%; border: 2px solid #bbb;\">\n",
       "        <!-- Header Row -->\n",
       "        <div style=\"display: flex; font-weight: bold; background: #d6d8db; padding: 8px; border-bottom: 2px solid #bbb;\">\n",
       "            <div style=\"width: 80px; text-align: center; border-right: 2px solid #bbb; display: flex; align-items: center; justify-content: center;\">Index</div>\n",
       "            <div style=\"width: 150px; text-align: center; border-right: 2px solid #bbb; display: flex; align-items: center; justify-content: center;\">Experiment ID</div>\n",
       "            <div style=\"flex: 1; text-align: center;\">Writeup</div>\n",
       "        </div>\n",
       "\n",
       "        <!-- Data Row -->\n",
       "        <div style=\"display: flex; padding: 8px; background: #f8f9fa;\">\n",
       "            <div style=\"width: 80px; text-align: center; border-right: 2px solid #ddd; font-weight: bold; display: flex; align-items: center; justify-content: center;\">\n",
       "                6\n",
       "            </div>\n",
       "            <div style=\"width: 150px; text-align: center; border-right: 2px solid #ddd; font-weight: bold; display: flex; align-items: center; justify-content: center;\">\n",
       "                146623\n",
       "            </div>\n",
       "            <div style=\"flex: 1; padding: 8px 12px; white-space: pre-wrap; overflow-wrap: break-word;\">\n",
       "                To a solution of methyl 3,5-dibromo-4-(4-fluorophenyl)-1-(2-trimethylsilylethoxymethyl)pyrrole-2-carboxylate (100.0 mg, 0.2 mmol){{9:row 1}}_XXXXX_  in dry THF (<span style='background-color: yellow; color: black;'>?</span> mL) at -78 °C under N2 was added Isopropylmagnesium chloride lithium chloride complex 1.3M in THF (0.15 mL, 0.2 mmol){{9:row 2}}_XXXXX_ . The reaction mixture was stirred at this temperature for 2 hours. The mixture was monitored by TLC. New spot was not observed. The SM was stayed.\n",
       "            </div>\n",
       "        </div>\n",
       "    </div>\n",
       "    </div>"
      ],
      "text/plain": [
       "<IPython.core.display.HTML object>"
      ]
     },
     "metadata": {},
     "output_type": "display_data"
    },
    {
     "data": {
      "text/html": [
       "<div style='margin: 10px 0; width: 100%; display: flex; border: 1px solid #ddd; border-radius: 4px; background: #f8f9fa;'>\n",
       "    <div style=\"display: flex; flex-direction: column; width: 100%; border: 2px solid #bbb;\">\n",
       "        <!-- Header Row -->\n",
       "        <div style=\"display: flex; font-weight: bold; background: #d6d8db; padding: 8px; border-bottom: 2px solid #bbb;\">\n",
       "            <div style=\"width: 80px; text-align: center; border-right: 2px solid #bbb; display: flex; align-items: center; justify-content: center;\">Index</div>\n",
       "            <div style=\"width: 150px; text-align: center; border-right: 2px solid #bbb; display: flex; align-items: center; justify-content: center;\">Experiment ID</div>\n",
       "            <div style=\"flex: 1; text-align: center;\">Writeup</div>\n",
       "        </div>\n",
       "\n",
       "        <!-- Data Row -->\n",
       "        <div style=\"display: flex; padding: 8px; background: #f8f9fa;\">\n",
       "            <div style=\"width: 80px; text-align: center; border-right: 2px solid #ddd; font-weight: bold; display: flex; align-items: center; justify-content: center;\">\n",
       "                7\n",
       "            </div>\n",
       "            <div style=\"width: 150px; text-align: center; border-right: 2px solid #ddd; font-weight: bold; display: flex; align-items: center; justify-content: center;\">\n",
       "                146696\n",
       "            </div>\n",
       "            <div style=\"flex: 1; padding: 8px 12px; white-space: pre-wrap; overflow-wrap: break-word;\">\n",
       "                To a solution of methyl 3,5-dibromo-4-(4-fluorophenyl)-1H-pyrrole-2-carboxylate (2.4 g, 6.37 mmol){{9:row 1}}_XXXXX_  in dry THF (<span style='background-color: yellow; color: black;'>?</span> mL) at 0 °C under N2 was added slowly 60% Sodium hydride (229.18 mg, 5.73 mmol){{9:row 3}}_XXXXX_ . The suspension was stirred at this temperature for 30min. To the suspension was added 2-(chloromethoxy)ethyl-trimethyl-silane (1592.02 mg, 9.55 mmol){{9:row 2}}_XXXXX_  at 0 °C under N2. The reaction mixture was stirred at 0 °C for 2 hours. The mixture was quenched with ice-water (20 mL) and exrtated with EA (3*30 mL). The organics were dried over sodium sulfate, filtered and evaporated to give a residue. The residue was purified by silica gel (PE:EA=10:0 to 10:1) to afford methyl 3,5-dibromo-4-(4-fluorophenyl)-1-(2-trimethylsilylethoxymethyl)pyrrole-2-carboxylate (2.8 g, 5.5199 mmol, 86.708% yield){{2:row 1}}_XXXXX_ . 1H NMR: (400 MHz, DMSO-d6) δ 7.43-7.34 (m, 4 H), 5.81 (s, 2 H), 3.88 (s, 3 H), 3.60 (t, J = 7.6 Hz, 2H), 0.88 (t, J = 7.6 Hz, 2H), 0.00(s, 9 H).\n",
       "            </div>\n",
       "        </div>\n",
       "    </div>\n",
       "    </div>"
      ],
      "text/plain": [
       "<IPython.core.display.HTML object>"
      ]
     },
     "metadata": {},
     "output_type": "display_data"
    },
    {
     "data": {
      "text/html": [
       "<div style='margin: 10px 0; width: 100%; display: flex; border: 1px solid #ddd; border-radius: 4px; background: #f8f9fa;'>\n",
       "    <div style=\"display: flex; flex-direction: column; width: 100%; border: 2px solid #bbb;\">\n",
       "        <!-- Header Row -->\n",
       "        <div style=\"display: flex; font-weight: bold; background: #d6d8db; padding: 8px; border-bottom: 2px solid #bbb;\">\n",
       "            <div style=\"width: 80px; text-align: center; border-right: 2px solid #bbb; display: flex; align-items: center; justify-content: center;\">Index</div>\n",
       "            <div style=\"width: 150px; text-align: center; border-right: 2px solid #bbb; display: flex; align-items: center; justify-content: center;\">Experiment ID</div>\n",
       "            <div style=\"flex: 1; text-align: center;\">Writeup</div>\n",
       "        </div>\n",
       "\n",
       "        <!-- Data Row -->\n",
       "        <div style=\"display: flex; padding: 8px; background: #f8f9fa;\">\n",
       "            <div style=\"width: 80px; text-align: center; border-right: 2px solid #ddd; font-weight: bold; display: flex; align-items: center; justify-content: center;\">\n",
       "                8\n",
       "            </div>\n",
       "            <div style=\"width: 150px; text-align: center; border-right: 2px solid #ddd; font-weight: bold; display: flex; align-items: center; justify-content: center;\">\n",
       "                147096\n",
       "            </div>\n",
       "            <div style=\"flex: 1; padding: 8px 12px; white-space: pre-wrap; overflow-wrap: break-word;\">\n",
       "                A dried 250 mL RBF with septum containing a solution of 4-Fluoro-3-nitrobenzenesulfonyl chloride (4.99 g, 20.83 mmol){{9:row 1}}_XXXXX_  in DCM (50 mL){{3:row 1}}_XXXXX_  was cooled to -78 °C{{8:row 1}}_XXXXX_  in an dry ice / acetone bath under N2. In a dried 100 mL RBF with septum, a solution of Bis-(4-methoxybenzyl)amine (5.25 mL, 21.88 mmol){{9:row 2}}_XXXXX_  and 4-(dimethylamino)pyridine (505.0 mg, 4.13 mmol){{9:row 3}}_XXXXX_  in DCM (50 mL){{3:row 2}}_XXXXX_  and Triethylamine;TEA (4.3 mL, 30.85 mmol){{9:row 4}}_XXXXX_  under N2 was prepared and cannula transferred dropwise to the -78 °C{{8:row 1}}_XXXXX_  sulfonyl chloride solution over 30 min. The mixture was stirred at -78 °C{{8:row 1}}_XXXXX_  for an additional 15 min, then slowly let warm to RT over 90 min. The reaction mixture was diluted with DCM (100 mL), washed with water (70 mL), water (70 mL) and brine (10 mL), and brine (50 mL). The organic layer was dried over Na2SO4, filtered, concentrated under reduced pressure, and purified by FCC (220 g SiO2, 0&rarr;30% EtOAc in hexanes, wet-loaded in DCM+hexanes). Three major peaks eluted. The first and second peak overlapped. The first peak corresponds to 7-2, the second peak to 7-1 (the desired prd), and the third peak to 7-3. Fractions containing pure desired product were concentrated under reduced pressure to yield 4-fluoro-N,N-bis[(4-methoxyphenyl)methyl]-3-nitro-benzenesulfonamide (2.827 g, 6.1392 mmol, 29.479% yield){{2:row 1}}_XXXXX_  as a shiny yellow solid. Mixed fractions containing the desired product were concentrated under reduced pressure. The residue was purified by selective solvation of the impurities using ~9:1-5:1 hexanes:DCM (3&times; 4-10 mL) at room temperature, and decanting the dissolved impurities to yield 4-fluoro-N,N-bis[(4-methoxyphenyl)methyl]-3-nitro-benzenesulfonamide (0.6827 g, 1.4826 mmol, 7.1191% yield){{2:row 4}}_XXXXX_  as a yellow solid. (pure 7-1/7-4 is a white solid, but trace amounts of 7-2 are enough to turn it yellow). Combined 36.6% yield of the desired product. Crude NMR after the workup shows a 1.0 : 0.46 : 0.58 ratio of the 7-1 : 7-2 : 7-3(<span style='background-color: yellow; color: black;'>?</span>). Next time, quench/workup with 1M HCl to prevent any additional amination to form 7-3.   JZ showed that the crude material can be purified with no column using crystallization/trituration method with DCM and hexanes.   7-1 pure NMR 1H NMR (500 MHz, Chloroform-d) δ 8.44 (d, J = 2.4 Hz, 1H), 7.84 (dd, J = 2.4, 9.1 Hz, 1H), 7.17 (d, J = 9.1 Hz, 1H), 7.09 – 7.03 (m, 4H), 6.87 – 6.82 (m, 4H), 4.32 (s, 4H), 3.80 (s, 6H). 19F NMR (470 MHz, Chloroform-d) δ 67.69. Rf  = 0.10 (4:1 hexanes:EtOAc)     7-2 pure NMR 1H NMR (500 MHz, Chloroform-d) δ 8.23 (dd, J = 2.4, 6.8 Hz, 1H), 7.94 (ddd, J = 2.3, 4.0, 8.6 Hz, 1H), 7.33 (dd, J = 8.7, 10.0 Hz, 1H), 7.10 – 7.04 (m, 4H), 6.83 – 6.76 (m, 4H), 4.32 (s, 4H), 3.79 (s, 6H). Rf  = 0.18 (4:1 hexanes:EtOAc)     7-3 pure NMR 1H NMR (500 MHz, Chloroform-d) δ 8.06 (d, J = 2.3 Hz, 1H), 7.66 (dd, J = 2.3, 8.9 Hz, 1H), 7.26 (s, 2H), 7.09 – 7.00 (m, 9H), 6.87 – 6.81 (m, 4H), 6.81 – 6.74 (m, 4H), 4.27 (s, 4H), 4.22 (s, 4H), 3.80 (s, 6H), 3.78 (s, 6H). Rf  = 0.07 (4:1 hexanes:EtOAc)     7-4 Matched 7-1 by TLC. Pure by TLC.  \n",
       "            </div>\n",
       "        </div>\n",
       "    </div>\n",
       "    </div>"
      ],
      "text/plain": [
       "<IPython.core.display.HTML object>"
      ]
     },
     "metadata": {},
     "output_type": "display_data"
    },
    {
     "data": {
      "text/html": [
       "<div style='margin: 10px 0; width: 100%; display: flex; border: 1px solid #ddd; border-radius: 4px; background: #f8f9fa;'>\n",
       "    <div style=\"display: flex; flex-direction: column; width: 100%; border: 2px solid #bbb;\">\n",
       "        <!-- Header Row -->\n",
       "        <div style=\"display: flex; font-weight: bold; background: #d6d8db; padding: 8px; border-bottom: 2px solid #bbb;\">\n",
       "            <div style=\"width: 80px; text-align: center; border-right: 2px solid #bbb; display: flex; align-items: center; justify-content: center;\">Index</div>\n",
       "            <div style=\"width: 150px; text-align: center; border-right: 2px solid #bbb; display: flex; align-items: center; justify-content: center;\">Experiment ID</div>\n",
       "            <div style=\"flex: 1; text-align: center;\">Writeup</div>\n",
       "        </div>\n",
       "\n",
       "        <!-- Data Row -->\n",
       "        <div style=\"display: flex; padding: 8px; background: #f8f9fa;\">\n",
       "            <div style=\"width: 80px; text-align: center; border-right: 2px solid #ddd; font-weight: bold; display: flex; align-items: center; justify-content: center;\">\n",
       "                9\n",
       "            </div>\n",
       "            <div style=\"width: 150px; text-align: center; border-right: 2px solid #ddd; font-weight: bold; display: flex; align-items: center; justify-content: center;\">\n",
       "                149864\n",
       "            </div>\n",
       "            <div style=\"flex: 1; padding: 8px 12px; white-space: pre-wrap; overflow-wrap: break-word;\">\n",
       "                An 8 mL vial with septum containing and vacuum-dried (3S)-6'-chloro-N,N-bis[(4-methoxyphenyl)methyl]-5-[[(1R,2R)-2-(hydroxymethyl)cyclobutyl]methyl]spiro[2,4-dihydro-1,5-benzoxazepine-3,1'-tetralin]-7-sulfonamide (44.0 mg, 0.06 mmol){{9:row 1}}_XXXXX_  was charged with Tosyl chloride (16.2 mg, 0.08 mmol){{9:row 3}}_XXXXX_  followed by Triethylamine;TEA (22.0 uL, 0.16 mmol){{9:row 2}}_XXXXX_  at RT. The reaction mixture was stirred at RT for 22 h. LCMS analysis showed ~50% conversion. The vial was then charged with additional Tosyl chloride (21.2 mg, 0.11 mmol){{9:row 4}}_XXXXX_  followed by Triethylamine;TEA (70.0 uL, 0.5 mmol){{9:row 5}}_XXXXX_  and stirred for an additional 3 d at RT. ~90% conversion by LCMS. The reaction mixture was diluted with EtOAc (30 mL), washed with sat. NH4Cl (15 mL) and water (15 mL), 0.05N HCl (30 mL), sat. NaHCO3 (2x 20 mL), and brine (20 mL). The organic layer was dried over Na2SO4, filtered, concentrated under reduced pressure and heat (~70 °C) to yield crude [(1R,2R)-2-[[(3S)-7-[bis[(4-methoxyphenyl)methyl]sulfamoyl]-6'-chloro-spiro[2,4-dihydro-1,5-benzoxazepine-3,1'-tetralin]-5-yl]methyl]cyclobutyl]methyl 4-methylbenzenesulfonate (65.8 mg) as a hazy yellow glass. Used crude in RAL004-44.   LCMS: very suppressed TIC. Found:873.1 (<span style='background-color: yellow; color: black;'>?</span>). Doesn't match calcd ion mass. FN:RAL004-43A, -43A2, -43A3   By NMR, looks like tosyl group is incorporated.  \n",
       "            </div>\n",
       "        </div>\n",
       "    </div>\n",
       "    </div>"
      ],
      "text/plain": [
       "<IPython.core.display.HTML object>"
      ]
     },
     "metadata": {},
     "output_type": "display_data"
    },
    {
     "data": {
      "text/html": [
       "<div style='margin: 10px 0; width: 100%; display: flex; border: 1px solid #ddd; border-radius: 4px; background: #f8f9fa;'>\n",
       "    <div style=\"display: flex; flex-direction: column; width: 100%; border: 2px solid #bbb;\">\n",
       "        <!-- Header Row -->\n",
       "        <div style=\"display: flex; font-weight: bold; background: #d6d8db; padding: 8px; border-bottom: 2px solid #bbb;\">\n",
       "            <div style=\"width: 80px; text-align: center; border-right: 2px solid #bbb; display: flex; align-items: center; justify-content: center;\">Index</div>\n",
       "            <div style=\"width: 150px; text-align: center; border-right: 2px solid #bbb; display: flex; align-items: center; justify-content: center;\">Experiment ID</div>\n",
       "            <div style=\"flex: 1; text-align: center;\">Writeup</div>\n",
       "        </div>\n",
       "\n",
       "        <!-- Data Row -->\n",
       "        <div style=\"display: flex; padding: 8px; background: #f8f9fa;\">\n",
       "            <div style=\"width: 80px; text-align: center; border-right: 2px solid #ddd; font-weight: bold; display: flex; align-items: center; justify-content: center;\">\n",
       "                10\n",
       "            </div>\n",
       "            <div style=\"width: 150px; text-align: center; border-right: 2px solid #ddd; font-weight: bold; display: flex; align-items: center; justify-content: center;\">\n",
       "                150324\n",
       "            </div>\n",
       "            <div style=\"flex: 1; padding: 8px 12px; white-space: pre-wrap; overflow-wrap: break-word;\">\n",
       "                A solution of2-(2-bromo-5-chloro-phenyl)ethynyl-trimethyl-silane (93.93 mg, 0.33 mmol)  in 2 mL THF under nitrogen was chilled in a dry ice/acetone bath for 5 minutes. lithium;butane (0.24 mL, 0.39 mmol) was added dropwise and the resulting bright yellow solution was stirred cold for 1.5 h, after which a solution of (3aR,4R,6S,6aS)-4-(4-chloropyrrolo[2,3-d]pyrimidin-7-yl)-N-methoxy-N,2,2-trimethyl-3a,4,6,6a-tetrahydrofuro[3,4-d][1,3]dioxole-6-carboxamide (100.0 mg, 0.26 mmol) in 1 mL THF was added (color dissipates as addition progresses) and the pale yellow reaction solution was stirred cold.  HPLCMS MJH002-43-a1 after 1 hr (non-polar method): 70% 2.38 min (MH+ = 530/532), 16% 2.35 min (no clear mass).  Quenched reaction cold with sat'd NH4Cl, then transferred reaction to wet ice bath.  Extracted 2X EtOAc.  Combined organics washed with brine, filtered through cotton, and concentrated to an orange oil.  Purified crude product by flash colulmn, 0 - 20% EtOAc/hexanes and the clean fractions were concentrated to a clear glass MJH002-43-1, [4-chloro-2-(2-trimethylsilylethynyl)phenyl]-[(3aR,4R,6S,6aS)-4-(4-chloropyrrolo[2,3-d]pyrimidin-7-yl)-2,2-dimethyl-3a,4,6,6a-tetrahydrofuro[3,4-d][1,3]dioxol-6-yl]methanone (<span style='background-color: yellow; color: black;'>?</span> mg, <span style='background-color: yellow; color: black;'>?</span> mmol, <span style='background-color: yellow; color: black;'>?</span>% yield).  HPLCMS MJH002-39-1: &gt;95% 2.38 min (MH+ = 530/532).\n",
       "            </div>\n",
       "        </div>\n",
       "    </div>\n",
       "    </div>"
      ],
      "text/plain": [
       "<IPython.core.display.HTML object>"
      ]
     },
     "metadata": {},
     "output_type": "display_data"
    },
    {
     "data": {
      "text/html": [
       "<div style='margin: 10px 0; width: 100%; display: flex; border: 1px solid #ddd; border-radius: 4px; background: #f8f9fa;'>\n",
       "    <div style=\"display: flex; flex-direction: column; width: 100%; border: 2px solid #bbb;\">\n",
       "        <!-- Header Row -->\n",
       "        <div style=\"display: flex; font-weight: bold; background: #d6d8db; padding: 8px; border-bottom: 2px solid #bbb;\">\n",
       "            <div style=\"width: 80px; text-align: center; border-right: 2px solid #bbb; display: flex; align-items: center; justify-content: center;\">Index</div>\n",
       "            <div style=\"width: 150px; text-align: center; border-right: 2px solid #bbb; display: flex; align-items: center; justify-content: center;\">Experiment ID</div>\n",
       "            <div style=\"flex: 1; text-align: center;\">Writeup</div>\n",
       "        </div>\n",
       "\n",
       "        <!-- Data Row -->\n",
       "        <div style=\"display: flex; padding: 8px; background: #f8f9fa;\">\n",
       "            <div style=\"width: 80px; text-align: center; border-right: 2px solid #ddd; font-weight: bold; display: flex; align-items: center; justify-content: center;\">\n",
       "                11\n",
       "            </div>\n",
       "            <div style=\"width: 150px; text-align: center; border-right: 2px solid #ddd; font-weight: bold; display: flex; align-items: center; justify-content: center;\">\n",
       "                152823\n",
       "            </div>\n",
       "            <div style=\"flex: 1; padding: 8px 12px; white-space: pre-wrap; overflow-wrap: break-word;\">\n",
       "                  To the solution of 2-[3-(2-ethoxy-2-oxo-ethyl)pyrazol-1-yl]ethyl rac-(2S)-2-[[rac-(3S)-7-[bis[(4-methoxyphenyl)methyl]sulfamoyl]-6'-chloro-spiro[2,4-dihydro-1,5-benzoxazepine-3,1'-tetralin]-5-yl]methyl]pyrrolidine-1-carboxylate (78.0 mg, 0.08 mmol) in DCM (10 mL)DCM (<span style='background-color: yellow; color: black;'>?</span> mL)DCM (10 mL){{3:row 1}}_XXXXX_ _XXXXX__XXXXX_DCM (<span style='background-color: yellow; color: black;'>?</span> mL)DCM (10 mL){{3:row 1}}_XXXXX_ _XXXXX__XXXXX_, quant:row 2}}_XXXXX_ TFA (0.1 mL, 0.8 mmol) <span style='background-color: yellow; color: black;'>?</span> (<span style='background-color: yellow; color: black;'>?</span>, <span style='background-color: yellow; color: black;'>?</span> mmol){{9:row 3}}_XXXXX_ _XXXXX_<span style='background-color: yellow; color: black;'>?</span> (<span style='background-color: yellow; color: black;'>?</span>, <span style='background-color: yellow; color: black;'>?</span> mmol){{9:row 4}}_XXXXX_ _XXXXX_ wast volume:row 1}}_XXXXX_ added25 °C{{8:row 1}}_XXXXX_ _XXXXX_, and the reaction mixture was sirred at room temperature for 14 hrs. The mixture was concentrated to dryness under reduced pressure. The resulting mixture was extracted with EtOAc (20 mL x 3) and water (20 mL), washed with brine, dried over anhydrous Na2SO4. The solid was filtered and the filtrate was concentrated and the residue was purified by column chromatography on silica gel (PE/EA = 10/1) to give 2-[3-(2-ethoxy-2-oxo-ethyl)pyrazol-1-yl]ethyl rac-(2S)-2-[[rac-(3S)-6'-chloro-7-sulfamoyl-spiro[2,4-dihydro-1,5-benzoxazepine-3,1'-tetralin]-5-yl]methyl]pyrrolidine-1-carboxylate (40 mg, 0.05829 mmol, 69.24% yield).\n",
       "            </div>\n",
       "        </div>\n",
       "    </div>\n",
       "    </div>"
      ],
      "text/plain": [
       "<IPython.core.display.HTML object>"
      ]
     },
     "metadata": {},
     "output_type": "display_data"
    },
    {
     "data": {
      "text/html": [
       "<div style='margin: 10px 0; width: 100%; display: flex; border: 1px solid #ddd; border-radius: 4px; background: #f8f9fa;'>\n",
       "    <div style=\"display: flex; flex-direction: column; width: 100%; border: 2px solid #bbb;\">\n",
       "        <!-- Header Row -->\n",
       "        <div style=\"display: flex; font-weight: bold; background: #d6d8db; padding: 8px; border-bottom: 2px solid #bbb;\">\n",
       "            <div style=\"width: 80px; text-align: center; border-right: 2px solid #bbb; display: flex; align-items: center; justify-content: center;\">Index</div>\n",
       "            <div style=\"width: 150px; text-align: center; border-right: 2px solid #bbb; display: flex; align-items: center; justify-content: center;\">Experiment ID</div>\n",
       "            <div style=\"flex: 1; text-align: center;\">Writeup</div>\n",
       "        </div>\n",
       "\n",
       "        <!-- Data Row -->\n",
       "        <div style=\"display: flex; padding: 8px; background: #f8f9fa;\">\n",
       "            <div style=\"width: 80px; text-align: center; border-right: 2px solid #ddd; font-weight: bold; display: flex; align-items: center; justify-content: center;\">\n",
       "                12\n",
       "            </div>\n",
       "            <div style=\"width: 150px; text-align: center; border-right: 2px solid #ddd; font-weight: bold; display: flex; align-items: center; justify-content: center;\">\n",
       "                153056\n",
       "            </div>\n",
       "            <div style=\"flex: 1; padding: 8px 12px; white-space: pre-wrap; overflow-wrap: break-word;\">\n",
       "                To the solution of 2-[1-[2-[rac-(2S)-2-[[rac-(3S)-6'-chloro-7-sulfamoyl-spiro[2,4-dihydro-1,5-benzoxazepine-3,1'-tetralin]-5-yl]methyl]pyrrolidine-1-carbonyl]oxyethyl]pyrazol-3-yl]acetic acid (35.0 mg, 0.05 mmol) in DMF (3 mL)DCM (<span style='background-color: yellow; color: black;'>?</span> mL)DCM (10 mL)_XXXXX__XXXXX_DCM (<span style='background-color: yellow; color: black;'>?</span> mL)DCM (10 mL)_XXXXX__XXXXX_, quant:row 2}}_XXXXX_ DMAP (25.99 mg, 0.21 mmol) and EDCI (40.78 mg, 0.21 mmol) EDCI (40.78 mg, 0.21 mmol){{9:row 3}}_XXXXX_ _XXXXX_<span style='background-color: yellow; color: black;'>?</span> (<span style='background-color: yellow; color: black;'>?</span>, <span style='background-color: yellow; color: black;'>?</span> mmol){{9:row 4}}_XXXXX_ _XXXXX_ weret volume:row 1}}_XXXXX_ added25 °C{{8:row 1}}_XXXXX_ _XXXXX_, and the reaction mixture was sirred at room temperature for 14 hrs. The resulting mixture was extracted with EtOAc (20 mL x 3) and water (20 mL), washed with brine, dried over anhydrous Na2SO4. The solid was filtered and the filtrate was concentrated and the residue was purified by Pre-HPLC to give rac-(3S,26S)-6'-chloro-19,19-dioxo-spiro[9,24-dioxa-19λ^6-thia-1,7,12,18,30-pentazapentacyclo[18.7.2.1^12,15.0^3,7.0^23,28]triaconta-13,15(30),20,22,28-pentaene-26,1'-tetralin]-8,17-dione (1.9 mg, 0.00297 mmol, 5.5813% yield) and 3.4 mg (84% on 254 nm)(QIZ003-16-1-LCMS-1) on hand. LCMS calculated for C31H35ClN5O6S [M+H]+ m/z =640.19 ; found 640.2. 1H NMR (400 MHz, CD3CN) δ 9.37-9.35 (m, 1 H), 8.36-8.34 (m, 1 H), 7.75 – 7.56 (m, 1 H), 7.48 – 7.34 (m, 2 H), 7.27 – 7.13 (m, 2 H), 6.95-6.90 (m, 1 H), 6.04-6.02 (m, 1 H), 4.87 (brs, 1 H), 4.41 – 4.23 (m, 4 H), 4.02-3.98 (m, 2 H), 3.78 – 3.46 (m, 6 H), 3.36-3.34 (m, 4 H), 2.84 – 2.70 (m, 4 H), 1.98-1.81 (m, 4 H). \n",
       "            </div>\n",
       "        </div>\n",
       "    </div>\n",
       "    </div>"
      ],
      "text/plain": [
       "<IPython.core.display.HTML object>"
      ]
     },
     "metadata": {},
     "output_type": "display_data"
    },
    {
     "data": {
      "text/html": [
       "<div style='margin: 10px 0; width: 100%; display: flex; border: 1px solid #ddd; border-radius: 4px; background: #f8f9fa;'>\n",
       "    <div style=\"display: flex; flex-direction: column; width: 100%; border: 2px solid #bbb;\">\n",
       "        <!-- Header Row -->\n",
       "        <div style=\"display: flex; font-weight: bold; background: #d6d8db; padding: 8px; border-bottom: 2px solid #bbb;\">\n",
       "            <div style=\"width: 80px; text-align: center; border-right: 2px solid #bbb; display: flex; align-items: center; justify-content: center;\">Index</div>\n",
       "            <div style=\"width: 150px; text-align: center; border-right: 2px solid #bbb; display: flex; align-items: center; justify-content: center;\">Experiment ID</div>\n",
       "            <div style=\"flex: 1; text-align: center;\">Writeup</div>\n",
       "        </div>\n",
       "\n",
       "        <!-- Data Row -->\n",
       "        <div style=\"display: flex; padding: 8px; background: #f8f9fa;\">\n",
       "            <div style=\"width: 80px; text-align: center; border-right: 2px solid #ddd; font-weight: bold; display: flex; align-items: center; justify-content: center;\">\n",
       "                13\n",
       "            </div>\n",
       "            <div style=\"width: 150px; text-align: center; border-right: 2px solid #ddd; font-weight: bold; display: flex; align-items: center; justify-content: center;\">\n",
       "                156573\n",
       "            </div>\n",
       "            <div style=\"flex: 1; padding: 8px 12px; white-space: pre-wrap; overflow-wrap: break-word;\">\n",
       "                A 2 mL microwave vial with septum containing a mixture of 2-methyl-4,5,6,7-tetrahydro-3H-imidazo[4,5-c]pyridine (29.3 mg, 0.21 mmol){{9:row 1}}_XXXXX_ , N,N-Diisopropylethylamine (40.0 uL, 0.23 mmol){{9:row 3}}_XXXXX_ , and (1S,3R)-3-acetamido-N-(4-bromo-5-chloro-2-pyridyl)cyclohexanecarboxamide (50.1 mg, 0.13 mmol){{9:row 2}}_XXXXX_  under N2 was charged with DMSO (600 uL){{3:row 1}}_XXXXX_ , and sparged with N2 for 1 min. The reaction mixture was microwaved at 130 °C{{8:row 1}}_XXXXX_  for 5 h. LCMS analysis shows SM consumed The reaction mixture concentrated under reduced pressure to remove a majority of the diisopropylethylamine, then diluted with MeCN and purified by prep-HPLCMS (5 μm 10x3 cm Luna C18, 3&rarr;35&rarr;95% MeCN in H2O (0.1% TFA), wet-loaded in DMSO). Fractions containing product were combined and lyophilized to yield 98.5% (1S,3R)-3-acetamido-N-[5-chloro-4-(2-methyl-3,4,6,7-tetrahydroimidazo[4,5-c]pyridin-5-yl)-2-pyridyl]cyclohexanecarboxamide;2,2,2-trifluoroacetic acid (50 mg, 0.07474 mmol, 55.89% yield){{2:row 1}}_XXXXX_  as a yellow, tacky, hygroscopic solid.This turned into a yellow oil after being exposed to air for 5-10 min. A second, smaller fraction with the same mass was combined and lyophilized to yield 88.1% pure as a yellow/brown gum.   30-1 1H NMR (500 MHz, DMSO-d6) δ 14.04 (s, 1H), 13.92 (s, 1H), 10.53 (s, 1H), 8.19 (s, 1H), 7.97 (s, 1H), 7.77 (d, J = 7.9 Hz, 1H), 4.31 (s, 2H), 3.63 – 3.50 (m, 3H), 2.84 (t, J = 5.6 Hz, 2H), 2.65 – 2.58 (m, 1H), 2.57 (s, 3H), 1.88 (d, J = 12.2 Hz, 1H), 1.82 – 1.70 (m, 6H), 1.33 – 1.19 (m, 3H), 1.08 (qd, J = 3.6, 11.9, 12.5 Hz, 1H). 30-1 LCMS Found: 431.4/433.3     30-2 LCMS Found 431.5/432.2 (<span style='background-color: yellow; color: black;'>?</span>) isotopic splitting shows the molecule to not contain a chlorine, therefor it is not an isomer or desired product.\n",
       "            </div>\n",
       "        </div>\n",
       "    </div>\n",
       "    </div>"
      ],
      "text/plain": [
       "<IPython.core.display.HTML object>"
      ]
     },
     "metadata": {},
     "output_type": "display_data"
    },
    {
     "data": {
      "text/html": [
       "<div style='margin: 10px 0; width: 100%; display: flex; border: 1px solid #ddd; border-radius: 4px; background: #f8f9fa;'>\n",
       "    <div style=\"display: flex; flex-direction: column; width: 100%; border: 2px solid #bbb;\">\n",
       "        <!-- Header Row -->\n",
       "        <div style=\"display: flex; font-weight: bold; background: #d6d8db; padding: 8px; border-bottom: 2px solid #bbb;\">\n",
       "            <div style=\"width: 80px; text-align: center; border-right: 2px solid #bbb; display: flex; align-items: center; justify-content: center;\">Index</div>\n",
       "            <div style=\"width: 150px; text-align: center; border-right: 2px solid #bbb; display: flex; align-items: center; justify-content: center;\">Experiment ID</div>\n",
       "            <div style=\"flex: 1; text-align: center;\">Writeup</div>\n",
       "        </div>\n",
       "\n",
       "        <!-- Data Row -->\n",
       "        <div style=\"display: flex; padding: 8px; background: #f8f9fa;\">\n",
       "            <div style=\"width: 80px; text-align: center; border-right: 2px solid #ddd; font-weight: bold; display: flex; align-items: center; justify-content: center;\">\n",
       "                14\n",
       "            </div>\n",
       "            <div style=\"width: 150px; text-align: center; border-right: 2px solid #ddd; font-weight: bold; display: flex; align-items: center; justify-content: center;\">\n",
       "                157390\n",
       "            </div>\n",
       "            <div style=\"flex: 1; padding: 8px 12px; white-space: pre-wrap; overflow-wrap: break-word;\">\n",
       "                In a 15 mL pressure tube (for volatile amines)30% methylamine solution  in water (8.0 mL, 77.2 mmol){{9:row 1}}_XXXXX_  was combined epoxide 2-vinyloxirane (4.0 mL, 49.65 mmol){{9:row 2}}_XXXXX_ . The reaction vessel fitted with a stirbar, sealed, and heated at 60°C for 16 h . Then the reaction mixture was diluted with DCM(30 ml) washed with water(15 ml).the aquoes layer was extracted with DCM(10 ml) three times, combined the above organic layers and washed with brine(15mlx2), after separation the organic layer was dried over anhydrous Na2SO4, filtered and concentrated under vacuo to give crude mixture(3.5 g) of 1-(methylamino)but-3-en-2-ol (<span style='background-color: yellow; color: black;'>?</span> g, <span style='background-color: yellow; color: black;'>?</span> mmol, <span style='background-color: yellow; color: black;'>?</span>% yield) and 2-(methylamino)but-3-en-1-ol (<span style='background-color: yellow; color: black;'>?</span> g, <span style='background-color: yellow; color: black;'>?</span> mmol, <span style='background-color: yellow; color: black;'>?</span>% yield) as sticky yellow oil confirmed by HNMR which was used for next step without further purification . And the ratio of the two isomer about : 1.3 : 1 decided by HNMR .  \n",
       "            </div>\n",
       "        </div>\n",
       "    </div>\n",
       "    </div>"
      ],
      "text/plain": [
       "<IPython.core.display.HTML object>"
      ]
     },
     "metadata": {},
     "output_type": "display_data"
    },
    {
     "data": {
      "text/html": [
       "<div style='margin: 10px 0; width: 100%; display: flex; border: 1px solid #ddd; border-radius: 4px; background: #f8f9fa;'>\n",
       "    <div style=\"display: flex; flex-direction: column; width: 100%; border: 2px solid #bbb;\">\n",
       "        <!-- Header Row -->\n",
       "        <div style=\"display: flex; font-weight: bold; background: #d6d8db; padding: 8px; border-bottom: 2px solid #bbb;\">\n",
       "            <div style=\"width: 80px; text-align: center; border-right: 2px solid #bbb; display: flex; align-items: center; justify-content: center;\">Index</div>\n",
       "            <div style=\"width: 150px; text-align: center; border-right: 2px solid #bbb; display: flex; align-items: center; justify-content: center;\">Experiment ID</div>\n",
       "            <div style=\"flex: 1; text-align: center;\">Writeup</div>\n",
       "        </div>\n",
       "\n",
       "        <!-- Data Row -->\n",
       "        <div style=\"display: flex; padding: 8px; background: #f8f9fa;\">\n",
       "            <div style=\"width: 80px; text-align: center; border-right: 2px solid #ddd; font-weight: bold; display: flex; align-items: center; justify-content: center;\">\n",
       "                15\n",
       "            </div>\n",
       "            <div style=\"width: 150px; text-align: center; border-right: 2px solid #ddd; font-weight: bold; display: flex; align-items: center; justify-content: center;\">\n",
       "                157845\n",
       "            </div>\n",
       "            <div style=\"flex: 1; padding: 8px 12px; white-space: pre-wrap; overflow-wrap: break-word;\">\n",
       "                A 4 mL vial with septum containing a solution of propionic acid (2.02 uL, 0.03 mmol){{9:row 4}}_XXXXX_  in DMF (0.15 mL){{3:row 1}}_XXXXX_  was charged with Triethylamine;TEA (10.0 uL, 0.07 mmol){{9:row 2}}_XXXXX_  followed by a stock solution of 1-[Bis(dimethylamino)-methylene]-1H-1,2,3-triazolo[4,5-b]pyridinium 3-oxid hexafluorophosphate;HATU (8.0 mg, 0.02 mmol){{9:row 3}}_XXXXX_  in DMF (0.15 mL){{3:row 2}}_XXXXX_ . The reaction mixture was stirred at RT for 15 min. The reaction mixture was then charged with (1S,3R)-3-amino-N-[5-chloro-4-(7-fluoro-3-isopropyl-2-methyl-indazol-5-yl)-2-pyridyl]cyclohexanecarboxamide;trihydrochloride; (8.3 mg, 0.02 mmol){{9:row 1}}_XXXXX_  and stirred at RT for 3 d.   The reaction mixture was diluted with water and MeOH, filtered through 0.45 um PTFE, and purified by prep-HPLCMS (5 μm 10x3 cm Luna C18, 40&rarr;55% MeCN in H2O (0.1% TFA), wet-loaded). Fractions containing pure product were combined and concentrated under reduced pressure and heat (~50 °C) to yield 99.4% pure (1S,3R)-N-[5-chloro-4-(7-fluoro-3-isopropyl-2-methyl-indazol-5-yl)-2-pyridyl]-3-(propanoylamino)cyclohexanecarboxamide;2,2,2-trifluoroacetic acid (6.4 mg, 0.00874 mmol, 58.252% yield){{2:row 1}}_XXXXX_  as a tacky yellow solid.    LCMS Found: 500.3   based on Rupa's prep belowTo Triethylamine;TEA (0.01 mL, 0.04 mmol) in DMF (0.50 mL) was added the 1-[Bis(dimethylamino)-methylene]-1H-1,2,3-triazolo[4,5-b]pyridinium 3-oxid hexafluorophosphate;HATU (7.72 mg, 0.02 mmol) and and stirred for 30 mins. To the reaction was added the (1S,3R)-3-amino-N-[5-chloro-4-(7-fluoro-3-isopropyl-2-methyl-indazol-5-yl)-2-pyridyl]cyclohexanecarboxamide;trihydrochloride (11.24 mg, 0.02 mmol) and stirred for 16 h. The reaction was quenched with water, extracted with ethyl acetate, and the organic layer separated. The organic layer was washed with water, brine, dried over sodium sulfate, filtered and concentrated. The crude was purified by silica gel chromatography using 0-30% EtOAc  in DCM to give (1S,3R)-N-[5-chloro-4-(7-fluoro-3-isopropyl-2-methyl-indazol-5-yl)-2-pyridyl]-3-(propanoylamino)cyclohexanecarboxamide;2,2,2-trifluoroacetic acid (<span style='background-color: yellow; color: black;'>?</span> mg, <span style='background-color: yellow; color: black;'>?</span> mmol, <span style='background-color: yellow; color: black;'>?</span>% yield).\n",
       "            </div>\n",
       "        </div>\n",
       "    </div>\n",
       "    </div>"
      ],
      "text/plain": [
       "<IPython.core.display.HTML object>"
      ]
     },
     "metadata": {},
     "output_type": "display_data"
    },
    {
     "data": {
      "text/html": [
       "<div style='margin: 10px 0; width: 100%; display: flex; border: 1px solid #ddd; border-radius: 4px; background: #f8f9fa;'>\n",
       "    <div style=\"display: flex; flex-direction: column; width: 100%; border: 2px solid #bbb;\">\n",
       "        <!-- Header Row -->\n",
       "        <div style=\"display: flex; font-weight: bold; background: #d6d8db; padding: 8px; border-bottom: 2px solid #bbb;\">\n",
       "            <div style=\"width: 80px; text-align: center; border-right: 2px solid #bbb; display: flex; align-items: center; justify-content: center;\">Index</div>\n",
       "            <div style=\"width: 150px; text-align: center; border-right: 2px solid #bbb; display: flex; align-items: center; justify-content: center;\">Experiment ID</div>\n",
       "            <div style=\"flex: 1; text-align: center;\">Writeup</div>\n",
       "        </div>\n",
       "\n",
       "        <!-- Data Row -->\n",
       "        <div style=\"display: flex; padding: 8px; background: #f8f9fa;\">\n",
       "            <div style=\"width: 80px; text-align: center; border-right: 2px solid #ddd; font-weight: bold; display: flex; align-items: center; justify-content: center;\">\n",
       "                16\n",
       "            </div>\n",
       "            <div style=\"width: 150px; text-align: center; border-right: 2px solid #ddd; font-weight: bold; display: flex; align-items: center; justify-content: center;\">\n",
       "                157858\n",
       "            </div>\n",
       "            <div style=\"flex: 1; padding: 8px 12px; white-space: pre-wrap; overflow-wrap: break-word;\">\n",
       "                In a 15 mL pressure tube (for volatile amines)2-vinyloxirane (8.05 mL, 99.87 mmol){{9:row 1}}_XXXXX_  was combined epoxide 30% methylamine solution  in water (20.0 mL, 193. mmol){{9:row 2}}_XXXXX_ . The reaction vessel fitted with a stirbar,and heated at 70 °C{{8:row 1}}_XXXXX_  for 16 h . Then the reaction mixture was diluted with DCM(50 ml) washed with water(30 ml).the aquoes layer was extracted with DCM(20 ml) three times, combined the above organic layers and washed with brine(25mlx2), after separation the organic layer was dried over anhydrous Na2SO4, filtered and concentrated under vacuo to give crude mixture(5 g) of 1-(methylamino)but-3-en-2-ol (<span style='background-color: yellow; color: black;'>?</span> g, <span style='background-color: yellow; color: black;'>?</span> mmol, <span style='background-color: yellow; color: black;'>?</span>% yield) and 2-(methylamino)but-3-en-1-ol (<span style='background-color: yellow; color: black;'>?</span> g, <span style='background-color: yellow; color: black;'>?</span> mmol, <span style='background-color: yellow; color: black;'>?</span>% yield) as sticky yellow oil which was used for next step without further purification .    \n",
       "            </div>\n",
       "        </div>\n",
       "    </div>\n",
       "    </div>"
      ],
      "text/plain": [
       "<IPython.core.display.HTML object>"
      ]
     },
     "metadata": {},
     "output_type": "display_data"
    },
    {
     "data": {
      "text/html": [
       "<div style='margin: 10px 0; width: 100%; display: flex; border: 1px solid #ddd; border-radius: 4px; background: #f8f9fa;'>\n",
       "    <div style=\"display: flex; flex-direction: column; width: 100%; border: 2px solid #bbb;\">\n",
       "        <!-- Header Row -->\n",
       "        <div style=\"display: flex; font-weight: bold; background: #d6d8db; padding: 8px; border-bottom: 2px solid #bbb;\">\n",
       "            <div style=\"width: 80px; text-align: center; border-right: 2px solid #bbb; display: flex; align-items: center; justify-content: center;\">Index</div>\n",
       "            <div style=\"width: 150px; text-align: center; border-right: 2px solid #bbb; display: flex; align-items: center; justify-content: center;\">Experiment ID</div>\n",
       "            <div style=\"flex: 1; text-align: center;\">Writeup</div>\n",
       "        </div>\n",
       "\n",
       "        <!-- Data Row -->\n",
       "        <div style=\"display: flex; padding: 8px; background: #f8f9fa;\">\n",
       "            <div style=\"width: 80px; text-align: center; border-right: 2px solid #ddd; font-weight: bold; display: flex; align-items: center; justify-content: center;\">\n",
       "                17\n",
       "            </div>\n",
       "            <div style=\"width: 150px; text-align: center; border-right: 2px solid #ddd; font-weight: bold; display: flex; align-items: center; justify-content: center;\">\n",
       "                157884\n",
       "            </div>\n",
       "            <div style=\"flex: 1; padding: 8px 12px; white-space: pre-wrap; overflow-wrap: break-word;\">\n",
       "                  A 4 mL vial with septum containing 1-hydroxy-1-cyclopropanecarboxylic acid (5.0 mg, 0.05 mmol){{9:row 4}}_XXXXX_  was charged with Triethylamine;TEA (10.0 uL, 0.07 mmol){{9:row 2}}_XXXXX_  followed by a stock solution of 1-[Bis(dimethylamino)-methylene]-1H-1,2,3-triazolo[4,5-b]pyridinium 3-oxid hexafluorophosphate;HATU (17.0 mg, 0.04 mmol){{9:row 3}}_XXXXX_  in DMF (0.15 mL){{3:row 2}}_XXXXX_ . The reaction mixture was stirred at RT for 15 min. The reaction mixture was then charged with a solution of (1S,3R)-3-amino-N-[5-chloro-4-(7-fluoro-3-isopropyl-2-methyl-indazol-5-yl)-2-pyridyl]cyclohexanecarboxamide;trihydrochloride; (8.3 mg, 0.02 mmol){{9:row 1}}_XXXXX_  in DMF (0.15 mL){{3:row 2}}_XXXXX_  and stirred at RT for 3 h. The reaction mixture was diluted with water and MeOH, filtered through 0.45 um PTFE, and purified by prep-HPLCMS (5 μm 10x3 cm Luna C18, 40&rarr;55% MeCN in H2O (0.1% TFA), wet-loaded). Fractions containing pure product were combined and lyophilized to yield 99.3% pure (1S,3R)-N-[5-chloro-4-(7-fluoro-3-isopropyl-2-methyl-indazol-5-yl)-2-pyridyl]-3-[(1-hydroxycyclopropanecarbonyl)amino]cyclohexanecarboxamide;2,2,2-trifluoroacetic acid (4.1 mg, 0.00538 mmol, 35.899% yield){{2:row 1}}_XXXXX_  as a light-yellow solid.  Found 528.4/530.3 based on Rupa's prep belowTo Triethylamine;TEA (0.01 mL, 0.04 mmol) in DMF (0.50 mL) was added the 1-[Bis(dimethylamino)-methylene]-1H-1,2,3-triazolo[4,5-b]pyridinium 3-oxid hexafluorophosphate;HATU (7.72 mg, 0.02 mmol) and and stirred for 30 mins. To the reaction was added the (1S,3R)-3-amino-N-[5-chloro-4-(7-fluoro-3-isopropyl-2-methyl-indazol-5-yl)-2-pyridyl]cyclohexanecarboxamide;trihydrochloride (11.24 mg, 0.02 mmol) and stirred for 16 h. The reaction was quenched with water, extracted with ethyl acetate, and the organic layer separated. The organic layer was washed with water, brine, dried over sodium sulfate, filtered and concentrated. The crude was purified by silica gel chromatography using 0-30% EtOAc  in DCM to give (1S,3R)-N-[5-chloro-4-(7-fluoro-3-isopropyl-2-methyl-indazol-5-yl)-2-pyridyl]-3-(propanoylamino)cyclohexanecarboxamide;2,2,2-trifluoroacetic acid (<span style='background-color: yellow; color: black;'>?</span> mg, <span style='background-color: yellow; color: black;'>?</span> mmol, <span style='background-color: yellow; color: black;'>?</span>% yield).\n",
       "            </div>\n",
       "        </div>\n",
       "    </div>\n",
       "    </div>"
      ],
      "text/plain": [
       "<IPython.core.display.HTML object>"
      ]
     },
     "metadata": {},
     "output_type": "display_data"
    },
    {
     "data": {
      "text/html": [
       "<div style='margin: 10px 0; width: 100%; display: flex; border: 1px solid #ddd; border-radius: 4px; background: #f8f9fa;'>\n",
       "    <div style=\"display: flex; flex-direction: column; width: 100%; border: 2px solid #bbb;\">\n",
       "        <!-- Header Row -->\n",
       "        <div style=\"display: flex; font-weight: bold; background: #d6d8db; padding: 8px; border-bottom: 2px solid #bbb;\">\n",
       "            <div style=\"width: 80px; text-align: center; border-right: 2px solid #bbb; display: flex; align-items: center; justify-content: center;\">Index</div>\n",
       "            <div style=\"width: 150px; text-align: center; border-right: 2px solid #bbb; display: flex; align-items: center; justify-content: center;\">Experiment ID</div>\n",
       "            <div style=\"flex: 1; text-align: center;\">Writeup</div>\n",
       "        </div>\n",
       "\n",
       "        <!-- Data Row -->\n",
       "        <div style=\"display: flex; padding: 8px; background: #f8f9fa;\">\n",
       "            <div style=\"width: 80px; text-align: center; border-right: 2px solid #ddd; font-weight: bold; display: flex; align-items: center; justify-content: center;\">\n",
       "                18\n",
       "            </div>\n",
       "            <div style=\"width: 150px; text-align: center; border-right: 2px solid #ddd; font-weight: bold; display: flex; align-items: center; justify-content: center;\">\n",
       "                157885\n",
       "            </div>\n",
       "            <div style=\"flex: 1; padding: 8px 12px; white-space: pre-wrap; overflow-wrap: break-word;\">\n",
       "                 A 4 mL vial with septum containing a stock solution of 1-[Bis(dimethylamino)-methylene]-1H-1,2,3-triazolo[4,5-b]pyridinium 3-oxid hexafluorophosphate;HATU (19.96 mg, 0.05 mmol){{9:row 3}}_XXXXX_  in DMF (0.15 mL){{3:row 1}}_XXXXX_  was charged with Methoxyacetic acid (6.0 uL, 0.06 mmol){{9:row 4}}_XXXXX_  followed by Triethylamine;TEA (11.0 uL, 0.08 mmol){{9:row 2}}_XXXXX_ . The reaction mixture was stirred at RT for 15 min. The reaction mixture was then charged with a stock solution of (1S,3R)-3-amino-N-[5-chloro-4-(7-fluoro-3-isopropyl-2-methyl-indazol-5-yl)-2-pyridyl]cyclohexanecarboxamide;trihydrochloride; (8.3 mg, 0.02 mmol){{9:row 1}}_XXXXX_  in DMF (0.15 mL){{3:row 2}}_XXXXX_  and stirred at RT for 3 h. The reaction mixture was diluted with water and MeOH, filtered through 0.45 um PTFE, and purified by prep-HPLCMS (5 μm 10x3 cm Luna C18, 40&rarr;55% MeCN in H2O (0.1% TFA), wet-loaded). Fractions containing pure product were combined and lyophilized to yield 99.0% pure (1S,3R)-N-[5-chloro-4-(7-fluoro-3-isopropyl-2-methyl-indazol-5-yl)-2-pyridyl]-3-[(2-methoxyacetyl)amino]cyclohexanecarboxamide;2,2,2-trifluoroacetic acid (5 mg, 0.00665 mmol, 44.352% yield){{2:row 1}}_XXXXX_  as a light-yellow solid. Found 516.3/518.3 prd:tfa ratio estimated at 1:2. based on Rupa's prep belowTo Triethylamine;TEA (0.01 mL, 0.04 mmol) in DMF (0.50 mL) was added the 1-[Bis(dimethylamino)-methylene]-1H-1,2,3-triazolo[4,5-b]pyridinium 3-oxid hexafluorophosphate;HATU (7.72 mg, 0.02 mmol) and and stirred for 30 mins. To the reaction was added the (1S,3R)-3-amino-N-[5-chloro-4-(7-fluoro-3-isopropyl-2-methyl-indazol-5-yl)-2-pyridyl]cyclohexanecarboxamide;trihydrochloride (11.24 mg, 0.02 mmol) and stirred for 16 h. The reaction was quenched with water, extracted with ethyl acetate, and the organic layer separated. The organic layer was washed with water, brine, dried over sodium sulfate, filtered and concentrated. The crude was purified by silica gel chromatography using 0-30% EtOAc  in DCM to give (1S,3R)-N-[5-chloro-4-(7-fluoro-3-isopropyl-2-methyl-indazol-5-yl)-2-pyridyl]-3-(propanoylamino)cyclohexanecarboxamide;2,2,2-trifluoroacetic acid (<span style='background-color: yellow; color: black;'>?</span> mg, <span style='background-color: yellow; color: black;'>?</span> mmol, <span style='background-color: yellow; color: black;'>?</span>% yield).\n",
       "            </div>\n",
       "        </div>\n",
       "    </div>\n",
       "    </div>"
      ],
      "text/plain": [
       "<IPython.core.display.HTML object>"
      ]
     },
     "metadata": {},
     "output_type": "display_data"
    },
    {
     "data": {
      "text/html": [
       "<div style='margin: 10px 0; width: 100%; display: flex; border: 1px solid #ddd; border-radius: 4px; background: #f8f9fa;'>\n",
       "    <div style=\"display: flex; flex-direction: column; width: 100%; border: 2px solid #bbb;\">\n",
       "        <!-- Header Row -->\n",
       "        <div style=\"display: flex; font-weight: bold; background: #d6d8db; padding: 8px; border-bottom: 2px solid #bbb;\">\n",
       "            <div style=\"width: 80px; text-align: center; border-right: 2px solid #bbb; display: flex; align-items: center; justify-content: center;\">Index</div>\n",
       "            <div style=\"width: 150px; text-align: center; border-right: 2px solid #bbb; display: flex; align-items: center; justify-content: center;\">Experiment ID</div>\n",
       "            <div style=\"flex: 1; text-align: center;\">Writeup</div>\n",
       "        </div>\n",
       "\n",
       "        <!-- Data Row -->\n",
       "        <div style=\"display: flex; padding: 8px; background: #f8f9fa;\">\n",
       "            <div style=\"width: 80px; text-align: center; border-right: 2px solid #ddd; font-weight: bold; display: flex; align-items: center; justify-content: center;\">\n",
       "                19\n",
       "            </div>\n",
       "            <div style=\"width: 150px; text-align: center; border-right: 2px solid #ddd; font-weight: bold; display: flex; align-items: center; justify-content: center;\">\n",
       "                157887\n",
       "            </div>\n",
       "            <div style=\"flex: 1; padding: 8px 12px; white-space: pre-wrap; overflow-wrap: break-word;\">\n",
       "                A 4 mL vial with septum containing a stock solution of 1-[Bis(dimethylamino)-methylene]-1H-1,2,3-triazolo[4,5-b]pyridinium 3-oxid hexafluorophosphate;HATU (17.0 mg, 0.04 mmol){{9:row 3}}_XXXXX_  in DMF (0.15 mL){{3:row 2}}_XXXXX_  was charged with (1S,3R)-3-amino-N-[5-chloro-4-(7-fluoro-3-isopropyl-2-methyl-indazol-5-yl)-2-pyridyl]cyclohexanecarboxamide;trihydrochloride; (8.3 mg, 0.02 mmol){{9:row 1}}_XXXXX_  in DMF (0.15 mL){{3:row 2}}_XXXXX_  and stirred at RT for 3 h.   LCMS showed the reaction had reached completion. The reaction mixture was diluted with water and MeOH, filtered through 0.45 um PTFE, and purified by prep-HPLCMS (5 μm 10x3 cm Luna C18, 40&rarr;55% MeCN in H2O (0.1% TFA), wet-loaded). Fractions containing pure product were combined and lyophilized to yield 99.4% pure (1S,3R)-N-[5-chloro-4-(7-fluoro-3-isopropyl-2-methyl-indazol-5-yl)-2-pyridyl]-3-[(2-thiazol-4-ylacetyl)amino]cyclohexanecarboxamide;2,2,2-trifluoroacetic acid (5.2 mg, 0.00648 mmol, 43.228% yield){{2:row 1}}_XXXXX_  as a light-yellow solid.   tfa salt ratio estimated at 1:2 prd:tfa. LCMS Found: 569.3/571.3   based on Rupa's prep belowTo Triethylamine;TEA (0.01 mL, 0.04 mmol) in DMF (0.50 mL) was added the 1-[Bis(dimethylamino)-methylene]-1H-1,2,3-triazolo[4,5-b]pyridinium 3-oxid hexafluorophosphate;HATU (7.72 mg, 0.02 mmol) and and stirred for 30 mins. To the reaction was added the (1S,3R)-3-amino-N-[5-chloro-4-(7-fluoro-3-isopropyl-2-methyl-indazol-5-yl)-2-pyridyl]cyclohexanecarboxamide;trihydrochloride (11.24 mg, 0.02 mmol) and stirred for 16 h. The reaction was quenched with water, extracted with ethyl acetate, and the organic layer separated. The organic layer was washed with water, brine, dried over sodium sulfate, filtered and concentrated. The crude was purified by silica gel chromatography using 0-30% EtOAc  in DCM to give (1S,3R)-N-[5-chloro-4-(7-fluoro-3-isopropyl-2-methyl-indazol-5-yl)-2-pyridyl]-3-(propanoylamino)cyclohexanecarboxamide;2,2,2-trifluoroacetic acid (<span style='background-color: yellow; color: black;'>?</span> mg, <span style='background-color: yellow; color: black;'>?</span> mmol, <span style='background-color: yellow; color: black;'>?</span>% yield).\n",
       "            </div>\n",
       "        </div>\n",
       "    </div>\n",
       "    </div>"
      ],
      "text/plain": [
       "<IPython.core.display.HTML object>"
      ]
     },
     "metadata": {},
     "output_type": "display_data"
    },
    {
     "data": {
      "text/html": [
       "<div style='margin: 10px 0; width: 100%; display: flex; border: 1px solid #ddd; border-radius: 4px; background: #f8f9fa;'>\n",
       "    <div style=\"display: flex; flex-direction: column; width: 100%; border: 2px solid #bbb;\">\n",
       "        <!-- Header Row -->\n",
       "        <div style=\"display: flex; font-weight: bold; background: #d6d8db; padding: 8px; border-bottom: 2px solid #bbb;\">\n",
       "            <div style=\"width: 80px; text-align: center; border-right: 2px solid #bbb; display: flex; align-items: center; justify-content: center;\">Index</div>\n",
       "            <div style=\"width: 150px; text-align: center; border-right: 2px solid #bbb; display: flex; align-items: center; justify-content: center;\">Experiment ID</div>\n",
       "            <div style=\"flex: 1; text-align: center;\">Writeup</div>\n",
       "        </div>\n",
       "\n",
       "        <!-- Data Row -->\n",
       "        <div style=\"display: flex; padding: 8px; background: #f8f9fa;\">\n",
       "            <div style=\"width: 80px; text-align: center; border-right: 2px solid #ddd; font-weight: bold; display: flex; align-items: center; justify-content: center;\">\n",
       "                20\n",
       "            </div>\n",
       "            <div style=\"width: 150px; text-align: center; border-right: 2px solid #ddd; font-weight: bold; display: flex; align-items: center; justify-content: center;\">\n",
       "                158504\n",
       "            </div>\n",
       "            <div style=\"flex: 1; padding: 8px 12px; white-space: pre-wrap; overflow-wrap: break-word;\">\n",
       "                To a solution of 2-vinyloxirane (39.08 mL, 485.09 mmol){{9:row 1}}_XXXXX_  was combined epoxide 30% methylamine solution  in water (97.14 mL, 937.43 mmol){{9:row 2}}_XXXXX_ . The reaction vessel fitted with a stirbar,and heated at 65 °C{{8:row 1}}_XXXXX_  for 16 h . Then the reaction mixture was diluted with DCM(200 mL) washed with water(300 mL).the aquoes layer was extracted with DCM(200 mL) three times, combined the above organic layers and washed with brine(300mLx2), after separation the organic layer was dried over anhydrous Na2SO4, filtered and concentrated under vacuo to give crude mixture(27 g) of 1-(methylamino)but-3-en-2-ol (<span style='background-color: yellow; color: black;'>?</span> g, <span style='background-color: yellow; color: black;'>?</span> mmol, <span style='background-color: yellow; color: black;'>?</span>% yield) and 2-(methylamino)but-3-en-1-ol (<span style='background-color: yellow; color: black;'>?</span> g, <span style='background-color: yellow; color: black;'>?</span> mmol, <span style='background-color: yellow; color: black;'>?</span>% yield) as sticky yellow oil which was used for next step without further purification .    \n",
       "            </div>\n",
       "        </div>\n",
       "    </div>\n",
       "    </div>"
      ],
      "text/plain": [
       "<IPython.core.display.HTML object>"
      ]
     },
     "metadata": {},
     "output_type": "display_data"
    },
    {
     "data": {
      "text/html": [
       "<div style='margin: 10px 0; width: 100%; display: flex; border: 1px solid #ddd; border-radius: 4px; background: #f8f9fa;'>\n",
       "    <div style=\"display: flex; flex-direction: column; width: 100%; border: 2px solid #bbb;\">\n",
       "        <!-- Header Row -->\n",
       "        <div style=\"display: flex; font-weight: bold; background: #d6d8db; padding: 8px; border-bottom: 2px solid #bbb;\">\n",
       "            <div style=\"width: 80px; text-align: center; border-right: 2px solid #bbb; display: flex; align-items: center; justify-content: center;\">Index</div>\n",
       "            <div style=\"width: 150px; text-align: center; border-right: 2px solid #bbb; display: flex; align-items: center; justify-content: center;\">Experiment ID</div>\n",
       "            <div style=\"flex: 1; text-align: center;\">Writeup</div>\n",
       "        </div>\n",
       "\n",
       "        <!-- Data Row -->\n",
       "        <div style=\"display: flex; padding: 8px; background: #f8f9fa;\">\n",
       "            <div style=\"width: 80px; text-align: center; border-right: 2px solid #ddd; font-weight: bold; display: flex; align-items: center; justify-content: center;\">\n",
       "                21\n",
       "            </div>\n",
       "            <div style=\"width: 150px; text-align: center; border-right: 2px solid #ddd; font-weight: bold; display: flex; align-items: center; justify-content: center;\">\n",
       "                158648\n",
       "            </div>\n",
       "            <div style=\"flex: 1; padding: 8px 12px; white-space: pre-wrap; overflow-wrap: break-word;\">\n",
       "                To a solution of 2-vinyloxirane (5.75 mL, 71.34 mmol){{9:row 1}}_XXXXX_  was combined epoxide 30% ethylamine solution in alcohols (14.29 mL, 137.86 mmol){{9:row 2}}_XXXXX_ . The reaction vessel fitted with a stirbar,and heated at 65 °C{{8:row 1}}_XXXXX_  for 16 h . Then the reaction mixture was concentrated under vacuo to give crude mixture(8 g) of 1-(methylamino)but-3-en-2-ol (<span style='background-color: yellow; color: black;'>?</span> g, <span style='background-color: yellow; color: black;'>?</span> mmol, <span style='background-color: yellow; color: black;'>?</span>% yield) and 2-(methylamino)but-3-en-1-ol (<span style='background-color: yellow; color: black;'>?</span> g, <span style='background-color: yellow; color: black;'>?</span> mmol, <span style='background-color: yellow; color: black;'>?</span>% yield) as sticky yellow oil which was used for next step without further purification .    \n",
       "            </div>\n",
       "        </div>\n",
       "    </div>\n",
       "    </div>"
      ],
      "text/plain": [
       "<IPython.core.display.HTML object>"
      ]
     },
     "metadata": {},
     "output_type": "display_data"
    },
    {
     "data": {
      "text/html": [
       "<div style='margin: 10px 0; width: 100%; display: flex; border: 1px solid #ddd; border-radius: 4px; background: #f8f9fa;'>\n",
       "    <div style=\"display: flex; flex-direction: column; width: 100%; border: 2px solid #bbb;\">\n",
       "        <!-- Header Row -->\n",
       "        <div style=\"display: flex; font-weight: bold; background: #d6d8db; padding: 8px; border-bottom: 2px solid #bbb;\">\n",
       "            <div style=\"width: 80px; text-align: center; border-right: 2px solid #bbb; display: flex; align-items: center; justify-content: center;\">Index</div>\n",
       "            <div style=\"width: 150px; text-align: center; border-right: 2px solid #bbb; display: flex; align-items: center; justify-content: center;\">Experiment ID</div>\n",
       "            <div style=\"flex: 1; text-align: center;\">Writeup</div>\n",
       "        </div>\n",
       "\n",
       "        <!-- Data Row -->\n",
       "        <div style=\"display: flex; padding: 8px; background: #f8f9fa;\">\n",
       "            <div style=\"width: 80px; text-align: center; border-right: 2px solid #ddd; font-weight: bold; display: flex; align-items: center; justify-content: center;\">\n",
       "                22\n",
       "            </div>\n",
       "            <div style=\"width: 150px; text-align: center; border-right: 2px solid #ddd; font-weight: bold; display: flex; align-items: center; justify-content: center;\">\n",
       "                158804\n",
       "            </div>\n",
       "            <div style=\"flex: 1; padding: 8px 12px; white-space: pre-wrap; overflow-wrap: break-word;\">\n",
       "                To a solution of 2-vinyloxirane (5.75 mL, 71.34 mmol){{9:row 1}}_XXXXX_  was combined epoxide propan-2-amine (11.91 mL, 137.86 mmol){{9:row 2}}_XXXXX_ . The reaction vessel fitted with a stirbar,and heated at 85 °C{{8:row 1}}_XXXXX_  for 16 h . Then the reaction mixture was concentrated under vacuo to give crude mixture(9 g) of 1-(methylamino)but-3-en-2-ol (<span style='background-color: yellow; color: black;'>?</span> g, <span style='background-color: yellow; color: black;'>?</span> mmol, <span style='background-color: yellow; color: black;'>?</span>% yield) and 2-(methylamino)but-3-en-1-ol (<span style='background-color: yellow; color: black;'>?</span> g, <span style='background-color: yellow; color: black;'>?</span> mmol, <span style='background-color: yellow; color: black;'>?</span>% yield) as sticky yellow oil which was used for next step without further purification .    \n",
       "            </div>\n",
       "        </div>\n",
       "    </div>\n",
       "    </div>"
      ],
      "text/plain": [
       "<IPython.core.display.HTML object>"
      ]
     },
     "metadata": {},
     "output_type": "display_data"
    },
    {
     "data": {
      "text/html": [
       "<div style='margin: 10px 0; width: 100%; display: flex; border: 1px solid #ddd; border-radius: 4px; background: #f8f9fa;'>\n",
       "    <div style=\"display: flex; flex-direction: column; width: 100%; border: 2px solid #bbb;\">\n",
       "        <!-- Header Row -->\n",
       "        <div style=\"display: flex; font-weight: bold; background: #d6d8db; padding: 8px; border-bottom: 2px solid #bbb;\">\n",
       "            <div style=\"width: 80px; text-align: center; border-right: 2px solid #bbb; display: flex; align-items: center; justify-content: center;\">Index</div>\n",
       "            <div style=\"width: 150px; text-align: center; border-right: 2px solid #bbb; display: flex; align-items: center; justify-content: center;\">Experiment ID</div>\n",
       "            <div style=\"flex: 1; text-align: center;\">Writeup</div>\n",
       "        </div>\n",
       "\n",
       "        <!-- Data Row -->\n",
       "        <div style=\"display: flex; padding: 8px; background: #f8f9fa;\">\n",
       "            <div style=\"width: 80px; text-align: center; border-right: 2px solid #ddd; font-weight: bold; display: flex; align-items: center; justify-content: center;\">\n",
       "                23\n",
       "            </div>\n",
       "            <div style=\"width: 150px; text-align: center; border-right: 2px solid #ddd; font-weight: bold; display: flex; align-items: center; justify-content: center;\">\n",
       "                159305\n",
       "            </div>\n",
       "            <div style=\"flex: 1; padding: 8px 12px; white-space: pre-wrap; overflow-wrap: break-word;\">\n",
       "                A 4 mL vial with septum containing 1-[Bis(dimethylamino)-methylene]-1H-1,2,3-triazolo[4,5-b]pyridinium 3-oxid hexafluorophosphate;HATU (70.0 mg, 0.18 mmol){{9:row 3}}_XXXXX_  was charged with DMF (1.5 mL){{3:row 1}}_XXXXX_  followed by Methoxyacetic acid (19.0 uL, 0.2 mmol){{9:row 4}}_XXXXX_ . The reaction mixture was stirred at RT for 15 min. The reaction mixture was then charged with (1S,3R)-3-amino-N-[4-(7-fluoro-3-isopropyl-2-methyl-indazol-5-yl)-5-methyl-2-pyridyl]cyclohexanecarboxamide;trihydrochloride (45.0 mg, 0.08 mmol){{9:row 1}}_XXXXX_   followed by Triethylamine;TEA (100.0 uL, 0.72 mmol){{9:row 2}}_XXXXX_ . The mixture was sonicated for 10 s and stirred at RT for 2 h.The reaction mixture was diluted with water and MeOH, filtered through 0.45 um PTFE, and purified by prep-HPLCMS (5 μm 10x3 cm Luna C18, 25&rarr;40% MeCN in H2O (0.1% TFA), wet-loaded). Bad peak shape due to consumption of TFA buffer by the excess Et3N. Fractions containing pure product were combined and lyophilized to yield 99.0% pure (1S,3R)-N-[4-(7-fluoro-3-isopropyl-2-methyl-indazol-5-yl)-5-methyl-2-pyridyl]-3-[(2-methoxyacetyl)amino]cyclohexanecarboxamide;2,2,2-trifluoroacetic acid (2 mg, 0.00275 mmol, 3.2534% yield){{2:row 1}}_XXXXX_ , RAL005-96-1, as a light-yellow solid. NMR analysis showed this material to contain some TFA-derived impurities.   The material was further purified by FCC (12 g SiO2, 0&rarr;75% EtOAc in DCM, then 0&rarr;4% MeOH in DCM, wet-loaded in DCM). Fractions containing the desired product were combined, concentrated, and co-evaporated with DCM to a white foam + film. The material was then scratched to a white powder and dried under high-vacuum. NMR analysis (RAL005-96-2 QC files) showed the material to contain less than 1 mol% TFA, 3 mol% DCM, and 7 mol% EtOAc.   The material was mostly dissolved in 3 mL MeCN and 1 mL H2O, and lyophilized to yield pure (1S,3R)-N-[4-(7-fluoro-3-isopropyl-2-methyl-indazol-5-yl)-5-methyl-2-pyridyl]-3-[(2-methoxyacetyl)amino]cyclohexanecarboxamide (19 mg, 0.03834 mmol, 45.402% yield){{2:row 2}}_XXXXX_  as a white lyophilate. (RAL005-96-2B QC files).  Found 496.2 1H 19F RAL005-96-2B 1H NMR (500 MHz, Acetonitrile-d3) δ 8.58 (s, 1H), 8.16 (s, 1H), 8.05 (s, 1H), 7.58 (d, J = 1.3 Hz, 1H), 6.93 (dd, J = 1.3, 12.5 Hz, 1H), 6.69 (d, J = 8.6 Hz, 1H), 4.15 (s, 3H), 3.85 – 3.76 (m, 1H), 3.77 (s, 2H), 3.53 (hept, J = 7.1 Hz, 1H), 3.34 (s, 3H), 2.55 (tt, J = 3.1, 11.8 Hz, 1H), 2.22 (s, 3H), 2.03 (dp, J = 2.4, 12.4 Hz, 1H), 1.89 – 1.79 (m, 3H), 1.47 (d, J = 7.0 Hz, 6H), 1.46 – 1.34 (m, 3H), 1.24 (qd, J = 4.1, 12.1, 12.8 Hz, 1H). 19F NMR (470 MHz, Acetonitrile-d3) δ -127.10 (d, J = 12.6 Hz).   based on Rupa's prep belowTo Triethylamine;TEA (0.01 mL, 0.04 mmol) in DMF (0.50 mL) was added the 1-[Bis(dimethylamino)-methylene]-1H-1,2,3-triazolo[4,5-b]pyridinium 3-oxid hexafluorophosphate;HATU (7.72 mg, 0.02 mmol) and and stirred for 30 mins. To the reaction was added the (1S,3R)-3-amino-N-[5-chloro-4-(7-fluoro-3-isopropyl-2-methyl-indazol-5-yl)-2-pyridyl]cyclohexanecarboxamide;trihydrochloride (11.24 mg, 0.02 mmol) and stirred for 16 h. The reaction was quenched with water, extracted with ethyl acetate, and the organic layer separated. The organic layer was washed with water, brine, dried over sodium sulfate, filtered and concentrated. The crude was purified by silica gel chromatography using 0-30% EtOAc  in DCM to give (1S,3R)-N-[5-chloro-4-(7-fluoro-3-isopropyl-2-methyl-indazol-5-yl)-2-pyridyl]-3-(propanoylamino)cyclohexanecarboxamide;2,2,2-trifluoroacetic acid (<span style='background-color: yellow; color: black;'>?</span> mg, <span style='background-color: yellow; color: black;'>?</span> mmol, <span style='background-color: yellow; color: black;'>?</span>% yield).\n",
       "            </div>\n",
       "        </div>\n",
       "    </div>\n",
       "    </div>"
      ],
      "text/plain": [
       "<IPython.core.display.HTML object>"
      ]
     },
     "metadata": {},
     "output_type": "display_data"
    },
    {
     "data": {
      "text/html": [
       "<div style='margin: 10px 0; width: 100%; display: flex; border: 1px solid #ddd; border-radius: 4px; background: #f8f9fa;'>\n",
       "    <div style=\"display: flex; flex-direction: column; width: 100%; border: 2px solid #bbb;\">\n",
       "        <!-- Header Row -->\n",
       "        <div style=\"display: flex; font-weight: bold; background: #d6d8db; padding: 8px; border-bottom: 2px solid #bbb;\">\n",
       "            <div style=\"width: 80px; text-align: center; border-right: 2px solid #bbb; display: flex; align-items: center; justify-content: center;\">Index</div>\n",
       "            <div style=\"width: 150px; text-align: center; border-right: 2px solid #bbb; display: flex; align-items: center; justify-content: center;\">Experiment ID</div>\n",
       "            <div style=\"flex: 1; text-align: center;\">Writeup</div>\n",
       "        </div>\n",
       "\n",
       "        <!-- Data Row -->\n",
       "        <div style=\"display: flex; padding: 8px; background: #f8f9fa;\">\n",
       "            <div style=\"width: 80px; text-align: center; border-right: 2px solid #ddd; font-weight: bold; display: flex; align-items: center; justify-content: center;\">\n",
       "                24\n",
       "            </div>\n",
       "            <div style=\"width: 150px; text-align: center; border-right: 2px solid #ddd; font-weight: bold; display: flex; align-items: center; justify-content: center;\">\n",
       "                159568\n",
       "            </div>\n",
       "            <div style=\"flex: 1; padding: 8px 12px; white-space: pre-wrap; overflow-wrap: break-word;\">\n",
       "                 A 4 mL vial with septum containing a stock solution of 1-[Bis(dimethylamino)-methylene]-1H-1,2,3-triazolo[4,5-b]pyridinium 3-oxid hexafluorophosphate;HATU (68.72 mg, 0.18 mmol){{9:row 3}}_XXXXX_  in DMF (0.15 mL){{3:row 1}}_XXXXX_  was charged with Methoxyacetic acid (16.78 uL, 0.18 mmol){{9:row 4}}_XXXXX_  followed by Triethylamine;TEA (50.38 uL, 0.36 mmol){{9:row 2}}_XXXXX_ . The reaction mixture was stirred at RT for 15 min. The reaction mixture was then charged with a stock solution of (1S,3R)-3-amino-N-[5-chloro-4-(7-fluoro-3-isopropyl-2-methyl-indazol-5-yl)-2-pyridyl]cyclohexanecarboxamide;trihydrochloride; (50.0 mg, 0.09 mmol){{9:row 1}}_XXXXX_  in DMF (0.15 mL){{3:row 2}}_XXXXX_  and stirred at RT for 3 h. The reaction mixture was diluted with water and MeOH, filtered through 0.45 um PTFE, and purified by prep-HPLCMS (5 μm 10x3 cm Luna C18, 40&rarr;55% MeCN in H2O (0.1% TFA), wet-loaded). Fractions containing pure product were combined and lyophilized to yield 99.0% pure (1S,3R)-N-[5-chloro-4-(7-fluoro-3-isopropyl-2-methyl-indazol-5-yl)-2-pyridyl]-3-[(2-methoxyacetyl)amino]cyclohexanecarboxamide (<span style='background-color: yellow; color: black;'>?</span> mg, <span style='background-color: yellow; color: black;'>?</span> mmol, <span style='background-color: yellow; color: black;'>?</span>% yield){{2:row 1}}_XXXXX_  as a light-yellow solid. Found 516.3/518.3 prd:tfa ratio estimated at 1:2. based on Rupa's prep belowTo Triethylamine;TEA (0.01 mL, 0.04 mmol) in DMF (0.50 mL) was added the 1-[Bis(dimethylamino)-methylene]-1H-1,2,3-triazolo[4,5-b]pyridinium 3-oxid hexafluorophosphate;HATU (7.72 mg, 0.02 mmol) and and stirred for 30 mins. To the reaction was added the (1S,3R)-3-amino-N-[5-chloro-4-(7-fluoro-3-isopropyl-2-methyl-indazol-5-yl)-2-pyridyl]cyclohexanecarboxamide;trihydrochloride (11.24 mg, 0.02 mmol) and stirred for 16 h. The reaction was quenched with water, extracted with ethyl acetate, and the organic layer separated. The organic layer was washed with water, brine, dried over sodium sulfate, filtered and concentrated. The crude was purified by silica gel chromatography using 0-30% EtOAc  in DCM to give (1S,3R)-N-[5-chloro-4-(7-fluoro-3-isopropyl-2-methyl-indazol-5-yl)-2-pyridyl]-3-(propanoylamino)cyclohexanecarboxamide;2,2,2-trifluoroacetic acid (<span style='background-color: yellow; color: black;'>?</span> mg, <span style='background-color: yellow; color: black;'>?</span> mmol, <span style='background-color: yellow; color: black;'>?</span>% yield).\n",
       "            </div>\n",
       "        </div>\n",
       "    </div>\n",
       "    </div>"
      ],
      "text/plain": [
       "<IPython.core.display.HTML object>"
      ]
     },
     "metadata": {},
     "output_type": "display_data"
    },
    {
     "data": {
      "text/html": [
       "<div style='margin: 10px 0; width: 100%; display: flex; border: 1px solid #ddd; border-radius: 4px; background: #f8f9fa;'>\n",
       "    <div style=\"display: flex; flex-direction: column; width: 100%; border: 2px solid #bbb;\">\n",
       "        <!-- Header Row -->\n",
       "        <div style=\"display: flex; font-weight: bold; background: #d6d8db; padding: 8px; border-bottom: 2px solid #bbb;\">\n",
       "            <div style=\"width: 80px; text-align: center; border-right: 2px solid #bbb; display: flex; align-items: center; justify-content: center;\">Index</div>\n",
       "            <div style=\"width: 150px; text-align: center; border-right: 2px solid #bbb; display: flex; align-items: center; justify-content: center;\">Experiment ID</div>\n",
       "            <div style=\"flex: 1; text-align: center;\">Writeup</div>\n",
       "        </div>\n",
       "\n",
       "        <!-- Data Row -->\n",
       "        <div style=\"display: flex; padding: 8px; background: #f8f9fa;\">\n",
       "            <div style=\"width: 80px; text-align: center; border-right: 2px solid #ddd; font-weight: bold; display: flex; align-items: center; justify-content: center;\">\n",
       "                25\n",
       "            </div>\n",
       "            <div style=\"width: 150px; text-align: center; border-right: 2px solid #ddd; font-weight: bold; display: flex; align-items: center; justify-content: center;\">\n",
       "                159826\n",
       "            </div>\n",
       "            <div style=\"flex: 1; padding: 8px 12px; white-space: pre-wrap; overflow-wrap: break-word;\">\n",
       "                To a solution of 2-vinyloxirane (27.0 mL, 335.14 mmol){{9:row 1}}_XXXXX_  was combined epoxide 30% methylamine solution  in water (67.11 mL, 647.65 mmol){{9:row 2}}_XXXXX_ . The reaction vessel fitted with a stirbar,and heated at 65 °C{{8:row 1}}_XXXXX_  for 16 h . Then the reaction mixture was concentrated under vacuo to give crude mixture(34 g) of 1-(methylamino)but-3-en-2-ol (<span style='background-color: yellow; color: black;'>?</span> g, <span style='background-color: yellow; color: black;'>?</span> mmol, <span style='background-color: yellow; color: black;'>?</span>% yield) and 2-(methylamino)but-3-en-1-ol (<span style='background-color: yellow; color: black;'>?</span> g, <span style='background-color: yellow; color: black;'>?</span> mmol, <span style='background-color: yellow; color: black;'>?</span>% yield) as sticky yellow oil which was used for next step without further purification .    \n",
       "            </div>\n",
       "        </div>\n",
       "    </div>\n",
       "    </div>"
      ],
      "text/plain": [
       "<IPython.core.display.HTML object>"
      ]
     },
     "metadata": {},
     "output_type": "display_data"
    },
    {
     "data": {
      "text/html": [
       "<div style='margin: 10px 0; width: 100%; display: flex; border: 1px solid #ddd; border-radius: 4px; background: #f8f9fa;'>\n",
       "    <div style=\"display: flex; flex-direction: column; width: 100%; border: 2px solid #bbb;\">\n",
       "        <!-- Header Row -->\n",
       "        <div style=\"display: flex; font-weight: bold; background: #d6d8db; padding: 8px; border-bottom: 2px solid #bbb;\">\n",
       "            <div style=\"width: 80px; text-align: center; border-right: 2px solid #bbb; display: flex; align-items: center; justify-content: center;\">Index</div>\n",
       "            <div style=\"width: 150px; text-align: center; border-right: 2px solid #bbb; display: flex; align-items: center; justify-content: center;\">Experiment ID</div>\n",
       "            <div style=\"flex: 1; text-align: center;\">Writeup</div>\n",
       "        </div>\n",
       "\n",
       "        <!-- Data Row -->\n",
       "        <div style=\"display: flex; padding: 8px; background: #f8f9fa;\">\n",
       "            <div style=\"width: 80px; text-align: center; border-right: 2px solid #ddd; font-weight: bold; display: flex; align-items: center; justify-content: center;\">\n",
       "                26\n",
       "            </div>\n",
       "            <div style=\"width: 150px; text-align: center; border-right: 2px solid #ddd; font-weight: bold; display: flex; align-items: center; justify-content: center;\">\n",
       "                160317\n",
       "            </div>\n",
       "            <div style=\"flex: 1; padding: 8px 12px; white-space: pre-wrap; overflow-wrap: break-word;\">\n",
       "                A 4 mL vial with septum containing (1S,3R)-3-amino-N-[4-(7-fluoro-3-isopropyl-2-methyl-indazol-5-yl)-5-methyl-2-pyridyl]cyclohexanecarboxamide;trihydrochloride (4.8 mg, 0.01 mmol){{9:row 1}}_XXXXX_  in DMF (200 uL){{3:row 1}}_XXXXX_  and Triethylamine;TEA (8.0 uL, 0.06 mmol){{9:row 2}}_XXXXX_  was charged with acetic anhydride (2.0 uL, 0.02 mmol){{9:row 3}}_XXXXX_ . The reaction mixture was stirred at 40 °C{{8:row 1}}_XXXXX_  for 1 h.The reaction mixture was concentrated under vacuum to remove excess Et3N, diluted with water and MeOH, filtered through 0.45 um PTFE, and purified by prep-HPLCMS (5 μm 10x3 cm Luna C18, 25&rarr;37% MeCN in H2O (0.1% TFA), wet-loaded). Fractions containing pure product were combined and lyophilized to yield 99.6% pure (1S,3R)-3-acetamido-N-[4-(7-fluoro-3-isopropyl-2-methyl-indazol-5-yl)-5-methyl-2-pyridyl]cyclohexanecarboxamide;bis(2,2,2-trifluoroacetic acid) (3.7 mg, 0.00531 mmol, 58.987% yield){{2:row 1}}_XXXXX_ , as a light-yellow lyophilate.  LCMS Found: 466.2   based on Rupa's prep belowTo Triethylamine;TEA (0.01 mL, 0.04 mmol) in DMF (0.50 mL) was added the 1-[Bis(dimethylamino)-methylene]-1H-1,2,3-triazolo[4,5-b]pyridinium 3-oxid hexafluorophosphate;HATU (7.72 mg, 0.02 mmol) and and stirred for 30 mins. To the reaction was added the (1S,3R)-3-amino-N-[5-chloro-4-(7-fluoro-3-isopropyl-2-methyl-indazol-5-yl)-2-pyridyl]cyclohexanecarboxamide;trihydrochloride (11.24 mg, 0.02 mmol) and stirred for 16 h. The reaction was quenched with water, extracted with ethyl acetate, and the organic layer separated. The organic layer was washed with water, brine, dried over sodium sulfate, filtered and concentrated. The crude was purified by silica gel chromatography using 0-30% EtOAc  in DCM to give (1S,3R)-N-[5-chloro-4-(7-fluoro-3-isopropyl-2-methyl-indazol-5-yl)-2-pyridyl]-3-(propanoylamino)cyclohexanecarboxamide;2,2,2-trifluoroacetic acid (<span style='background-color: yellow; color: black;'>?</span> mg, <span style='background-color: yellow; color: black;'>?</span> mmol, <span style='background-color: yellow; color: black;'>?</span>% yield).\n",
       "            </div>\n",
       "        </div>\n",
       "    </div>\n",
       "    </div>"
      ],
      "text/plain": [
       "<IPython.core.display.HTML object>"
      ]
     },
     "metadata": {},
     "output_type": "display_data"
    },
    {
     "data": {
      "text/html": [
       "<div style='margin: 10px 0; width: 100%; display: flex; border: 1px solid #ddd; border-radius: 4px; background: #f8f9fa;'>\n",
       "    <div style=\"display: flex; flex-direction: column; width: 100%; border: 2px solid #bbb;\">\n",
       "        <!-- Header Row -->\n",
       "        <div style=\"display: flex; font-weight: bold; background: #d6d8db; padding: 8px; border-bottom: 2px solid #bbb;\">\n",
       "            <div style=\"width: 80px; text-align: center; border-right: 2px solid #bbb; display: flex; align-items: center; justify-content: center;\">Index</div>\n",
       "            <div style=\"width: 150px; text-align: center; border-right: 2px solid #bbb; display: flex; align-items: center; justify-content: center;\">Experiment ID</div>\n",
       "            <div style=\"flex: 1; text-align: center;\">Writeup</div>\n",
       "        </div>\n",
       "\n",
       "        <!-- Data Row -->\n",
       "        <div style=\"display: flex; padding: 8px; background: #f8f9fa;\">\n",
       "            <div style=\"width: 80px; text-align: center; border-right: 2px solid #ddd; font-weight: bold; display: flex; align-items: center; justify-content: center;\">\n",
       "                27\n",
       "            </div>\n",
       "            <div style=\"width: 150px; text-align: center; border-right: 2px solid #ddd; font-weight: bold; display: flex; align-items: center; justify-content: center;\">\n",
       "                160324\n",
       "            </div>\n",
       "            <div style=\"flex: 1; padding: 8px 12px; white-space: pre-wrap; overflow-wrap: break-word;\">\n",
       "                A 4 mL vial with septum containing cis-3-Hydroxycyclobutanecarboxylic acid (2.6 mg, 0.02 mmol){{9:row 4}}_XXXXX_  was charged with a solution of 1-[Bis(dimethylamino)-methylene]-1H-1,2,3-triazolo[4,5-b]pyridinium 3-oxid hexafluorophosphate;HATU (8.0 mg, 0.02 mmol){{9:row 3}}_XXXXX_  in DMF (100 uL){{3:row 1}}_XXXXX_  and Triethylamine;TEA (8.0 uL, 0.06 mmol){{9:row 2}}_XXXXX_ . The reaction mixture was stirred at RT for 5 min. The reaction mixture was then charged with (1S,3R)-3-amino-N-[4-(7-fluoro-3-isopropyl-2-methyl-indazol-5-yl)-5-methyl-2-pyridyl]cyclohexanecarboxamide;trihydrochloride (4.8 mg, 0.01 mmol){{9:row 1}}_XXXXX_  as a solution in DMF (100 uL){{3:row 2}}_XXXXX_ . The mixture was sonicated for 10 s and stirred at 40 °C{{8:row 1}}_XXXXX_  for 1 h.The reaction mixture was concentrated under vacuum to remove excess Et3N, diluted with water and MeOH, filtered through 0.45 um PTFE, and purified by prep-HPLCMS (5 μm 10x3 cm Luna C18, 25&rarr;40% MeCN in H2O (0.1% TFA), wet-loaded). Fractions containing mostly pure product were combined and lyophilized to yield 95.7% pure (1S,3R)-N-[4-(7-fluoro-3-isopropyl-2-methyl-indazol-5-yl)-5-methyl-2-pyridyl]-3-[(3-hydroxycyclobutanecarbonyl)amino]cyclohexanecarboxamide;bis(2,2,2-trifluoroacetic acid) (2.6 mg, 0.00332 mmol, 36.849% yield){{2:row 1}}_XXXXX_ , as a light-yellow solid.  LCMS Found: 522.3 impurity: 618.2   based on Rupa's prep belowTo Triethylamine;TEA (0.01 mL, 0.04 mmol) in DMF (0.50 mL) was added the 1-[Bis(dimethylamino)-methylene]-1H-1,2,3-triazolo[4,5-b]pyridinium 3-oxid hexafluorophosphate;HATU (7.72 mg, 0.02 mmol) and and stirred for 30 mins. To the reaction was added the (1S,3R)-3-amino-N-[5-chloro-4-(7-fluoro-3-isopropyl-2-methyl-indazol-5-yl)-2-pyridyl]cyclohexanecarboxamide;trihydrochloride (11.24 mg, 0.02 mmol) and stirred for 16 h. The reaction was quenched with water, extracted with ethyl acetate, and the organic layer separated. The organic layer was washed with water, brine, dried over sodium sulfate, filtered and concentrated. The crude was purified by silica gel chromatography using 0-30% EtOAc  in DCM to give (1S,3R)-N-[5-chloro-4-(7-fluoro-3-isopropyl-2-methyl-indazol-5-yl)-2-pyridyl]-3-(propanoylamino)cyclohexanecarboxamide;2,2,2-trifluoroacetic acid (<span style='background-color: yellow; color: black;'>?</span> mg, <span style='background-color: yellow; color: black;'>?</span> mmol, <span style='background-color: yellow; color: black;'>?</span>% yield).\n",
       "            </div>\n",
       "        </div>\n",
       "    </div>\n",
       "    </div>"
      ],
      "text/plain": [
       "<IPython.core.display.HTML object>"
      ]
     },
     "metadata": {},
     "output_type": "display_data"
    },
    {
     "data": {
      "text/html": [
       "<div style='margin: 10px 0; width: 100%; display: flex; border: 1px solid #ddd; border-radius: 4px; background: #f8f9fa;'>\n",
       "    <div style=\"display: flex; flex-direction: column; width: 100%; border: 2px solid #bbb;\">\n",
       "        <!-- Header Row -->\n",
       "        <div style=\"display: flex; font-weight: bold; background: #d6d8db; padding: 8px; border-bottom: 2px solid #bbb;\">\n",
       "            <div style=\"width: 80px; text-align: center; border-right: 2px solid #bbb; display: flex; align-items: center; justify-content: center;\">Index</div>\n",
       "            <div style=\"width: 150px; text-align: center; border-right: 2px solid #bbb; display: flex; align-items: center; justify-content: center;\">Experiment ID</div>\n",
       "            <div style=\"flex: 1; text-align: center;\">Writeup</div>\n",
       "        </div>\n",
       "\n",
       "        <!-- Data Row -->\n",
       "        <div style=\"display: flex; padding: 8px; background: #f8f9fa;\">\n",
       "            <div style=\"width: 80px; text-align: center; border-right: 2px solid #ddd; font-weight: bold; display: flex; align-items: center; justify-content: center;\">\n",
       "                28\n",
       "            </div>\n",
       "            <div style=\"width: 150px; text-align: center; border-right: 2px solid #ddd; font-weight: bold; display: flex; align-items: center; justify-content: center;\">\n",
       "                160325\n",
       "            </div>\n",
       "            <div style=\"flex: 1; padding: 8px 12px; white-space: pre-wrap; overflow-wrap: break-word;\">\n",
       "                A 4 mL vial with septum containing 1-[Bis(dimethylamino)-methylene]-1H-1,2,3-triazolo[4,5-b]pyridinium 3-oxid hexafluorophosphate;HATU (8.0 mg, 0.02 mmol){{9:row 3}}_XXXXX_  in DMF (100 uL){{3:row 1}}_XXXXX_  and Triethylamine;TEA (8.0 uL, 0.06 mmol){{9:row 2}}_XXXXX_  was charged with tetrahydrofuran-2-carboxylic acid (2.2 uL, 0.02 mmol){{9:row 4}}_XXXXX_ . The reaction mixture was stirred at RT for 15 min. The reaction mixture was then charged with (1S,3R)-3-amino-N-[4-(7-fluoro-3-isopropyl-2-methyl-indazol-5-yl)-5-methyl-2-pyridyl]cyclohexanecarboxamide;trihydrochloride (4.8 mg, 0.01 mmol){{9:row 1}}_XXXXX_ . The mixture was sonicated for 10 s and stirred at 40 °C{{8:row 1}}_XXXXX_  for 1 h.The reaction mixture was concentrated under vacuum to remove excess Et3N, diluted with water and MeOH, filtered through 0.45 um PTFE, and purified by prep-HPLCMS (5 μm 10x3 cm Luna C18, 25&rarr;40% MeCN in H2O (0.1% TFA), wet-loaded). Fractions containing pure product were combined and lyophilized to yield 98.9% pure N-[(1R,3S)-3-[[4-(7-fluoro-3-isopropyl-2-methyl-indazol-5-yl)-5-methyl-2-pyridyl]carbamoyl]cyclohexyl]tetrahydrofuran-2-carboxamide;bis(2,2,2-trifluoroacetic acid) (3 mg, 0.00396 mmol, 43.94% yield){{2:row 1}}_XXXXX_ , as a light-yellow solid, and as a mixture of diastereomers at the THF stereocenter.. LCMS Found: 522.2  based on Rupa's prep belowTo Triethylamine;TEA (0.01 mL, 0.04 mmol) in DMF (0.50 mL) was added the 1-[Bis(dimethylamino)-methylene]-1H-1,2,3-triazolo[4,5-b]pyridinium 3-oxid hexafluorophosphate;HATU (7.72 mg, 0.02 mmol) and and stirred for 30 mins. To the reaction was added the (1S,3R)-3-amino-N-[5-chloro-4-(7-fluoro-3-isopropyl-2-methyl-indazol-5-yl)-2-pyridyl]cyclohexanecarboxamide;trihydrochloride (11.24 mg, 0.02 mmol) and stirred for 16 h. The reaction was quenched with water, extracted with ethyl acetate, and the organic layer separated. The organic layer was washed with water, brine, dried over sodium sulfate, filtered and concentrated. The crude was purified by silica gel chromatography using 0-30% EtOAc  in DCM to give (1S,3R)-N-[5-chloro-4-(7-fluoro-3-isopropyl-2-methyl-indazol-5-yl)-2-pyridyl]-3-(propanoylamino)cyclohexanecarboxamide;2,2,2-trifluoroacetic acid (<span style='background-color: yellow; color: black;'>?</span> mg, <span style='background-color: yellow; color: black;'>?</span> mmol, <span style='background-color: yellow; color: black;'>?</span>% yield).\n",
       "            </div>\n",
       "        </div>\n",
       "    </div>\n",
       "    </div>"
      ],
      "text/plain": [
       "<IPython.core.display.HTML object>"
      ]
     },
     "metadata": {},
     "output_type": "display_data"
    },
    {
     "data": {
      "text/html": [
       "<div style='margin: 10px 0; width: 100%; display: flex; border: 1px solid #ddd; border-radius: 4px; background: #f8f9fa;'>\n",
       "    <div style=\"display: flex; flex-direction: column; width: 100%; border: 2px solid #bbb;\">\n",
       "        <!-- Header Row -->\n",
       "        <div style=\"display: flex; font-weight: bold; background: #d6d8db; padding: 8px; border-bottom: 2px solid #bbb;\">\n",
       "            <div style=\"width: 80px; text-align: center; border-right: 2px solid #bbb; display: flex; align-items: center; justify-content: center;\">Index</div>\n",
       "            <div style=\"width: 150px; text-align: center; border-right: 2px solid #bbb; display: flex; align-items: center; justify-content: center;\">Experiment ID</div>\n",
       "            <div style=\"flex: 1; text-align: center;\">Writeup</div>\n",
       "        </div>\n",
       "\n",
       "        <!-- Data Row -->\n",
       "        <div style=\"display: flex; padding: 8px; background: #f8f9fa;\">\n",
       "            <div style=\"width: 80px; text-align: center; border-right: 2px solid #ddd; font-weight: bold; display: flex; align-items: center; justify-content: center;\">\n",
       "                29\n",
       "            </div>\n",
       "            <div style=\"width: 150px; text-align: center; border-right: 2px solid #ddd; font-weight: bold; display: flex; align-items: center; justify-content: center;\">\n",
       "                160326\n",
       "            </div>\n",
       "            <div style=\"flex: 1; padding: 8px 12px; white-space: pre-wrap; overflow-wrap: break-word;\">\n",
       "                A 4 mL vial with septum containing 1-[Bis(dimethylamino)-methylene]-1H-1,2,3-triazolo[4,5-b]pyridinium 3-oxid hexafluorophosphate;HATU (8.0 mg, 0.02 mmol){{9:row 3}}_XXXXX_  was charged with DMF (100 uL){{3:row 1}}_XXXXX_  and Triethylamine;TEA (8.0 uL, 0.06 mmol){{9:row 2}}_XXXXX_  followed by 1-fluorocyclopropane-1-carboxylic acid (2.5 mg, 0.02 mmol){{9:row 4}}_XXXXX_ . The reaction mixture was stirred at RT for 15 min. The reaction mixture was then charged with a solution of (1S,3R)-3-amino-N-[4-(7-fluoro-3-isopropyl-2-methyl-indazol-5-yl)-5-methyl-2-pyridyl]cyclohexanecarboxamide;trihydrochloride (4.8 mg, 0.01 mmol){{9:row 1}}_XXXXX_  in DMF (100 uL){{3:row 2}}_XXXXX_ . The mixture was sonicated for 10 s and stirred at 40 °C{{8:row 1}}_XXXXX_  for 1 h.The reaction mixture was concentrated under vacuum to remove excess Et3N, diluted with water and MeOH, filtered through 0.45 um PTFE, and purified by prep-HPLCMS (5 μm 10x3 cm Luna C18, 30&rarr;45% MeCN in H2O (0.1% TFA), wet-loaded). Fractions containing pure product were combined and lyophilized to yield 98.5% pure (1S,3R)-3-[(1-fluorocyclopropanecarbonyl)amino]-N-[4-(7-fluoro-3-isopropyl-2-methyl-indazol-5-yl)-5-methyl-2-pyridyl]cyclohexanecarboxamide;bis(2,2,2-trifluoroacetic acid) (2 mg, 0.00267 mmol, 29.651% yield){{2:row 1}}_XXXXX_ , as a light-yellow lyophilate.LCMS Found: 510.2   based on Rupa's prep belowTo Triethylamine;TEA (0.01 mL, 0.04 mmol) in DMF (0.50 mL) was added the 1-[Bis(dimethylamino)-methylene]-1H-1,2,3-triazolo[4,5-b]pyridinium 3-oxid hexafluorophosphate;HATU (7.72 mg, 0.02 mmol) and and stirred for 30 mins. To the reaction was added the (1S,3R)-3-amino-N-[5-chloro-4-(7-fluoro-3-isopropyl-2-methyl-indazol-5-yl)-2-pyridyl]cyclohexanecarboxamide;trihydrochloride (11.24 mg, 0.02 mmol) and stirred for 16 h. The reaction was quenched with water, extracted with ethyl acetate, and the organic layer separated. The organic layer was washed with water, brine, dried over sodium sulfate, filtered and concentrated. The crude was purified by silica gel chromatography using 0-30% EtOAc  in DCM to give (1S,3R)-N-[5-chloro-4-(7-fluoro-3-isopropyl-2-methyl-indazol-5-yl)-2-pyridyl]-3-(propanoylamino)cyclohexanecarboxamide;2,2,2-trifluoroacetic acid (<span style='background-color: yellow; color: black;'>?</span> mg, <span style='background-color: yellow; color: black;'>?</span> mmol, <span style='background-color: yellow; color: black;'>?</span>% yield).\n",
       "            </div>\n",
       "        </div>\n",
       "    </div>\n",
       "    </div>"
      ],
      "text/plain": [
       "<IPython.core.display.HTML object>"
      ]
     },
     "metadata": {},
     "output_type": "display_data"
    },
    {
     "data": {
      "text/html": [
       "<div style='margin: 10px 0; width: 100%; display: flex; border: 1px solid #ddd; border-radius: 4px; background: #f8f9fa;'>\n",
       "    <div style=\"display: flex; flex-direction: column; width: 100%; border: 2px solid #bbb;\">\n",
       "        <!-- Header Row -->\n",
       "        <div style=\"display: flex; font-weight: bold; background: #d6d8db; padding: 8px; border-bottom: 2px solid #bbb;\">\n",
       "            <div style=\"width: 80px; text-align: center; border-right: 2px solid #bbb; display: flex; align-items: center; justify-content: center;\">Index</div>\n",
       "            <div style=\"width: 150px; text-align: center; border-right: 2px solid #bbb; display: flex; align-items: center; justify-content: center;\">Experiment ID</div>\n",
       "            <div style=\"flex: 1; text-align: center;\">Writeup</div>\n",
       "        </div>\n",
       "\n",
       "        <!-- Data Row -->\n",
       "        <div style=\"display: flex; padding: 8px; background: #f8f9fa;\">\n",
       "            <div style=\"width: 80px; text-align: center; border-right: 2px solid #ddd; font-weight: bold; display: flex; align-items: center; justify-content: center;\">\n",
       "                30\n",
       "            </div>\n",
       "            <div style=\"width: 150px; text-align: center; border-right: 2px solid #ddd; font-weight: bold; display: flex; align-items: center; justify-content: center;\">\n",
       "                160826\n",
       "            </div>\n",
       "            <div style=\"flex: 1; padding: 8px 12px; white-space: pre-wrap; overflow-wrap: break-word;\">\n",
       "                To a solution of 2-vinyloxirane (30.0 mL, 372.38 mmol){{9:row 1}}_XXXXX_  was combined epoxide 30% methylamine solution  in water (74.57 mL, 719.61 mmol){{9:row 2}}_XXXXX_ . The reaction vessel fitted with a stirbar,and heated at 65 °C{{8:row 1}}_XXXXX_  for 16 h . Then the reaction mixture was concentrated under vacuo to give crude mixture(38 g) of 1-(methylamino)but-3-en-2-ol (<span style='background-color: yellow; color: black;'>?</span> g, <span style='background-color: yellow; color: black;'>?</span> mmol, <span style='background-color: yellow; color: black;'>?</span>% yield) and 2-(methylamino)but-3-en-1-ol (<span style='background-color: yellow; color: black;'>?</span> g, <span style='background-color: yellow; color: black;'>?</span> mmol, <span style='background-color: yellow; color: black;'>?</span>% yield) as sticky yellow oil which was used for next step without further purification .    \n",
       "            </div>\n",
       "        </div>\n",
       "    </div>\n",
       "    </div>"
      ],
      "text/plain": [
       "<IPython.core.display.HTML object>"
      ]
     },
     "metadata": {},
     "output_type": "display_data"
    },
    {
     "data": {
      "text/html": [
       "<div style='margin: 10px 0; width: 100%; display: flex; border: 1px solid #ddd; border-radius: 4px; background: #f8f9fa;'>\n",
       "    <div style=\"display: flex; flex-direction: column; width: 100%; border: 2px solid #bbb;\">\n",
       "        <!-- Header Row -->\n",
       "        <div style=\"display: flex; font-weight: bold; background: #d6d8db; padding: 8px; border-bottom: 2px solid #bbb;\">\n",
       "            <div style=\"width: 80px; text-align: center; border-right: 2px solid #bbb; display: flex; align-items: center; justify-content: center;\">Index</div>\n",
       "            <div style=\"width: 150px; text-align: center; border-right: 2px solid #bbb; display: flex; align-items: center; justify-content: center;\">Experiment ID</div>\n",
       "            <div style=\"flex: 1; text-align: center;\">Writeup</div>\n",
       "        </div>\n",
       "\n",
       "        <!-- Data Row -->\n",
       "        <div style=\"display: flex; padding: 8px; background: #f8f9fa;\">\n",
       "            <div style=\"width: 80px; text-align: center; border-right: 2px solid #ddd; font-weight: bold; display: flex; align-items: center; justify-content: center;\">\n",
       "                31\n",
       "            </div>\n",
       "            <div style=\"width: 150px; text-align: center; border-right: 2px solid #ddd; font-weight: bold; display: flex; align-items: center; justify-content: center;\">\n",
       "                160944\n",
       "            </div>\n",
       "            <div style=\"flex: 1; padding: 8px 12px; white-space: pre-wrap; overflow-wrap: break-word;\">\n",
       "                A 4 mL vial with septum containing 1-[Bis(dimethylamino)-methylene]-1H-1,2,3-triazolo[4,5-b]pyridinium 3-oxid hexafluorophosphate;HATU (54.23 mg, 0.14 mmol){{9:row 3}}_XXXXX_  and 1-fluorocyclopropane-1-carboxylic acid (16.41 mg, 0.16 mmol){{9:row 4}}_XXXXX_  was charged with DMF (1 mL){{3:row 1}}_XXXXX_  and Triethylamine;TEA (60.0 uL, 0.43 mmol){{9:row 2}}_XXXXX_ . The reaction mixture was stirred at RT for 15 min. The reaction mixture was then charged (1S,3R)-3-amino-N-[4-(7-fluoro-3-isopropyl-2-methyl-indazol-5-yl)-5-methyl-2-pyridyl]cyclohexanecarboxamide;trihydrochloride (40.0 mg, 0.08 mmol){{9:row 1}}_XXXXX_ . The mixture was sonicated for 10 s and stirred at 30 °C{{8:row 1}}_XXXXX_  for 20 min. The solution darkened from orange to brown.   LCMS analysis shows clean conversion.The reaction mixture was diluted with water and MeOH, filtered through 0.45 um PTFE, and purified by RP FCC (30 g C18, 5&rarr;70% MeCN in H2O (no TFA), wet-loaded). Fractions containing mostly product were combined and lyophilized to a light yellow lyophilate. The lyophilate was dissolved in DCM and repurified by FCC (12 g SiO2, 0&rarr;60% EtOAc in DCM, wet-loaded). Fraction containing mostly product were combined and concentrated to yield RAL006-23B as a clear film / white solids. This material was repurified by prep-HPLCMS (5 μm 10x3 cm Luna C18, 30&rarr;45% MeCN in H2O (0.1% TFA), wet-loaded in MeOH + DMSO). Fraction containing desired product were combined and lyophilized to yield 99.0% pure (1S,3R)-3-[(1-fluorocyclopropanecarbonyl)amino]-N-[4-(7-fluoro-3-isopropyl-2-methyl-indazol-5-yl)-5-methyl-2-pyridyl]cyclohexanecarboxamide;bis(2,2,2-trifluoroacetic acid) (12 mg, 0.01609 mmol, 21.435% yield){{2:row 1}}_XXXXX_  as a yellow lyophilate.   LCMS found 510.1.   1H NMR (500 MHz, DMSO-d6) δ 10.52 (s, 1H), 8.26 (d, J = 8.4 Hz, 1H), 8.23 (s, 1H), 7.98 (s, 1H), 7.62 (s, 1H), 7.05 (d, J = 12.3 Hz, 1H), 4.17 (s, 3H), 3.76 – 3.71 (m, 1H), 2.62 (t, J = 9.8 Hz, 1H), 2.22 (s, 3H), 1.90 – 1.66 (m, 4H), 1.53 (q, J = 12.2 Hz, 1H), 1.45 (d, J = 7.0 Hz, 6H), 1.38 – 1.25 (m, 4H), 1.25 – 1.20 (m, 1H), 1.19 – 1.11 (m, 2H). 19F NMR (470 MHz, DMSO-d6) δ -74.66 (s, 3.7 H), -129.17 (d, J = 12.3 Hz, 1 H), -195.81 (tt, J = 8.8, 18.5 Hz, 0.8 H).     based on Rupa's prep belowTo Triethylamine;TEA (0.01 mL, 0.04 mmol) in DMF (0.50 mL) was added the 1-[Bis(dimethylamino)-methylene]-1H-1,2,3-triazolo[4,5-b]pyridinium 3-oxid hexafluorophosphate;HATU (7.72 mg, 0.02 mmol) and and stirred for 30 mins. To the reaction was added the (1S,3R)-3-amino-N-[5-chloro-4-(7-fluoro-3-isopropyl-2-methyl-indazol-5-yl)-2-pyridyl]cyclohexanecarboxamide;trihydrochloride (11.24 mg, 0.02 mmol) and stirred for 16 h. The reaction was quenched with water, extracted with ethyl acetate, and the organic layer separated. The organic layer was washed with water, brine, dried over sodium sulfate, filtered and concentrated. The crude was purified by silica gel chromatography using 0-30% EtOAc  in DCM to give (1S,3R)-N-[5-chloro-4-(7-fluoro-3-isopropyl-2-methyl-indazol-5-yl)-2-pyridyl]-3-(propanoylamino)cyclohexanecarboxamide;2,2,2-trifluoroacetic acid (<span style='background-color: yellow; color: black;'>?</span> mg, <span style='background-color: yellow; color: black;'>?</span> mmol, <span style='background-color: yellow; color: black;'>?</span>% yield).\n",
       "            </div>\n",
       "        </div>\n",
       "    </div>\n",
       "    </div>"
      ],
      "text/plain": [
       "<IPython.core.display.HTML object>"
      ]
     },
     "metadata": {},
     "output_type": "display_data"
    },
    {
     "data": {
      "text/html": [
       "<div style='margin: 10px 0; width: 100%; display: flex; border: 1px solid #ddd; border-radius: 4px; background: #f8f9fa;'>\n",
       "    <div style=\"display: flex; flex-direction: column; width: 100%; border: 2px solid #bbb;\">\n",
       "        <!-- Header Row -->\n",
       "        <div style=\"display: flex; font-weight: bold; background: #d6d8db; padding: 8px; border-bottom: 2px solid #bbb;\">\n",
       "            <div style=\"width: 80px; text-align: center; border-right: 2px solid #bbb; display: flex; align-items: center; justify-content: center;\">Index</div>\n",
       "            <div style=\"width: 150px; text-align: center; border-right: 2px solid #bbb; display: flex; align-items: center; justify-content: center;\">Experiment ID</div>\n",
       "            <div style=\"flex: 1; text-align: center;\">Writeup</div>\n",
       "        </div>\n",
       "\n",
       "        <!-- Data Row -->\n",
       "        <div style=\"display: flex; padding: 8px; background: #f8f9fa;\">\n",
       "            <div style=\"width: 80px; text-align: center; border-right: 2px solid #ddd; font-weight: bold; display: flex; align-items: center; justify-content: center;\">\n",
       "                32\n",
       "            </div>\n",
       "            <div style=\"width: 150px; text-align: center; border-right: 2px solid #ddd; font-weight: bold; display: flex; align-items: center; justify-content: center;\">\n",
       "                160949\n",
       "            </div>\n",
       "            <div style=\"flex: 1; padding: 8px 12px; white-space: pre-wrap; overflow-wrap: break-word;\">\n",
       "                A 4 mL vial with septum containing 1-[Bis(dimethylamino)-methylene]-1H-1,2,3-triazolo[4,5-b]pyridinium 3-oxid hexafluorophosphate;HATU (9.0 mg, 0.02 mmol){{9:row 3}}_XXXXX_  was charged with DMF (200 uL){{3:row 1}}_XXXXX_  and Triethylamine;TEA (10.0 uL, 0.07 mmol){{9:row 2}}_XXXXX_  followed by 1-fluorocyclopropane-1-carboxylic acid (3.0 mg, 0.03 mmol){{9:row 4}}_XXXXX_ . The reaction mixture was stirred at RT for 15 min. The reaction mixture was then charged with a solution of (1S,3R)-3-amino-N-[5-chloro-4-(7-fluoro-3-isopropyl-2-methyl-indazol-5-yl)-2-pyridyl]cyclohexanecarboxamide;trihydrochloride (5.9 mg, 0.01 mmol){{9:row 1}}_XXXXX_  in . The mixture was sonicated for 10 s and stirred at RTfor 1 h.The reaction mixture was concentrated under vacuum to remove excess Et3N, diluted with water and MeOH, filtered through 0.45 um PTFE, and purified by prep-HPLCMS (5 μm 10x3 cm Luna C18, 30&rarr;45% MeCN in H2O (0.1% TFA), wet-loaded). Fractions containing pure product were combined and lyophilized to yield pure (1S,3R)-N-[5-chloro-4-(7-fluoro-3-isopropyl-2-methyl-indazol-5-yl)-2-pyridyl]-3-[(1-fluorocyclopropanecarbonyl)amino]cyclohexanecarboxamide;2,2,2-trifluoroacetic acid (4 mg, 0.00528 mmol, 49.487% yield){{2:row 1}}_XXXXX_ , as a light-yellow lyophilate.LCMS Found: 530.1/532.1   based on Rupa's prep belowTo Triethylamine;TEA (0.01 mL, 0.04 mmol) in DMF (0.50 mL) was added the 1-[Bis(dimethylamino)-methylene]-1H-1,2,3-triazolo[4,5-b]pyridinium 3-oxid hexafluorophosphate;HATU (7.72 mg, 0.02 mmol) and and stirred for 30 mins. To the reaction was added the (1S,3R)-3-amino-N-[5-chloro-4-(7-fluoro-3-isopropyl-2-methyl-indazol-5-yl)-2-pyridyl]cyclohexanecarboxamide;trihydrochloride (11.24 mg, 0.02 mmol) and stirred for 16 h. The reaction was quenched with water, extracted with ethyl acetate, and the organic layer separated. The organic layer was washed with water, brine, dried over sodium sulfate, filtered and concentrated. The crude was purified by silica gel chromatography using 0-30% EtOAc  in DCM to give (1S,3R)-N-[5-chloro-4-(7-fluoro-3-isopropyl-2-methyl-indazol-5-yl)-2-pyridyl]-3-(propanoylamino)cyclohexanecarboxamide;2,2,2-trifluoroacetic acid (<span style='background-color: yellow; color: black;'>?</span> mg, <span style='background-color: yellow; color: black;'>?</span> mmol, <span style='background-color: yellow; color: black;'>?</span>% yield).\n",
       "            </div>\n",
       "        </div>\n",
       "    </div>\n",
       "    </div>"
      ],
      "text/plain": [
       "<IPython.core.display.HTML object>"
      ]
     },
     "metadata": {},
     "output_type": "display_data"
    },
    {
     "data": {
      "text/html": [
       "<div style='margin: 10px 0; width: 100%; display: flex; border: 1px solid #ddd; border-radius: 4px; background: #f8f9fa;'>\n",
       "    <div style=\"display: flex; flex-direction: column; width: 100%; border: 2px solid #bbb;\">\n",
       "        <!-- Header Row -->\n",
       "        <div style=\"display: flex; font-weight: bold; background: #d6d8db; padding: 8px; border-bottom: 2px solid #bbb;\">\n",
       "            <div style=\"width: 80px; text-align: center; border-right: 2px solid #bbb; display: flex; align-items: center; justify-content: center;\">Index</div>\n",
       "            <div style=\"width: 150px; text-align: center; border-right: 2px solid #bbb; display: flex; align-items: center; justify-content: center;\">Experiment ID</div>\n",
       "            <div style=\"flex: 1; text-align: center;\">Writeup</div>\n",
       "        </div>\n",
       "\n",
       "        <!-- Data Row -->\n",
       "        <div style=\"display: flex; padding: 8px; background: #f8f9fa;\">\n",
       "            <div style=\"width: 80px; text-align: center; border-right: 2px solid #ddd; font-weight: bold; display: flex; align-items: center; justify-content: center;\">\n",
       "                33\n",
       "            </div>\n",
       "            <div style=\"width: 150px; text-align: center; border-right: 2px solid #ddd; font-weight: bold; display: flex; align-items: center; justify-content: center;\">\n",
       "                161059\n",
       "            </div>\n",
       "            <div style=\"flex: 1; padding: 8px 12px; white-space: pre-wrap; overflow-wrap: break-word;\">\n",
       "                 A 4 mL vial with septum containing a stock solution of 1-[Bis(dimethylamino)-methylene]-1H-1,2,3-triazolo[4,5-b]pyridinium 3-oxid hexafluorophosphate;HATU (137.43 mg, 0.36 mmol){{9:row 3}}_XXXXX_  in DMF (0.15 mL){{3:row 1}}_XXXXX_  was charged with Methoxyacetic acid (33.57 uL, 0.36 mmol){{9:row 4}}_XXXXX_  followed by Triethylamine;TEA (100.76 uL, 0.72 mmol){{9:row 2}}_XXXXX_ . The reaction mixture was stirred at RT for 15 min. The reaction mixture was then charged with a stock solution of (1S,3R)-3-amino-N-[5-chloro-4-(7-fluoro-3-isopropyl-2-methyl-indazol-5-yl)-2-pyridyl]cyclohexanecarboxamide;trihydrochloride; (100.0 mg, 0.18 mmol){{9:row 1}}_XXXXX_  in DMF (0.15 mL){{3:row 2}}_XXXXX_  and stirred at RT for 3 h. The reaction mixture was diluted with water and MeOH, filtered through 0.45 um PTFE, and purified by prep-HPLCMS (5 μm 10x3 cm Luna C18, 40&rarr;55% MeCN in H2O (0.1% TFA), wet-loaded). Fractions containing pure product were combined and lyophilized to yield 99.0% pure (1S,3R)-N-[5-chloro-4-(7-fluoro-3-isopropyl-2-methyl-indazol-5-yl)-2-pyridyl]-3-[(2-methoxyacetyl)amino]cyclohexanecarboxamide (<span style='background-color: yellow; color: black;'>?</span> mg, <span style='background-color: yellow; color: black;'>?</span> mmol, <span style='background-color: yellow; color: black;'>?</span>% yield){{2:row 1}}_XXXXX_  as a light-yellow solid. Found 516.3/518.3 prd:tfa ratio estimated at 1:2. based on Rupa's prep belowTo Triethylamine;TEA (0.01 mL, 0.04 mmol) in DMF (0.50 mL) was added the 1-[Bis(dimethylamino)-methylene]-1H-1,2,3-triazolo[4,5-b]pyridinium 3-oxid hexafluorophosphate;HATU (7.72 mg, 0.02 mmol) and and stirred for 30 mins. To the reaction was added the (1S,3R)-3-amino-N-[5-chloro-4-(7-fluoro-3-isopropyl-2-methyl-indazol-5-yl)-2-pyridyl]cyclohexanecarboxamide;trihydrochloride (11.24 mg, 0.02 mmol) and stirred for 16 h. The reaction was quenched with water, extracted with ethyl acetate, and the organic layer separated. The organic layer was washed with water, brine, dried over sodium sulfate, filtered and concentrated. The crude was purified by silica gel chromatography using 0-30% EtOAc  in DCM to give (1S,3R)-N-[5-chloro-4-(7-fluoro-3-isopropyl-2-methyl-indazol-5-yl)-2-pyridyl]-3-(propanoylamino)cyclohexanecarboxamide;2,2,2-trifluoroacetic acid (<span style='background-color: yellow; color: black;'>?</span> mg, <span style='background-color: yellow; color: black;'>?</span> mmol, <span style='background-color: yellow; color: black;'>?</span>% yield).\n",
       "            </div>\n",
       "        </div>\n",
       "    </div>\n",
       "    </div>"
      ],
      "text/plain": [
       "<IPython.core.display.HTML object>"
      ]
     },
     "metadata": {},
     "output_type": "display_data"
    },
    {
     "data": {
      "text/html": [
       "<div style='margin: 10px 0; width: 100%; display: flex; border: 1px solid #ddd; border-radius: 4px; background: #f8f9fa;'>\n",
       "    <div style=\"display: flex; flex-direction: column; width: 100%; border: 2px solid #bbb;\">\n",
       "        <!-- Header Row -->\n",
       "        <div style=\"display: flex; font-weight: bold; background: #d6d8db; padding: 8px; border-bottom: 2px solid #bbb;\">\n",
       "            <div style=\"width: 80px; text-align: center; border-right: 2px solid #bbb; display: flex; align-items: center; justify-content: center;\">Index</div>\n",
       "            <div style=\"width: 150px; text-align: center; border-right: 2px solid #bbb; display: flex; align-items: center; justify-content: center;\">Experiment ID</div>\n",
       "            <div style=\"flex: 1; text-align: center;\">Writeup</div>\n",
       "        </div>\n",
       "\n",
       "        <!-- Data Row -->\n",
       "        <div style=\"display: flex; padding: 8px; background: #f8f9fa;\">\n",
       "            <div style=\"width: 80px; text-align: center; border-right: 2px solid #ddd; font-weight: bold; display: flex; align-items: center; justify-content: center;\">\n",
       "                34\n",
       "            </div>\n",
       "            <div style=\"width: 150px; text-align: center; border-right: 2px solid #ddd; font-weight: bold; display: flex; align-items: center; justify-content: center;\">\n",
       "                161352\n",
       "            </div>\n",
       "            <div style=\"flex: 1; padding: 8px 12px; white-space: pre-wrap; overflow-wrap: break-word;\">\n",
       "                A 4 mL vial with septum containing 1-[Bis(dimethylamino)-methylene]-1H-1,2,3-triazolo[4,5-b]pyridinium 3-oxid hexafluorophosphate;HATU (40.0 mg, 0.11 mmol){{9:row 3}}_XXXXX_  was charged with DMF (1 mL){{3:row 1}}_XXXXX_  followed by Methoxyacetic acid (11.55 uL, 0.12 mmol){{9:row 4}}_XXXXX_  and Triethylamine;TEA (60.0 uL, 0.43 mmol){{9:row 2}}_XXXXX_ . The reaction mixture was stirred at RT for 30 min. The reaction mixture was then charged with (1S,3R)-3-amino-N-[4-(7-fluoro-3-isopropyl-2-methyl-indazol-5-yl)-2-pyridyl]cyclohexanecarboxamide;trihydrochloride (29.6 mg, 0.06 mmol){{9:row 1}}_XXXXX_  and stirred at RT for 2 h.The reaction mixture was diluted with water and MeOH, filtered through 0.45 um PTFE, and purified by prep-HPLCMS (5 μm 10x3 cm Luna C18, 25&rarr;40% MeCN in H2O (0.1% TFA), wet-loaded). Fractions containing pure product were combined and lyophilized to yield 99.9% pure (1S,3R)-N-[4-(7-fluoro-3-isopropyl-2-methyl-indazol-5-yl)-2-pyridyl]-3-[(2-methoxyacetyl)amino]cyclohexanecarboxamide;2,2,2-trifluoroacetic acid (17 mg, 0.02393 mmol, 41.954% yield){{2:row 1}}_XXXXX_ , RAL006-27-1, as a light-yellow solid. FNMR analysis showed that this material may contain some TFA-derived impurities(<span style='background-color: yellow; color: black;'>?</span>). Proton NMR looks super clean.   Found 482.2 1H 19F RAL006-27-1   1H NMR (500 MHz, DMSO-d6) δ 10.75 (s, 1H), 8.35 (d, J = 5.5 Hz, 1H), 8.30 (d, J = 1.7 Hz, 1H), 8.02 (d, J = 1.3 Hz, 1H), 7.70 (d, J = 8.4 Hz, 1H), 7.58 (dd, J = 1.8, 5.5 Hz, 1H), 7.36 (dd, J = 1.3, 12.9 Hz, 1H), 4.17 (s, 3H), 3.77 (ABq, 2H, ΔδAB = 0.03, JAB = 14.71 Hz), 3.74 – 3.66 (m, 1H), 3.60 (hept, J = 6.9 Hz, 1H), 3.29 (s, 3H), 2.65 (t, J = 10.5 Hz, 1H), 1.90 (d, J = 12.4 Hz, 1H), 1.81 (d, J = 9.6 Hz, 2H), 1.72 (d, J = 11.7 Hz, 1H), 1.50 (d, J = 7.0 Hz, 6H), 1.47 (q, J = 12.1 Hz, 1H), 1.38 – 1.21 (m, 3H).   19F NMR (470 MHz, DMSO-d6) δ -69.43 (0.7F), -70.94 (0.7F), -74.87 (4.8F), -128.50 (d, J = 12.8 Hz, 1F). ~1:2 ratio of Prd:TFA     based on Rupa's prep belowTo Triethylamine;TEA (0.01 mL, 0.04 mmol) in DMF (0.50 mL) was added the 1-[Bis(dimethylamino)-methylene]-1H-1,2,3-triazolo[4,5-b]pyridinium 3-oxid hexafluorophosphate;HATU (7.72 mg, 0.02 mmol) and and stirred for 30 mins. To the reaction was added the (1S,3R)-3-amino-N-[5-chloro-4-(7-fluoro-3-isopropyl-2-methyl-indazol-5-yl)-2-pyridyl]cyclohexanecarboxamide;trihydrochloride (11.24 mg, 0.02 mmol) and stirred for 16 h. The reaction was quenched with water, extracted with ethyl acetate, and the organic layer separated. The organic layer was washed with water, brine, dried over sodium sulfate, filtered and concentrated. The crude was purified by silica gel chromatography using 0-30% EtOAc  in DCM to give (1S,3R)-N-[5-chloro-4-(7-fluoro-3-isopropyl-2-methyl-indazol-5-yl)-2-pyridyl]-3-(propanoylamino)cyclohexanecarboxamide;2,2,2-trifluoroacetic acid (<span style='background-color: yellow; color: black;'>?</span> mg, <span style='background-color: yellow; color: black;'>?</span> mmol, <span style='background-color: yellow; color: black;'>?</span>% yield).\n",
       "            </div>\n",
       "        </div>\n",
       "    </div>\n",
       "    </div>"
      ],
      "text/plain": [
       "<IPython.core.display.HTML object>"
      ]
     },
     "metadata": {},
     "output_type": "display_data"
    },
    {
     "data": {
      "text/html": [
       "<div style='margin: 10px 0; width: 100%; display: flex; border: 1px solid #ddd; border-radius: 4px; background: #f8f9fa;'>\n",
       "    <div style=\"display: flex; flex-direction: column; width: 100%; border: 2px solid #bbb;\">\n",
       "        <!-- Header Row -->\n",
       "        <div style=\"display: flex; font-weight: bold; background: #d6d8db; padding: 8px; border-bottom: 2px solid #bbb;\">\n",
       "            <div style=\"width: 80px; text-align: center; border-right: 2px solid #bbb; display: flex; align-items: center; justify-content: center;\">Index</div>\n",
       "            <div style=\"width: 150px; text-align: center; border-right: 2px solid #bbb; display: flex; align-items: center; justify-content: center;\">Experiment ID</div>\n",
       "            <div style=\"flex: 1; text-align: center;\">Writeup</div>\n",
       "        </div>\n",
       "\n",
       "        <!-- Data Row -->\n",
       "        <div style=\"display: flex; padding: 8px; background: #f8f9fa;\">\n",
       "            <div style=\"width: 80px; text-align: center; border-right: 2px solid #ddd; font-weight: bold; display: flex; align-items: center; justify-content: center;\">\n",
       "                35\n",
       "            </div>\n",
       "            <div style=\"width: 150px; text-align: center; border-right: 2px solid #ddd; font-weight: bold; display: flex; align-items: center; justify-content: center;\">\n",
       "                161635\n",
       "            </div>\n",
       "            <div style=\"flex: 1; padding: 8px 12px; white-space: pre-wrap; overflow-wrap: break-word;\">\n",
       "                 A 4 mL vial with septum containing a stock solution of 1-[Bis(dimethylamino)-methylene]-1H-1,2,3-triazolo[4,5-b]pyridinium 3-oxid hexafluorophosphate;HATU (137.43 mg, 0.36 mmol){{9:row 3}}_XXXXX_  in DMF (0.15 mL){{3:row 1}}_XXXXX_  was charged with Methoxyacetic acid (33.57 uL, 0.36 mmol){{9:row 4}}_XXXXX_  followed by Triethylamine;TEA (100.76 uL, 0.72 mmol){{9:row 2}}_XXXXX_ . The reaction mixture was stirred at RT for 15 min. The reaction mixture was then charged with a stock solution of (1S,3R)-3-amino-N-[5-chloro-4-(7-fluoro-3-isopropyl-2-methyl-indazol-5-yl)-2-pyridyl]cyclohexanecarboxamide;trihydrochloride; (100.0 mg, 0.18 mmol){{9:row 1}}_XXXXX_  in DMF (0.15 mL){{3:row 2}}_XXXXX_  and stirred at RT for 3 h. The reaction mixture was diluted with water and MeOH, filtered through 0.45 um PTFE, and purified by prep-HPLCMS (5 μm 10x3 cm Luna C18, 40&rarr;55% MeCN in H2O (0.1% TFA), wet-loaded). Fractions containing pure product were combined and lyophilized to yield 99.0% pure (1S,3R)-N-[5-chloro-4-(7-fluoro-3-isopropyl-2-methyl-indazol-5-yl)-2-pyridyl]-3-[(2-methoxyacetyl)amino]cyclohexanecarboxamide (<span style='background-color: yellow; color: black;'>?</span> mg, <span style='background-color: yellow; color: black;'>?</span> mmol, <span style='background-color: yellow; color: black;'>?</span>% yield){{2:row 1}}_XXXXX_  as a light-yellow solid. Found 516.3/518.3 prd:tfa ratio estimated at 1:2. based on Rupa's prep belowTo Triethylamine;TEA (0.01 mL, 0.04 mmol) in DMF (0.50 mL) was added the 1-[Bis(dimethylamino)-methylene]-1H-1,2,3-triazolo[4,5-b]pyridinium 3-oxid hexafluorophosphate;HATU (7.72 mg, 0.02 mmol) and and stirred for 30 mins. To the reaction was added the (1S,3R)-3-amino-N-[5-chloro-4-(7-fluoro-3-isopropyl-2-methyl-indazol-5-yl)-2-pyridyl]cyclohexanecarboxamide;trihydrochloride (11.24 mg, 0.02 mmol) and stirred for 16 h. The reaction was quenched with water, extracted with ethyl acetate, and the organic layer separated. The organic layer was washed with water, brine, dried over sodium sulfate, filtered and concentrated. The crude was purified by silica gel chromatography using 0-30% EtOAc  in DCM to give (1S,3R)-N-[5-chloro-4-(7-fluoro-3-isopropyl-2-methyl-indazol-5-yl)-2-pyridyl]-3-(propanoylamino)cyclohexanecarboxamide;2,2,2-trifluoroacetic acid (<span style='background-color: yellow; color: black;'>?</span> mg, <span style='background-color: yellow; color: black;'>?</span> mmol, <span style='background-color: yellow; color: black;'>?</span>% yield).\n",
       "            </div>\n",
       "        </div>\n",
       "    </div>\n",
       "    </div>"
      ],
      "text/plain": [
       "<IPython.core.display.HTML object>"
      ]
     },
     "metadata": {},
     "output_type": "display_data"
    },
    {
     "data": {
      "text/html": [
       "<div style='margin: 10px 0; width: 100%; display: flex; border: 1px solid #ddd; border-radius: 4px; background: #f8f9fa;'>\n",
       "    <div style=\"display: flex; flex-direction: column; width: 100%; border: 2px solid #bbb;\">\n",
       "        <!-- Header Row -->\n",
       "        <div style=\"display: flex; font-weight: bold; background: #d6d8db; padding: 8px; border-bottom: 2px solid #bbb;\">\n",
       "            <div style=\"width: 80px; text-align: center; border-right: 2px solid #bbb; display: flex; align-items: center; justify-content: center;\">Index</div>\n",
       "            <div style=\"width: 150px; text-align: center; border-right: 2px solid #bbb; display: flex; align-items: center; justify-content: center;\">Experiment ID</div>\n",
       "            <div style=\"flex: 1; text-align: center;\">Writeup</div>\n",
       "        </div>\n",
       "\n",
       "        <!-- Data Row -->\n",
       "        <div style=\"display: flex; padding: 8px; background: #f8f9fa;\">\n",
       "            <div style=\"width: 80px; text-align: center; border-right: 2px solid #ddd; font-weight: bold; display: flex; align-items: center; justify-content: center;\">\n",
       "                36\n",
       "            </div>\n",
       "            <div style=\"width: 150px; text-align: center; border-right: 2px solid #ddd; font-weight: bold; display: flex; align-items: center; justify-content: center;\">\n",
       "                163275\n",
       "            </div>\n",
       "            <div style=\"flex: 1; padding: 8px 12px; white-space: pre-wrap; overflow-wrap: break-word;\">\n",
       "                A microwave vessel was charged withPyrazole (202.0 mg, 2.97 mmol){{9:row 1}}_XXXXX_  ,  copper(I) iodide (0.05 mL, 0.59 mmol), L-proline (135.29 mg, 1.18 mmol),6-bromo-5-fluoropyridine-2-carboxylic acid (775.56 mg, 3.53 mmol) andpotassium carbonate (1218.07 mg, 8.81 mmol).  It was then evacuated and back-filled with nitrogen(3 cycles). Anhydrous  DMSO (4 mL) was added and the mixture was stirred at  60°C for 24 hours. HPLC-MS checking showed only the starting material. Heating up to 80 for 72 hours. LC-MS showed 5,6-di(pyrazol-1-yl)pyridine-2-carboxylic acid (<span style='background-color: yellow; color: black;'>?</span> mg, <span style='background-color: yellow; color: black;'>?</span> mmol, <span style='background-color: yellow; color: black;'>?</span>% yield){{2:row 1}}_XXXXX_  . Then the reaction was quenched with 0.1N HCl and the aqueous layer was extracted three times with ethyl acetate. The ethyl acetate layer was dried with anhydrous Na2SO4 and concentrated in vacuo. The residue was subjected to preparative HPLC to provide 5,6-di(imidazol-1-yl)pyridine-2-carboxylic acid (<span style='background-color: yellow; color: black;'>?</span> mg, <span style='background-color: yellow; color: black;'>?</span> mmol, <span style='background-color: yellow; color: black;'>?</span>% yield) as a white solid.\n",
       "            </div>\n",
       "        </div>\n",
       "    </div>\n",
       "    </div>"
      ],
      "text/plain": [
       "<IPython.core.display.HTML object>"
      ]
     },
     "metadata": {},
     "output_type": "display_data"
    },
    {
     "data": {
      "text/html": [
       "<div style='margin: 10px 0; width: 100%; display: flex; border: 1px solid #ddd; border-radius: 4px; background: #f8f9fa;'>\n",
       "    <div style=\"display: flex; flex-direction: column; width: 100%; border: 2px solid #bbb;\">\n",
       "        <!-- Header Row -->\n",
       "        <div style=\"display: flex; font-weight: bold; background: #d6d8db; padding: 8px; border-bottom: 2px solid #bbb;\">\n",
       "            <div style=\"width: 80px; text-align: center; border-right: 2px solid #bbb; display: flex; align-items: center; justify-content: center;\">Index</div>\n",
       "            <div style=\"width: 150px; text-align: center; border-right: 2px solid #bbb; display: flex; align-items: center; justify-content: center;\">Experiment ID</div>\n",
       "            <div style=\"flex: 1; text-align: center;\">Writeup</div>\n",
       "        </div>\n",
       "\n",
       "        <!-- Data Row -->\n",
       "        <div style=\"display: flex; padding: 8px; background: #f8f9fa;\">\n",
       "            <div style=\"width: 80px; text-align: center; border-right: 2px solid #ddd; font-weight: bold; display: flex; align-items: center; justify-content: center;\">\n",
       "                37\n",
       "            </div>\n",
       "            <div style=\"width: 150px; text-align: center; border-right: 2px solid #ddd; font-weight: bold; display: flex; align-items: center; justify-content: center;\">\n",
       "                165404\n",
       "            </div>\n",
       "            <div style=\"flex: 1; padding: 8px 12px; white-space: pre-wrap; overflow-wrap: break-word;\">\n",
       "                To 2-[6-(2-chloro-5-fluoropyrimidin-4-yl)-8-fluoro-2,3-dihydro-1,4-benzoxazin-4-yl]acetic acid (92.26 mg, 0.27 mmol){{9:row 3}}_XXXXX_  in DMF (5.4 mL){{3:row 1}}_XXXXX_  was added N,N-Diisopropylethylamine (0.14 mL, 0.81 mmol){{9:row 1}}_XXXXX_ . Stirred for 5-10 minutes. 1-[Bis(dimethylamino)-methylene]-1H-1,2,3-triazolo[4,5-b]pyridinium 3-oxid hexafluorophosphate (123.19 mg, 0.32 mmol){{9:row 2}}_XXXXX_  was added and the reaction stirred for another 30 minutes. 4-(4-aminobutyl)pyridin-2-amine (51.28 mg, 0.27 mmol){{9:row 4}}_XXXXX_  was then added and the reaction was stirred overnight at room temperature. After 14 h of stirring, reaction went to full conversion (as judged by LC-MS of the crude reaction mixture). Reaction started at 8:00 p.m. First LC-MS taken at 10:00 a.m. next day. Work-up: Reaction was diluted with water and DCM. Separated aqueous/organic layers and extracted aqueous layer with DCM (2 x 25 mL). Washed combined DCM layers with water (4 x 50 mL) and brine (1 x 25 mL). Dried with MgSO4, filtered and concentrated. Obtained 87:13 desired amide product (N-[4-(2-aminopyridin-4-yl)butyl]-2-[6-(2-chloro-5-fluoropyrimidin-4-yl)-8-fluoro-2,3-dihydro-1,4-benzoxazin-4-yl]acetamide (<span style='background-color: yellow; color: black;'>?</span> mg, <span style='background-color: yellow; color: black;'>?</span> mmol, <span style='background-color: yellow; color: black;'>?</span>% yield)) to methanolyzed amide byproduct (N-[4-(2-aminopyridin-4-yl)butyl]-2-[8-fluoro-6-(5-fluoro-2-methoxypyrimidin-4-yl)-2,3-dihydro-1,4-benzoxazin-4-yl]acetamide (<span style='background-color: yellow; color: black;'>?</span> mg, <span style='background-color: yellow; color: black;'>?</span> mmol, <span style='background-color: yellow; color: black;'>?</span>% yield)) from saponification step (CHB002-6-2) as a bright yellow, solid mixture. Assumed &gt;99% yield for ease of calculation in next step (Buchwald-Hartwig ring-closing).\n",
       "            </div>\n",
       "        </div>\n",
       "    </div>\n",
       "    </div>"
      ],
      "text/plain": [
       "<IPython.core.display.HTML object>"
      ]
     },
     "metadata": {},
     "output_type": "display_data"
    },
    {
     "data": {
      "text/html": [
       "<div style='margin: 10px 0; width: 100%; display: flex; border: 1px solid #ddd; border-radius: 4px; background: #f8f9fa;'>\n",
       "    <div style=\"display: flex; flex-direction: column; width: 100%; border: 2px solid #bbb;\">\n",
       "        <!-- Header Row -->\n",
       "        <div style=\"display: flex; font-weight: bold; background: #d6d8db; padding: 8px; border-bottom: 2px solid #bbb;\">\n",
       "            <div style=\"width: 80px; text-align: center; border-right: 2px solid #bbb; display: flex; align-items: center; justify-content: center;\">Index</div>\n",
       "            <div style=\"width: 150px; text-align: center; border-right: 2px solid #bbb; display: flex; align-items: center; justify-content: center;\">Experiment ID</div>\n",
       "            <div style=\"flex: 1; text-align: center;\">Writeup</div>\n",
       "        </div>\n",
       "\n",
       "        <!-- Data Row -->\n",
       "        <div style=\"display: flex; padding: 8px; background: #f8f9fa;\">\n",
       "            <div style=\"width: 80px; text-align: center; border-right: 2px solid #ddd; font-weight: bold; display: flex; align-items: center; justify-content: center;\">\n",
       "                38\n",
       "            </div>\n",
       "            <div style=\"width: 150px; text-align: center; border-right: 2px solid #ddd; font-weight: bold; display: flex; align-items: center; justify-content: center;\">\n",
       "                168950\n",
       "            </div>\n",
       "            <div style=\"flex: 1; padding: 8px 12px; white-space: pre-wrap; overflow-wrap: break-word;\">\n",
       "                Standard Controls Apply: Lab coats, gloves and safety specs are to be worn at all times. All experiments should be performed in a fumehood. A solution of tert-butyl 6-[[(2R)-1-[(4S)-4-hydroxy-2-[[(1S)-1-[4-(4-methyl-1,3-thiazol-5-yl)phenyl]ethyl]carbamoyl]pyrrolidin-1-yl]-3,3-dimethyl-1-oxobutan-2-yl]carbamoyl]-2-azaspiro[3.3]heptane-2-carboxylate (210.0 mg, 0.31 mmol){{9:row 1}}_XXXXX_  in 3N HCl (1.33 mL, 4. mmol){{9:row 2}}_XXXXX_ /Ethyl acetate (10 mL){{3:row 1}}_XXXXX_  was stirred at rt. for 2 h .     LCMS showed worked .    The white suspention was filtered and collected to give 2-[12-(azetidin-3-yl)-1,5,6,8,12-pentazatricyclo[8.4.0.02,7]tetradeca-2(7),3,5-trien-4-yl]phenol;2,2,2-trifluoroacetic acid (<span style='background-color: yellow; color: black;'>?</span> mg, <span style='background-color: yellow; color: black;'>?</span> mmol, <span style='background-color: yellow; color: black;'>?</span>% yield) as a white solid .     \n",
       "            </div>\n",
       "        </div>\n",
       "    </div>\n",
       "    </div>"
      ],
      "text/plain": [
       "<IPython.core.display.HTML object>"
      ]
     },
     "metadata": {},
     "output_type": "display_data"
    },
    {
     "data": {
      "text/html": [
       "<div style='margin: 10px 0; width: 100%; display: flex; border: 1px solid #ddd; border-radius: 4px; background: #f8f9fa;'>\n",
       "    <div style=\"display: flex; flex-direction: column; width: 100%; border: 2px solid #bbb;\">\n",
       "        <!-- Header Row -->\n",
       "        <div style=\"display: flex; font-weight: bold; background: #d6d8db; padding: 8px; border-bottom: 2px solid #bbb;\">\n",
       "            <div style=\"width: 80px; text-align: center; border-right: 2px solid #bbb; display: flex; align-items: center; justify-content: center;\">Index</div>\n",
       "            <div style=\"width: 150px; text-align: center; border-right: 2px solid #bbb; display: flex; align-items: center; justify-content: center;\">Experiment ID</div>\n",
       "            <div style=\"flex: 1; text-align: center;\">Writeup</div>\n",
       "        </div>\n",
       "\n",
       "        <!-- Data Row -->\n",
       "        <div style=\"display: flex; padding: 8px; background: #f8f9fa;\">\n",
       "            <div style=\"width: 80px; text-align: center; border-right: 2px solid #ddd; font-weight: bold; display: flex; align-items: center; justify-content: center;\">\n",
       "                39\n",
       "            </div>\n",
       "            <div style=\"width: 150px; text-align: center; border-right: 2px solid #ddd; font-weight: bold; display: flex; align-items: center; justify-content: center;\">\n",
       "                170145\n",
       "            </div>\n",
       "            <div style=\"flex: 1; padding: 8px 12px; white-space: pre-wrap; overflow-wrap: break-word;\">\n",
       "                 To a 20ml vial containing sodium acetate (144.26 mg, 1.76 mmol){{9:row 1}}_XXXXX_  and 3-Aminopiperidine-2,6-dione, HCl (100.92 mg, 0.61 mmol){{9:row 4}}_XXXXX_  was added DCM (2.3 mL){{3:row 2}}_XXXXX_  and Methanol (1.2 mL){{3:row 1}}_XXXXX_  let stir 10min at 10 °C{{8:row 1}}_XXXXX_ . Then the solution was added to a vial containing  2-formyl-5-[4-[(2-methylpropan-2-yl)oxycarbonyl]piperazin-1-yl]benzoic acid (280.0 mg, 0.59 mmol){{9:row 3}}_XXXXX_   and stirred at 10 °C{{8:row 1}}_XXXXX_  for 10min.  After 10min,  Sodium\tcyanoborohydride (96.96 mg, 1.54 mmol){{9:row 2}}_XXXXX_ was added and left to stir at 10 °C{{8:row 1}}_XXXXX_ .  After two hours reaction was was adjusted to pH 5 with aqueous 3N HCl and extracted with EtOAC (5mlx3) which removed an impurity (need NMR-methyl ester <span style='background-color: yellow; color: black;'>?</span> doesnt ionize). Then the pH was adjusted to 1 (water layer went from a royal blue to pink color) and product was extracted with 3xEtOAc to yield 2-[[(2,6-dioxopiperidin-3-yl)amino]methyl]-5-[4-[(2-methylpropan-2-yl)oxycarbonyl]piperazin-1-yl]benzoic acid (52 mg, 0.11646 mmol, 19.868% yield){{2:row 1}}_XXXXX_  as a white solid. Note:next time dryload onto reverse-phase column don't do a  sepfunnel . Re-extracted water layers tried EtOAc and DCM, at pH1, pH5 and pH8.  Ref: WO 2019/199816 pg 235 rbf weight: 67.2476  \n",
       "            </div>\n",
       "        </div>\n",
       "    </div>\n",
       "    </div>"
      ],
      "text/plain": [
       "<IPython.core.display.HTML object>"
      ]
     },
     "metadata": {},
     "output_type": "display_data"
    },
    {
     "data": {
      "text/html": [
       "<div style='margin: 10px 0; width: 100%; display: flex; border: 1px solid #ddd; border-radius: 4px; background: #f8f9fa;'>\n",
       "    <div style=\"display: flex; flex-direction: column; width: 100%; border: 2px solid #bbb;\">\n",
       "        <!-- Header Row -->\n",
       "        <div style=\"display: flex; font-weight: bold; background: #d6d8db; padding: 8px; border-bottom: 2px solid #bbb;\">\n",
       "            <div style=\"width: 80px; text-align: center; border-right: 2px solid #bbb; display: flex; align-items: center; justify-content: center;\">Index</div>\n",
       "            <div style=\"width: 150px; text-align: center; border-right: 2px solid #bbb; display: flex; align-items: center; justify-content: center;\">Experiment ID</div>\n",
       "            <div style=\"flex: 1; text-align: center;\">Writeup</div>\n",
       "        </div>\n",
       "\n",
       "        <!-- Data Row -->\n",
       "        <div style=\"display: flex; padding: 8px; background: #f8f9fa;\">\n",
       "            <div style=\"width: 80px; text-align: center; border-right: 2px solid #ddd; font-weight: bold; display: flex; align-items: center; justify-content: center;\">\n",
       "                40\n",
       "            </div>\n",
       "            <div style=\"width: 150px; text-align: center; border-right: 2px solid #ddd; font-weight: bold; display: flex; align-items: center; justify-content: center;\">\n",
       "                176069\n",
       "            </div>\n",
       "            <div style=\"flex: 1; padding: 8px 12px; white-space: pre-wrap; overflow-wrap: break-word;\">\n",
       "                To a solution of methyl 1-[(3-ethoxy-3-oxopropanoyl)-ethylamino]cyclopentane-1-carboxylate (195.0 mg, 0.68 mmol){{9:row 1}}_XXXXX_  in Toluene (4 mL){{3:row 1}}_XXXXX_  was added NaOEt (0.4 mL, 1.03 mmol){{9:row 2}}_XXXXX_ , the mixture was heated to 80°C for 2h. The mixture turned into a thick paste within 30 min. To the mixture was added H2O (10 mL) and EtOAc (3 mL). The organic layer was extracted with H2O (3 x 10 mL), the combined aqueous layer was adjusted to pH ~1 using 4N HCl. The aqueous layer was extracted with EtOAc (3 x 20 mL). the combined organic phase was dried over Na2SO4, Concentrated to give the ethyl carboxylate intermediate as an colorless oil. The intermediate was dissolved redissolved in MeCN with 2% H2O (5 mL), Heated to 80 °C for 1h. TLC indicated complete consumption of the starting material (10% MeOH/EtOAc, SM Rf&lt;0.1, UV active). The solvent was evapored to give 1-ethyl-1-azaspiro[4.4]nonane-2,4-dione (<span style='background-color: yellow; color: black;'>?</span> mg, <span style='background-color: yellow; color: black;'>?</span> mmol, <span style='background-color: yellow; color: black;'>?</span>% yield) Rf~0.8 (10% MeOH/EtOAc), UV active. KMnO4 showed strong staining. Crude combined with YBW004-64.\n",
       "            </div>\n",
       "        </div>\n",
       "    </div>\n",
       "    </div>"
      ],
      "text/plain": [
       "<IPython.core.display.HTML object>"
      ]
     },
     "metadata": {},
     "output_type": "display_data"
    },
    {
     "data": {
      "text/html": [
       "<div style='margin: 10px 0; width: 100%; display: flex; border: 1px solid #ddd; border-radius: 4px; background: #f8f9fa;'>\n",
       "    <div style=\"display: flex; flex-direction: column; width: 100%; border: 2px solid #bbb;\">\n",
       "        <!-- Header Row -->\n",
       "        <div style=\"display: flex; font-weight: bold; background: #d6d8db; padding: 8px; border-bottom: 2px solid #bbb;\">\n",
       "            <div style=\"width: 80px; text-align: center; border-right: 2px solid #bbb; display: flex; align-items: center; justify-content: center;\">Index</div>\n",
       "            <div style=\"width: 150px; text-align: center; border-right: 2px solid #bbb; display: flex; align-items: center; justify-content: center;\">Experiment ID</div>\n",
       "            <div style=\"flex: 1; text-align: center;\">Writeup</div>\n",
       "        </div>\n",
       "\n",
       "        <!-- Data Row -->\n",
       "        <div style=\"display: flex; padding: 8px; background: #f8f9fa;\">\n",
       "            <div style=\"width: 80px; text-align: center; border-right: 2px solid #ddd; font-weight: bold; display: flex; align-items: center; justify-content: center;\">\n",
       "                41\n",
       "            </div>\n",
       "            <div style=\"width: 150px; text-align: center; border-right: 2px solid #ddd; font-weight: bold; display: flex; align-items: center; justify-content: center;\">\n",
       "                176683\n",
       "            </div>\n",
       "            <div style=\"flex: 1; padding: 8px 12px; white-space: pre-wrap; overflow-wrap: break-word;\">\n",
       "                A mixture of 1,4-dibromobutane (23.98 mg, 0.11 mmol){{9:row 2}}_XXXXX_  , Triethylbenzyl ammonium chloride (3.4 mg, 0.01 mmol){{9:row 4}}_XXXXX_  and 2-(3-bromo-4-methylthiophen-2-yl)acetonitrile (16.0 mg, 0.07 mmol){{9:row 1}}_XXXXX_  was heated to 50 °C. A solution of \tSodium hydroxide (17.77 mg, 0.44 mmol){{9:row 3}}_XXXXX_  dissolved in Water (1 mL){{3:row 1}}_XXXXX_  was added and the resulting mixture was stirred at 50 °C overnight. The reaction mixture was quenched with H2O (2 mL) and extracted with DCM (3 mL x 3). The combined organic layers were washed with 1 M HCl. The organic layers were concentrated under reduced pressure and the residue was purified by flash chromatography on a silica gel column eluting with EA/Hep (10% to 30%) to afford 1-(3-bromo-4-methylthiophen-2-yl)cyclopentane-1-carbonitrile (<span style='background-color: yellow; color: black;'>?</span> mg, <span style='background-color: yellow; color: black;'>?</span> mmol, <span style='background-color: yellow; color: black;'>?</span>% yield).\n",
       "            </div>\n",
       "        </div>\n",
       "    </div>\n",
       "    </div>"
      ],
      "text/plain": [
       "<IPython.core.display.HTML object>"
      ]
     },
     "metadata": {},
     "output_type": "display_data"
    },
    {
     "data": {
      "text/html": [
       "<div style='margin: 10px 0; width: 100%; display: flex; border: 1px solid #ddd; border-radius: 4px; background: #f8f9fa;'>\n",
       "    <div style=\"display: flex; flex-direction: column; width: 100%; border: 2px solid #bbb;\">\n",
       "        <!-- Header Row -->\n",
       "        <div style=\"display: flex; font-weight: bold; background: #d6d8db; padding: 8px; border-bottom: 2px solid #bbb;\">\n",
       "            <div style=\"width: 80px; text-align: center; border-right: 2px solid #bbb; display: flex; align-items: center; justify-content: center;\">Index</div>\n",
       "            <div style=\"width: 150px; text-align: center; border-right: 2px solid #bbb; display: flex; align-items: center; justify-content: center;\">Experiment ID</div>\n",
       "            <div style=\"flex: 1; text-align: center;\">Writeup</div>\n",
       "        </div>\n",
       "\n",
       "        <!-- Data Row -->\n",
       "        <div style=\"display: flex; padding: 8px; background: #f8f9fa;\">\n",
       "            <div style=\"width: 80px; text-align: center; border-right: 2px solid #ddd; font-weight: bold; display: flex; align-items: center; justify-content: center;\">\n",
       "                42\n",
       "            </div>\n",
       "            <div style=\"width: 150px; text-align: center; border-right: 2px solid #ddd; font-weight: bold; display: flex; align-items: center; justify-content: center;\">\n",
       "                176775\n",
       "            </div>\n",
       "            <div style=\"flex: 1; padding: 8px 12px; white-space: pre-wrap; overflow-wrap: break-word;\">\n",
       "                To a vial containing 4-bromo-6-chloropyridazin-3-amine (300.0 mg, 1.44 mmol){{9:row 1}}_XXXXX_  was added Potassium Carbonate (596.76 mg, 4.32 mmol){{9:row 2}}_XXXXX_ , Sarcosine methyl ester hydrochloride (502.23 mg, 3.6 mmol){{9:row 3}}_XXXXX_  and DMSO (3 mL){{3:row 1}}_XXXXX_ . The reaction was heated to 110 °C{{8:row 1}}_XXXXX_   for 3 hours. Solution turned yellow.  Reaction was diluted in water and extracted 4 x with EtoAC. Organic layer was condensed then dissolved in DMSO/water (10mL). Solution of crude (~5ml of DMSO/water) was injected onto a 30g C18 column and purified from 0% acn in water with 0.1% TFA over 2V then 0-20% acn in water with 0.1% TFA over 8 CV (purified in two batches) to yield 3-chloro-5-methyl-6,8-dihydropyrazino[2,3-c]pyridazin-7-one (<span style='background-color: yellow; color: black;'>?</span> mg, <span style='background-color: yellow; color: black;'>?</span> mmol, <span style='background-color: yellow; color: black;'>?</span>% yield) as an xx solid. lyophilized (yellow)    start: 12;36          \n",
       "            </div>\n",
       "        </div>\n",
       "    </div>\n",
       "    </div>"
      ],
      "text/plain": [
       "<IPython.core.display.HTML object>"
      ]
     },
     "metadata": {},
     "output_type": "display_data"
    },
    {
     "data": {
      "text/html": [
       "<div style='margin: 10px 0; width: 100%; display: flex; border: 1px solid #ddd; border-radius: 4px; background: #f8f9fa;'>\n",
       "    <div style=\"display: flex; flex-direction: column; width: 100%; border: 2px solid #bbb;\">\n",
       "        <!-- Header Row -->\n",
       "        <div style=\"display: flex; font-weight: bold; background: #d6d8db; padding: 8px; border-bottom: 2px solid #bbb;\">\n",
       "            <div style=\"width: 80px; text-align: center; border-right: 2px solid #bbb; display: flex; align-items: center; justify-content: center;\">Index</div>\n",
       "            <div style=\"width: 150px; text-align: center; border-right: 2px solid #bbb; display: flex; align-items: center; justify-content: center;\">Experiment ID</div>\n",
       "            <div style=\"flex: 1; text-align: center;\">Writeup</div>\n",
       "        </div>\n",
       "\n",
       "        <!-- Data Row -->\n",
       "        <div style=\"display: flex; padding: 8px; background: #f8f9fa;\">\n",
       "            <div style=\"width: 80px; text-align: center; border-right: 2px solid #ddd; font-weight: bold; display: flex; align-items: center; justify-content: center;\">\n",
       "                43\n",
       "            </div>\n",
       "            <div style=\"width: 150px; text-align: center; border-right: 2px solid #ddd; font-weight: bold; display: flex; align-items: center; justify-content: center;\">\n",
       "                178004\n",
       "            </div>\n",
       "            <div style=\"flex: 1; padding: 8px 12px; white-space: pre-wrap; overflow-wrap: break-word;\">\n",
       "                To a solution of 5-methyl-2-[(10R)-1,5,6,8,12-pentazatricyclo[8.4.0.02,7]tetradeca-2(7),3,5-trien-4-yl]phenol (20.0 mg, 0.07 mmol){{9:row 1}}_XXXXX_  and 2-(2,6-dioxopiperidin-3-yl)-5-[2-(4-oxopiperidin-1-yl)ethylamino]isoindole-1,3-dione (53.59 mg, 0.13 mmol){{9:row 2}}_XXXXX_  in DMF (1.5 mL){{3:row 1}}_XXXXX_ , CH3COOH (20.2 mg, 0.34 mmol){{9:row 4}}_XXXXX_  was added into, then stirred at rt overnight, then STAB (71.28 mg, 0.34 mmol){{9:row 3}}_XXXXX_  was added into. Then the mixture was purified by  prep-HPLC  together on a C18 column (20-35uM, 100 A, 80 g) with mobile phase: H2O (0.1% TFA)/MeOH at flow rate: 50 mL/min then freeze-dried  with QIZ011-25 to get the desired product 2-(2,6-dioxopiperidin-3-yl)-5-[2-[4-[(10S)-4-(2-hydroxy-4-methylphenyl)-1,5,6,8,12-pentazatricyclo[8.4.0.02,7]tetradeca-2,4,6-trien-12-yl]piperidin-1-yl]ethylamino]isoindole-1,3-dione (<span style='background-color: yellow; color: black;'>?</span> mg, <span style='background-color: yellow; color: black;'>?</span> mmol, <span style='background-color: yellow; color: black;'>?</span>% yield)3.9mg LCMS calculated for C36H42N9O5 (M+H)+ m/z =680.33;  found:340.6,680.2 result Conclusion: Success to get the desired product.\n",
       "            </div>\n",
       "        </div>\n",
       "    </div>\n",
       "    </div>"
      ],
      "text/plain": [
       "<IPython.core.display.HTML object>"
      ]
     },
     "metadata": {},
     "output_type": "display_data"
    },
    {
     "data": {
      "text/html": [
       "<div style='margin: 10px 0; width: 100%; display: flex; border: 1px solid #ddd; border-radius: 4px; background: #f8f9fa;'>\n",
       "    <div style=\"display: flex; flex-direction: column; width: 100%; border: 2px solid #bbb;\">\n",
       "        <!-- Header Row -->\n",
       "        <div style=\"display: flex; font-weight: bold; background: #d6d8db; padding: 8px; border-bottom: 2px solid #bbb;\">\n",
       "            <div style=\"width: 80px; text-align: center; border-right: 2px solid #bbb; display: flex; align-items: center; justify-content: center;\">Index</div>\n",
       "            <div style=\"width: 150px; text-align: center; border-right: 2px solid #bbb; display: flex; align-items: center; justify-content: center;\">Experiment ID</div>\n",
       "            <div style=\"flex: 1; text-align: center;\">Writeup</div>\n",
       "        </div>\n",
       "\n",
       "        <!-- Data Row -->\n",
       "        <div style=\"display: flex; padding: 8px; background: #f8f9fa;\">\n",
       "            <div style=\"width: 80px; text-align: center; border-right: 2px solid #ddd; font-weight: bold; display: flex; align-items: center; justify-content: center;\">\n",
       "                44\n",
       "            </div>\n",
       "            <div style=\"width: 150px; text-align: center; border-right: 2px solid #ddd; font-weight: bold; display: flex; align-items: center; justify-content: center;\">\n",
       "                178326\n",
       "            </div>\n",
       "            <div style=\"flex: 1; padding: 8px 12px; white-space: pre-wrap; overflow-wrap: break-word;\">\n",
       "                To a vial was added 4-methoxybenzaldehyde (1.3 mL, 10.69 mmol){{9:row 1}}_XXXXX_ , ethanolamine (1.3 mL, 21.5 mmol){{9:row 2}}_XXXXX_ , DCM (100 mL){{3:row 1}}_XXXXX_  and acetic acid (2.05 mL, 35.89 mmol){{9:row 3}}_XXXXX_ . Reaction stirred for 2.5 hours (next time longer so less over alkylation) then sodium triacetoxyborohydride (5.0 g, 23.59 mmol){{9:row 4}}_XXXXX_  was added. Reaction stirred overweekend. Reaction was complete [M+1]=182.1 Reaction was diluted in 0.5 NaOH and extracted 2x with DCM and 2x EtOAc (ensure water layer ph &gt;10). Organic layers were combined and wet loaded in DCM onto a 24 gram column and purified using 0-20% MeOH in DCM with 1% NH4OH over 20 min to yield tert-butyl 4-[(2-hydroxyethylamino)methyl]piperidine-1-carboxylate (<span style='background-color: yellow; color: black;'>?</span> mg, <span style='background-color: yellow; color: black;'>?</span> mmol, <span style='background-color: yellow; color: black;'>?</span>% yield). Note: Set wavelength for collection to 210 nM.  rbf=129.51= 1.45g   \n",
       "            </div>\n",
       "        </div>\n",
       "    </div>\n",
       "    </div>"
      ],
      "text/plain": [
       "<IPython.core.display.HTML object>"
      ]
     },
     "metadata": {},
     "output_type": "display_data"
    },
    {
     "data": {
      "text/html": [
       "<div style='margin: 10px 0; width: 100%; display: flex; border: 1px solid #ddd; border-radius: 4px; background: #f8f9fa;'>\n",
       "    <div style=\"display: flex; flex-direction: column; width: 100%; border: 2px solid #bbb;\">\n",
       "        <!-- Header Row -->\n",
       "        <div style=\"display: flex; font-weight: bold; background: #d6d8db; padding: 8px; border-bottom: 2px solid #bbb;\">\n",
       "            <div style=\"width: 80px; text-align: center; border-right: 2px solid #bbb; display: flex; align-items: center; justify-content: center;\">Index</div>\n",
       "            <div style=\"width: 150px; text-align: center; border-right: 2px solid #bbb; display: flex; align-items: center; justify-content: center;\">Experiment ID</div>\n",
       "            <div style=\"flex: 1; text-align: center;\">Writeup</div>\n",
       "        </div>\n",
       "\n",
       "        <!-- Data Row -->\n",
       "        <div style=\"display: flex; padding: 8px; background: #f8f9fa;\">\n",
       "            <div style=\"width: 80px; text-align: center; border-right: 2px solid #ddd; font-weight: bold; display: flex; align-items: center; justify-content: center;\">\n",
       "                45\n",
       "            </div>\n",
       "            <div style=\"width: 150px; text-align: center; border-right: 2px solid #ddd; font-weight: bold; display: flex; align-items: center; justify-content: center;\">\n",
       "                180354\n",
       "            </div>\n",
       "            <div style=\"flex: 1; padding: 8px 12px; white-space: pre-wrap; overflow-wrap: break-word;\">\n",
       "                A mixture of 1-[2-(2,6-dioxopiperidin-3-yl)-1,3-dioxoisoindol-5-yl]piperidine-4-carbaldehyde (28.09 mg, 0.08 mmol), 2-[(10S)-12-[(3-methylpiperidin-4-yl)methyl]-1,5,6,8,12-pentazatricyclo[8.4.0.02,7]tetradeca-2,4,6-trien-4-yl]phenol (15.0 mg, 0.04 mmol), N,N-Diisopropylethylamine (0.02 mL, 0.11 mmol) and acetic acid (0.01 mL, 0.15 mmol) was stirred in DMF (1 mL) for 5 min then treated with sodium triacetoxyborohydride (40.29 mg, 0.19 mmol). The mixture was stirred at rt for 1 h and purified via prep-LC-MS (pH 2) to give 2-(2,6-dioxopiperidin-3-yl)-5-[4-[[4-[[(10S)-4-(2-hydroxyphenyl)-1,5,6,8,12-pentazatricyclo[8.4.0.02,7]tetradeca-2,4,6-trien-12-yl]methyl]-3-methylpiperidin-1-yl]methyl]piperidin-1-yl]isoindole-1,3-dione (<span style='background-color: yellow; color: black;'>?</span> mg, <span style='background-color: yellow; color: black;'>?</span> mmol, <span style='background-color: yellow; color: black;'>?</span>% yield) to be registered as PRT1004365-001. LCMS [M+H] 748.2.\n",
       "            </div>\n",
       "        </div>\n",
       "    </div>\n",
       "    </div>"
      ],
      "text/plain": [
       "<IPython.core.display.HTML object>"
      ]
     },
     "metadata": {},
     "output_type": "display_data"
    },
    {
     "data": {
      "text/html": [
       "<div style='margin: 10px 0; width: 100%; display: flex; border: 1px solid #ddd; border-radius: 4px; background: #f8f9fa;'>\n",
       "    <div style=\"display: flex; flex-direction: column; width: 100%; border: 2px solid #bbb;\">\n",
       "        <!-- Header Row -->\n",
       "        <div style=\"display: flex; font-weight: bold; background: #d6d8db; padding: 8px; border-bottom: 2px solid #bbb;\">\n",
       "            <div style=\"width: 80px; text-align: center; border-right: 2px solid #bbb; display: flex; align-items: center; justify-content: center;\">Index</div>\n",
       "            <div style=\"width: 150px; text-align: center; border-right: 2px solid #bbb; display: flex; align-items: center; justify-content: center;\">Experiment ID</div>\n",
       "            <div style=\"flex: 1; text-align: center;\">Writeup</div>\n",
       "        </div>\n",
       "\n",
       "        <!-- Data Row -->\n",
       "        <div style=\"display: flex; padding: 8px; background: #f8f9fa;\">\n",
       "            <div style=\"width: 80px; text-align: center; border-right: 2px solid #ddd; font-weight: bold; display: flex; align-items: center; justify-content: center;\">\n",
       "                46\n",
       "            </div>\n",
       "            <div style=\"width: 150px; text-align: center; border-right: 2px solid #ddd; font-weight: bold; display: flex; align-items: center; justify-content: center;\">\n",
       "                180525\n",
       "            </div>\n",
       "            <div style=\"flex: 1; padding: 8px 12px; white-space: pre-wrap; overflow-wrap: break-word;\">\n",
       "                A mixture of 1-[2-(2,6-dioxopiperidin-3-yl)-1,3-dioxoisoindol-5-yl]piperidine-4-carbaldehyde (28.09 mg, 0.08 mmol), 2-[(10S)-12-[(3-methylpiperidin-4-yl)methyl]-1,5,6,8,12-pentazatricyclo[8.4.0.02,7]tetradeca-2,4,6-trien-4-yl]phenol (15.0 mg, 0.04 mmol), N,N-Diisopropylethylamine (0.02 mL, 0.11 mmol) and acetic acid (0.01 mL, 0.15 mmol) was stirred in DMF (1 mL) for 5 min then treated with sodium triacetoxyborohydride (40.29 mg, 0.19 mmol). The mixture was stirred at rt for 1 h and purified via prep-LC-MS (pH 2) to give 2-(2,6-dioxopiperidin-3-yl)-5-[4-[[4-[[(10S)-4-(2-hydroxyphenyl)-1,5,6,8,12-pentazatricyclo[8.4.0.02,7]tetradeca-2,4,6-trien-12-yl]methyl]-3-methylpiperidin-1-yl]methyl]piperidin-1-yl]isoindole-1,3-dione (<span style='background-color: yellow; color: black;'>?</span> mg, <span style='background-color: yellow; color: black;'>?</span> mmol, <span style='background-color: yellow; color: black;'>?</span>% yield) to be registered as PRT1004394-001. LCMS [M+H] 734.2.\n",
       "            </div>\n",
       "        </div>\n",
       "    </div>\n",
       "    </div>"
      ],
      "text/plain": [
       "<IPython.core.display.HTML object>"
      ]
     },
     "metadata": {},
     "output_type": "display_data"
    },
    {
     "data": {
      "text/html": [
       "<div style='margin: 10px 0; width: 100%; display: flex; border: 1px solid #ddd; border-radius: 4px; background: #f8f9fa;'>\n",
       "    <div style=\"display: flex; flex-direction: column; width: 100%; border: 2px solid #bbb;\">\n",
       "        <!-- Header Row -->\n",
       "        <div style=\"display: flex; font-weight: bold; background: #d6d8db; padding: 8px; border-bottom: 2px solid #bbb;\">\n",
       "            <div style=\"width: 80px; text-align: center; border-right: 2px solid #bbb; display: flex; align-items: center; justify-content: center;\">Index</div>\n",
       "            <div style=\"width: 150px; text-align: center; border-right: 2px solid #bbb; display: flex; align-items: center; justify-content: center;\">Experiment ID</div>\n",
       "            <div style=\"flex: 1; text-align: center;\">Writeup</div>\n",
       "        </div>\n",
       "\n",
       "        <!-- Data Row -->\n",
       "        <div style=\"display: flex; padding: 8px; background: #f8f9fa;\">\n",
       "            <div style=\"width: 80px; text-align: center; border-right: 2px solid #ddd; font-weight: bold; display: flex; align-items: center; justify-content: center;\">\n",
       "                47\n",
       "            </div>\n",
       "            <div style=\"width: 150px; text-align: center; border-right: 2px solid #ddd; font-weight: bold; display: flex; align-items: center; justify-content: center;\">\n",
       "                180636\n",
       "            </div>\n",
       "            <div style=\"flex: 1; padding: 8px 12px; white-space: pre-wrap; overflow-wrap: break-word;\">\n",
       "                A mixture of 1-[2-(2,6-dioxopiperidin-3-yl)-1,3-dioxoisoindol-5-yl]piperidine-4-carbaldehyde (28.09 mg, 0.08 mmol), 2-[(10S)-12-[(3-methylpiperidin-4-yl)methyl]-1,5,6,8,12-pentazatricyclo[8.4.0.02,7]tetradeca-2,4,6-trien-4-yl]phenol (15.0 mg, 0.04 mmol), N,N-Diisopropylethylamine (0.02 mL, 0.11 mmol) and acetic acid (0.01 mL, 0.15 mmol) was stirred in DMF (1 mL) for 5 min then treated with sodium triacetoxyborohydride (40.29 mg, 0.19 mmol). The mixture was stirred at rt for 1 h and purified via prep-LC-MS (pH 2) to give 2-(2,6-dioxopiperidin-3-yl)-5-[4-[[4-[[(10S)-4-(2-hydroxyphenyl)-1,5,6,8,12-pentazatricyclo[8.4.0.02,7]tetradeca-2,4,6-trien-12-yl]methyl]-3-methylpiperidin-1-yl]methyl]piperidin-1-yl]isoindole-1,3-dione (<span style='background-color: yellow; color: black;'>?</span> mg, <span style='background-color: yellow; color: black;'>?</span> mmol, <span style='background-color: yellow; color: black;'>?</span>% yield) to be registered as PRT1004395-001. LCMS [M+H] 752.2.\n",
       "            </div>\n",
       "        </div>\n",
       "    </div>\n",
       "    </div>"
      ],
      "text/plain": [
       "<IPython.core.display.HTML object>"
      ]
     },
     "metadata": {},
     "output_type": "display_data"
    },
    {
     "data": {
      "text/html": [
       "<div style='margin: 10px 0; width: 100%; display: flex; border: 1px solid #ddd; border-radius: 4px; background: #f8f9fa;'>\n",
       "    <div style=\"display: flex; flex-direction: column; width: 100%; border: 2px solid #bbb;\">\n",
       "        <!-- Header Row -->\n",
       "        <div style=\"display: flex; font-weight: bold; background: #d6d8db; padding: 8px; border-bottom: 2px solid #bbb;\">\n",
       "            <div style=\"width: 80px; text-align: center; border-right: 2px solid #bbb; display: flex; align-items: center; justify-content: center;\">Index</div>\n",
       "            <div style=\"width: 150px; text-align: center; border-right: 2px solid #bbb; display: flex; align-items: center; justify-content: center;\">Experiment ID</div>\n",
       "            <div style=\"flex: 1; text-align: center;\">Writeup</div>\n",
       "        </div>\n",
       "\n",
       "        <!-- Data Row -->\n",
       "        <div style=\"display: flex; padding: 8px; background: #f8f9fa;\">\n",
       "            <div style=\"width: 80px; text-align: center; border-right: 2px solid #ddd; font-weight: bold; display: flex; align-items: center; justify-content: center;\">\n",
       "                48\n",
       "            </div>\n",
       "            <div style=\"width: 150px; text-align: center; border-right: 2px solid #ddd; font-weight: bold; display: flex; align-items: center; justify-content: center;\">\n",
       "                180665\n",
       "            </div>\n",
       "            <div style=\"flex: 1; padding: 8px 12px; white-space: pre-wrap; overflow-wrap: break-word;\">\n",
       "                A mixture of 1-[2-(2,6-dioxopiperidin-3-yl)-1,3-dioxoisoindol-5-yl]piperidine-4-carbaldehyde (28.09 mg, 0.08 mmol), 2-[(10S)-12-[(3-methylpiperidin-4-yl)methyl]-1,5,6,8,12-pentazatricyclo[8.4.0.02,7]tetradeca-2,4,6-trien-4-yl]phenol (15.0 mg, 0.04 mmol), N,N-Diisopropylethylamine (0.02 mL, 0.11 mmol) and acetic acid (0.01 mL, 0.15 mmol) was stirred in DMF (1 mL) for 5 min then treated with sodium triacetoxyborohydride (40.29 mg, 0.19 mmol). The mixture was stirred at rt for 1 h and purified via prep-LC-MS (pH 2) to give 2-(2,6-dioxopiperidin-3-yl)-5-[4-[[4-[[(10S)-4-(2-hydroxyphenyl)-1,5,6,8,12-pentazatricyclo[8.4.0.02,7]tetradeca-2,4,6-trien-12-yl]methyl]-3-methylpiperidin-1-yl]methyl]piperidin-1-yl]isoindole-1,3-dione (<span style='background-color: yellow; color: black;'>?</span> mg, <span style='background-color: yellow; color: black;'>?</span> mmol, <span style='background-color: yellow; color: black;'>?</span>% yield) to be registered as PRT1004396-001. LCMS [M+H] 766.2.\n",
       "            </div>\n",
       "        </div>\n",
       "    </div>\n",
       "    </div>"
      ],
      "text/plain": [
       "<IPython.core.display.HTML object>"
      ]
     },
     "metadata": {},
     "output_type": "display_data"
    },
    {
     "data": {
      "text/html": [
       "<div style='margin: 10px 0; width: 100%; display: flex; border: 1px solid #ddd; border-radius: 4px; background: #f8f9fa;'>\n",
       "    <div style=\"display: flex; flex-direction: column; width: 100%; border: 2px solid #bbb;\">\n",
       "        <!-- Header Row -->\n",
       "        <div style=\"display: flex; font-weight: bold; background: #d6d8db; padding: 8px; border-bottom: 2px solid #bbb;\">\n",
       "            <div style=\"width: 80px; text-align: center; border-right: 2px solid #bbb; display: flex; align-items: center; justify-content: center;\">Index</div>\n",
       "            <div style=\"width: 150px; text-align: center; border-right: 2px solid #bbb; display: flex; align-items: center; justify-content: center;\">Experiment ID</div>\n",
       "            <div style=\"flex: 1; text-align: center;\">Writeup</div>\n",
       "        </div>\n",
       "\n",
       "        <!-- Data Row -->\n",
       "        <div style=\"display: flex; padding: 8px; background: #f8f9fa;\">\n",
       "            <div style=\"width: 80px; text-align: center; border-right: 2px solid #ddd; font-weight: bold; display: flex; align-items: center; justify-content: center;\">\n",
       "                49\n",
       "            </div>\n",
       "            <div style=\"width: 150px; text-align: center; border-right: 2px solid #ddd; font-weight: bold; display: flex; align-items: center; justify-content: center;\">\n",
       "                180666\n",
       "            </div>\n",
       "            <div style=\"flex: 1; padding: 8px 12px; white-space: pre-wrap; overflow-wrap: break-word;\">\n",
       "                A mixture of 1-[2-(2,6-dioxopiperidin-3-yl)-1,3-dioxoisoindol-5-yl]piperidine-4-carbaldehyde (28.09 mg, 0.08 mmol), 2-[(10S)-12-[(3-methylpiperidin-4-yl)methyl]-1,5,6,8,12-pentazatricyclo[8.4.0.02,7]tetradeca-2,4,6-trien-4-yl]phenol (15.0 mg, 0.04 mmol), N,N-Diisopropylethylamine (0.02 mL, 0.11 mmol) and acetic acid (0.01 mL, 0.15 mmol) was stirred in DMF (1 mL) for 5 min then treated with sodium triacetoxyborohydride (40.29 mg, 0.19 mmol). The mixture was stirred at rt for 1 h and purified via prep-LC-MS (pH 2) to give 2-(2,6-dioxopiperidin-3-yl)-5-[4-[[4-[[(10S)-4-(2-hydroxyphenyl)-1,5,6,8,12-pentazatricyclo[8.4.0.02,7]tetradeca-2,4,6-trien-12-yl]methyl]-3-methylpiperidin-1-yl]methyl]piperidin-1-yl]isoindole-1,3-dione (<span style='background-color: yellow; color: black;'>?</span> mg, <span style='background-color: yellow; color: black;'>?</span> mmol, <span style='background-color: yellow; color: black;'>?</span>% yield) to be registered as PRT1004397-001. LCMS [M+H] 766.2.\n",
       "            </div>\n",
       "        </div>\n",
       "    </div>\n",
       "    </div>"
      ],
      "text/plain": [
       "<IPython.core.display.HTML object>"
      ]
     },
     "metadata": {},
     "output_type": "display_data"
    },
    {
     "data": {
      "text/html": [
       "<div style='margin: 10px 0; width: 100%; display: flex; border: 1px solid #ddd; border-radius: 4px; background: #f8f9fa;'>\n",
       "    <div style=\"display: flex; flex-direction: column; width: 100%; border: 2px solid #bbb;\">\n",
       "        <!-- Header Row -->\n",
       "        <div style=\"display: flex; font-weight: bold; background: #d6d8db; padding: 8px; border-bottom: 2px solid #bbb;\">\n",
       "            <div style=\"width: 80px; text-align: center; border-right: 2px solid #bbb; display: flex; align-items: center; justify-content: center;\">Index</div>\n",
       "            <div style=\"width: 150px; text-align: center; border-right: 2px solid #bbb; display: flex; align-items: center; justify-content: center;\">Experiment ID</div>\n",
       "            <div style=\"flex: 1; text-align: center;\">Writeup</div>\n",
       "        </div>\n",
       "\n",
       "        <!-- Data Row -->\n",
       "        <div style=\"display: flex; padding: 8px; background: #f8f9fa;\">\n",
       "            <div style=\"width: 80px; text-align: center; border-right: 2px solid #ddd; font-weight: bold; display: flex; align-items: center; justify-content: center;\">\n",
       "                50\n",
       "            </div>\n",
       "            <div style=\"width: 150px; text-align: center; border-right: 2px solid #ddd; font-weight: bold; display: flex; align-items: center; justify-content: center;\">\n",
       "                180682\n",
       "            </div>\n",
       "            <div style=\"flex: 1; padding: 8px 12px; white-space: pre-wrap; overflow-wrap: break-word;\">\n",
       "                A mixture of 1-[2-(2,6-dioxopiperidin-3-yl)-1,3-dioxoisoindol-5-yl]piperidine-4-carbaldehyde (28.09 mg, 0.08 mmol), 2-[(10S)-12-[(3-methylpiperidin-4-yl)methyl]-1,5,6,8,12-pentazatricyclo[8.4.0.02,7]tetradeca-2,4,6-trien-4-yl]phenol (15.0 mg, 0.04 mmol), N,N-Diisopropylethylamine (0.02 mL, 0.11 mmol) and acetic acid (0.01 mL, 0.15 mmol) was stirred in DMF (1 mL) for 5 min then treated with sodium triacetoxyborohydride (40.29 mg, 0.19 mmol). The mixture was stirred at rt for 1 h and purified via prep-LC-MS (pH 2) to give 2-(2,6-dioxopiperidin-3-yl)-5-[4-[[4-[[(10S)-4-(2-hydroxyphenyl)-1,5,6,8,12-pentazatricyclo[8.4.0.02,7]tetradeca-2,4,6-trien-12-yl]methyl]-3-methylpiperidin-1-yl]methyl]piperidin-1-yl]isoindole-1,3-dione (<span style='background-color: yellow; color: black;'>?</span> mg, <span style='background-color: yellow; color: black;'>?</span> mmol, <span style='background-color: yellow; color: black;'>?</span>% yield) to be registered as PRT1004398-001. LCMS [M+H] 748.2.\n",
       "            </div>\n",
       "        </div>\n",
       "    </div>\n",
       "    </div>"
      ],
      "text/plain": [
       "<IPython.core.display.HTML object>"
      ]
     },
     "metadata": {},
     "output_type": "display_data"
    },
    {
     "data": {
      "text/html": [
       "<div style='margin: 10px 0; width: 100%; display: flex; border: 1px solid #ddd; border-radius: 4px; background: #f8f9fa;'>\n",
       "    <div style=\"display: flex; flex-direction: column; width: 100%; border: 2px solid #bbb;\">\n",
       "        <!-- Header Row -->\n",
       "        <div style=\"display: flex; font-weight: bold; background: #d6d8db; padding: 8px; border-bottom: 2px solid #bbb;\">\n",
       "            <div style=\"width: 80px; text-align: center; border-right: 2px solid #bbb; display: flex; align-items: center; justify-content: center;\">Index</div>\n",
       "            <div style=\"width: 150px; text-align: center; border-right: 2px solid #bbb; display: flex; align-items: center; justify-content: center;\">Experiment ID</div>\n",
       "            <div style=\"flex: 1; text-align: center;\">Writeup</div>\n",
       "        </div>\n",
       "\n",
       "        <!-- Data Row -->\n",
       "        <div style=\"display: flex; padding: 8px; background: #f8f9fa;\">\n",
       "            <div style=\"width: 80px; text-align: center; border-right: 2px solid #ddd; font-weight: bold; display: flex; align-items: center; justify-content: center;\">\n",
       "                51\n",
       "            </div>\n",
       "            <div style=\"width: 150px; text-align: center; border-right: 2px solid #ddd; font-weight: bold; display: flex; align-items: center; justify-content: center;\">\n",
       "                180791\n",
       "            </div>\n",
       "            <div style=\"flex: 1; padding: 8px 12px; white-space: pre-wrap; overflow-wrap: break-word;\">\n",
       "                Standard Controls Apply: Lab coats, gloves and safety specs are to be worn at all times. All experiments should be performed in a fumehood. To 2-[(10R,13S)-13-methyl-1,5,6,8,12-pentazatricyclo[8.4.0.02,7]tetradeca-2,4,6-trien-4-yl]phenol;dihydrochloride (15.0 mg, 0.04 mmol){{9:row 1}}_XXXXX_  in MeCN (1 mL){{3:row 1}}_XXXXX_  was added N,N-Diisopropylethylamine (14.11 uL, 0.08 mmol){{9:row 4}}_XXXXX_ . Stirred until homogeneous (c. 10 min). Added tert-butyl rel-(1R,5S,6r)-6-formyl-3-azabicyclo[3.1.0]hexane-3-carboxylate (10.9 mg, 0.05 mmol){{9:row 5}}_XXXXX_  then acetic acid (11.58 uL, 0.2 mmol){{9:row 3}}_XXXXX_ . Stirred for 2 min. Added sodium triacetoxyborohydride (25.76 mg, 0.12 mmol){{9:row 2}}_XXXXX_  and stirred for 20 min. Diluted to 5 mL with MeOH and purified via prep-LC-MS. NaBH(OAc)3 added at 10:20 p.m. (5/21/21) After ~ 1 h, quenched with MeOH and concentrated. To the residue was added DCM (1 mL){{3:row 2}}_XXXXX_  then 2,2,2-trifluoroacetic acid;TFA (0.5 mL, 6.53 mmol){{9:row 6}}_XXXXX_ . Stirred at room temperature. TFA added at 2:50 p.m. After 1.5 h, concentrated. Repeated above reductive amination conditions. Start at 4:40 p.m. Column conditions: Waters SunFire C18, 5 um particle size, 30x100 mm; mobile phase: Aq(0.1% TFA)/AcN @ 60 mL/min; gradient: 13.8 - 33.8% AcN in 5 min. Obtained 2-[(10S,13S)-12-[[(1S,5R)-3-azabicyclo[3.1.0]hexan-6-yl]methyl]-13-methyl-1,5,6,8,12-pentazatricyclo[8.4.0.02,7]tetradeca-2,4,6-trien-4-yl]phenol;2,2,2-trifluoroacetic acid (<span style='background-color: yellow; color: black;'>?</span> mg, <span style='background-color: yellow; color: black;'>?</span> mmol, <span style='background-color: yellow; color: black;'>?</span>% yield) as a white solid. T = 21.4508 g T + M = 21.4764 25.6 mg\n",
       "            </div>\n",
       "        </div>\n",
       "    </div>\n",
       "    </div>"
      ],
      "text/plain": [
       "<IPython.core.display.HTML object>"
      ]
     },
     "metadata": {},
     "output_type": "display_data"
    },
    {
     "data": {
      "text/html": [
       "<div style='margin: 10px 0; width: 100%; display: flex; border: 1px solid #ddd; border-radius: 4px; background: #f8f9fa;'>\n",
       "    <div style=\"display: flex; flex-direction: column; width: 100%; border: 2px solid #bbb;\">\n",
       "        <!-- Header Row -->\n",
       "        <div style=\"display: flex; font-weight: bold; background: #d6d8db; padding: 8px; border-bottom: 2px solid #bbb;\">\n",
       "            <div style=\"width: 80px; text-align: center; border-right: 2px solid #bbb; display: flex; align-items: center; justify-content: center;\">Index</div>\n",
       "            <div style=\"width: 150px; text-align: center; border-right: 2px solid #bbb; display: flex; align-items: center; justify-content: center;\">Experiment ID</div>\n",
       "            <div style=\"flex: 1; text-align: center;\">Writeup</div>\n",
       "        </div>\n",
       "\n",
       "        <!-- Data Row -->\n",
       "        <div style=\"display: flex; padding: 8px; background: #f8f9fa;\">\n",
       "            <div style=\"width: 80px; text-align: center; border-right: 2px solid #ddd; font-weight: bold; display: flex; align-items: center; justify-content: center;\">\n",
       "                52\n",
       "            </div>\n",
       "            <div style=\"width: 150px; text-align: center; border-right: 2px solid #ddd; font-weight: bold; display: flex; align-items: center; justify-content: center;\">\n",
       "                180892\n",
       "            </div>\n",
       "            <div style=\"flex: 1; padding: 8px 12px; white-space: pre-wrap; overflow-wrap: break-word;\">\n",
       "                A mixture of 1-[2-(2,6-dioxopiperidin-3-yl)-1,3-dioxoisoindol-5-yl]piperidine-4-carbaldehyde (28.09 mg, 0.08 mmol), 2-[(10S)-12-[(3-methylpiperidin-4-yl)methyl]-1,5,6,8,12-pentazatricyclo[8.4.0.02,7]tetradeca-2,4,6-trien-4-yl]phenol (15.0 mg, 0.04 mmol), N,N-Diisopropylethylamine (0.02 mL, 0.11 mmol) and acetic acid (0.01 mL, 0.15 mmol) was stirred in DMF (1 mL) for 5 min then treated with sodium triacetoxyborohydride (40.29 mg, 0.19 mmol). The mixture was stirred at rt for 1 h and purified via prep-LC-MS (pH 2) to give 2-(2,6-dioxopiperidin-3-yl)-5-[4-[[4-[[(10S)-4-(2-hydroxyphenyl)-1,5,6,8,12-pentazatricyclo[8.4.0.02,7]tetradeca-2,4,6-trien-12-yl]methyl]-3-methylpiperidin-1-yl]methyl]piperidin-1-yl]isoindole-1,3-dione (<span style='background-color: yellow; color: black;'>?</span> mg, <span style='background-color: yellow; color: black;'>?</span> mmol, <span style='background-color: yellow; color: black;'>?</span>% yield) to be registered as PRT1004422-001. LCMS [M+H] 734.2.\n",
       "            </div>\n",
       "        </div>\n",
       "    </div>\n",
       "    </div>"
      ],
      "text/plain": [
       "<IPython.core.display.HTML object>"
      ]
     },
     "metadata": {},
     "output_type": "display_data"
    },
    {
     "data": {
      "text/html": [
       "<div style='margin: 10px 0; width: 100%; display: flex; border: 1px solid #ddd; border-radius: 4px; background: #f8f9fa;'>\n",
       "    <div style=\"display: flex; flex-direction: column; width: 100%; border: 2px solid #bbb;\">\n",
       "        <!-- Header Row -->\n",
       "        <div style=\"display: flex; font-weight: bold; background: #d6d8db; padding: 8px; border-bottom: 2px solid #bbb;\">\n",
       "            <div style=\"width: 80px; text-align: center; border-right: 2px solid #bbb; display: flex; align-items: center; justify-content: center;\">Index</div>\n",
       "            <div style=\"width: 150px; text-align: center; border-right: 2px solid #bbb; display: flex; align-items: center; justify-content: center;\">Experiment ID</div>\n",
       "            <div style=\"flex: 1; text-align: center;\">Writeup</div>\n",
       "        </div>\n",
       "\n",
       "        <!-- Data Row -->\n",
       "        <div style=\"display: flex; padding: 8px; background: #f8f9fa;\">\n",
       "            <div style=\"width: 80px; text-align: center; border-right: 2px solid #ddd; font-weight: bold; display: flex; align-items: center; justify-content: center;\">\n",
       "                53\n",
       "            </div>\n",
       "            <div style=\"width: 150px; text-align: center; border-right: 2px solid #ddd; font-weight: bold; display: flex; align-items: center; justify-content: center;\">\n",
       "                180936\n",
       "            </div>\n",
       "            <div style=\"flex: 1; padding: 8px 12px; white-space: pre-wrap; overflow-wrap: break-word;\">\n",
       "                A mixture of 1-[2-(2,6-dioxopiperidin-3-yl)-1,3-dioxoisoindol-5-yl]piperidine-4-carbaldehyde (28.09 mg, 0.08 mmol), 2-[(10S)-12-[(3-methylpiperidin-4-yl)methyl]-1,5,6,8,12-pentazatricyclo[8.4.0.02,7]tetradeca-2,4,6-trien-4-yl]phenol (15.0 mg, 0.04 mmol), N,N-Diisopropylethylamine (0.02 mL, 0.11 mmol) and acetic acid (0.01 mL, 0.15 mmol) was stirred in DMF (1 mL) for 5 min then treated with sodium triacetoxyborohydride (40.29 mg, 0.19 mmol). The mixture was stirred at rt for 1 h and purified via prep-LC-MS (pH 2) to give 2-(2,6-dioxopiperidin-3-yl)-5-[4-[[4-[[(10S)-4-(2-hydroxyphenyl)-1,5,6,8,12-pentazatricyclo[8.4.0.02,7]tetradeca-2,4,6-trien-12-yl]methyl]-3-methylpiperidin-1-yl]methyl]piperidin-1-yl]isoindole-1,3-dione (<span style='background-color: yellow; color: black;'>?</span> mg, <span style='background-color: yellow; color: black;'>?</span> mmol, <span style='background-color: yellow; color: black;'>?</span>% yield) to be registered as PRT1004423-001. LCMS [M+H] 778.2.\n",
       "            </div>\n",
       "        </div>\n",
       "    </div>\n",
       "    </div>"
      ],
      "text/plain": [
       "<IPython.core.display.HTML object>"
      ]
     },
     "metadata": {},
     "output_type": "display_data"
    },
    {
     "data": {
      "text/html": [
       "<div style='margin: 10px 0; width: 100%; display: flex; border: 1px solid #ddd; border-radius: 4px; background: #f8f9fa;'>\n",
       "    <div style=\"display: flex; flex-direction: column; width: 100%; border: 2px solid #bbb;\">\n",
       "        <!-- Header Row -->\n",
       "        <div style=\"display: flex; font-weight: bold; background: #d6d8db; padding: 8px; border-bottom: 2px solid #bbb;\">\n",
       "            <div style=\"width: 80px; text-align: center; border-right: 2px solid #bbb; display: flex; align-items: center; justify-content: center;\">Index</div>\n",
       "            <div style=\"width: 150px; text-align: center; border-right: 2px solid #bbb; display: flex; align-items: center; justify-content: center;\">Experiment ID</div>\n",
       "            <div style=\"flex: 1; text-align: center;\">Writeup</div>\n",
       "        </div>\n",
       "\n",
       "        <!-- Data Row -->\n",
       "        <div style=\"display: flex; padding: 8px; background: #f8f9fa;\">\n",
       "            <div style=\"width: 80px; text-align: center; border-right: 2px solid #ddd; font-weight: bold; display: flex; align-items: center; justify-content: center;\">\n",
       "                54\n",
       "            </div>\n",
       "            <div style=\"width: 150px; text-align: center; border-right: 2px solid #ddd; font-weight: bold; display: flex; align-items: center; justify-content: center;\">\n",
       "                183092\n",
       "            </div>\n",
       "            <div style=\"flex: 1; padding: 8px 12px; white-space: pre-wrap; overflow-wrap: break-word;\">\n",
       "                1. To a suspension of copper(I) iodide (109.77 mg, 0.58 mmol){{9:row 2}}_XXXXX_  in THF (7.5 mL){{3:row 2}}_XXXXX_ at -35 °C. was added bromo-[2-(3-chlorophenyl)ethyl]magnesium (20.17 mL, 10.09 mmol){{9:row 1}}_XXXXX_ ,  After 10 minutes stirring, a solution of epoxide [2-(hydroxymethyl)oxiran-2-yl]methanol (300.0 mg, 2.88 mmol){{9:row 3}}_XXXXX_  in THF (7.5 mL){{3:row 2}}_XXXXX_  was added to the above mixture. Stirred the mixture for 30 min at -35 °C. LCMS showed reaction went completion. (4:00 pm 07/14/2021)   2. Quenched the reaction mixture by the addition of saturated NH4Cl solution (40 mL). Extracted the reaction mixture with EA (40 mL &times; 2). The combined organic phases were dried over MgSO4, concentrate under vacuum. The residue was purified by flash column chromatography (40g silica, EA/Hex, 1:4 ) to give 2-[3-(3-chlorophenyl)propyl]propane-1,2,3-triol (0 mg, 0 mmol, 0% yield){{2:row 1}}_XXXXX_  as a clear oil (<span style='background-color: yellow; color: black;'>?</span> should be a white solid).    Note: By comparing the standard sample (CHD8-43) on LCMS and HPLC, we might not have gotten the right compound. (HPLC: sample 7.6 min, reaction product 8.5 min) The epoxide is easy to go bad: NMR (H and C) spectra seemed right. Nitrogen purge<span style='background-color: yellow; color: black;'>?</span>  \n",
       "            </div>\n",
       "        </div>\n",
       "    </div>\n",
       "    </div>"
      ],
      "text/plain": [
       "<IPython.core.display.HTML object>"
      ]
     },
     "metadata": {},
     "output_type": "display_data"
    },
    {
     "data": {
      "text/html": [
       "<div style='margin: 10px 0; width: 100%; display: flex; border: 1px solid #ddd; border-radius: 4px; background: #f8f9fa;'>\n",
       "    <div style=\"display: flex; flex-direction: column; width: 100%; border: 2px solid #bbb;\">\n",
       "        <!-- Header Row -->\n",
       "        <div style=\"display: flex; font-weight: bold; background: #d6d8db; padding: 8px; border-bottom: 2px solid #bbb;\">\n",
       "            <div style=\"width: 80px; text-align: center; border-right: 2px solid #bbb; display: flex; align-items: center; justify-content: center;\">Index</div>\n",
       "            <div style=\"width: 150px; text-align: center; border-right: 2px solid #bbb; display: flex; align-items: center; justify-content: center;\">Experiment ID</div>\n",
       "            <div style=\"flex: 1; text-align: center;\">Writeup</div>\n",
       "        </div>\n",
       "\n",
       "        <!-- Data Row -->\n",
       "        <div style=\"display: flex; padding: 8px; background: #f8f9fa;\">\n",
       "            <div style=\"width: 80px; text-align: center; border-right: 2px solid #ddd; font-weight: bold; display: flex; align-items: center; justify-content: center;\">\n",
       "                55\n",
       "            </div>\n",
       "            <div style=\"width: 150px; text-align: center; border-right: 2px solid #ddd; font-weight: bold; display: flex; align-items: center; justify-content: center;\">\n",
       "                183194\n",
       "            </div>\n",
       "            <div style=\"flex: 1; padding: 8px 12px; white-space: pre-wrap; overflow-wrap: break-word;\">\n",
       "                1. To a suspension of copper(I) iodide (54.88 mg, 0.29 mmol){{9:row 2}}_XXXXX_  in THF (4 mL){{3:row 1}}_XXXXX_ at -35 °C. was added bromo-[2-(3-chlorophenyl)ethyl]magnesium (10.09 mL, 5.04 mmol){{9:row 1}}_XXXXX_ ,  (10:45 am 07/16/2021) After 10 minutes stirring, a solution of epoxide [2-(hydroxymethyl)oxiran-2-yl]methanol (150.0 mg, 1.44 mmol){{9:row 3}}_XXXXX_  in THF (3 mL){{3:row 2}}_XXXXX_  was added to the above mixture. (10:55 am 07/16/2021) Stirred the mixture for 30 min at -35 °C. LCMS showed reaction went completion. (11:30 am 07/16/2021)   2. Quenched the reaction mixture by the addition of saturated NH4Cl solution (40 mL). Extracted the reaction mixture with EA (40 mL &times; 2). The combined organic phases were dried over MgSO4, concentrate under vacuum. The residue was purified by flash column chromatography (40g silica, EA/Hex, 1:4 ) to give 2-[3-(3-chlorophenyl)propyl]propane-1,2,3-triol (0 mg, 0 mmol, 0% yield){{2:row 1}}_XXXXX_  as a clear oil (<span style='background-color: yellow; color: black;'>?</span> should be a white solid).    The reaction was the same as the previous PWE001-20. No desired product was formed.\n",
       "            </div>\n",
       "        </div>\n",
       "    </div>\n",
       "    </div>"
      ],
      "text/plain": [
       "<IPython.core.display.HTML object>"
      ]
     },
     "metadata": {},
     "output_type": "display_data"
    },
    {
     "data": {
      "text/html": [
       "<div style='margin: 10px 0; width: 100%; display: flex; border: 1px solid #ddd; border-radius: 4px; background: #f8f9fa;'>\n",
       "    <div style=\"display: flex; flex-direction: column; width: 100%; border: 2px solid #bbb;\">\n",
       "        <!-- Header Row -->\n",
       "        <div style=\"display: flex; font-weight: bold; background: #d6d8db; padding: 8px; border-bottom: 2px solid #bbb;\">\n",
       "            <div style=\"width: 80px; text-align: center; border-right: 2px solid #bbb; display: flex; align-items: center; justify-content: center;\">Index</div>\n",
       "            <div style=\"width: 150px; text-align: center; border-right: 2px solid #bbb; display: flex; align-items: center; justify-content: center;\">Experiment ID</div>\n",
       "            <div style=\"flex: 1; text-align: center;\">Writeup</div>\n",
       "        </div>\n",
       "\n",
       "        <!-- Data Row -->\n",
       "        <div style=\"display: flex; padding: 8px; background: #f8f9fa;\">\n",
       "            <div style=\"width: 80px; text-align: center; border-right: 2px solid #ddd; font-weight: bold; display: flex; align-items: center; justify-content: center;\">\n",
       "                56\n",
       "            </div>\n",
       "            <div style=\"width: 150px; text-align: center; border-right: 2px solid #ddd; font-weight: bold; display: flex; align-items: center; justify-content: center;\">\n",
       "                183464\n",
       "            </div>\n",
       "            <div style=\"flex: 1; padding: 8px 12px; white-space: pre-wrap; overflow-wrap: break-word;\">\n",
       "                To a solution of4-chloro-7-iodo-1H-imidazo[4,5-c]pyridine (50.0 mg, 0.18 mmol){{9:row 1}}_XXXXX_  and β-D-Ribofuranose 1-acetate 2,3,5-tribenzoate (92.1 mg, 0.18 mmol){{9:row 2}}_XXXXX_  in  MeCN (3 mL){{3:row 1}}_XXXXX_ was added Tin tetrachloride (0.5 mL, <span style='background-color: yellow; color: black;'>?</span> mmol)at rt .The reaction was at rt for 16h under anhydrous conditions. LCMS (ZZH009-38-R) showed  no reaction .    \n",
       "            </div>\n",
       "        </div>\n",
       "    </div>\n",
       "    </div>"
      ],
      "text/plain": [
       "<IPython.core.display.HTML object>"
      ]
     },
     "metadata": {},
     "output_type": "display_data"
    },
    {
     "data": {
      "text/html": [
       "<div style='margin: 10px 0; width: 100%; display: flex; border: 1px solid #ddd; border-radius: 4px; background: #f8f9fa;'>\n",
       "    <div style=\"display: flex; flex-direction: column; width: 100%; border: 2px solid #bbb;\">\n",
       "        <!-- Header Row -->\n",
       "        <div style=\"display: flex; font-weight: bold; background: #d6d8db; padding: 8px; border-bottom: 2px solid #bbb;\">\n",
       "            <div style=\"width: 80px; text-align: center; border-right: 2px solid #bbb; display: flex; align-items: center; justify-content: center;\">Index</div>\n",
       "            <div style=\"width: 150px; text-align: center; border-right: 2px solid #bbb; display: flex; align-items: center; justify-content: center;\">Experiment ID</div>\n",
       "            <div style=\"flex: 1; text-align: center;\">Writeup</div>\n",
       "        </div>\n",
       "\n",
       "        <!-- Data Row -->\n",
       "        <div style=\"display: flex; padding: 8px; background: #f8f9fa;\">\n",
       "            <div style=\"width: 80px; text-align: center; border-right: 2px solid #ddd; font-weight: bold; display: flex; align-items: center; justify-content: center;\">\n",
       "                57\n",
       "            </div>\n",
       "            <div style=\"width: 150px; text-align: center; border-right: 2px solid #ddd; font-weight: bold; display: flex; align-items: center; justify-content: center;\">\n",
       "                183767\n",
       "            </div>\n",
       "            <div style=\"flex: 1; padding: 8px 12px; white-space: pre-wrap; overflow-wrap: break-word;\">\n",
       "                To a solution of4-chloro-7-iodo-1H-imidazo[4,5-c]pyridine (50.0 mg, 0.18 mmol){{9:row 1}}_XXXXX_  and [(2R,3R,4R,5S)-3,4,5-triacetyloxyoxolan-2-yl]methyl acetate (56.94 mg, 0.18 mmol){{9:row 2}}_XXXXX_  in  MeCN (3 mL){{3:row 1}}_XXXXX_ was added Tin tetrachloride (0.5 mL, <span style='background-color: yellow; color: black;'>?</span> mmol)at rt .The reaction was at rt for 16h under anhydrous conditions. LCMS (ZZH009-47-R) showed  no reaction .    \n",
       "            </div>\n",
       "        </div>\n",
       "    </div>\n",
       "    </div>"
      ],
      "text/plain": [
       "<IPython.core.display.HTML object>"
      ]
     },
     "metadata": {},
     "output_type": "display_data"
    },
    {
     "data": {
      "text/html": [
       "<div style='margin: 10px 0; width: 100%; display: flex; border: 1px solid #ddd; border-radius: 4px; background: #f8f9fa;'>\n",
       "    <div style=\"display: flex; flex-direction: column; width: 100%; border: 2px solid #bbb;\">\n",
       "        <!-- Header Row -->\n",
       "        <div style=\"display: flex; font-weight: bold; background: #d6d8db; padding: 8px; border-bottom: 2px solid #bbb;\">\n",
       "            <div style=\"width: 80px; text-align: center; border-right: 2px solid #bbb; display: flex; align-items: center; justify-content: center;\">Index</div>\n",
       "            <div style=\"width: 150px; text-align: center; border-right: 2px solid #bbb; display: flex; align-items: center; justify-content: center;\">Experiment ID</div>\n",
       "            <div style=\"flex: 1; text-align: center;\">Writeup</div>\n",
       "        </div>\n",
       "\n",
       "        <!-- Data Row -->\n",
       "        <div style=\"display: flex; padding: 8px; background: #f8f9fa;\">\n",
       "            <div style=\"width: 80px; text-align: center; border-right: 2px solid #ddd; font-weight: bold; display: flex; align-items: center; justify-content: center;\">\n",
       "                58\n",
       "            </div>\n",
       "            <div style=\"width: 150px; text-align: center; border-right: 2px solid #ddd; font-weight: bold; display: flex; align-items: center; justify-content: center;\">\n",
       "                183850\n",
       "            </div>\n",
       "            <div style=\"flex: 1; padding: 8px 12px; white-space: pre-wrap; overflow-wrap: break-word;\">\n",
       "                A mixture of 2-(2-chloro-5-fluoropyrimidin-4-yl)-5-methyl-7-propan-2-ylthieno[3,2-c]pyridin-4-one (25.0 mg, 0.07 mmol){{9:row 1}}_XXXXX_ , 1-(Methylsulfonyl)-3-pyrrolidinamine (14.59 mg, 0.09 mmol){{9:row 2}}_XXXXX_ , AdBrettphos Pd G3 (7.48 mg, 0.01 mmol){{9:row 3}}_XXXXX_ ,and Sodium tert-butoxide (21.34 mg, 0.22 mmol){{9:row 4}}_XXXXX_  in 1,4-Dioxane (<span style='background-color: yellow; color: black;'>?</span> mL) was purged with N2 for 2 mins. Then it was stirred at 100 °C for 3h. The LC-MS showed full consumption of limiting starting material. The mixture was diluted by methanol and purified by prep-HPLC on C18 column (30 x 250 mm, 10 μm) using mobile phase 10% to 55% MeCN/H2O (w/ 0.1% TFA) (tR = 16 min). The desried fractions were collected, concentrated and freeze-dried to give 2-[5-fluoro-2-[(1-methylsulfonylpyrrolidin-3-yl)amino]pyrimidin-4-yl]-5-methyl-7-propan-2-ylthieno[3,2-c]pyridin-4-one (7 mg, 0.01504 mmol, 20.316% yield){{2:row 1}}_XXXXX_  as TFA salts. LC-MS calc. for C20H24FN5O3S2[M+H]+ 466.1; Found 466.1 Weight of empty vial: 4.3757 gWeight of vial + sample: 4.3802 gSample weight: 4.5 mg\n",
       "            </div>\n",
       "        </div>\n",
       "    </div>\n",
       "    </div>"
      ],
      "text/plain": [
       "<IPython.core.display.HTML object>"
      ]
     },
     "metadata": {},
     "output_type": "display_data"
    },
    {
     "data": {
      "text/html": [
       "<div style='margin: 10px 0; width: 100%; display: flex; border: 1px solid #ddd; border-radius: 4px; background: #f8f9fa;'>\n",
       "    <div style=\"display: flex; flex-direction: column; width: 100%; border: 2px solid #bbb;\">\n",
       "        <!-- Header Row -->\n",
       "        <div style=\"display: flex; font-weight: bold; background: #d6d8db; padding: 8px; border-bottom: 2px solid #bbb;\">\n",
       "            <div style=\"width: 80px; text-align: center; border-right: 2px solid #bbb; display: flex; align-items: center; justify-content: center;\">Index</div>\n",
       "            <div style=\"width: 150px; text-align: center; border-right: 2px solid #bbb; display: flex; align-items: center; justify-content: center;\">Experiment ID</div>\n",
       "            <div style=\"flex: 1; text-align: center;\">Writeup</div>\n",
       "        </div>\n",
       "\n",
       "        <!-- Data Row -->\n",
       "        <div style=\"display: flex; padding: 8px; background: #f8f9fa;\">\n",
       "            <div style=\"width: 80px; text-align: center; border-right: 2px solid #ddd; font-weight: bold; display: flex; align-items: center; justify-content: center;\">\n",
       "                59\n",
       "            </div>\n",
       "            <div style=\"width: 150px; text-align: center; border-right: 2px solid #ddd; font-weight: bold; display: flex; align-items: center; justify-content: center;\">\n",
       "                183975\n",
       "            </div>\n",
       "            <div style=\"flex: 1; padding: 8px 12px; white-space: pre-wrap; overflow-wrap: break-word;\">\n",
       "                1. To a mixture of [6-chloro-1-(dimethoxymethyl)-3,4-dihydro-2H-naphthalen-1-yl]methanol (497.0 mg, 1.84 mmol){{9:row 2}}_XXXXX_  in THF (5 mL){{3:row 1}}_XXXXX_  was added NaHMDS (2.02 mL, 4.04 mmol){{9:row 3}}_XXXXX_  dropwise at 0 degrees. Let the reaction stir for 5 min. (1:52 pm 07/30/2021) 2. Dissolve 4-Fluoro-3-nitrobenzenesulfonamide (0.42 g, 1.93 mmol){{9:row 1}}_XXXXX_  in THF (3 mL){{3:row 2}}_XXXXX_  and add the resulting solutionn to the mixture at 0 °C{{8:row 1}}_XXXXX_  over 8 min dropwise. The reaction was kpet at 0 degrees and stirred for 30 min. (2:05 pm 07/30) 3. 1 mL of water was added at 0 degrees, and stirred for 15 min to quench the reaction. More water (60 mL) and HCl (1 N, 20 mL) were added. (2:38 pm 07/30) 4. Extraction with MTBE 150 mL, AQ pH~12.5 (0.01 N NaOH), HPLC check both ORG and AQ. Then washed with NH4Cl 10 mL (neutralize the system), brine 10 mL, dried over Na2SO4, concentrated in vacuo. 728 mg was obtained. 5. dissolved in MTBE ~3 mL and the solution was added slowly (dropwise) into heptane (30 mL) with vigorous stirring for 4 h. 6. filter, collect residue to give PWE001-40-6, and dry on pump overnight (NMR: PWE001-40-6-residue) 7. take 100 mg (x4) in 1-dram vial, add the following solvent 2 mL a) acetone in water (1/5) b) acetonitrile in water (1/5) c) IPA in water (1/5) d) MeOH in water (1/5) to the vial with vigorous stir. 8. filter, collect residue to give PWE001-40-8X-residue, and collect filtrate to give PWE001-40-8X-filtrate 9. take 50 mg (x2) in 1-dram vial, add the following solvent. a) acetone in water (1/5) 2 mL (double the sovent) b) acetone in water (1/4) 1 mL (more acetone) to the vial with vigorous stir. (10:10 am 08/06/2021) NOTE: gentle heating (40 degrees, 30 min) was applied to the vials. 9b formed a muddy (<span style='background-color: yellow; color: black;'>?</span>) type form stuck on the stir bar and 9a partially. Revome the heat, the compound came off the stir bar but it was a little bit chunky.       \n",
       "            </div>\n",
       "        </div>\n",
       "    </div>\n",
       "    </div>"
      ],
      "text/plain": [
       "<IPython.core.display.HTML object>"
      ]
     },
     "metadata": {},
     "output_type": "display_data"
    },
    {
     "data": {
      "text/html": [
       "<div style='margin: 10px 0; width: 100%; display: flex; border: 1px solid #ddd; border-radius: 4px; background: #f8f9fa;'>\n",
       "    <div style=\"display: flex; flex-direction: column; width: 100%; border: 2px solid #bbb;\">\n",
       "        <!-- Header Row -->\n",
       "        <div style=\"display: flex; font-weight: bold; background: #d6d8db; padding: 8px; border-bottom: 2px solid #bbb;\">\n",
       "            <div style=\"width: 80px; text-align: center; border-right: 2px solid #bbb; display: flex; align-items: center; justify-content: center;\">Index</div>\n",
       "            <div style=\"width: 150px; text-align: center; border-right: 2px solid #bbb; display: flex; align-items: center; justify-content: center;\">Experiment ID</div>\n",
       "            <div style=\"flex: 1; text-align: center;\">Writeup</div>\n",
       "        </div>\n",
       "\n",
       "        <!-- Data Row -->\n",
       "        <div style=\"display: flex; padding: 8px; background: #f8f9fa;\">\n",
       "            <div style=\"width: 80px; text-align: center; border-right: 2px solid #ddd; font-weight: bold; display: flex; align-items: center; justify-content: center;\">\n",
       "                60\n",
       "            </div>\n",
       "            <div style=\"width: 150px; text-align: center; border-right: 2px solid #ddd; font-weight: bold; display: flex; align-items: center; justify-content: center;\">\n",
       "                184197\n",
       "            </div>\n",
       "            <div style=\"flex: 1; padding: 8px 12px; white-space: pre-wrap; overflow-wrap: break-word;\">\n",
       "                1a. To a suspension of copper(I) iodide (54.88 mg, 0.29 mmol){{9:row 1}}_XXXXX_  in THF (4 mL){{3:row 1}}_XXXXX_ at -35 °C{{8:row 1}}_XXXXX_ . was added 3-Chlorophenethylmagnesium bromide (10.09 mL, 5.04 mmol){{9:row 5}}_XXXXX_ ,  (2:35 pm 08/03/2021) After 10 minutes stirring, a solution of epoxide [2-(hydroxymethyl)oxiran-2-yl]methanol (150.0 mg, 1.44 mmol){{9:row 2}}_XXXXX_  in THF (3 mL){{3:row 2}}_XXXXX_  was added to the above mixture. (2:45 pm) Stirred the mixture for 30 min at -35 °C. (3:15 pm) 1b. To a suspension of copper(I) iodide (54.88 mg, 0.29 mmol){{9:row 1}}_XXXXX_  in THF (4 mL)at -35 °C{{8:row 1}}_XXXXX_ . was added 3-Chlorophenethylmagnesium bromide (4.32 mL, 2.16 mmol){{9:row 4}}_XXXXX_ ,  (2:35 pm 08/03/2021) After 10 minutes stirring, a solution of epoxide dimethyloxirane (103.9 mg, 1.44 mmol){{9:row 3}}_XXXXX_  in THF (3 mL) was added to the above mixture. (2:45 pm) Stirred the mixture for 30 min at -35 °C. (3:15 pm)   2. Quenched the reaction mixture by the addition of saturated NH4Cl solution (40 mL). Extracted the reaction mixture with EA (40 mL &times; 2). The combined organic phases were dried over MgSO4, concentrate under vacuum. The residue was purified by flash column chromatography (40g silica, EA/Hex, 1:4 ) to give 2-[3-(3-chlorophenyl)propyl]propane-1,2,3-triol (59.6 mg, 0.24355 mmol, 16.903% yield){{2:row 1}}_XXXXX_  as a clear oil (<span style='background-color: yellow; color: black;'>?</span> should be a white solid).   \n",
       "            </div>\n",
       "        </div>\n",
       "    </div>\n",
       "    </div>"
      ],
      "text/plain": [
       "<IPython.core.display.HTML object>"
      ]
     },
     "metadata": {},
     "output_type": "display_data"
    },
    {
     "data": {
      "text/html": [
       "<div style='margin: 10px 0; width: 100%; display: flex; border: 1px solid #ddd; border-radius: 4px; background: #f8f9fa;'>\n",
       "    <div style=\"display: flex; flex-direction: column; width: 100%; border: 2px solid #bbb;\">\n",
       "        <!-- Header Row -->\n",
       "        <div style=\"display: flex; font-weight: bold; background: #d6d8db; padding: 8px; border-bottom: 2px solid #bbb;\">\n",
       "            <div style=\"width: 80px; text-align: center; border-right: 2px solid #bbb; display: flex; align-items: center; justify-content: center;\">Index</div>\n",
       "            <div style=\"width: 150px; text-align: center; border-right: 2px solid #bbb; display: flex; align-items: center; justify-content: center;\">Experiment ID</div>\n",
       "            <div style=\"flex: 1; text-align: center;\">Writeup</div>\n",
       "        </div>\n",
       "\n",
       "        <!-- Data Row -->\n",
       "        <div style=\"display: flex; padding: 8px; background: #f8f9fa;\">\n",
       "            <div style=\"width: 80px; text-align: center; border-right: 2px solid #ddd; font-weight: bold; display: flex; align-items: center; justify-content: center;\">\n",
       "                61\n",
       "            </div>\n",
       "            <div style=\"width: 150px; text-align: center; border-right: 2px solid #ddd; font-weight: bold; display: flex; align-items: center; justify-content: center;\">\n",
       "                184623\n",
       "            </div>\n",
       "            <div style=\"flex: 1; padding: 8px 12px; white-space: pre-wrap; overflow-wrap: break-word;\">\n",
       "                08/11/2021 15:28 titanium(IV) isopropoxide (0.22 mL, 0.74 mmol) was added to a solution of 1-thiophen-2-ylcyclopropane-1-carbonitrile (100.0 mg, 0.67 mmol) in Ether (6.702 mL) at room temperature. Ethylmagnesium bromide (0.49 mL, 1.47 mmol) was added dropwise and the reaction was stirred for 1 hour. boron trifluoride diethyletherate (0.18 mL, 1.47 mmol) was added and the reaction was stirred overnight. LC/MS analysis (CSH-C18_AcN_TFA), showed a mass hit for product and no remaining SM. The reaction was quenched with a 1M aqueous solution of HCl (2 mL) and ethyl acetate (10 mL) was added. An aqueous solution of 10% NaOH (7 mL) was added to the mixture. The solution was filtered and the layers were separated. The combined organics were dried over sodium sulfate, filtered and concentrated to give crude 1-(1-thiophen-2-ylcyclopropyl)cyclopropan-1-amine (<span style='background-color: yellow; color: black;'>?</span> mg, <span style='background-color: yellow; color: black;'>?</span> mmol, <span style='background-color: yellow; color: black;'>?</span>% yield) as a dark brown oil.   \n",
       "            </div>\n",
       "        </div>\n",
       "    </div>\n",
       "    </div>"
      ],
      "text/plain": [
       "<IPython.core.display.HTML object>"
      ]
     },
     "metadata": {},
     "output_type": "display_data"
    },
    {
     "data": {
      "text/html": [
       "<div style='margin: 10px 0; width: 100%; display: flex; border: 1px solid #ddd; border-radius: 4px; background: #f8f9fa;'>\n",
       "    <div style=\"display: flex; flex-direction: column; width: 100%; border: 2px solid #bbb;\">\n",
       "        <!-- Header Row -->\n",
       "        <div style=\"display: flex; font-weight: bold; background: #d6d8db; padding: 8px; border-bottom: 2px solid #bbb;\">\n",
       "            <div style=\"width: 80px; text-align: center; border-right: 2px solid #bbb; display: flex; align-items: center; justify-content: center;\">Index</div>\n",
       "            <div style=\"width: 150px; text-align: center; border-right: 2px solid #bbb; display: flex; align-items: center; justify-content: center;\">Experiment ID</div>\n",
       "            <div style=\"flex: 1; text-align: center;\">Writeup</div>\n",
       "        </div>\n",
       "\n",
       "        <!-- Data Row -->\n",
       "        <div style=\"display: flex; padding: 8px; background: #f8f9fa;\">\n",
       "            <div style=\"width: 80px; text-align: center; border-right: 2px solid #ddd; font-weight: bold; display: flex; align-items: center; justify-content: center;\">\n",
       "                62\n",
       "            </div>\n",
       "            <div style=\"width: 150px; text-align: center; border-right: 2px solid #ddd; font-weight: bold; display: flex; align-items: center; justify-content: center;\">\n",
       "                184657\n",
       "            </div>\n",
       "            <div style=\"flex: 1; padding: 8px 12px; white-space: pre-wrap; overflow-wrap: break-word;\">\n",
       "                1. To a mixture of [6-chloro-1-(dimethoxymethyl)-3,4-dihydro-2H-naphthalen-1-yl]methanol (1.41 g, 5.21 mmol){{9:row 2}}_XXXXX_  in THF (15 mL){{3:row 1}}_XXXXX_  was added NaHMDS (5.73 mL, 11.46 mmol){{9:row 3}}_XXXXX_  dropwise at 0 degrees. Let the reaction stir for 5 min. (11:25 am 08/12/2021)   Dissolve 4-Fluoro-3-nitrobenzenesulfonamide (1.15 g, 5.21 mmol){{9:row 1}}_XXXXX_  in THF (9 mL){{3:row 2}}_XXXXX_  (8 mL plus 1 mL rinse) and add the resulting solutionn to the mixture at 0 °C{{8:row 1}}_XXXXX_  over 8 min dropwise. The reaction was kpet at 0 degrees and stirred for 30 min. (11:44 am) 2. The reaction was not completed, 0.1 eq. more of NaHMDS (.26 mL) was added to the reaction (12:45 pm) and the mixture was continued to stir for half an hour.  3. 0.5 mL of water was added at 0 degrees, and stirred overnight at r.t. to quench the reaction.  4. The reaction was cooled down in an ice bath, and water (25 mL) and HCl (1 N, 5 mL) were added (in a total of 20 V). (9:30 am 08/13) Extraction with MTBE 60 mL (40 V), AQ pH~12.5, HPLC check both ORG and AQ. Then washed with NH4Cl 30 mL (neutralize the system), brine 30 mL. 5. The organic layer was wahsed with 0.01 N NaOH (60 mL). Then washed with NH4Cl 30 mL (neutralize the system), brine 30 mL, dried over Na2SO4, concentrated in vacuo over the weekend. (11:08 am 08/13) 6. The gum-like product was dissolved in 3 mL of THF and the solution was added slowly (dropwise) into heptane (30 mL) with vigorous stirring for 2 h. But majority of the product precipitated out back to the gum-like state. (10:11 am 08/16) Everything was combined together and the solvent was removed in vacuo. 7. The product was again dissolved in MTBE ~3 mL and the solution was added slowly (dropwise, over the span of 90 min) into heptane (50 mL) with vigorous stirring overnight. (5:30 to 9:15 am the next day) 8. filter, collect residue to give PWE001-49-8, and dry on pump for 5 h. 1.72 g, 70.1% yield 9. take 200 mg in 20 mL vial, add acetone in water (1/5, 8 mL) and the mixture was stirred overnight (4:35 pm to 9:15 am 08/18) filter, collect residue to give PWE001-49-9, and dry on pump overnight. 174.2 mg was recovered, 87% yield   ================================================I didn't do the following steps, they are kept for info.======================================== 7. take 100 mg (x4) in 1-dram vial, add the following solvent 2 mL a) acetone in water (1/5) b) acetonitrile in water (1/5) c) IPA in water (1/5) d) MeOH in water (1/5) to the vial with vigorous stir. 8. filter, collect residue to give PWE001-40-8X-residue, and collect filtrate to give PWE001-40-8X-filtrate 9. take 50 mg (x2) in 1-dram vial, add the following solvent. a) acetone in water (1/5) 2 mL (double the sovent) b) acetone in water (1/4) 1 mL (more acetone) to the vial with vigorous stir. (10:10 am 08/06/2021) NOTE: gentle heating (40 degrees, 30 min) was applied to the vials. 9b formed a muddy (<span style='background-color: yellow; color: black;'>?</span>) type form stuck on the stir bar and 9a partially. Revome the heat, the compound came off the stir bar but it was a little bit chunky.       \n",
       "            </div>\n",
       "        </div>\n",
       "    </div>\n",
       "    </div>"
      ],
      "text/plain": [
       "<IPython.core.display.HTML object>"
      ]
     },
     "metadata": {},
     "output_type": "display_data"
    },
    {
     "data": {
      "text/html": [
       "<div style='margin: 10px 0; width: 100%; display: flex; border: 1px solid #ddd; border-radius: 4px; background: #f8f9fa;'>\n",
       "    <div style=\"display: flex; flex-direction: column; width: 100%; border: 2px solid #bbb;\">\n",
       "        <!-- Header Row -->\n",
       "        <div style=\"display: flex; font-weight: bold; background: #d6d8db; padding: 8px; border-bottom: 2px solid #bbb;\">\n",
       "            <div style=\"width: 80px; text-align: center; border-right: 2px solid #bbb; display: flex; align-items: center; justify-content: center;\">Index</div>\n",
       "            <div style=\"width: 150px; text-align: center; border-right: 2px solid #bbb; display: flex; align-items: center; justify-content: center;\">Experiment ID</div>\n",
       "            <div style=\"flex: 1; text-align: center;\">Writeup</div>\n",
       "        </div>\n",
       "\n",
       "        <!-- Data Row -->\n",
       "        <div style=\"display: flex; padding: 8px; background: #f8f9fa;\">\n",
       "            <div style=\"width: 80px; text-align: center; border-right: 2px solid #ddd; font-weight: bold; display: flex; align-items: center; justify-content: center;\">\n",
       "                63\n",
       "            </div>\n",
       "            <div style=\"width: 150px; text-align: center; border-right: 2px solid #ddd; font-weight: bold; display: flex; align-items: center; justify-content: center;\">\n",
       "                185889\n",
       "            </div>\n",
       "            <div style=\"flex: 1; padding: 8px 12px; white-space: pre-wrap; overflow-wrap: break-word;\">\n",
       "                Ref: https://pubs.acs.org/doi/10.1021/jo3023878   To a round-bottom flask equipped with a magnetic stir bar and under an atmosphere of N2 was charged aldehyde (33 mmol) followed by EtOH (50 mL). To the reaction mixture was charged a solution of Na2S2O5 (23 mmol) in H2O (5 mL), and the reaction mixture was subsequently heated until complete consumption of starting aldehyde was observed. The heterogeneous reaction mixture was cooled to ambient temperature, stirred for 4 h, and then isolated by vacuum filtration. The product cake was washed with EtOH (3 &times; 2 mL) and subsequently dried under vacuum.    ==================================================================================   1. To a 2-dram vial equipped with a magnetic stir bar was charged [(1S)-1-[(1R,2R)-2-formylcyclobutyl]prop-2-enyl] 2-(4-methylphenyl)acetate (0.5 g, 1.84 mmol){{9:row 1}}_XXXXX_  followed by Ethanol (2.7 mL){{3:row 2}}_XXXXX_ . To the reaction mixture was charged a solution of sodium bisulfite (286.57 mg, 2.75 mmol){{9:row 2}}_XXXXX_  in H2O (0.3 mL), and the reaction mixture was subsequently heated until complete consumption of starting aldehyde was observed. (10:30 am 09/04/2021)   Note: 0.5 mL NaHSO3 solution was made, however, the salt cound NOT dissolve completely in water.   After 3 hour, the white cloudy precipitate was formed (could still be just NaHSO3 salt) and the heat was stopped. Place the vial in the fridge over the weekend. The whole thing turned into a two-layer gel and it could not turn back to liquid form after heating back to 60 degrees.        1b. Conditions were the same except 1.2 eq. of NaHSO3 was added. the aq. solution still could not dissolve all the salt this time. (4:43 pm 09/04)   2b. The reaction was stirred overnight but not much solid was formed during the process. But after placing it still (<span style='background-color: yellow; color: black;'>?</span>) for a couple of days there were some cystalline type solid forming on the wall. (11:00 am 09/10)   3b. The solid was filtered and washed with ethanol. (12:05 am)   Note: after awhile on vaccum, some alcohol in the filtrate was gone, and some more solid was formed. (yield unkown)\n",
       "            </div>\n",
       "        </div>\n",
       "    </div>\n",
       "    </div>"
      ],
      "text/plain": [
       "<IPython.core.display.HTML object>"
      ]
     },
     "metadata": {},
     "output_type": "display_data"
    },
    {
     "data": {
      "text/html": [
       "<div style='margin: 10px 0; width: 100%; display: flex; border: 1px solid #ddd; border-radius: 4px; background: #f8f9fa;'>\n",
       "    <div style=\"display: flex; flex-direction: column; width: 100%; border: 2px solid #bbb;\">\n",
       "        <!-- Header Row -->\n",
       "        <div style=\"display: flex; font-weight: bold; background: #d6d8db; padding: 8px; border-bottom: 2px solid #bbb;\">\n",
       "            <div style=\"width: 80px; text-align: center; border-right: 2px solid #bbb; display: flex; align-items: center; justify-content: center;\">Index</div>\n",
       "            <div style=\"width: 150px; text-align: center; border-right: 2px solid #bbb; display: flex; align-items: center; justify-content: center;\">Experiment ID</div>\n",
       "            <div style=\"flex: 1; text-align: center;\">Writeup</div>\n",
       "        </div>\n",
       "\n",
       "        <!-- Data Row -->\n",
       "        <div style=\"display: flex; padding: 8px; background: #f8f9fa;\">\n",
       "            <div style=\"width: 80px; text-align: center; border-right: 2px solid #ddd; font-weight: bold; display: flex; align-items: center; justify-content: center;\">\n",
       "                64\n",
       "            </div>\n",
       "            <div style=\"width: 150px; text-align: center; border-right: 2px solid #ddd; font-weight: bold; display: flex; align-items: center; justify-content: center;\">\n",
       "                190882\n",
       "            </div>\n",
       "            <div style=\"flex: 1; padding: 8px 12px; white-space: pre-wrap; overflow-wrap: break-word;\">\n",
       "                A mixture of ditert-butyl rac-(10R)-4-chloro-1,5,6,8,12-pentazatricyclo[8.4.0.02,7]tetradeca-2(7),3,5-triene-8,12-dicarboxylate (300.0 mg, 0.7 mmol){{9:row 1}}_XXXXX_ , (3-fluoro-2-hydroxyphenyl)boronic acid (120.81 mg, 0.77 mmol){{9:row 2}}_XXXXX_ , \tCesium carbonate (504.9 mg, 1.55 mmol){{9:row 3}}_XXXXX_  and XPhos Pd G2 (83.13 mg, 0.11 mmol){{9:row 4}}_XXXXX_  was degased. After addition of 1,4-Dioxane (4 mL){{3:row 1}}_XXXXX_  and Water (0.50 mL){{3:row 2}}_XXXXX_ , the reaction was stirred at 120 °C{{8:row 1}}_XXXXX_  for 2 h. Then heated to 120 C  The mixture was diluted with DCM and washed with brine and extracted with DCM The crude was dissolved in 1,4-Dioxane (4 mL){{3:row 1}}_XXXXX_  and Water (0.50 mL){{3:row 2}}_XXXXX_ ; Sodium bicarbonate (355.05 mg, 4.23 mmol){{9:row 6}}_XXXXX_  and Fmoc-chloride (364.44 mg, 1.41 mmol){{9:row 5}}_XXXXX_  were added stir Not complete conversion to bis; second addition of Fmoc-chloride (364.44 mg, 1.41 mmol){{9:row 5}}_XXXXX_  and Sodium bicarbonate (355.05 mg, 4.23 mmol){{9:row 6}}_XXXXX_  stir overnight Dilute with EA, wash with water then brine dry conc, purified on silica gel column (0-100% EA/Hex) to give ditert-butyl rac-(10R)-4-(3-fluoro-2-hydroxyphenyl)-1,5,6,8,12-pentazatricyclo[8.4.0.02,7]tetradeca-2(7),3,5-triene-8,12-dicarboxylate (<span style='background-color: yellow; color: black;'>?</span> mg, <span style='background-color: yellow; color: black;'>?</span> mmol, <span style='background-color: yellow; color: black;'>?</span>% yield). LCMS [M+H] = 846.3   Mixture of mono and bis protected Fmoc\n",
       "            </div>\n",
       "        </div>\n",
       "    </div>\n",
       "    </div>"
      ],
      "text/plain": [
       "<IPython.core.display.HTML object>"
      ]
     },
     "metadata": {},
     "output_type": "display_data"
    },
    {
     "data": {
      "text/html": [
       "<div style='margin: 10px 0; width: 100%; display: flex; border: 1px solid #ddd; border-radius: 4px; background: #f8f9fa;'>\n",
       "    <div style=\"display: flex; flex-direction: column; width: 100%; border: 2px solid #bbb;\">\n",
       "        <!-- Header Row -->\n",
       "        <div style=\"display: flex; font-weight: bold; background: #d6d8db; padding: 8px; border-bottom: 2px solid #bbb;\">\n",
       "            <div style=\"width: 80px; text-align: center; border-right: 2px solid #bbb; display: flex; align-items: center; justify-content: center;\">Index</div>\n",
       "            <div style=\"width: 150px; text-align: center; border-right: 2px solid #bbb; display: flex; align-items: center; justify-content: center;\">Experiment ID</div>\n",
       "            <div style=\"flex: 1; text-align: center;\">Writeup</div>\n",
       "        </div>\n",
       "\n",
       "        <!-- Data Row -->\n",
       "        <div style=\"display: flex; padding: 8px; background: #f8f9fa;\">\n",
       "            <div style=\"width: 80px; text-align: center; border-right: 2px solid #ddd; font-weight: bold; display: flex; align-items: center; justify-content: center;\">\n",
       "                65\n",
       "            </div>\n",
       "            <div style=\"width: 150px; text-align: center; border-right: 2px solid #ddd; font-weight: bold; display: flex; align-items: center; justify-content: center;\">\n",
       "                190883\n",
       "            </div>\n",
       "            <div style=\"flex: 1; padding: 8px 12px; white-space: pre-wrap; overflow-wrap: break-word;\">\n",
       "                A mixture of ditert-butyl rac-(10R)-4-chloro-1,5,6,8,12-pentazatricyclo[8.4.0.02,7]tetradeca-2(7),3,5-triene-8,12-dicarboxylate (300.0 mg, 0.7 mmol){{9:row 1}}_XXXXX_ , (3,5-difluoro-2-hydroxyphenyl)boronic acid (134.75 mg, 0.77 mmol){{9:row 2}}_XXXXX_ , \tCesium carbonate (504.9 mg, 1.55 mmol){{9:row 3}}_XXXXX_  and XPhos Pd G2 (83.13 mg, 0.11 mmol){{9:row 4}}_XXXXX_  was degased. After addition of 1,4-Dioxane (4 mL){{3:row 1}}_XXXXX_  and Water (0.50 mL){{3:row 2}}_XXXXX_ , the reaction was stirred at 120 °C{{8:row 1}}_XXXXX_  for 2 h. The mixture was diluted with DCM and washed with brine and extracted with DCM Dry, Conc Dissolve in mixture of 1,4-Dioxane (4 mL){{3:row 1}}_XXXXX_  and Water (0.50 mL){{3:row 2}}_XXXXX_  Add FmocCl and NaHCO3 incomplete conversion after 4 hours repeat addition then stir overnight Dilute with DCM and water, extract with DCM dry conc, purified on silica gel column (0-50-100% EA/Hex) to give ditert-butyl rac-(10R)-4-(3-fluoro-2-hydroxyphenyl)-1,5,6,8,12-pentazatricyclo[8.4.0.02,7]tetradeca-2(7),3,5-triene-8,12-dicarboxylate (<span style='background-color: yellow; color: black;'>?</span> mg, <span style='background-color: yellow; color: black;'>?</span> mmol, <span style='background-color: yellow; color: black;'>?</span>% yield)12-O-tert-butyl 8-O-(9H-fluoren-9-ylmethyl) (10R)-4-[2-(9H-fluoren-9-ylmethoxycarbonyloxy)-3,5-difluorophenyl]-1,5,6,8,12-pentazatricyclo[8.4.0.02,7]tetradeca-2(7),3,5-triene-8,12-dicarboxylate (492 mg, 0.56951 mmol, 80.853% yield){{2:row 1}}_XXXXX_ . LCMS [M+H] = 864.3\n",
       "            </div>\n",
       "        </div>\n",
       "    </div>\n",
       "    </div>"
      ],
      "text/plain": [
       "<IPython.core.display.HTML object>"
      ]
     },
     "metadata": {},
     "output_type": "display_data"
    },
    {
     "data": {
      "text/html": [
       "<div style='margin: 10px 0; width: 100%; display: flex; border: 1px solid #ddd; border-radius: 4px; background: #f8f9fa;'>\n",
       "    <div style=\"display: flex; flex-direction: column; width: 100%; border: 2px solid #bbb;\">\n",
       "        <!-- Header Row -->\n",
       "        <div style=\"display: flex; font-weight: bold; background: #d6d8db; padding: 8px; border-bottom: 2px solid #bbb;\">\n",
       "            <div style=\"width: 80px; text-align: center; border-right: 2px solid #bbb; display: flex; align-items: center; justify-content: center;\">Index</div>\n",
       "            <div style=\"width: 150px; text-align: center; border-right: 2px solid #bbb; display: flex; align-items: center; justify-content: center;\">Experiment ID</div>\n",
       "            <div style=\"flex: 1; text-align: center;\">Writeup</div>\n",
       "        </div>\n",
       "\n",
       "        <!-- Data Row -->\n",
       "        <div style=\"display: flex; padding: 8px; background: #f8f9fa;\">\n",
       "            <div style=\"width: 80px; text-align: center; border-right: 2px solid #ddd; font-weight: bold; display: flex; align-items: center; justify-content: center;\">\n",
       "                66\n",
       "            </div>\n",
       "            <div style=\"width: 150px; text-align: center; border-right: 2px solid #ddd; font-weight: bold; display: flex; align-items: center; justify-content: center;\">\n",
       "                191125\n",
       "            </div>\n",
       "            <div style=\"flex: 1; padding: 8px 12px; white-space: pre-wrap; overflow-wrap: break-word;\">\n",
       "                SM dissolved in DCM (4.8732 mL){{3:row 1}}_XXXXX_  HCl in Dioxane (0.61 mL, 2.44 mmol){{9:row 2}}_XXXXX_  added Stir 2 hours   Concentrated Obtained 9H-fluoren-9-ylmethyl (10R)-4-[2-(9H-fluoren-9-ylmethoxycarbonyloxy)-3,5-difluorophenyl]-1,5,6,8,12-pentazatricyclo[8.4.0.02,7]tetradeca-2(7),3,5-triene-8-carboxylate;dihydrochloride (<span style='background-color: yellow; color: black;'>?</span> mg, <span style='background-color: yellow; color: black;'>?</span> mmol, <span style='background-color: yellow; color: black;'>?</span>% yield) as a off white solid assumed quant yield M+1 = 764.2 found\n",
       "            </div>\n",
       "        </div>\n",
       "    </div>\n",
       "    </div>"
      ],
      "text/plain": [
       "<IPython.core.display.HTML object>"
      ]
     },
     "metadata": {},
     "output_type": "display_data"
    },
    {
     "data": {
      "text/html": [
       "<div style='margin: 10px 0; width: 100%; display: flex; border: 1px solid #ddd; border-radius: 4px; background: #f8f9fa;'>\n",
       "    <div style=\"display: flex; flex-direction: column; width: 100%; border: 2px solid #bbb;\">\n",
       "        <!-- Header Row -->\n",
       "        <div style=\"display: flex; font-weight: bold; background: #d6d8db; padding: 8px; border-bottom: 2px solid #bbb;\">\n",
       "            <div style=\"width: 80px; text-align: center; border-right: 2px solid #bbb; display: flex; align-items: center; justify-content: center;\">Index</div>\n",
       "            <div style=\"width: 150px; text-align: center; border-right: 2px solid #bbb; display: flex; align-items: center; justify-content: center;\">Experiment ID</div>\n",
       "            <div style=\"flex: 1; text-align: center;\">Writeup</div>\n",
       "        </div>\n",
       "\n",
       "        <!-- Data Row -->\n",
       "        <div style=\"display: flex; padding: 8px; background: #f8f9fa;\">\n",
       "            <div style=\"width: 80px; text-align: center; border-right: 2px solid #ddd; font-weight: bold; display: flex; align-items: center; justify-content: center;\">\n",
       "                67\n",
       "            </div>\n",
       "            <div style=\"width: 150px; text-align: center; border-right: 2px solid #ddd; font-weight: bold; display: flex; align-items: center; justify-content: center;\">\n",
       "                191434\n",
       "            </div>\n",
       "            <div style=\"flex: 1; padding: 8px 12px; white-space: pre-wrap; overflow-wrap: break-word;\">\n",
       "                1a. To a mixture of [6-chloro-1-(hydroxymethyl)-3,4-dihydro-2H-naphthalen-1-yl]methanol (500.0 mg, 2.21 mmol) in THF (5 mL) was added NaHMDS (1.84 mL, 3.68 mmol) dropwise at 0 degrees. Let the reaction stir for 5 min. (2:06 pm 12/07/2021)  Dissolve 4-Fluoro-3-nitrobenzenesulfonamide (323.75 mg, 1.47 mmol) in THF (3 mL) and add the resulting solutionn to the mixture at 0 °C over 8 min dropwise. The reaction was kpet at 0 degrees and stirred for 30 min. (2:12 pm) diol:sulfonamide:base = 1:1.5:2.5   1b. To a mixture of [6-chloro-1-(hydroxymethyl)-3,4-dihydro-2H-naphthalen-1-yl]methanol (500.0 mg, 2.21 mmol) in THF (5 mL) was added NaHMDS (1.84 mL, 3.68 mmol) dropwise at -78 oC. Let the reaction stir for 10 min. (4:13 pm 12/06/2021)  Dissolve 4-Fluoro-3-nitrobenzenesulfonamide (323.75 mg, 1.47 mmol) in THF (3 mL) and add the resulting solutionn to the mixture at -78 oC 0 °C over 8 min dropwise. The reaction was kpet at 0 degrees and stirred for 30 min. (4:23 pm) diol:sulfonamide:base = 1:1.5:2.5  NOTE: The color didnt immediately turn dark, before I left for the day, the reaction was still in a bright red color.                1. To a mixture of [6-chloro-1-(hydroxymethyl)-3,4-dihydro-2H-naphthalen-1-yl]methanol (500.0 mg, 2.21 mmol){{9:row 2}}_XXXXX_  in THF (5 mL){{3:row 1}}_XXXXX_  was added NaHMDS (1.84 mL, 3.68 mmol){{9:row 3}}_XXXXX_  dropwise at 0 degrees. Let the reaction stir for 5 min. (11:25 am 08/12/2021)   Dissolve 4-Fluoro-3-nitrobenzenesulfonamide (323.75 mg, 1.47 mmol){{9:row 1}}_XXXXX_  in THF (3 mL){{3:row 2}}_XXXXX_  (8 mL plus 1 mL rinse) and add the resulting solutionn to the mixture at 0 °C{{8:row 1}}_XXXXX_  over 8 min dropwise. The reaction was kpet at 0 degrees and stirred for 30 min. (11:44 am) 2. The reaction was not completed, 0.1 eq. more of NaHMDS (.26 mL) was added to the reaction (12:45 pm) and the mixture was continued to stir for half an hour.  3. 0.5 mL of water was added at 0 degrees, and stirred overnight at r.t. to quench the reaction.  4. The reaction was cooled down in an ice bath, and water (25 mL) and HCl (1 N, 5 mL) were added (in a total of 20 V). (9:30 am 08/13) Extraction with MTBE 60 mL (40 V), AQ pH~12.5, HPLC check both ORG and AQ. Then washed with NH4Cl 30 mL (neutralize the system), brine 30 mL. 5. The organic layer was wahsed with 0.01 N NaOH (60 mL). Then washed with NH4Cl 30 mL (neutralize the system), brine 30 mL, dried over Na2SO4, concentrated in vacuo over the weekend. (11:08 am 08/13) 6. The gum-like product was dissolved in 3 mL of THF and the solution was added slowly (dropwise) into heptane (30 mL) with vigorous stirring for 2 h. But majority of the product precipitated out back to the gum-like state. (10:11 am 08/16) Everything was combined together and the solvent was removed in vacuo. 7. The product was again dissolved in MTBE ~3 mL and the solution was added slowly (dropwise, over the span of 90 min) into heptane (50 mL) with vigorous stirring overnight. (5:30 to 9:15 am the next day) 8. filter, collect residue to give PWE001-49-8, and dry on pump for 5 h. 1.72 g, 70.1% yield 9. take 200 mg in 20 mL vial, add acetone in water (1/5, 8 mL) and the mixture was stirred overnight (4:35 pm to 9:15 am 08/18) filter, collect residue to give PWE001-49-9, and dry on pump overnight. 174.2 mg was recovered, 87% yield   ================================================I didn't do the following steps, they are kept for info.======================================== 7. take 100 mg (x4) in 1-dram vial, add the following solvent 2 mL a) acetone in water (1/5) b) acetonitrile in water (1/5) c) IPA in water (1/5) d) MeOH in water (1/5) to the vial with vigorous stir. 8. filter, collect residue to give PWE001-40-8X-residue, and collect filtrate to give PWE001-40-8X-filtrate 9. take 50 mg (x2) in 1-dram vial, add the following solvent. a) acetone in water (1/5) 2 mL (double the sovent) b) acetone in water (1/4) 1 mL (more acetone) to the vial with vigorous stir. (10:10 am 08/06/2021) NOTE: gentle heating (40 degrees, 30 min) was applied to the vials. 9b formed a muddy (<span style='background-color: yellow; color: black;'>?</span>) type form stuck on the stir bar and 9a partially. Revome the heat, the compound came off the stir bar but it was a little bit chunky.       \n",
       "            </div>\n",
       "        </div>\n",
       "    </div>\n",
       "    </div>"
      ],
      "text/plain": [
       "<IPython.core.display.HTML object>"
      ]
     },
     "metadata": {},
     "output_type": "display_data"
    },
    {
     "data": {
      "text/html": [
       "<div style='margin: 10px 0; width: 100%; display: flex; border: 1px solid #ddd; border-radius: 4px; background: #f8f9fa;'>\n",
       "    <div style=\"display: flex; flex-direction: column; width: 100%; border: 2px solid #bbb;\">\n",
       "        <!-- Header Row -->\n",
       "        <div style=\"display: flex; font-weight: bold; background: #d6d8db; padding: 8px; border-bottom: 2px solid #bbb;\">\n",
       "            <div style=\"width: 80px; text-align: center; border-right: 2px solid #bbb; display: flex; align-items: center; justify-content: center;\">Index</div>\n",
       "            <div style=\"width: 150px; text-align: center; border-right: 2px solid #bbb; display: flex; align-items: center; justify-content: center;\">Experiment ID</div>\n",
       "            <div style=\"flex: 1; text-align: center;\">Writeup</div>\n",
       "        </div>\n",
       "\n",
       "        <!-- Data Row -->\n",
       "        <div style=\"display: flex; padding: 8px; background: #f8f9fa;\">\n",
       "            <div style=\"width: 80px; text-align: center; border-right: 2px solid #ddd; font-weight: bold; display: flex; align-items: center; justify-content: center;\">\n",
       "                68\n",
       "            </div>\n",
       "            <div style=\"width: 150px; text-align: center; border-right: 2px solid #ddd; font-weight: bold; display: flex; align-items: center; justify-content: center;\">\n",
       "                191865\n",
       "            </div>\n",
       "            <div style=\"flex: 1; padding: 8px 12px; white-space: pre-wrap; overflow-wrap: break-word;\">\n",
       "                [Set up]  A mixture of4-[[4-[4-(propan-2-ylamino)thieno[3,2-d]pyrimidin-6-yl]-5-(trifluoromethyl)pyrimidin-2-yl]amino]benzoic acid (30.0 mg, 0.06 mmol) , HATU (28.83 mg, 0.08 mmol) andDIEA (40.78 mg, 0.32 mmol) in DMF (<span style='background-color: yellow; color: black;'>?</span> mL) was degassed and purged with N2 for 3 times and then the mixture was stirred at 25 °C for 2 hrs under N2 atmosphere.Then 4-dimethylaminopiperidine (9.73 mg, 0.08 mmol)  was added.The resulting mixututure was stirred at 25 °C for 12 hrs.  [Monitoring]  LCMS showed the desired MS formed     [Work up]  The reaction mixture was partitioned between EtOAc and H2O. The combined organic layers were washed with Brine, dried over Na2SO4, filtered and concentrated under reduced pressure to give a residue.     [Purification]  The residue was purified  by prep-TLC      [Result]  We can not get the deisred MS again. The reaction was unsuccessful, the reaction mixture was discarded.\n",
       "            </div>\n",
       "        </div>\n",
       "    </div>\n",
       "    </div>"
      ],
      "text/plain": [
       "<IPython.core.display.HTML object>"
      ]
     },
     "metadata": {},
     "output_type": "display_data"
    },
    {
     "data": {
      "text/html": [
       "<div style='margin: 10px 0; width: 100%; display: flex; border: 1px solid #ddd; border-radius: 4px; background: #f8f9fa;'>\n",
       "    <div style=\"display: flex; flex-direction: column; width: 100%; border: 2px solid #bbb;\">\n",
       "        <!-- Header Row -->\n",
       "        <div style=\"display: flex; font-weight: bold; background: #d6d8db; padding: 8px; border-bottom: 2px solid #bbb;\">\n",
       "            <div style=\"width: 80px; text-align: center; border-right: 2px solid #bbb; display: flex; align-items: center; justify-content: center;\">Index</div>\n",
       "            <div style=\"width: 150px; text-align: center; border-right: 2px solid #bbb; display: flex; align-items: center; justify-content: center;\">Experiment ID</div>\n",
       "            <div style=\"flex: 1; text-align: center;\">Writeup</div>\n",
       "        </div>\n",
       "\n",
       "        <!-- Data Row -->\n",
       "        <div style=\"display: flex; padding: 8px; background: #f8f9fa;\">\n",
       "            <div style=\"width: 80px; text-align: center; border-right: 2px solid #ddd; font-weight: bold; display: flex; align-items: center; justify-content: center;\">\n",
       "                69\n",
       "            </div>\n",
       "            <div style=\"width: 150px; text-align: center; border-right: 2px solid #ddd; font-weight: bold; display: flex; align-items: center; justify-content: center;\">\n",
       "                192261\n",
       "            </div>\n",
       "            <div style=\"flex: 1; padding: 8px 12px; white-space: pre-wrap; overflow-wrap: break-word;\">\n",
       "                      To a solution of N-(1-methylpiperidin-4-yl)-N-(4-nitrophenyl)acetamide (​1100.0 mg, ​3.97 mmol)​{{1080:row 1}}_XXXXX_    in Methanol (22 mL){{3:row 1}}_XXXXX_     was added Pd/C (​220.0 mg, ​3.97 mmol)​{{1080:row 2}}_XXXXX_    and stirred at 20 °C   for 12h  under H2 (8.0 L, <span style='background-color: yellow; color: black;'>?</span> mmol)  .        TLC(DCM:MeOH=10:1,Rf/R=0.5,Rf/P=0.2) showed the starting matrial was consumed and a new spot was formed.        The mixture was filtered and the filtrate was concentrated under reduced pressure to give crude product. The crude product was purified by silica gel (DCM:MeOH=30:1-20:1) to give N-(4-aminophenyl)-N-(1-methylpiperidin-4-yl)acetamide (950 mg, 3.8025 mmol, 95.863% yield){{2:uid 1}}_XXXXX_    as white solid.  The purity was 99% showed by HPLC (GDB001-50-1).        And used directly.\n",
       "            </div>\n",
       "        </div>\n",
       "    </div>\n",
       "    </div>"
      ],
      "text/plain": [
       "<IPython.core.display.HTML object>"
      ]
     },
     "metadata": {},
     "output_type": "display_data"
    },
    {
     "data": {
      "text/html": [
       "<div style='margin: 10px 0; width: 100%; display: flex; border: 1px solid #ddd; border-radius: 4px; background: #f8f9fa;'>\n",
       "    <div style=\"display: flex; flex-direction: column; width: 100%; border: 2px solid #bbb;\">\n",
       "        <!-- Header Row -->\n",
       "        <div style=\"display: flex; font-weight: bold; background: #d6d8db; padding: 8px; border-bottom: 2px solid #bbb;\">\n",
       "            <div style=\"width: 80px; text-align: center; border-right: 2px solid #bbb; display: flex; align-items: center; justify-content: center;\">Index</div>\n",
       "            <div style=\"width: 150px; text-align: center; border-right: 2px solid #bbb; display: flex; align-items: center; justify-content: center;\">Experiment ID</div>\n",
       "            <div style=\"flex: 1; text-align: center;\">Writeup</div>\n",
       "        </div>\n",
       "\n",
       "        <!-- Data Row -->\n",
       "        <div style=\"display: flex; padding: 8px; background: #f8f9fa;\">\n",
       "            <div style=\"width: 80px; text-align: center; border-right: 2px solid #ddd; font-weight: bold; display: flex; align-items: center; justify-content: center;\">\n",
       "                70\n",
       "            </div>\n",
       "            <div style=\"width: 150px; text-align: center; border-right: 2px solid #ddd; font-weight: bold; display: flex; align-items: center; justify-content: center;\">\n",
       "                192580\n",
       "            </div>\n",
       "            <div style=\"flex: 1; padding: 8px 12px; white-space: pre-wrap; overflow-wrap: break-word;\">\n",
       "                       To a solution of N-(1-methylpiperidin-4-yl)-N-(4-nitrophenyl)methanesulfonamide (​500.0 mg, ​1.6 mmol)​{{1080:row 1}}_XXXXX_    in Methanol (5 mL){{3:row 1}}_XXXXX_     was added Pd/C (​50.0 mg, ​1.6 mmol)​{{1080:row 2}}_XXXXX_    and stirred at 20 °C   for 12h under H2 (8.0 L, <span style='background-color: yellow; color: black;'>?</span> mmol)  .        TLC(DCM:MeOH=10:1,Rf/R=0.5,Rf/P=0.2) showed the starting matrial was not consumed.        The reaction was unsuccessful. The mixture was discarded.\n",
       "            </div>\n",
       "        </div>\n",
       "    </div>\n",
       "    </div>"
      ],
      "text/plain": [
       "<IPython.core.display.HTML object>"
      ]
     },
     "metadata": {},
     "output_type": "display_data"
    },
    {
     "data": {
      "text/html": [
       "<div style='margin: 10px 0; width: 100%; display: flex; border: 1px solid #ddd; border-radius: 4px; background: #f8f9fa;'>\n",
       "    <div style=\"display: flex; flex-direction: column; width: 100%; border: 2px solid #bbb;\">\n",
       "        <!-- Header Row -->\n",
       "        <div style=\"display: flex; font-weight: bold; background: #d6d8db; padding: 8px; border-bottom: 2px solid #bbb;\">\n",
       "            <div style=\"width: 80px; text-align: center; border-right: 2px solid #bbb; display: flex; align-items: center; justify-content: center;\">Index</div>\n",
       "            <div style=\"width: 150px; text-align: center; border-right: 2px solid #bbb; display: flex; align-items: center; justify-content: center;\">Experiment ID</div>\n",
       "            <div style=\"flex: 1; text-align: center;\">Writeup</div>\n",
       "        </div>\n",
       "\n",
       "        <!-- Data Row -->\n",
       "        <div style=\"display: flex; padding: 8px; background: #f8f9fa;\">\n",
       "            <div style=\"width: 80px; text-align: center; border-right: 2px solid #ddd; font-weight: bold; display: flex; align-items: center; justify-content: center;\">\n",
       "                71\n",
       "            </div>\n",
       "            <div style=\"width: 150px; text-align: center; border-right: 2px solid #ddd; font-weight: bold; display: flex; align-items: center; justify-content: center;\">\n",
       "                192929\n",
       "            </div>\n",
       "            <div style=\"flex: 1; padding: 8px 12px; white-space: pre-wrap; overflow-wrap: break-word;\">\n",
       "                methyl 3-(diethoxymethyl)thiophene-2-carboxylate (30.0 mg, 0.12 mmol) and formic acid (1.0 mL, <span style='background-color: yellow; color: black;'>?</span> mmol) was dissolved in 1,4-Dioxane (0.50 mL). The solution was stirred at rt for half an hour. TLC found complete dissapearance of the SM. The solvents were removed to afford methyl 3-formylthiophene-2-carboxylate (20.933 mg, 0.123 mmol, 100.17% yield).\n",
       "            </div>\n",
       "        </div>\n",
       "    </div>\n",
       "    </div>"
      ],
      "text/plain": [
       "<IPython.core.display.HTML object>"
      ]
     },
     "metadata": {},
     "output_type": "display_data"
    },
    {
     "data": {
      "text/html": [
       "<div style='margin: 10px 0; width: 100%; display: flex; border: 1px solid #ddd; border-radius: 4px; background: #f8f9fa;'>\n",
       "    <div style=\"display: flex; flex-direction: column; width: 100%; border: 2px solid #bbb;\">\n",
       "        <!-- Header Row -->\n",
       "        <div style=\"display: flex; font-weight: bold; background: #d6d8db; padding: 8px; border-bottom: 2px solid #bbb;\">\n",
       "            <div style=\"width: 80px; text-align: center; border-right: 2px solid #bbb; display: flex; align-items: center; justify-content: center;\">Index</div>\n",
       "            <div style=\"width: 150px; text-align: center; border-right: 2px solid #bbb; display: flex; align-items: center; justify-content: center;\">Experiment ID</div>\n",
       "            <div style=\"flex: 1; text-align: center;\">Writeup</div>\n",
       "        </div>\n",
       "\n",
       "        <!-- Data Row -->\n",
       "        <div style=\"display: flex; padding: 8px; background: #f8f9fa;\">\n",
       "            <div style=\"width: 80px; text-align: center; border-right: 2px solid #ddd; font-weight: bold; display: flex; align-items: center; justify-content: center;\">\n",
       "                72\n",
       "            </div>\n",
       "            <div style=\"width: 150px; text-align: center; border-right: 2px solid #ddd; font-weight: bold; display: flex; align-items: center; justify-content: center;\">\n",
       "                193350\n",
       "            </div>\n",
       "            <div style=\"flex: 1; padding: 8px 12px; white-space: pre-wrap; overflow-wrap: break-word;\">\n",
       "                   Dissolve tert-butyl rac-(10R)-4-chloro-1,5,6,8,12-pentazatricyclo[8.4.0.02,7]tetradeca-2(7),3,5-triene-12-carboxylate (229.48 mg, 0.7 mmol){{9:row 3}}_XXXXX_  in mixture of 1,4-Dioxane (4 mL){{3:row 1}}_XXXXX_  and Water (0.50 mL){{3:row 2}}_XXXXX_   Add FmocCl and NaHCO3     Stir overnight  Dilute with DCM and water, extract with DCM  dry conc, purified on silica gel column (0-50-100% EA/Hex) to give ditert-butyl rac-(10R)-4-(3-fluoro-2-hydroxyphenyl)-1,5,6,8,12-pentazatricyclo[8.4.0.02,7]tetradeca-2(7),3,5-triene-8,12-dicarboxylate (<span style='background-color: yellow; color: black;'>?</span> mg, <span style='background-color: yellow; color: black;'>?</span> mmol, <span style='background-color: yellow; color: black;'>?</span>% yield)9H-fluoren-9-ylmethyl (10R)-4-chloro-1,5,6,8,12-pentazatricyclo[8.4.0.02,7]tetradeca-2(7),3,5-triene-8-carboxylate;hydrochloride (200 mg, 0.4129 mmol, 58% yield){{2:row 1}}_XXXXX_  .      Dissolve in DCM  Add HCl in Dioxane (0.88 mL, 3.5 mmol){{9:row 4}}_XXXXX_     Stir 3 hours  Concentrate to obtain 9H-fluoren-9-ylmethyl (10R)-4-chloro-1,5,6,8,12-pentazatricyclo[8.4.0.02,7]tetradeca-2(7),3,5-triene-8-carboxylate;hydrochloride (200 mg, 0.4129 mmol, 58% yield){{2:uid 2}}_XXXXX_   as a tan solid\n",
       "            </div>\n",
       "        </div>\n",
       "    </div>\n",
       "    </div>"
      ],
      "text/plain": [
       "<IPython.core.display.HTML object>"
      ]
     },
     "metadata": {},
     "output_type": "display_data"
    },
    {
     "data": {
      "text/html": [
       "<div style='margin: 10px 0; width: 100%; display: flex; border: 1px solid #ddd; border-radius: 4px; background: #f8f9fa;'>\n",
       "    <div style=\"display: flex; flex-direction: column; width: 100%; border: 2px solid #bbb;\">\n",
       "        <!-- Header Row -->\n",
       "        <div style=\"display: flex; font-weight: bold; background: #d6d8db; padding: 8px; border-bottom: 2px solid #bbb;\">\n",
       "            <div style=\"width: 80px; text-align: center; border-right: 2px solid #bbb; display: flex; align-items: center; justify-content: center;\">Index</div>\n",
       "            <div style=\"width: 150px; text-align: center; border-right: 2px solid #bbb; display: flex; align-items: center; justify-content: center;\">Experiment ID</div>\n",
       "            <div style=\"flex: 1; text-align: center;\">Writeup</div>\n",
       "        </div>\n",
       "\n",
       "        <!-- Data Row -->\n",
       "        <div style=\"display: flex; padding: 8px; background: #f8f9fa;\">\n",
       "            <div style=\"width: 80px; text-align: center; border-right: 2px solid #ddd; font-weight: bold; display: flex; align-items: center; justify-content: center;\">\n",
       "                73\n",
       "            </div>\n",
       "            <div style=\"width: 150px; text-align: center; border-right: 2px solid #ddd; font-weight: bold; display: flex; align-items: center; justify-content: center;\">\n",
       "                196064\n",
       "            </div>\n",
       "            <div style=\"flex: 1; padding: 8px 12px; white-space: pre-wrap; overflow-wrap: break-word;\">\n",
       "                tert-butyl 4-(3,5-difluoro-2-hydroxyphenyl)-10-ethyl-1,5,6,8,12-pentazatricyclo[8.4.0.02,7]tetradeca-2(7),3,5-triene-12-carboxylate (51.62 mg, 0.12 mmol){{9:row 4}}_XXXXX_   transferred  Dissolve in DCM (1.1072 mL){{3:row 1}}_XXXXX_    x 2  Add Hydrochloric\tacid (0.29 mL, 1.15 mmol){{9:row 5}}_XXXXX_   in dioxane  Stir overnight  Concentrate  Dissolve in DCM (1.1072 mL){{3:row 1}}_XXXXX_     Add Triethylamine;TEA (0.1 mL, 0.69 mmol){{9:row 1}}_XXXXX_     Add tert-butyl 4-carbonochloridoyl-3,3-dimethylpiperazine-1-carboxylate (70.24 mg, 0.25 mmol){{9:row 3}}_XXXXX_   in 1 mL DCM  stir at r.t. 3 hours  Directly purify with FCC        Collect product fractions  Dissolve product in DCM  Add 2,2,2-trifluoroacetic acid;TFA (0.26 mL, 3.46 mmol){{9:uid 7}}_XXXXX_    Stir 1 hour then concentrate to obtain [4-(3,5-difluoro-2-hydroxyphenyl)-10-ethyl-1,5,6,8,12-pentazatricyclo[8.4.0.02,7]tetradeca-2(7),3,5-trien-12-yl]-(2,2-dimethylpiperazin-1-yl)methanone;2,2,2-trifluoroacetic acid (<span style='background-color: yellow; color: black;'>?</span> mg, <span style='background-color: yellow; color: black;'>?</span> mmol, <span style='background-color: yellow; color: black;'>?</span>% yield)   as an oil\n",
       "            </div>\n",
       "        </div>\n",
       "    </div>\n",
       "    </div>"
      ],
      "text/plain": [
       "<IPython.core.display.HTML object>"
      ]
     },
     "metadata": {},
     "output_type": "display_data"
    },
    {
     "data": {
      "text/html": [
       "<div style='margin: 10px 0; width: 100%; display: flex; border: 1px solid #ddd; border-radius: 4px; background: #f8f9fa;'>\n",
       "    <div style=\"display: flex; flex-direction: column; width: 100%; border: 2px solid #bbb;\">\n",
       "        <!-- Header Row -->\n",
       "        <div style=\"display: flex; font-weight: bold; background: #d6d8db; padding: 8px; border-bottom: 2px solid #bbb;\">\n",
       "            <div style=\"width: 80px; text-align: center; border-right: 2px solid #bbb; display: flex; align-items: center; justify-content: center;\">Index</div>\n",
       "            <div style=\"width: 150px; text-align: center; border-right: 2px solid #bbb; display: flex; align-items: center; justify-content: center;\">Experiment ID</div>\n",
       "            <div style=\"flex: 1; text-align: center;\">Writeup</div>\n",
       "        </div>\n",
       "\n",
       "        <!-- Data Row -->\n",
       "        <div style=\"display: flex; padding: 8px; background: #f8f9fa;\">\n",
       "            <div style=\"width: 80px; text-align: center; border-right: 2px solid #ddd; font-weight: bold; display: flex; align-items: center; justify-content: center;\">\n",
       "                74\n",
       "            </div>\n",
       "            <div style=\"width: 150px; text-align: center; border-right: 2px solid #ddd; font-weight: bold; display: flex; align-items: center; justify-content: center;\">\n",
       "                196086\n",
       "            </div>\n",
       "            <div style=\"flex: 1; padding: 8px 12px; white-space: pre-wrap; overflow-wrap: break-word;\">\n",
       "                tert-butyl 10-ethyl-4-(3-fluoro-2-hydroxyphenyl)-1,5,6,8,12-pentazatricyclo[8.4.0.02,7]tetradeca-2(7),3,5-triene-12-carboxylate (49.54 mg, 0.12 mmol){{9:row 4}}_XXXXX_   transferred  Dissolve in DCM (1.1072 mL){{3:row 1}}_XXXXX_    x 2  Add Hydrochloric\tacid (0.29 mL, 1.15 mmol){{9:row 5}}_XXXXX_   in dioxane  Stir overnight  Concentrate  Dissolve in DCM (1.1072 mL){{3:row 1}}_XXXXX_     Add Triethylamine;TEA (0.1 mL, 0.69 mmol){{9:row 1}}_XXXXX_     Add tert-butyl 4-carbonochloridoyl-3,3-dimethylpiperazine-1-carboxylate (70.24 mg, 0.25 mmol){{9:row 3}}_XXXXX_   in 1 mL DCM  stir at r.t. 3 hours  Directly purify with FCC        Collect product fractions  Dissolve product in DCM  Add 2,2,2-trifluoroacetic acid;TFA (0.26 mL, 3.46 mmol){{9:uid 7}}_XXXXX_    Stir 1 hour then concentrate to obtain [4-(3,5-difluoro-2-hydroxyphenyl)-10-ethyl-1,5,6,8,12-pentazatricyclo[8.4.0.02,7]tetradeca-2(7),3,5-trien-12-yl]-(2,2-dimethylpiperazin-1-yl)methanone;2,2,2-trifluoroacetic acid (<span style='background-color: yellow; color: black;'>?</span> mg, <span style='background-color: yellow; color: black;'>?</span> mmol, <span style='background-color: yellow; color: black;'>?</span>% yield)   as an oil\n",
       "            </div>\n",
       "        </div>\n",
       "    </div>\n",
       "    </div>"
      ],
      "text/plain": [
       "<IPython.core.display.HTML object>"
      ]
     },
     "metadata": {},
     "output_type": "display_data"
    },
    {
     "data": {
      "text/html": [
       "<div style='margin: 10px 0; width: 100%; display: flex; border: 1px solid #ddd; border-radius: 4px; background: #f8f9fa;'>\n",
       "    <div style=\"display: flex; flex-direction: column; width: 100%; border: 2px solid #bbb;\">\n",
       "        <!-- Header Row -->\n",
       "        <div style=\"display: flex; font-weight: bold; background: #d6d8db; padding: 8px; border-bottom: 2px solid #bbb;\">\n",
       "            <div style=\"width: 80px; text-align: center; border-right: 2px solid #bbb; display: flex; align-items: center; justify-content: center;\">Index</div>\n",
       "            <div style=\"width: 150px; text-align: center; border-right: 2px solid #bbb; display: flex; align-items: center; justify-content: center;\">Experiment ID</div>\n",
       "            <div style=\"flex: 1; text-align: center;\">Writeup</div>\n",
       "        </div>\n",
       "\n",
       "        <!-- Data Row -->\n",
       "        <div style=\"display: flex; padding: 8px; background: #f8f9fa;\">\n",
       "            <div style=\"width: 80px; text-align: center; border-right: 2px solid #ddd; font-weight: bold; display: flex; align-items: center; justify-content: center;\">\n",
       "                75\n",
       "            </div>\n",
       "            <div style=\"width: 150px; text-align: center; border-right: 2px solid #ddd; font-weight: bold; display: flex; align-items: center; justify-content: center;\">\n",
       "                196087\n",
       "            </div>\n",
       "            <div style=\"flex: 1; padding: 8px 12px; white-space: pre-wrap; overflow-wrap: break-word;\">\n",
       "                tert-butyl 4-(3-fluoro-2-hydroxyphenyl)-10-methyl-1,5,6,8,12-pentazatricyclo[8.4.0.02,7]tetradeca-2(7),3,5-triene-12-carboxylate (47.92 mg, 0.12 mmol){{9:row 4}}_XXXXX_   transferred  Dissolve in DCM (1.1072 mL){{3:row 1}}_XXXXX_    x 2  Add Hydrochloric\tacid (0.29 mL, 1.15 mmol){{9:row 5}}_XXXXX_   in dioxane  Stir overnight  Concentrate  Dissolve in DCM (1.1072 mL){{3:row 1}}_XXXXX_        Add tert-butyl 4-carbonochloridoyl-3,3-dimethylpiperazine-1-carboxylate (70.24 mg, 0.25 mmol){{9:row 3}}_XXXXX_   in 1 mL DCM  Add Triethylamine;TEA (0.1 mL, 0.69 mmol){{9:row 1}}_XXXXX_     stir at r.t. 3 hours  Directly purify with FCC        Collect product fractions  Dissolve product in DCM  Add 2,2,2-trifluoroacetic acid;TFA (0.26 mL, 3.46 mmol){{9:uid 7}}_XXXXX_     Stir 1 hour then concentrate to obtain [4-(3,5-difluoro-2-hydroxyphenyl)-10-ethyl-1,5,6,8,12-pentazatricyclo[8.4.0.02,7]tetradeca-2(7),3,5-trien-12-yl]-(2,2-dimethylpiperazin-1-yl)methanone;2,2,2-trifluoroacetic acid (<span style='background-color: yellow; color: black;'>?</span> mg, <span style='background-color: yellow; color: black;'>?</span> mmol, <span style='background-color: yellow; color: black;'>?</span>% yield)   as an oil\n",
       "            </div>\n",
       "        </div>\n",
       "    </div>\n",
       "    </div>"
      ],
      "text/plain": [
       "<IPython.core.display.HTML object>"
      ]
     },
     "metadata": {},
     "output_type": "display_data"
    },
    {
     "data": {
      "text/html": [
       "<div style='margin: 10px 0; width: 100%; display: flex; border: 1px solid #ddd; border-radius: 4px; background: #f8f9fa;'>\n",
       "    <div style=\"display: flex; flex-direction: column; width: 100%; border: 2px solid #bbb;\">\n",
       "        <!-- Header Row -->\n",
       "        <div style=\"display: flex; font-weight: bold; background: #d6d8db; padding: 8px; border-bottom: 2px solid #bbb;\">\n",
       "            <div style=\"width: 80px; text-align: center; border-right: 2px solid #bbb; display: flex; align-items: center; justify-content: center;\">Index</div>\n",
       "            <div style=\"width: 150px; text-align: center; border-right: 2px solid #bbb; display: flex; align-items: center; justify-content: center;\">Experiment ID</div>\n",
       "            <div style=\"flex: 1; text-align: center;\">Writeup</div>\n",
       "        </div>\n",
       "\n",
       "        <!-- Data Row -->\n",
       "        <div style=\"display: flex; padding: 8px; background: #f8f9fa;\">\n",
       "            <div style=\"width: 80px; text-align: center; border-right: 2px solid #ddd; font-weight: bold; display: flex; align-items: center; justify-content: center;\">\n",
       "                76\n",
       "            </div>\n",
       "            <div style=\"width: 150px; text-align: center; border-right: 2px solid #ddd; font-weight: bold; display: flex; align-items: center; justify-content: center;\">\n",
       "                196329\n",
       "            </div>\n",
       "            <div style=\"flex: 1; padding: 8px 12px; white-space: pre-wrap; overflow-wrap: break-word;\">\n",
       "                ditert-butyl 4-(3,5-difluoro-2-hydroxyphenyl)-10-ethyl-9-oxo-1,5,6,8,12-pentazatricyclo[8.4.0.02,7]tetradeca-2(7),3,5-triene-8,12-dicarboxylate (64.78 mg, 0.12 mmol){{9:row 4}}_XXXXX_   transferred  Dissolve in DCM (1.1072 mL){{3:row 1}}_XXXXX_    x 2  Add Hydrochloric\tacid (0.29 mL, 1.15 mmol){{9:row 5}}_XXXXX_   in dioxane  Stir overnight  Concentrate  Dissolve in DCM (1.1072 mL){{3:row 1}}_XXXXX_     Add Triethylamine;TEA (0.1 mL, 0.69 mmol){{9:row 1}}_XXXXX_     Add tert-butyl rac-(3R,5S)-4-carbonochloridoyl-3,5-dimethylpiperazine-1-carboxylate (70.24 mg, 0.25 mmol){{9:row 3}}_XXXXX_   in 1 mL DCM  stir at r.t. overnight  Only partial conversion  Heat to 40 C  Stir ~8 hours  Directly purify with FCC   Collect product fractions  Stir 1 hour then concentrate to obtain [4-(3,5-difluoro-2-hydroxyphenyl)-10-ethyl-1,5,6,8,12-pentazatricyclo[8.4.0.02,7]tetradeca-2(7),3,5-trien-12-yl]-(2,2-dimethylpiperazin-1-yl)methanone;2,2,2-trifluoroacetic acid (<span style='background-color: yellow; color: black;'>?</span> mg, <span style='background-color: yellow; color: black;'>?</span> mmol, <span style='background-color: yellow; color: black;'>?</span>% yield)   as an oil     M+1 = 602.1      \n",
       "            </div>\n",
       "        </div>\n",
       "    </div>\n",
       "    </div>"
      ],
      "text/plain": [
       "<IPython.core.display.HTML object>"
      ]
     },
     "metadata": {},
     "output_type": "display_data"
    },
    {
     "data": {
      "text/html": [
       "<div style='margin: 10px 0; width: 100%; display: flex; border: 1px solid #ddd; border-radius: 4px; background: #f8f9fa;'>\n",
       "    <div style=\"display: flex; flex-direction: column; width: 100%; border: 2px solid #bbb;\">\n",
       "        <!-- Header Row -->\n",
       "        <div style=\"display: flex; font-weight: bold; background: #d6d8db; padding: 8px; border-bottom: 2px solid #bbb;\">\n",
       "            <div style=\"width: 80px; text-align: center; border-right: 2px solid #bbb; display: flex; align-items: center; justify-content: center;\">Index</div>\n",
       "            <div style=\"width: 150px; text-align: center; border-right: 2px solid #bbb; display: flex; align-items: center; justify-content: center;\">Experiment ID</div>\n",
       "            <div style=\"flex: 1; text-align: center;\">Writeup</div>\n",
       "        </div>\n",
       "\n",
       "        <!-- Data Row -->\n",
       "        <div style=\"display: flex; padding: 8px; background: #f8f9fa;\">\n",
       "            <div style=\"width: 80px; text-align: center; border-right: 2px solid #ddd; font-weight: bold; display: flex; align-items: center; justify-content: center;\">\n",
       "                77\n",
       "            </div>\n",
       "            <div style=\"width: 150px; text-align: center; border-right: 2px solid #ddd; font-weight: bold; display: flex; align-items: center; justify-content: center;\">\n",
       "                196355\n",
       "            </div>\n",
       "            <div style=\"flex: 1; padding: 8px 12px; white-space: pre-wrap; overflow-wrap: break-word;\">\n",
       "                ditert-butyl 4-(3-chloro-2-hydroxyphenyl)-10-methyl-9-oxo-1,5,6,8,12-pentazatricyclo[8.4.0.02,7]tetradeca-2(7),3,5-triene-8,12-dicarboxylate (43.75 mg, 0.08 mmol){{9:row 4}}_XXXXX_   transferred  Dissolve in DCM (1.5 mL){{3:row 1}}_XXXXX_    x 2  Add Hydrochloric\tacid (1.0 mL, 4.01 mmol){{9:row 5}}_XXXXX_   in dioxane  Stir overnight  Concentrate  Dissolve in DCM (1.5 mL){{3:row 1}}_XXXXX_     Add Triethylamine;TEA (0.07 mL, 0.48 mmol){{9:row 1}}_XXXXX_     Add tert-butyl rac-(3R,5S)-4-carbonochloridoyl-3,5-dimethylpiperazine-1-carboxylate (48.79 mg, 0.18 mmol){{9:row 3}}_XXXXX_   in 1 mL DCM  stir at r.t. overnight  Directly purify with FCC 0-10% MeOH/DCM   Collect product fractions to obtain [4-(3,5-difluoro-2-hydroxyphenyl)-10-ethyl-1,5,6,8,12-pentazatricyclo[8.4.0.02,7]tetradeca-2(7),3,5-trien-12-yl]-(2,2-dimethylpiperazin-1-yl)methanone;2,2,2-trifluoroacetic acid (<span style='background-color: yellow; color: black;'>?</span> mg, <span style='background-color: yellow; color: black;'>?</span> mmol, <span style='background-color: yellow; color: black;'>?</span>% yield)   as an oil  M+1 =586.1 found\n",
       "            </div>\n",
       "        </div>\n",
       "    </div>\n",
       "    </div>"
      ],
      "text/plain": [
       "<IPython.core.display.HTML object>"
      ]
     },
     "metadata": {},
     "output_type": "display_data"
    },
    {
     "data": {
      "text/html": [
       "<div style='margin: 10px 0; width: 100%; display: flex; border: 1px solid #ddd; border-radius: 4px; background: #f8f9fa;'>\n",
       "    <div style=\"display: flex; flex-direction: column; width: 100%; border: 2px solid #bbb;\">\n",
       "        <!-- Header Row -->\n",
       "        <div style=\"display: flex; font-weight: bold; background: #d6d8db; padding: 8px; border-bottom: 2px solid #bbb;\">\n",
       "            <div style=\"width: 80px; text-align: center; border-right: 2px solid #bbb; display: flex; align-items: center; justify-content: center;\">Index</div>\n",
       "            <div style=\"width: 150px; text-align: center; border-right: 2px solid #bbb; display: flex; align-items: center; justify-content: center;\">Experiment ID</div>\n",
       "            <div style=\"flex: 1; text-align: center;\">Writeup</div>\n",
       "        </div>\n",
       "\n",
       "        <!-- Data Row -->\n",
       "        <div style=\"display: flex; padding: 8px; background: #f8f9fa;\">\n",
       "            <div style=\"width: 80px; text-align: center; border-right: 2px solid #ddd; font-weight: bold; display: flex; align-items: center; justify-content: center;\">\n",
       "                78\n",
       "            </div>\n",
       "            <div style=\"width: 150px; text-align: center; border-right: 2px solid #ddd; font-weight: bold; display: flex; align-items: center; justify-content: center;\">\n",
       "                196423\n",
       "            </div>\n",
       "            <div style=\"flex: 1; padding: 8px 12px; white-space: pre-wrap; overflow-wrap: break-word;\">\n",
       "                ditert-butyl 4-(3-chloro-2-hydroxyphenyl)-10-methyl-9-oxo-1,5,6,8,12-pentazatricyclo[8.4.0.02,7]tetradeca-2(7),3,5-triene-8,12-dicarboxylate (43.75 mg, 0.08 mmol){{9:row 4}}_XXXXX_   transferred  Dissolve in DCM (1.5 mL){{3:row 1}}_XXXXX_    x 2  Add Hydrochloric\tacid (1.0 mL, 4.01 mmol){{9:row 5}}_XXXXX_   in dioxane  Stir overnight  Concentrate  Dissolve in DCM (1.5 mL){{3:row 1}}_XXXXX_     Add Triethylamine;TEA (0.07 mL, 0.48 mmol){{9:row 1}}_XXXXX_     Add tert-butyl 4-carbonochloridoyl-3,3-dimethylpiperazine-1-carboxylate (48.79 mg, 0.18 mmol){{9:row 3}}_XXXXX_   in 1 mL DCM  stir at r.t. overnight  Directly purify with FCC 0-10% MeOH/DCM  To obtain [4-(3,5-difluoro-2-hydroxyphenyl)-10-ethyl-1,5,6,8,12-pentazatricyclo[8.4.0.02,7]tetradeca-2(7),3,5-trien-12-yl]-(2,2-dimethylpiperazin-1-yl)methanone;2,2,2-trifluoroacetic acid (<span style='background-color: yellow; color: black;'>?</span> mg, <span style='background-color: yellow; color: black;'>?</span> mmol, <span style='background-color: yellow; color: black;'>?</span>% yield)   as an oil\n",
       "            </div>\n",
       "        </div>\n",
       "    </div>\n",
       "    </div>"
      ],
      "text/plain": [
       "<IPython.core.display.HTML object>"
      ]
     },
     "metadata": {},
     "output_type": "display_data"
    },
    {
     "data": {
      "text/html": [
       "<div style='margin: 10px 0; width: 100%; display: flex; border: 1px solid #ddd; border-radius: 4px; background: #f8f9fa;'>\n",
       "    <div style=\"display: flex; flex-direction: column; width: 100%; border: 2px solid #bbb;\">\n",
       "        <!-- Header Row -->\n",
       "        <div style=\"display: flex; font-weight: bold; background: #d6d8db; padding: 8px; border-bottom: 2px solid #bbb;\">\n",
       "            <div style=\"width: 80px; text-align: center; border-right: 2px solid #bbb; display: flex; align-items: center; justify-content: center;\">Index</div>\n",
       "            <div style=\"width: 150px; text-align: center; border-right: 2px solid #bbb; display: flex; align-items: center; justify-content: center;\">Experiment ID</div>\n",
       "            <div style=\"flex: 1; text-align: center;\">Writeup</div>\n",
       "        </div>\n",
       "\n",
       "        <!-- Data Row -->\n",
       "        <div style=\"display: flex; padding: 8px; background: #f8f9fa;\">\n",
       "            <div style=\"width: 80px; text-align: center; border-right: 2px solid #ddd; font-weight: bold; display: flex; align-items: center; justify-content: center;\">\n",
       "                79\n",
       "            </div>\n",
       "            <div style=\"width: 150px; text-align: center; border-right: 2px solid #ddd; font-weight: bold; display: flex; align-items: center; justify-content: center;\">\n",
       "                196586\n",
       "            </div>\n",
       "            <div style=\"flex: 1; padding: 8px 12px; white-space: pre-wrap; overflow-wrap: break-word;\">\n",
       "                To a 10 mL microwave vial was added methyl 6-chloro-4-[1-[(2-methylpropan-2-yl)oxycarbonyl]-3,6-dihydro-2H-pyridin-4-yl]pyridazine-3-carboxylate (280.0 mg, 0.79 mmol){{9:uid 1}}_XXXXX_   (mixture of two inseparable regioisomers), Potassium phosphate tribasic (671.96 mg, 3.17 mmol){{9:uid 4}}_XXXXX_    and 1,1'-Bis(diphenylphosphino)ferrocene - dichloropalladium (1:1) (115.81 mg, 0.16 mmol){{9:uid 3}}_XXXXX_    followed by 1,4-Dioxane (6 mL){{3:uid 485}}_XXXXX_   and Water (0.30 mL){{3:uid 486}}_XXXXX_   The cap was sealed and charged with nitrogen for 30 min. The mixture was stirred at 100 °C{{8:row 1}}_XXXXX_   for 10 min. LC-MS indicated the consumption of starting material and the formation of desired product. However, the acid byproducts from the ester were also observed.  The crude proudct was combined with FEL019-71-1 and worked up and purified together. The weight of the product was calculated proportionally.   The reaction mixture was dilusted with 20 mL of water followed by 20 mL of EtOAc. The layers were separated and the aqueous layer was extracted with EtOAc (20 mL x 3). The combined organic layers were washed with brine, dried over sodium sulfate, filtered and concentrated under reduced pressure. The crude product was further purified by flash chromatography (SiO2, 0% to 60% EA in heptane) to afford methyl 6-(2-hydroxyphenyl)-4-[1-[(2-methylpropan-2-yl)oxycarbonyl]-3,6-dihydro-2H-pyridin-4-yl]pyridazine-3-carboxylate (<span style='background-color: yellow; color: black;'>?</span> mg, <span style='background-color: yellow; color: black;'>?</span> mmol, <span style='background-color: yellow; color: black;'>?</span>% yield)  (inseperable mixture of two regioisomers).    The pH of aqueous layer was adjusted to 1~2 by adding 1M HCl. Then the acidified aqueous layer was extracted wit EtOAc (20 mL x 2). The combined orgnaic layers were dried over sodium sulfate, filtered and concentrated under reduced pressure to afford 6-(2-hydroxyphenyl)-4-[1-[(2-methylpropan-2-yl)oxycarbonyl]-3,6-dihydro-2H-pyridin-4-yl]pyridazine-3-carboxylic acid (224 mg, 0.56362 mmol, 71.218% yield){{2:uid 2}}_XXXXX_   (two regioisomers).          \n",
       "            </div>\n",
       "        </div>\n",
       "    </div>\n",
       "    </div>"
      ],
      "text/plain": [
       "<IPython.core.display.HTML object>"
      ]
     },
     "metadata": {},
     "output_type": "display_data"
    },
    {
     "data": {
      "text/html": [
       "<div style='margin: 10px 0; width: 100%; display: flex; border: 1px solid #ddd; border-radius: 4px; background: #f8f9fa;'>\n",
       "    <div style=\"display: flex; flex-direction: column; width: 100%; border: 2px solid #bbb;\">\n",
       "        <!-- Header Row -->\n",
       "        <div style=\"display: flex; font-weight: bold; background: #d6d8db; padding: 8px; border-bottom: 2px solid #bbb;\">\n",
       "            <div style=\"width: 80px; text-align: center; border-right: 2px solid #bbb; display: flex; align-items: center; justify-content: center;\">Index</div>\n",
       "            <div style=\"width: 150px; text-align: center; border-right: 2px solid #bbb; display: flex; align-items: center; justify-content: center;\">Experiment ID</div>\n",
       "            <div style=\"flex: 1; text-align: center;\">Writeup</div>\n",
       "        </div>\n",
       "\n",
       "        <!-- Data Row -->\n",
       "        <div style=\"display: flex; padding: 8px; background: #f8f9fa;\">\n",
       "            <div style=\"width: 80px; text-align: center; border-right: 2px solid #ddd; font-weight: bold; display: flex; align-items: center; justify-content: center;\">\n",
       "                80\n",
       "            </div>\n",
       "            <div style=\"width: 150px; text-align: center; border-right: 2px solid #ddd; font-weight: bold; display: flex; align-items: center; justify-content: center;\">\n",
       "                197164\n",
       "            </div>\n",
       "            <div style=\"flex: 1; padding: 8px 12px; white-space: pre-wrap; overflow-wrap: break-word;\">\n",
       "                To the solution of tert-butyl (10R)-12-[tert-butyl(dimethyl)silyl]oxy-4-chloro-1,5,6,8-tetrazatricyclo[8.4.0.02,7]tetradeca-2(7),3,5-triene-8-carboxylate (​380.0 mg, ​0.84 mmol)​{{1080:uid 1}}_XXXXX_  in THF (5 mL){{3:uid 591}}_XXXXX_   , is added , Tetrabutylammonium fluoride solution (1.27 mL, 1.27 mmol)  at 0 °C . Reaction mixture is stirred at rt for overnight. It is then diluted with EA [100 mL] washed with water [3X 20 mL] dried over sodium sulphate and purified by FCC [25% to 100% EA in heptane] to afford tert-butyl (10R)-4-chloro-12-hydroxy-1,5,6,8-tetrazatricyclo[8.4.0.02,7]tetradeca-2(7),3,5-triene-8-carboxylate (<span style='background-color: yellow; color: black;'>?</span> mg, 0.6548 mmol, 102.76% yield)         \n",
       "            </div>\n",
       "        </div>\n",
       "    </div>\n",
       "    </div>"
      ],
      "text/plain": [
       "<IPython.core.display.HTML object>"
      ]
     },
     "metadata": {},
     "output_type": "display_data"
    },
    {
     "data": {
      "text/html": [
       "<div style='margin: 10px 0; width: 100%; display: flex; border: 1px solid #ddd; border-radius: 4px; background: #f8f9fa;'>\n",
       "    <div style=\"display: flex; flex-direction: column; width: 100%; border: 2px solid #bbb;\">\n",
       "        <!-- Header Row -->\n",
       "        <div style=\"display: flex; font-weight: bold; background: #d6d8db; padding: 8px; border-bottom: 2px solid #bbb;\">\n",
       "            <div style=\"width: 80px; text-align: center; border-right: 2px solid #bbb; display: flex; align-items: center; justify-content: center;\">Index</div>\n",
       "            <div style=\"width: 150px; text-align: center; border-right: 2px solid #bbb; display: flex; align-items: center; justify-content: center;\">Experiment ID</div>\n",
       "            <div style=\"flex: 1; text-align: center;\">Writeup</div>\n",
       "        </div>\n",
       "\n",
       "        <!-- Data Row -->\n",
       "        <div style=\"display: flex; padding: 8px; background: #f8f9fa;\">\n",
       "            <div style=\"width: 80px; text-align: center; border-right: 2px solid #ddd; font-weight: bold; display: flex; align-items: center; justify-content: center;\">\n",
       "                81\n",
       "            </div>\n",
       "            <div style=\"width: 150px; text-align: center; border-right: 2px solid #ddd; font-weight: bold; display: flex; align-items: center; justify-content: center;\">\n",
       "                197791\n",
       "            </div>\n",
       "            <div style=\"flex: 1; padding: 8px 12px; white-space: pre-wrap; overflow-wrap: break-word;\">\n",
       "                a solution of 4,5-dihydrothieno[2,3-c]pyrrol-6-one (​50.0 mg, ​0.36 mmol)​{{1080:uid 1}}_XXXXX_    in DMF (5 mL){{3:uid 795}}_XXXXX_   was cooled to 0 °C,NaH (​57.48 mg, ​1.44 mmol)​{{1080:uid 3}}_XXXXX_    was added dropwise ,the mixutre was sitrred for 1 h. then 1,3-Diiodopropane (​0.05 mL, ​0.43 mmol)​{{1080:uid 2}}_XXXXX_   was added , the mixture was stirrred at 20 °C for 12 h.  TLC (PE:EA =5:1, Rf/R =0.5, Rf/P=0.2) showed the starting material was consumed and three new spot was formed the mixture was poured into water (10 ml) and extracted with ETOAC (30 ml). the organic phase was washed with brine ,dried over Na2SO4, concentrated in reduce pressure to get a residue , the residue was purified by pre-TLC to get 3b,4,5,6-tetrahydrothieno[3,2-a]pyrrolizin-8-one (<span style='background-color: yellow; color: black;'>?</span> mg, 0.0558 mmol, 15.529% yield)  as yellow soild .\n",
       "            </div>\n",
       "        </div>\n",
       "    </div>\n",
       "    </div>"
      ],
      "text/plain": [
       "<IPython.core.display.HTML object>"
      ]
     },
     "metadata": {},
     "output_type": "display_data"
    },
    {
     "data": {
      "text/html": [
       "<div style='margin: 10px 0; width: 100%; display: flex; border: 1px solid #ddd; border-radius: 4px; background: #f8f9fa;'>\n",
       "    <div style=\"display: flex; flex-direction: column; width: 100%; border: 2px solid #bbb;\">\n",
       "        <!-- Header Row -->\n",
       "        <div style=\"display: flex; font-weight: bold; background: #d6d8db; padding: 8px; border-bottom: 2px solid #bbb;\">\n",
       "            <div style=\"width: 80px; text-align: center; border-right: 2px solid #bbb; display: flex; align-items: center; justify-content: center;\">Index</div>\n",
       "            <div style=\"width: 150px; text-align: center; border-right: 2px solid #bbb; display: flex; align-items: center; justify-content: center;\">Experiment ID</div>\n",
       "            <div style=\"flex: 1; text-align: center;\">Writeup</div>\n",
       "        </div>\n",
       "\n",
       "        <!-- Data Row -->\n",
       "        <div style=\"display: flex; padding: 8px; background: #f8f9fa;\">\n",
       "            <div style=\"width: 80px; text-align: center; border-right: 2px solid #ddd; font-weight: bold; display: flex; align-items: center; justify-content: center;\">\n",
       "                82\n",
       "            </div>\n",
       "            <div style=\"width: 150px; text-align: center; border-right: 2px solid #ddd; font-weight: bold; display: flex; align-items: center; justify-content: center;\">\n",
       "                197915\n",
       "            </div>\n",
       "            <div style=\"flex: 1; padding: 8px 12px; white-space: pre-wrap; overflow-wrap: break-word;\">\n",
       "                a solution of 4,5-dihydrothieno[2,3-c]pyrrol-6-one (​50.0 mg, ​0.36 mmol)​{{1080:uid 1}}_XXXXX_    in DMF (5 mL){{3:uid 795}}_XXXXX_   was cooled to 0 °C,NaH (​57.48 mg, ​1.44 mmol)​{{1080:uid 3}}_XXXXX_    was added dropwise ,the mixutre was sitrred for 1 h. then 1,3-Diiodopropane (​0.05 mL, ​0.43 mmol)​{{1080:uid 2}}_XXXXX_   was added , the mixture was stirrred at 20 °C for 12 h.  TLC (PE:EA =5:1, Rf/R =0.5, Rf/P=0.2) showed the starting material was consumed and three new spot was formed the mixture was poured into water (10 ml) and extracted with ETOAC (30 ml). the organic phase was washed with brine ,dried over Na2SO4, concentrated in reduce pressure to get a residue , the residue was purified by pre-TLC to get 3b,4,5,6-tetrahydrothieno[3,2-a]pyrrolizin-8-one (<span style='background-color: yellow; color: black;'>?</span> mg, 0.0558 mmol, 15.529% yield)  as yellow soild .\n",
       "            </div>\n",
       "        </div>\n",
       "    </div>\n",
       "    </div>"
      ],
      "text/plain": [
       "<IPython.core.display.HTML object>"
      ]
     },
     "metadata": {},
     "output_type": "display_data"
    },
    {
     "data": {
      "text/html": [
       "<div style='margin: 10px 0; width: 100%; display: flex; border: 1px solid #ddd; border-radius: 4px; background: #f8f9fa;'>\n",
       "    <div style=\"display: flex; flex-direction: column; width: 100%; border: 2px solid #bbb;\">\n",
       "        <!-- Header Row -->\n",
       "        <div style=\"display: flex; font-weight: bold; background: #d6d8db; padding: 8px; border-bottom: 2px solid #bbb;\">\n",
       "            <div style=\"width: 80px; text-align: center; border-right: 2px solid #bbb; display: flex; align-items: center; justify-content: center;\">Index</div>\n",
       "            <div style=\"width: 150px; text-align: center; border-right: 2px solid #bbb; display: flex; align-items: center; justify-content: center;\">Experiment ID</div>\n",
       "            <div style=\"flex: 1; text-align: center;\">Writeup</div>\n",
       "        </div>\n",
       "\n",
       "        <!-- Data Row -->\n",
       "        <div style=\"display: flex; padding: 8px; background: #f8f9fa;\">\n",
       "            <div style=\"width: 80px; text-align: center; border-right: 2px solid #ddd; font-weight: bold; display: flex; align-items: center; justify-content: center;\">\n",
       "                83\n",
       "            </div>\n",
       "            <div style=\"width: 150px; text-align: center; border-right: 2px solid #ddd; font-weight: bold; display: flex; align-items: center; justify-content: center;\">\n",
       "                198490\n",
       "            </div>\n",
       "            <div style=\"flex: 1; padding: 8px 12px; white-space: pre-wrap; overflow-wrap: break-word;\">\n",
       "                A solution of 5,7-dichloro-2-methylimidazo[1,2-a]pyrimidine (​7.9 mg, ​0.04 mmol)​{{1080:uid 1}}_XXXXX_    in NaOH (​0.5 mL, ​0.5 mmol)​{{1080:uid 2}}_XXXXX_    was stirred at reflux for 20 min. LC-MS indicated the consumption of starting material and the formation of desired product. However, another byproduct (regioisomer) was also observed. The reaction mixture was cooled to room temperature and the pH of aqueous layer was ajusted to ~7 by adding 1M HCl. The solution was diluted with 10 mL of EtOAc. The layers were seprated and the aqueous layer was extracted with EtOAc (10 mL x 2). The combined organic layers were washed with brine, dried over sodium sulfate, filtered and concentrated under reduced pressure to afford  7-chloro-2-methyl-1H-imidazo[1,2-a]pyrimidin-5-one (<span style='background-color: yellow; color: black;'>?</span> mg, 2.2331 mmol, 134.68% yield) as a white solid.   The crude product was combined with FEL023-70-1 and workup together. The weight of the product was calculated proportionally.      1H NMR (300 MHz, DMSO-d6) δ 13.02 (s, 1H), 7.39 (q, J = 1.2 Hz, 1H), 5.87 (s, 1H), 2.27 (d, J = 1.3 Hz, 3H).   \n",
       "            </div>\n",
       "        </div>\n",
       "    </div>\n",
       "    </div>"
      ],
      "text/plain": [
       "<IPython.core.display.HTML object>"
      ]
     },
     "metadata": {},
     "output_type": "display_data"
    },
    {
     "data": {
      "text/html": [
       "<div style='margin: 10px 0; width: 100%; display: flex; border: 1px solid #ddd; border-radius: 4px; background: #f8f9fa;'>\n",
       "    <div style=\"display: flex; flex-direction: column; width: 100%; border: 2px solid #bbb;\">\n",
       "        <!-- Header Row -->\n",
       "        <div style=\"display: flex; font-weight: bold; background: #d6d8db; padding: 8px; border-bottom: 2px solid #bbb;\">\n",
       "            <div style=\"width: 80px; text-align: center; border-right: 2px solid #bbb; display: flex; align-items: center; justify-content: center;\">Index</div>\n",
       "            <div style=\"width: 150px; text-align: center; border-right: 2px solid #bbb; display: flex; align-items: center; justify-content: center;\">Experiment ID</div>\n",
       "            <div style=\"flex: 1; text-align: center;\">Writeup</div>\n",
       "        </div>\n",
       "\n",
       "        <!-- Data Row -->\n",
       "        <div style=\"display: flex; padding: 8px; background: #f8f9fa;\">\n",
       "            <div style=\"width: 80px; text-align: center; border-right: 2px solid #ddd; font-weight: bold; display: flex; align-items: center; justify-content: center;\">\n",
       "                84\n",
       "            </div>\n",
       "            <div style=\"width: 150px; text-align: center; border-right: 2px solid #ddd; font-weight: bold; display: flex; align-items: center; justify-content: center;\">\n",
       "                199296\n",
       "            </div>\n",
       "            <div style=\"flex: 1; padding: 8px 12px; white-space: pre-wrap; overflow-wrap: break-word;\">\n",
       "                A mixture of tert-butyl (10R,12S)-4-chloro-12-(4-formyl-3-methylphenoxy)-1,5,6,8-tetrazatricyclo[8.4.0.02,7]tetradeca-2(7),3,5-triene-8-carboxylate (10.0 mg, 0.02 mmol){{9:uid 15}}_XXXXX_   ,  5-fluoro-2-hydroxyphenylboronic acid (13.59 mg, 0.09 mmol){{9:uid 16}}_XXXXX_   , XPhos Pd G2 (5.14 mg, 0.01 mmol){{9:uid 18}}_XXXXX_   and Cesium carbonate (14.2 mg, 0.04 mmol){{9:uid 17}}_XXXXX_   in 1,4-Dioxane (1 mL) /Water (0.2 mL) was stirred at 100 °C for 1h. The mixture was  purified on silica gel column (0-10% MeOH/DCM) to give tert-butyl (10R,12R)-4-(5-fluoro-2-hydroxyphenyl)-12-(4-formyl-3-methylphenoxy)-1,5,6,8-tetrazatricyclo[8.4.0.02,7]tetradeca-2(7),3,5-triene-8-carboxylate (<span style='background-color: yellow; color: black;'>?</span> mg, <span style='background-color: yellow; color: black;'>?</span> mmol, <span style='background-color: yellow; color: black;'>?</span>% yield). LCMS [M+H] 535.0.  The intermediate was treated with \t\t4 N Hydrochloric acid in Dioxane (0.28 mL, 1.1 mmol){{9:uid 19}}_XXXXX_  in DCM (1 mL){{3:uid 575}}_XXXXX_  for 1 h. The mixture was purified on prep-LCMS (pH 2) to give 4-[[(10R,12S)-4-(5-fluoro-2-hydroxyphenyl)-1,5,6,8-tetrazatricyclo[8.4.0.02,7]tetradeca-2(7),3,5-trien-12-yl]oxy]-2-methylbenzaldehyde (2 mg, 0.0046 mmol, 21.126% yield){{2:uid 3}}_XXXXX_  . LCMS [M+H] 435.1.\n",
       "            </div>\n",
       "        </div>\n",
       "    </div>\n",
       "    </div>"
      ],
      "text/plain": [
       "<IPython.core.display.HTML object>"
      ]
     },
     "metadata": {},
     "output_type": "display_data"
    },
    {
     "data": {
      "text/html": [
       "<div style='margin: 10px 0; width: 100%; display: flex; border: 1px solid #ddd; border-radius: 4px; background: #f8f9fa;'>\n",
       "    <div style=\"display: flex; flex-direction: column; width: 100%; border: 2px solid #bbb;\">\n",
       "        <!-- Header Row -->\n",
       "        <div style=\"display: flex; font-weight: bold; background: #d6d8db; padding: 8px; border-bottom: 2px solid #bbb;\">\n",
       "            <div style=\"width: 80px; text-align: center; border-right: 2px solid #bbb; display: flex; align-items: center; justify-content: center;\">Index</div>\n",
       "            <div style=\"width: 150px; text-align: center; border-right: 2px solid #bbb; display: flex; align-items: center; justify-content: center;\">Experiment ID</div>\n",
       "            <div style=\"flex: 1; text-align: center;\">Writeup</div>\n",
       "        </div>\n",
       "\n",
       "        <!-- Data Row -->\n",
       "        <div style=\"display: flex; padding: 8px; background: #f8f9fa;\">\n",
       "            <div style=\"width: 80px; text-align: center; border-right: 2px solid #ddd; font-weight: bold; display: flex; align-items: center; justify-content: center;\">\n",
       "                85\n",
       "            </div>\n",
       "            <div style=\"width: 150px; text-align: center; border-right: 2px solid #ddd; font-weight: bold; display: flex; align-items: center; justify-content: center;\">\n",
       "                199477\n",
       "            </div>\n",
       "            <div style=\"flex: 1; padding: 8px 12px; white-space: pre-wrap; overflow-wrap: break-word;\">\n",
       "                To a solution of 1-O-tert-butyl 2-O-methyl (2R,4R)-4-hydroxy-2-methylpyrrolidine-1,2-dicarboxylate (250.0 mg, 0.96 mmol)   and Imidazole (328.18 mg, 4.82 mmol)  in DCM (1.6 mL)  and DMF (0.4 mL)   was added Tert-Butyl dimethylchlorosilane (319.69 mg, 2.12 mmol)  . Stirred overnight at room temperature.  Start at ~2:15 p.m.  Next day: purified directly via SiO2 FCC: 0-100% EtOAc/hexanes.  Obtained 1-O-tert-butyl 2-O-methyl (2R,4R)-4-[tert-butyl(dimethyl)silyl]oxy-2-methylpyrrolidine-1,2-dicarboxylate (<span style='background-color: yellow; color: black;'>?</span> g, <span style='background-color: yellow; color: black;'>?</span> mmol, <span style='background-color: yellow; color: black;'>?</span>% yield) as a clear oil. Assumed quantitative yield.  [M+1]+ m/z calculated: 374.2, found: 374.1.   \n",
       "            </div>\n",
       "        </div>\n",
       "    </div>\n",
       "    </div>"
      ],
      "text/plain": [
       "<IPython.core.display.HTML object>"
      ]
     },
     "metadata": {},
     "output_type": "display_data"
    },
    {
     "data": {
      "text/html": [
       "<div style='margin: 10px 0; width: 100%; display: flex; border: 1px solid #ddd; border-radius: 4px; background: #f8f9fa;'>\n",
       "    <div style=\"display: flex; flex-direction: column; width: 100%; border: 2px solid #bbb;\">\n",
       "        <!-- Header Row -->\n",
       "        <div style=\"display: flex; font-weight: bold; background: #d6d8db; padding: 8px; border-bottom: 2px solid #bbb;\">\n",
       "            <div style=\"width: 80px; text-align: center; border-right: 2px solid #bbb; display: flex; align-items: center; justify-content: center;\">Index</div>\n",
       "            <div style=\"width: 150px; text-align: center; border-right: 2px solid #bbb; display: flex; align-items: center; justify-content: center;\">Experiment ID</div>\n",
       "            <div style=\"flex: 1; text-align: center;\">Writeup</div>\n",
       "        </div>\n",
       "\n",
       "        <!-- Data Row -->\n",
       "        <div style=\"display: flex; padding: 8px; background: #f8f9fa;\">\n",
       "            <div style=\"width: 80px; text-align: center; border-right: 2px solid #ddd; font-weight: bold; display: flex; align-items: center; justify-content: center;\">\n",
       "                86\n",
       "            </div>\n",
       "            <div style=\"width: 150px; text-align: center; border-right: 2px solid #ddd; font-weight: bold; display: flex; align-items: center; justify-content: center;\">\n",
       "                199908\n",
       "            </div>\n",
       "            <div style=\"flex: 1; padding: 8px 12px; white-space: pre-wrap; overflow-wrap: break-word;\">\n",
       "                To a solution of 5-(methoxymethyl)-2-methylpyrazole-3-carboxylic acid (​10.26 mg, ​0.06 mmol)​{{1080:uid 2}}_XXXXX_  , 4-(2-methyl-1,3-thiazol-5-yl)-5-(trifluoromethyl)pyrimidin-2-amine (​15.0 mg, ​0.05 mmol)​{{1080:uid 1}}_XXXXX_   in o-Xylene (1 mL){{3:uid 1753}}_XXXXX_   was added Propylphosphonic Acid Anhydride (​0.08 mL, ​0.27 mmol)​{{1080:uid 5}}_XXXXX_   and TEA (​11.09 mg, ​0.11 mmol)​{{1080:uid 4}}_XXXXX_  .  The mixture was stirred at 130 °C{{1100:row 1}}_XXXXX_  for 12 h. LC-MS showed about 60% conversion. The mixture was added MeCN (3 mL) and purified by Prep-HPLC on C18 column (30 x 250 mm, 10 μm) using mobile phase 10 to 50% MeCN/H2O (tR = 20 min) to afford 5-(methoxymethyl)-2-methyl-N-[4-(2-methyl-1,3-thiazol-5-yl)-5-(trifluoromethyl)pyrimidin-2-yl]pyrazole-3-carboxamide (<span style='background-color: yellow; color: black;'>?</span> mg, 0.0177 mmol, 32.299% yield) .        1H NMR (300 MHz, DMSO) δ 11.50 (s, 1H), 9.12 (s, 1H), 8.22 (s, 1H), 7.20 (s, 1H), 4.37 (s, 2H), 4.07 (s, 3H), 3.28 (s, 3H), 2.74 (s, 3H).     LC-MS calc. for C16H16F3N6O2S [M+H]+: m/z = 413.1; Found 413.0; HPLC: C18 column (4.6 x 150 mm, 5 μm); flow rate = 1 mL/ min; mobile phase: 5% MeCN/H2O (with 0.1% TFA) to 95% 25 min, 95% 5 min; λ = 220 nm. tR =  13.68 min.   \n",
       "            </div>\n",
       "        </div>\n",
       "    </div>\n",
       "    </div>"
      ],
      "text/plain": [
       "<IPython.core.display.HTML object>"
      ]
     },
     "metadata": {},
     "output_type": "display_data"
    },
    {
     "data": {
      "text/html": [
       "<div style='margin: 10px 0; width: 100%; display: flex; border: 1px solid #ddd; border-radius: 4px; background: #f8f9fa;'>\n",
       "    <div style=\"display: flex; flex-direction: column; width: 100%; border: 2px solid #bbb;\">\n",
       "        <!-- Header Row -->\n",
       "        <div style=\"display: flex; font-weight: bold; background: #d6d8db; padding: 8px; border-bottom: 2px solid #bbb;\">\n",
       "            <div style=\"width: 80px; text-align: center; border-right: 2px solid #bbb; display: flex; align-items: center; justify-content: center;\">Index</div>\n",
       "            <div style=\"width: 150px; text-align: center; border-right: 2px solid #bbb; display: flex; align-items: center; justify-content: center;\">Experiment ID</div>\n",
       "            <div style=\"flex: 1; text-align: center;\">Writeup</div>\n",
       "        </div>\n",
       "\n",
       "        <!-- Data Row -->\n",
       "        <div style=\"display: flex; padding: 8px; background: #f8f9fa;\">\n",
       "            <div style=\"width: 80px; text-align: center; border-right: 2px solid #ddd; font-weight: bold; display: flex; align-items: center; justify-content: center;\">\n",
       "                87\n",
       "            </div>\n",
       "            <div style=\"width: 150px; text-align: center; border-right: 2px solid #ddd; font-weight: bold; display: flex; align-items: center; justify-content: center;\">\n",
       "                199923\n",
       "            </div>\n",
       "            <div style=\"flex: 1; padding: 8px 12px; white-space: pre-wrap; overflow-wrap: break-word;\">\n",
       "                1. 1-O,4-O-ditert-butyl 2-O-methyl 2-methylpiperazine-1,2,4-tricarboxylate (10.74 g, 29.96 mmol) was dissolved in THF (180 mL) , Methanol (90 mL) and Water (90 mL). Lithium hydroxide (10.76 g, 449.46 mmol)  was added and the mixture was heated to 60 degrees and stirred over the weekend (3:30 pm 05/07/2022)  (The heat was stopped on 05/09/2022. The reaction was worked-up on 05/10/2022)  2. Dilute with 1 N HCl aq (130 mL) pH ~2  Extract with DCM x 2  The precipitate in the flask was also washed by 100 mL HCl (the white solid turned out be majorly LiOH)  Extract with DCM x 2  Combine and concentrate to obtain 2-methyl-1,4-bis[(2-methylpropan-2-yl)oxycarbonyl]piperazine-2-carboxylic acid (<span style='background-color: yellow; color: black;'>?</span> g, <span style='background-color: yellow; color: black;'>?</span> mmol, <span style='background-color: yellow; color: black;'>?</span>% yield) as a pale tan foam  The foam deflated(<span style='background-color: yellow; color: black;'>?</span>) after a day and became sticky and hard to scoop.   A sample was taken out and placed in the air and it showed that the sample was not hygroscopic            Rose's Note: M+1 = 189 found (loss of tBu and Boc)\n",
       "            </div>\n",
       "        </div>\n",
       "    </div>\n",
       "    </div>"
      ],
      "text/plain": [
       "<IPython.core.display.HTML object>"
      ]
     },
     "metadata": {},
     "output_type": "display_data"
    },
    {
     "data": {
      "text/html": [
       "<div style='margin: 10px 0; width: 100%; display: flex; border: 1px solid #ddd; border-radius: 4px; background: #f8f9fa;'>\n",
       "    <div style=\"display: flex; flex-direction: column; width: 100%; border: 2px solid #bbb;\">\n",
       "        <!-- Header Row -->\n",
       "        <div style=\"display: flex; font-weight: bold; background: #d6d8db; padding: 8px; border-bottom: 2px solid #bbb;\">\n",
       "            <div style=\"width: 80px; text-align: center; border-right: 2px solid #bbb; display: flex; align-items: center; justify-content: center;\">Index</div>\n",
       "            <div style=\"width: 150px; text-align: center; border-right: 2px solid #bbb; display: flex; align-items: center; justify-content: center;\">Experiment ID</div>\n",
       "            <div style=\"flex: 1; text-align: center;\">Writeup</div>\n",
       "        </div>\n",
       "\n",
       "        <!-- Data Row -->\n",
       "        <div style=\"display: flex; padding: 8px; background: #f8f9fa;\">\n",
       "            <div style=\"width: 80px; text-align: center; border-right: 2px solid #ddd; font-weight: bold; display: flex; align-items: center; justify-content: center;\">\n",
       "                88\n",
       "            </div>\n",
       "            <div style=\"width: 150px; text-align: center; border-right: 2px solid #ddd; font-weight: bold; display: flex; align-items: center; justify-content: center;\">\n",
       "                200146\n",
       "            </div>\n",
       "            <div style=\"flex: 1; padding: 8px 12px; white-space: pre-wrap; overflow-wrap: break-word;\">\n",
       "                To a solution of (3S,5R)-5-(azidomethyl)-1-(3,6-dichloropyridazin-4-yl)pyrrolidin-3-ol (​6.4 g, ​22.14 mmol)​{{1080:uid 1}}_XXXXX_    in DCM (20 mL){{3:uid 159}}_XXXXX_   , Tert-Butyl dimethylchlorosilane (​3.67 g, ​24.35 mmol)​{{1080:uid 2}}_XXXXX_  was added along with Imidazole (​4.52 g, ​66.41 mmol)​{{1080:uid 3}}_XXXXX_   and let it stir at rt overnight. Full conversion observed by HPLC. The reaction mixture was diluted with DCM (100 mL) and washed with water (100 mL). Back extraction of water by DCM (100 mL) was done. The organic phase was dried over Na2SO4, filtered and concentrated to obtain dark brown crude. Crude was purified by FCC (0% to 15% EtOAc/Heptanes) to obtain yellowish liquid as desired compound. [(3S,5R)-5-(azidomethyl)-1-(3,6-dichloropyridazin-4-yl)pyrrolidin-3-yl]oxy-tert-butyl-dimethylsilane (<span style='background-color: yellow; color: black;'>?</span> g, 19.832 mmol, 81.914% yield)        \n",
       "            </div>\n",
       "        </div>\n",
       "    </div>\n",
       "    </div>"
      ],
      "text/plain": [
       "<IPython.core.display.HTML object>"
      ]
     },
     "metadata": {},
     "output_type": "display_data"
    },
    {
     "data": {
      "text/html": [
       "<div style='margin: 10px 0; width: 100%; display: flex; border: 1px solid #ddd; border-radius: 4px; background: #f8f9fa;'>\n",
       "    <div style=\"display: flex; flex-direction: column; width: 100%; border: 2px solid #bbb;\">\n",
       "        <!-- Header Row -->\n",
       "        <div style=\"display: flex; font-weight: bold; background: #d6d8db; padding: 8px; border-bottom: 2px solid #bbb;\">\n",
       "            <div style=\"width: 80px; text-align: center; border-right: 2px solid #bbb; display: flex; align-items: center; justify-content: center;\">Index</div>\n",
       "            <div style=\"width: 150px; text-align: center; border-right: 2px solid #bbb; display: flex; align-items: center; justify-content: center;\">Experiment ID</div>\n",
       "            <div style=\"flex: 1; text-align: center;\">Writeup</div>\n",
       "        </div>\n",
       "\n",
       "        <!-- Data Row -->\n",
       "        <div style=\"display: flex; padding: 8px; background: #f8f9fa;\">\n",
       "            <div style=\"width: 80px; text-align: center; border-right: 2px solid #ddd; font-weight: bold; display: flex; align-items: center; justify-content: center;\">\n",
       "                89\n",
       "            </div>\n",
       "            <div style=\"width: 150px; text-align: center; border-right: 2px solid #ddd; font-weight: bold; display: flex; align-items: center; justify-content: center;\">\n",
       "                200639\n",
       "            </div>\n",
       "            <div style=\"flex: 1; padding: 8px 12px; white-space: pre-wrap; overflow-wrap: break-word;\">\n",
       "                A mixture of 5-bromo-N,2-dimethylthiophene-3-carboxamide (​40.0 mg, ​0.17 mmol)​{{1080:uid 1}}_XXXXX_  , Pd(PPh3)4 (​39.49 mg, ​0.03 mmol)​{{1080:row 3}}_XXXXX_  , tert-butyl 4-[[4-chloro-5-(trifluoromethyl)pyrimidin-2-yl]amino]piperidine-1-carboxylate (​71.57 mg, ​0.19 mmol)​{{1080:uid 2}}_XXXXX_  ,  Hexamethylditin (​0.07 mL, ​0.34 mmol)​{{1080:uid 4}}_XXXXX_   in 1,4-Dioxane (20 mL){{3:uid 1}}_XXXXX_   was bubbled through N2 gas for 5 min. The mixture was then stirred at 100 °C{{1100:row 1}}_XXXXX_   for 12 h. LC-MS showed that the starting materail was consumed.  LCMS showed that the starting material was consunmed. The reaction was then cooled down and KF solution (5 mL) was added. The mixture was stirred at r.t. for 1 h. The solvent was then removed under reduced pressure. The residue was added then extrated with ethyl acetate (10 mL x 2). The combined organic layers were dried over Na2SO4, filtered, concentrated.    The crude was purified by flash column chromatography eluting 0-70%EtOAc in heptane to provide tert-butyl 4-[[4-[5-methyl-4-(methylcarbamoyl)thiophen-2-yl]-5-(trifluoromethyl)pyrimidin-2-yl]amino]piperidine-1-carboxylate (<span style='background-color: yellow; color: black;'>?</span> mg, 0.0598 mmol, 34.98% yield).      \n",
       "            </div>\n",
       "        </div>\n",
       "    </div>\n",
       "    </div>"
      ],
      "text/plain": [
       "<IPython.core.display.HTML object>"
      ]
     },
     "metadata": {},
     "output_type": "display_data"
    },
    {
     "data": {
      "text/html": [
       "<div style='margin: 10px 0; width: 100%; display: flex; border: 1px solid #ddd; border-radius: 4px; background: #f8f9fa;'>\n",
       "    <div style=\"display: flex; flex-direction: column; width: 100%; border: 2px solid #bbb;\">\n",
       "        <!-- Header Row -->\n",
       "        <div style=\"display: flex; font-weight: bold; background: #d6d8db; padding: 8px; border-bottom: 2px solid #bbb;\">\n",
       "            <div style=\"width: 80px; text-align: center; border-right: 2px solid #bbb; display: flex; align-items: center; justify-content: center;\">Index</div>\n",
       "            <div style=\"width: 150px; text-align: center; border-right: 2px solid #bbb; display: flex; align-items: center; justify-content: center;\">Experiment ID</div>\n",
       "            <div style=\"flex: 1; text-align: center;\">Writeup</div>\n",
       "        </div>\n",
       "\n",
       "        <!-- Data Row -->\n",
       "        <div style=\"display: flex; padding: 8px; background: #f8f9fa;\">\n",
       "            <div style=\"width: 80px; text-align: center; border-right: 2px solid #ddd; font-weight: bold; display: flex; align-items: center; justify-content: center;\">\n",
       "                90\n",
       "            </div>\n",
       "            <div style=\"width: 150px; text-align: center; border-right: 2px solid #ddd; font-weight: bold; display: flex; align-items: center; justify-content: center;\">\n",
       "                201526\n",
       "            </div>\n",
       "            <div style=\"flex: 1; padding: 8px 12px; white-space: pre-wrap; overflow-wrap: break-word;\">\n",
       "                To a solution of tert-butyl (2R,4S)-4-((tert-butyldimethylsilyl)oxy)-2-(hydroxymethyl)pyrrolidine-1-carboxylate  (1.43 g, 4.32 mmol) and 4-methylbenzenesulfonyl chloride (1.03 g, 5.4 mmol) in DCM (8.6 mL) at 0 ºC was added pyridine (2.6 mL). The reaction was allowed to warm to room temperature and stirred for 23 h. The reaction was diluted with DCM and washed with water (2 x 50 mL), 10 wt% citric acid (2 x 50 mL), brine (50 mL), and dried with MgSO4. The mixture was filtered and concentrated. The residue was purified by column chromatography on a silica gel column (0-100% EtOAc/hexanes) to give tert-butyl (2R,4S)-4-((tert-butyldimethylsilyl)oxy)-2-((tosyloxy)methyl)pyrrolidine-1-carboxylate (1.59 g, 3.28 mmol, 76% yield) as a clear oil. LCMS calcd. for C18H32NO4SSi (M+2H-Boc)+ m/z: 386.2; found: 386.1.     1. To a solution oftert-butyl (2R,4S)-4-[tert-butyl(diphenyl)silyl]oxy-2-(hydroxymethyl)pyrrolidine-1-carboxylate (2.86 g, 6.28 mmol){{9:uid 1}}_XXXXX_  and Tosyl chloride (2.06 g, 10.81 mmol){{9:uid 2}}_XXXXX_  in DCM (17 mL){{3:uid 2529}}_XXXXX_  at 0 ºC was added Pyridine (5.2 mL, 64.29 mmol){{9:uid 3}}_XXXXX_  . The reaction was allowed to warm to room temperature and stirred for 23 h. (12:34 pm 06/06/2022)     2. The reaction was diluted with DCM and washed with water (2 x 100 mL), 10 wt% citric acid (2 x 100 mL), brine (100 mL), and dried with MgSO4. The mixture was filtered and concentrated. The residue was purified by column chromatography on a silica gel column (0-100% MTBE/hexanes) 2.46 g product was obtained (not accurate, see NOTE) 2.79 g SM was collected (not completely dry assumely)  NOTE:  The reaction was not done after 24 h - actually, there was still roughly half of the product in the reaction based on HPLC.  The work-up was able to get rid of all the pyridine but no TsCl was removed.   The column was used MTBE becuase the SM and the product are only responsive to 220 nm. TsCl would go along with the first product which made it hard to completely collect the desired compound. (Later it found out TBDPS was also in it) Even less polar system could not prevent this from happening (PWE003-47.run First column (0-100%) separated SM and product, TsCl came out with product. This mixtues portion was carried to the second column with 0/50% solvent (PWE003-47-2ndRUN.run), still happens.)  The product was dried and taken to NMR, it was surprisingly messing, according to the HPLC, the TBDPS impurity was not removed from it.  3. The SM was collected and dried on the pump (for a little while), and it was treated with Tosyl chloride (2.06 g, 10.81 mmol) in DCM (17 mL) and Pyridine (5.2 mL, 64.29 mmol) again and the mixture was stirred at rt overnight again.     4. Step 2 was repeated and all the product was coverted to the product this time. (Even though this time pyridine was not completely removed, its due to the pH <span style='background-color: yellow; color: black;'>?</span>(only to 3~4 in the aqueous layer)) A more careful was run and TBDPS impurity was finally removed from the system. \n",
       "            </div>\n",
       "        </div>\n",
       "    </div>\n",
       "    </div>"
      ],
      "text/plain": [
       "<IPython.core.display.HTML object>"
      ]
     },
     "metadata": {},
     "output_type": "display_data"
    },
    {
     "data": {
      "text/html": [
       "<div style='margin: 10px 0; width: 100%; display: flex; border: 1px solid #ddd; border-radius: 4px; background: #f8f9fa;'>\n",
       "    <div style=\"display: flex; flex-direction: column; width: 100%; border: 2px solid #bbb;\">\n",
       "        <!-- Header Row -->\n",
       "        <div style=\"display: flex; font-weight: bold; background: #d6d8db; padding: 8px; border-bottom: 2px solid #bbb;\">\n",
       "            <div style=\"width: 80px; text-align: center; border-right: 2px solid #bbb; display: flex; align-items: center; justify-content: center;\">Index</div>\n",
       "            <div style=\"width: 150px; text-align: center; border-right: 2px solid #bbb; display: flex; align-items: center; justify-content: center;\">Experiment ID</div>\n",
       "            <div style=\"flex: 1; text-align: center;\">Writeup</div>\n",
       "        </div>\n",
       "\n",
       "        <!-- Data Row -->\n",
       "        <div style=\"display: flex; padding: 8px; background: #f8f9fa;\">\n",
       "            <div style=\"width: 80px; text-align: center; border-right: 2px solid #ddd; font-weight: bold; display: flex; align-items: center; justify-content: center;\">\n",
       "                91\n",
       "            </div>\n",
       "            <div style=\"width: 150px; text-align: center; border-right: 2px solid #ddd; font-weight: bold; display: flex; align-items: center; justify-content: center;\">\n",
       "                201767\n",
       "            </div>\n",
       "            <div style=\"flex: 1; padding: 8px 12px; white-space: pre-wrap; overflow-wrap: break-word;\">\n",
       "                 To a solution of methyl 4-amino-2-nitrobenzoate (​600.0 mg, ​3.06 mmol)​{{1080:uid 1}}_XXXXX_   in DMF (6 mL){{3:uid 2553}}_XXXXX_   was added Triethylamine;TEA (​0.85 mL, ​6.12 mmol)​{{1080:uid 3}}_XXXXX_   followed by prop-2-enoyl prop-2-enoate (​0.35 mL, ​3.06 mmol)​{{1080:uid 2}}_XXXXX_   . The resulting mixture was stirred at rt for 3 h. HPLC indicated 1:1 SM and product. The reaction was further stirred at this temperature for another 1 h. HPLC indicated nearly no change. The reaction mixture was diluted with 60 mL of 0.5 M HCl solution followed by 60 mL of EtOAc. The layers were separated and the organic layer was washed with 60 mL of 1M HCl. The combined organic layers were washed with brine, dried over sodium sulfate, filtered and concentrated under reduced pressure. The crude product was further purified by normal phase column (20% to 80% EA in heptane) to afford methyl 2-nitro-4-(prop-2-enoylamino)benzoate (<span style='background-color: yellow; color: black;'>?</span> mg, 1.6386 mmol, 53.572% yield)  as an orange oil.   Note: According to 1H NMR, the product contained ~30% unreacted SM.   1H NMR (300 MHz, Chloroform-d) δ 8.16 (d, J = 2.1 Hz, 1H), 7.95 (s, 1H), 7.86 (dd, J = 8.5, 2.1 Hz, 1H), 7.78 (d, J = 8.5 Hz, 1H), 6.50 (dd, J = 16.9, 1.2 Hz, 1H), 6.28 (dd, J = 16.8, 10.2 Hz, 1H), 5.87 (dd, J = 10.2, 1.2 Hz, 1H), 3.89 (s, 3H).      \n",
       "            </div>\n",
       "        </div>\n",
       "    </div>\n",
       "    </div>"
      ],
      "text/plain": [
       "<IPython.core.display.HTML object>"
      ]
     },
     "metadata": {},
     "output_type": "display_data"
    },
    {
     "data": {
      "text/html": [
       "<div style='margin: 10px 0; width: 100%; display: flex; border: 1px solid #ddd; border-radius: 4px; background: #f8f9fa;'>\n",
       "    <div style=\"display: flex; flex-direction: column; width: 100%; border: 2px solid #bbb;\">\n",
       "        <!-- Header Row -->\n",
       "        <div style=\"display: flex; font-weight: bold; background: #d6d8db; padding: 8px; border-bottom: 2px solid #bbb;\">\n",
       "            <div style=\"width: 80px; text-align: center; border-right: 2px solid #bbb; display: flex; align-items: center; justify-content: center;\">Index</div>\n",
       "            <div style=\"width: 150px; text-align: center; border-right: 2px solid #bbb; display: flex; align-items: center; justify-content: center;\">Experiment ID</div>\n",
       "            <div style=\"flex: 1; text-align: center;\">Writeup</div>\n",
       "        </div>\n",
       "\n",
       "        <!-- Data Row -->\n",
       "        <div style=\"display: flex; padding: 8px; background: #f8f9fa;\">\n",
       "            <div style=\"width: 80px; text-align: center; border-right: 2px solid #ddd; font-weight: bold; display: flex; align-items: center; justify-content: center;\">\n",
       "                92\n",
       "            </div>\n",
       "            <div style=\"width: 150px; text-align: center; border-right: 2px solid #ddd; font-weight: bold; display: flex; align-items: center; justify-content: center;\">\n",
       "                202113\n",
       "            </div>\n",
       "            <div style=\"flex: 1; padding: 8px 12px; white-space: pre-wrap; overflow-wrap: break-word;\">\n",
       "                1. 1-O,4-O-ditert-butyl 2-O-methyl 2-methylpiperazine-1,2,4-tricarboxylate (10.74 g, 29.96 mmol) was dissolved in THF (180 mL) , Methanol (90 mL) and Water (90 mL). hydroxylithium;hydrate (17.0 g, 405.1 mmol){{9:uid 3}}_XXXXX_   was added and the mixture was heated to 60 degrees and stirred over the weekend (11:25 am 06/16/2022)        (The heat was stopped on 05/09/2022. The reaction was worked-up on 05/10/2022)  2. Dilute with 1 N HCl aq (130 mL) pH ~2  Extract with DCM x 2  The precipitate in the flask was also washed by 100 mL HCl (the white solid turned out be majorly LiOH)  Extract with DCM x 2  Combine and concentrate to obtain 2-methyl-1,4-bis[(2-methylpropan-2-yl)oxycarbonyl]piperazine-2-carboxylic acid (<span style='background-color: yellow; color: black;'>?</span> g, <span style='background-color: yellow; color: black;'>?</span> mmol, <span style='background-color: yellow; color: black;'>?</span>% yield) as a pale tan foam  The foam deflated(<span style='background-color: yellow; color: black;'>?</span>) after a day and became sticky and hard to scoop.   A sample was taken out and placed in the air and it showed that the sample was not hygroscopic            Rose's Note: M+1 = 189 found (loss of tBu and Boc)\n",
       "            </div>\n",
       "        </div>\n",
       "    </div>\n",
       "    </div>"
      ],
      "text/plain": [
       "<IPython.core.display.HTML object>"
      ]
     },
     "metadata": {},
     "output_type": "display_data"
    },
    {
     "data": {
      "text/html": [
       "<div style='margin: 10px 0; width: 100%; display: flex; border: 1px solid #ddd; border-radius: 4px; background: #f8f9fa;'>\n",
       "    <div style=\"display: flex; flex-direction: column; width: 100%; border: 2px solid #bbb;\">\n",
       "        <!-- Header Row -->\n",
       "        <div style=\"display: flex; font-weight: bold; background: #d6d8db; padding: 8px; border-bottom: 2px solid #bbb;\">\n",
       "            <div style=\"width: 80px; text-align: center; border-right: 2px solid #bbb; display: flex; align-items: center; justify-content: center;\">Index</div>\n",
       "            <div style=\"width: 150px; text-align: center; border-right: 2px solid #bbb; display: flex; align-items: center; justify-content: center;\">Experiment ID</div>\n",
       "            <div style=\"flex: 1; text-align: center;\">Writeup</div>\n",
       "        </div>\n",
       "\n",
       "        <!-- Data Row -->\n",
       "        <div style=\"display: flex; padding: 8px; background: #f8f9fa;\">\n",
       "            <div style=\"width: 80px; text-align: center; border-right: 2px solid #ddd; font-weight: bold; display: flex; align-items: center; justify-content: center;\">\n",
       "                93\n",
       "            </div>\n",
       "            <div style=\"width: 150px; text-align: center; border-right: 2px solid #ddd; font-weight: bold; display: flex; align-items: center; justify-content: center;\">\n",
       "                202578\n",
       "            </div>\n",
       "            <div style=\"flex: 1; padding: 8px 12px; white-space: pre-wrap; overflow-wrap: break-word;\">\n",
       "                A mixture of  2-bromo-1,3-thiazole (​200.0 mg, ​1.22 mmol)​{{1080:uid 1}}_XXXXX_  , pentane-2,4-dione (​366.25 mg, ​3.66 mmol)​{{1080:uid 2}}_XXXXX_   CuI (​23.22 mg, ​0.12 mmol)​{{1080:uid 3}}_XXXXX_  , tri-Potassium phosphate (​776.25 mg, ​3.66 mmol)​{{1080:uid 4}}_XXXXX_  and water (0.1 mL, <span style='background-color: yellow; color: black;'>?</span> mmol) in DMSO (4 mL){{3:uid 3113}}_XXXXX_  was purged with N2 for 2 mins. The reaction was stirred at 110 °C overnight. The LCMS showed no relevent product mass. The reaction was discarded.\n",
       "            </div>\n",
       "        </div>\n",
       "    </div>\n",
       "    </div>"
      ],
      "text/plain": [
       "<IPython.core.display.HTML object>"
      ]
     },
     "metadata": {},
     "output_type": "display_data"
    },
    {
     "data": {
      "text/html": [
       "<div style='margin: 10px 0; width: 100%; display: flex; border: 1px solid #ddd; border-radius: 4px; background: #f8f9fa;'>\n",
       "    <div style=\"display: flex; flex-direction: column; width: 100%; border: 2px solid #bbb;\">\n",
       "        <!-- Header Row -->\n",
       "        <div style=\"display: flex; font-weight: bold; background: #d6d8db; padding: 8px; border-bottom: 2px solid #bbb;\">\n",
       "            <div style=\"width: 80px; text-align: center; border-right: 2px solid #bbb; display: flex; align-items: center; justify-content: center;\">Index</div>\n",
       "            <div style=\"width: 150px; text-align: center; border-right: 2px solid #bbb; display: flex; align-items: center; justify-content: center;\">Experiment ID</div>\n",
       "            <div style=\"flex: 1; text-align: center;\">Writeup</div>\n",
       "        </div>\n",
       "\n",
       "        <!-- Data Row -->\n",
       "        <div style=\"display: flex; padding: 8px; background: #f8f9fa;\">\n",
       "            <div style=\"width: 80px; text-align: center; border-right: 2px solid #ddd; font-weight: bold; display: flex; align-items: center; justify-content: center;\">\n",
       "                94\n",
       "            </div>\n",
       "            <div style=\"width: 150px; text-align: center; border-right: 2px solid #ddd; font-weight: bold; display: flex; align-items: center; justify-content: center;\">\n",
       "                202638\n",
       "            </div>\n",
       "            <div style=\"flex: 1; padding: 8px 12px; white-space: pre-wrap; overflow-wrap: break-word;\">\n",
       "                To a solution of8-bromo-2-ethylsulfanyl-6-(trifluoromethyl)chromen-4-one (​208.0 mg, ​0.59 mmol)​{{1080:uid 1}}_XXXXX_   in 1,4-Dioxane (5 mL){{3:uid 1543}}_XXXXX_   was added bis(triphenylphosphine)palladium(II) dichloride (​82.68 mg, ​0.12 mmol)​{{1080:uid 3}}_XXXXX_   . The resulting mixture was sealed and charged with nitrogen for 3 times. Then 1-Ethoxyvinyltri-n-butyltin (​0.3 mL, ​0.88 mmol)​{{1080:uid 2}}_XXXXX_    was added and the mixture was stirred at 100 °C{{1100:row 1}}_XXXXX_  for 3 hours. HPLC indicated the consumption of SM and the formation of a new peak.  The crude product was combined with FEL024-57 and worked up and purified together.  The reaction mixture was cooled to room temperature and quenched by adding 30 mL of saturated KF solution followed by 30 mL of water and 50 mL of EtOAc. The resulting mixture was stirred overnight. The layers were separated and the aqueous laeyr was extracted with EtOAc (50 mL x 2). The combined organic layers were dried over sodium sulfate, filtered and concentrated under reduced pressure. The crude mixture was further diluted with 30 mL of 1 M HCl solution followed by 30 mL of THF. The mixture was further stirred at rt overnight. LC-MS indicated the consumption of vinyl ether and the formation of methyl ketone. THF was removed under reduced pressure and the mixture was diluted with 30 mL of water followed by 30 mL of EtOAc. The pH of water layer was adjusted to 7-8 by adding sodium bicarbonate. The layers were separated and the aqueous layer was extracted with EtOAc (30 mL x 2). The combined organic layers were dried over sodium sulfate, filtered and concentrated under reduced pressure. The crude product was further purified by flash chromatography (SiO2, 0 to 60% EA in heptane) to afford 8-acetyl-2-ethylsulfanyl-6-(trifluoromethyl)chromen-4-one (<span style='background-color: yellow; color: black;'>?</span> mg, 0.2356 mmol, 8.077% yield)  as a white solid.   1H NMR (300 MHz, Chloroform-d) δ 8.71 – 8.58 (m, 1H), 8.28 (dd, J = 2.4, 0.6 Hz, 1H), 6.34 (s, 1H), 3.14 (q, J = 7.4 Hz, 2H), 2.78 (s, 3H), 1.48 (t, J = 7.4 Hz, 3H).  620 mg in total.  Note:  1. The weight of the product was calculated proportionally.   2. A byproduct was observed with [M+H]+ = 327. The structure of the byproduct was proposed as in the scheme. The structure was also confirmed by 1H NMR. \n",
       "            </div>\n",
       "        </div>\n",
       "    </div>\n",
       "    </div>"
      ],
      "text/plain": [
       "<IPython.core.display.HTML object>"
      ]
     },
     "metadata": {},
     "output_type": "display_data"
    },
    {
     "data": {
      "text/html": [
       "<div style='margin: 10px 0; width: 100%; display: flex; border: 1px solid #ddd; border-radius: 4px; background: #f8f9fa;'>\n",
       "    <div style=\"display: flex; flex-direction: column; width: 100%; border: 2px solid #bbb;\">\n",
       "        <!-- Header Row -->\n",
       "        <div style=\"display: flex; font-weight: bold; background: #d6d8db; padding: 8px; border-bottom: 2px solid #bbb;\">\n",
       "            <div style=\"width: 80px; text-align: center; border-right: 2px solid #bbb; display: flex; align-items: center; justify-content: center;\">Index</div>\n",
       "            <div style=\"width: 150px; text-align: center; border-right: 2px solid #bbb; display: flex; align-items: center; justify-content: center;\">Experiment ID</div>\n",
       "            <div style=\"flex: 1; text-align: center;\">Writeup</div>\n",
       "        </div>\n",
       "\n",
       "        <!-- Data Row -->\n",
       "        <div style=\"display: flex; padding: 8px; background: #f8f9fa;\">\n",
       "            <div style=\"width: 80px; text-align: center; border-right: 2px solid #ddd; font-weight: bold; display: flex; align-items: center; justify-content: center;\">\n",
       "                95\n",
       "            </div>\n",
       "            <div style=\"width: 150px; text-align: center; border-right: 2px solid #ddd; font-weight: bold; display: flex; align-items: center; justify-content: center;\">\n",
       "                202678\n",
       "            </div>\n",
       "            <div style=\"flex: 1; padding: 8px 12px; white-space: pre-wrap; overflow-wrap: break-word;\">\n",
       "                To a solution of8-bromo-2-ethylsulfanyl-6-(trifluoromethyl)chromen-4-one (​1.03 g, ​2.92 mmol)​{{1080:uid 1}}_XXXXX_   in 1,4-Dioxane (21 mL){{3:uid 1543}}_XXXXX_   was added bis(triphenylphosphine)palladium(II) dichloride (​0.41 g, ​0.58 mmol)​{{1080:uid 3}}_XXXXX_   . The resulting mixture was sealed and charged with nitrogen for 3 times. Then 1-Ethoxyvinyltri-n-butyltin (​1.48 mL, ​4.37 mmol)​{{1080:uid 2}}_XXXXX_    was added and the mixture was stirred at 100 °C{{1100:row 1}}_XXXXX_  for 3 hours. HPLC indicated the consumption of SM and the formation of a new peak.   The crude product was combined with FEL024-56 and worked up and purified together.  The reaction mixture was cooled to room temperature and quenched by adding 30 mL of saturated KF solution followed by 30 mL of water and 50 mL of EtOAc. The resulting mixture was stirred overnight. The layers were separated and the aqueous laeyr was extracted with EtOAc (50 mL x 2). The combined organic layers were dried over sodium sulfate, filtered and concentrated under reduced pressure. The crude mixture was further diluted with 30 mL of 1 M HCl solution followed by 30 mL of THF. The mixture was further stirred at rt overnight. LC-MS indicated the consumption of vinyl ether and the formation of methyl ketone. THF was removed under reduced pressure and the mixture was diluted with 30 mL of water followed by 30 mL of EtOAc. The pH of water layer was adjusted to 7-8 by adding sodium bicarbonate. The layers were separated and the aqueous layer was extracted with EtOAc (30 mL x 2). The combined organic layers were dried over sodium sulfate, filtered and concentrated under reduced pressure. The crude product was further purified by flash chromatography (SiO2, 0 to 60% EA in heptane) to afford 8-acetyl-2-ethylsulfanyl-6-(trifluoromethyl)chromen-4-one (<span style='background-color: yellow; color: black;'>?</span> mg, 0.2356 mmol, 8.077% yield)  as a white solid.   1H NMR (300 MHz, Chloroform-d) δ 8.71 – 8.58 (m, 1H), 8.28 (dd, J = 2.4, 0.6 Hz, 1H), 6.34 (s, 1H), 3.14 (q, J = 7.4 Hz, 2H), 2.78 (s, 3H), 1.48 (t, J = 7.4 Hz, 3H).  620 mg in total.  Note:   1. The weight of the product was calculated proportionally.   2. A byproduct was observed with [M+H]+ = 327. The structure was shown in the scheme. The structure was also confirmed by 1H NMR            \n",
       "            </div>\n",
       "        </div>\n",
       "    </div>\n",
       "    </div>"
      ],
      "text/plain": [
       "<IPython.core.display.HTML object>"
      ]
     },
     "metadata": {},
     "output_type": "display_data"
    },
    {
     "data": {
      "text/html": [
       "<div style='margin: 10px 0; width: 100%; display: flex; border: 1px solid #ddd; border-radius: 4px; background: #f8f9fa;'>\n",
       "    <div style=\"display: flex; flex-direction: column; width: 100%; border: 2px solid #bbb;\">\n",
       "        <!-- Header Row -->\n",
       "        <div style=\"display: flex; font-weight: bold; background: #d6d8db; padding: 8px; border-bottom: 2px solid #bbb;\">\n",
       "            <div style=\"width: 80px; text-align: center; border-right: 2px solid #bbb; display: flex; align-items: center; justify-content: center;\">Index</div>\n",
       "            <div style=\"width: 150px; text-align: center; border-right: 2px solid #bbb; display: flex; align-items: center; justify-content: center;\">Experiment ID</div>\n",
       "            <div style=\"flex: 1; text-align: center;\">Writeup</div>\n",
       "        </div>\n",
       "\n",
       "        <!-- Data Row -->\n",
       "        <div style=\"display: flex; padding: 8px; background: #f8f9fa;\">\n",
       "            <div style=\"width: 80px; text-align: center; border-right: 2px solid #ddd; font-weight: bold; display: flex; align-items: center; justify-content: center;\">\n",
       "                96\n",
       "            </div>\n",
       "            <div style=\"width: 150px; text-align: center; border-right: 2px solid #ddd; font-weight: bold; display: flex; align-items: center; justify-content: center;\">\n",
       "                202681\n",
       "            </div>\n",
       "            <div style=\"flex: 1; padding: 8px 12px; white-space: pre-wrap; overflow-wrap: break-word;\">\n",
       "                [(10S)-4-(3,5-difluoro-2-hydroxyphenyl)-10-methyl-1,5,6,8,12-pentazatricyclo[8.4.0.02,7]tetradeca-2(7),3,5-trien-12-yl]-[4-(hydroxymethyl)cyclohexyl]methanone (49.0 mg, 0.1 mmol){{9:uid 9}}_XXXXX_    and Triethylamine;TEA (0.14 mL, 1.03 mmol){{9:uid 3}}_XXXXX_    was dissolved in DMSO (0.25 mL){{3:uid 2376}}_XXXXX_    and then Sulfurtrioxide pyridine (98.82 mg, 0.62 mmol){{9:uid 4}}_XXXXX_   was added. The reaction was stirred for 2 hour. A mixture of (S)-3-(1-oxo-6-(piperazin-1-yl)isoindolin-2-yl)piperidine-2,6-dione (40.78 mg, 0.12 mmol){{9:uid 8}}_XXXXX_    and acetic acid (0.24 mL, 4.14 mmol){{9:uid 5}}_XXXXX_     in MeCN (0.50 mL){{3:uid 2378}}_XXXXX_    was added. The mixture was stirred for 1h. sodium triacetoxyborohydride (131.59 mg, 0.62 mmol){{9:uid 6}}_XXXXX_    was added. The mixture was stirred at rt overnight. The mixture was purified on prep-LCMS (pH 2) to obtain 4-[[4-[2-[(3S)-2,6-dioxopiperidin-3-yl]-3-oxo-1H-isoindol-5-yl]piperazin-1-yl]methyl]cyclohexane-1-carboxylic acid (<span style='background-color: yellow; color: black;'>?</span> mg, <span style='background-color: yellow; color: black;'>?</span> mmol, <span style='background-color: yellow; color: black;'>?</span>% yield) to be registered as PRT1006706 lot2. LCMS [M+H] = 784.3.     \n",
       "            </div>\n",
       "        </div>\n",
       "    </div>\n",
       "    </div>"
      ],
      "text/plain": [
       "<IPython.core.display.HTML object>"
      ]
     },
     "metadata": {},
     "output_type": "display_data"
    },
    {
     "data": {
      "text/html": [
       "<div style='margin: 10px 0; width: 100%; display: flex; border: 1px solid #ddd; border-radius: 4px; background: #f8f9fa;'>\n",
       "    <div style=\"display: flex; flex-direction: column; width: 100%; border: 2px solid #bbb;\">\n",
       "        <!-- Header Row -->\n",
       "        <div style=\"display: flex; font-weight: bold; background: #d6d8db; padding: 8px; border-bottom: 2px solid #bbb;\">\n",
       "            <div style=\"width: 80px; text-align: center; border-right: 2px solid #bbb; display: flex; align-items: center; justify-content: center;\">Index</div>\n",
       "            <div style=\"width: 150px; text-align: center; border-right: 2px solid #bbb; display: flex; align-items: center; justify-content: center;\">Experiment ID</div>\n",
       "            <div style=\"flex: 1; text-align: center;\">Writeup</div>\n",
       "        </div>\n",
       "\n",
       "        <!-- Data Row -->\n",
       "        <div style=\"display: flex; padding: 8px; background: #f8f9fa;\">\n",
       "            <div style=\"width: 80px; text-align: center; border-right: 2px solid #ddd; font-weight: bold; display: flex; align-items: center; justify-content: center;\">\n",
       "                97\n",
       "            </div>\n",
       "            <div style=\"width: 150px; text-align: center; border-right: 2px solid #ddd; font-weight: bold; display: flex; align-items: center; justify-content: center;\">\n",
       "                203497\n",
       "            </div>\n",
       "            <div style=\"flex: 1; padding: 8px 12px; white-space: pre-wrap; overflow-wrap: break-word;\">\n",
       "                To a solution of8-bromo-2-(1,3-dihydroisoindol-2-yl)-6-(trifluoromethyl)chromen-4-one (​314.0 mg, ​0.77 mmol)​{{1080:uid 1}}_XXXXX_   in 1,4-Dioxane (7 mL){{3:uid 1543}}_XXXXX_   was added bis(triphenylphosphine)palladium(II) dichloride (​107.46 mg, ​0.15 mmol)​{{1080:uid 3}}_XXXXX_   . The resulting mixture was sealed and charged with nitrogen for 3 times. Then 1-Ethoxyvinyltri-n-butyltin (​0.39 mL, ​1.15 mmol)​{{1080:uid 2}}_XXXXX_    was added and the mixture was stirred at 100 °C{{1100:row 1}}_XXXXX_  for 3 hours. HPLC indicated the consumption of SM and the formation of a new peak.  The crude product was combined with FEL024-76 and worked up and purified together.  The reaction mixture was cooled to room temperature and quenched by adding 30 mL of saturated KF solution followed by 30 mL of water and 50 mL of EtOAc. The resulting mixture was stirred at rt for 2 hours. The mixture was filtered and the filter cake was washed with water and EtOAc. The filtrate was collected and the layers were separated and the aqueous layer was extracted with EtOAc (50 mL x 2). The combined organic layers were dried over sodium sulfate, filtered and concentrated under reduced pressure. The crude mixture was further diluted with 30 mL of 1 M HCl solution followed by 30 mL of THF. The mixture was further stirred at rt overnight. LC-MS indicated the consumption of vinyl ether and the formation of methyl ketone. THF was removed under reduced pressure and the mixture was diluted with 30 mL of water followed by 30 mL of EtOAc. The pH of water layer was adjusted to 7-8 by adding sodium bicarbonate. The layers were separated and the aqueous layer was extracted with EtOAc (30 mL x 2). The combined organic layers were dried over sodium sulfate, filtered and concentrated under reduced pressure. The crude product was further purified by flash chromatography (SiO2, 0 to 60% EA in heptane) to afford 8-acetyl-2-ethylsulfanyl-6-(trifluoromethyl)chromen-4-one (<span style='background-color: yellow; color: black;'>?</span> mg, 0.2356 mmol, 8.077% yield)  as a white solid.   1H NMR (300 MHz, Chloroform-d) δ 8.76 – 8.63 (m, 1H), 8.27 – 8.15 (m, 1H), 7.39 (s, 4H), 5.52 (s, 1H), 4.93 (s, 4H), 2.83 (s, 3H).     0.99 g in total.  Note:  1. The weight of the product was calculated proportionally.   2. Some TPPO was mixed with product according to LC-MS.   \n",
       "            </div>\n",
       "        </div>\n",
       "    </div>\n",
       "    </div>"
      ],
      "text/plain": [
       "<IPython.core.display.HTML object>"
      ]
     },
     "metadata": {},
     "output_type": "display_data"
    },
    {
     "data": {
      "text/html": [
       "<div style='margin: 10px 0; width: 100%; display: flex; border: 1px solid #ddd; border-radius: 4px; background: #f8f9fa;'>\n",
       "    <div style=\"display: flex; flex-direction: column; width: 100%; border: 2px solid #bbb;\">\n",
       "        <!-- Header Row -->\n",
       "        <div style=\"display: flex; font-weight: bold; background: #d6d8db; padding: 8px; border-bottom: 2px solid #bbb;\">\n",
       "            <div style=\"width: 80px; text-align: center; border-right: 2px solid #bbb; display: flex; align-items: center; justify-content: center;\">Index</div>\n",
       "            <div style=\"width: 150px; text-align: center; border-right: 2px solid #bbb; display: flex; align-items: center; justify-content: center;\">Experiment ID</div>\n",
       "            <div style=\"flex: 1; text-align: center;\">Writeup</div>\n",
       "        </div>\n",
       "\n",
       "        <!-- Data Row -->\n",
       "        <div style=\"display: flex; padding: 8px; background: #f8f9fa;\">\n",
       "            <div style=\"width: 80px; text-align: center; border-right: 2px solid #ddd; font-weight: bold; display: flex; align-items: center; justify-content: center;\">\n",
       "                98\n",
       "            </div>\n",
       "            <div style=\"width: 150px; text-align: center; border-right: 2px solid #ddd; font-weight: bold; display: flex; align-items: center; justify-content: center;\">\n",
       "                203535\n",
       "            </div>\n",
       "            <div style=\"flex: 1; padding: 8px 12px; white-space: pre-wrap; overflow-wrap: break-word;\">\n",
       "                To a solution of8-bromo-2-(1,3-dihydroisoindol-2-yl)-6-(trifluoromethyl)chromen-4-one (​766.0 mg, ​1.87 mmol)​{{1080:uid 1}}_XXXXX_   in 1,4-Dioxane (16 mL){{3:uid 1543}}_XXXXX_   was added bis(triphenylphosphine)palladium(II) dichloride (​262.15 mg, ​0.37 mmol)​{{1080:uid 3}}_XXXXX_   . The resulting mixture was sealed and charged with nitrogen for 3 times. Then 1-Ethoxyvinyltri-n-butyltin (​0.95 mL, ​2.8 mmol)​{{1080:uid 2}}_XXXXX_    was added and the mixture was stirred at 100 °C{{1100:row 1}}_XXXXX_  for 2 hours. HPLC indicated the consumption of SM and the formation of a new peak.  The crude product was combined with FEL024-74 and worked up and purified together.  The reaction mixture was cooled to room temperature and quenched by adding 30 mL of saturated KF solution followed by 30 mL of water and 50 mL of EtOAc. The resulting mixture was stirred at rt for 2 hours. The mixture was filtered and the filter cake was washed with water and EtOAc. The filtrate was collected and the layers were separated and the aqueous layer was extracted with EtOAc (50 mL x 2). The combined organic layers were dried over sodium sulfate, filtered and concentrated under reduced pressure. The crude mixture was further diluted with 30 mL of 1 M HCl solution followed by 30 mL of THF. The mixture was further stirred at rt overnight. LC-MS indicated the consumption of vinyl ether and the formation of methyl ketone. THF was removed under reduced pressure and the mixture was diluted with 30 mL of water followed by 30 mL of EtOAc. The pH of water layer was adjusted to 7-8 by adding sodium bicarbonate. The layers were separated and the aqueous layer was extracted with EtOAc (30 mL x 2). The combined organic layers were dried over sodium sulfate, filtered and concentrated under reduced pressure. The crude product was further purified by flash chromatography (SiO2, 0 to 60% EA in heptane) to afford 8-acetyl-2-ethylsulfanyl-6-(trifluoromethyl)chromen-4-one (<span style='background-color: yellow; color: black;'>?</span> mg, 0.2356 mmol, 8.077% yield)  as a white solid.   1H NMR (300 MHz, Chloroform-d) δ 8.76 – 8.63 (m, 1H), 8.27 – 8.15 (m, 1H), 7.39 (s, 4H), 5.52 (s, 1H), 4.93 (s, 4H), 2.83 (s, 3H).     0.99 g in total.  Note:  1. The weight of the product was calculated proportionally.   2. Some TPPO was mixed with product according to LC-MS.\n",
       "            </div>\n",
       "        </div>\n",
       "    </div>\n",
       "    </div>"
      ],
      "text/plain": [
       "<IPython.core.display.HTML object>"
      ]
     },
     "metadata": {},
     "output_type": "display_data"
    },
    {
     "data": {
      "text/html": [
       "<div style='margin: 10px 0; width: 100%; display: flex; border: 1px solid #ddd; border-radius: 4px; background: #f8f9fa;'>\n",
       "    <div style=\"display: flex; flex-direction: column; width: 100%; border: 2px solid #bbb;\">\n",
       "        <!-- Header Row -->\n",
       "        <div style=\"display: flex; font-weight: bold; background: #d6d8db; padding: 8px; border-bottom: 2px solid #bbb;\">\n",
       "            <div style=\"width: 80px; text-align: center; border-right: 2px solid #bbb; display: flex; align-items: center; justify-content: center;\">Index</div>\n",
       "            <div style=\"width: 150px; text-align: center; border-right: 2px solid #bbb; display: flex; align-items: center; justify-content: center;\">Experiment ID</div>\n",
       "            <div style=\"flex: 1; text-align: center;\">Writeup</div>\n",
       "        </div>\n",
       "\n",
       "        <!-- Data Row -->\n",
       "        <div style=\"display: flex; padding: 8px; background: #f8f9fa;\">\n",
       "            <div style=\"width: 80px; text-align: center; border-right: 2px solid #ddd; font-weight: bold; display: flex; align-items: center; justify-content: center;\">\n",
       "                99\n",
       "            </div>\n",
       "            <div style=\"width: 150px; text-align: center; border-right: 2px solid #ddd; font-weight: bold; display: flex; align-items: center; justify-content: center;\">\n",
       "                205469\n",
       "            </div>\n",
       "            <div style=\"flex: 1; padding: 8px 12px; white-space: pre-wrap; overflow-wrap: break-word;\">\n",
       "                To the solution of 8a-ethyl-2-[2-[[1-(1-methylpyrazol-4-yl)sulfonylpiperidin-4-yl]amino]-5-(trifluoromethyl)pyrimidin-4-yl]-6,8-dihydrothieno[2,3-a]pyrrolizine-4,7-dione (​8.0 mg, ​0.01 mmol)​{{1080:uid 1}}_XXXXX_   in DMSO (2 mL)  was added Acetic acid ( mg, <span style='background-color: yellow; color: black;'>?</span> mmol) , followed by methylamine solution 40% in water (​4.05 mg, ​0.13 mmol)​{{1080:uid 3}}_XXXXX_   and sodium triacetoxyborohydride (​13.81 mg, ​0.07 mmol)​{{1080:uid 2}}_XXXXX_  . The mixture was stirred at r.t. for 12 h. LC-MS showed that ony minor product was observed. The starting material did not dissolve well in DMSO.\n",
       "            </div>\n",
       "        </div>\n",
       "    </div>\n",
       "    </div>"
      ],
      "text/plain": [
       "<IPython.core.display.HTML object>"
      ]
     },
     "metadata": {},
     "output_type": "display_data"
    },
    {
     "data": {
      "text/html": [
       "<div style='margin: 10px 0; width: 100%; display: flex; border: 1px solid #ddd; border-radius: 4px; background: #f8f9fa;'>\n",
       "    <div style=\"display: flex; flex-direction: column; width: 100%; border: 2px solid #bbb;\">\n",
       "        <!-- Header Row -->\n",
       "        <div style=\"display: flex; font-weight: bold; background: #d6d8db; padding: 8px; border-bottom: 2px solid #bbb;\">\n",
       "            <div style=\"width: 80px; text-align: center; border-right: 2px solid #bbb; display: flex; align-items: center; justify-content: center;\">Index</div>\n",
       "            <div style=\"width: 150px; text-align: center; border-right: 2px solid #bbb; display: flex; align-items: center; justify-content: center;\">Experiment ID</div>\n",
       "            <div style=\"flex: 1; text-align: center;\">Writeup</div>\n",
       "        </div>\n",
       "\n",
       "        <!-- Data Row -->\n",
       "        <div style=\"display: flex; padding: 8px; background: #f8f9fa;\">\n",
       "            <div style=\"width: 80px; text-align: center; border-right: 2px solid #ddd; font-weight: bold; display: flex; align-items: center; justify-content: center;\">\n",
       "                100\n",
       "            </div>\n",
       "            <div style=\"width: 150px; text-align: center; border-right: 2px solid #ddd; font-weight: bold; display: flex; align-items: center; justify-content: center;\">\n",
       "                205473\n",
       "            </div>\n",
       "            <div style=\"flex: 1; padding: 8px 12px; white-space: pre-wrap; overflow-wrap: break-word;\">\n",
       "                To the solution of 8a-ethyl-2-[2-[(1-methylsulfonylpiperidin-4-yl)amino]-5-(trifluoromethyl)pyrimidin-4-yl]-6,8-dihydrothieno[2,3-a]pyrrolizine-4,7-dione (10.0 mg, 0.02 mmol)  in DMSO (2 mL)  was added Acetic acid ( mg, <span style='background-color: yellow; color: black;'>?</span> mmol), followed by trideuteriomethanamine (​3.11 mg, ​0.09 mmol)​{{1080:uid 3}}_XXXXX_   and sodium triacetoxyborohydride (38.72 mg, 0.18 mmol) . The mixture was stirred at r.t. for 4 h. LC-MS showed that more than 30% of the starting material was consumed. The crude was then added H2O (1 mL) and purified by Prep-HPLC on C18 column (30 x 250 mm, 10 μm) using mobile phase 15 to 60% MeCN/H2O (tR = 20 min) to afford 8a-ethyl-2-[2-[(1-methylsulfonylpiperidin-4-yl)amino]-5-(trifluoromethyl)pyrimidin-4-yl]-7-(trideuteriomethylamino)-7,8-dihydro-6H-thieno[2,3-a]pyrrolizin-4-one (4 mg, 0.00702 mmol, 38.517% yield){{2:uid 1}}_XXXXX_       LC-MS calc. for C23H27D3F3N6O3S2 [M+H]+: m/z = 562.2; Found 562.1; HPLC: C18 column (4.6 x 150 mm, 5 μm); flow rate = 1 mL/ min; mobile phase: 5% MeCN/H2O (with 0.1% TFA) to 95% 25 min, 95% 5 min; λ = 220 nm. tR =  12.36 min. \n",
       "            </div>\n",
       "        </div>\n",
       "    </div>\n",
       "    </div>"
      ],
      "text/plain": [
       "<IPython.core.display.HTML object>"
      ]
     },
     "metadata": {},
     "output_type": "display_data"
    },
    {
     "data": {
      "text/html": [
       "<div style='margin: 10px 0; width: 100%; display: flex; border: 1px solid #ddd; border-radius: 4px; background: #f8f9fa;'>\n",
       "    <div style=\"display: flex; flex-direction: column; width: 100%; border: 2px solid #bbb;\">\n",
       "        <!-- Header Row -->\n",
       "        <div style=\"display: flex; font-weight: bold; background: #d6d8db; padding: 8px; border-bottom: 2px solid #bbb;\">\n",
       "            <div style=\"width: 80px; text-align: center; border-right: 2px solid #bbb; display: flex; align-items: center; justify-content: center;\">Index</div>\n",
       "            <div style=\"width: 150px; text-align: center; border-right: 2px solid #bbb; display: flex; align-items: center; justify-content: center;\">Experiment ID</div>\n",
       "            <div style=\"flex: 1; text-align: center;\">Writeup</div>\n",
       "        </div>\n",
       "\n",
       "        <!-- Data Row -->\n",
       "        <div style=\"display: flex; padding: 8px; background: #f8f9fa;\">\n",
       "            <div style=\"width: 80px; text-align: center; border-right: 2px solid #ddd; font-weight: bold; display: flex; align-items: center; justify-content: center;\">\n",
       "                101\n",
       "            </div>\n",
       "            <div style=\"width: 150px; text-align: center; border-right: 2px solid #ddd; font-weight: bold; display: flex; align-items: center; justify-content: center;\">\n",
       "                205931\n",
       "            </div>\n",
       "            <div style=\"flex: 1; padding: 8px 12px; white-space: pre-wrap; overflow-wrap: break-word;\">\n",
       "                To the solution of 8a-ethyl-2-[2-[(1-methylsulfonylpiperidin-4-yl)amino]-5-(trifluoromethyl)pyrimidin-4-yl]-6,8-dihydrothieno[2,3-a]pyrrolizine-4,7-dione (10.0 mg, 0.02 mmol)  in DMSO (2 mL)  was added Acetic acid ( mg, <span style='background-color: yellow; color: black;'>?</span> mmol), followed by methylpiperazine (​13.7 mg, ​0.14 mmol)​{{1080:uid 3}}_XXXXX_   and sodium triacetoxyborohydride (38.72 mg, 0.18 mmol) . The mixture was stirred at r.t. for 4 h. LC-MS showed that more than 30% of the starting material was consumed. The crude was then added H2O (1 mL) and purified by Prep-HPLC on C18 column (30 x 250 mm, 10 μm) using mobile phase 15 to 60% MeCN/H2O (tR = 20 min) to afford 8a-ethyl-7-(4-methylpiperazin-1-yl)-2-[2-[(1-methylsulfonylpiperidin-4-yl)amino]-5-(trifluoromethyl)pyrimidin-4-yl]-7,8-dihydro-6H-thieno[2,3-a]pyrrolizin-4-one (4.3 mg, 0.00678 mmol, 24.798% yield){{2:uid 1}}_XXXXX_        1H NMR (300 MHz, DMSO) δ 8.71 (d, J = 12.8 Hz, 1H), 8.29 (dd, J = 37.1, 7.2 Hz, 1H), 7.57 (d, J = 13.0 Hz, 1H), 4.09 – 3.95 (m, 2H), 3.57 (d, J = 12.4 Hz, 3H), 3.38 (s, 3H), 3.12 – 2.93 (m, 5H), 2.90 (d, J = 8.1 Hz, 3H), 2.85 (s, 1H), 2.77 (d, J = 5.4 Hz, 3H), 2.33 (s, 3H), 1.97 (t, J = 20.7 Hz, 5H), 1.63 (s, 2H), 0.75 (d, J = 6.5 Hz, 3H).     LC-MS calc. for C27H37F3N7O3S2 [M+H]+: m/z = 628.2; Found 628.2; HPLC: C18 column (4.6 x 150 mm, 5 μm); flow rate = 1 mL/ min; mobile phase: 5% MeCN/H2O (with 0.1% TFA) to 95% 25 min, 95% 5 min; λ = 220 nm. tR =  12.62 min. \n",
       "            </div>\n",
       "        </div>\n",
       "    </div>\n",
       "    </div>"
      ],
      "text/plain": [
       "<IPython.core.display.HTML object>"
      ]
     },
     "metadata": {},
     "output_type": "display_data"
    },
    {
     "data": {
      "text/html": [
       "<div style='margin: 10px 0; width: 100%; display: flex; border: 1px solid #ddd; border-radius: 4px; background: #f8f9fa;'>\n",
       "    <div style=\"display: flex; flex-direction: column; width: 100%; border: 2px solid #bbb;\">\n",
       "        <!-- Header Row -->\n",
       "        <div style=\"display: flex; font-weight: bold; background: #d6d8db; padding: 8px; border-bottom: 2px solid #bbb;\">\n",
       "            <div style=\"width: 80px; text-align: center; border-right: 2px solid #bbb; display: flex; align-items: center; justify-content: center;\">Index</div>\n",
       "            <div style=\"width: 150px; text-align: center; border-right: 2px solid #bbb; display: flex; align-items: center; justify-content: center;\">Experiment ID</div>\n",
       "            <div style=\"flex: 1; text-align: center;\">Writeup</div>\n",
       "        </div>\n",
       "\n",
       "        <!-- Data Row -->\n",
       "        <div style=\"display: flex; padding: 8px; background: #f8f9fa;\">\n",
       "            <div style=\"width: 80px; text-align: center; border-right: 2px solid #ddd; font-weight: bold; display: flex; align-items: center; justify-content: center;\">\n",
       "                102\n",
       "            </div>\n",
       "            <div style=\"width: 150px; text-align: center; border-right: 2px solid #ddd; font-weight: bold; display: flex; align-items: center; justify-content: center;\">\n",
       "                206064\n",
       "            </div>\n",
       "            <div style=\"flex: 1; padding: 8px 12px; white-space: pre-wrap; overflow-wrap: break-word;\">\n",
       "                To the solution of 8-(1-hydroxyethyl)-3,6-dimethyl-2-methylsulfanylquinazolin-4-one (200.0 mg, 0.76 mmol) in Methanol (1 mL)  was addedn <span style='background-color: yellow; color: black;'>?</span> (<span style='background-color: yellow; color: black;'>?</span>, <span style='background-color: yellow; color: black;'>?</span> mmol) at 0°C. The mixture was stirred at rt for 2hr. More NaBH4 was added as LCMS suggusted the reaction did not go completion. The reaction was quenched by 0.5M HCl.  The mixture was the exxtracted with EtOAc. The organic layer was washed by brine and dried over Na2SO4. Then concentrated in vacuo.\n",
       "            </div>\n",
       "        </div>\n",
       "    </div>\n",
       "    </div>"
      ],
      "text/plain": [
       "<IPython.core.display.HTML object>"
      ]
     },
     "metadata": {},
     "output_type": "display_data"
    },
    {
     "data": {
      "text/html": [
       "<div style='margin: 10px 0; width: 100%; display: flex; border: 1px solid #ddd; border-radius: 4px; background: #f8f9fa;'>\n",
       "    <div style=\"display: flex; flex-direction: column; width: 100%; border: 2px solid #bbb;\">\n",
       "        <!-- Header Row -->\n",
       "        <div style=\"display: flex; font-weight: bold; background: #d6d8db; padding: 8px; border-bottom: 2px solid #bbb;\">\n",
       "            <div style=\"width: 80px; text-align: center; border-right: 2px solid #bbb; display: flex; align-items: center; justify-content: center;\">Index</div>\n",
       "            <div style=\"width: 150px; text-align: center; border-right: 2px solid #bbb; display: flex; align-items: center; justify-content: center;\">Experiment ID</div>\n",
       "            <div style=\"flex: 1; text-align: center;\">Writeup</div>\n",
       "        </div>\n",
       "\n",
       "        <!-- Data Row -->\n",
       "        <div style=\"display: flex; padding: 8px; background: #f8f9fa;\">\n",
       "            <div style=\"width: 80px; text-align: center; border-right: 2px solid #ddd; font-weight: bold; display: flex; align-items: center; justify-content: center;\">\n",
       "                103\n",
       "            </div>\n",
       "            <div style=\"width: 150px; text-align: center; border-right: 2px solid #ddd; font-weight: bold; display: flex; align-items: center; justify-content: center;\">\n",
       "                206108\n",
       "            </div>\n",
       "            <div style=\"flex: 1; padding: 8px 12px; white-space: pre-wrap; overflow-wrap: break-word;\">\n",
       "                To the solution of 8-(1-hydroxyethyl)-3,6-dimethyl-2-methylsulfanylquinazolin-4-one (200.0 mg, 0.76 mmol) in Methanol (1 mL)  was addedn <span style='background-color: yellow; color: black;'>?</span> (<span style='background-color: yellow; color: black;'>?</span>, <span style='background-color: yellow; color: black;'>?</span> mmol) at 0°C. The mixture was stirred at rt for 2hr. More NaBH4 was added as LCMS suggusted the reaction did not go completion. The reaction was quenched by 0.5M HCl.  The mixture was the exxtracted with EtOAc. The organic layer was washed by brine and dried over Na2SO4. Then concentrated in vacuo     barbode:V107923.\n",
       "            </div>\n",
       "        </div>\n",
       "    </div>\n",
       "    </div>"
      ],
      "text/plain": [
       "<IPython.core.display.HTML object>"
      ]
     },
     "metadata": {},
     "output_type": "display_data"
    },
    {
     "data": {
      "text/html": [
       "<div style='margin: 10px 0; width: 100%; display: flex; border: 1px solid #ddd; border-radius: 4px; background: #f8f9fa;'>\n",
       "    <div style=\"display: flex; flex-direction: column; width: 100%; border: 2px solid #bbb;\">\n",
       "        <!-- Header Row -->\n",
       "        <div style=\"display: flex; font-weight: bold; background: #d6d8db; padding: 8px; border-bottom: 2px solid #bbb;\">\n",
       "            <div style=\"width: 80px; text-align: center; border-right: 2px solid #bbb; display: flex; align-items: center; justify-content: center;\">Index</div>\n",
       "            <div style=\"width: 150px; text-align: center; border-right: 2px solid #bbb; display: flex; align-items: center; justify-content: center;\">Experiment ID</div>\n",
       "            <div style=\"flex: 1; text-align: center;\">Writeup</div>\n",
       "        </div>\n",
       "\n",
       "        <!-- Data Row -->\n",
       "        <div style=\"display: flex; padding: 8px; background: #f8f9fa;\">\n",
       "            <div style=\"width: 80px; text-align: center; border-right: 2px solid #ddd; font-weight: bold; display: flex; align-items: center; justify-content: center;\">\n",
       "                104\n",
       "            </div>\n",
       "            <div style=\"width: 150px; text-align: center; border-right: 2px solid #ddd; font-weight: bold; display: flex; align-items: center; justify-content: center;\">\n",
       "                206117\n",
       "            </div>\n",
       "            <div style=\"flex: 1; padding: 8px 12px; white-space: pre-wrap; overflow-wrap: break-word;\">\n",
       "                To the solution of 8a-ethyl-2-[2-[(1-methylsulfonylpiperidin-4-yl)amino]-5-(trifluoromethyl)pyrimidin-4-yl]-6,8-dihydrothieno[2,3-a]pyrrolizine-4,7-dione (10.0 mg, 0.02 mmol)  in DMSO (2 mL)  was added Acetic acid ( mg, <span style='background-color: yellow; color: black;'>?</span> mmol), followed by methylamine solution 40% in water (​2.83 mg, ​0.09 mmol)​{{1080:uid 3}}_XXXXX_   and sodium triacetoxyborohydride (38.72 mg, 0.18 mmol) . The mixture was stirred at r.t. for 4 h. LC-MS showed that more than 30% of the starting material was consumed. The crude was then added H2O (1 mL) and purified by Prep-HPLC on C18 column (30 x 250 mm, 10 μm) using mobile phase 15 to 60% MeCN/H2O (tR = 20 min) to afford 8a-ethyl-7-(methylamino)-2-[2-[[(3R,4S)-3-methyl-1-methylsulfonylpiperidin-4-yl]amino]-5-(trifluoromethyl)pyrimidin-4-yl]-7,8-dihydro-6H-thieno[2,3-a]pyrrolizin-4-one (<span style='background-color: yellow; color: black;'>?</span> mg, 0.00702 mmol, 38.517% yield){{2:uid 1}}_XXXXX_       LC-MS calc. for C23H27D3F3N6O3S2 [M+H]+: m/z = 562.2; Found 562.1; HPLC: C18 column (4.6 x 150 mm, 5 μm); flow rate = 1 mL/ min; mobile phase: 5% MeCN/H2O (with 0.1% TFA) to 95% 25 min, 95% 5 min; λ = 220 nm. tR =  12.36 min. \n",
       "            </div>\n",
       "        </div>\n",
       "    </div>\n",
       "    </div>"
      ],
      "text/plain": [
       "<IPython.core.display.HTML object>"
      ]
     },
     "metadata": {},
     "output_type": "display_data"
    },
    {
     "data": {
      "text/html": [
       "<div style='margin: 10px 0; width: 100%; display: flex; border: 1px solid #ddd; border-radius: 4px; background: #f8f9fa;'>\n",
       "    <div style=\"display: flex; flex-direction: column; width: 100%; border: 2px solid #bbb;\">\n",
       "        <!-- Header Row -->\n",
       "        <div style=\"display: flex; font-weight: bold; background: #d6d8db; padding: 8px; border-bottom: 2px solid #bbb;\">\n",
       "            <div style=\"width: 80px; text-align: center; border-right: 2px solid #bbb; display: flex; align-items: center; justify-content: center;\">Index</div>\n",
       "            <div style=\"width: 150px; text-align: center; border-right: 2px solid #bbb; display: flex; align-items: center; justify-content: center;\">Experiment ID</div>\n",
       "            <div style=\"flex: 1; text-align: center;\">Writeup</div>\n",
       "        </div>\n",
       "\n",
       "        <!-- Data Row -->\n",
       "        <div style=\"display: flex; padding: 8px; background: #f8f9fa;\">\n",
       "            <div style=\"width: 80px; text-align: center; border-right: 2px solid #ddd; font-weight: bold; display: flex; align-items: center; justify-content: center;\">\n",
       "                105\n",
       "            </div>\n",
       "            <div style=\"width: 150px; text-align: center; border-right: 2px solid #ddd; font-weight: bold; display: flex; align-items: center; justify-content: center;\">\n",
       "                206118\n",
       "            </div>\n",
       "            <div style=\"flex: 1; padding: 8px 12px; white-space: pre-wrap; overflow-wrap: break-word;\">\n",
       "                To the solution of 8a-ethyl-2-[2-[(1-methylsulfonylpiperidin-4-yl)amino]-5-(trifluoromethyl)pyrimidin-4-yl]-6,8-dihydrothieno[2,3-a]pyrrolizine-4,7-dione (10.0 mg, 0.02 mmol)  in DMSO (2 mL)  was added Acetic acid ( mg, <span style='background-color: yellow; color: black;'>?</span> mmol), followed by AMMONIA, CA. 7N SOLUTION IN METHANOL (​1.55 mg, ​0.09 mmol)​{{1080:uid 3}}_XXXXX_   and sodium triacetoxyborohydride (38.72 mg, 0.18 mmol) . The mixture was stirred at r.t. for 4 h. LC-MS showed that more than 30% of the starting material was consumed. The crude was then added H2O (1 mL) and purified by Prep-HPLC on C18 column (30 x 250 mm, 10 μm) using mobile phase 15 to 60% MeCN/H2O (tR = 20 min) to afford 7-amino-8a-ethyl-2-[2-[[(3R,4S)-3-methyl-1-methylsulfonylpiperidin-4-yl]amino]-5-(trifluoromethyl)pyrimidin-4-yl]-7,8-dihydro-6H-thieno[2,3-a]pyrrolizin-4-one (<span style='background-color: yellow; color: black;'>?</span> mg, 0.00702 mmol, 38.517% yield){{2:uid 1}}_XXXXX_       LC-MS calc. for C23H27D3F3N6O3S2 [M+H]+: m/z = 562.2; Found 562.1; HPLC: C18 column (4.6 x 150 mm, 5 μm); flow rate = 1 mL/ min; mobile phase: 5% MeCN/H2O (with 0.1% TFA) to 95% 25 min, 95% 5 min; λ = 220 nm. tR =  12.36 min. \n",
       "            </div>\n",
       "        </div>\n",
       "    </div>\n",
       "    </div>"
      ],
      "text/plain": [
       "<IPython.core.display.HTML object>"
      ]
     },
     "metadata": {},
     "output_type": "display_data"
    },
    {
     "data": {
      "text/html": [
       "<div style='margin: 10px 0; width: 100%; display: flex; border: 1px solid #ddd; border-radius: 4px; background: #f8f9fa;'>\n",
       "    <div style=\"display: flex; flex-direction: column; width: 100%; border: 2px solid #bbb;\">\n",
       "        <!-- Header Row -->\n",
       "        <div style=\"display: flex; font-weight: bold; background: #d6d8db; padding: 8px; border-bottom: 2px solid #bbb;\">\n",
       "            <div style=\"width: 80px; text-align: center; border-right: 2px solid #bbb; display: flex; align-items: center; justify-content: center;\">Index</div>\n",
       "            <div style=\"width: 150px; text-align: center; border-right: 2px solid #bbb; display: flex; align-items: center; justify-content: center;\">Experiment ID</div>\n",
       "            <div style=\"flex: 1; text-align: center;\">Writeup</div>\n",
       "        </div>\n",
       "\n",
       "        <!-- Data Row -->\n",
       "        <div style=\"display: flex; padding: 8px; background: #f8f9fa;\">\n",
       "            <div style=\"width: 80px; text-align: center; border-right: 2px solid #ddd; font-weight: bold; display: flex; align-items: center; justify-content: center;\">\n",
       "                106\n",
       "            </div>\n",
       "            <div style=\"width: 150px; text-align: center; border-right: 2px solid #ddd; font-weight: bold; display: flex; align-items: center; justify-content: center;\">\n",
       "                206121\n",
       "            </div>\n",
       "            <div style=\"flex: 1; padding: 8px 12px; white-space: pre-wrap; overflow-wrap: break-word;\">\n",
       "                To the solution of 8a-ethyl-2-[2-[(1-methylsulfonylpiperidin-4-yl)amino]-5-(trifluoromethyl)pyrimidin-4-yl]-6,8-dihydrothieno[2,3-a]pyrrolizine-4,7-dione (10.0 mg, 0.02 mmol)  in DMSO (2 mL)  was added Acetic acid ( mg, <span style='background-color: yellow; color: black;'>?</span> mmol), followed by tert-butyl 1-piperazinecarboxylate (​25.47 mg, ​0.14 mmol)​{{1080:uid 3}}_XXXXX_   and sodium triacetoxyborohydride (38.72 mg, 0.18 mmol) . The mixture was stirred at r.t. for 4 h. LC-MS showed that more than 50% of the starting material was consumed. The crude was then added H2O (1 mL) and purified by Prep-HPLC on C18 column (30 x 250 mm, 10 μm) using mobile phase 15 to 60% MeCN/H2O (tR = 20 min) to afford tert-butyl 4-[8a-ethyl-2-[2-[(1-methylsulfonylpiperidin-4-yl)amino]-5-(trifluoromethyl)pyrimidin-4-yl]-4-oxo-7,8-dihydro-6H-thieno[2,3-a]pyrrolizin-7-yl]piperazine-1-carboxylate (<span style='background-color: yellow; color: black;'>?</span> mg, 0.00678 mmol, 24.798% yield){{2:uid 1}}_XXXXX_ . The product was overlapped with by-product (MS 546).       \n",
       "            </div>\n",
       "        </div>\n",
       "    </div>\n",
       "    </div>"
      ],
      "text/plain": [
       "<IPython.core.display.HTML object>"
      ]
     },
     "metadata": {},
     "output_type": "display_data"
    },
    {
     "data": {
      "text/html": [
       "<div style='margin: 10px 0; width: 100%; display: flex; border: 1px solid #ddd; border-radius: 4px; background: #f8f9fa;'>\n",
       "    <div style=\"display: flex; flex-direction: column; width: 100%; border: 2px solid #bbb;\">\n",
       "        <!-- Header Row -->\n",
       "        <div style=\"display: flex; font-weight: bold; background: #d6d8db; padding: 8px; border-bottom: 2px solid #bbb;\">\n",
       "            <div style=\"width: 80px; text-align: center; border-right: 2px solid #bbb; display: flex; align-items: center; justify-content: center;\">Index</div>\n",
       "            <div style=\"width: 150px; text-align: center; border-right: 2px solid #bbb; display: flex; align-items: center; justify-content: center;\">Experiment ID</div>\n",
       "            <div style=\"flex: 1; text-align: center;\">Writeup</div>\n",
       "        </div>\n",
       "\n",
       "        <!-- Data Row -->\n",
       "        <div style=\"display: flex; padding: 8px; background: #f8f9fa;\">\n",
       "            <div style=\"width: 80px; text-align: center; border-right: 2px solid #ddd; font-weight: bold; display: flex; align-items: center; justify-content: center;\">\n",
       "                107\n",
       "            </div>\n",
       "            <div style=\"width: 150px; text-align: center; border-right: 2px solid #ddd; font-weight: bold; display: flex; align-items: center; justify-content: center;\">\n",
       "                206441\n",
       "            </div>\n",
       "            <div style=\"flex: 1; padding: 8px 12px; white-space: pre-wrap; overflow-wrap: break-word;\">\n",
       "                To the solution of 8-(1-hydroxyethyl)-3,6-dimethyl-2-methylsulfanylquinazolin-4-one (200.0 mg, 0.76 mmol) in Methanol (1 mL)  was addedn <span style='background-color: yellow; color: black;'>?</span> (<span style='background-color: yellow; color: black;'>?</span>, <span style='background-color: yellow; color: black;'>?</span> mmol) at 0°C. The mixture was stirred at rt for 2hr. More NaBH4 was added as LCMS suggusted the reaction did not go completion. The reaction was quenched by 0.5M HCl.  The mixture was the exxtracted with EtOAc. The organic layer was washed by brine and dried over Na2SO4. Then concentrated in vacuo     barbode:V107923.\n",
       "            </div>\n",
       "        </div>\n",
       "    </div>\n",
       "    </div>"
      ],
      "text/plain": [
       "<IPython.core.display.HTML object>"
      ]
     },
     "metadata": {},
     "output_type": "display_data"
    },
    {
     "data": {
      "text/html": [
       "<div style='margin: 10px 0; width: 100%; display: flex; border: 1px solid #ddd; border-radius: 4px; background: #f8f9fa;'>\n",
       "    <div style=\"display: flex; flex-direction: column; width: 100%; border: 2px solid #bbb;\">\n",
       "        <!-- Header Row -->\n",
       "        <div style=\"display: flex; font-weight: bold; background: #d6d8db; padding: 8px; border-bottom: 2px solid #bbb;\">\n",
       "            <div style=\"width: 80px; text-align: center; border-right: 2px solid #bbb; display: flex; align-items: center; justify-content: center;\">Index</div>\n",
       "            <div style=\"width: 150px; text-align: center; border-right: 2px solid #bbb; display: flex; align-items: center; justify-content: center;\">Experiment ID</div>\n",
       "            <div style=\"flex: 1; text-align: center;\">Writeup</div>\n",
       "        </div>\n",
       "\n",
       "        <!-- Data Row -->\n",
       "        <div style=\"display: flex; padding: 8px; background: #f8f9fa;\">\n",
       "            <div style=\"width: 80px; text-align: center; border-right: 2px solid #ddd; font-weight: bold; display: flex; align-items: center; justify-content: center;\">\n",
       "                108\n",
       "            </div>\n",
       "            <div style=\"width: 150px; text-align: center; border-right: 2px solid #ddd; font-weight: bold; display: flex; align-items: center; justify-content: center;\">\n",
       "                206594\n",
       "            </div>\n",
       "            <div style=\"flex: 1; padding: 8px 12px; white-space: pre-wrap; overflow-wrap: break-word;\">\n",
       "                Following JAR012-16  Standard Controls Apply: Lab coats, gloves and safety specs are to be worn at all times. All experiments should be performed in a fumehood.  09/01/22  40 mL vial containing tert-butyl (10S)-10-(difluoromethyl)-4-(3-fluoro-2-hydroxyphenyl)-9-oxo-1,5,6,8,12-pentazatricyclo[8.4.0.02,7]tetradeca-2(7),3,5-triene-12-carboxylate (115.6 mg, 0.25 mmol){{9:uid 1}}_XXXXX_  , added THF (5 mL){{3:uid 3369}}_XXXXX_   and borane;tetrahydrofuran (1.49 mL, 1.49 mmol){{9:uid 2}}_XXXXX_     Heated to 60 °C{{8:row 1}}_XXXXX_   and stirred 3 hours  Allowed to cool to rt, quenched with MeOH, and directly condensed to yield intermediate as a brown oil  Taken up in Methanol (1.5 mL){{3:uid 3371}}_XXXXX_   and THF (3 mL){{3:uid 3370}}_XXXXX_  , added acetic acid (0.36 mL, 6.21 mmol){{9:uid 4}}_XXXXX_   and Sodium\tcyanoborohydride (160.5 mg, 2.55 mmol){{9:uid 3}}_XXXXX_   and heated to 75°C overnight  09/02/22  No progress overnight, added Sodium\tcyanoborohydride (364.0 mg, 5.79 mmol){{9:uid 6}}_XXXXX_   and acetic acid (0.2 mL, 3.5 mmol){{9:uid 7}}_XXXXX_     09/04/22  Reaction refused to progress further, quenched with sat sodium bicarb solution, extracted 3x with etoac  combined organics dried and condensed to yield mixture of tert-butyl (10R)-10-(difluoromethyl)-4-(3-fluoro-2-hydroxyphenyl)-9-hydroxy-1,5,6,8,12-pentazatricyclo[8.4.0.02,7]tetradeca-2(7),3,5-triene-12-carboxylate (<span style='background-color: yellow; color: black;'>?</span> mg, <span style='background-color: yellow; color: black;'>?</span> mmol, <span style='background-color: yellow; color: black;'>?</span>% yield)  and tert-butyl (10S)-10-(difluoromethyl)-4-(3-fluoro-2-hydroxyphenyl)-1,5,6,8,12-pentazatricyclo[8.4.0.02,7]tetradeca-2(7),3,5-triene-12-carboxylate (20 mg, 0.0443 mmol, 58.912% yield)    Assumed quant yield for resubjection                           \n",
       "            </div>\n",
       "        </div>\n",
       "    </div>\n",
       "    </div>"
      ],
      "text/plain": [
       "<IPython.core.display.HTML object>"
      ]
     },
     "metadata": {},
     "output_type": "display_data"
    },
    {
     "data": {
      "text/html": [
       "<div style='margin: 10px 0; width: 100%; display: flex; border: 1px solid #ddd; border-radius: 4px; background: #f8f9fa;'>\n",
       "    <div style=\"display: flex; flex-direction: column; width: 100%; border: 2px solid #bbb;\">\n",
       "        <!-- Header Row -->\n",
       "        <div style=\"display: flex; font-weight: bold; background: #d6d8db; padding: 8px; border-bottom: 2px solid #bbb;\">\n",
       "            <div style=\"width: 80px; text-align: center; border-right: 2px solid #bbb; display: flex; align-items: center; justify-content: center;\">Index</div>\n",
       "            <div style=\"width: 150px; text-align: center; border-right: 2px solid #bbb; display: flex; align-items: center; justify-content: center;\">Experiment ID</div>\n",
       "            <div style=\"flex: 1; text-align: center;\">Writeup</div>\n",
       "        </div>\n",
       "\n",
       "        <!-- Data Row -->\n",
       "        <div style=\"display: flex; padding: 8px; background: #f8f9fa;\">\n",
       "            <div style=\"width: 80px; text-align: center; border-right: 2px solid #ddd; font-weight: bold; display: flex; align-items: center; justify-content: center;\">\n",
       "                109\n",
       "            </div>\n",
       "            <div style=\"width: 150px; text-align: center; border-right: 2px solid #ddd; font-weight: bold; display: flex; align-items: center; justify-content: center;\">\n",
       "                207085\n",
       "            </div>\n",
       "            <div style=\"flex: 1; padding: 8px 12px; white-space: pre-wrap; overflow-wrap: break-word;\">\n",
       "                1. To a solution of ditert-butyl 4-chloro-9-oxo-1,5,6,8,12-pentazatricyclo[8.4.0.02,7]tetradeca-2(7),3,5-triene-8,12-dicarboxylate (1.25 g, 2.84 mmol){{9:uid 1}}_XXXXX_   in THF (25 mL){{3:uid 1}}_XXXXX_  was added LiHMDS (7.1 mL, 7.1 mmol){{9:uid 6}}_XXXXX_   at -78 degrees dropwise, then the mixture was stirred at -78C for 30 min. Then fluoro(iodo)methane (378.71 uL, 5.68 mmol){{9:uid 2}}_XXXXX_   was added dropwise at -78 degrees. The reaction was stirred for another 30 min.  2. The reaction was qunched with NH4Cl 10 mL and water 10 mL, diluted with EA 30 mL, washed with NaHCO3 30 mLx2 and brine 15 mLx2. dried over MgSO4.  3. Purifed by chromatography, MTBE/Hexane 0-50%.     //This reaction profile was a mess(<span style='background-color: yellow; color: black;'>?</span>) after 30 min. Only trace amount of desired product was observed. After 60 min, the reaction was even worse.  //The M-2 byproduct peak was prominent.   //The organic phase before and after one night was totally different.  //Mono-Boc precursor was obtained as a major recovery from the reaction.               \n",
       "            </div>\n",
       "        </div>\n",
       "    </div>\n",
       "    </div>"
      ],
      "text/plain": [
       "<IPython.core.display.HTML object>"
      ]
     },
     "metadata": {},
     "output_type": "display_data"
    },
    {
     "data": {
      "text/html": [
       "<div style='margin: 10px 0; width: 100%; display: flex; border: 1px solid #ddd; border-radius: 4px; background: #f8f9fa;'>\n",
       "    <div style=\"display: flex; flex-direction: column; width: 100%; border: 2px solid #bbb;\">\n",
       "        <!-- Header Row -->\n",
       "        <div style=\"display: flex; font-weight: bold; background: #d6d8db; padding: 8px; border-bottom: 2px solid #bbb;\">\n",
       "            <div style=\"width: 80px; text-align: center; border-right: 2px solid #bbb; display: flex; align-items: center; justify-content: center;\">Index</div>\n",
       "            <div style=\"width: 150px; text-align: center; border-right: 2px solid #bbb; display: flex; align-items: center; justify-content: center;\">Experiment ID</div>\n",
       "            <div style=\"flex: 1; text-align: center;\">Writeup</div>\n",
       "        </div>\n",
       "\n",
       "        <!-- Data Row -->\n",
       "        <div style=\"display: flex; padding: 8px; background: #f8f9fa;\">\n",
       "            <div style=\"width: 80px; text-align: center; border-right: 2px solid #ddd; font-weight: bold; display: flex; align-items: center; justify-content: center;\">\n",
       "                110\n",
       "            </div>\n",
       "            <div style=\"width: 150px; text-align: center; border-right: 2px solid #ddd; font-weight: bold; display: flex; align-items: center; justify-content: center;\">\n",
       "                207168\n",
       "            </div>\n",
       "            <div style=\"flex: 1; padding: 8px 12px; white-space: pre-wrap; overflow-wrap: break-word;\">\n",
       "                1. To a solution of ditert-butyl 4-chloro-9-oxo-1,5,6,8,12-pentazatricyclo[8.4.0.02,7]tetradeca-2(7),3,5-triene-8,12-dicarboxylate (0.18 g, 0.41 mmol){{9:uid 1}}_XXXXX_   in THF (3 mL){{3:uid 1}}_XXXXX_  was added LiHMDS (0.61 mL, 0.61 mmol){{9:uid 6}}_XXXXX_   at -78 degrees dropwise, then the mixture was stirred at -78C for 30 min. Then fluoro(iodo)methane (54.53 uL, 0.82 mmol){{9:uid 2}}_XXXXX_   was added dropwise at -78 degrees. The reaction was stirred for another 30 min.  2. The reaction was qunched with NH4Cl 10 mL and water 10 mL, diluted with EA 30 mL, washed with NaHCO3 30 mLx2 and brine 15 mLx2. dried over MgSO4.  3. Purifed by chromatography, MTBE/Hexane 0-50%.     //This reaction profile was a mess(<span style='background-color: yellow; color: black;'>?</span>) after 30 min. Only trace amount of desired product was observed. After 60 min, the reaction was even worse.  //The M-2 byproduct peak was prominent.   //The organic phase before and after one night was totally different.  //Mono-Boc precursor was obtained as a major recovery from the reaction.               \n",
       "            </div>\n",
       "        </div>\n",
       "    </div>\n",
       "    </div>"
      ],
      "text/plain": [
       "<IPython.core.display.HTML object>"
      ]
     },
     "metadata": {},
     "output_type": "display_data"
    },
    {
     "data": {
      "text/html": [
       "<div style='margin: 10px 0; width: 100%; display: flex; border: 1px solid #ddd; border-radius: 4px; background: #f8f9fa;'>\n",
       "    <div style=\"display: flex; flex-direction: column; width: 100%; border: 2px solid #bbb;\">\n",
       "        <!-- Header Row -->\n",
       "        <div style=\"display: flex; font-weight: bold; background: #d6d8db; padding: 8px; border-bottom: 2px solid #bbb;\">\n",
       "            <div style=\"width: 80px; text-align: center; border-right: 2px solid #bbb; display: flex; align-items: center; justify-content: center;\">Index</div>\n",
       "            <div style=\"width: 150px; text-align: center; border-right: 2px solid #bbb; display: flex; align-items: center; justify-content: center;\">Experiment ID</div>\n",
       "            <div style=\"flex: 1; text-align: center;\">Writeup</div>\n",
       "        </div>\n",
       "\n",
       "        <!-- Data Row -->\n",
       "        <div style=\"display: flex; padding: 8px; background: #f8f9fa;\">\n",
       "            <div style=\"width: 80px; text-align: center; border-right: 2px solid #ddd; font-weight: bold; display: flex; align-items: center; justify-content: center;\">\n",
       "                111\n",
       "            </div>\n",
       "            <div style=\"width: 150px; text-align: center; border-right: 2px solid #ddd; font-weight: bold; display: flex; align-items: center; justify-content: center;\">\n",
       "                207754\n",
       "            </div>\n",
       "            <div style=\"flex: 1; padding: 8px 12px; white-space: pre-wrap; overflow-wrap: break-word;\">\n",
       "                1. To a solution of tert-butyl 4-chloro-8-[(4-methoxyphenyl)methyl]-9-oxo-1,5,6,8,12-pentazatricyclo[8.4.0.02,7]tetradeca-2(7),3,5-triene-12-carboxylate (100.0 mg, 0.22 mmol){{9:uid 1}}_XXXXX_   in THF (2 mL){{3:uid 1}}_XXXXX_  was added LiHMDS (0.43 mL, 0.43 mmol){{9:uid 6}}_XXXXX_   at -78 degrees dropwise, then the mixture was stirred at -78C for 30 min. Then difluoromethyl trifluoromethanesulfonate (55.07 uL, 0.43 mmol){{9:uid 2}}_XXXXX_   was added dropwise at -78 degrees. The reaction was stirred for another 30 min. (11:20 am 09/27/2022)  //After 30 min, the conversion was at 30-40% range, the reaction was carried longer  //After another 30 min, the conversion didnt seem to be better at the same time the bath had warmed to ~0 degrees.  //The reaction was allowed to warm to rt and stir overnight(<span style='background-color: yellow; color: black;'>?</span>)                 2. The reaction was qunched with NH4Cl 10 mL and water 10 mL, diluted with EA 30 mL, washed with NaHCO3 30 mLx2 and brine 15 mLx2. dried over MgSO4.  3. Purifed by chromatography, MTBE/Hexane 0-50%.               \n",
       "            </div>\n",
       "        </div>\n",
       "    </div>\n",
       "    </div>"
      ],
      "text/plain": [
       "<IPython.core.display.HTML object>"
      ]
     },
     "metadata": {},
     "output_type": "display_data"
    },
    {
     "data": {
      "text/html": [
       "<div style='margin: 10px 0; width: 100%; display: flex; border: 1px solid #ddd; border-radius: 4px; background: #f8f9fa;'>\n",
       "    <div style=\"display: flex; flex-direction: column; width: 100%; border: 2px solid #bbb;\">\n",
       "        <!-- Header Row -->\n",
       "        <div style=\"display: flex; font-weight: bold; background: #d6d8db; padding: 8px; border-bottom: 2px solid #bbb;\">\n",
       "            <div style=\"width: 80px; text-align: center; border-right: 2px solid #bbb; display: flex; align-items: center; justify-content: center;\">Index</div>\n",
       "            <div style=\"width: 150px; text-align: center; border-right: 2px solid #bbb; display: flex; align-items: center; justify-content: center;\">Experiment ID</div>\n",
       "            <div style=\"flex: 1; text-align: center;\">Writeup</div>\n",
       "        </div>\n",
       "\n",
       "        <!-- Data Row -->\n",
       "        <div style=\"display: flex; padding: 8px; background: #f8f9fa;\">\n",
       "            <div style=\"width: 80px; text-align: center; border-right: 2px solid #ddd; font-weight: bold; display: flex; align-items: center; justify-content: center;\">\n",
       "                112\n",
       "            </div>\n",
       "            <div style=\"width: 150px; text-align: center; border-right: 2px solid #ddd; font-weight: bold; display: flex; align-items: center; justify-content: center;\">\n",
       "                207912\n",
       "            </div>\n",
       "            <div style=\"flex: 1; padding: 8px 12px; white-space: pre-wrap; overflow-wrap: break-word;\">\n",
       "                1. To a solution of tert-butyl 4-chloro-8-[(4-methoxyphenyl)methyl]-9-oxo-1,5,6,8,12-pentazatricyclo[8.4.0.02,7]tetradeca-2(7),3,5-triene-12-carboxylate (50.0 mg, 0.11 mmol){{9:uid 1}}_XXXXX_   in THF (1 mL){{3:uid 1}}_XXXXX_  was added LDA (217.42 uL, 0.22 mmol){{9:uid 6}}_XXXXX_   at -78 degrees dropwise, then the mixture was stirred at -78C for 30 min. Then difluoromethyl trifluoromethanesulfonate (27.53 uL, 0.22 mmol){{9:uid 2}}_XXXXX_   was added dropwise at -78 degrees. The reaction was stirred for another 30 min. (11:20 am 09/27/2022)  //After 30 min, the conversion was at 30-40% range, the reaction was carried longer  //After another 30 min, the conversion didnt seem to be better at the same time the bath had warmed to ~0 degrees.  //The reaction was allowed to warm to rt and stir overnight(<span style='background-color: yellow; color: black;'>?</span>)                 2. The reaction was qunched with NH4Cl 10 mL and water 10 mL, diluted with EA 30 mL, washed with NaHCO3 30 mLx2 and brine 15 mLx2. dried over MgSO4.  3. Purifed by chromatography, MTBE/Hexane 0-50%.               \n",
       "            </div>\n",
       "        </div>\n",
       "    </div>\n",
       "    </div>"
      ],
      "text/plain": [
       "<IPython.core.display.HTML object>"
      ]
     },
     "metadata": {},
     "output_type": "display_data"
    },
    {
     "data": {
      "text/html": [
       "<div style='margin: 10px 0; width: 100%; display: flex; border: 1px solid #ddd; border-radius: 4px; background: #f8f9fa;'>\n",
       "    <div style=\"display: flex; flex-direction: column; width: 100%; border: 2px solid #bbb;\">\n",
       "        <!-- Header Row -->\n",
       "        <div style=\"display: flex; font-weight: bold; background: #d6d8db; padding: 8px; border-bottom: 2px solid #bbb;\">\n",
       "            <div style=\"width: 80px; text-align: center; border-right: 2px solid #bbb; display: flex; align-items: center; justify-content: center;\">Index</div>\n",
       "            <div style=\"width: 150px; text-align: center; border-right: 2px solid #bbb; display: flex; align-items: center; justify-content: center;\">Experiment ID</div>\n",
       "            <div style=\"flex: 1; text-align: center;\">Writeup</div>\n",
       "        </div>\n",
       "\n",
       "        <!-- Data Row -->\n",
       "        <div style=\"display: flex; padding: 8px; background: #f8f9fa;\">\n",
       "            <div style=\"width: 80px; text-align: center; border-right: 2px solid #ddd; font-weight: bold; display: flex; align-items: center; justify-content: center;\">\n",
       "                113\n",
       "            </div>\n",
       "            <div style=\"width: 150px; text-align: center; border-right: 2px solid #ddd; font-weight: bold; display: flex; align-items: center; justify-content: center;\">\n",
       "                207920\n",
       "            </div>\n",
       "            <div style=\"flex: 1; padding: 8px 12px; white-space: pre-wrap; overflow-wrap: break-word;\">\n",
       "                1. To a solution of tert-butyl 4-chloro-8-[(4-methoxyphenyl)methyl]-9-oxo-1,5,6,8,12-pentazatricyclo[8.4.0.02,7]tetradeca-2(7),3,5-triene-12-carboxylate (50.0 mg, 0.11 mmol){{9:uid 1}}_XXXXX_   in THF (1 mL){{3:uid 1}}_XXXXX_  was added NaH (8.7 mg, 0.22 mmol){{9:uid 6}}_XXXXX_   at -78 degrees dropwise, then the mixture was stirred at -78C for 30 min. Then difluoromethyl trifluoromethanesulfonate (27.53 uL, 0.22 mmol){{9:uid 2}}_XXXXX_   was added dropwise at -78 degrees. The reaction was stirred for another 30 min. (11:20 am 09/27/2022)  //After 30 min, the conversion was at 30-40% range, the reaction was carried longer  //After another 30 min, the conversion didnt seem to be better at the same time the bath had warmed to ~0 degrees.  //The reaction was allowed to warm to rt and stir overnight(<span style='background-color: yellow; color: black;'>?</span>)                 2. The reaction was qunched with NH4Cl 10 mL and water 10 mL, diluted with EA 30 mL, washed with NaHCO3 30 mLx2 and brine 15 mLx2. dried over MgSO4.  3. Purifed by chromatography, MTBE/Hexane 0-50%.               \n",
       "            </div>\n",
       "        </div>\n",
       "    </div>\n",
       "    </div>"
      ],
      "text/plain": [
       "<IPython.core.display.HTML object>"
      ]
     },
     "metadata": {},
     "output_type": "display_data"
    },
    {
     "data": {
      "text/html": [
       "<div style='margin: 10px 0; width: 100%; display: flex; border: 1px solid #ddd; border-radius: 4px; background: #f8f9fa;'>\n",
       "    <div style=\"display: flex; flex-direction: column; width: 100%; border: 2px solid #bbb;\">\n",
       "        <!-- Header Row -->\n",
       "        <div style=\"display: flex; font-weight: bold; background: #d6d8db; padding: 8px; border-bottom: 2px solid #bbb;\">\n",
       "            <div style=\"width: 80px; text-align: center; border-right: 2px solid #bbb; display: flex; align-items: center; justify-content: center;\">Index</div>\n",
       "            <div style=\"width: 150px; text-align: center; border-right: 2px solid #bbb; display: flex; align-items: center; justify-content: center;\">Experiment ID</div>\n",
       "            <div style=\"flex: 1; text-align: center;\">Writeup</div>\n",
       "        </div>\n",
       "\n",
       "        <!-- Data Row -->\n",
       "        <div style=\"display: flex; padding: 8px; background: #f8f9fa;\">\n",
       "            <div style=\"width: 80px; text-align: center; border-right: 2px solid #ddd; font-weight: bold; display: flex; align-items: center; justify-content: center;\">\n",
       "                114\n",
       "            </div>\n",
       "            <div style=\"width: 150px; text-align: center; border-right: 2px solid #ddd; font-weight: bold; display: flex; align-items: center; justify-content: center;\">\n",
       "                210275\n",
       "            </div>\n",
       "            <div style=\"flex: 1; padding: 8px 12px; white-space: pre-wrap; overflow-wrap: break-word;\">\n",
       "                 To a suspension of 8-bromo-6-methyl-3-(2-oxaspiro[3.3]heptan-6-yl)-1H-quinazoline-2,4-dione (​510.0 mg, ​1.45 mmol)​{{1080:uid 1}}_XXXXX_   and PyBrop (​0.88 g, ​1.89 mmol)​{{1080:uid 3}}_XXXXX_   in MeCN (15 mL){{3:uid 6511}}_XXXXX_   was added DBU (​715.25 uL, ​4.79 mmol)​{{1080:uid 4}}_XXXXX_  . The mixture was stirred for 30 min at rt to give a homogeneous yellow solution. To the mixture was added 1-methyl-5,6-dihydro-4H-pyrrolo[3,4-c]pyrazole (​268.27 mg, ​2.18 mmol)​{{1080:uid 2}}_XXXXX_  . The mixture was heated to 60 °C{{1100:row 1}}_XXXXX_   for 24 h. The mixture was cooled to rt and poured into ice water (80 mL) to give a suspension. The solid was colleccted by filtration and further purified by flash column chromatography (0%-2% MeOH/DCM) to give 8-bromo-6-methyl-2-(1-methyl-4,6-dihydropyrrolo[3,4-c]pyrazol-5-yl)-3-(2-oxaspiro[3.3]heptan-6-yl)quinazolin-4-one (<span style='background-color: yellow; color: black;'>?</span> mg, 1.4502 mmol, 99.865% yield), a beige solid.     LCMS calc. for C21H23BrN5O2 [M+H]+ m/z= 456.1; Found 455.9.      Rf ~0.1 (100% EtOAc)      \n",
       "            </div>\n",
       "        </div>\n",
       "    </div>\n",
       "    </div>"
      ],
      "text/plain": [
       "<IPython.core.display.HTML object>"
      ]
     },
     "metadata": {},
     "output_type": "display_data"
    },
    {
     "data": {
      "text/html": [
       "<div style='margin: 10px 0; width: 100%; display: flex; border: 1px solid #ddd; border-radius: 4px; background: #f8f9fa;'>\n",
       "    <div style=\"display: flex; flex-direction: column; width: 100%; border: 2px solid #bbb;\">\n",
       "        <!-- Header Row -->\n",
       "        <div style=\"display: flex; font-weight: bold; background: #d6d8db; padding: 8px; border-bottom: 2px solid #bbb;\">\n",
       "            <div style=\"width: 80px; text-align: center; border-right: 2px solid #bbb; display: flex; align-items: center; justify-content: center;\">Index</div>\n",
       "            <div style=\"width: 150px; text-align: center; border-right: 2px solid #bbb; display: flex; align-items: center; justify-content: center;\">Experiment ID</div>\n",
       "            <div style=\"flex: 1; text-align: center;\">Writeup</div>\n",
       "        </div>\n",
       "\n",
       "        <!-- Data Row -->\n",
       "        <div style=\"display: flex; padding: 8px; background: #f8f9fa;\">\n",
       "            <div style=\"width: 80px; text-align: center; border-right: 2px solid #ddd; font-weight: bold; display: flex; align-items: center; justify-content: center;\">\n",
       "                115\n",
       "            </div>\n",
       "            <div style=\"width: 150px; text-align: center; border-right: 2px solid #ddd; font-weight: bold; display: flex; align-items: center; justify-content: center;\">\n",
       "                210473\n",
       "            </div>\n",
       "            <div style=\"flex: 1; padding: 8px 12px; white-space: pre-wrap; overflow-wrap: break-word;\">\n",
       "                Standard Controls Apply: Lab coats, gloves and safety specs are to be worn at all times. All experiments should be performed in a fumehood.  To tert-butyl (2R,4S)-2-(azidomethyl)-4-[tert-butyl(dimethyl)silyl]oxypyrrolidine-1-carboxylate (3.57 g, 10.01 mmol) in DCM (20.026 mL) was added 2,2,2-trifluoroacetic acid;TFA (15.32 mL, 200.26 mmol) at 0 °C. Let warm to room temperature with stirring. Monitored by LC-MS.  Start at ~7:35 a.m.  After stirring for ~ 1 h, reaction appeared complete by LC-MS.  Diluted with 2 N NaOH (to pH &gt; 12) and extracted with DCM 3 x. Washed combined DCM layers with brine 1 x, dried with MgSO4, filtered and concentrated.  Note: May be slightly volatile under hi-vac.  Obtained [(3S,5R)-5-(azidomethyl)pyrrolidin-3-yl]oxy-tert-butyl-dimethylsilane (<span style='background-color: yellow; color: black;'>?</span> mg, <span style='background-color: yellow; color: black;'>?</span> mmol, <span style='background-color: yellow; color: black;'>?</span>% yield) as an orange oil. Did not put on hi-vac. Took onto next step without further purification and assumed &gt;99% yield.  [M+1]+ m/z calculated: 257.2; found: 257.1.\n",
       "            </div>\n",
       "        </div>\n",
       "    </div>\n",
       "    </div>"
      ],
      "text/plain": [
       "<IPython.core.display.HTML object>"
      ]
     },
     "metadata": {},
     "output_type": "display_data"
    },
    {
     "data": {
      "text/html": [
       "<div style='margin: 10px 0; width: 100%; display: flex; border: 1px solid #ddd; border-radius: 4px; background: #f8f9fa;'>\n",
       "    <div style=\"display: flex; flex-direction: column; width: 100%; border: 2px solid #bbb;\">\n",
       "        <!-- Header Row -->\n",
       "        <div style=\"display: flex; font-weight: bold; background: #d6d8db; padding: 8px; border-bottom: 2px solid #bbb;\">\n",
       "            <div style=\"width: 80px; text-align: center; border-right: 2px solid #bbb; display: flex; align-items: center; justify-content: center;\">Index</div>\n",
       "            <div style=\"width: 150px; text-align: center; border-right: 2px solid #bbb; display: flex; align-items: center; justify-content: center;\">Experiment ID</div>\n",
       "            <div style=\"flex: 1; text-align: center;\">Writeup</div>\n",
       "        </div>\n",
       "\n",
       "        <!-- Data Row -->\n",
       "        <div style=\"display: flex; padding: 8px; background: #f8f9fa;\">\n",
       "            <div style=\"width: 80px; text-align: center; border-right: 2px solid #ddd; font-weight: bold; display: flex; align-items: center; justify-content: center;\">\n",
       "                116\n",
       "            </div>\n",
       "            <div style=\"width: 150px; text-align: center; border-right: 2px solid #ddd; font-weight: bold; display: flex; align-items: center; justify-content: center;\">\n",
       "                210847\n",
       "            </div>\n",
       "            <div style=\"flex: 1; padding: 8px 12px; white-space: pre-wrap; overflow-wrap: break-word;\">\n",
       "                A mixture of tert-butyl (4R,6R)-4-(5-bromo-4-methylpyridin-2-yl)oxy-12-(3-fluoro-2-methoxyphenyl)-2,8,10,11-tetrazatricyclo[7.4.0.02,6]trideca-1(9),10,12-triene-8-carboxylate (1.0 g, 1.71 mmol)  , 4,4,5,5-tetramethyl-2-vinyl-1,3,2-dioxaborolane (865.8 uL, 5.12 mmol)  , Potassium Carbonate (1.18 g, 8.53 mmol)  and dichloro 1,1'-bisdiphenylphosphino)ferrocene Palladium (II) dichloromethane (418.78 mg, 0.51 mmol)  in 1,4-Dioxane (15 mL)  and Water (3 mL)  was sparged for ~5 min with N2. Stirred at 100 °C and monitored by LC-MS.  Start at ~4:30 p.m.  After full conversion observed by LC-MS, let cool to room temperature.  Purified directly via SiO2 FCC: 0-100% EtOAc/hexanes.  Obtained tert-butyl (4R,6R)-4-(5-ethenyl-4-methylpyridin-2-yl)oxy-12-(3-fluoro-2-methoxyphenyl)-2,8,10,11-tetrazatricyclo[7.4.0.02,6]trideca-1(9),10,12-triene-8-carboxylate (<span style='background-color: yellow; color: black;'>?</span> mg, <span style='background-color: yellow; color: black;'>?</span> mmol, <span style='background-color: yellow; color: black;'>?</span>% yield) as a pale-yellow oil.  [M+1]+ m/z found: x   \n",
       "            </div>\n",
       "        </div>\n",
       "    </div>\n",
       "    </div>"
      ],
      "text/plain": [
       "<IPython.core.display.HTML object>"
      ]
     },
     "metadata": {},
     "output_type": "display_data"
    },
    {
     "data": {
      "text/html": [
       "<div style='margin: 10px 0; width: 100%; display: flex; border: 1px solid #ddd; border-radius: 4px; background: #f8f9fa;'>\n",
       "    <div style=\"display: flex; flex-direction: column; width: 100%; border: 2px solid #bbb;\">\n",
       "        <!-- Header Row -->\n",
       "        <div style=\"display: flex; font-weight: bold; background: #d6d8db; padding: 8px; border-bottom: 2px solid #bbb;\">\n",
       "            <div style=\"width: 80px; text-align: center; border-right: 2px solid #bbb; display: flex; align-items: center; justify-content: center;\">Index</div>\n",
       "            <div style=\"width: 150px; text-align: center; border-right: 2px solid #bbb; display: flex; align-items: center; justify-content: center;\">Experiment ID</div>\n",
       "            <div style=\"flex: 1; text-align: center;\">Writeup</div>\n",
       "        </div>\n",
       "\n",
       "        <!-- Data Row -->\n",
       "        <div style=\"display: flex; padding: 8px; background: #f8f9fa;\">\n",
       "            <div style=\"width: 80px; text-align: center; border-right: 2px solid #ddd; font-weight: bold; display: flex; align-items: center; justify-content: center;\">\n",
       "                117\n",
       "            </div>\n",
       "            <div style=\"width: 150px; text-align: center; border-right: 2px solid #ddd; font-weight: bold; display: flex; align-items: center; justify-content: center;\">\n",
       "                216848\n",
       "            </div>\n",
       "            <div style=\"flex: 1; padding: 8px 12px; white-space: pre-wrap; overflow-wrap: break-word;\">\n",
       "                To a solution of tert-butyl rac-(3aR,6aR)-2-[8-(1-hydroxyethyl)-3,6-dimethyl-4-oxoquinazolin-2-yl]-1,3,3a,4,6,6a-hexahydropyrrolo[3,4-c]pyrrole-5-carboxylate (40.0 mg, 0.09 mmol){{9:uid 1}}_XXXXX_  in DCM (0.90 mL){{3:uid 1}}_XXXXX_   was added methanesulfonyl chloride (0.01 mL, 0.19 mmol){{9:uid 2}}_XXXXX_   and Triethylamine;TEA (0.04 mL, 0.28 mmol){{9:uid 3}}_XXXXX_  . The reaction was stirred for 1 h at rt.   Methyl anthranilate (21.16 mg, 0.14 mmol){{9:uid 4}}_XXXXX_   was added and the reaction was stirred overnight at 40 °C{{8:row 1}}_XXXXX_  .   the reaction was diluted with etoac and water. the aqueous layer was extracted with etoac (3 x 8 ml). the combined organic layers were washed with brine, dried over mgso4, filtered, and concentrated.  the crude material was purified by silica gel chromatography (0-100% etoac/hexanes) to afford tert-butyl 3-[8-(1-hydroxyethyl)-3,6-dimethyl-4-oxoquinazolin-2-yl]-3,6-diazabicyclo[3.1.1]heptane-6-carboxylate (<span style='background-color: yellow; color: black;'>?</span> mg, <span style='background-color: yellow; color: black;'>?</span> mmol, <span style='background-color: yellow; color: black;'>?</span>% yield)  as a light tan oil.     M+1=562.2\n",
       "            </div>\n",
       "        </div>\n",
       "    </div>\n",
       "    </div>"
      ],
      "text/plain": [
       "<IPython.core.display.HTML object>"
      ]
     },
     "metadata": {},
     "output_type": "display_data"
    },
    {
     "data": {
      "text/html": [
       "<div style='margin: 10px 0; width: 100%; display: flex; border: 1px solid #ddd; border-radius: 4px; background: #f8f9fa;'>\n",
       "    <div style=\"display: flex; flex-direction: column; width: 100%; border: 2px solid #bbb;\">\n",
       "        <!-- Header Row -->\n",
       "        <div style=\"display: flex; font-weight: bold; background: #d6d8db; padding: 8px; border-bottom: 2px solid #bbb;\">\n",
       "            <div style=\"width: 80px; text-align: center; border-right: 2px solid #bbb; display: flex; align-items: center; justify-content: center;\">Index</div>\n",
       "            <div style=\"width: 150px; text-align: center; border-right: 2px solid #bbb; display: flex; align-items: center; justify-content: center;\">Experiment ID</div>\n",
       "            <div style=\"flex: 1; text-align: center;\">Writeup</div>\n",
       "        </div>\n",
       "\n",
       "        <!-- Data Row -->\n",
       "        <div style=\"display: flex; padding: 8px; background: #f8f9fa;\">\n",
       "            <div style=\"width: 80px; text-align: center; border-right: 2px solid #ddd; font-weight: bold; display: flex; align-items: center; justify-content: center;\">\n",
       "                118\n",
       "            </div>\n",
       "            <div style=\"width: 150px; text-align: center; border-right: 2px solid #ddd; font-weight: bold; display: flex; align-items: center; justify-content: center;\">\n",
       "                217168\n",
       "            </div>\n",
       "            <div style=\"flex: 1; padding: 8px 12px; white-space: pre-wrap; overflow-wrap: break-word;\">\n",
       "                To [6-[[(4R,6R)-6-ethyl-12-(3-fluoro-2-methoxyphenyl)-2,8,10,11-tetrazatricyclo[7.4.0.02,6]trideca-1(9),10,12-trien-4-yl]oxy]-5-fluoro-2,4-dimethylpyridin-3-yl]methanol (16.1 mg, 0.03 mmol)  in DCM (3 mL) was added trichloroborane (2.91 mL, 2.91 mmol) . Stirred at room temperature for ~x h.  Start at ~4:00 p.m.  Cooled to ~0 °C then quenched with water. Neutralized with sat. aq NaHCO3 then extracted with DCM (3 x). Washed combined DCM layers with brine (1 x), dried with MgSO4, filtered through a pad of silica gel eluting with 10% MeOH/DCM (100 mL) and then concentrated. Used directly without further purification. Assumed quantitative yield of 2-[(4R,6R)-4-[5-(chloromethyl)-4,6-dimethylpyridin-2-yl]oxy-6-ethyl-2,8,10,11-tetrazatricyclo[7.4.0.02,6]trideca-1(9),10,12-trien-12-yl]-6-fluorophenol (<span style='background-color: yellow; color: black;'>?</span> mg, <span style='background-color: yellow; color: black;'>?</span> mmol, <span style='background-color: yellow; color: black;'>?</span>% yield) .  90:10 ratio of product 1:2 based on LCMS.         \n",
       "            </div>\n",
       "        </div>\n",
       "    </div>\n",
       "    </div>"
      ],
      "text/plain": [
       "<IPython.core.display.HTML object>"
      ]
     },
     "metadata": {},
     "output_type": "display_data"
    },
    {
     "data": {
      "text/html": [
       "<div style='margin: 10px 0; width: 100%; display: flex; border: 1px solid #ddd; border-radius: 4px; background: #f8f9fa;'>\n",
       "    <div style=\"display: flex; flex-direction: column; width: 100%; border: 2px solid #bbb;\">\n",
       "        <!-- Header Row -->\n",
       "        <div style=\"display: flex; font-weight: bold; background: #d6d8db; padding: 8px; border-bottom: 2px solid #bbb;\">\n",
       "            <div style=\"width: 80px; text-align: center; border-right: 2px solid #bbb; display: flex; align-items: center; justify-content: center;\">Index</div>\n",
       "            <div style=\"width: 150px; text-align: center; border-right: 2px solid #bbb; display: flex; align-items: center; justify-content: center;\">Experiment ID</div>\n",
       "            <div style=\"flex: 1; text-align: center;\">Writeup</div>\n",
       "        </div>\n",
       "\n",
       "        <!-- Data Row -->\n",
       "        <div style=\"display: flex; padding: 8px; background: #f8f9fa;\">\n",
       "            <div style=\"width: 80px; text-align: center; border-right: 2px solid #ddd; font-weight: bold; display: flex; align-items: center; justify-content: center;\">\n",
       "                119\n",
       "            </div>\n",
       "            <div style=\"width: 150px; text-align: center; border-right: 2px solid #ddd; font-weight: bold; display: flex; align-items: center; justify-content: center;\">\n",
       "                217247\n",
       "            </div>\n",
       "            <div style=\"flex: 1; padding: 8px 12px; white-space: pre-wrap; overflow-wrap: break-word;\">\n",
       "                To [6-[[(4R,6R)-6-ethyl-12-(3-fluoro-2-methoxyphenyl)-2,8,10,11-tetrazatricyclo[7.4.0.02,6]trideca-1(9),10,12-trien-4-yl]oxy]-5-fluoro-2,4-dimethylpyridin-3-yl]methanol (16.1 mg, 0.03 mmol)  in DCM (3 mL) was added trichloroborane (2.91 mL, 2.91 mmol) . Stirred at room temperature for ~x h.  Start at ~3:45 p.m.  Next day (~1:50 p.m.)- added additional trichloroborane (1.0 mL, 1. mmol){{9:uid 3}}_XXXXX_ . Continued stirring at room temperature.  After ~42 h, cooled to ~0 °C then quenched with water. Neutralized with sat. aq NaHCO3 then extracted with DCM (3 x). Washed combined DCM layers with brine (1 x), dried with MgSO4, filtered then concentrated. Used directly without further purification. Assumed quantitative yield of 2-[(4R,6R)-4-[5-(chloromethyl)-4,6-dimethylpyridin-2-yl]oxy-6-ethyl-2,8,10,11-tetrazatricyclo[7.4.0.02,6]trideca-1(9),10,12-trien-12-yl]-6-fluorophenol (<span style='background-color: yellow; color: black;'>?</span> mg, <span style='background-color: yellow; color: black;'>?</span> mmol, <span style='background-color: yellow; color: black;'>?</span>% yield) .         \n",
       "            </div>\n",
       "        </div>\n",
       "    </div>\n",
       "    </div>"
      ],
      "text/plain": [
       "<IPython.core.display.HTML object>"
      ]
     },
     "metadata": {},
     "output_type": "display_data"
    },
    {
     "data": {
      "text/html": [
       "<div style='margin: 10px 0; width: 100%; display: flex; border: 1px solid #ddd; border-radius: 4px; background: #f8f9fa;'>\n",
       "    <div style=\"display: flex; flex-direction: column; width: 100%; border: 2px solid #bbb;\">\n",
       "        <!-- Header Row -->\n",
       "        <div style=\"display: flex; font-weight: bold; background: #d6d8db; padding: 8px; border-bottom: 2px solid #bbb;\">\n",
       "            <div style=\"width: 80px; text-align: center; border-right: 2px solid #bbb; display: flex; align-items: center; justify-content: center;\">Index</div>\n",
       "            <div style=\"width: 150px; text-align: center; border-right: 2px solid #bbb; display: flex; align-items: center; justify-content: center;\">Experiment ID</div>\n",
       "            <div style=\"flex: 1; text-align: center;\">Writeup</div>\n",
       "        </div>\n",
       "\n",
       "        <!-- Data Row -->\n",
       "        <div style=\"display: flex; padding: 8px; background: #f8f9fa;\">\n",
       "            <div style=\"width: 80px; text-align: center; border-right: 2px solid #ddd; font-weight: bold; display: flex; align-items: center; justify-content: center;\">\n",
       "                120\n",
       "            </div>\n",
       "            <div style=\"width: 150px; text-align: center; border-right: 2px solid #ddd; font-weight: bold; display: flex; align-items: center; justify-content: center;\">\n",
       "                220381\n",
       "            </div>\n",
       "            <div style=\"flex: 1; padding: 8px 12px; white-space: pre-wrap; overflow-wrap: break-word;\">\n",
       "                a solution of <span style='background-color: yellow; color: black;'>?</span> (<span style='background-color: yellow; color: black;'>?</span>, <span style='background-color: yellow; color: black;'>?</span> mmol)  , 5-[[(4r)-12-(3-fluoro-2-hydroxyphenyl)-6-methyl-2,8,10,11-tetrazatricyclo[7.4.0.02,6]trideca-1(9),10,12-trien-4-yl]oxy]-6-methylpyrazine-2-carbaldehyde (10.0 mg, 0.02 mmol)  , and (s)-3-(1-oxo-6-(piperazin-1-yl)isoindolin-2-yl)piperidine-2,6-dione (12.04 mg, 0.04 mmol)  in dmso (1 ml)  was left to stir at r.t. for 30 min. then, stab (19.42 mg, 0.09 mmol)   was added in and the mixture was stirred for 12 at r.t. was then further purified using preparative hplc with a mobile phase of acetonitrile/water (10% to 55%) at a flow rate of 35 ml/min to give about 4.1 mg product.\n",
       "            </div>\n",
       "        </div>\n",
       "    </div>\n",
       "    </div>"
      ],
      "text/plain": [
       "<IPython.core.display.HTML object>"
      ]
     },
     "metadata": {},
     "output_type": "display_data"
    },
    {
     "data": {
      "text/html": [
       "<div style='margin: 10px 0; width: 100%; display: flex; border: 1px solid #ddd; border-radius: 4px; background: #f8f9fa;'>\n",
       "    <div style=\"display: flex; flex-direction: column; width: 100%; border: 2px solid #bbb;\">\n",
       "        <!-- Header Row -->\n",
       "        <div style=\"display: flex; font-weight: bold; background: #d6d8db; padding: 8px; border-bottom: 2px solid #bbb;\">\n",
       "            <div style=\"width: 80px; text-align: center; border-right: 2px solid #bbb; display: flex; align-items: center; justify-content: center;\">Index</div>\n",
       "            <div style=\"width: 150px; text-align: center; border-right: 2px solid #bbb; display: flex; align-items: center; justify-content: center;\">Experiment ID</div>\n",
       "            <div style=\"flex: 1; text-align: center;\">Writeup</div>\n",
       "        </div>\n",
       "\n",
       "        <!-- Data Row -->\n",
       "        <div style=\"display: flex; padding: 8px; background: #f8f9fa;\">\n",
       "            <div style=\"width: 80px; text-align: center; border-right: 2px solid #ddd; font-weight: bold; display: flex; align-items: center; justify-content: center;\">\n",
       "                121\n",
       "            </div>\n",
       "            <div style=\"width: 150px; text-align: center; border-right: 2px solid #ddd; font-weight: bold; display: flex; align-items: center; justify-content: center;\">\n",
       "                225434\n",
       "            </div>\n",
       "            <div style=\"flex: 1; padding: 8px 12px; white-space: pre-wrap; overflow-wrap: break-word;\">\n",
       "                 To (4R,6S)-12-chloro-6-(difluoromethyl)-N-methyl-2,8,10,11-tetrazatricyclo[7.4.0.02,6]trideca-1(9),10,12-trien-4-amine (<span style='background-color: yellow; color: black;'>?</span> mg, <span style='background-color: yellow; color: black;'>?</span> mmol, <span style='background-color: yellow; color: black;'>?</span>% yield)  and Cesium carbonate (38.3 mg, 0.12 mmol){{9:uid 17}}_XXXXX_  in MeCN (2 mL)  was added Thiophenol (11.71 uL, 0.11 mmol){{9:uid 16}}_XXXXX_  . Stirred at 50 °C .  Start at ~3:25 p.m.  After 25 min, let cool to room temperature.  Added Methanol (1 mL){{3:uid 3}}_XXXXX_  , Boc-piperidone (151.48 mg, 0.76 mmol){{9:uid 21}}_XXXXX_   and acetic acid (0.04 mL, 0.76 mmol){{9:uid 23}}_XXXXX_   then Sodium\tcyanoborohydride (47.78 mg, 0.76 mmol){{9:uid 22}}_XXXXX_  . Stirred at 80 °C overnight.  Start at ~4:00 p.m.  Next day (~5:10 p.m.)- let cool briefly then added additional Boc-piperidone (75.74 mg, 0.38 mmol){{9:uid 24}}_XXXXX_   then Sodium\tcyanoborohydride (23.89 mg, 0.38 mmol){{9:uid 25}}_XXXXX_  . Stirred at 80 °C overnight.  Start at ~5:15 p.m.  Next day: let cool to room temperature. Quenched with a small amount of water then purified via SiO2 FCC: 0-100% EtOAc/hexanes then 0-2% MeOH/DCM.   \n",
       "            </div>\n",
       "        </div>\n",
       "    </div>\n",
       "    </div>"
      ],
      "text/plain": [
       "<IPython.core.display.HTML object>"
      ]
     },
     "metadata": {},
     "output_type": "display_data"
    },
    {
     "data": {
      "text/html": [
       "<div style='margin: 10px 0; width: 100%; display: flex; border: 1px solid #ddd; border-radius: 4px; background: #f8f9fa;'>\n",
       "    <div style=\"display: flex; flex-direction: column; width: 100%; border: 2px solid #bbb;\">\n",
       "        <!-- Header Row -->\n",
       "        <div style=\"display: flex; font-weight: bold; background: #d6d8db; padding: 8px; border-bottom: 2px solid #bbb;\">\n",
       "            <div style=\"width: 80px; text-align: center; border-right: 2px solid #bbb; display: flex; align-items: center; justify-content: center;\">Index</div>\n",
       "            <div style=\"width: 150px; text-align: center; border-right: 2px solid #bbb; display: flex; align-items: center; justify-content: center;\">Experiment ID</div>\n",
       "            <div style=\"flex: 1; text-align: center;\">Writeup</div>\n",
       "        </div>\n",
       "\n",
       "        <!-- Data Row -->\n",
       "        <div style=\"display: flex; padding: 8px; background: #f8f9fa;\">\n",
       "            <div style=\"width: 80px; text-align: center; border-right: 2px solid #ddd; font-weight: bold; display: flex; align-items: center; justify-content: center;\">\n",
       "                122\n",
       "            </div>\n",
       "            <div style=\"width: 150px; text-align: center; border-right: 2px solid #ddd; font-weight: bold; display: flex; align-items: center; justify-content: center;\">\n",
       "                225700\n",
       "            </div>\n",
       "            <div style=\"flex: 1; padding: 8px 12px; white-space: pre-wrap; overflow-wrap: break-word;\">\n",
       "                PWE5-60  1. tert-butyl 4-chloro-9-oxo-1,5,6,8,12-pentazatricyclo[8.4.0.02,7]tetradeca-2(7),3,5,10-tetraene-12-carboxylate (60.0 mg, 0.18 mmol)  was dissolved in thf (1.5 ml) , and di-tert butyl dicarbonate (0.12 ml, 0.53 mmol)  and 4-(dimethylamino)pyridine (21.7 mg, 0.18 mmol) were added. the mixture was stirred for 2 hours (11:15 am 05/05/2022)  note: the reaction was almost done after 2 hours and another hour was added but the conversion didnt go any higher.   a pwe005-21b as sm (assuming fully conversion of ullmann)  b. pwe005-25   2. the crude was dilued with ea, washed with water and brine, dried over mgso4 concentrated directly and purified by column (0-100% ea/h)  (2:20 pm 05/05/2022)  rf ~ 0.5 (in 50% etoac/hex)  collect and concentrate to obtain ditert-butyl 4-chloro-9-oxo-1,5,6,8,12-pentazatricyclo[8.4.0.02,7]tetradeca-2(7),3,5,10-tetraene-8,12-dicarboxylate (<span style='background-color: yellow; color: black;'>?</span> g, <span style='background-color: yellow; color: black;'>?</span> mmol, <span style='background-color: yellow; color: black;'>?</span>% yield) as a brownish foamy solid.   both reaction got 750 mg product....  some tri-boc byproduct was observed on lcms as well, but it wasnt collected  ==========================================  1. rac-(4R)-12-chloro-4-phenylmethoxy-2,8,10,11-tetrazatricyclo[7.4.0.02,6]trideca-1(9),10,12-trien-7-one (850.0 mg, 2.57 mmol){{9:uid 12}}_XXXXX_  was dissolved in THF (10 mL){{3:uid 1}}_XXXXX_  , and Di-tert butyl dicarbonate (1.12 g, 5.14 mmol){{9:uid 14}}_XXXXX_  and 4-(dimethylamino)pyridine (156.97 mg, 1.28 mmol){{9:uid 13}}_XXXXX_  were added. the mixture was stirred for 2 hours. 10:46  2. The mixture was diluted with EtOAc, washed with water and brine.   3. Purified by column   F16: Relatively pure bis-Boc byporduct  F17-18 Bis/Mono mixture  F19-20 (FP) Mono-Boc compound   F23-25    \n",
       "            </div>\n",
       "        </div>\n",
       "    </div>\n",
       "    </div>"
      ],
      "text/plain": [
       "<IPython.core.display.HTML object>"
      ]
     },
     "metadata": {},
     "output_type": "display_data"
    },
    {
     "data": {
      "text/html": [
       "<div style='margin: 10px 0; width: 100%; display: flex; border: 1px solid #ddd; border-radius: 4px; background: #f8f9fa;'>\n",
       "    <div style=\"display: flex; flex-direction: column; width: 100%; border: 2px solid #bbb;\">\n",
       "        <!-- Header Row -->\n",
       "        <div style=\"display: flex; font-weight: bold; background: #d6d8db; padding: 8px; border-bottom: 2px solid #bbb;\">\n",
       "            <div style=\"width: 80px; text-align: center; border-right: 2px solid #bbb; display: flex; align-items: center; justify-content: center;\">Index</div>\n",
       "            <div style=\"width: 150px; text-align: center; border-right: 2px solid #bbb; display: flex; align-items: center; justify-content: center;\">Experiment ID</div>\n",
       "            <div style=\"flex: 1; text-align: center;\">Writeup</div>\n",
       "        </div>\n",
       "\n",
       "        <!-- Data Row -->\n",
       "        <div style=\"display: flex; padding: 8px; background: #f8f9fa;\">\n",
       "            <div style=\"width: 80px; text-align: center; border-right: 2px solid #ddd; font-weight: bold; display: flex; align-items: center; justify-content: center;\">\n",
       "                123\n",
       "            </div>\n",
       "            <div style=\"width: 150px; text-align: center; border-right: 2px solid #ddd; font-weight: bold; display: flex; align-items: center; justify-content: center;\">\n",
       "                226053\n",
       "            </div>\n",
       "            <div style=\"flex: 1; padding: 8px 12px; white-space: pre-wrap; overflow-wrap: break-word;\">\n",
       "                to a stirring mixture tert-butyl 6-chloro-3-[1-(4,7-dimethyl-2,5-dioxo-1,3-dihydro-1,4-benzodiazepin-9-yl)ethylamino]pyridine-2-carboxylate (15.0 mg, 0.03 mmol){{9:uid 4}}_XXXXX_   , 6,6-difluoro-3-azabicyclo[3.1.0]hexane;hydrochloride (10.17 mg, 0.07 mmol){{9:uid 5}}_XXXXX_    and pybrop (22.86 mg, 0.05 mmol)   in mecn (1 ml)    was added 1,8-diazabicyclo[5.4.0]undec-7-ene (0.02 ml, 0.16 mmol) .     the mixture was stirred at 60 °c   overnight. the mixture was concentrated and tert-butyl 6-chloro-3-[1-[2-(6,6-difluoro-3-azabicyclo[3.1.0]hexan-3-yl)-4,7-dimethyl-5-oxo-3H-1,4-benzodiazepin-9-yl]ethylamino]pyridine-2-carboxylate (<span style='background-color: yellow; color: black;'>?</span> mg, <span style='background-color: yellow; color: black;'>?</span> mmol, <span style='background-color: yellow; color: black;'>?</span>% yield){{2:uid 2}}_XXXXX_   was purified by prep c18 tfa condition. the dried tert-butyl 6-chloro-3-[1-[2-(1,3-dihydroisoindol-2-yl)-4,7-dimethyl-5-oxo-3h-1,4-benzodiazepin-9-yl]ethylamino]pyridine-2-carboxylate (<span style='background-color: yellow; color: black;'>?</span> mg, <span style='background-color: yellow; color: black;'>?</span> mmol, <span style='background-color: yellow; color: black;'>?</span>% yield)  was dissolve mecn (1 ml) and 2,2,2-trifluoroacetic acid;tfa (0.03 ml, 0.33 mmol) . the mixture was stirred at rt for 2h. th eproduct was purified by prep c18 Ph=10 condition.     only 0.6mg isolated. Submitted in small vial.\n",
       "            </div>\n",
       "        </div>\n",
       "    </div>\n",
       "    </div>"
      ],
      "text/plain": [
       "<IPython.core.display.HTML object>"
      ]
     },
     "metadata": {},
     "output_type": "display_data"
    },
    {
     "data": {
      "text/html": [
       "<div style='margin: 10px 0; width: 100%; display: flex; border: 1px solid #ddd; border-radius: 4px; background: #f8f9fa;'>\n",
       "    <div style=\"display: flex; flex-direction: column; width: 100%; border: 2px solid #bbb;\">\n",
       "        <!-- Header Row -->\n",
       "        <div style=\"display: flex; font-weight: bold; background: #d6d8db; padding: 8px; border-bottom: 2px solid #bbb;\">\n",
       "            <div style=\"width: 80px; text-align: center; border-right: 2px solid #bbb; display: flex; align-items: center; justify-content: center;\">Index</div>\n",
       "            <div style=\"width: 150px; text-align: center; border-right: 2px solid #bbb; display: flex; align-items: center; justify-content: center;\">Experiment ID</div>\n",
       "            <div style=\"flex: 1; text-align: center;\">Writeup</div>\n",
       "        </div>\n",
       "\n",
       "        <!-- Data Row -->\n",
       "        <div style=\"display: flex; padding: 8px; background: #f8f9fa;\">\n",
       "            <div style=\"width: 80px; text-align: center; border-right: 2px solid #ddd; font-weight: bold; display: flex; align-items: center; justify-content: center;\">\n",
       "                124\n",
       "            </div>\n",
       "            <div style=\"width: 150px; text-align: center; border-right: 2px solid #ddd; font-weight: bold; display: flex; align-items: center; justify-content: center;\">\n",
       "                226247\n",
       "            </div>\n",
       "            <div style=\"flex: 1; padding: 8px 12px; white-space: pre-wrap; overflow-wrap: break-word;\">\n",
       "                PWE5-60  1. tert-butyl 4-chloro-9-oxo-1,5,6,8,12-pentazatricyclo[8.4.0.02,7]tetradeca-2(7),3,5,10-tetraene-12-carboxylate (60.0 mg, 0.18 mmol)  was dissolved in thf (1.5 ml) , and di-tert butyl dicarbonate (0.12 ml, 0.53 mmol)  and 4-(dimethylamino)pyridine (21.7 mg, 0.18 mmol) were added. the mixture was stirred for 2 hours (11:15 am 05/05/2022)  note: the reaction was almost done after 2 hours and another hour was added but the conversion didnt go any higher.   a pwe005-21b as sm (assuming fully conversion of ullmann)  b. pwe005-25   2. the crude was dilued with ea, washed with water and brine, dried over mgso4 concentrated directly and purified by column (0-100% ea/h)  (2:20 pm 05/05/2022)  rf ~ 0.5 (in 50% etoac/hex)  collect and concentrate to obtain ditert-butyl 4-chloro-9-oxo-1,5,6,8,12-pentazatricyclo[8.4.0.02,7]tetradeca-2(7),3,5,10-tetraene-8,12-dicarboxylate (<span style='background-color: yellow; color: black;'>?</span> g, <span style='background-color: yellow; color: black;'>?</span> mmol, <span style='background-color: yellow; color: black;'>?</span>% yield) as a brownish foamy solid.   both reaction got 750 mg product....  some tri-boc byproduct was observed on lcms as well, but it wasnt collected  ==========================================  1. rac-(4R)-12-chloro-4-phenylmethoxy-2,8,10,11-tetrazatricyclo[7.4.0.02,6]trideca-1(9),10,12-trien-7-one (500.0 mg, 1.51 mmol){{9:uid 12}}_XXXXX_  was dissolved in THF (10 mL){{3:uid 1}}_XXXXX_  , and Di-tert butyl dicarbonate (362.9 mg, 1.66 mmol){{9:uid 14}}_XXXXX_  and 4-(dimethylamino)pyridine (92.34 mg, 0.76 mmol){{9:uid 13}}_XXXXX_  were added. the mixture was stirred for 2 hours. 11:15  2. another 0.55 eq of Boc2O was added to the rxn. 3:33  3. The mixture was diluted with EtOAc, washed with water and brine.   4. Purified by column             \n",
       "            </div>\n",
       "        </div>\n",
       "    </div>\n",
       "    </div>"
      ],
      "text/plain": [
       "<IPython.core.display.HTML object>"
      ]
     },
     "metadata": {},
     "output_type": "display_data"
    },
    {
     "data": {
      "text/html": [
       "<div style='margin: 10px 0; width: 100%; display: flex; border: 1px solid #ddd; border-radius: 4px; background: #f8f9fa;'>\n",
       "    <div style=\"display: flex; flex-direction: column; width: 100%; border: 2px solid #bbb;\">\n",
       "        <!-- Header Row -->\n",
       "        <div style=\"display: flex; font-weight: bold; background: #d6d8db; padding: 8px; border-bottom: 2px solid #bbb;\">\n",
       "            <div style=\"width: 80px; text-align: center; border-right: 2px solid #bbb; display: flex; align-items: center; justify-content: center;\">Index</div>\n",
       "            <div style=\"width: 150px; text-align: center; border-right: 2px solid #bbb; display: flex; align-items: center; justify-content: center;\">Experiment ID</div>\n",
       "            <div style=\"flex: 1; text-align: center;\">Writeup</div>\n",
       "        </div>\n",
       "\n",
       "        <!-- Data Row -->\n",
       "        <div style=\"display: flex; padding: 8px; background: #f8f9fa;\">\n",
       "            <div style=\"width: 80px; text-align: center; border-right: 2px solid #ddd; font-weight: bold; display: flex; align-items: center; justify-content: center;\">\n",
       "                125\n",
       "            </div>\n",
       "            <div style=\"width: 150px; text-align: center; border-right: 2px solid #ddd; font-weight: bold; display: flex; align-items: center; justify-content: center;\">\n",
       "                226306\n",
       "            </div>\n",
       "            <div style=\"flex: 1; padding: 8px 12px; white-space: pre-wrap; overflow-wrap: break-word;\">\n",
       "                To a solution of 2-(2,6-dioxopiperidin-3-yl)-5-[3-(hydroxymethyl)pyrrolidin-1-yl]isoindole-1,3-dione (10.05 mg, 0.03 mmol){{9:uid 2}}_XXXXX_   in DMSO (0.40 mL){{3:uid 7494}}_XXXXX_   was added Triethylamine;TEA (0.04 mL, 0.25 mmol){{9:uid 3}}_XXXXX_   followed by a solution of Sulfurtrioxide pyridine (13.42 mg, 0.08 mmol){{9:uid 4}}_XXXXX_   in DMSO (0.40 mL){{3:uid 7495}}_XXXXX_  . The reaction was stirred for 1 h at rt.   A solution of 2-[[rac-(1R)-1-[3,6-dimethyl-4-oxo-2-[4-(piperazine-1-carbonyl)piperazin-1-yl]quinazolin-8-yl]ethyl]amino]benzoic acid (15.0 mg, 0.03 mmol){{9:uid 1}}_XXXXX_   in DMSO (0.2 mL) was added followed by MeCN (0.40 mL){{3:uid 7496}}_XXXXX_   and acetic acid (0.02 mL, 0.42 mmol){{9:uid 5}}_XXXXX_  . The reaction was stirred for 0.5 h at rt.    sodium triacetoxyborohydride (23.83 mg, 0.11 mmol){{9:uid 6}}_XXXXX_   was added and the reaction was stirred for 1 h.  The reaction was quenched with water, diluted with MeCN, filtered, and purified by prep-HPLC on a C18 column (26.7–46.7% MeCN/0.1% TFA (aq)) to afford 2-[[rac-(1R)-1-[2-[4-[4-[[1-[2-(2,6-dioxopiperidin-3-yl)-1,3-dioxoisoindol-5-yl]pyrrolidin-3-yl]methyl]piperazine-1-carbonyl]piperazin-1-yl]-3,6-dimethyl-4-oxoquinazolin-8-yl]ethyl]amino]benzoic acid;2,2,2-trifluoroacetic acid (<span style='background-color: yellow; color: black;'>?</span> mg, <span style='background-color: yellow; color: black;'>?</span> mmol, <span style='background-color: yellow; color: black;'>?</span>% yield)  as a yellow solid.   M+1=873.3  wet: V123528, 2.0 mg  dry: V123537, 11.1 mg\n",
       "            </div>\n",
       "        </div>\n",
       "    </div>\n",
       "    </div>"
      ],
      "text/plain": [
       "<IPython.core.display.HTML object>"
      ]
     },
     "metadata": {},
     "output_type": "display_data"
    },
    {
     "data": {
      "text/html": [
       "<div style='margin: 10px 0; width: 100%; display: flex; border: 1px solid #ddd; border-radius: 4px; background: #f8f9fa;'>\n",
       "    <div style=\"display: flex; flex-direction: column; width: 100%; border: 2px solid #bbb;\">\n",
       "        <!-- Header Row -->\n",
       "        <div style=\"display: flex; font-weight: bold; background: #d6d8db; padding: 8px; border-bottom: 2px solid #bbb;\">\n",
       "            <div style=\"width: 80px; text-align: center; border-right: 2px solid #bbb; display: flex; align-items: center; justify-content: center;\">Index</div>\n",
       "            <div style=\"width: 150px; text-align: center; border-right: 2px solid #bbb; display: flex; align-items: center; justify-content: center;\">Experiment ID</div>\n",
       "            <div style=\"flex: 1; text-align: center;\">Writeup</div>\n",
       "        </div>\n",
       "\n",
       "        <!-- Data Row -->\n",
       "        <div style=\"display: flex; padding: 8px; background: #f8f9fa;\">\n",
       "            <div style=\"width: 80px; text-align: center; border-right: 2px solid #ddd; font-weight: bold; display: flex; align-items: center; justify-content: center;\">\n",
       "                126\n",
       "            </div>\n",
       "            <div style=\"width: 150px; text-align: center; border-right: 2px solid #ddd; font-weight: bold; display: flex; align-items: center; justify-content: center;\">\n",
       "                226343\n",
       "            </div>\n",
       "            <div style=\"flex: 1; padding: 8px 12px; white-space: pre-wrap; overflow-wrap: break-word;\">\n",
       "                PWE5-60  1. tert-butyl 4-chloro-9-oxo-1,5,6,8,12-pentazatricyclo[8.4.0.02,7]tetradeca-2(7),3,5,10-tetraene-12-carboxylate (60.0 mg, 0.18 mmol)  was dissolved in thf (1.5 ml) , and di-tert butyl dicarbonate (0.12 ml, 0.53 mmol)  and 4-(dimethylamino)pyridine (21.7 mg, 0.18 mmol) were added. the mixture was stirred for 2 hours (11:15 am 05/05/2022)  note: the reaction was almost done after 2 hours and another hour was added but the conversion didnt go any higher.   a pwe005-21b as sm (assuming fully conversion of ullmann)  b. pwe005-25   2. the crude was dilued with ea, washed with water and brine, dried over mgso4 concentrated directly and purified by column (0-100% ea/h)  (2:20 pm 05/05/2022)  rf ~ 0.5 (in 50% etoac/hex)  collect and concentrate to obtain ditert-butyl 4-chloro-9-oxo-1,5,6,8,12-pentazatricyclo[8.4.0.02,7]tetradeca-2(7),3,5,10-tetraene-8,12-dicarboxylate (<span style='background-color: yellow; color: black;'>?</span> g, <span style='background-color: yellow; color: black;'>?</span> mmol, <span style='background-color: yellow; color: black;'>?</span>% yield) as a brownish foamy solid.   both reaction got 750 mg product....  some tri-boc byproduct was observed on lcms as well, but it wasnt collected  ==========================================  1. rac-(4R)-12-chloro-4-phenylmethoxy-2,8,10,11-tetrazatricyclo[7.4.0.02,6]trideca-1(9),10,12-trien-7-one (2.0 g, 6.05 mmol){{9:uid 12}}_XXXXX_  was dissolved in THF (40 mL){{3:uid 1}}_XXXXX_  , and Di-tert butyl dicarbonate (1979.47 mg, 9.07 mmol){{9:uid 14}}_XXXXX_  and 4-(dimethylamino)pyridine (184.67 mg, 1.51 mmol){{9:uid 13}}_XXXXX_  were added. the mixture was stirred for 2 hours. 11:02  3. The mixture was diluted with EtOAc, washed with water and brine.   4. Purified by column             \n",
       "            </div>\n",
       "        </div>\n",
       "    </div>\n",
       "    </div>"
      ],
      "text/plain": [
       "<IPython.core.display.HTML object>"
      ]
     },
     "metadata": {},
     "output_type": "display_data"
    },
    {
     "data": {
      "text/html": [
       "<div style='margin: 10px 0; width: 100%; display: flex; border: 1px solid #ddd; border-radius: 4px; background: #f8f9fa;'>\n",
       "    <div style=\"display: flex; flex-direction: column; width: 100%; border: 2px solid #bbb;\">\n",
       "        <!-- Header Row -->\n",
       "        <div style=\"display: flex; font-weight: bold; background: #d6d8db; padding: 8px; border-bottom: 2px solid #bbb;\">\n",
       "            <div style=\"width: 80px; text-align: center; border-right: 2px solid #bbb; display: flex; align-items: center; justify-content: center;\">Index</div>\n",
       "            <div style=\"width: 150px; text-align: center; border-right: 2px solid #bbb; display: flex; align-items: center; justify-content: center;\">Experiment ID</div>\n",
       "            <div style=\"flex: 1; text-align: center;\">Writeup</div>\n",
       "        </div>\n",
       "\n",
       "        <!-- Data Row -->\n",
       "        <div style=\"display: flex; padding: 8px; background: #f8f9fa;\">\n",
       "            <div style=\"width: 80px; text-align: center; border-right: 2px solid #ddd; font-weight: bold; display: flex; align-items: center; justify-content: center;\">\n",
       "                127\n",
       "            </div>\n",
       "            <div style=\"width: 150px; text-align: center; border-right: 2px solid #ddd; font-weight: bold; display: flex; align-items: center; justify-content: center;\">\n",
       "                226407\n",
       "            </div>\n",
       "            <div style=\"flex: 1; padding: 8px 12px; white-space: pre-wrap; overflow-wrap: break-word;\">\n",
       "                a mixture of 4,4,5,5-tetramethyl-2-vinyl-1,3,2-dioxaborolane (0.67 ml, 3.94 mmol)  , potassium carbonate (686.03 mg, 4.96 mmol)  , 5-bromo-3-ethylpyridin-2-ol (199.02 mg, 0.99 mmol)  and xphos pd g2 (77.5 mg, 0.1 mmol)  in 1,4-dioxane (4.1043 ml)  and water (0.8209 ml)   was sparged with n2 for ~5 min then stirred at 100 °c.   stir 1 hour      let cool to room temperature  dilute with meoh  filter and wash with meoh  concentrate then purify with 0-20% meoh/dcm  obtained 5-ethenyl-3-ethylpyridin-2-ol (<span style='background-color: yellow; color: black;'>?</span> mg, <span style='background-color: yellow; color: black;'>?</span> mmol, <span style='background-color: yellow; color: black;'>?</span>% yield)  as a brown oil   &gt;400 mg obtained but LCMS looked clean; use in next step  m+1 = 150.0  found\n",
       "            </div>\n",
       "        </div>\n",
       "    </div>\n",
       "    </div>"
      ],
      "text/plain": [
       "<IPython.core.display.HTML object>"
      ]
     },
     "metadata": {},
     "output_type": "display_data"
    },
    {
     "data": {
      "text/html": [
       "<div style='margin: 10px 0; width: 100%; display: flex; border: 1px solid #ddd; border-radius: 4px; background: #f8f9fa;'>\n",
       "    <div style=\"display: flex; flex-direction: column; width: 100%; border: 2px solid #bbb;\">\n",
       "        <!-- Header Row -->\n",
       "        <div style=\"display: flex; font-weight: bold; background: #d6d8db; padding: 8px; border-bottom: 2px solid #bbb;\">\n",
       "            <div style=\"width: 80px; text-align: center; border-right: 2px solid #bbb; display: flex; align-items: center; justify-content: center;\">Index</div>\n",
       "            <div style=\"width: 150px; text-align: center; border-right: 2px solid #bbb; display: flex; align-items: center; justify-content: center;\">Experiment ID</div>\n",
       "            <div style=\"flex: 1; text-align: center;\">Writeup</div>\n",
       "        </div>\n",
       "\n",
       "        <!-- Data Row -->\n",
       "        <div style=\"display: flex; padding: 8px; background: #f8f9fa;\">\n",
       "            <div style=\"width: 80px; text-align: center; border-right: 2px solid #ddd; font-weight: bold; display: flex; align-items: center; justify-content: center;\">\n",
       "                128\n",
       "            </div>\n",
       "            <div style=\"width: 150px; text-align: center; border-right: 2px solid #ddd; font-weight: bold; display: flex; align-items: center; justify-content: center;\">\n",
       "                227022\n",
       "            </div>\n",
       "            <div style=\"flex: 1; padding: 8px 12px; white-space: pre-wrap; overflow-wrap: break-word;\">\n",
       "                2-fluoro-6-[rac-(10R)-10-ethyl-1,5,6,8,12-pentazatricyclo[8.4.0.02,7]tetradeca-2(7),3,5-trien-4-yl]phenol;dihydrochloride (20.94 mg, 0.05 mmol){{9:uid 9}}_XXXXX_   transferred   Dissolve in DMA (1 mL){{3:uid 1}}_XXXXX_     Add N,N-Diisopropylethylamine (0.04 mL, 0.21 mmol){{9:uid 3}}_XXXXX_    and 4-(dimethylamino)pyridine (1.91 mg, 0.02 mmol){{9:uid 11}}_XXXXX_     Stir 15 min  Add 9H-fluoren-9-ylmethyl rac-(2R,3S)-4-carbonochloridoyl-2,3-dimethylpiperazine-1-carboxylate (31.14 mg, 0.08 mmol){{9:uid 8}}_XXXXX_   in DMA (0.5 mL)  Stir 30 min at r.t.  Reaction done  Add N-ethylethanamine (0.05 mL, 0.52 mmol){{9:uid 12}}_XXXXX_     stir 30 min  dilute with MeOH  Purify with reverse phase:      Concentrate product on EZ-2   obtain [rac-(2R,3S)-2,3-dimethylpiperazin-1-yl]-[rac-(10R)-10-ethyl-4-(2-hydroxyphenyl)-1,5,6,8,12-pentazatricyclo[8.4.0.02,7]tetradeca-2(7),3,5-trien-12-yl]methanone;2,2,2-trifluoroacetic acid (<span style='background-color: yellow; color: black;'>?</span> mg, <span style='background-color: yellow; color: black;'>?</span> mmol, <span style='background-color: yellow; color: black;'>?</span>% yield)    M+1 = 692.2 found  M+1 = 470.1 found\n",
       "            </div>\n",
       "        </div>\n",
       "    </div>\n",
       "    </div>"
      ],
      "text/plain": [
       "<IPython.core.display.HTML object>"
      ]
     },
     "metadata": {},
     "output_type": "display_data"
    },
    {
     "data": {
      "text/html": [
       "<div style='margin: 10px 0; width: 100%; display: flex; border: 1px solid #ddd; border-radius: 4px; background: #f8f9fa;'>\n",
       "    <div style=\"display: flex; flex-direction: column; width: 100%; border: 2px solid #bbb;\">\n",
       "        <!-- Header Row -->\n",
       "        <div style=\"display: flex; font-weight: bold; background: #d6d8db; padding: 8px; border-bottom: 2px solid #bbb;\">\n",
       "            <div style=\"width: 80px; text-align: center; border-right: 2px solid #bbb; display: flex; align-items: center; justify-content: center;\">Index</div>\n",
       "            <div style=\"width: 150px; text-align: center; border-right: 2px solid #bbb; display: flex; align-items: center; justify-content: center;\">Experiment ID</div>\n",
       "            <div style=\"flex: 1; text-align: center;\">Writeup</div>\n",
       "        </div>\n",
       "\n",
       "        <!-- Data Row -->\n",
       "        <div style=\"display: flex; padding: 8px; background: #f8f9fa;\">\n",
       "            <div style=\"width: 80px; text-align: center; border-right: 2px solid #ddd; font-weight: bold; display: flex; align-items: center; justify-content: center;\">\n",
       "                129\n",
       "            </div>\n",
       "            <div style=\"width: 150px; text-align: center; border-right: 2px solid #ddd; font-weight: bold; display: flex; align-items: center; justify-content: center;\">\n",
       "                229371\n",
       "            </div>\n",
       "            <div style=\"flex: 1; padding: 8px 12px; white-space: pre-wrap; overflow-wrap: break-word;\">\n",
       "                To a solution of tert-butyl N-[5-oxo-5-[[rac-(2R)-3,3-dimethyl-1-oxo-1-[rac-(2R,4S)-4-hydroxy-2-[[4-(4-methyl-1,3-thiazol-5-yl)phenyl]methylcarbamoyl]pyrrolidin-1-yl]butan-2-yl]amino]pentyl]carbamate (​175.0 mg, ​0.28 mmol)​{{1080:uid 1}}_XXXXX_    in ethyl acetate (3 ml)  .Then hcl/dioxane (3.0 ml, <span style='background-color: yellow; color: black;'>?</span> mmol) was added by dropwise at20 °c  for 2 hrs.The mixture was concentrated under reduced pressure to give a residue.\n",
       "            </div>\n",
       "        </div>\n",
       "    </div>\n",
       "    </div>"
      ],
      "text/plain": [
       "<IPython.core.display.HTML object>"
      ]
     },
     "metadata": {},
     "output_type": "display_data"
    },
    {
     "data": {
      "text/html": [
       "<div style='margin: 10px 0; width: 100%; display: flex; border: 1px solid #ddd; border-radius: 4px; background: #f8f9fa;'>\n",
       "    <div style=\"display: flex; flex-direction: column; width: 100%; border: 2px solid #bbb;\">\n",
       "        <!-- Header Row -->\n",
       "        <div style=\"display: flex; font-weight: bold; background: #d6d8db; padding: 8px; border-bottom: 2px solid #bbb;\">\n",
       "            <div style=\"width: 80px; text-align: center; border-right: 2px solid #bbb; display: flex; align-items: center; justify-content: center;\">Index</div>\n",
       "            <div style=\"width: 150px; text-align: center; border-right: 2px solid #bbb; display: flex; align-items: center; justify-content: center;\">Experiment ID</div>\n",
       "            <div style=\"flex: 1; text-align: center;\">Writeup</div>\n",
       "        </div>\n",
       "\n",
       "        <!-- Data Row -->\n",
       "        <div style=\"display: flex; padding: 8px; background: #f8f9fa;\">\n",
       "            <div style=\"width: 80px; text-align: center; border-right: 2px solid #ddd; font-weight: bold; display: flex; align-items: center; justify-content: center;\">\n",
       "                130\n",
       "            </div>\n",
       "            <div style=\"width: 150px; text-align: center; border-right: 2px solid #ddd; font-weight: bold; display: flex; align-items: center; justify-content: center;\">\n",
       "                230117\n",
       "            </div>\n",
       "            <div style=\"flex: 1; padding: 8px 12px; white-space: pre-wrap; overflow-wrap: break-word;\">\n",
       "                set-up  a mixture of 6-(3-methoxy-2-nitro-4-pyridinyl)-2-[(1-methylpyrazol-4-yl)methyl]-3,4-dihydroisoquinolin-1-one (60.0 mg, 0.15 mmol)  ,pd/c (6.0 mg, <span style='background-color: yellow; color: black;'>?</span> mmol) , in °c was degassed and purged with n2 for 3 times, and then the mixture was stirred at 25 °c for 16 hrs under h2 (3mpa) atmosphere.  monitoring  tlc (pe/ea= 10:1, rf= 0.80, 254nm) indicated no reactant i was remained, and one major new spot with larger polarity was detected.  work-up  the reaction mixture was quenched by addition h2o 20 ml at 25 °c , and extracted with ea 100 ml (50 ml * 2). the combined organic layers were washed with nacl aq ml (20 ml * 2), dried over naso4, filtered and concentrated under reduced pressure to give a residue.  purification  the residue was purified by column chrumatography (si02, petroleum ether/ethyl acetate= 0/1 to 1/1) ..  result  compound 6-(2-amino-3-methoxy-4-pyridinyl)-2-[(1-methylpyrazol-4-yl)methyl]-3,4-dihydroisoquinolin-1-one (55 mg, 0.1513 mmol, 99.229% yield) was obtained as a white solid.\n",
       "            </div>\n",
       "        </div>\n",
       "    </div>\n",
       "    </div>"
      ],
      "text/plain": [
       "<IPython.core.display.HTML object>"
      ]
     },
     "metadata": {},
     "output_type": "display_data"
    },
    {
     "data": {
      "text/html": [
       "<div style='margin: 10px 0; width: 100%; display: flex; border: 1px solid #ddd; border-radius: 4px; background: #f8f9fa;'>\n",
       "    <div style=\"display: flex; flex-direction: column; width: 100%; border: 2px solid #bbb;\">\n",
       "        <!-- Header Row -->\n",
       "        <div style=\"display: flex; font-weight: bold; background: #d6d8db; padding: 8px; border-bottom: 2px solid #bbb;\">\n",
       "            <div style=\"width: 80px; text-align: center; border-right: 2px solid #bbb; display: flex; align-items: center; justify-content: center;\">Index</div>\n",
       "            <div style=\"width: 150px; text-align: center; border-right: 2px solid #bbb; display: flex; align-items: center; justify-content: center;\">Experiment ID</div>\n",
       "            <div style=\"flex: 1; text-align: center;\">Writeup</div>\n",
       "        </div>\n",
       "\n",
       "        <!-- Data Row -->\n",
       "        <div style=\"display: flex; padding: 8px; background: #f8f9fa;\">\n",
       "            <div style=\"width: 80px; text-align: center; border-right: 2px solid #ddd; font-weight: bold; display: flex; align-items: center; justify-content: center;\">\n",
       "                131\n",
       "            </div>\n",
       "            <div style=\"width: 150px; text-align: center; border-right: 2px solid #ddd; font-weight: bold; display: flex; align-items: center; justify-content: center;\">\n",
       "                230797\n",
       "            </div>\n",
       "            <div style=\"flex: 1; padding: 8px 12px; white-space: pre-wrap; overflow-wrap: break-word;\">\n",
       "                SME009-90  To a solution of Triphenylphosphine (0.34 g, 0.54 mmol){{9:uid 9}}_XXXXX_   (polymer based) in THF (3 mL){{3:uid 1}}_XXXXX_  was added diisopropyl azodicarboxylate (0.11 mL, 0.54 mmol){{9:uid 10}}_XXXXX_  dropwise. The mixture was stirred at rt for 10 min, to which was added 4-nitrobenzoic acid (78.53 mg, 0.47 mmol){{9:uid 8}}_XXXXX_  . The mixture was stirred for 10 min, to which was added rac-(4R,6R)-12-chloro-6-(difluoromethyl)-2,8,10,11-tetrazatricyclo[7.4.0.02,6]trideca-1(9),10,12-trien-4-ol (100.0 mg, 0.36 mmol){{9:uid 7}}_XXXXX_   (free base obtained from PRT8180). The mixture was stirred at rt for 1 h, then filtered and concentrated to give [(4S,6R)-12-chloro-6-(difluoromethyl)-2,8,10,11-tetrazatricyclo[7.4.0.02,6]trideca-1(9),10,12-trien-4-yl] 4-nitrobenzoate (<span style='background-color: yellow; color: black;'>?</span> mg, <span style='background-color: yellow; color: black;'>?</span> mmol, <span style='background-color: yellow; color: black;'>?</span>% yield){{2:uid 1}}_XXXXX_  . LCMS [M+H] 408.0.  To the intermediate was added Methanol (1 mL){{3:uid 2}}_XXXXX_  and  Potassium Carbonate (249.77 mg, 1.81 mmol){{9:uid 11}}_XXXXX_  . The reaction was stirred at rt for 30 min, then poured into water (10 ml) and DCM (10 ml). The solid was collected by filtration, washed with DCM and dried to give (4S,6R)-12-chloro-6-(difluoromethyl)-2,8,10,11-tetrazatricyclo[7.4.0.02,6]trideca-1(9),10,12-trien-4-ol (<span style='background-color: yellow; color: black;'>?</span> mg, <span style='background-color: yellow; color: black;'>?</span> mmol, <span style='background-color: yellow; color: black;'>?</span>% yield){{2:uid 2}}_XXXXX_  . LCMS [M+H] 259.0.   =========================================  1. to a solution of triphenylphosphine (0.34 g, 0.54 mmol) in thf (3 ml) was added diisopropyl azodicarboxylate (0.11 ml, 0.54 mmol) dropwise. the mixture was stirred at rt for 10 min, to which was added 4-nitrobenzoic acid (78.53 mg, 0.47 mmol) . the mixture was stirred for 10 min, to which was added rac-(4r,6r)-12-chloro-6-(difluoromethyl)-2,8,10,11-tetrazatricyclo[7.4.0.02,6]trideca-1(9),10,12-trien-4-ol (100.0 mg, 0.36 mmol). the mixture was stirred at rt for 1 h, then filtered and concentrated to give [(4s,6r)-12-chloro-6-(difluoromethyl)-2,8,10,11-tetrazatricyclo[7.4.0.02,6]trideca-1(9),10,12-trien-4-yl] 4-nitrobenzoate (<span style='background-color: yellow; color: black;'>?</span> mg, <span style='background-color: yellow; color: black;'>?</span> mmol, <span style='background-color: yellow; color: black;'>?</span>% yield) . lcms [m+h] 408.0.\n",
       "            </div>\n",
       "        </div>\n",
       "    </div>\n",
       "    </div>"
      ],
      "text/plain": [
       "<IPython.core.display.HTML object>"
      ]
     },
     "metadata": {},
     "output_type": "display_data"
    },
    {
     "data": {
      "text/html": [
       "<div style='margin: 10px 0; width: 100%; display: flex; border: 1px solid #ddd; border-radius: 4px; background: #f8f9fa;'>\n",
       "    <div style=\"display: flex; flex-direction: column; width: 100%; border: 2px solid #bbb;\">\n",
       "        <!-- Header Row -->\n",
       "        <div style=\"display: flex; font-weight: bold; background: #d6d8db; padding: 8px; border-bottom: 2px solid #bbb;\">\n",
       "            <div style=\"width: 80px; text-align: center; border-right: 2px solid #bbb; display: flex; align-items: center; justify-content: center;\">Index</div>\n",
       "            <div style=\"width: 150px; text-align: center; border-right: 2px solid #bbb; display: flex; align-items: center; justify-content: center;\">Experiment ID</div>\n",
       "            <div style=\"flex: 1; text-align: center;\">Writeup</div>\n",
       "        </div>\n",
       "\n",
       "        <!-- Data Row -->\n",
       "        <div style=\"display: flex; padding: 8px; background: #f8f9fa;\">\n",
       "            <div style=\"width: 80px; text-align: center; border-right: 2px solid #ddd; font-weight: bold; display: flex; align-items: center; justify-content: center;\">\n",
       "                132\n",
       "            </div>\n",
       "            <div style=\"width: 150px; text-align: center; border-right: 2px solid #ddd; font-weight: bold; display: flex; align-items: center; justify-content: center;\">\n",
       "                230840\n",
       "            </div>\n",
       "            <div style=\"flex: 1; padding: 8px 12px; white-space: pre-wrap; overflow-wrap: break-word;\">\n",
       "                SME009-90  To a solution of Triphenylphosphine (6.77 g, 10.84 mmol){{9:uid 9}}_XXXXX_   (polymer based) in THF (60 mL){{3:uid 1}}_XXXXX_  was added diisopropyl azodicarboxylate (2.13 mL, 10.84 mmol){{9:uid 10}}_XXXXX_  dropwise. The mixture was stirred at rt for 10 min, to which was added 4-nitrobenzoic acid (1.57 g, 9.4 mmol){{9:uid 8}}_XXXXX_  . The mixture was stirred for 10 min, to which was added rac-(4R,6R)-12-chloro-6-(difluoromethyl)-2,8,10,11-tetrazatricyclo[7.4.0.02,6]trideca-1(9),10,12-trien-4-ol (2.0 g, 7.23 mmol){{9:uid 7}}_XXXXX_   (free base obtained from PRT8180). The mixture was stirred at rt for 1 h, then filtered and concentrated to give [(4S,6R)-12-chloro-6-(difluoromethyl)-2,8,10,11-tetrazatricyclo[7.4.0.02,6]trideca-1(9),10,12-trien-4-yl] 4-nitrobenzoate (<span style='background-color: yellow; color: black;'>?</span> mg, <span style='background-color: yellow; color: black;'>?</span> mmol, <span style='background-color: yellow; color: black;'>?</span>% yield){{2:uid 1}}_XXXXX_  . LCMS [M+H] 408.0.  To the intermediate was added Methanol (20 mL){{3:uid 2}}_XXXXX_  and  Potassium Carbonate (5.0 g, 36.14 mmol){{9:uid 11}}_XXXXX_  . The reaction was stirred at rt for 30 min, then poured into water (10 ml) and DCM (10 ml). The solid was collected by filtration, washed with DCM and dried to give (4S,6R)-12-chloro-6-(difluoromethyl)-2,8,10,11-tetrazatricyclo[7.4.0.02,6]trideca-1(9),10,12-trien-4-ol (<span style='background-color: yellow; color: black;'>?</span> mg, <span style='background-color: yellow; color: black;'>?</span> mmol, <span style='background-color: yellow; color: black;'>?</span>% yield){{2:uid 2}}_XXXXX_  . LCMS [M+H] 259.0.   =========================================  1. to a solution of triphenylphosphine (6.77 g, 10.84 mmol) in thf (60 ml) was added diisopropyl azodicarboxylate (2.13 ml, 10.84 mmol) dropwise. the mixture was stirred at rt for 10 min, to which was added 4-nitrobenzoic acid (1.57 g, 9.4 mmol) . the mixture was stirred for 10 min, to which was added rac-(4r,6r)-12-chloro-6-(difluoromethyl)-2,8,10,11-tetrazatricyclo[7.4.0.02,6]trideca-1(9),10,12-trien-4-ol (2.0 g, 7.23 mmol)  the mixture was stirred at rt for 1 h, then filtered and concentrated to give [(4s,6r)-12-chloro-6-(difluoromethyl)-2,8,10,11-tetrazatricyclo[7.4.0.02,6]trideca-1(9),10,12-trien-4-yl] 4-nitrobenzoate (<span style='background-color: yellow; color: black;'>?</span> mg, <span style='background-color: yellow; color: black;'>?</span> mmol, <span style='background-color: yellow; color: black;'>?</span>% yield) . as quant yield  2. the intermediate was added methanol (20 ml) and  potassium carbonate (5.0 g, 36.14 mmol) . the reaction was stirred at rt for 30 min.  3. Combine with 8-29-2nd and 8-30, the mixture then poured into water (10 ml) and dcm (10 ml). the solid was collected by filtration, washed with dcm and dried to give (4s,6r)-12-chloro-6-(difluoromethyl)-2,8,10,11-tetrazatricyclo[7.4.0.02,6]trideca-1(9),10,12-trien-4-ol (<span style='background-color: yellow; color: black;'>?</span> mg, <span style='background-color: yellow; color: black;'>?</span> mmol, <span style='background-color: yellow; color: black;'>?</span>% yield).  Note: there is A LOT OF PRODUCT in organic and aqueous phases.  Note: Filtrate/solid label was wrong in HPLC  4. The aqueous phase was washed by DCM/MeOH soln and the organic layers were combined with the previous step. the aqueous layer was blow-dried on N2 over the weekend.  5. The organic phase was concentrated and some product crushed out of the soln. filteration to afford some more product  Note: Filtrate/solid label was wrong in HPLC  6. To the filtrate was added hexane, some more solid crushed out, filtration to afford the solid, HPLC showed.  7. The resulted organic phase was concentrated. \n",
       "            </div>\n",
       "        </div>\n",
       "    </div>\n",
       "    </div>"
      ],
      "text/plain": [
       "<IPython.core.display.HTML object>"
      ]
     },
     "metadata": {},
     "output_type": "display_data"
    },
    {
     "data": {
      "text/html": [
       "<div style='margin: 10px 0; width: 100%; display: flex; border: 1px solid #ddd; border-radius: 4px; background: #f8f9fa;'>\n",
       "    <div style=\"display: flex; flex-direction: column; width: 100%; border: 2px solid #bbb;\">\n",
       "        <!-- Header Row -->\n",
       "        <div style=\"display: flex; font-weight: bold; background: #d6d8db; padding: 8px; border-bottom: 2px solid #bbb;\">\n",
       "            <div style=\"width: 80px; text-align: center; border-right: 2px solid #bbb; display: flex; align-items: center; justify-content: center;\">Index</div>\n",
       "            <div style=\"width: 150px; text-align: center; border-right: 2px solid #bbb; display: flex; align-items: center; justify-content: center;\">Experiment ID</div>\n",
       "            <div style=\"flex: 1; text-align: center;\">Writeup</div>\n",
       "        </div>\n",
       "\n",
       "        <!-- Data Row -->\n",
       "        <div style=\"display: flex; padding: 8px; background: #f8f9fa;\">\n",
       "            <div style=\"width: 80px; text-align: center; border-right: 2px solid #ddd; font-weight: bold; display: flex; align-items: center; justify-content: center;\">\n",
       "                133\n",
       "            </div>\n",
       "            <div style=\"width: 150px; text-align: center; border-right: 2px solid #ddd; font-weight: bold; display: flex; align-items: center; justify-content: center;\">\n",
       "                231094\n",
       "            </div>\n",
       "            <div style=\"flex: 1; padding: 8px 12px; white-space: pre-wrap; overflow-wrap: break-word;\">\n",
       "                   Start 11am   To a solution of Triphenylphosphine (3983.32 mg, 6.38 mmol)  (polymer based) in THF (30 mL) was added diisopropyl azodicarboxylate (1.26 mL, 6.38 mmol) dropwise. The mixture was stirred at rt for 10 min, to which was added 4-nitrobenzoic acid (923.85 mg, 5.53 mmol) . The mixture was stirred for 10 min, to which was added (4R,6R)-12-chloro-6-(fluoromethyl)-2,8,10,11-tetrazatricyclo[7.4.0.02,6]trideca-1(9),10,12-trien-4-ol (1100.0 mg, 4.25 mmol)  (free base obtained from PRT8180). The mixture was stirred at 50 C for 1 h, then filtered and concentrated to give [(4S,6R)-12-chloro-6-(fluoromethyl)-2,8,10,11-tetrazatricyclo[7.4.0.02,6]trideca-1(9),10,12-trien-4-yl] 4-nitrobenzoate (<span style='background-color: yellow; color: black;'>?</span> mg, <span style='background-color: yellow; color: black;'>?</span> mmol, <span style='background-color: yellow; color: black;'>?</span>% yield) . LCMS [M+H] 408.0.     to the intermediate was added methanol (20 ml) and  potassium carbonate (2938.51 mg, 21.26 mmol) . the reaction was stirred at rt for 30 min, then poured into water (10 ml) and dcm (10 ml). the solid was collected by filtration, washed with dcm and dried to give (4s,6r)-12-chloro-6-(fluoromethyl)-2,8,10,11-tetrazatricyclo[7.4.0.02,6]trideca-1(9),10,12-trien-4-ol (1000 mg, 3.8658 mmol, 90.909% yield) . lcms [m+h] 259.0.  standard controls apply: lab coats, gloves and safety specs are to be worn at all times. all experiments should be performed in a fumehood.            \n",
       "            </div>\n",
       "        </div>\n",
       "    </div>\n",
       "    </div>"
      ],
      "text/plain": [
       "<IPython.core.display.HTML object>"
      ]
     },
     "metadata": {},
     "output_type": "display_data"
    },
    {
     "data": {
      "text/html": [
       "<div style='margin: 10px 0; width: 100%; display: flex; border: 1px solid #ddd; border-radius: 4px; background: #f8f9fa;'>\n",
       "    <div style=\"display: flex; flex-direction: column; width: 100%; border: 2px solid #bbb;\">\n",
       "        <!-- Header Row -->\n",
       "        <div style=\"display: flex; font-weight: bold; background: #d6d8db; padding: 8px; border-bottom: 2px solid #bbb;\">\n",
       "            <div style=\"width: 80px; text-align: center; border-right: 2px solid #bbb; display: flex; align-items: center; justify-content: center;\">Index</div>\n",
       "            <div style=\"width: 150px; text-align: center; border-right: 2px solid #bbb; display: flex; align-items: center; justify-content: center;\">Experiment ID</div>\n",
       "            <div style=\"flex: 1; text-align: center;\">Writeup</div>\n",
       "        </div>\n",
       "\n",
       "        <!-- Data Row -->\n",
       "        <div style=\"display: flex; padding: 8px; background: #f8f9fa;\">\n",
       "            <div style=\"width: 80px; text-align: center; border-right: 2px solid #ddd; font-weight: bold; display: flex; align-items: center; justify-content: center;\">\n",
       "                134\n",
       "            </div>\n",
       "            <div style=\"width: 150px; text-align: center; border-right: 2px solid #ddd; font-weight: bold; display: flex; align-items: center; justify-content: center;\">\n",
       "                231468\n",
       "            </div>\n",
       "            <div style=\"flex: 1; padding: 8px 12px; white-space: pre-wrap; overflow-wrap: break-word;\">\n",
       "                SME009-90  To a solution of Triphenylphosphine (7.24 g, 11.6 mmol){{9:uid 9}}_XXXXX_   (polymer based) in THF (60 mL){{3:uid 1}}_XXXXX_  was added diisopropyl azodicarboxylate (2.28 mL, 11.6 mmol){{9:uid 10}}_XXXXX_  dropwise. The mixture was stirred at rt for 10 min, to which was added 4-nitrobenzoic acid (1.68 g, 10.05 mmol){{9:uid 8}}_XXXXX_  . The mixture was stirred for 10 min, to which was added (4R,6R)-12-chloro-6-(fluoromethyl)-2,8,10,11-tetrazatricyclo[7.4.0.02,6]trideca-1(9),10,12-trien-4-ol (2.0 g, 7.73 mmol){{9:uid 7}}_XXXXX_   (free base obtained from PRT8180). The mixture was stirred at rt for 1 h, then filtered and concentrated to give [(4S,6R)-12-chloro-6-(fluoromethyl)-2,8,10,11-tetrazatricyclo[7.4.0.02,6]trideca-1(9),10,12-trien-4-yl] 4-nitrobenzoate (<span style='background-color: yellow; color: black;'>?</span> mg, <span style='background-color: yellow; color: black;'>?</span> mmol, <span style='background-color: yellow; color: black;'>?</span>% yield){{2:uid 1}}_XXXXX_  . LCMS [M+H] 408.0.  To the intermediate was added Methanol (20 mL){{3:uid 2}}_XXXXX_  and  Potassium Carbonate (5.34 g, 38.66 mmol){{9:uid 11}}_XXXXX_  . The reaction was stirred at rt for 30 min, then poured into water (10 ml) and DCM (10 ml). The solid was collected by filtration, washed with DCM and dried to give (4S,6R)-12-chloro-6-(fluoromethyl)-2,8,10,11-tetrazatricyclo[7.4.0.02,6]trideca-1(9),10,12-trien-4-ol (<span style='background-color: yellow; color: black;'>?</span> mg, <span style='background-color: yellow; color: black;'>?</span> mmol, <span style='background-color: yellow; color: black;'>?</span>% yield){{2:uid 2}}_XXXXX_  . LCMS [M+H] 259.0.   =========================================  1. to a solution of triphenylphosphine (6.77 g, 10.84 mmol) in thf (60 ml) was added diisopropyl azodicarboxylate (2.13 ml, 10.84 mmol) dropwise. the mixture was stirred at rt for 10 min, to which was added 4-nitrobenzoic acid (1.57 g, 9.4 mmol) . the mixture was stirred for 10 min, to which was added rac-(4r,6r)-12-chloro-6-(difluoromethyl)-2,8,10,11-tetrazatricyclo[7.4.0.02,6]trideca-1(9),10,12-trien-4-ol (2.0 g, 7.23 mmol)  the mixture was stirred at rt for 1 h, then filtered and concentrated to give [(4s,6r)-12-chloro-6-(difluoromethyl)-2,8,10,11-tetrazatricyclo[7.4.0.02,6]trideca-1(9),10,12-trien-4-yl] 4-nitrobenzoate (<span style='background-color: yellow; color: black;'>?</span> mg, <span style='background-color: yellow; color: black;'>?</span> mmol, <span style='background-color: yellow; color: black;'>?</span>% yield) . as quant yield  2. the intermediate was added methanol (20 ml) and  potassium carbonate (5.0 g, 36.14 mmol) . the reaction was stirred at rt for 30 min.  3. Combine with 8-29-2nd and 8-30, the mixture then poured into water (10 ml) and dcm (10 ml). the solid was collected by filtration, washed with dcm and dried to give (4s,6r)-12-chloro-6-(difluoromethyl)-2,8,10,11-tetrazatricyclo[7.4.0.02,6]trideca-1(9),10,12-trien-4-ol (<span style='background-color: yellow; color: black;'>?</span> mg, <span style='background-color: yellow; color: black;'>?</span> mmol, <span style='background-color: yellow; color: black;'>?</span>% yield).  Note: there is A LOT OF PRODUCT in organic and aqueous phases.  Note: Filtrate/solid label was wrong in HPLC  4. The aqueous phase was washed by DCM/MeOH soln and the organic layers were combined with the previous step. the aqueous layer was blow-dried on N2 over the weekend.  5. The organic phase was concentrated and some product crushed out of the soln. filteration to afford some more product  Note: Filtrate/solid label was wrong in HPLC  6. To the filtrate was added hexane, some more solid crushed out, filtration to afford the solid, HPLC showed.  7. The resulted organic phase was concentrated. \n",
       "            </div>\n",
       "        </div>\n",
       "    </div>\n",
       "    </div>"
      ],
      "text/plain": [
       "<IPython.core.display.HTML object>"
      ]
     },
     "metadata": {},
     "output_type": "display_data"
    },
    {
     "data": {
      "text/html": [
       "<div style='margin: 10px 0; width: 100%; display: flex; border: 1px solid #ddd; border-radius: 4px; background: #f8f9fa;'>\n",
       "    <div style=\"display: flex; flex-direction: column; width: 100%; border: 2px solid #bbb;\">\n",
       "        <!-- Header Row -->\n",
       "        <div style=\"display: flex; font-weight: bold; background: #d6d8db; padding: 8px; border-bottom: 2px solid #bbb;\">\n",
       "            <div style=\"width: 80px; text-align: center; border-right: 2px solid #bbb; display: flex; align-items: center; justify-content: center;\">Index</div>\n",
       "            <div style=\"width: 150px; text-align: center; border-right: 2px solid #bbb; display: flex; align-items: center; justify-content: center;\">Experiment ID</div>\n",
       "            <div style=\"flex: 1; text-align: center;\">Writeup</div>\n",
       "        </div>\n",
       "\n",
       "        <!-- Data Row -->\n",
       "        <div style=\"display: flex; padding: 8px; background: #f8f9fa;\">\n",
       "            <div style=\"width: 80px; text-align: center; border-right: 2px solid #ddd; font-weight: bold; display: flex; align-items: center; justify-content: center;\">\n",
       "                135\n",
       "            </div>\n",
       "            <div style=\"width: 150px; text-align: center; border-right: 2px solid #ddd; font-weight: bold; display: flex; align-items: center; justify-content: center;\">\n",
       "                231614\n",
       "            </div>\n",
       "            <div style=\"flex: 1; padding: 8px 12px; white-space: pre-wrap; overflow-wrap: break-word;\">\n",
       "                set-up  to a solution of 8-amino-2-methylisoquinolin-1-one (50.0 mg, 0.29 mmol)  in THF (4 mL){{3:uid 1}}_XXXXX_   was added pd/c (10.0 mg, <span style='background-color: yellow; color: black;'>?</span> mmol) and Pd(OH)2 (​10.0 mg, ​0.07 mmol)​{{1080:uid 3}}_XXXXX_  . the mixture was purgeg with h2 three times and the resulting mixture was stirred at 40 °C{{1100:row 1}}_XXXXX_  for 16h.  monitoring  ms showed the starting material was consumed and the desired ms was detected.  work-up  discarded.  purification  n/a.   \n",
       "            </div>\n",
       "        </div>\n",
       "    </div>\n",
       "    </div>"
      ],
      "text/plain": [
       "<IPython.core.display.HTML object>"
      ]
     },
     "metadata": {},
     "output_type": "display_data"
    },
    {
     "data": {
      "text/html": [
       "<div style='margin: 10px 0; width: 100%; display: flex; border: 1px solid #ddd; border-radius: 4px; background: #f8f9fa;'>\n",
       "    <div style=\"display: flex; flex-direction: column; width: 100%; border: 2px solid #bbb;\">\n",
       "        <!-- Header Row -->\n",
       "        <div style=\"display: flex; font-weight: bold; background: #d6d8db; padding: 8px; border-bottom: 2px solid #bbb;\">\n",
       "            <div style=\"width: 80px; text-align: center; border-right: 2px solid #bbb; display: flex; align-items: center; justify-content: center;\">Index</div>\n",
       "            <div style=\"width: 150px; text-align: center; border-right: 2px solid #bbb; display: flex; align-items: center; justify-content: center;\">Experiment ID</div>\n",
       "            <div style=\"flex: 1; text-align: center;\">Writeup</div>\n",
       "        </div>\n",
       "\n",
       "        <!-- Data Row -->\n",
       "        <div style=\"display: flex; padding: 8px; background: #f8f9fa;\">\n",
       "            <div style=\"width: 80px; text-align: center; border-right: 2px solid #ddd; font-weight: bold; display: flex; align-items: center; justify-content: center;\">\n",
       "                136\n",
       "            </div>\n",
       "            <div style=\"width: 150px; text-align: center; border-right: 2px solid #ddd; font-weight: bold; display: flex; align-items: center; justify-content: center;\">\n",
       "                231827\n",
       "            </div>\n",
       "            <div style=\"flex: 1; padding: 8px 12px; white-space: pre-wrap; overflow-wrap: break-word;\">\n",
       "                A mixture of (4R,6R)-12-chloro-6-(difluoromethyl)-4-(5-ethenylpyrazin-2-yl)oxy-2,8,10,11-tetrazatricyclo[7.4.0.02,6]trideca-1(9),10,12-triene (300.0 mg, 0.79 mmol){{9:uid 1}}_XXXXX_  , 2-Hydroxyphenylboronic acid (217.34 mg, 1.58 mmol){{9:uid 2}}_XXXXX_   , Potassium Carbonate (435.55 mg, 3.15 mmol){{9:uid 4}}_XXXXX_   and XPhos Pd G2 (61.99 mg, 0.08 mmol){{9:uid 3}}_XXXXX_   in 1,4-Dioxane (4.5 mL){{3:uid 1}}_XXXXX_   and Water (0.90 mL){{3:uid 2}}_XXXXX_   was sparged for ~5 min with N2. Stirred at 100 °C and monitored by LC-MS.   done in 30 min  transfer to sep funnel with sat. aq NaHCO3. Extracted with CHCl3:iPrOH (3 x) Dried with MgSO4, filtered then concentrated.  column with 0-10% MeOH/DCM then 20% MeOH/DCM flush  product streaks on column and it is difficult to obtain it without impurities or losing significant amounts  Obtained 2-[(4R,6R)-6-(difluoromethyl)-4-(5-ethenylpyrazin-2-yl)oxy-2,8,10,11-tetrazatricyclo[7.4.0.02,6]trideca-1(9),10,12-trien-12-yl]phenol (<span style='background-color: yellow; color: black;'>?</span> mg, <span style='background-color: yellow; color: black;'>?</span> mmol, <span style='background-color: yellow; color: black;'>?</span>% yield){{2:uid 1}}_XXXXX_   as a yellow oil. (over quat yield by mass due to poor separation)  M+1 = 439.0 found  ========================  a mixture of (4r,6r)-12-chloro-6-(difluoromethyl)-4-(5-ethenylpyrazin-2-yl)oxy-2,8,10,11-tetrazatricyclo[7.4.0.02,6]trideca-1(9),10,12-triene (300.0 mg, 0.79 mmol) , 2-hydroxyphenylboronic acid (217.34 mg, 1.58 mmol)  , potassium carbonate (435.55 mg, 3.15 mmol)  and xphos pd g2 (61.99 mg, 0.08 mmol)  in 1,4-dioxane (4.5 ml)  and water (0.9 ml)  was sparged for ~5 min with n2. stirred at 100 °c and monitored by lc-ms. 11:00  done in 30 min  transfer to sep funnel with sat. aq nahco3. extracted with chcl3:iproh (3 x) dried with mgso4, filtered then concentrated.  column with 0-10% meoh/dcm then 20% meoh/dcm flush  product streaks on column and it is difficult to obtain it without impurities or losing significant amounts  obtained 2-[(4r,6r)-6-(difluoromethyl)-4-(5-ethenylpyrazin-2-yl)oxy-2,8,10,11-tetrazatricyclo[7.4.0.02,6]trideca-1(9),10,12-trien-12-yl]phenol (<span style='background-color: yellow; color: black;'>?</span> mg, <span style='background-color: yellow; color: black;'>?</span> mmol, <span style='background-color: yellow; color: black;'>?</span>% yield)  as a yellow oil. (over quat yield by mass due to poor separation)  m+1 = 439.0 found               \n",
       "            </div>\n",
       "        </div>\n",
       "    </div>\n",
       "    </div>"
      ],
      "text/plain": [
       "<IPython.core.display.HTML object>"
      ]
     },
     "metadata": {},
     "output_type": "display_data"
    },
    {
     "data": {
      "text/html": [
       "<div style='margin: 10px 0; width: 100%; display: flex; border: 1px solid #ddd; border-radius: 4px; background: #f8f9fa;'>\n",
       "    <div style=\"display: flex; flex-direction: column; width: 100%; border: 2px solid #bbb;\">\n",
       "        <!-- Header Row -->\n",
       "        <div style=\"display: flex; font-weight: bold; background: #d6d8db; padding: 8px; border-bottom: 2px solid #bbb;\">\n",
       "            <div style=\"width: 80px; text-align: center; border-right: 2px solid #bbb; display: flex; align-items: center; justify-content: center;\">Index</div>\n",
       "            <div style=\"width: 150px; text-align: center; border-right: 2px solid #bbb; display: flex; align-items: center; justify-content: center;\">Experiment ID</div>\n",
       "            <div style=\"flex: 1; text-align: center;\">Writeup</div>\n",
       "        </div>\n",
       "\n",
       "        <!-- Data Row -->\n",
       "        <div style=\"display: flex; padding: 8px; background: #f8f9fa;\">\n",
       "            <div style=\"width: 80px; text-align: center; border-right: 2px solid #ddd; font-weight: bold; display: flex; align-items: center; justify-content: center;\">\n",
       "                137\n",
       "            </div>\n",
       "            <div style=\"width: 150px; text-align: center; border-right: 2px solid #ddd; font-weight: bold; display: flex; align-items: center; justify-content: center;\">\n",
       "                231858\n",
       "            </div>\n",
       "            <div style=\"flex: 1; padding: 8px 12px; white-space: pre-wrap; overflow-wrap: break-word;\">\n",
       "                A mixture of (4R,6R)-12-chloro-6-(difluoromethyl)-4-(5-ethenylpyrazin-2-yl)oxy-2,8,10,11-tetrazatricyclo[7.4.0.02,6]trideca-1(9),10,12-triene (1.2 g, 3.15 mmol){{9:uid 1}}_XXXXX_  , 2-Hydroxyphenylboronic acid (869.35 mg, 6.3 mmol){{9:uid 2}}_XXXXX_   , Potassium Carbonate (1.74 g, 12.61 mmol){{9:uid 4}}_XXXXX_   and XPhos Pd G2 (247.95 mg, 0.32 mmol){{9:uid 3}}_XXXXX_   in 1,4-Dioxane (18 mL){{3:uid 1}}_XXXXX_   and Water (3.6 mL){{3:uid 2}}_XXXXX_   was sparged for ~5 min with N2. Stirred at 100 °C and monitored by LC-MS.   done in 30 min  transfer to sep funnel with sat. aq NaHCO3. Extracted with CHCl3:iPrOH (3 x) Dried with MgSO4, filtered then concentrated.  column with 0-10% MeOH/DCM then 20% MeOH/DCM flush  product streaks on column and it is difficult to obtain it without impurities or losing significant amounts  Obtained 2-[(4R,6R)-6-(difluoromethyl)-4-(5-ethenylpyrazin-2-yl)oxy-2,8,10,11-tetrazatricyclo[7.4.0.02,6]trideca-1(9),10,12-trien-12-yl]phenol (<span style='background-color: yellow; color: black;'>?</span> mg, <span style='background-color: yellow; color: black;'>?</span> mmol, <span style='background-color: yellow; color: black;'>?</span>% yield){{2:uid 1}}_XXXXX_   as a yellow oil. (over quat yield by mass due to poor separation)  M+1 = 439.0 found  ========================  a mixture of (4r,6r)-12-chloro-6-(difluoromethyl)-4-(5-ethenylpyrazin-2-yl)oxy-2,8,10,11-tetrazatricyclo[7.4.0.02,6]trideca-1(9),10,12-triene (300.0 mg, 0.79 mmol) , 2-hydroxyphenylboronic acid (217.34 mg, 1.58 mmol)  , potassium carbonate (435.55 mg, 3.15 mmol)  and xphos pd g2 (61.99 mg, 0.08 mmol)  in 1,4-dioxane (4.5 ml)  and water (0.9 ml)  was sparged for ~5 min with n2. stirred at 100 °c and monitored by lc-ms. 11:00  done in 30 min  transfer to sep funnel with sat. aq nahco3. extracted with chcl3:iproh (3 x) dried with mgso4, filtered then concentrated.  column with 0-10% meoh/dcm then 20% meoh/dcm flush  product streaks on column and it is difficult to obtain it without impurities or losing significant amounts  obtained 2-[(4r,6r)-6-(difluoromethyl)-4-(5-ethenylpyrazin-2-yl)oxy-2,8,10,11-tetrazatricyclo[7.4.0.02,6]trideca-1(9),10,12-trien-12-yl]phenol (<span style='background-color: yellow; color: black;'>?</span> mg, <span style='background-color: yellow; color: black;'>?</span> mmol, <span style='background-color: yellow; color: black;'>?</span>% yield)  as a yellow oil. (over quat yield by mass due to poor separation)  m+1 = 439.0 found               \n",
       "            </div>\n",
       "        </div>\n",
       "    </div>\n",
       "    </div>"
      ],
      "text/plain": [
       "<IPython.core.display.HTML object>"
      ]
     },
     "metadata": {},
     "output_type": "display_data"
    },
    {
     "data": {
      "text/html": [
       "<div style='margin: 10px 0; width: 100%; display: flex; border: 1px solid #ddd; border-radius: 4px; background: #f8f9fa;'>\n",
       "    <div style=\"display: flex; flex-direction: column; width: 100%; border: 2px solid #bbb;\">\n",
       "        <!-- Header Row -->\n",
       "        <div style=\"display: flex; font-weight: bold; background: #d6d8db; padding: 8px; border-bottom: 2px solid #bbb;\">\n",
       "            <div style=\"width: 80px; text-align: center; border-right: 2px solid #bbb; display: flex; align-items: center; justify-content: center;\">Index</div>\n",
       "            <div style=\"width: 150px; text-align: center; border-right: 2px solid #bbb; display: flex; align-items: center; justify-content: center;\">Experiment ID</div>\n",
       "            <div style=\"flex: 1; text-align: center;\">Writeup</div>\n",
       "        </div>\n",
       "\n",
       "        <!-- Data Row -->\n",
       "        <div style=\"display: flex; padding: 8px; background: #f8f9fa;\">\n",
       "            <div style=\"width: 80px; text-align: center; border-right: 2px solid #ddd; font-weight: bold; display: flex; align-items: center; justify-content: center;\">\n",
       "                138\n",
       "            </div>\n",
       "            <div style=\"width: 150px; text-align: center; border-right: 2px solid #ddd; font-weight: bold; display: flex; align-items: center; justify-content: center;\">\n",
       "                232399\n",
       "            </div>\n",
       "            <div style=\"flex: 1; padding: 8px 12px; white-space: pre-wrap; overflow-wrap: break-word;\">\n",
       "                A mixture of (4R,6R)-12-chloro-6-(difluoromethyl)-4-(5-ethenylpyrazin-2-yl)oxy-2,8,10,11-tetrazatricyclo[7.4.0.02,6]trideca-1(9),10,12-triene (1.4 g, 3.68 mmol){{9:uid 1}}_XXXXX_  , 2-Hydroxyphenylboronic acid (1.01 g, 7.35 mmol){{9:uid 2}}_XXXXX_   , Potassium Carbonate (2.03 g, 14.71 mmol){{9:uid 4}}_XXXXX_   and XPhos Pd G2 (289.28 mg, 0.37 mmol){{9:uid 3}}_XXXXX_   in 1,4-Dioxane (20 mL){{3:uid 1}}_XXXXX_   and Water (4 mL){{3:uid 2}}_XXXXX_   was sparged for ~5 min with N2. Stirred at 100 °C and monitored by LC-MS.   done in 30 min  transfer to sep funnel with sat. aq NaHCO3. Extracted with CHCl3:iPrOH (3 x) Dried with MgSO4, filtered then concentrated.  column with 0-10% MeOH/DCM then 20% MeOH/DCM flush  product streaks on column and it is difficult to obtain it without impurities or losing significant amounts  Obtained 2-[(4R,6R)-6-(difluoromethyl)-4-(5-ethenylpyrazin-2-yl)oxy-2,8,10,11-tetrazatricyclo[7.4.0.02,6]trideca-1(9),10,12-trien-12-yl]phenol (<span style='background-color: yellow; color: black;'>?</span> mg, <span style='background-color: yellow; color: black;'>?</span> mmol, <span style='background-color: yellow; color: black;'>?</span>% yield){{2:uid 1}}_XXXXX_   as a yellow oil. (over quat yield by mass due to poor separation)  M+1 = 439.0 found  ========================  a mixture of (4r,6r)-12-chloro-6-(difluoromethyl)-4-(5-ethenylpyrazin-2-yl)oxy-2,8,10,11-tetrazatricyclo[7.4.0.02,6]trideca-1(9),10,12-triene (300.0 mg, 0.79 mmol) , 2-hydroxyphenylboronic acid (217.34 mg, 1.58 mmol)  , potassium carbonate (435.55 mg, 3.15 mmol)  and xphos pd g2 (61.99 mg, 0.08 mmol)  in 1,4-dioxane (4.5 ml)  and water (0.9 ml)  was sparged for ~5 min with n2. stirred at 100 °c and monitored by lc-ms. 11:00  done in 30 min  transfer to sep funnel with sat. aq nahco3. extracted with chcl3:iproh (3 x) dried with mgso4, filtered then concentrated.  column with 0-10% meoh/dcm then 20% meoh/dcm flush  product streaks on column and it is difficult to obtain it without impurities or losing significant amounts  obtained 2-[(4r,6r)-6-(difluoromethyl)-4-(5-ethenylpyrazin-2-yl)oxy-2,8,10,11-tetrazatricyclo[7.4.0.02,6]trideca-1(9),10,12-trien-12-yl]phenol (<span style='background-color: yellow; color: black;'>?</span> mg, <span style='background-color: yellow; color: black;'>?</span> mmol, <span style='background-color: yellow; color: black;'>?</span>% yield)  as a yellow oil. (over quat yield by mass due to poor separation)  m+1 = 439.0 found               \n",
       "            </div>\n",
       "        </div>\n",
       "    </div>\n",
       "    </div>"
      ],
      "text/plain": [
       "<IPython.core.display.HTML object>"
      ]
     },
     "metadata": {},
     "output_type": "display_data"
    },
    {
     "data": {
      "text/html": [
       "<div style='margin: 10px 0; width: 100%; display: flex; border: 1px solid #ddd; border-radius: 4px; background: #f8f9fa;'>\n",
       "    <div style=\"display: flex; flex-direction: column; width: 100%; border: 2px solid #bbb;\">\n",
       "        <!-- Header Row -->\n",
       "        <div style=\"display: flex; font-weight: bold; background: #d6d8db; padding: 8px; border-bottom: 2px solid #bbb;\">\n",
       "            <div style=\"width: 80px; text-align: center; border-right: 2px solid #bbb; display: flex; align-items: center; justify-content: center;\">Index</div>\n",
       "            <div style=\"width: 150px; text-align: center; border-right: 2px solid #bbb; display: flex; align-items: center; justify-content: center;\">Experiment ID</div>\n",
       "            <div style=\"flex: 1; text-align: center;\">Writeup</div>\n",
       "        </div>\n",
       "\n",
       "        <!-- Data Row -->\n",
       "        <div style=\"display: flex; padding: 8px; background: #f8f9fa;\">\n",
       "            <div style=\"width: 80px; text-align: center; border-right: 2px solid #ddd; font-weight: bold; display: flex; align-items: center; justify-content: center;\">\n",
       "                139\n",
       "            </div>\n",
       "            <div style=\"width: 150px; text-align: center; border-right: 2px solid #ddd; font-weight: bold; display: flex; align-items: center; justify-content: center;\">\n",
       "                232587\n",
       "            </div>\n",
       "            <div style=\"flex: 1; padding: 8px 12px; white-space: pre-wrap; overflow-wrap: break-word;\">\n",
       "                SME009-90  To a solution of Triphenylphosphine (7.24 g, 11.6 mmol){{9:uid 9}}_XXXXX_   (polymer based) in THF (60 mL){{3:uid 1}}_XXXXX_  was added diisopropyl azodicarboxylate (2.28 mL, 11.6 mmol){{9:uid 10}}_XXXXX_  dropwise. The mixture was stirred at rt for 10 min, to which was added 4-nitrobenzoic acid (1.55 g, 9.28 mmol){{9:uid 8}}_XXXXX_  . The mixture was stirred for 10 min, to which was added (4R,6R)-12-chloro-6-(fluoromethyl)-2,8,10,11-tetrazatricyclo[7.4.0.02,6]trideca-1(9),10,12-trien-4-ol (2.0 g, 7.73 mmol){{9:uid 7}}_XXXXX_   (free base obtained from PRT8180). The mixture was stirred at rt for 1 h, then filtered and concentrated to give [(4S,6R)-12-chloro-6-(fluoromethyl)-2,8,10,11-tetrazatricyclo[7.4.0.02,6]trideca-1(9),10,12-trien-4-yl] 4-nitrobenzoate (<span style='background-color: yellow; color: black;'>?</span> mg, <span style='background-color: yellow; color: black;'>?</span> mmol, <span style='background-color: yellow; color: black;'>?</span>% yield){{2:uid 1}}_XXXXX_  . LCMS [M+H] 408.0.  To the intermediate was added Methanol (20 mL){{3:uid 2}}_XXXXX_  and  Potassium Carbonate (5.34 g, 38.66 mmol){{9:uid 11}}_XXXXX_  . The reaction was stirred at rt for 30 min, then poured into water (10 ml) and DCM (10 ml). The solid was collected by filtration, washed with DCM and dried to give (4S,6R)-12-chloro-6-(fluoromethyl)-2,8,10,11-tetrazatricyclo[7.4.0.02,6]trideca-1(9),10,12-trien-4-ol (<span style='background-color: yellow; color: black;'>?</span> mg, <span style='background-color: yellow; color: black;'>?</span> mmol, <span style='background-color: yellow; color: black;'>?</span>% yield){{2:uid 2}}_XXXXX_  . LCMS [M+H] 259.0.   =========================================  1. to a solution of triphenylphosphine (6.77 g, 10.84 mmol) in thf (60 ml) was added diisopropyl azodicarboxylate (2.13 ml, 10.84 mmol) dropwise. the mixture was stirred at rt for 10 min, to which was added 4-nitrobenzoic acid (1.57 g, 9.4 mmol) . the mixture was stirred for 10 min, to which was added rac-(4r,6r)-12-chloro-6-(difluoromethyl)-2,8,10,11-tetrazatricyclo[7.4.0.02,6]trideca-1(9),10,12-trien-4-ol (2.0 g, 7.23 mmol)  the mixture was stirred at rt for 1 h, then filtered and concentrated to give [(4s,6r)-12-chloro-6-(difluoromethyl)-2,8,10,11-tetrazatricyclo[7.4.0.02,6]trideca-1(9),10,12-trien-4-yl] 4-nitrobenzoate (<span style='background-color: yellow; color: black;'>?</span> mg, <span style='background-color: yellow; color: black;'>?</span> mmol, <span style='background-color: yellow; color: black;'>?</span>% yield) . as quant yield  2. the intermediate was added methanol (20 ml) and  potassium carbonate (5.0 g, 36.14 mmol) . the reaction was stirred at rt for 30 min.  3. Combine with 8-29-2nd and 8-30, the mixture then poured into water (10 ml) and dcm (10 ml). the solid was collected by filtration, washed with dcm and dried to give (4s,6r)-12-chloro-6-(difluoromethyl)-2,8,10,11-tetrazatricyclo[7.4.0.02,6]trideca-1(9),10,12-trien-4-ol (<span style='background-color: yellow; color: black;'>?</span> mg, <span style='background-color: yellow; color: black;'>?</span> mmol, <span style='background-color: yellow; color: black;'>?</span>% yield).  Note: Filtrate/solid label was wrong in HPLC  4. The filtrate was concentrated on rotovap and the residue was suspended in water, filtered, the solid was bascially OPPh3 and there was product in water  5. The solid was dissolved in DCM and filtered, the yellow solid left in the funnel was washed by water.   6. The two phases were combined and dried on n2 flow over the weekend.   \n",
       "            </div>\n",
       "        </div>\n",
       "    </div>\n",
       "    </div>"
      ],
      "text/plain": [
       "<IPython.core.display.HTML object>"
      ]
     },
     "metadata": {},
     "output_type": "display_data"
    },
    {
     "data": {
      "text/html": [
       "<div style='margin: 10px 0; width: 100%; display: flex; border: 1px solid #ddd; border-radius: 4px; background: #f8f9fa;'>\n",
       "    <div style=\"display: flex; flex-direction: column; width: 100%; border: 2px solid #bbb;\">\n",
       "        <!-- Header Row -->\n",
       "        <div style=\"display: flex; font-weight: bold; background: #d6d8db; padding: 8px; border-bottom: 2px solid #bbb;\">\n",
       "            <div style=\"width: 80px; text-align: center; border-right: 2px solid #bbb; display: flex; align-items: center; justify-content: center;\">Index</div>\n",
       "            <div style=\"width: 150px; text-align: center; border-right: 2px solid #bbb; display: flex; align-items: center; justify-content: center;\">Experiment ID</div>\n",
       "            <div style=\"flex: 1; text-align: center;\">Writeup</div>\n",
       "        </div>\n",
       "\n",
       "        <!-- Data Row -->\n",
       "        <div style=\"display: flex; padding: 8px; background: #f8f9fa;\">\n",
       "            <div style=\"width: 80px; text-align: center; border-right: 2px solid #ddd; font-weight: bold; display: flex; align-items: center; justify-content: center;\">\n",
       "                140\n",
       "            </div>\n",
       "            <div style=\"width: 150px; text-align: center; border-right: 2px solid #ddd; font-weight: bold; display: flex; align-items: center; justify-content: center;\">\n",
       "                232996\n",
       "            </div>\n",
       "            <div style=\"flex: 1; padding: 8px 12px; white-space: pre-wrap; overflow-wrap: break-word;\">\n",
       "                A mixture of (4R,6R)-12-chloro-4-(5-ethenyl-3-methylpyrazin-2-yl)oxy-6-(fluoromethyl)-2,8,10,11-tetrazatricyclo[7.4.0.02,6]trideca-1(9),10,12-triene (0.14 g, 0.37 mmol){{9:uid 1}}_XXXXX_  , 3-fluoro-2-hydroxyphenylboronic acid (0.12 g, 0.74 mmol){{9:uid 2}}_XXXXX_   , Potassium Carbonate (0.21 g, 1.49 mmol){{9:uid 4}}_XXXXX_   and XPhos Pd G2 (29.23 mg, 0.04 mmol){{9:uid 3}}_XXXXX_   in 1,4-Dioxane (2 mL){{3:uid 1}}_XXXXX_   and Water (0.40 mL){{3:uid 2}}_XXXXX_   was sparged for ~5 min with N2. Stirred at 100 °C and monitored by LC-MS.   done in 30 min  transfer to sep funnel with sat. aq NaHCO3. Extracted with CHCl3:iPrOH (3 x) Dried with MgSO4, filtered then concentrated.  column with 0-10% MeOH/DCM then 20% MeOH/DCM flush  product streaks on column and it is difficult to obtain it without impurities or losing significant amounts  Obtained 2-[(4R,6R)-4-(5-ethenyl-3-methylpyrazin-2-yl)oxy-6-(fluoromethyl)-2,8,10,11-tetrazatricyclo[7.4.0.02,6]trideca-1(9),10,12-trien-12-yl]-6-fluorophenol (<span style='background-color: yellow; color: black;'>?</span> mg, <span style='background-color: yellow; color: black;'>?</span> mmol, <span style='background-color: yellow; color: black;'>?</span>% yield){{2:uid 1}}_XXXXX_   as a yellow oil. (over quat yield by mass due to poor separation)  M+1 = 439.0 found  ========================  a mixture of (4r,6r)-12-chloro-6-(difluoromethyl)-4-(5-ethenylpyrazin-2-yl)oxy-2,8,10,11-tetrazatricyclo[7.4.0.02,6]trideca-1(9),10,12-triene (300.0 mg, 0.79 mmol) , 2-hydroxyphenylboronic acid (217.34 mg, 1.58 mmol)  , potassium carbonate (435.55 mg, 3.15 mmol)  and xphos pd g2 (61.99 mg, 0.08 mmol)  in 1,4-dioxane (4.5 ml)  and water (0.9 ml)  was sparged for ~5 min with n2. stirred at 100 °c and monitored by lc-ms. 11:00  done in 30 min  transfer to sep funnel with sat. aq nahco3. extracted with chcl3:iproh (3 x) dried with mgso4, filtered then concentrated.  column with 0-10% meoh/dcm then 20% meoh/dcm flush  product streaks on column and it is difficult to obtain it without impurities or losing significant amounts  obtained 2-[(4r,6r)-6-(difluoromethyl)-4-(5-ethenylpyrazin-2-yl)oxy-2,8,10,11-tetrazatricyclo[7.4.0.02,6]trideca-1(9),10,12-trien-12-yl]phenol (<span style='background-color: yellow; color: black;'>?</span> mg, <span style='background-color: yellow; color: black;'>?</span> mmol, <span style='background-color: yellow; color: black;'>?</span>% yield)  as a yellow oil. (over quat yield by mass due to poor separation)  m+1 = 439.0 found               \n",
       "            </div>\n",
       "        </div>\n",
       "    </div>\n",
       "    </div>"
      ],
      "text/plain": [
       "<IPython.core.display.HTML object>"
      ]
     },
     "metadata": {},
     "output_type": "display_data"
    },
    {
     "data": {
      "text/html": [
       "<div style='margin: 10px 0; width: 100%; display: flex; border: 1px solid #ddd; border-radius: 4px; background: #f8f9fa;'>\n",
       "    <div style=\"display: flex; flex-direction: column; width: 100%; border: 2px solid #bbb;\">\n",
       "        <!-- Header Row -->\n",
       "        <div style=\"display: flex; font-weight: bold; background: #d6d8db; padding: 8px; border-bottom: 2px solid #bbb;\">\n",
       "            <div style=\"width: 80px; text-align: center; border-right: 2px solid #bbb; display: flex; align-items: center; justify-content: center;\">Index</div>\n",
       "            <div style=\"width: 150px; text-align: center; border-right: 2px solid #bbb; display: flex; align-items: center; justify-content: center;\">Experiment ID</div>\n",
       "            <div style=\"flex: 1; text-align: center;\">Writeup</div>\n",
       "        </div>\n",
       "\n",
       "        <!-- Data Row -->\n",
       "        <div style=\"display: flex; padding: 8px; background: #f8f9fa;\">\n",
       "            <div style=\"width: 80px; text-align: center; border-right: 2px solid #ddd; font-weight: bold; display: flex; align-items: center; justify-content: center;\">\n",
       "                141\n",
       "            </div>\n",
       "            <div style=\"width: 150px; text-align: center; border-right: 2px solid #ddd; font-weight: bold; display: flex; align-items: center; justify-content: center;\">\n",
       "                233004\n",
       "            </div>\n",
       "            <div style=\"flex: 1; padding: 8px 12px; white-space: pre-wrap; overflow-wrap: break-word;\">\n",
       "                A mixture of (4R,6R)-12-chloro-4-(5-ethenyl-3-methylpyrazin-2-yl)oxy-6-(fluoromethyl)-2,8,10,11-tetrazatricyclo[7.4.0.02,6]trideca-1(9),10,12-triene (2.6 g, 6.9 mmol){{9:uid 1}}_XXXXX_  , 3-fluoro-2-hydroxyphenylboronic acid (2.15 g, 13.8 mmol){{9:uid 2}}_XXXXX_   , Potassium Carbonate (3.81 g, 27.6 mmol){{9:uid 4}}_XXXXX_   and XPhos Pd G2 (542.88 mg, 0.69 mmol){{9:uid 3}}_XXXXX_   in 1,4-Dioxane (30 mL){{3:uid 1}}_XXXXX_   and Water (6 mL){{3:uid 2}}_XXXXX_   was sparged for ~5 min with N2. Stirred at 100 °C and monitored by LC-MS.   done in 30 min  transfer to sep funnel with sat. aq NaHCO3. Extracted with CHCl3:iPrOH (3 x) Dried with MgSO4, filtered then concentrated.  column with 0-10% MeOH/DCM then 20% MeOH/DCM flush  product streaks on column and it is difficult to obtain it without impurities or losing significant amounts  Obtained 2-[(4R,6R)-4-(5-ethenyl-3-methylpyrazin-2-yl)oxy-6-(fluoromethyl)-2,8,10,11-tetrazatricyclo[7.4.0.02,6]trideca-1(9),10,12-trien-12-yl]-6-fluorophenol (<span style='background-color: yellow; color: black;'>?</span> mg, <span style='background-color: yellow; color: black;'>?</span> mmol, <span style='background-color: yellow; color: black;'>?</span>% yield){{2:uid 1}}_XXXXX_   as a yellow oil. (over quat yield by mass due to poor separation)  M+1 = 439.0 found  ========================  a mixture of (4r,6r)-12-chloro-6-(difluoromethyl)-4-(5-ethenylpyrazin-2-yl)oxy-2,8,10,11-tetrazatricyclo[7.4.0.02,6]trideca-1(9),10,12-triene (300.0 mg, 0.79 mmol) , 2-hydroxyphenylboronic acid (217.34 mg, 1.58 mmol)  , potassium carbonate (435.55 mg, 3.15 mmol)  and xphos pd g2 (61.99 mg, 0.08 mmol)  in 1,4-dioxane (4.5 ml)  and water (0.9 ml)  was sparged for ~5 min with n2. stirred at 100 °c and monitored by lc-ms. 11:00  done in 30 min  transfer to sep funnel with sat. aq nahco3. extracted with chcl3:iproh (3 x) dried with mgso4, filtered then concentrated.  column with 0-10% meoh/dcm then 20% meoh/dcm flush  product streaks on column and it is difficult to obtain it without impurities or losing significant amounts  obtained 2-[(4r,6r)-6-(difluoromethyl)-4-(5-ethenylpyrazin-2-yl)oxy-2,8,10,11-tetrazatricyclo[7.4.0.02,6]trideca-1(9),10,12-trien-12-yl]phenol (<span style='background-color: yellow; color: black;'>?</span> mg, <span style='background-color: yellow; color: black;'>?</span> mmol, <span style='background-color: yellow; color: black;'>?</span>% yield)  as a yellow oil. (over quat yield by mass due to poor separation)  m+1 = 439.0 found               \n",
       "            </div>\n",
       "        </div>\n",
       "    </div>\n",
       "    </div>"
      ],
      "text/plain": [
       "<IPython.core.display.HTML object>"
      ]
     },
     "metadata": {},
     "output_type": "display_data"
    },
    {
     "data": {
      "text/html": [
       "<div style='margin: 10px 0; width: 100%; display: flex; border: 1px solid #ddd; border-radius: 4px; background: #f8f9fa;'>\n",
       "    <div style=\"display: flex; flex-direction: column; width: 100%; border: 2px solid #bbb;\">\n",
       "        <!-- Header Row -->\n",
       "        <div style=\"display: flex; font-weight: bold; background: #d6d8db; padding: 8px; border-bottom: 2px solid #bbb;\">\n",
       "            <div style=\"width: 80px; text-align: center; border-right: 2px solid #bbb; display: flex; align-items: center; justify-content: center;\">Index</div>\n",
       "            <div style=\"width: 150px; text-align: center; border-right: 2px solid #bbb; display: flex; align-items: center; justify-content: center;\">Experiment ID</div>\n",
       "            <div style=\"flex: 1; text-align: center;\">Writeup</div>\n",
       "        </div>\n",
       "\n",
       "        <!-- Data Row -->\n",
       "        <div style=\"display: flex; padding: 8px; background: #f8f9fa;\">\n",
       "            <div style=\"width: 80px; text-align: center; border-right: 2px solid #ddd; font-weight: bold; display: flex; align-items: center; justify-content: center;\">\n",
       "                142\n",
       "            </div>\n",
       "            <div style=\"width: 150px; text-align: center; border-right: 2px solid #ddd; font-weight: bold; display: flex; align-items: center; justify-content: center;\">\n",
       "                233101\n",
       "            </div>\n",
       "            <div style=\"flex: 1; padding: 8px 12px; white-space: pre-wrap; overflow-wrap: break-word;\">\n",
       "                To a solution of 4,6-dichloro-n-methoxy-n-methylpyridine-3-carboxamide (200.0 mg, 0.85 mmol)   in thf (5 ml)   was added  ethylmagnesium bromide (566.96 mg, 4.25 mmol)   at 0 °c. the reaction mixture was stirred at 25 °c for 1 hr.  lcms showed the reaction was completed.  the reaction mixture was poured into sat. nh4cl (30 ml_) and extracted with ea (20 ml_*3). the combined organic layer was washed with brine (20 ml_), dried over anhydrous na2so4 , filtered and concentrated under vacuum. the residue was purified by column chromatography (s1o2, pe:etoac = 100:1-5:1) to give the 1-(4,6-dichloro-3-pyridinyl)propan-1-one (<span style='background-color: yellow; color: black;'>?</span> mg, <span style='background-color: yellow; color: black;'>?</span> mmol, <span style='background-color: yellow; color: black;'>?</span>% yield)   as a white solid.\n",
       "            </div>\n",
       "        </div>\n",
       "    </div>\n",
       "    </div>"
      ],
      "text/plain": [
       "<IPython.core.display.HTML object>"
      ]
     },
     "metadata": {},
     "output_type": "display_data"
    },
    {
     "data": {
      "text/html": [
       "<div style='margin: 10px 0; width: 100%; display: flex; border: 1px solid #ddd; border-radius: 4px; background: #f8f9fa;'>\n",
       "    <div style=\"display: flex; flex-direction: column; width: 100%; border: 2px solid #bbb;\">\n",
       "        <!-- Header Row -->\n",
       "        <div style=\"display: flex; font-weight: bold; background: #d6d8db; padding: 8px; border-bottom: 2px solid #bbb;\">\n",
       "            <div style=\"width: 80px; text-align: center; border-right: 2px solid #bbb; display: flex; align-items: center; justify-content: center;\">Index</div>\n",
       "            <div style=\"width: 150px; text-align: center; border-right: 2px solid #bbb; display: flex; align-items: center; justify-content: center;\">Experiment ID</div>\n",
       "            <div style=\"flex: 1; text-align: center;\">Writeup</div>\n",
       "        </div>\n",
       "\n",
       "        <!-- Data Row -->\n",
       "        <div style=\"display: flex; padding: 8px; background: #f8f9fa;\">\n",
       "            <div style=\"width: 80px; text-align: center; border-right: 2px solid #ddd; font-weight: bold; display: flex; align-items: center; justify-content: center;\">\n",
       "                143\n",
       "            </div>\n",
       "            <div style=\"width: 150px; text-align: center; border-right: 2px solid #ddd; font-weight: bold; display: flex; align-items: center; justify-content: center;\">\n",
       "                233706\n",
       "            </div>\n",
       "            <div style=\"flex: 1; padding: 8px 12px; white-space: pre-wrap; overflow-wrap: break-word;\">\n",
       "                To a solution of rac-(NE,R)-N-[1-(3-bromo-5-fluorophenyl)ethylidene]-2-methylpropane-2-sulfinamide (1300.0 mg, 4.06 mmol) in THF (10 mL) was added L-Selectride (8.15 mL, <span style='background-color: yellow; color: black;'>?</span> mmol) dropwise at -40°C under N2. Then the mixture was stirred at 25°C for another 3h. TLC (petroleum ether/ethyl acetate= 10:1,rf= 0.80, 254nm) showed the starting material was consumed. The reaction mixture was quenched by water (20ml) and the mixture was extracted with EtOAc (25ml*2). The combined organic layers were washed with brine (25ml*2). The separated organic layer was ried over na2so4, filtered and concentrated under reduced pressure to give a residue.The residue was purified by column chromatography (si02, petroleum ether/ethyl acetate= 1/0 to 10/1) to give (S)-N-[(1R)-1-(3-bromo-5-fluorophenyl)ethyl]-2-methylpropane-2-sulfinamide (780 mg, 2.4206 mmol, 59.624% yield){{2:uid 1}}_XXXXX_    as a yellow oil.\n",
       "            </div>\n",
       "        </div>\n",
       "    </div>\n",
       "    </div>"
      ],
      "text/plain": [
       "<IPython.core.display.HTML object>"
      ]
     },
     "metadata": {},
     "output_type": "display_data"
    },
    {
     "data": {
      "text/html": [
       "<div style='margin: 10px 0; width: 100%; display: flex; border: 1px solid #ddd; border-radius: 4px; background: #f8f9fa;'>\n",
       "    <div style=\"display: flex; flex-direction: column; width: 100%; border: 2px solid #bbb;\">\n",
       "        <!-- Header Row -->\n",
       "        <div style=\"display: flex; font-weight: bold; background: #d6d8db; padding: 8px; border-bottom: 2px solid #bbb;\">\n",
       "            <div style=\"width: 80px; text-align: center; border-right: 2px solid #bbb; display: flex; align-items: center; justify-content: center;\">Index</div>\n",
       "            <div style=\"width: 150px; text-align: center; border-right: 2px solid #bbb; display: flex; align-items: center; justify-content: center;\">Experiment ID</div>\n",
       "            <div style=\"flex: 1; text-align: center;\">Writeup</div>\n",
       "        </div>\n",
       "\n",
       "        <!-- Data Row -->\n",
       "        <div style=\"display: flex; padding: 8px; background: #f8f9fa;\">\n",
       "            <div style=\"width: 80px; text-align: center; border-right: 2px solid #ddd; font-weight: bold; display: flex; align-items: center; justify-content: center;\">\n",
       "                144\n",
       "            </div>\n",
       "            <div style=\"width: 150px; text-align: center; border-right: 2px solid #ddd; font-weight: bold; display: flex; align-items: center; justify-content: center;\">\n",
       "                234064\n",
       "            </div>\n",
       "            <div style=\"flex: 1; padding: 8px 12px; white-space: pre-wrap; overflow-wrap: break-word;\">\n",
       "                set-up  to a solution of bis(pinacolato)diboron (​50.0 mg, ​0.2 mmol)​{{1080:uid 1}}_XXXXX_      in octane (2.0 ml, <span style='background-color: yellow; color: black;'>?</span> mmol)  and mesitylene (​1.0 mL, ​0.2 mmol)​{{1080:uid 6}}_XXXXX_    was added methyl 4-bromobenzoate (​211.71 mg, ​0.98 mmol)​{{1080:uid 2}}_XXXXX_     ,tris[3,5-bis(trifluoromethyl)phenyl]phosphine (​7.92 mg, ​0.01 mmol)​{{1080:uid 4}}_XXXXX_     and [Ir(OMe)(COD)]2 (​1.31 mg, ​0. mmol)​{{1080:uid 3}}_XXXXX_    . the mixture was purgeg with n2 three times and the resulting mixture was stirred at 80°c for 16h.  monitoring   ms showed the starting material was ramianed and the desired ms wasn't detected.   work-up  discarded.  purification  n/a.      \n",
       "            </div>\n",
       "        </div>\n",
       "    </div>\n",
       "    </div>"
      ],
      "text/plain": [
       "<IPython.core.display.HTML object>"
      ]
     },
     "metadata": {},
     "output_type": "display_data"
    },
    {
     "data": {
      "text/html": [
       "<div style='margin: 10px 0; width: 100%; display: flex; border: 1px solid #ddd; border-radius: 4px; background: #f8f9fa;'>\n",
       "    <div style=\"display: flex; flex-direction: column; width: 100%; border: 2px solid #bbb;\">\n",
       "        <!-- Header Row -->\n",
       "        <div style=\"display: flex; font-weight: bold; background: #d6d8db; padding: 8px; border-bottom: 2px solid #bbb;\">\n",
       "            <div style=\"width: 80px; text-align: center; border-right: 2px solid #bbb; display: flex; align-items: center; justify-content: center;\">Index</div>\n",
       "            <div style=\"width: 150px; text-align: center; border-right: 2px solid #bbb; display: flex; align-items: center; justify-content: center;\">Experiment ID</div>\n",
       "            <div style=\"flex: 1; text-align: center;\">Writeup</div>\n",
       "        </div>\n",
       "\n",
       "        <!-- Data Row -->\n",
       "        <div style=\"display: flex; padding: 8px; background: #f8f9fa;\">\n",
       "            <div style=\"width: 80px; text-align: center; border-right: 2px solid #ddd; font-weight: bold; display: flex; align-items: center; justify-content: center;\">\n",
       "                145\n",
       "            </div>\n",
       "            <div style=\"width: 150px; text-align: center; border-right: 2px solid #ddd; font-weight: bold; display: flex; align-items: center; justify-content: center;\">\n",
       "                234862\n",
       "            </div>\n",
       "            <div style=\"flex: 1; padding: 8px 12px; white-space: pre-wrap; overflow-wrap: break-word;\">\n",
       "                A mixture of 6-[[(4R,6R)-12-chloro-6-(fluoromethyl)-2,8,10,11-tetrazatricyclo[7.4.0.02,6]trideca-1(13),9,11-trien-4-yl]oxy]-5-fluoro-4-methylpyridine-3-carbonitrile (680.0 mg, 1.73 mmol){{9:uid 4}}_XXXXX_   , 3-fluoro-2-hydroxyphenylboronic acid (809.79 mg, 5.19 mmol){{9:uid 5}}_XXXXX_    , Potassium Carbonate (957.01 mg, 6.92 mmol){{9:uid 3}}_XXXXX_    and SPhos Pd G2 (149.58 mg, 0.21 mmol){{9:uid 7}}_XXXXX_  in 1,4-Dioxane (20 mL){{3:uid 1}}_XXXXX_   and Water (2 mL){{3:uid 2}}_XXXXX_     was sparged with nitrogen for 5 minutes and stirred at 90 °C{{8:row 1}}_XXXXX_    for 1 hour. The mixture was dliuted with DCM, washed with water, concentrated and Purified by FCC (0 to 5% DCM/MeOH) to afford 5-fluoro-6-[[(4R,6R)-12-(3-fluoro-2-hydroxyphenyl)-6-(fluoromethyl)-2,8,10,11-tetrazatricyclo[7.4.0.02,6]trideca-1(13),9,11-trien-4-yl]oxy]-4-methylpyridine-3-carbonitrile (<span style='background-color: yellow; color: black;'>?</span> mg, <span style='background-color: yellow; color: black;'>?</span> mmol, <span style='background-color: yellow; color: black;'>?</span>% yield) . LCMS [M+H] 469.2.\n",
       "            </div>\n",
       "        </div>\n",
       "    </div>\n",
       "    </div>"
      ],
      "text/plain": [
       "<IPython.core.display.HTML object>"
      ]
     },
     "metadata": {},
     "output_type": "display_data"
    },
    {
     "data": {
      "text/html": [
       "<div style='margin: 10px 0; width: 100%; display: flex; border: 1px solid #ddd; border-radius: 4px; background: #f8f9fa;'>\n",
       "    <div style=\"display: flex; flex-direction: column; width: 100%; border: 2px solid #bbb;\">\n",
       "        <!-- Header Row -->\n",
       "        <div style=\"display: flex; font-weight: bold; background: #d6d8db; padding: 8px; border-bottom: 2px solid #bbb;\">\n",
       "            <div style=\"width: 80px; text-align: center; border-right: 2px solid #bbb; display: flex; align-items: center; justify-content: center;\">Index</div>\n",
       "            <div style=\"width: 150px; text-align: center; border-right: 2px solid #bbb; display: flex; align-items: center; justify-content: center;\">Experiment ID</div>\n",
       "            <div style=\"flex: 1; text-align: center;\">Writeup</div>\n",
       "        </div>\n",
       "\n",
       "        <!-- Data Row -->\n",
       "        <div style=\"display: flex; padding: 8px; background: #f8f9fa;\">\n",
       "            <div style=\"width: 80px; text-align: center; border-right: 2px solid #ddd; font-weight: bold; display: flex; align-items: center; justify-content: center;\">\n",
       "                146\n",
       "            </div>\n",
       "            <div style=\"width: 150px; text-align: center; border-right: 2px solid #ddd; font-weight: bold; display: flex; align-items: center; justify-content: center;\">\n",
       "                235011\n",
       "            </div>\n",
       "            <div style=\"flex: 1; padding: 8px 12px; white-space: pre-wrap; overflow-wrap: break-word;\">\n",
       "                set-up  a mixture ofrac-(2r)-2-amino-3-(2,5-difluorophenyl)propanoic acid (200.0 mg, 0.99 mmol)  ,boc2o (433.46 mg, 1.99 mmol)  ,k2co3 (274.39 mg, 1.99 mmol) in thf (<span style='background-color: yellow; color: black;'>?</span> ml) then added lialh4 (89.32 mg, 2.35 mmol) at 0°c, then the mixture was stirred at 25°c for 2 hrs under n2 atmosphere.  monitoring  tlc (pe/ea= 1:1, rf= 0.20, 254nm) indicated no reactant i was remained, and one major new spot with larger polarity was detected.  work-upthe reaction mixture was quenched by addition seignette salt 2 ml at 25°c, and extracted with eat 40 ml (20ml * 2). the combined organic layers were washed with nacl10 ml, dried over naso4, filtered and concentrated under reduced pressure to give a residue.  purification  the residue was purified by rep-tlc(c (5102, dcm: meoh = 20: 1)  result  compound rac-(2R)-3-(2,5-difluorophenyl)-2-[(2-methylpropan-2-yl)oxycarbonylamino]propanoic acid (360 mg, 1.1949 mmol, 80.123% yield){{2:uid 1}}_XXXXX_   was obtained as a yellow oil.\n",
       "            </div>\n",
       "        </div>\n",
       "    </div>\n",
       "    </div>"
      ],
      "text/plain": [
       "<IPython.core.display.HTML object>"
      ]
     },
     "metadata": {},
     "output_type": "display_data"
    },
    {
     "data": {
      "text/html": [
       "<div style='margin: 10px 0; width: 100%; display: flex; border: 1px solid #ddd; border-radius: 4px; background: #f8f9fa;'>\n",
       "    <div style=\"display: flex; flex-direction: column; width: 100%; border: 2px solid #bbb;\">\n",
       "        <!-- Header Row -->\n",
       "        <div style=\"display: flex; font-weight: bold; background: #d6d8db; padding: 8px; border-bottom: 2px solid #bbb;\">\n",
       "            <div style=\"width: 80px; text-align: center; border-right: 2px solid #bbb; display: flex; align-items: center; justify-content: center;\">Index</div>\n",
       "            <div style=\"width: 150px; text-align: center; border-right: 2px solid #bbb; display: flex; align-items: center; justify-content: center;\">Experiment ID</div>\n",
       "            <div style=\"flex: 1; text-align: center;\">Writeup</div>\n",
       "        </div>\n",
       "\n",
       "        <!-- Data Row -->\n",
       "        <div style=\"display: flex; padding: 8px; background: #f8f9fa;\">\n",
       "            <div style=\"width: 80px; text-align: center; border-right: 2px solid #ddd; font-weight: bold; display: flex; align-items: center; justify-content: center;\">\n",
       "                147\n",
       "            </div>\n",
       "            <div style=\"width: 150px; text-align: center; border-right: 2px solid #ddd; font-weight: bold; display: flex; align-items: center; justify-content: center;\">\n",
       "                235176\n",
       "            </div>\n",
       "            <div style=\"flex: 1; padding: 8px 12px; white-space: pre-wrap; overflow-wrap: break-word;\">\n",
       "                <span style='background-color: yellow; color: black;'>?</span> (<span style='background-color: yellow; color: black;'>?</span>, <span style='background-color: yellow; color: black;'>?</span> mmol)  transferred   dissolve in dcm (1 ml)    add <span style='background-color: yellow; color: black;'>?</span> (<span style='background-color: yellow; color: black;'>?</span>, <span style='background-color: yellow; color: black;'>?</span> mmol)   and <span style='background-color: yellow; color: black;'>?</span> (<span style='background-color: yellow; color: black;'>?</span>, <span style='background-color: yellow; color: black;'>?</span> mmol)    stir 15 min  add <span style='background-color: yellow; color: black;'>?</span> (<span style='background-color: yellow; color: black;'>?</span>, <span style='background-color: yellow; color: black;'>?</span> mmol)  in dma (0.5 ml)  stir 30 min at r.t.  reaction done        one injection lost due to prep issue   concentrate product on ez-2     obtain <span style='background-color: yellow; color: black;'>?</span> (<span style='background-color: yellow; color: black;'>?</span> <span style='background-color: yellow; color: black;'>?</span>, <span style='background-color: yellow; color: black;'>?</span> mmol, <span style='background-color: yellow; color: black;'>?</span>% yield)    m+1 = 692.2 found  m+1 = 470.1 found  ===========================  1. 2-fluoro-6-[rac-(10r)-10-ethyl-1,5,6,8,12-pentazatricyclo[8.4.0.02,7]tetradeca-2(7),3,5-trien-4-yl]phenol;dihydrochloride (15.0 mg, 0.04 mmol)  transferred and dissolve in dma (0.20 ml)    add n,n-diisopropylethylamine (25.98 ul, 0.15 mmol)   and 4-(dimethylamino)pyridine (1.37 mg, 0.01 mmol)    stir 15 min  add tert-butyl rac-(2r,3s)-4-carbonochloridoyl-2,3-dimethylpiperazine-1-carboxylate (15.48 mg, 0.06 mmol)  in dma (0.5 ml)  stir 30 min at r.t.  no reactivity observed on lcms (note: realized that hunig's base was missed)  2. add hunig's base and stirred at r.t. for 30 min      \n",
       "            </div>\n",
       "        </div>\n",
       "    </div>\n",
       "    </div>"
      ],
      "text/plain": [
       "<IPython.core.display.HTML object>"
      ]
     },
     "metadata": {},
     "output_type": "display_data"
    },
    {
     "data": {
      "text/html": [
       "<div style='margin: 10px 0; width: 100%; display: flex; border: 1px solid #ddd; border-radius: 4px; background: #f8f9fa;'>\n",
       "    <div style=\"display: flex; flex-direction: column; width: 100%; border: 2px solid #bbb;\">\n",
       "        <!-- Header Row -->\n",
       "        <div style=\"display: flex; font-weight: bold; background: #d6d8db; padding: 8px; border-bottom: 2px solid #bbb;\">\n",
       "            <div style=\"width: 80px; text-align: center; border-right: 2px solid #bbb; display: flex; align-items: center; justify-content: center;\">Index</div>\n",
       "            <div style=\"width: 150px; text-align: center; border-right: 2px solid #bbb; display: flex; align-items: center; justify-content: center;\">Experiment ID</div>\n",
       "            <div style=\"flex: 1; text-align: center;\">Writeup</div>\n",
       "        </div>\n",
       "\n",
       "        <!-- Data Row -->\n",
       "        <div style=\"display: flex; padding: 8px; background: #f8f9fa;\">\n",
       "            <div style=\"width: 80px; text-align: center; border-right: 2px solid #ddd; font-weight: bold; display: flex; align-items: center; justify-content: center;\">\n",
       "                148\n",
       "            </div>\n",
       "            <div style=\"width: 150px; text-align: center; border-right: 2px solid #ddd; font-weight: bold; display: flex; align-items: center; justify-content: center;\">\n",
       "                235916\n",
       "            </div>\n",
       "            <div style=\"flex: 1; padding: 8px 12px; white-space: pre-wrap; overflow-wrap: break-word;\">\n",
       "                 To a solution of 5-bromo-3-prop-2-enoxypyridine-2-carboxylic acid (20.0 mg, 0.08 mmol)   , N-methyl-1-(1-prop-2-enylimidazol-2-yl)methanamine (13.0 mg, 0.09 mmol)   , DIEA (50.0 mg, <span style='background-color: yellow; color: black;'>?</span> mmol)    and HATU (35.0 mg, <span style='background-color: yellow; color: black;'>?</span> mmol)  in °C . then the reaction was stirred at 25 ℃ for 1h. TLC (PE:EA=1:1, Rf=0.3 ) showed the SM1 consumed completely. It was a test reaction, so there was no post-processing  \n",
       "            </div>\n",
       "        </div>\n",
       "    </div>\n",
       "    </div>"
      ],
      "text/plain": [
       "<IPython.core.display.HTML object>"
      ]
     },
     "metadata": {},
     "output_type": "display_data"
    },
    {
     "data": {
      "text/html": [
       "<div style='margin: 10px 0; width: 100%; display: flex; border: 1px solid #ddd; border-radius: 4px; background: #f8f9fa;'>\n",
       "    <div style=\"display: flex; flex-direction: column; width: 100%; border: 2px solid #bbb;\">\n",
       "        <!-- Header Row -->\n",
       "        <div style=\"display: flex; font-weight: bold; background: #d6d8db; padding: 8px; border-bottom: 2px solid #bbb;\">\n",
       "            <div style=\"width: 80px; text-align: center; border-right: 2px solid #bbb; display: flex; align-items: center; justify-content: center;\">Index</div>\n",
       "            <div style=\"width: 150px; text-align: center; border-right: 2px solid #bbb; display: flex; align-items: center; justify-content: center;\">Experiment ID</div>\n",
       "            <div style=\"flex: 1; text-align: center;\">Writeup</div>\n",
       "        </div>\n",
       "\n",
       "        <!-- Data Row -->\n",
       "        <div style=\"display: flex; padding: 8px; background: #f8f9fa;\">\n",
       "            <div style=\"width: 80px; text-align: center; border-right: 2px solid #ddd; font-weight: bold; display: flex; align-items: center; justify-content: center;\">\n",
       "                149\n",
       "            </div>\n",
       "            <div style=\"width: 150px; text-align: center; border-right: 2px solid #ddd; font-weight: bold; display: flex; align-items: center; justify-content: center;\">\n",
       "                236148\n",
       "            </div>\n",
       "            <div style=\"flex: 1; padding: 8px 12px; white-space: pre-wrap; overflow-wrap: break-word;\">\n",
       "                ~2 mg 7732 from 0.2 mL to 2mL  1. water  2. acetone  3. MeCN  4. DCM (slightly clear)  5 MeOH  6. THF (stopped at .4 mL)  7. EtOAc (stopped at .4 mL)  8. IPA (slightly clear)  9. Acetone/wtaer 9:1  10. DCM/IPA 9:1 (slightly clear, heated to 30 degrees and nothing really changes)  11. nBuOH  12. tBuOH  13. tBuOH/ DCM 1:1  (heat to 30 degrees)  14. DCM/IPA 1:1 (heat to 30 degrees)  15. DCM/MeOH 9:1 (1 mL) clear solution  16. DCM/MeOH 1:1 (1.5 mL)   ==========  ~2 mg in 1 mL solvent  17. ethylene glycol  18. glycol/DCM 1:9 sovents are not soluble(<span style='background-color: yellow; color: black;'>?</span>)  19. glycol/water 1:9     20. EtOH  21. EtOH/DCM 1:9 (slightly clear)  22. EtOH/water 1:9     23. nPrOH  24. nPrOH/DCM 1:9  25. nPrOH/water 1:9     26. MEK  27. MEK/DCM 1:9  28. MEK/water 1:9 sovents are not soluble(<span style='background-color: yellow; color: black;'>?</span>)     29. methyl-s-butylketone  30. methyl-s-butylketone/DCM 1:9  31. methyl-s-butylketone/water 1:9     32. isoamyl alcohol  33. isoamyl alcohol/DCM  34. isoamyl alcohol/water   ==============  35. MeOH/THF/DCM 1:9:5 (1.5 mL) slighly clear solution  36. MeOH/iPrOH/DCM 1:9:5 (1.5 mL)     NOTE: only 15 is a good option  100 mg 7732 was suspended in 20 mL DCM/MeOH mixture  10 mL (aka 50 mg) was taken out and the rest 10 mL was diluted to 20 mL  10 mL (aka 25 mg) was taken out and the rest 10 mL was diluted 20 20 mL  10 mL was placed in the freezer and the other 10 mL was placed on the shelf with a needle.  the more concentrated solution was heated to 35 degrees celcius overnight     37. EtCN  38.  39.     40. 1-pentanol  41.  42.     43. isobutanol  44.  45.     46. 3-methyl-2-butanone  47.  48.     49. 1,2-propanediol  50.  51.   \n",
       "            </div>\n",
       "        </div>\n",
       "    </div>\n",
       "    </div>"
      ],
      "text/plain": [
       "<IPython.core.display.HTML object>"
      ]
     },
     "metadata": {},
     "output_type": "display_data"
    },
    {
     "data": {
      "text/html": [
       "<div style='margin: 10px 0; width: 100%; display: flex; border: 1px solid #ddd; border-radius: 4px; background: #f8f9fa;'>\n",
       "    <div style=\"display: flex; flex-direction: column; width: 100%; border: 2px solid #bbb;\">\n",
       "        <!-- Header Row -->\n",
       "        <div style=\"display: flex; font-weight: bold; background: #d6d8db; padding: 8px; border-bottom: 2px solid #bbb;\">\n",
       "            <div style=\"width: 80px; text-align: center; border-right: 2px solid #bbb; display: flex; align-items: center; justify-content: center;\">Index</div>\n",
       "            <div style=\"width: 150px; text-align: center; border-right: 2px solid #bbb; display: flex; align-items: center; justify-content: center;\">Experiment ID</div>\n",
       "            <div style=\"flex: 1; text-align: center;\">Writeup</div>\n",
       "        </div>\n",
       "\n",
       "        <!-- Data Row -->\n",
       "        <div style=\"display: flex; padding: 8px; background: #f8f9fa;\">\n",
       "            <div style=\"width: 80px; text-align: center; border-right: 2px solid #ddd; font-weight: bold; display: flex; align-items: center; justify-content: center;\">\n",
       "                150\n",
       "            </div>\n",
       "            <div style=\"width: 150px; text-align: center; border-right: 2px solid #ddd; font-weight: bold; display: flex; align-items: center; justify-content: center;\">\n",
       "                236533\n",
       "            </div>\n",
       "            <div style=\"flex: 1; padding: 8px 12px; white-space: pre-wrap; overflow-wrap: break-word;\">\n",
       "                A mixture of (4R,6R)-12-chloro-6-(difluoromethyl)-4-[5-(dimethoxymethyl)pyrazin-2-yl]oxy-2,8,10,11-tetrazatricyclo[7.4.0.02,6]trideca-1(9),10,12-triene (827.0 mg, 1.93 mmol){{9:uid 1}}_XXXXX_  , 2-Hydroxyphenylboronic acid (0.53 g, 3.86 mmol){{9:uid 2}}_XXXXX_   , Potassium Carbonate (1.07 g, 7.71 mmol){{9:uid 4}}_XXXXX_   and XPhos Pd G2 (151.74 mg, 0.19 mmol){{9:uid 3}}_XXXXX_   in 1,4-Dioxane (10 mL){{3:uid 1}}_XXXXX_   and Water (2 mL){{3:uid 2}}_XXXXX_   was sparged for ~5 min with N2. Stirred at 100 °C and monitored by LC-MS.   done in 30 min  transfer to sep funnel with sat. aq NaHCO3. Extracted with CHCl3:iPrOH (3 x) Dried with MgSO4, filtered then concentrated.  column with 0-10% MeOH/DCM then 20% MeOH/DCM flush  product streaks on column and it is difficult to obtain it without impurities or losing significant amounts  Obtained 2-[(4R,6R)-6-(difluoromethyl)-4-[5-(dimethoxymethyl)pyrazin-2-yl]oxy-2,8,10,11-tetrazatricyclo[7.4.0.02,6]trideca-1(9),10,12-trien-12-yl]phenol (<span style='background-color: yellow; color: black;'>?</span> mg, <span style='background-color: yellow; color: black;'>?</span> mmol, <span style='background-color: yellow; color: black;'>?</span>% yield){{2:uid 1}}_XXXXX_   as a yellow oil. (over quat yield by mass due to poor separation)  M+1 = 439.0 found  ========================  a mixture of (4r,6r)-12-chloro-6-(difluoromethyl)-4-(5-ethenylpyrazin-2-yl)oxy-2,8,10,11-tetrazatricyclo[7.4.0.02,6]trideca-1(9),10,12-triene (300.0 mg, 0.79 mmol) , 2-hydroxyphenylboronic acid (217.34 mg, 1.58 mmol)  , potassium carbonate (435.55 mg, 3.15 mmol)  and xphos pd g2 (61.99 mg, 0.08 mmol)  in 1,4-dioxane (4.5 ml)  and water (0.9 ml)  was sparged for ~5 min with n2. stirred at 100 °c and monitored by lc-ms. 11:00  done in 30 min  transfer to sep funnel with sat. aq nahco3. extracted with chcl3:iproh (3 x) dried with mgso4, filtered then concentrated.  column with 0-10% meoh/dcm then 20% meoh/dcm flush  product streaks on column and it is difficult to obtain it without impurities or losing significant amounts  obtained 2-[(4r,6r)-6-(difluoromethyl)-4-(5-ethenylpyrazin-2-yl)oxy-2,8,10,11-tetrazatricyclo[7.4.0.02,6]trideca-1(9),10,12-trien-12-yl]phenol (<span style='background-color: yellow; color: black;'>?</span> mg, <span style='background-color: yellow; color: black;'>?</span> mmol, <span style='background-color: yellow; color: black;'>?</span>% yield)  as a yellow oil. (over quat yield by mass due to poor separation)  m+1 = 439.0 found               \n",
       "            </div>\n",
       "        </div>\n",
       "    </div>\n",
       "    </div>"
      ],
      "text/plain": [
       "<IPython.core.display.HTML object>"
      ]
     },
     "metadata": {},
     "output_type": "display_data"
    },
    {
     "data": {
      "text/html": [
       "<div style='margin: 10px 0; width: 100%; display: flex; border: 1px solid #ddd; border-radius: 4px; background: #f8f9fa;'>\n",
       "    <div style=\"display: flex; flex-direction: column; width: 100%; border: 2px solid #bbb;\">\n",
       "        <!-- Header Row -->\n",
       "        <div style=\"display: flex; font-weight: bold; background: #d6d8db; padding: 8px; border-bottom: 2px solid #bbb;\">\n",
       "            <div style=\"width: 80px; text-align: center; border-right: 2px solid #bbb; display: flex; align-items: center; justify-content: center;\">Index</div>\n",
       "            <div style=\"width: 150px; text-align: center; border-right: 2px solid #bbb; display: flex; align-items: center; justify-content: center;\">Experiment ID</div>\n",
       "            <div style=\"flex: 1; text-align: center;\">Writeup</div>\n",
       "        </div>\n",
       "\n",
       "        <!-- Data Row -->\n",
       "        <div style=\"display: flex; padding: 8px; background: #f8f9fa;\">\n",
       "            <div style=\"width: 80px; text-align: center; border-right: 2px solid #ddd; font-weight: bold; display: flex; align-items: center; justify-content: center;\">\n",
       "                151\n",
       "            </div>\n",
       "            <div style=\"width: 150px; text-align: center; border-right: 2px solid #ddd; font-weight: bold; display: flex; align-items: center; justify-content: center;\">\n",
       "                239297\n",
       "            </div>\n",
       "            <div style=\"flex: 1; padding: 8px 12px; white-space: pre-wrap; overflow-wrap: break-word;\">\n",
       "                To a solution of 1-bromo-2-fluoro-3-nitrobenzene (2000.0 mg, 9.09 mmol)  and k2co3 (2512.91 mg, 18.18 mmol)  in dcm (20 ml)  was added methylamine solution 40% in water ( mg, <span style='background-color: yellow; color: black;'>?</span> mmol) , the reaction mixture was stirred at 25 °c  for 3 hours.  The reaction was monitored by lcms.  After completion, the reaction was poured into water, extracted with dcm, washed with brine, dries over na2so4, filtered and concentrated to dryness to afford 2-bromo-n-methyl-6-nitroaniline (2050 mg, 8.8725 mmol, 97.598% yield)  as a yellow liquid.\n",
       "            </div>\n",
       "        </div>\n",
       "    </div>\n",
       "    </div>"
      ],
      "text/plain": [
       "<IPython.core.display.HTML object>"
      ]
     },
     "metadata": {},
     "output_type": "display_data"
    },
    {
     "data": {
      "text/html": [
       "<div style='margin: 10px 0; width: 100%; display: flex; border: 1px solid #ddd; border-radius: 4px; background: #f8f9fa;'>\n",
       "    <div style=\"display: flex; flex-direction: column; width: 100%; border: 2px solid #bbb;\">\n",
       "        <!-- Header Row -->\n",
       "        <div style=\"display: flex; font-weight: bold; background: #d6d8db; padding: 8px; border-bottom: 2px solid #bbb;\">\n",
       "            <div style=\"width: 80px; text-align: center; border-right: 2px solid #bbb; display: flex; align-items: center; justify-content: center;\">Index</div>\n",
       "            <div style=\"width: 150px; text-align: center; border-right: 2px solid #bbb; display: flex; align-items: center; justify-content: center;\">Experiment ID</div>\n",
       "            <div style=\"flex: 1; text-align: center;\">Writeup</div>\n",
       "        </div>\n",
       "\n",
       "        <!-- Data Row -->\n",
       "        <div style=\"display: flex; padding: 8px; background: #f8f9fa;\">\n",
       "            <div style=\"width: 80px; text-align: center; border-right: 2px solid #ddd; font-weight: bold; display: flex; align-items: center; justify-content: center;\">\n",
       "                152\n",
       "            </div>\n",
       "            <div style=\"width: 150px; text-align: center; border-right: 2px solid #ddd; font-weight: bold; display: flex; align-items: center; justify-content: center;\">\n",
       "                239380\n",
       "            </div>\n",
       "            <div style=\"flex: 1; padding: 8px 12px; white-space: pre-wrap; overflow-wrap: break-word;\">\n",
       "                a mixture of 1-bromo-2-methoxy-3-nitrobenzene (​133.96 mg, ​0.58 mmol)​{{1080:uid 2}}_XXXXX_    ,CS2CO3 (​187.63 mg, ​0.58 mmol)​{{1080:uid 5}}_XXXXX_    ,ethyl 3-hydroxypiperidine-4-carboxylate (​100.0 mg, ​0.58 mmol)​{{1080:uid 1}}_XXXXX_    ,cui ( mg, <span style='background-color: yellow; color: black;'>?</span> mmol)  ,pd2(dba)3 (​52.83 mg, ​0.06 mmol)​{{1080:uid 3}}_XXXXX_  ,xtanphos (​66.74 mg, ​0.12 mmol)​{{1080:uid 4}}_XXXXX_    in 1,4-Dioxane (1 mL){{3:uid 1}}_XXXXX_   , then the mixture was stirred at 100°c for 16 under n2 atmosphere.  monitoring  lc-ms showed reactant 1 was consumed completely and no desired mass was detected.  work-up  the reaction was a small text without work-up  purification  the reaction was a small text without work-up  result  the reaction was a small text without work-up\n",
       "            </div>\n",
       "        </div>\n",
       "    </div>\n",
       "    </div>"
      ],
      "text/plain": [
       "<IPython.core.display.HTML object>"
      ]
     },
     "metadata": {},
     "output_type": "display_data"
    },
    {
     "data": {
      "text/html": [
       "<div style='margin: 10px 0; width: 100%; display: flex; border: 1px solid #ddd; border-radius: 4px; background: #f8f9fa;'>\n",
       "    <div style=\"display: flex; flex-direction: column; width: 100%; border: 2px solid #bbb;\">\n",
       "        <!-- Header Row -->\n",
       "        <div style=\"display: flex; font-weight: bold; background: #d6d8db; padding: 8px; border-bottom: 2px solid #bbb;\">\n",
       "            <div style=\"width: 80px; text-align: center; border-right: 2px solid #bbb; display: flex; align-items: center; justify-content: center;\">Index</div>\n",
       "            <div style=\"width: 150px; text-align: center; border-right: 2px solid #bbb; display: flex; align-items: center; justify-content: center;\">Experiment ID</div>\n",
       "            <div style=\"flex: 1; text-align: center;\">Writeup</div>\n",
       "        </div>\n",
       "\n",
       "        <!-- Data Row -->\n",
       "        <div style=\"display: flex; padding: 8px; background: #f8f9fa;\">\n",
       "            <div style=\"width: 80px; text-align: center; border-right: 2px solid #ddd; font-weight: bold; display: flex; align-items: center; justify-content: center;\">\n",
       "                153\n",
       "            </div>\n",
       "            <div style=\"width: 150px; text-align: center; border-right: 2px solid #ddd; font-weight: bold; display: flex; align-items: center; justify-content: center;\">\n",
       "                240666\n",
       "            </div>\n",
       "            <div style=\"flex: 1; padding: 8px 12px; white-space: pre-wrap; overflow-wrap: break-word;\">\n",
       "                a mixture of ethyl 3-hydroxypiperidine-4-carboxylate (​20.0 mg, ​0.12 mmol)​{{1080:uid 1}}_XXXXX_  ,1-bromo-2-methoxy-3-nitrobenzene (​26.79 mg, ​0.12 mmol)​{{1080:uid 2}}_XXXXX_  ,pd2(dba)3 (​21.13 mg, ​0.02 mmol)​{{1080:uid 3}}_XXXXX_  ,t-BuOk (​22.17 mg, ​0.23 mmol)​{{1080:uid 5}}_XXXXX_  ,xphons (​10.99 mg, ​0.02 mmol)​{{1080:uid 4}}_XXXXX_  ,cs2co3 (31.87 mg, 0.23 mmol) ,cui ( mg, <span style='background-color: yellow; color: black;'>?</span> mmol) , , in toluene (1 ml) , then the mixture was stirred at 100°c for 16 under n2 atmosphere.  monitoring  lc-ms showed reactant 1 was consumed completely and no desired mass was detected.  work-up  the reaction was a small text without work-up  purification  the reaction was a small text without work-up  result  the reaction was a small text without work-up\n",
       "            </div>\n",
       "        </div>\n",
       "    </div>\n",
       "    </div>"
      ],
      "text/plain": [
       "<IPython.core.display.HTML object>"
      ]
     },
     "metadata": {},
     "output_type": "display_data"
    },
    {
     "data": {
      "text/html": [
       "<div style='margin: 10px 0; width: 100%; display: flex; border: 1px solid #ddd; border-radius: 4px; background: #f8f9fa;'>\n",
       "    <div style=\"display: flex; flex-direction: column; width: 100%; border: 2px solid #bbb;\">\n",
       "        <!-- Header Row -->\n",
       "        <div style=\"display: flex; font-weight: bold; background: #d6d8db; padding: 8px; border-bottom: 2px solid #bbb;\">\n",
       "            <div style=\"width: 80px; text-align: center; border-right: 2px solid #bbb; display: flex; align-items: center; justify-content: center;\">Index</div>\n",
       "            <div style=\"width: 150px; text-align: center; border-right: 2px solid #bbb; display: flex; align-items: center; justify-content: center;\">Experiment ID</div>\n",
       "            <div style=\"flex: 1; text-align: center;\">Writeup</div>\n",
       "        </div>\n",
       "\n",
       "        <!-- Data Row -->\n",
       "        <div style=\"display: flex; padding: 8px; background: #f8f9fa;\">\n",
       "            <div style=\"width: 80px; text-align: center; border-right: 2px solid #ddd; font-weight: bold; display: flex; align-items: center; justify-content: center;\">\n",
       "                154\n",
       "            </div>\n",
       "            <div style=\"width: 150px; text-align: center; border-right: 2px solid #ddd; font-weight: bold; display: flex; align-items: center; justify-content: center;\">\n",
       "                240787\n",
       "            </div>\n",
       "            <div style=\"flex: 1; padding: 8px 12px; white-space: pre-wrap; overflow-wrap: break-word;\">\n",
       "                SME009-90  To a solution of Triphenylphosphine (6.77 g, 10.84 mmol){{9:uid 9}}_XXXXX_   (polymer based) in THF (60 mL){{3:uid 1}}_XXXXX_  was added diisopropyl azodicarboxylate (2.13 mL, 10.84 mmol){{9:uid 10}}_XXXXX_  dropwise. The mixture was stirred at rt for 10 min, to which was added 4-nitrobenzoic acid (1.57 g, 9.4 mmol){{9:uid 8}}_XXXXX_  . The mixture was stirred for 10 min, to which was added rac-(4R,6R)-12-chloro-6-(difluoromethyl)-2,8,10,11-tetrazatricyclo[7.4.0.02,6]trideca-1(9),10,12-trien-4-ol (2.0 g, 7.23 mmol){{9:uid 7}}_XXXXX_   (free base obtained from PRT8180). The mixture was stirred at rt for 1 h, then filtered and concentrated to give [(4S,6R)-12-chloro-6-(difluoromethyl)-2,8,10,11-tetrazatricyclo[7.4.0.02,6]trideca-1(9),10,12-trien-4-yl] 4-nitrobenzoate (<span style='background-color: yellow; color: black;'>?</span> mg, <span style='background-color: yellow; color: black;'>?</span> mmol, <span style='background-color: yellow; color: black;'>?</span>% yield){{2:uid 1}}_XXXXX_  . LCMS [M+H] 408.0.  To the intermediate was added Methanol (20 mL){{3:uid 2}}_XXXXX_  and  Potassium Carbonate (5.0 g, 36.14 mmol){{9:uid 11}}_XXXXX_  . The reaction was stirred at rt for 30 min, then poured into water (10 ml) and DCM (10 ml). The solid was collected by filtration, washed with DCM and dried to give (4S,6R)-12-chloro-6-(difluoromethyl)-2,8,10,11-tetrazatricyclo[7.4.0.02,6]trideca-1(9),10,12-trien-4-ol (<span style='background-color: yellow; color: black;'>?</span> mg, <span style='background-color: yellow; color: black;'>?</span> mmol, <span style='background-color: yellow; color: black;'>?</span>% yield){{2:uid 2}}_XXXXX_  . LCMS [M+H] 259.0.   =========================================  1. to a solution of triphenylphosphine (6.77 g, 10.84 mmol) in thf (60 ml) was added diisopropyl azodicarboxylate (2.13 ml, 10.84 mmol) dropwise. the mixture was stirred at rt for 10 min, to which was added 4-nitrobenzoic acid (1.57 g, 9.4 mmol) . the mixture was stirred for 10 min, to which was added rac-(4r,6r)-12-chloro-6-(difluoromethyl)-2,8,10,11-tetrazatricyclo[7.4.0.02,6]trideca-1(9),10,12-trien-4-ol (2.0 g, 7.23 mmol)  the mixture was stirred at rt for 1 h, then filtered and concentrated to give [(4s,6r)-12-chloro-6-(difluoromethyl)-2,8,10,11-tetrazatricyclo[7.4.0.02,6]trideca-1(9),10,12-trien-4-yl] 4-nitrobenzoate (<span style='background-color: yellow; color: black;'>?</span> mg, <span style='background-color: yellow; color: black;'>?</span> mmol, <span style='background-color: yellow; color: black;'>?</span>% yield) . as quant yield  2. the intermediate was added methanol (20 ml) and  potassium carbonate (5.0 g, 36.14 mmol) . the reaction was stirred at rt for 30 min.  3. Combine with 8-29-2nd and 8-30, the mixture then poured into water (10 ml) and dcm (10 ml). the solid was collected by filtration, washed with dcm and dried to give (4s,6r)-12-chloro-6-(difluoromethyl)-2,8,10,11-tetrazatricyclo[7.4.0.02,6]trideca-1(9),10,12-trien-4-ol (<span style='background-color: yellow; color: black;'>?</span> mg, <span style='background-color: yellow; color: black;'>?</span> mmol, <span style='background-color: yellow; color: black;'>?</span>% yield).  Note: there is A LOT OF PRODUCT in organic and aqueous phases.  Note: Filtrate/solid label was wrong in HPLC  4. The aqueous phase was washed by DCM/MeOH soln and the organic layers were combined with the previous step. the aqueous layer was blow-dried on N2 over the weekend.  5. The organic phase was concentrated and some product crushed out of the soln. filteration to afford some more product  Note: Filtrate/solid label was wrong in HPLC  6. To the filtrate was added hexane, some more solid crushed out, filtration to afford the solid, HPLC showed.  7. The resulted organic phase was concentrated. \n",
       "            </div>\n",
       "        </div>\n",
       "    </div>\n",
       "    </div>"
      ],
      "text/plain": [
       "<IPython.core.display.HTML object>"
      ]
     },
     "metadata": {},
     "output_type": "display_data"
    },
    {
     "data": {
      "text/html": [
       "<div style='margin: 10px 0; width: 100%; display: flex; border: 1px solid #ddd; border-radius: 4px; background: #f8f9fa;'>\n",
       "    <div style=\"display: flex; flex-direction: column; width: 100%; border: 2px solid #bbb;\">\n",
       "        <!-- Header Row -->\n",
       "        <div style=\"display: flex; font-weight: bold; background: #d6d8db; padding: 8px; border-bottom: 2px solid #bbb;\">\n",
       "            <div style=\"width: 80px; text-align: center; border-right: 2px solid #bbb; display: flex; align-items: center; justify-content: center;\">Index</div>\n",
       "            <div style=\"width: 150px; text-align: center; border-right: 2px solid #bbb; display: flex; align-items: center; justify-content: center;\">Experiment ID</div>\n",
       "            <div style=\"flex: 1; text-align: center;\">Writeup</div>\n",
       "        </div>\n",
       "\n",
       "        <!-- Data Row -->\n",
       "        <div style=\"display: flex; padding: 8px; background: #f8f9fa;\">\n",
       "            <div style=\"width: 80px; text-align: center; border-right: 2px solid #ddd; font-weight: bold; display: flex; align-items: center; justify-content: center;\">\n",
       "                155\n",
       "            </div>\n",
       "            <div style=\"width: 150px; text-align: center; border-right: 2px solid #ddd; font-weight: bold; display: flex; align-items: center; justify-content: center;\">\n",
       "                240885\n",
       "            </div>\n",
       "            <div style=\"flex: 1; padding: 8px 12px; white-space: pre-wrap; overflow-wrap: break-word;\">\n",
       "                To a solution of 4-[[(4S)-3-[6-[(1R)-1-[(6-chloro-2-methoxycarbonyl-3-pyridinyl)amino]ethyl]-4-methyl-2-pyridinyl]-2-oxo-1,3-oxazolidin-4-yl]methyl]benzoic acid (​20.0 mg, ​0.04 mmol)​{{1080:uid 1}}_XXXXX_  in DMF (1 mL){{3:uid 1}}_XXXXX_    was added O-Methylhydroxylamine hydrochloride (​6.36 mg, ​0.08 mmol)​{{1080:uid 2}}_XXXXX_   ,HATU (​21.73 mg, ​0.06 mmol)​{{1080:uid 3}}_XXXXX_   ,DIEA (​24.62 mg, ​0.19 mmol)​{{1080:uid 4}}_XXXXX_  .  The resulting mixture was stirred In the atmosphere of N2  at 25°C for 2 h.  4-[[(4S)-3-[6-[(1R)-1-[(6-chloro-2-methoxycarbonyl-3-pyridinyl)amino]ethyl]-4-methyl-2-pyridinyl]-2-oxo-1,3-oxazolidin-4-yl]methyl]benzoic acid (​20.0 mg, ​0.04 mmol)​{{1080:uid 1}}_XXXXX_  was consumed and the desired mass was  observed by LCMS.The mixture was diluted with water (20 ml) and extracted with etoac (10 ml x 3).  the combined organic layers were washed with brine (10 ml x 3), dried over sodium sulfate, filtered and the filtrate was concentrated under reduced pressure.  the residue was purified by silica gel column chromatography (100-200 mesh, 0-30% etoac in hexane(10% dcm)) to give  methyl 6-chloro-3-[[(1R)-1-[6-[(4S)-4-[[4-(hydroxycarbamoyl)phenyl]methyl]-2-oxo-1,3-oxazolidin-3-yl]-4-methyl-2-pyridinyl]ethyl]amino]pyridine-2-carboxylate (<span style='background-color: yellow; color: black;'>?</span> mg, 0.0467 mmol, 122.65% yield)   as a white soild.\n",
       "            </div>\n",
       "        </div>\n",
       "    </div>\n",
       "    </div>"
      ],
      "text/plain": [
       "<IPython.core.display.HTML object>"
      ]
     },
     "metadata": {},
     "output_type": "display_data"
    },
    {
     "data": {
      "text/html": [
       "<div style='margin: 10px 0; width: 100%; display: flex; border: 1px solid #ddd; border-radius: 4px; background: #f8f9fa;'>\n",
       "    <div style=\"display: flex; flex-direction: column; width: 100%; border: 2px solid #bbb;\">\n",
       "        <!-- Header Row -->\n",
       "        <div style=\"display: flex; font-weight: bold; background: #d6d8db; padding: 8px; border-bottom: 2px solid #bbb;\">\n",
       "            <div style=\"width: 80px; text-align: center; border-right: 2px solid #bbb; display: flex; align-items: center; justify-content: center;\">Index</div>\n",
       "            <div style=\"width: 150px; text-align: center; border-right: 2px solid #bbb; display: flex; align-items: center; justify-content: center;\">Experiment ID</div>\n",
       "            <div style=\"flex: 1; text-align: center;\">Writeup</div>\n",
       "        </div>\n",
       "\n",
       "        <!-- Data Row -->\n",
       "        <div style=\"display: flex; padding: 8px; background: #f8f9fa;\">\n",
       "            <div style=\"width: 80px; text-align: center; border-right: 2px solid #ddd; font-weight: bold; display: flex; align-items: center; justify-content: center;\">\n",
       "                156\n",
       "            </div>\n",
       "            <div style=\"width: 150px; text-align: center; border-right: 2px solid #ddd; font-weight: bold; display: flex; align-items: center; justify-content: center;\">\n",
       "                240888\n",
       "            </div>\n",
       "            <div style=\"flex: 1; padding: 8px 12px; white-space: pre-wrap; overflow-wrap: break-word;\">\n",
       "                To a solution of 4-[[(4S)-3-[6-[(1R)-1-[(6-chloro-2-methoxycarbonyl-3-pyridinyl)amino]ethyl]-4-methyl-2-pyridinyl]-2-oxo-1,3-oxazolidin-4-yl]methyl]benzoic acid (​100.0 mg, ​0.19 mmol)​{{1080:uid 1}}_XXXXX_  in DMF (1 mL){{3:uid 1}}_XXXXX_    was added O-Methylhydroxylamine hydrochloride (​31.82 mg, ​0.38 mmol)​{{1080:uid 2}}_XXXXX_   ,HATU (​108.65 mg, ​0.29 mmol)​{{1080:uid 3}}_XXXXX_   ,DIEA (​123.1 mg, ​0.95 mmol)​{{1080:uid 4}}_XXXXX_  .  The resulting mixture was stirred In the atmosphere of N2  at 25°C for 2 h.  4-[[(4S)-3-[6-[(1R)-1-[(6-chloro-2-methoxycarbonyl-3-pyridinyl)amino]ethyl]-4-methyl-2-pyridinyl]-2-oxo-1,3-oxazolidin-4-yl]methyl]benzoic acidwas consumed and the desired mass was  observed by LCMS.The mixture was diluted with water (20 ml) and extracted with etoac (10 ml x 3).  the combined organic layers were washed with brine (10 ml x 3), dried over sodium sulfate, filtered and the filtrate was concentrated under reduced pressure.  the residue was purified by silica gel column chromatography (100-200 mesh, 0-30% etoac in hexane(10% dcm)) to give  methyl 6-chloro-3-[[(1R)-1-[6-[(4S)-4-[[4-(hydroxycarbamoyl)phenyl]methyl]-2-oxo-1,3-oxazolidin-3-yl]-4-methyl-2-pyridinyl]ethyl]amino]pyridine-2-carboxylate (<span style='background-color: yellow; color: black;'>?</span> mg, 0.0467 mmol, 122.65% yield)   as a white soild.\n",
       "            </div>\n",
       "        </div>\n",
       "    </div>\n",
       "    </div>"
      ],
      "text/plain": [
       "<IPython.core.display.HTML object>"
      ]
     },
     "metadata": {},
     "output_type": "display_data"
    },
    {
     "data": {
      "text/html": [
       "<div style='margin: 10px 0; width: 100%; display: flex; border: 1px solid #ddd; border-radius: 4px; background: #f8f9fa;'>\n",
       "    <div style=\"display: flex; flex-direction: column; width: 100%; border: 2px solid #bbb;\">\n",
       "        <!-- Header Row -->\n",
       "        <div style=\"display: flex; font-weight: bold; background: #d6d8db; padding: 8px; border-bottom: 2px solid #bbb;\">\n",
       "            <div style=\"width: 80px; text-align: center; border-right: 2px solid #bbb; display: flex; align-items: center; justify-content: center;\">Index</div>\n",
       "            <div style=\"width: 150px; text-align: center; border-right: 2px solid #bbb; display: flex; align-items: center; justify-content: center;\">Experiment ID</div>\n",
       "            <div style=\"flex: 1; text-align: center;\">Writeup</div>\n",
       "        </div>\n",
       "\n",
       "        <!-- Data Row -->\n",
       "        <div style=\"display: flex; padding: 8px; background: #f8f9fa;\">\n",
       "            <div style=\"width: 80px; text-align: center; border-right: 2px solid #ddd; font-weight: bold; display: flex; align-items: center; justify-content: center;\">\n",
       "                157\n",
       "            </div>\n",
       "            <div style=\"width: 150px; text-align: center; border-right: 2px solid #ddd; font-weight: bold; display: flex; align-items: center; justify-content: center;\">\n",
       "                242757\n",
       "            </div>\n",
       "            <div style=\"flex: 1; padding: 8px 12px; white-space: pre-wrap; overflow-wrap: break-word;\">\n",
       "                A solution of methyl 2-[(4-bromo-2-nitrobenzoyl)-[[6-(dimethylcarbamoyl)-2-pyridinyl]methyl]amino]acetate (4.2 g, 8.76 mmol) in THF (40 mL) was added Na2S2O4 (7.63 g, 43.81 mmol) in Water (40 mL) at 0°C, followed by addition of Methanol (8 mL). The reaction was stirred at rt for 2h. The LC-MS showed full consumption of starting material. Two products were observed with same mass pattern (BIW019-42-1, HPLC, 4.3 min; BIW019-42-3, HPLC, 5.1 min.). These two products likely to be rotamers. The reaction mixture was poured into NaHCO3 solution and was extracted by ethyl acetate 3 times. It was found BIW019-42-2 all got into EA layer, while BIW019-42-1 remained in aqueous layer.  The aqeous layer was further extracted by chloroform/IPA (v/v=3/1) 6 times. The organic layers were dried over Na2SO4. The combined organic layer was was purified by silica gel column chromatography eluted by acetyl acetate/heptanes 40~100% followed by methanol/DCM 0~8% to give BIW019-42-1 methyl 2-[(2-amino-4-bromobenzoyl)-[[6-(dimethylcarbamoyl)-2-pyridinyl]methyl]amino]acetate (<span style='background-color: yellow; color: black;'>?</span> mg, <span style='background-color: yellow; color: black;'>?</span> mmol, <span style='background-color: yellow; color: black;'>?</span>% yield) as a yellow oil containing tetramethylurea as impurity and BIW019-42-3 methyl 2-[(2-amino-4-bromobenzoyl)-[[6-(dimethylcarbamoyl)pyridin-2-yl]methyl]amino]acetate (<span style='background-color: yellow; color: black;'>?</span> mg, <span style='background-color: yellow; color: black;'>?</span> mmol, <span style='background-color: yellow; color: black;'>?</span>% yield).  There are still some BIW019-42-2 left in aqeous layer, which its ester group got hydrolyzed overnight but after adjust its pH&lt; 1 by 4 N HCl (1d, rt), BIW019-42-2 (290 mg) was obtained after routine workup and purification. \n",
       "            </div>\n",
       "        </div>\n",
       "    </div>\n",
       "    </div>"
      ],
      "text/plain": [
       "<IPython.core.display.HTML object>"
      ]
     },
     "metadata": {},
     "output_type": "display_data"
    },
    {
     "data": {
      "text/html": [
       "<div style='margin: 10px 0; width: 100%; display: flex; border: 1px solid #ddd; border-radius: 4px; background: #f8f9fa;'>\n",
       "    <div style=\"display: flex; flex-direction: column; width: 100%; border: 2px solid #bbb;\">\n",
       "        <!-- Header Row -->\n",
       "        <div style=\"display: flex; font-weight: bold; background: #d6d8db; padding: 8px; border-bottom: 2px solid #bbb;\">\n",
       "            <div style=\"width: 80px; text-align: center; border-right: 2px solid #bbb; display: flex; align-items: center; justify-content: center;\">Index</div>\n",
       "            <div style=\"width: 150px; text-align: center; border-right: 2px solid #bbb; display: flex; align-items: center; justify-content: center;\">Experiment ID</div>\n",
       "            <div style=\"flex: 1; text-align: center;\">Writeup</div>\n",
       "        </div>\n",
       "\n",
       "        <!-- Data Row -->\n",
       "        <div style=\"display: flex; padding: 8px; background: #f8f9fa;\">\n",
       "            <div style=\"width: 80px; text-align: center; border-right: 2px solid #ddd; font-weight: bold; display: flex; align-items: center; justify-content: center;\">\n",
       "                158\n",
       "            </div>\n",
       "            <div style=\"width: 150px; text-align: center; border-right: 2px solid #ddd; font-weight: bold; display: flex; align-items: center; justify-content: center;\">\n",
       "                243064\n",
       "            </div>\n",
       "            <div style=\"flex: 1; padding: 8px 12px; white-space: pre-wrap; overflow-wrap: break-word;\">\n",
       "                (2S)-5-(carbamoylamino)-2-[[(2S)-2-[(2,5-dioxo-1-phenylpyrrolidin-3-yl)amino]-3-methylbutanoyl]amino]-N-[4-(hydroxymethyl)phenyl]pentanamide (<span style='background-color: yellow; color: black;'>?</span> mg, <span style='background-color: yellow; color: black;'>?</span> mmol, <span style='background-color: yellow; color: black;'>?</span>% yield)To a solution of (2S)-2-[[(2S)-2-amino-3-methylbutanoyl]amino]-5-(carbamoylamino)-N-[4-(hydroxymethyl)phenyl]pentanamide (​7.5 mg, ​0.02 mmol)​{{1080:uid 1}}_XXXXX_   in DMF (0.50 mL){{3:uid 1}}_XXXXX_   was added (2,5-dioxopyrrolidin-1-yl) 4-[(2,5-dioxopyrrol-1-yl)methyl]piperidine-1-carboxylate (​13.26 mg, ​0.04 mmol)​{{1080:uid 2}}_XXXXX_   followed by N-phenylmaleimide (​68.45 mg, ​0.4 mmol)​{{1080:uid 8}}_XXXXX_   and N,N-Diisopropylethylamine (​0.01 mL, ​0.06 mmol)​{{1080:uid 7}}_XXXXX_  . The resulting mixture was stirred at 60 °C{{1100:row 1}}_XXXXX_   for 1 h. LC-MS indicated trace formation of desired product. The major peak is (2S)-5-(carbamoylamino)-2-[[(2S)-2-[(2,5-dioxo-1-phenylpyrrolidin-3-yl)amino]-3-methylbutanoyl]amino]-N-[4-(hydroxymethyl)phenyl]pentanamide (<span style='background-color: yellow; color: black;'>?</span> mg, <span style='background-color: yellow; color: black;'>?</span> mmol, <span style='background-color: yellow; color: black;'>?</span>% yield){{2:uid 3}}_XXXXX_ . Reaction failed.     Note:  The proposed route, adding N-Phmaleimide to quench formed NHS did not work. Other urea formation condition will be tested. \n",
       "            </div>\n",
       "        </div>\n",
       "    </div>\n",
       "    </div>"
      ],
      "text/plain": [
       "<IPython.core.display.HTML object>"
      ]
     },
     "metadata": {},
     "output_type": "display_data"
    },
    {
     "data": {
      "text/html": [
       "<div style='margin: 10px 0; width: 100%; display: flex; border: 1px solid #ddd; border-radius: 4px; background: #f8f9fa;'>\n",
       "    <div style=\"display: flex; flex-direction: column; width: 100%; border: 2px solid #bbb;\">\n",
       "        <!-- Header Row -->\n",
       "        <div style=\"display: flex; font-weight: bold; background: #d6d8db; padding: 8px; border-bottom: 2px solid #bbb;\">\n",
       "            <div style=\"width: 80px; text-align: center; border-right: 2px solid #bbb; display: flex; align-items: center; justify-content: center;\">Index</div>\n",
       "            <div style=\"width: 150px; text-align: center; border-right: 2px solid #bbb; display: flex; align-items: center; justify-content: center;\">Experiment ID</div>\n",
       "            <div style=\"flex: 1; text-align: center;\">Writeup</div>\n",
       "        </div>\n",
       "\n",
       "        <!-- Data Row -->\n",
       "        <div style=\"display: flex; padding: 8px; background: #f8f9fa;\">\n",
       "            <div style=\"width: 80px; text-align: center; border-right: 2px solid #ddd; font-weight: bold; display: flex; align-items: center; justify-content: center;\">\n",
       "                159\n",
       "            </div>\n",
       "            <div style=\"width: 150px; text-align: center; border-right: 2px solid #ddd; font-weight: bold; display: flex; align-items: center; justify-content: center;\">\n",
       "                245935\n",
       "            </div>\n",
       "            <div style=\"flex: 1; padding: 8px 12px; white-space: pre-wrap; overflow-wrap: break-word;\">\n",
       "                Compound Code: PRT9751CAS# (if applicable):Lot #: FYI-02-158Chemical Formula: C43H44ClF2N9O5.3HClMolecular Weight (Free base): 840.33Physical Appearance: light yellow solidNMR (1H): Consistent with the structureMS (M+H+): 839.87; (Calculated: 840.31)Purity: 98.60% (HPLC)Water content (KF): 4.5%Retest date: 02/02/25   From Bo's emial on 02/15/2024 We have 20.3 g of this compound as of 02152024 We received another ~23 g from Affinity Shanthi(<span style='background-color: yellow; color: black;'>?</span>) asked for 40 g of material Bo used some for freebasing the last portion was submitted to CM for J Rager's study. We dont have this compound anymore (in the process lab at least) as of 03062024\n",
       "            </div>\n",
       "        </div>\n",
       "    </div>\n",
       "    </div>"
      ],
      "text/plain": [
       "<IPython.core.display.HTML object>"
      ]
     },
     "metadata": {},
     "output_type": "display_data"
    },
    {
     "data": {
      "text/html": [
       "<div style='margin: 10px 0; width: 100%; display: flex; border: 1px solid #ddd; border-radius: 4px; background: #f8f9fa;'>\n",
       "    <div style=\"display: flex; flex-direction: column; width: 100%; border: 2px solid #bbb;\">\n",
       "        <!-- Header Row -->\n",
       "        <div style=\"display: flex; font-weight: bold; background: #d6d8db; padding: 8px; border-bottom: 2px solid #bbb;\">\n",
       "            <div style=\"width: 80px; text-align: center; border-right: 2px solid #bbb; display: flex; align-items: center; justify-content: center;\">Index</div>\n",
       "            <div style=\"width: 150px; text-align: center; border-right: 2px solid #bbb; display: flex; align-items: center; justify-content: center;\">Experiment ID</div>\n",
       "            <div style=\"flex: 1; text-align: center;\">Writeup</div>\n",
       "        </div>\n",
       "\n",
       "        <!-- Data Row -->\n",
       "        <div style=\"display: flex; padding: 8px; background: #f8f9fa;\">\n",
       "            <div style=\"width: 80px; text-align: center; border-right: 2px solid #ddd; font-weight: bold; display: flex; align-items: center; justify-content: center;\">\n",
       "                160\n",
       "            </div>\n",
       "            <div style=\"width: 150px; text-align: center; border-right: 2px solid #ddd; font-weight: bold; display: flex; align-items: center; justify-content: center;\">\n",
       "                246609\n",
       "            </div>\n",
       "            <div style=\"flex: 1; padding: 8px 12px; white-space: pre-wrap; overflow-wrap: break-word;\">\n",
       "                The solution of tert-butyl 4-[3-oxo-2-[rac-(3R)-1-[[[2-(9H-fluoren-9-ylmethoxycarbonylamino)acetyl]amino]methyl]-2,6-dioxopiperidin-3-yl]-1H-isoindol-5-yl]piperazine-1-carboxylate (0.2 mg, 0. mmol)  inDMSO (0.2 mL, <span style='background-color: yellow; color: black;'>?</span> mmol)  and K Phosphate buffer 0.1M pH=7.4 (0.8 mL, 0. mmol)  was stirred at rt   1h  2h    5h    22h  26h    The compound is quite stable.  \n",
       "            </div>\n",
       "        </div>\n",
       "    </div>\n",
       "    </div>"
      ],
      "text/plain": [
       "<IPython.core.display.HTML object>"
      ]
     },
     "metadata": {},
     "output_type": "display_data"
    },
    {
     "data": {
      "text/html": [
       "<div style='margin: 10px 0; width: 100%; display: flex; border: 1px solid #ddd; border-radius: 4px; background: #f8f9fa;'>\n",
       "    <div style=\"display: flex; flex-direction: column; width: 100%; border: 2px solid #bbb;\">\n",
       "        <!-- Header Row -->\n",
       "        <div style=\"display: flex; font-weight: bold; background: #d6d8db; padding: 8px; border-bottom: 2px solid #bbb;\">\n",
       "            <div style=\"width: 80px; text-align: center; border-right: 2px solid #bbb; display: flex; align-items: center; justify-content: center;\">Index</div>\n",
       "            <div style=\"width: 150px; text-align: center; border-right: 2px solid #bbb; display: flex; align-items: center; justify-content: center;\">Experiment ID</div>\n",
       "            <div style=\"flex: 1; text-align: center;\">Writeup</div>\n",
       "        </div>\n",
       "\n",
       "        <!-- Data Row -->\n",
       "        <div style=\"display: flex; padding: 8px; background: #f8f9fa;\">\n",
       "            <div style=\"width: 80px; text-align: center; border-right: 2px solid #ddd; font-weight: bold; display: flex; align-items: center; justify-content: center;\">\n",
       "                161\n",
       "            </div>\n",
       "            <div style=\"width: 150px; text-align: center; border-right: 2px solid #ddd; font-weight: bold; display: flex; align-items: center; justify-content: center;\">\n",
       "                247426\n",
       "            </div>\n",
       "            <div style=\"flex: 1; padding: 8px 12px; white-space: pre-wrap; overflow-wrap: break-word;\">\n",
       "                To a solution of 1-Bromo-2-chloroethane (​0.07 mL, ​0.88 mmol)​{{1080:uid 2}}_XXXXX_   inDMSO (10 mL) was added methyl 4-bromo-2-(cyanomethyl)-6-fluorobenzoate (​150.0 mg, ​0.55 mmol)​{{1080:uid 1}}_XXXXX_    . The mixture was purged with N2 three times and then to the mixture was added NaH (​55.13 mg, ​1.38 mmol)​{{1080:uid 3}}_XXXXX_   at 25°C. The resulting mixture was stirred at 25°C for 5 h. The reaction mixture was poured into a saturated solution of NH4Cl. The mixture was extracted with EA . The combined organic layer was washed with brine, dried over Na2SO4, and concentrated under reduced pressure to give a residue. The residue was purified by trituration with hexane: EtOAc=5:1 to afford tmethyl 4-bromo-2-(1-cyanocyclopropyl)-6-fluorobenzoate (<span style='background-color: yellow; color: black;'>?</span> mg, <span style='background-color: yellow; color: black;'>?</span> mmol, <span style='background-color: yellow; color: black;'>?</span>% yield) as a white solid.\n",
       "            </div>\n",
       "        </div>\n",
       "    </div>\n",
       "    </div>"
      ],
      "text/plain": [
       "<IPython.core.display.HTML object>"
      ]
     },
     "metadata": {},
     "output_type": "display_data"
    },
    {
     "data": {
      "text/html": [
       "<div style='margin: 10px 0; width: 100%; display: flex; border: 1px solid #ddd; border-radius: 4px; background: #f8f9fa;'>\n",
       "    <div style=\"display: flex; flex-direction: column; width: 100%; border: 2px solid #bbb;\">\n",
       "        <!-- Header Row -->\n",
       "        <div style=\"display: flex; font-weight: bold; background: #d6d8db; padding: 8px; border-bottom: 2px solid #bbb;\">\n",
       "            <div style=\"width: 80px; text-align: center; border-right: 2px solid #bbb; display: flex; align-items: center; justify-content: center;\">Index</div>\n",
       "            <div style=\"width: 150px; text-align: center; border-right: 2px solid #bbb; display: flex; align-items: center; justify-content: center;\">Experiment ID</div>\n",
       "            <div style=\"flex: 1; text-align: center;\">Writeup</div>\n",
       "        </div>\n",
       "\n",
       "        <!-- Data Row -->\n",
       "        <div style=\"display: flex; padding: 8px; background: #f8f9fa;\">\n",
       "            <div style=\"width: 80px; text-align: center; border-right: 2px solid #ddd; font-weight: bold; display: flex; align-items: center; justify-content: center;\">\n",
       "                162\n",
       "            </div>\n",
       "            <div style=\"width: 150px; text-align: center; border-right: 2px solid #ddd; font-weight: bold; display: flex; align-items: center; justify-content: center;\">\n",
       "                247948\n",
       "            </div>\n",
       "            <div style=\"flex: 1; padding: 8px 12px; white-space: pre-wrap; overflow-wrap: break-word;\">\n",
       "                To a solution of di-tert-butyl 13-(4-((1-amino-6-((4-(((8-((1-(2-((5-((2S)-1-((2R,4S)-4-hydroxy-2-((1-(4-(4-methylthiazol-5-yl)phenyl)ethyl)carbamoyl)pyrrolidin-1-yl)-3-methyl-1-oxobutan-2-yl)isoxazol-3-yl)oxy)ethyl)piperidin-4-yl)methyl)-2-(2-hydroxyphenyl)-6,6a,7,8,9,10-hexahydro-5H-pyrazino[1',2':4,5]pyrazino[2,3-c]pyridazine-5-carbonyl)oxy)methyl)phenyl)carbamoyl)-9-isopropyl-1,8,11-trioxo-14,17,20,23,26,29,32,35-octaoxa-2,7,10-triazaheptatriacontan-37-yl)amino)-6-(2-(2-((tert-butoxycarbonyl)amino)ethoxy)ethoxy)-1,3,5-triazin-2-yl)-4,7,10,16,19,22-hexaoxa-13-azapentacosanedioate (23.3 mg, 0.01 mmol) in IPA (1 mL) was added HCl (1.0 mL, <span style='background-color: yellow; color: black;'>?</span> mmol) at rt. The resulting mixture was stirred at rt for 30 min. UPLC-MS confirmed the consumption of the SM and the formation of the desired product. To the mixture water (1 mL) was added. The crude was directly purified by prep-HPLC on a C18 column (MeCN/Water 10 to 50% with 0.05% TFA) to afford 13-(4-((1-amino-6-((4-(((8-((1-(2-((5-((2S)-1-((2R,4S)-4-hydroxy-2-((1-(4-(4-methylthiazol-5-yl)phenyl)ethyl)carbamoyl)pyrrolidin-1-yl)-3-methyl-1-oxobutan-2-yl)isoxazol-3-yl)oxy)ethyl)piperidin-4-yl)methyl)-2-(2-hydroxyphenyl)-6,6a,7,8,9,10-hexahydro-5H-pyrazino[1',2':4,5]pyrazino[2,3-c]pyridazine-5-carbonyl)oxy)methyl)phenyl)carbamoyl)-9-isopropyl-1,8,11-trioxo-14,17,20,23,26,29,32,35-octaoxa-2,7,10-triazaheptatriacontan-37-yl)amino)-6-(2-(2-aminoethoxy)ethoxy)-1,3,5-triazin-2-yl)-4,7,10,16,19,22-hexaoxa-13-azapentacosanedioic acid (<span style='background-color: yellow; color: black;'>?</span> mg, <span style='background-color: yellow; color: black;'>?</span> mmol, <span style='background-color: yellow; color: black;'>?</span>% yield), a white solid.\n",
       "            </div>\n",
       "        </div>\n",
       "    </div>\n",
       "    </div>"
      ],
      "text/plain": [
       "<IPython.core.display.HTML object>"
      ]
     },
     "metadata": {},
     "output_type": "display_data"
    },
    {
     "data": {
      "text/html": [
       "<div style='margin: 10px 0; width: 100%; display: flex; border: 1px solid #ddd; border-radius: 4px; background: #f8f9fa;'>\n",
       "    <div style=\"display: flex; flex-direction: column; width: 100%; border: 2px solid #bbb;\">\n",
       "        <!-- Header Row -->\n",
       "        <div style=\"display: flex; font-weight: bold; background: #d6d8db; padding: 8px; border-bottom: 2px solid #bbb;\">\n",
       "            <div style=\"width: 80px; text-align: center; border-right: 2px solid #bbb; display: flex; align-items: center; justify-content: center;\">Index</div>\n",
       "            <div style=\"width: 150px; text-align: center; border-right: 2px solid #bbb; display: flex; align-items: center; justify-content: center;\">Experiment ID</div>\n",
       "            <div style=\"flex: 1; text-align: center;\">Writeup</div>\n",
       "        </div>\n",
       "\n",
       "        <!-- Data Row -->\n",
       "        <div style=\"display: flex; padding: 8px; background: #f8f9fa;\">\n",
       "            <div style=\"width: 80px; text-align: center; border-right: 2px solid #ddd; font-weight: bold; display: flex; align-items: center; justify-content: center;\">\n",
       "                163\n",
       "            </div>\n",
       "            <div style=\"width: 150px; text-align: center; border-right: 2px solid #ddd; font-weight: bold; display: flex; align-items: center; justify-content: center;\">\n",
       "                251519\n",
       "            </div>\n",
       "            <div style=\"flex: 1; padding: 8px 12px; white-space: pre-wrap; overflow-wrap: break-word;\">\n",
       "                Standard Controls Apply: Lab coats, gloves and safety specs are to be worn at all times. All experiments should be performed in a fumehood. 05/15/24 4 mL vial, added SM and dcm Added pyr and finally acyl Cl stirred overnight 05/16/24 no pdt, added another portion of Ghochez (<span style='background-color: yellow; color: black;'>?</span>) reagent to the acid and stirred 2 hours, then added 200 uL to this reaction with 50 uL pyr stirred overnight 06/17/24 good conversion to idk what purified on prep  lyophilized to yield product as a fluffy white powder     Submission: V126894 = 5.0168g = 2.3 mg M+1: 687.2 Purity: 89.99%      \n",
       "            </div>\n",
       "        </div>\n",
       "    </div>\n",
       "    </div>"
      ],
      "text/plain": [
       "<IPython.core.display.HTML object>"
      ]
     },
     "metadata": {},
     "output_type": "display_data"
    },
    {
     "data": {
      "text/html": [
       "<div style='margin: 10px 0; width: 100%; display: flex; border: 1px solid #ddd; border-radius: 4px; background: #f8f9fa;'>\n",
       "    <div style=\"display: flex; flex-direction: column; width: 100%; border: 2px solid #bbb;\">\n",
       "        <!-- Header Row -->\n",
       "        <div style=\"display: flex; font-weight: bold; background: #d6d8db; padding: 8px; border-bottom: 2px solid #bbb;\">\n",
       "            <div style=\"width: 80px; text-align: center; border-right: 2px solid #bbb; display: flex; align-items: center; justify-content: center;\">Index</div>\n",
       "            <div style=\"width: 150px; text-align: center; border-right: 2px solid #bbb; display: flex; align-items: center; justify-content: center;\">Experiment ID</div>\n",
       "            <div style=\"flex: 1; text-align: center;\">Writeup</div>\n",
       "        </div>\n",
       "\n",
       "        <!-- Data Row -->\n",
       "        <div style=\"display: flex; padding: 8px; background: #f8f9fa;\">\n",
       "            <div style=\"width: 80px; text-align: center; border-right: 2px solid #ddd; font-weight: bold; display: flex; align-items: center; justify-content: center;\">\n",
       "                164\n",
       "            </div>\n",
       "            <div style=\"width: 150px; text-align: center; border-right: 2px solid #ddd; font-weight: bold; display: flex; align-items: center; justify-content: center;\">\n",
       "                251915\n",
       "            </div>\n",
       "            <div style=\"flex: 1; padding: 8px 12px; white-space: pre-wrap; overflow-wrap: break-word;\">\n",
       "                Compound Code: PRT9751CAS# (if applicable):Lot #: FYI-02-158Chemical Formula: C43H44ClF2N9O5.3HClMolecular Weight (Free base): 840.33Physical Appearance: light yellow solidNMR (1H): Consistent with the structureMS (M+H+): 839.87; (Calculated: 840.31)Purity: 98.60% (HPLC)Water content (KF): 4.5%Retest date: 02/02/25   From Bo's emial on 02/15/2024 We have 20.3 g of this compound as of 02152024 We received another ~23 g from Affinity Shanthi(<span style='background-color: yellow; color: black;'>?</span>) asked for 40 g of material Bo used some for freebasing the last portion was submitted to CM for J Rager's study. We dont have this compound anymore (in the process lab at least) as of 03062024\n",
       "            </div>\n",
       "        </div>\n",
       "    </div>\n",
       "    </div>"
      ],
      "text/plain": [
       "<IPython.core.display.HTML object>"
      ]
     },
     "metadata": {},
     "output_type": "display_data"
    },
    {
     "data": {
      "text/html": [
       "<div style='margin: 10px 0; width: 100%; display: flex; border: 1px solid #ddd; border-radius: 4px; background: #f8f9fa;'>\n",
       "    <div style=\"display: flex; flex-direction: column; width: 100%; border: 2px solid #bbb;\">\n",
       "        <!-- Header Row -->\n",
       "        <div style=\"display: flex; font-weight: bold; background: #d6d8db; padding: 8px; border-bottom: 2px solid #bbb;\">\n",
       "            <div style=\"width: 80px; text-align: center; border-right: 2px solid #bbb; display: flex; align-items: center; justify-content: center;\">Index</div>\n",
       "            <div style=\"width: 150px; text-align: center; border-right: 2px solid #bbb; display: flex; align-items: center; justify-content: center;\">Experiment ID</div>\n",
       "            <div style=\"flex: 1; text-align: center;\">Writeup</div>\n",
       "        </div>\n",
       "\n",
       "        <!-- Data Row -->\n",
       "        <div style=\"display: flex; padding: 8px; background: #f8f9fa;\">\n",
       "            <div style=\"width: 80px; text-align: center; border-right: 2px solid #ddd; font-weight: bold; display: flex; align-items: center; justify-content: center;\">\n",
       "                165\n",
       "            </div>\n",
       "            <div style=\"width: 150px; text-align: center; border-right: 2px solid #ddd; font-weight: bold; display: flex; align-items: center; justify-content: center;\">\n",
       "                251916\n",
       "            </div>\n",
       "            <div style=\"flex: 1; padding: 8px 12px; white-space: pre-wrap; overflow-wrap: break-word;\">\n",
       "                Compound Code: PRT9751CAS# (if applicable):Lot #: FYI-02-158Chemical Formula: C43H44ClF2N9O5.3HClMolecular Weight (Free base): 840.33Physical Appearance: light yellow solidNMR (1H): Consistent with the structureMS (M+H+): 839.87; (Calculated: 840.31)Purity: 98.60% (HPLC)Water content (KF): 4.5%Retest date: 02/02/25   From Bo's emial on 02/15/2024 We have 20.3 g of this compound as of 02152024 We received another ~23 g from Affinity Shanthi(<span style='background-color: yellow; color: black;'>?</span>) asked for 40 g of material Bo used some for freebasing the last portion was submitted to CM for J Rager's study. We dont have this compound anymore (in the process lab at least) as of 03062024\n",
       "            </div>\n",
       "        </div>\n",
       "    </div>\n",
       "    </div>"
      ],
      "text/plain": [
       "<IPython.core.display.HTML object>"
      ]
     },
     "metadata": {},
     "output_type": "display_data"
    },
    {
     "data": {
      "text/html": [
       "<div style='margin: 10px 0; width: 100%; display: flex; border: 1px solid #ddd; border-radius: 4px; background: #f8f9fa;'>\n",
       "    <div style=\"display: flex; flex-direction: column; width: 100%; border: 2px solid #bbb;\">\n",
       "        <!-- Header Row -->\n",
       "        <div style=\"display: flex; font-weight: bold; background: #d6d8db; padding: 8px; border-bottom: 2px solid #bbb;\">\n",
       "            <div style=\"width: 80px; text-align: center; border-right: 2px solid #bbb; display: flex; align-items: center; justify-content: center;\">Index</div>\n",
       "            <div style=\"width: 150px; text-align: center; border-right: 2px solid #bbb; display: flex; align-items: center; justify-content: center;\">Experiment ID</div>\n",
       "            <div style=\"flex: 1; text-align: center;\">Writeup</div>\n",
       "        </div>\n",
       "\n",
       "        <!-- Data Row -->\n",
       "        <div style=\"display: flex; padding: 8px; background: #f8f9fa;\">\n",
       "            <div style=\"width: 80px; text-align: center; border-right: 2px solid #ddd; font-weight: bold; display: flex; align-items: center; justify-content: center;\">\n",
       "                166\n",
       "            </div>\n",
       "            <div style=\"width: 150px; text-align: center; border-right: 2px solid #ddd; font-weight: bold; display: flex; align-items: center; justify-content: center;\">\n",
       "                251917\n",
       "            </div>\n",
       "            <div style=\"flex: 1; padding: 8px 12px; white-space: pre-wrap; overflow-wrap: break-word;\">\n",
       "                Compound Code: PRT9751CAS# (if applicable):Lot #: FYI-02-158Chemical Formula: C43H44ClF2N9O5.3HClMolecular Weight (Free base): 840.33Physical Appearance: light yellow solidNMR (1H): Consistent with the structureMS (M+H+): 839.87; (Calculated: 840.31)Purity: 98.60% (HPLC)Water content (KF): 4.5%Retest date: 02/02/25   From Bo's emial on 02/15/2024 We have 20.3 g of this compound as of 02152024 We received another ~23 g from Affinity Shanthi(<span style='background-color: yellow; color: black;'>?</span>) asked for 40 g of material Bo used some for freebasing the last portion was submitted to CM for J Rager's study. We dont have this compound anymore (in the process lab at least) as of 03062024\n",
       "            </div>\n",
       "        </div>\n",
       "    </div>\n",
       "    </div>"
      ],
      "text/plain": [
       "<IPython.core.display.HTML object>"
      ]
     },
     "metadata": {},
     "output_type": "display_data"
    },
    {
     "data": {
      "text/html": [
       "<div style='margin: 10px 0; width: 100%; display: flex; border: 1px solid #ddd; border-radius: 4px; background: #f8f9fa;'>\n",
       "    <div style=\"display: flex; flex-direction: column; width: 100%; border: 2px solid #bbb;\">\n",
       "        <!-- Header Row -->\n",
       "        <div style=\"display: flex; font-weight: bold; background: #d6d8db; padding: 8px; border-bottom: 2px solid #bbb;\">\n",
       "            <div style=\"width: 80px; text-align: center; border-right: 2px solid #bbb; display: flex; align-items: center; justify-content: center;\">Index</div>\n",
       "            <div style=\"width: 150px; text-align: center; border-right: 2px solid #bbb; display: flex; align-items: center; justify-content: center;\">Experiment ID</div>\n",
       "            <div style=\"flex: 1; text-align: center;\">Writeup</div>\n",
       "        </div>\n",
       "\n",
       "        <!-- Data Row -->\n",
       "        <div style=\"display: flex; padding: 8px; background: #f8f9fa;\">\n",
       "            <div style=\"width: 80px; text-align: center; border-right: 2px solid #ddd; font-weight: bold; display: flex; align-items: center; justify-content: center;\">\n",
       "                167\n",
       "            </div>\n",
       "            <div style=\"width: 150px; text-align: center; border-right: 2px solid #ddd; font-weight: bold; display: flex; align-items: center; justify-content: center;\">\n",
       "                251918\n",
       "            </div>\n",
       "            <div style=\"flex: 1; padding: 8px 12px; white-space: pre-wrap; overflow-wrap: break-word;\">\n",
       "                Compound Code: PRT9751CAS# (if applicable):Lot #: FYI-02-158Chemical Formula: C43H44ClF2N9O5.3HClMolecular Weight (Free base): 840.33Physical Appearance: light yellow solidNMR (1H): Consistent with the structureMS (M+H+): 839.87; (Calculated: 840.31)Purity: 98.60% (HPLC)Water content (KF): 4.5%Retest date: 02/02/25   From Bo's emial on 02/15/2024 We have 20.3 g of this compound as of 02152024 We received another ~23 g from Affinity Shanthi(<span style='background-color: yellow; color: black;'>?</span>) asked for 40 g of material Bo used some for freebasing the last portion was submitted to CM for J Rager's study. We dont have this compound anymore (in the process lab at least) as of 03062024\n",
       "            </div>\n",
       "        </div>\n",
       "    </div>\n",
       "    </div>"
      ],
      "text/plain": [
       "<IPython.core.display.HTML object>"
      ]
     },
     "metadata": {},
     "output_type": "display_data"
    },
    {
     "data": {
      "text/html": [
       "<div style='margin: 10px 0; width: 100%; display: flex; border: 1px solid #ddd; border-radius: 4px; background: #f8f9fa;'>\n",
       "    <div style=\"display: flex; flex-direction: column; width: 100%; border: 2px solid #bbb;\">\n",
       "        <!-- Header Row -->\n",
       "        <div style=\"display: flex; font-weight: bold; background: #d6d8db; padding: 8px; border-bottom: 2px solid #bbb;\">\n",
       "            <div style=\"width: 80px; text-align: center; border-right: 2px solid #bbb; display: flex; align-items: center; justify-content: center;\">Index</div>\n",
       "            <div style=\"width: 150px; text-align: center; border-right: 2px solid #bbb; display: flex; align-items: center; justify-content: center;\">Experiment ID</div>\n",
       "            <div style=\"flex: 1; text-align: center;\">Writeup</div>\n",
       "        </div>\n",
       "\n",
       "        <!-- Data Row -->\n",
       "        <div style=\"display: flex; padding: 8px; background: #f8f9fa;\">\n",
       "            <div style=\"width: 80px; text-align: center; border-right: 2px solid #ddd; font-weight: bold; display: flex; align-items: center; justify-content: center;\">\n",
       "                168\n",
       "            </div>\n",
       "            <div style=\"width: 150px; text-align: center; border-right: 2px solid #ddd; font-weight: bold; display: flex; align-items: center; justify-content: center;\">\n",
       "                251919\n",
       "            </div>\n",
       "            <div style=\"flex: 1; padding: 8px 12px; white-space: pre-wrap; overflow-wrap: break-word;\">\n",
       "                Compound Code: PRT9751CAS# (if applicable):Lot #: FYI-02-158Chemical Formula: C43H44ClF2N9O5.3HClMolecular Weight (Free base): 840.33Physical Appearance: light yellow solidNMR (1H): Consistent with the structureMS (M+H+): 839.87; (Calculated: 840.31)Purity: 98.60% (HPLC)Water content (KF): 4.5%Retest date: 02/02/25   From Bo's emial on 02/15/2024 We have 20.3 g of this compound as of 02152024 We received another ~23 g from Affinity Shanthi(<span style='background-color: yellow; color: black;'>?</span>) asked for 40 g of material Bo used some for freebasing the last portion was submitted to CM for J Rager's study. We dont have this compound anymore (in the process lab at least) as of 03062024\n",
       "            </div>\n",
       "        </div>\n",
       "    </div>\n",
       "    </div>"
      ],
      "text/plain": [
       "<IPython.core.display.HTML object>"
      ]
     },
     "metadata": {},
     "output_type": "display_data"
    },
    {
     "data": {
      "text/html": [
       "<div style='margin: 10px 0; width: 100%; display: flex; border: 1px solid #ddd; border-radius: 4px; background: #f8f9fa;'>\n",
       "    <div style=\"display: flex; flex-direction: column; width: 100%; border: 2px solid #bbb;\">\n",
       "        <!-- Header Row -->\n",
       "        <div style=\"display: flex; font-weight: bold; background: #d6d8db; padding: 8px; border-bottom: 2px solid #bbb;\">\n",
       "            <div style=\"width: 80px; text-align: center; border-right: 2px solid #bbb; display: flex; align-items: center; justify-content: center;\">Index</div>\n",
       "            <div style=\"width: 150px; text-align: center; border-right: 2px solid #bbb; display: flex; align-items: center; justify-content: center;\">Experiment ID</div>\n",
       "            <div style=\"flex: 1; text-align: center;\">Writeup</div>\n",
       "        </div>\n",
       "\n",
       "        <!-- Data Row -->\n",
       "        <div style=\"display: flex; padding: 8px; background: #f8f9fa;\">\n",
       "            <div style=\"width: 80px; text-align: center; border-right: 2px solid #ddd; font-weight: bold; display: flex; align-items: center; justify-content: center;\">\n",
       "                169\n",
       "            </div>\n",
       "            <div style=\"width: 150px; text-align: center; border-right: 2px solid #ddd; font-weight: bold; display: flex; align-items: center; justify-content: center;\">\n",
       "                251920\n",
       "            </div>\n",
       "            <div style=\"flex: 1; padding: 8px 12px; white-space: pre-wrap; overflow-wrap: break-word;\">\n",
       "                Compound Code: PRT9751CAS# (if applicable):Lot #: FYI-02-158Chemical Formula: C43H44ClF2N9O5.3HClMolecular Weight (Free base): 840.33Physical Appearance: light yellow solidNMR (1H): Consistent with the structureMS (M+H+): 839.87; (Calculated: 840.31)Purity: 98.60% (HPLC)Water content (KF): 4.5%Retest date: 02/02/25   From Bo's emial on 02/15/2024 We have 20.3 g of this compound as of 02152024 We received another ~23 g from Affinity Shanthi(<span style='background-color: yellow; color: black;'>?</span>) asked for 40 g of material Bo used some for freebasing the last portion was submitted to CM for J Rager's study. We dont have this compound anymore (in the process lab at least) as of 03062024\n",
       "            </div>\n",
       "        </div>\n",
       "    </div>\n",
       "    </div>"
      ],
      "text/plain": [
       "<IPython.core.display.HTML object>"
      ]
     },
     "metadata": {},
     "output_type": "display_data"
    },
    {
     "data": {
      "text/html": [
       "<div style='margin: 10px 0; width: 100%; display: flex; border: 1px solid #ddd; border-radius: 4px; background: #f8f9fa;'>\n",
       "    <div style=\"display: flex; flex-direction: column; width: 100%; border: 2px solid #bbb;\">\n",
       "        <!-- Header Row -->\n",
       "        <div style=\"display: flex; font-weight: bold; background: #d6d8db; padding: 8px; border-bottom: 2px solid #bbb;\">\n",
       "            <div style=\"width: 80px; text-align: center; border-right: 2px solid #bbb; display: flex; align-items: center; justify-content: center;\">Index</div>\n",
       "            <div style=\"width: 150px; text-align: center; border-right: 2px solid #bbb; display: flex; align-items: center; justify-content: center;\">Experiment ID</div>\n",
       "            <div style=\"flex: 1; text-align: center;\">Writeup</div>\n",
       "        </div>\n",
       "\n",
       "        <!-- Data Row -->\n",
       "        <div style=\"display: flex; padding: 8px; background: #f8f9fa;\">\n",
       "            <div style=\"width: 80px; text-align: center; border-right: 2px solid #ddd; font-weight: bold; display: flex; align-items: center; justify-content: center;\">\n",
       "                170\n",
       "            </div>\n",
       "            <div style=\"width: 150px; text-align: center; border-right: 2px solid #ddd; font-weight: bold; display: flex; align-items: center; justify-content: center;\">\n",
       "                252772\n",
       "            </div>\n",
       "            <div style=\"flex: 1; padding: 8px 12px; white-space: pre-wrap; overflow-wrap: break-word;\">\n",
       "                To a solution of N-[8-(3-bromo-2-methoxyanilino)imidazo[1,2-b]pyridazin-6-yl]-1-(trifluoromethyl)cyclopropane-1-carboxamide (​40.0 mg, ​0.09 mmol)​{{1080:uid 1}}_XXXXX_  , Tetrahydroxydiboron (​15.25 mg, ​0.17 mmol)​{{1080:uid 2}}_XXXXX_   in Methanol (0.30 mL)  and Ethylene glycol (0.2 mL, <span style='background-color: yellow; color: black;'>?</span> mmol)  was added KOAc (​25.04 mg, ​0.26 mmol)​{{1080:uid 4}}_XXXXX_  , after stirred at 0 °C  for 15 minutes under N2, P(tBu)3 Pd G2 (​4.36 mg, ​0.01 mmol)​{{1080:uid 3}}_XXXXX_  was added, the reaction mixture was stirred at 0 °C  for 0.5 hours under N2. The reaction was monitored by LCMS. After completion, HN4Cl aq was added, extracted with DCM, washed with brine, dried over Na2SO4, filtered and concentrated to dryness to afford the crude product which was used directly.  \n",
       "            </div>\n",
       "        </div>\n",
       "    </div>\n",
       "    </div>"
      ],
      "text/plain": [
       "<IPython.core.display.HTML object>"
      ]
     },
     "metadata": {},
     "output_type": "display_data"
    },
    {
     "data": {
      "text/html": [
       "<div style='margin: 10px 0; width: 100%; display: flex; border: 1px solid #ddd; border-radius: 4px; background: #f8f9fa;'>\n",
       "    <div style=\"display: flex; flex-direction: column; width: 100%; border: 2px solid #bbb;\">\n",
       "        <!-- Header Row -->\n",
       "        <div style=\"display: flex; font-weight: bold; background: #d6d8db; padding: 8px; border-bottom: 2px solid #bbb;\">\n",
       "            <div style=\"width: 80px; text-align: center; border-right: 2px solid #bbb; display: flex; align-items: center; justify-content: center;\">Index</div>\n",
       "            <div style=\"width: 150px; text-align: center; border-right: 2px solid #bbb; display: flex; align-items: center; justify-content: center;\">Experiment ID</div>\n",
       "            <div style=\"flex: 1; text-align: center;\">Writeup</div>\n",
       "        </div>\n",
       "\n",
       "        <!-- Data Row -->\n",
       "        <div style=\"display: flex; padding: 8px; background: #f8f9fa;\">\n",
       "            <div style=\"width: 80px; text-align: center; border-right: 2px solid #ddd; font-weight: bold; display: flex; align-items: center; justify-content: center;\">\n",
       "                171\n",
       "            </div>\n",
       "            <div style=\"width: 150px; text-align: center; border-right: 2px solid #ddd; font-weight: bold; display: flex; align-items: center; justify-content: center;\">\n",
       "                253050\n",
       "            </div>\n",
       "            <div style=\"flex: 1; padding: 8px 12px; white-space: pre-wrap; overflow-wrap: break-word;\">\n",
       "                To a stirred solution of 6-(dimethylcarbamoyl)pyridine-2-carboxylic acid (​81.55 mg, ​0.42 mmol)​{{1080:uid 2}}_XXXXX_     in DMA (8 mL)  at 0 °C were added 6-bromospiro[2,3-dihydro-1H-isoquinoline-4,1'-cyclopropane] (​100.0 mg, ​0.42 mmol)​{{1080:uid 1}}_XXXXX_    and N,N-Diisopropylethylamine (​0.22 mL, ​1.26 mmol)​{{1080:uid 3}}_XXXXX_    . After 15 min <span style='background-color: yellow; color: black;'>?</span> (<span style='background-color: yellow; color: black;'>?</span>, <span style='background-color: yellow; color: black;'>?</span> mmol)  was added and stirred at room temperature for 16 h. After completion, the reaction mixture was diluted with water  and extracted with EA. The combined organic extracts were washed with brine, dried over anhydrous sodium sulphate, filtered, and concentrated under reduced pressure to afford 6-(dimethylcarbamoyl)pyridine-2-carboxylic acid (130 mg, 0.66945 mmol, 22.376% yield)  as a light yellow oil\n",
       "            </div>\n",
       "        </div>\n",
       "    </div>\n",
       "    </div>"
      ],
      "text/plain": [
       "<IPython.core.display.HTML object>"
      ]
     },
     "metadata": {},
     "output_type": "display_data"
    },
    {
     "data": {
      "text/html": [
       "<div style='margin: 10px 0; width: 100%; display: flex; border: 1px solid #ddd; border-radius: 4px; background: #f8f9fa;'>\n",
       "    <div style=\"display: flex; flex-direction: column; width: 100%; border: 2px solid #bbb;\">\n",
       "        <!-- Header Row -->\n",
       "        <div style=\"display: flex; font-weight: bold; background: #d6d8db; padding: 8px; border-bottom: 2px solid #bbb;\">\n",
       "            <div style=\"width: 80px; text-align: center; border-right: 2px solid #bbb; display: flex; align-items: center; justify-content: center;\">Index</div>\n",
       "            <div style=\"width: 150px; text-align: center; border-right: 2px solid #bbb; display: flex; align-items: center; justify-content: center;\">Experiment ID</div>\n",
       "            <div style=\"flex: 1; text-align: center;\">Writeup</div>\n",
       "        </div>\n",
       "\n",
       "        <!-- Data Row -->\n",
       "        <div style=\"display: flex; padding: 8px; background: #f8f9fa;\">\n",
       "            <div style=\"width: 80px; text-align: center; border-right: 2px solid #ddd; font-weight: bold; display: flex; align-items: center; justify-content: center;\">\n",
       "                172\n",
       "            </div>\n",
       "            <div style=\"width: 150px; text-align: center; border-right: 2px solid #ddd; font-weight: bold; display: flex; align-items: center; justify-content: center;\">\n",
       "                253374\n",
       "            </div>\n",
       "            <div style=\"flex: 1; padding: 8px 12px; white-space: pre-wrap; overflow-wrap: break-word;\">\n",
       "                To a stirred solution of trans-4-(hydroxymethyl)cyclohexanecarboxylic acid (​60.0 mg, ​0.38 mmol)​{{1080:uid 1}}_XXXXX_  and 2,6-Lutidine (​176.69 uL, ​1.52 mmol)​{{1080:uid 2}}_XXXXX_  in DCM​(2​mL)​{{1062:uid 1}}_XXXXX_  was added drop wise t-butyldimethylsilyl trifluoromethanesulfonate (​261.31 uL, ​1.14 mmol)​{{1080:uid 3}}_XXXXX_  . The reaction mixture was stirred at RT for 1.5 hours. The reaction mixture was quenched with water and the organic phase removed. The aqueous phase was further extracted with DCM (*2). The combined organic extracts were combined and washed with brine, dried over sodium sulfate), filtered and the solvent evaporated at reduced pressure. The residue was dissolved in THF (1.8 mL) and methanol (5.4 mL) and 10% aqueous potassium carbonate (1.8 mL) added. The reaction mixture was stirred at RT for 2 hours. The solvent was evaporated at reduced pressure and the residue partitioned between water and ether. The organic phase was discarded. The aqueous phase was further washed with ether (*2). The pH of the aqueous extract was adjusted to 5 using 0.1N HCl and extracted with ethyl acetate (*3). The combined ethyl acetate extracts were washed with brine, dried over sodium sulfate, filtered and the solvent evaporated at reduced pressure to afford the title compound (1.59 g, 93%). 1H NMR (<span style='background-color: yellow; color: black;'>?</span>00 MHz, CDCl3): δ 3.37 (d, J=6.2 Hz, 2H); 2.27-2.17 (m, 1H); 2.00 (d, J=11.3 Hz, 2H); 1.81 (dd, J=13.2, 3.7 Hz, 2H); 1.50-1.33 (m, 3H); 1.04-0.72 (m, 11H); -0.00 (t, J=3.1 Hz, 6H).\n",
       "            </div>\n",
       "        </div>\n",
       "    </div>\n",
       "    </div>"
      ],
      "text/plain": [
       "<IPython.core.display.HTML object>"
      ]
     },
     "metadata": {},
     "output_type": "display_data"
    },
    {
     "data": {
      "text/html": [
       "<div style='margin: 10px 0; width: 100%; display: flex; border: 1px solid #ddd; border-radius: 4px; background: #f8f9fa;'>\n",
       "    <div style=\"display: flex; flex-direction: column; width: 100%; border: 2px solid #bbb;\">\n",
       "        <!-- Header Row -->\n",
       "        <div style=\"display: flex; font-weight: bold; background: #d6d8db; padding: 8px; border-bottom: 2px solid #bbb;\">\n",
       "            <div style=\"width: 80px; text-align: center; border-right: 2px solid #bbb; display: flex; align-items: center; justify-content: center;\">Index</div>\n",
       "            <div style=\"width: 150px; text-align: center; border-right: 2px solid #bbb; display: flex; align-items: center; justify-content: center;\">Experiment ID</div>\n",
       "            <div style=\"flex: 1; text-align: center;\">Writeup</div>\n",
       "        </div>\n",
       "\n",
       "        <!-- Data Row -->\n",
       "        <div style=\"display: flex; padding: 8px; background: #f8f9fa;\">\n",
       "            <div style=\"width: 80px; text-align: center; border-right: 2px solid #ddd; font-weight: bold; display: flex; align-items: center; justify-content: center;\">\n",
       "                173\n",
       "            </div>\n",
       "            <div style=\"width: 150px; text-align: center; border-right: 2px solid #ddd; font-weight: bold; display: flex; align-items: center; justify-content: center;\">\n",
       "                254023\n",
       "            </div>\n",
       "            <div style=\"flex: 1; padding: 8px 12px; white-space: pre-wrap; overflow-wrap: break-word;\">\n",
       "                To a solution of 3-bromo-4-fluoro-2-methoxyaniline (50.0 mg, 0.23 mmol)  in1,4-Dioxane (0.40 mL)  andWater (0.10 mL)  was added[2-[[6-(dimethylcarbamoyl)-2-pyridinyl]methyl]-1-oxospiro[3H-isoquinoline-4,1'-cyclopropane]-6-yl]boronic acid (86.17 mg, 0.23 mmol)  ,Pd(dppf)Cl2 (32.96 mg, 0.05 mmol)  andK2CO3 ( mg, 0.68 mmol)  under N2.The reaction mixture was stirred at room temperature for 2 hrs.LCMS showed the reaction was complete.Then the mixture was extracted with EA(5 mL), dried over NaSO4 and concentrated under reduced pressure to give a residue.The residue was purified by prep-HPLC (PE 100%) to affored 6-[[6-(3-amino-6-fluoro-2-methoxyphenyl)-1-oxospiro[3H-isoquinoline-4,1'-cyclopropane]-2-yl]methyl]-N,N-dimethylpyridine-2-carboxamide (<span style='background-color: yellow; color: black;'>?</span> mg, <span style='background-color: yellow; color: black;'>?</span> mmol, <span style='background-color: yellow; color: black;'>?</span>% yield)  as a yellow solid. \n",
       "            </div>\n",
       "        </div>\n",
       "    </div>\n",
       "    </div>"
      ],
      "text/plain": [
       "<IPython.core.display.HTML object>"
      ]
     },
     "metadata": {},
     "output_type": "display_data"
    },
    {
     "data": {
      "text/html": [
       "<div style='margin: 10px 0; width: 100%; display: flex; border: 1px solid #ddd; border-radius: 4px; background: #f8f9fa;'>\n",
       "    <div style=\"display: flex; flex-direction: column; width: 100%; border: 2px solid #bbb;\">\n",
       "        <!-- Header Row -->\n",
       "        <div style=\"display: flex; font-weight: bold; background: #d6d8db; padding: 8px; border-bottom: 2px solid #bbb;\">\n",
       "            <div style=\"width: 80px; text-align: center; border-right: 2px solid #bbb; display: flex; align-items: center; justify-content: center;\">Index</div>\n",
       "            <div style=\"width: 150px; text-align: center; border-right: 2px solid #bbb; display: flex; align-items: center; justify-content: center;\">Experiment ID</div>\n",
       "            <div style=\"flex: 1; text-align: center;\">Writeup</div>\n",
       "        </div>\n",
       "\n",
       "        <!-- Data Row -->\n",
       "        <div style=\"display: flex; padding: 8px; background: #f8f9fa;\">\n",
       "            <div style=\"width: 80px; text-align: center; border-right: 2px solid #ddd; font-weight: bold; display: flex; align-items: center; justify-content: center;\">\n",
       "                174\n",
       "            </div>\n",
       "            <div style=\"width: 150px; text-align: center; border-right: 2px solid #ddd; font-weight: bold; display: flex; align-items: center; justify-content: center;\">\n",
       "                254282\n",
       "            </div>\n",
       "            <div style=\"flex: 1; padding: 8px 12px; white-space: pre-wrap; overflow-wrap: break-word;\">\n",
       "                1. Dissolved (2S,4R)-4-[tert-butyl(dimethyl)silyl]oxy-1-[(2R)-2-[3-(2-hydroxyethoxy)-1,2-oxazol-5-yl]-3-methylbutanoyl]-N-[(1S)-1-[4-(4-methyl-1,3-thiazol-5-yl)phenyl]ethyl]pyrrolidine-2-carboxamide (237.0 mg, 0.36 mmol){{9:uid 1}}_XXXXX_   in MeCN (1 mL){{3:uid 1}}_XXXXX_    2. Charged 2-iodoxybenzoic acid (208.3 mg, 0.72 mmol){{9:uid 3}}_XXXXX_    3. Stirred at 80 °C{{8:row 1}}_XXXXX_   overnight (At 3 hrs, MeCN (0.50 mL){{3:uid 2}}_XXXXX_  added to wash sides of vial down) 4. Charged 2-iodoxybenzoic acid (312.45 mg, 1.08 mmol){{9:uid 4}}_XXXXX_  and stirred 45 min 5. Filtered and concentrated 6. Dissolved (2S,4R)-4-[tert-butyl(dimethyl)silyl]oxy-1-[(2R)-3-methyl-2-[3-(2-oxoethoxy)-1,2-oxazol-5-yl]butanoyl]-N-[(1S)-1-[4-(4-methyl-1,3-thiazol-5-yl)phenyl]ethyl]pyrrolidine-2-carboxamide (<span style='background-color: yellow; color: black;'>?</span> mg, <span style='background-color: yellow; color: black;'>?</span> mmol, <span style='background-color: yellow; color: black;'>?</span>% yield)  in DMSO (1.5 mL) as a crude stock solution. Quant. yield assumed       To a solution of (2S,4R)-4-[tert-butyl(dimethyl)silyl]oxy-1-[(2R)-2-[3-(2-hydroxyethoxy)-1,2-oxazol-5-yl]-3-methylbutanoyl]-N-[(1S)-1-[4-(4-methyl-1,3-thiazol-5-yl)phenyl]ethyl]pyrrolidine-2-carboxamide (237.0 mg, 0.36 mmol){{9:uid 1}}_XXXXX_   in MeCN (1 mL){{3:uid 1}}_XXXXX_   was added 2-iodoxybenzoic acid (208.3 mg, 0.72 mmol){{9:uid 3}}_XXXXX_  . The reaction was stirred at 80 °C{{8:row 1}}_XXXXX_   for 2h h. The mixture was filtered to give (2S,4R)-4-[tert-butyl(dimethyl)silyl]oxy-1-[(2R)-3-methyl-2-[3-(2-oxoethoxy)-1,2-oxazol-5-yl]butanoyl]-N-[(1S)-1-[4-(4-methyl-1,3-thiazol-5-yl)phenyl]ethyl]pyrrolidine-2-carboxamide (301 mg, 0.45961 mmol, 127.39% yield){{2:uid 1}}_XXXXX_   as crude stock solution. LCMS [M+H] 655.3 Assumed Quantitative yield.\n",
       "            </div>\n",
       "        </div>\n",
       "    </div>\n",
       "    </div>"
      ],
      "text/plain": [
       "<IPython.core.display.HTML object>"
      ]
     },
     "metadata": {},
     "output_type": "display_data"
    },
    {
     "data": {
      "text/html": [
       "<div style='margin: 10px 0; width: 100%; display: flex; border: 1px solid #ddd; border-radius: 4px; background: #f8f9fa;'>\n",
       "    <div style=\"display: flex; flex-direction: column; width: 100%; border: 2px solid #bbb;\">\n",
       "        <!-- Header Row -->\n",
       "        <div style=\"display: flex; font-weight: bold; background: #d6d8db; padding: 8px; border-bottom: 2px solid #bbb;\">\n",
       "            <div style=\"width: 80px; text-align: center; border-right: 2px solid #bbb; display: flex; align-items: center; justify-content: center;\">Index</div>\n",
       "            <div style=\"width: 150px; text-align: center; border-right: 2px solid #bbb; display: flex; align-items: center; justify-content: center;\">Experiment ID</div>\n",
       "            <div style=\"flex: 1; text-align: center;\">Writeup</div>\n",
       "        </div>\n",
       "\n",
       "        <!-- Data Row -->\n",
       "        <div style=\"display: flex; padding: 8px; background: #f8f9fa;\">\n",
       "            <div style=\"width: 80px; text-align: center; border-right: 2px solid #ddd; font-weight: bold; display: flex; align-items: center; justify-content: center;\">\n",
       "                175\n",
       "            </div>\n",
       "            <div style=\"width: 150px; text-align: center; border-right: 2px solid #ddd; font-weight: bold; display: flex; align-items: center; justify-content: center;\">\n",
       "                255133\n",
       "            </div>\n",
       "            <div style=\"flex: 1; padding: 8px 12px; white-space: pre-wrap; overflow-wrap: break-word;\">\n",
       "                To a solution of 6-chloro-5-(difluoromethoxy)pyrimidin-4-amine (50.0 mg, 0.26 mmol)   in dioxane (2.0 mL) was added [2-[[6-(dimethylcarbamoyl)-2-pyridinyl]methyl]-1-oxospiro[3H-isoquinoline-4,1'-cyclobutane]-6-yl]boronic acid (100.55 mg, 0.26 mmol)    , Iron(2+) 2-(diphenylphosphino)-2,4-cyclopentadienide - dichloropalladium (1:2:1) (18.71 mg, 0.03 mmol)    , Potassium phosphate tribasic (162.82 mg, 0.77 mmol)    ,Potassium phosphate tribasic (162.82 mg, 0.77 mmol)    . The solution was purged with N2 for 1 minute. The reaction was stirred at 100 °C for 16h. Then the reaction mixture was quenched with water, and the aquas phase was washed with dichloromethane (10 mL x 3). The combined organic phase was dried over Na2SO4 and concentrated with reduced pressure to get the product 6-[[6-[6-amino-5-(difluoromethoxy)pyrimidin-4-yl]-1-oxospiro[3H-isoquinoline-4,1'-cyclobutane]-2-yl]methyl]-N,N-dimethylpyridine-2-carboxamide (<span style='background-color: yellow; color: black;'>?</span> mg, <span style='background-color: yellow; color: black;'>?</span> mmol, <span style='background-color: yellow; color: black;'>?</span>% yield)   , which was directly used for the next step.\n",
       "            </div>\n",
       "        </div>\n",
       "    </div>\n",
       "    </div>"
      ],
      "text/plain": [
       "<IPython.core.display.HTML object>"
      ]
     },
     "metadata": {},
     "output_type": "display_data"
    },
    {
     "data": {
      "text/html": [
       "<div style='margin: 10px 0; width: 100%; display: flex; border: 1px solid #ddd; border-radius: 4px; background: #f8f9fa;'>\n",
       "    <div style=\"display: flex; flex-direction: column; width: 100%; border: 2px solid #bbb;\">\n",
       "        <!-- Header Row -->\n",
       "        <div style=\"display: flex; font-weight: bold; background: #d6d8db; padding: 8px; border-bottom: 2px solid #bbb;\">\n",
       "            <div style=\"width: 80px; text-align: center; border-right: 2px solid #bbb; display: flex; align-items: center; justify-content: center;\">Index</div>\n",
       "            <div style=\"width: 150px; text-align: center; border-right: 2px solid #bbb; display: flex; align-items: center; justify-content: center;\">Experiment ID</div>\n",
       "            <div style=\"flex: 1; text-align: center;\">Writeup</div>\n",
       "        </div>\n",
       "\n",
       "        <!-- Data Row -->\n",
       "        <div style=\"display: flex; padding: 8px; background: #f8f9fa;\">\n",
       "            <div style=\"width: 80px; text-align: center; border-right: 2px solid #ddd; font-weight: bold; display: flex; align-items: center; justify-content: center;\">\n",
       "                176\n",
       "            </div>\n",
       "            <div style=\"width: 150px; text-align: center; border-right: 2px solid #ddd; font-weight: bold; display: flex; align-items: center; justify-content: center;\">\n",
       "                256068\n",
       "            </div>\n",
       "            <div style=\"flex: 1; padding: 8px 12px; white-space: pre-wrap; overflow-wrap: break-word;\">\n",
       "                To a solution 2,4-dichloroimidazo[2,1-f][1,2,4]triazine (499.63 mg, 2.64 mmol) inDMSO (5 mL) was added 3-Bromo-2-(trifluoromethyl)aniline (423.0 mg, 1.76 mmol) andDIEA (273.24 mg, 2.11 mmol) ,the reaction mixture was stirred at room temperature for 16 hrs.LCMS showed the reaction was complete, then the mixture was poured into water and extracted with EA (30*3 ml), dried over Na2SO4 and concentrated under reduced pressure to give a residue. The residue was purified by silica gel column chromatography(5-50% EtOAc/hexane) to give N-[3-bromo-2-(trifluoromethyl)phenyl]-2-chloroimidazo[2,1-f][1,2,4]triazin-4-amine (<span style='background-color: yellow; color: black;'>?</span> mg, <span style='background-color: yellow; color: black;'>?</span> mmol, <span style='background-color: yellow; color: black;'>?</span>% yield) as a white solid.\n",
       "            </div>\n",
       "        </div>\n",
       "    </div>\n",
       "    </div>"
      ],
      "text/plain": [
       "<IPython.core.display.HTML object>"
      ]
     },
     "metadata": {},
     "output_type": "display_data"
    },
    {
     "data": {
      "text/html": [
       "<div style='margin: 10px 0; width: 100%; display: flex; border: 1px solid #ddd; border-radius: 4px; background: #f8f9fa;'>\n",
       "    <div style=\"display: flex; flex-direction: column; width: 100%; border: 2px solid #bbb;\">\n",
       "        <!-- Header Row -->\n",
       "        <div style=\"display: flex; font-weight: bold; background: #d6d8db; padding: 8px; border-bottom: 2px solid #bbb;\">\n",
       "            <div style=\"width: 80px; text-align: center; border-right: 2px solid #bbb; display: flex; align-items: center; justify-content: center;\">Index</div>\n",
       "            <div style=\"width: 150px; text-align: center; border-right: 2px solid #bbb; display: flex; align-items: center; justify-content: center;\">Experiment ID</div>\n",
       "            <div style=\"flex: 1; text-align: center;\">Writeup</div>\n",
       "        </div>\n",
       "\n",
       "        <!-- Data Row -->\n",
       "        <div style=\"display: flex; padding: 8px; background: #f8f9fa;\">\n",
       "            <div style=\"width: 80px; text-align: center; border-right: 2px solid #ddd; font-weight: bold; display: flex; align-items: center; justify-content: center;\">\n",
       "                177\n",
       "            </div>\n",
       "            <div style=\"width: 150px; text-align: center; border-right: 2px solid #ddd; font-weight: bold; display: flex; align-items: center; justify-content: center;\">\n",
       "                256451\n",
       "            </div>\n",
       "            <div style=\"flex: 1; padding: 8px 12px; white-space: pre-wrap; overflow-wrap: break-word;\">\n",
       "                To a solution of 5-(3-amino-2-methoxyphenyl)-N-methyl-N-[(1-methylpyrazol-4-yl)methyl]pyridine-2-carboxamide (20.0 mg, 0.06 mmol) in 1,4-Dioxane (2 mL){{3:uid 1}}_XXXXX_    was added Tris(dibenzylideneacetone)dipalladium (0) (5.21 mg, 0.01 mmol)  , Cesium carbonate (55.63 mg, 0.17 mmol)  , 9,9-Dimethyl-4,5-bis(diphenylphosphino)xanthene (6.59 mg, 0.01 mmol)  , 2-bromo-4-iodo-5-methoxy-3-methylpyridine (28.0 mg, 0.09 mmol) . The solution was purged with N2 for 1 minute. The reaction was stirred at 100 °C{{1100:row 1}}_XXXXX_   for 1.5 h. Then the reaction mixture was quenched with water, and the aquas phase was washed with dichloromethane (10 mL x 3). The combined organic phase was dried over Na2SO4 and concentrated with reduced pressure to get the product 5-[3-[(2-bromo-5-methoxy-3-methyl-4-pyridinyl)amino]-2-methoxyphenyl]-N-methyl-N-[(1-methylpyrazol-4-yl)methyl]pyridine-2-carboxamide (<span style='background-color: yellow; color: black;'>?</span> mg, <span style='background-color: yellow; color: black;'>?</span> mmol, <span style='background-color: yellow; color: black;'>?</span>% yield)   , which was directly used for the next step.\n",
       "            </div>\n",
       "        </div>\n",
       "    </div>\n",
       "    </div>"
      ],
      "text/plain": [
       "<IPython.core.display.HTML object>"
      ]
     },
     "metadata": {},
     "output_type": "display_data"
    },
    {
     "data": {
      "text/html": [
       "<div style='margin: 10px 0; width: 100%; display: flex; border: 1px solid #ddd; border-radius: 4px; background: #f8f9fa;'>\n",
       "    <div style=\"display: flex; flex-direction: column; width: 100%; border: 2px solid #bbb;\">\n",
       "        <!-- Header Row -->\n",
       "        <div style=\"display: flex; font-weight: bold; background: #d6d8db; padding: 8px; border-bottom: 2px solid #bbb;\">\n",
       "            <div style=\"width: 80px; text-align: center; border-right: 2px solid #bbb; display: flex; align-items: center; justify-content: center;\">Index</div>\n",
       "            <div style=\"width: 150px; text-align: center; border-right: 2px solid #bbb; display: flex; align-items: center; justify-content: center;\">Experiment ID</div>\n",
       "            <div style=\"flex: 1; text-align: center;\">Writeup</div>\n",
       "        </div>\n",
       "\n",
       "        <!-- Data Row -->\n",
       "        <div style=\"display: flex; padding: 8px; background: #f8f9fa;\">\n",
       "            <div style=\"width: 80px; text-align: center; border-right: 2px solid #ddd; font-weight: bold; display: flex; align-items: center; justify-content: center;\">\n",
       "                178\n",
       "            </div>\n",
       "            <div style=\"width: 150px; text-align: center; border-right: 2px solid #ddd; font-weight: bold; display: flex; align-items: center; justify-content: center;\">\n",
       "                256511\n",
       "            </div>\n",
       "            <div style=\"flex: 1; padding: 8px 12px; white-space: pre-wrap; overflow-wrap: break-word;\">\n",
       "                To a solution of 5-(3-amino-2-methoxyphenyl)-N-methyl-N-[(1-methylpyrazol-4-yl)methyl]pyridine-2-carboxamide (20.0 mg, 0.06 mmol) in 1,4-Dioxane (2 mL){{3:uid 1}}_XXXXX_    was added Tris(dibenzylideneacetone)dipalladium (0) (5.21 mg, 0.01 mmol)  , Cesium carbonate (55.63 mg, 0.17 mmol)  , 9,9-Dimethyl-4,5-bis(diphenylphosphino)xanthene (6.59 mg, 0.01 mmol)  , 2-bromo-4-iodo-5-methoxy-3-methylpyridine (28.0 mg, 0.09 mmol) . The solution was purged with N2 for 1 minute. The reaction was stirred at 100 °C{{1100:row 1}}_XXXXX_   for 1.5 h. Then the reaction mixture was quenched with water, and the aquas phase was washed with dichloromethane (10 mL x 3). The combined organic phase was dried over Na2SO4 and concentrated with reduced pressure to get the product 5-[3-[(2-bromo-5-methoxy-3-methyl-4-pyridinyl)amino]-2-methoxyphenyl]-N-methyl-N-[(1-methylpyrazol-4-yl)methyl]pyridine-2-carboxamide (<span style='background-color: yellow; color: black;'>?</span> mg, <span style='background-color: yellow; color: black;'>?</span> mmol, <span style='background-color: yellow; color: black;'>?</span>% yield)   , which was directly used for the next step.\n",
       "            </div>\n",
       "        </div>\n",
       "    </div>\n",
       "    </div>"
      ],
      "text/plain": [
       "<IPython.core.display.HTML object>"
      ]
     },
     "metadata": {},
     "output_type": "display_data"
    },
    {
     "data": {
      "text/html": [
       "<div style='margin: 10px 0; width: 100%; display: flex; border: 1px solid #ddd; border-radius: 4px; background: #f8f9fa;'>\n",
       "    <div style=\"display: flex; flex-direction: column; width: 100%; border: 2px solid #bbb;\">\n",
       "        <!-- Header Row -->\n",
       "        <div style=\"display: flex; font-weight: bold; background: #d6d8db; padding: 8px; border-bottom: 2px solid #bbb;\">\n",
       "            <div style=\"width: 80px; text-align: center; border-right: 2px solid #bbb; display: flex; align-items: center; justify-content: center;\">Index</div>\n",
       "            <div style=\"width: 150px; text-align: center; border-right: 2px solid #bbb; display: flex; align-items: center; justify-content: center;\">Experiment ID</div>\n",
       "            <div style=\"flex: 1; text-align: center;\">Writeup</div>\n",
       "        </div>\n",
       "\n",
       "        <!-- Data Row -->\n",
       "        <div style=\"display: flex; padding: 8px; background: #f8f9fa;\">\n",
       "            <div style=\"width: 80px; text-align: center; border-right: 2px solid #ddd; font-weight: bold; display: flex; align-items: center; justify-content: center;\">\n",
       "                179\n",
       "            </div>\n",
       "            <div style=\"width: 150px; text-align: center; border-right: 2px solid #ddd; font-weight: bold; display: flex; align-items: center; justify-content: center;\">\n",
       "                256522\n",
       "            </div>\n",
       "            <div style=\"flex: 1; padding: 8px 12px; white-space: pre-wrap; overflow-wrap: break-word;\">\n",
       "                To a solution of 5-(3-amino-2-methoxyphenyl)-N-methyl-N-[(1-methylpyrazol-4-yl)methyl]pyridine-2-carboxamide (20.0 mg, 0.06 mmol) in 1,4-Dioxane (2 mL){{3:uid 1}}_XXXXX_    was added Tris(dibenzylideneacetone)dipalladium (0) (5.21 mg, 0.01 mmol)  , Cesium carbonate (55.63 mg, 0.17 mmol)  , 9,9-Dimethyl-4,5-bis(diphenylphosphino)xanthene (6.59 mg, 0.01 mmol)  , 2-bromo-4-iodo-5-methoxy-3-methylpyridine (28.0 mg, 0.09 mmol) . The solution was purged with N2 for 1 minute. The reaction was stirred at 100 °C{{1100:row 1}}_XXXXX_   for 1.5 h. Then the reaction mixture was quenched with water, and the aquas phase was washed with dichloromethane (10 mL x 3). The combined organic phase was dried over Na2SO4 and concentrated with reduced pressure to get the product 5-[3-[(2-bromo-5-methoxy-3-methyl-4-pyridinyl)amino]-2-methoxyphenyl]-N-methyl-N-[(1-methylpyrazol-4-yl)methyl]pyridine-2-carboxamide (<span style='background-color: yellow; color: black;'>?</span> mg, <span style='background-color: yellow; color: black;'>?</span> mmol, <span style='background-color: yellow; color: black;'>?</span>% yield)   , which was directly used for the next step.\n",
       "            </div>\n",
       "        </div>\n",
       "    </div>\n",
       "    </div>"
      ],
      "text/plain": [
       "<IPython.core.display.HTML object>"
      ]
     },
     "metadata": {},
     "output_type": "display_data"
    },
    {
     "data": {
      "text/html": [
       "<div style='margin: 10px 0; width: 100%; display: flex; border: 1px solid #ddd; border-radius: 4px; background: #f8f9fa;'>\n",
       "    <div style=\"display: flex; flex-direction: column; width: 100%; border: 2px solid #bbb;\">\n",
       "        <!-- Header Row -->\n",
       "        <div style=\"display: flex; font-weight: bold; background: #d6d8db; padding: 8px; border-bottom: 2px solid #bbb;\">\n",
       "            <div style=\"width: 80px; text-align: center; border-right: 2px solid #bbb; display: flex; align-items: center; justify-content: center;\">Index</div>\n",
       "            <div style=\"width: 150px; text-align: center; border-right: 2px solid #bbb; display: flex; align-items: center; justify-content: center;\">Experiment ID</div>\n",
       "            <div style=\"flex: 1; text-align: center;\">Writeup</div>\n",
       "        </div>\n",
       "\n",
       "        <!-- Data Row -->\n",
       "        <div style=\"display: flex; padding: 8px; background: #f8f9fa;\">\n",
       "            <div style=\"width: 80px; text-align: center; border-right: 2px solid #ddd; font-weight: bold; display: flex; align-items: center; justify-content: center;\">\n",
       "                180\n",
       "            </div>\n",
       "            <div style=\"width: 150px; text-align: center; border-right: 2px solid #ddd; font-weight: bold; display: flex; align-items: center; justify-content: center;\">\n",
       "                256875\n",
       "            </div>\n",
       "            <div style=\"flex: 1; padding: 8px 12px; white-space: pre-wrap; overflow-wrap: break-word;\">\n",
       "                To a solution of 5-(3-amino-2-methoxyphenyl)-N-methyl-N-[(1-methylpyrazol-4-yl)methyl]pyridine-2-carboxamide (20.0 mg, 0.06 mmol) in 1,4-Dioxane (2 mL){{3:uid 1}}_XXXXX_    was added Tris(dibenzylideneacetone)dipalladium (0) (5.21 mg, 0.01 mmol)  , Cesium carbonate (55.63 mg, 0.17 mmol)  , 9,9-Dimethyl-4,5-bis(diphenylphosphino)xanthene (6.59 mg, 0.01 mmol)  , 2-bromo-4-iodo-5-methoxy-3-methylpyridine (28.0 mg, 0.09 mmol) . The solution was purged with N2 for 1 minute. The reaction was stirred at 100 °C ofor 16h. Then the reaction mixture was quenched with water, and the aquas phase was washed with dichloromethane (10 mL x 3). The combined organic phase was dried over Na2SO4 and concentrated with reduced pressure to get the product 5-[3-[(2-bromo-5-methoxy-3-methyl-4-pyridinyl)amino]-2-methoxyphenyl]-N-methyl-N-[(1-methylpyrazol-4-yl)methyl]pyridine-2-carboxamide (<span style='background-color: yellow; color: black;'>?</span> mg, <span style='background-color: yellow; color: black;'>?</span> mmol, <span style='background-color: yellow; color: black;'>?</span>% yield)   , which was directly used for the next step.\n",
       "            </div>\n",
       "        </div>\n",
       "    </div>\n",
       "    </div>"
      ],
      "text/plain": [
       "<IPython.core.display.HTML object>"
      ]
     },
     "metadata": {},
     "output_type": "display_data"
    },
    {
     "data": {
      "text/html": [
       "<div style='margin: 10px 0; width: 100%; display: flex; border: 1px solid #ddd; border-radius: 4px; background: #f8f9fa;'>\n",
       "    <div style=\"display: flex; flex-direction: column; width: 100%; border: 2px solid #bbb;\">\n",
       "        <!-- Header Row -->\n",
       "        <div style=\"display: flex; font-weight: bold; background: #d6d8db; padding: 8px; border-bottom: 2px solid #bbb;\">\n",
       "            <div style=\"width: 80px; text-align: center; border-right: 2px solid #bbb; display: flex; align-items: center; justify-content: center;\">Index</div>\n",
       "            <div style=\"width: 150px; text-align: center; border-right: 2px solid #bbb; display: flex; align-items: center; justify-content: center;\">Experiment ID</div>\n",
       "            <div style=\"flex: 1; text-align: center;\">Writeup</div>\n",
       "        </div>\n",
       "\n",
       "        <!-- Data Row -->\n",
       "        <div style=\"display: flex; padding: 8px; background: #f8f9fa;\">\n",
       "            <div style=\"width: 80px; text-align: center; border-right: 2px solid #ddd; font-weight: bold; display: flex; align-items: center; justify-content: center;\">\n",
       "                181\n",
       "            </div>\n",
       "            <div style=\"width: 150px; text-align: center; border-right: 2px solid #ddd; font-weight: bold; display: flex; align-items: center; justify-content: center;\">\n",
       "                256948\n",
       "            </div>\n",
       "            <div style=\"flex: 1; padding: 8px 12px; white-space: pre-wrap; overflow-wrap: break-word;\">\n",
       "                To a solution of 5-(3-amino-2-methoxyphenyl)-N-methyl-N-[(1-methylpyrazol-4-yl)methyl]pyridine-2-carboxamide (20.0 mg, 0.06 mmol) in 1,4-Dioxane (2 mL){{3:uid 1}}_XXXXX_    was added Tris(dibenzylideneacetone)dipalladium (0) (5.21 mg, 0.01 mmol)  , Cesium carbonate (55.63 mg, 0.17 mmol)  , 9,9-Dimethyl-4,5-bis(diphenylphosphino)xanthene (6.59 mg, 0.01 mmol)  , 2-bromo-4-iodo-5-methoxy-3-methylpyridine (28.0 mg, 0.09 mmol) . The solution was purged with N2 for 1 minute. The reaction was stirred at 100 °C{{1100:row 1}}_XXXXX_   for 1.5 h. Then the reaction mixture was quenched with water, and the aquas phase was washed with dichloromethane (10 mL x 3). The combined organic phase was dried over Na2SO4 and concentrated with reduced pressure to get the product 5-[3-[(2-bromo-5-methoxy-3-methyl-4-pyridinyl)amino]-2-methoxyphenyl]-N-methyl-N-[(1-methylpyrazol-4-yl)methyl]pyridine-2-carboxamide (<span style='background-color: yellow; color: black;'>?</span> mg, <span style='background-color: yellow; color: black;'>?</span> mmol, <span style='background-color: yellow; color: black;'>?</span>% yield)   , which was directly used for the next step.\n",
       "            </div>\n",
       "        </div>\n",
       "    </div>\n",
       "    </div>"
      ],
      "text/plain": [
       "<IPython.core.display.HTML object>"
      ]
     },
     "metadata": {},
     "output_type": "display_data"
    },
    {
     "data": {
      "text/html": [
       "<div style='margin: 10px 0; width: 100%; display: flex; border: 1px solid #ddd; border-radius: 4px; background: #f8f9fa;'>\n",
       "    <div style=\"display: flex; flex-direction: column; width: 100%; border: 2px solid #bbb;\">\n",
       "        <!-- Header Row -->\n",
       "        <div style=\"display: flex; font-weight: bold; background: #d6d8db; padding: 8px; border-bottom: 2px solid #bbb;\">\n",
       "            <div style=\"width: 80px; text-align: center; border-right: 2px solid #bbb; display: flex; align-items: center; justify-content: center;\">Index</div>\n",
       "            <div style=\"width: 150px; text-align: center; border-right: 2px solid #bbb; display: flex; align-items: center; justify-content: center;\">Experiment ID</div>\n",
       "            <div style=\"flex: 1; text-align: center;\">Writeup</div>\n",
       "        </div>\n",
       "\n",
       "        <!-- Data Row -->\n",
       "        <div style=\"display: flex; padding: 8px; background: #f8f9fa;\">\n",
       "            <div style=\"width: 80px; text-align: center; border-right: 2px solid #ddd; font-weight: bold; display: flex; align-items: center; justify-content: center;\">\n",
       "                182\n",
       "            </div>\n",
       "            <div style=\"width: 150px; text-align: center; border-right: 2px solid #ddd; font-weight: bold; display: flex; align-items: center; justify-content: center;\">\n",
       "                257084\n",
       "            </div>\n",
       "            <div style=\"flex: 1; padding: 8px 12px; white-space: pre-wrap; overflow-wrap: break-word;\">\n",
       "                To a solution of 5-(3-amino-2-methoxyphenyl)-N-methyl-N-[(1-methylpyrazol-4-yl)methyl]pyridine-2-carboxamide (20.0 mg, 0.06 mmol) in 1,4-Dioxane (2 mL){{3:uid 1}}_XXXXX_    was added Tris(dibenzylideneacetone)dipalladium (0) (5.21 mg, 0.01 mmol)  , Cesium carbonate (55.63 mg, 0.17 mmol)  , 9,9-Dimethyl-4,5-bis(diphenylphosphino)xanthene (6.59 mg, 0.01 mmol)  , 2-bromo-4-iodo-5-methoxy-3-methylpyridine (28.0 mg, 0.09 mmol) . The solution was purged with N2 for 1 minute. The reaction was stirred at 100 °C{{1100:row 1}}_XXXXX_   for 1.5 h. Then the reaction mixture was quenched with water, and the aquas phase was washed with dichloromethane (10 mL x 3). The combined organic phase was dried over Na2SO4 and concentrated with reduced pressure to get the product 5-[3-[(2-bromo-5-methoxy-3-methyl-4-pyridinyl)amino]-2-methoxyphenyl]-N-methyl-N-[(1-methylpyrazol-4-yl)methyl]pyridine-2-carboxamide (<span style='background-color: yellow; color: black;'>?</span> mg, <span style='background-color: yellow; color: black;'>?</span> mmol, <span style='background-color: yellow; color: black;'>?</span>% yield)   , which was directly used for the next step.\n",
       "            </div>\n",
       "        </div>\n",
       "    </div>\n",
       "    </div>"
      ],
      "text/plain": [
       "<IPython.core.display.HTML object>"
      ]
     },
     "metadata": {},
     "output_type": "display_data"
    },
    {
     "data": {
      "text/html": [
       "<div style='margin: 10px 0; width: 100%; display: flex; border: 1px solid #ddd; border-radius: 4px; background: #f8f9fa;'>\n",
       "    <div style=\"display: flex; flex-direction: column; width: 100%; border: 2px solid #bbb;\">\n",
       "        <!-- Header Row -->\n",
       "        <div style=\"display: flex; font-weight: bold; background: #d6d8db; padding: 8px; border-bottom: 2px solid #bbb;\">\n",
       "            <div style=\"width: 80px; text-align: center; border-right: 2px solid #bbb; display: flex; align-items: center; justify-content: center;\">Index</div>\n",
       "            <div style=\"width: 150px; text-align: center; border-right: 2px solid #bbb; display: flex; align-items: center; justify-content: center;\">Experiment ID</div>\n",
       "            <div style=\"flex: 1; text-align: center;\">Writeup</div>\n",
       "        </div>\n",
       "\n",
       "        <!-- Data Row -->\n",
       "        <div style=\"display: flex; padding: 8px; background: #f8f9fa;\">\n",
       "            <div style=\"width: 80px; text-align: center; border-right: 2px solid #ddd; font-weight: bold; display: flex; align-items: center; justify-content: center;\">\n",
       "                183\n",
       "            </div>\n",
       "            <div style=\"width: 150px; text-align: center; border-right: 2px solid #ddd; font-weight: bold; display: flex; align-items: center; justify-content: center;\">\n",
       "                257177\n",
       "            </div>\n",
       "            <div style=\"flex: 1; padding: 8px 12px; white-space: pre-wrap; overflow-wrap: break-word;\">\n",
       "                To a solution of 5-(3-amino-2-methoxyphenyl)-N-methyl-N-[(1-methylpyrazol-4-yl)methyl]pyridine-2-carboxamide (20.0 mg, 0.06 mmol) in 1,4-Dioxane (2 mL){{3:uid 1}}_XXXXX_    was added Tris(dibenzylideneacetone)dipalladium (0) (5.21 mg, 0.01 mmol)  , Cesium carbonate (55.63 mg, 0.17 mmol)  , 9,9-Dimethyl-4,5-bis(diphenylphosphino)xanthene (6.59 mg, 0.01 mmol)  , 2-bromo-4-iodo-5-methoxy-3-methylpyridine (28.0 mg, 0.09 mmol) . The solution was purged with N2 for 1 minute. The reaction was stirred at 100 °C{{1100:row 1}}_XXXXX_   for 1.5 h. Then the reaction mixture was quenched with water, and the aquas phase was washed with dichloromethane (10 mL x 3). The combined organic phase was dried over Na2SO4 and concentrated with reduced pressure to get the product 5-[3-[(2-bromo-5-methoxy-3-methyl-4-pyridinyl)amino]-2-methoxyphenyl]-N-methyl-N-[(1-methylpyrazol-4-yl)methyl]pyridine-2-carboxamide (<span style='background-color: yellow; color: black;'>?</span> mg, <span style='background-color: yellow; color: black;'>?</span> mmol, <span style='background-color: yellow; color: black;'>?</span>% yield)   , which was directly used for the next step.\n",
       "            </div>\n",
       "        </div>\n",
       "    </div>\n",
       "    </div>"
      ],
      "text/plain": [
       "<IPython.core.display.HTML object>"
      ]
     },
     "metadata": {},
     "output_type": "display_data"
    },
    {
     "data": {
      "text/html": [
       "<div style='margin: 10px 0; width: 100%; display: flex; border: 1px solid #ddd; border-radius: 4px; background: #f8f9fa;'>\n",
       "    <div style=\"display: flex; flex-direction: column; width: 100%; border: 2px solid #bbb;\">\n",
       "        <!-- Header Row -->\n",
       "        <div style=\"display: flex; font-weight: bold; background: #d6d8db; padding: 8px; border-bottom: 2px solid #bbb;\">\n",
       "            <div style=\"width: 80px; text-align: center; border-right: 2px solid #bbb; display: flex; align-items: center; justify-content: center;\">Index</div>\n",
       "            <div style=\"width: 150px; text-align: center; border-right: 2px solid #bbb; display: flex; align-items: center; justify-content: center;\">Experiment ID</div>\n",
       "            <div style=\"flex: 1; text-align: center;\">Writeup</div>\n",
       "        </div>\n",
       "\n",
       "        <!-- Data Row -->\n",
       "        <div style=\"display: flex; padding: 8px; background: #f8f9fa;\">\n",
       "            <div style=\"width: 80px; text-align: center; border-right: 2px solid #ddd; font-weight: bold; display: flex; align-items: center; justify-content: center;\">\n",
       "                184\n",
       "            </div>\n",
       "            <div style=\"width: 150px; text-align: center; border-right: 2px solid #ddd; font-weight: bold; display: flex; align-items: center; justify-content: center;\">\n",
       "                257443\n",
       "            </div>\n",
       "            <div style=\"flex: 1; padding: 8px 12px; white-space: pre-wrap; overflow-wrap: break-word;\">\n",
       "                To a solution of 5-(3-amino-2-methoxyphenyl)-N-methyl-N-[(1-methylpyrazol-4-yl)methyl]pyridine-2-carboxamide (20.0 mg, 0.06 mmol) in 1,4-Dioxane (2 mL){{3:uid 1}}_XXXXX_    was added Tris(dibenzylideneacetone)dipalladium (0) (5.21 mg, 0.01 mmol)  , Cesium carbonate (55.63 mg, 0.17 mmol)  , 9,9-Dimethyl-4,5-bis(diphenylphosphino)xanthene (6.59 mg, 0.01 mmol)  , 2-bromo-4-iodo-5-methoxy-3-methylpyridine (28.0 mg, 0.09 mmol) . The solution was purged with N2 for 1 minute. The reaction was stirred at 100 °C{{1100:row 1}}_XXXXX_   for 1.5 h. Then the reaction mixture was quenched with water, and the aquas phase was washed with dichloromethane (10 mL x 3). The combined organic phase was dried over Na2SO4 and concentrated with reduced pressure to get the product 5-[3-[(2-bromo-5-methoxy-3-methyl-4-pyridinyl)amino]-2-methoxyphenyl]-N-methyl-N-[(1-methylpyrazol-4-yl)methyl]pyridine-2-carboxamide (<span style='background-color: yellow; color: black;'>?</span> mg, <span style='background-color: yellow; color: black;'>?</span> mmol, <span style='background-color: yellow; color: black;'>?</span>% yield)   , which was directly used for the next step.\n",
       "            </div>\n",
       "        </div>\n",
       "    </div>\n",
       "    </div>"
      ],
      "text/plain": [
       "<IPython.core.display.HTML object>"
      ]
     },
     "metadata": {},
     "output_type": "display_data"
    },
    {
     "data": {
      "text/html": [
       "<div style='margin: 10px 0; width: 100%; display: flex; border: 1px solid #ddd; border-radius: 4px; background: #f8f9fa;'>\n",
       "    <div style=\"display: flex; flex-direction: column; width: 100%; border: 2px solid #bbb;\">\n",
       "        <!-- Header Row -->\n",
       "        <div style=\"display: flex; font-weight: bold; background: #d6d8db; padding: 8px; border-bottom: 2px solid #bbb;\">\n",
       "            <div style=\"width: 80px; text-align: center; border-right: 2px solid #bbb; display: flex; align-items: center; justify-content: center;\">Index</div>\n",
       "            <div style=\"width: 150px; text-align: center; border-right: 2px solid #bbb; display: flex; align-items: center; justify-content: center;\">Experiment ID</div>\n",
       "            <div style=\"flex: 1; text-align: center;\">Writeup</div>\n",
       "        </div>\n",
       "\n",
       "        <!-- Data Row -->\n",
       "        <div style=\"display: flex; padding: 8px; background: #f8f9fa;\">\n",
       "            <div style=\"width: 80px; text-align: center; border-right: 2px solid #ddd; font-weight: bold; display: flex; align-items: center; justify-content: center;\">\n",
       "                185\n",
       "            </div>\n",
       "            <div style=\"width: 150px; text-align: center; border-right: 2px solid #ddd; font-weight: bold; display: flex; align-items: center; justify-content: center;\">\n",
       "                258356\n",
       "            </div>\n",
       "            <div style=\"flex: 1; padding: 8px 12px; white-space: pre-wrap; overflow-wrap: break-word;\">\n",
       "                3-methyl-4-(4,4,5,5-tetramethyl-1,3,2-dioxaborolan-2-yl)-2,3-dihydro-1H-indole (57.99 mg, 0.22 mmol){{9:uid 1}}_XXXXX_  Potassium Carbonate (61.85 mg, 0.45 mmol){{9:uid 3}}_XXXXX_   bis(cyclopenta-1,3-dien-1-yl(diphenyl)phosphane);dichloromethane;iron(2+);palladium(2+);dichloride (12.18 mg, 0.01 mmol){{9:uid 4}}_XXXXX_   2-(4-bromophenyl)-2-[methyl(pyridin-2-ylmethyl)amino]acetic acid (50.0 mg, 0.15 mmol){{9:uid 2}}_XXXXX_    dissolved in 1,4-Dioxane (1 mL){{3:uid 1}}_XXXXX_   and Water (0.20 mL){{3:uid 2}}_XXXXX_    degass with n2 sparging for 2 min heat to 80 °C{{8:row 1}}_XXXXX_   for 6 hours   Dilute with ACN filter purify with HPLC   obtained 2-[4-(3-methyl-2,3-dihydro-1H-indol-4-yl)phenyl]-2-[methyl(pyridin-2-ylmethyl)amino]acetic acid (<span style='background-color: yellow; color: black;'>?</span> mg, <span style='background-color: yellow; color: black;'>?</span> mmol, <span style='background-color: yellow; color: black;'>?</span>% yield)   M+1 = 388.2 found\n",
       "            </div>\n",
       "        </div>\n",
       "    </div>\n",
       "    </div>"
      ],
      "text/plain": [
       "<IPython.core.display.HTML object>"
      ]
     },
     "metadata": {},
     "output_type": "display_data"
    },
    {
     "data": {
      "text/html": [
       "<div style='margin: 10px 0; width: 100%; display: flex; border: 1px solid #ddd; border-radius: 4px; background: #f8f9fa;'>\n",
       "    <div style=\"display: flex; flex-direction: column; width: 100%; border: 2px solid #bbb;\">\n",
       "        <!-- Header Row -->\n",
       "        <div style=\"display: flex; font-weight: bold; background: #d6d8db; padding: 8px; border-bottom: 2px solid #bbb;\">\n",
       "            <div style=\"width: 80px; text-align: center; border-right: 2px solid #bbb; display: flex; align-items: center; justify-content: center;\">Index</div>\n",
       "            <div style=\"width: 150px; text-align: center; border-right: 2px solid #bbb; display: flex; align-items: center; justify-content: center;\">Experiment ID</div>\n",
       "            <div style=\"flex: 1; text-align: center;\">Writeup</div>\n",
       "        </div>\n",
       "\n",
       "        <!-- Data Row -->\n",
       "        <div style=\"display: flex; padding: 8px; background: #f8f9fa;\">\n",
       "            <div style=\"width: 80px; text-align: center; border-right: 2px solid #ddd; font-weight: bold; display: flex; align-items: center; justify-content: center;\">\n",
       "                186\n",
       "            </div>\n",
       "            <div style=\"width: 150px; text-align: center; border-right: 2px solid #ddd; font-weight: bold; display: flex; align-items: center; justify-content: center;\">\n",
       "                259087\n",
       "            </div>\n",
       "            <div style=\"flex: 1; padding: 8px 12px; white-space: pre-wrap; overflow-wrap: break-word;\">\n",
       "                1 g Lot #: JMH-07-078 (PRTx0344) was reveived from Affinity and the compound need to be re-purified for ultra-pure studies.   The sample was submitted to analytical and purified by Raul - I was told the compound was not a free base, it was a HCl(<span style='background-color: yellow; color: black;'>?</span>) salt instead.   After purification, the compound was collected and neutralized (09242024)    The fractions collected from prep HPLC was combined and rotovaped to remove as much MeCN as possible. The resulting aqueous solution was neutralized by NaHCO3 (to pH ~8) and extracted with DCM/MeOH (9:1) several times. The organic phase was combined, dried over anhydrous MgSO4 and the solvent was removed in vaccum.\n",
       "            </div>\n",
       "        </div>\n",
       "    </div>\n",
       "    </div>"
      ],
      "text/plain": [
       "<IPython.core.display.HTML object>"
      ]
     },
     "metadata": {},
     "output_type": "display_data"
    },
    {
     "data": {
      "text/html": [
       "<div style='margin: 10px 0; width: 100%; display: flex; border: 1px solid #ddd; border-radius: 4px; background: #f8f9fa;'>\n",
       "    <div style=\"display: flex; flex-direction: column; width: 100%; border: 2px solid #bbb;\">\n",
       "        <!-- Header Row -->\n",
       "        <div style=\"display: flex; font-weight: bold; background: #d6d8db; padding: 8px; border-bottom: 2px solid #bbb;\">\n",
       "            <div style=\"width: 80px; text-align: center; border-right: 2px solid #bbb; display: flex; align-items: center; justify-content: center;\">Index</div>\n",
       "            <div style=\"width: 150px; text-align: center; border-right: 2px solid #bbb; display: flex; align-items: center; justify-content: center;\">Experiment ID</div>\n",
       "            <div style=\"flex: 1; text-align: center;\">Writeup</div>\n",
       "        </div>\n",
       "\n",
       "        <!-- Data Row -->\n",
       "        <div style=\"display: flex; padding: 8px; background: #f8f9fa;\">\n",
       "            <div style=\"width: 80px; text-align: center; border-right: 2px solid #ddd; font-weight: bold; display: flex; align-items: center; justify-content: center;\">\n",
       "                187\n",
       "            </div>\n",
       "            <div style=\"width: 150px; text-align: center; border-right: 2px solid #ddd; font-weight: bold; display: flex; align-items: center; justify-content: center;\">\n",
       "                259383\n",
       "            </div>\n",
       "            <div style=\"flex: 1; padding: 8px 12px; white-space: pre-wrap; overflow-wrap: break-word;\">\n",
       "                tert-butyl (3R)-3-[4-[[6-(dimethylcarbamoyl)-2-pyridinyl]methyl]-2-oxo-8-(4,4,5,5-tetramethyl-1,3,2-dioxaborolan-2-yl)-3,5-dihydro-1,4-benzodiazepin-1-yl]pyrrolidine-1-carboxylate (75.0 mg, 0.12 mmol){{9:uid 1}}_XXXXX_  Potassium Carbonate (50.19 mg, 0.36 mmol){{9:uid 3}}_XXXXX_   bis(cyclopenta-1,3-dien-1-yl(diphenyl)phosphane);dichloromethane;iron(2+);palladium(2+);dichloride (9.89 mg, 0.01 mmol){{9:uid 4}}_XXXXX_   N-[5-acetyl-4-(3-bromo-2-methoxyanilino)-2-pyridinyl]cyclopropanecarboxamide (48.94 mg, 0.12 mmol){{9:uid 2}}_XXXXX_    dissolved in 1,4-Dioxane (1 mL){{3:uid 1}}_XXXXX_   and Water (0.20 mL){{3:uid 2}}_XXXXX_    degass with n2 sparging for 2 min heat to 80 °C{{8:row 1}}_XXXXX_   for 3 hours  rxn complete dilute with brine extract with iPrOH/CHCl3 dry, conc. column 0-15% MeOH/DCM     obtained 2-[4-(3-methyl-2,3-dihydro-1H-indol-4-yl)phenyl]-2-[methyl(pyridin-2-ylmethyl)amino]acetic acid (<span style='background-color: yellow; color: black;'>?</span> mg, <span style='background-color: yellow; color: black;'>?</span> mmol, <span style='background-color: yellow; color: black;'>?</span>% yield)   M+1 =8167.5 found\n",
       "            </div>\n",
       "        </div>\n",
       "    </div>\n",
       "    </div>"
      ],
      "text/plain": [
       "<IPython.core.display.HTML object>"
      ]
     },
     "metadata": {},
     "output_type": "display_data"
    },
    {
     "data": {
      "text/html": [
       "<div style='margin: 10px 0; width: 100%; display: flex; border: 1px solid #ddd; border-radius: 4px; background: #f8f9fa;'>\n",
       "    <div style=\"display: flex; flex-direction: column; width: 100%; border: 2px solid #bbb;\">\n",
       "        <!-- Header Row -->\n",
       "        <div style=\"display: flex; font-weight: bold; background: #d6d8db; padding: 8px; border-bottom: 2px solid #bbb;\">\n",
       "            <div style=\"width: 80px; text-align: center; border-right: 2px solid #bbb; display: flex; align-items: center; justify-content: center;\">Index</div>\n",
       "            <div style=\"width: 150px; text-align: center; border-right: 2px solid #bbb; display: flex; align-items: center; justify-content: center;\">Experiment ID</div>\n",
       "            <div style=\"flex: 1; text-align: center;\">Writeup</div>\n",
       "        </div>\n",
       "\n",
       "        <!-- Data Row -->\n",
       "        <div style=\"display: flex; padding: 8px; background: #f8f9fa;\">\n",
       "            <div style=\"width: 80px; text-align: center; border-right: 2px solid #ddd; font-weight: bold; display: flex; align-items: center; justify-content: center;\">\n",
       "                188\n",
       "            </div>\n",
       "            <div style=\"width: 150px; text-align: center; border-right: 2px solid #ddd; font-weight: bold; display: flex; align-items: center; justify-content: center;\">\n",
       "                259417\n",
       "            </div>\n",
       "            <div style=\"flex: 1; padding: 8px 12px; white-space: pre-wrap; overflow-wrap: break-word;\">\n",
       "                tert-butyl (3S)-3-[4-[[6-(dimethylcarbamoyl)-2-pyridinyl]methyl]-2-oxo-8-(4,4,5,5-tetramethyl-1,3,2-dioxaborolan-2-yl)-3,5-dihydro-1,4-benzodiazepin-1-yl]pyrrolidine-1-carboxylate (72.0 mg, 0.12 mmol){{9:uid 1}}_XXXXX_  Potassium Carbonate (48.18 mg, 0.35 mmol){{9:uid 3}}_XXXXX_   bis(cyclopenta-1,3-dien-1-yl(diphenyl)phosphane);dichloromethane;iron(2+);palladium(2+);dichloride (9.49 mg, 0.01 mmol){{9:uid 4}}_XXXXX_   N-[5-acetyl-4-(3-bromo-2-methoxyanilino)-2-pyridinyl]cyclopropanecarboxamide (51.63 mg, 0.12 mmol){{9:uid 2}}_XXXXX_    dissolved in 1,4-Dioxane (1 mL){{3:uid 1}}_XXXXX_   and Water (0.20 mL){{3:uid 2}}_XXXXX_    degass with n2 sparging for 2 min heat to 80 °C{{8:row 1}}_XXXXX_   for 3 hours  rxn complete dilute with brine extract with iPrOH/CHCl3 dry, conc. column 0-15% MeOH/DCM     obtained 2-[4-(3-methyl-2,3-dihydro-1H-indol-4-yl)phenyl]-2-[methyl(pyridin-2-ylmethyl)amino]acetic acid (<span style='background-color: yellow; color: black;'>?</span> mg, <span style='background-color: yellow; color: black;'>?</span> mmol, <span style='background-color: yellow; color: black;'>?</span>% yield)   M+1 = 817.6 found\n",
       "            </div>\n",
       "        </div>\n",
       "    </div>\n",
       "    </div>"
      ],
      "text/plain": [
       "<IPython.core.display.HTML object>"
      ]
     },
     "metadata": {},
     "output_type": "display_data"
    },
    {
     "data": {
      "text/html": [
       "<div style='margin: 10px 0; width: 100%; display: flex; border: 1px solid #ddd; border-radius: 4px; background: #f8f9fa;'>\n",
       "    <div style=\"display: flex; flex-direction: column; width: 100%; border: 2px solid #bbb;\">\n",
       "        <!-- Header Row -->\n",
       "        <div style=\"display: flex; font-weight: bold; background: #d6d8db; padding: 8px; border-bottom: 2px solid #bbb;\">\n",
       "            <div style=\"width: 80px; text-align: center; border-right: 2px solid #bbb; display: flex; align-items: center; justify-content: center;\">Index</div>\n",
       "            <div style=\"width: 150px; text-align: center; border-right: 2px solid #bbb; display: flex; align-items: center; justify-content: center;\">Experiment ID</div>\n",
       "            <div style=\"flex: 1; text-align: center;\">Writeup</div>\n",
       "        </div>\n",
       "\n",
       "        <!-- Data Row -->\n",
       "        <div style=\"display: flex; padding: 8px; background: #f8f9fa;\">\n",
       "            <div style=\"width: 80px; text-align: center; border-right: 2px solid #ddd; font-weight: bold; display: flex; align-items: center; justify-content: center;\">\n",
       "                189\n",
       "            </div>\n",
       "            <div style=\"width: 150px; text-align: center; border-right: 2px solid #ddd; font-weight: bold; display: flex; align-items: center; justify-content: center;\">\n",
       "                259421\n",
       "            </div>\n",
       "            <div style=\"flex: 1; padding: 8px 12px; white-space: pre-wrap; overflow-wrap: break-word;\">\n",
       "                tert-butyl 3-[4-[[6-(dimethylcarbamoyl)-2-pyridinyl]methyl]-2-oxo-8-(4,4,5,5-tetramethyl-1,3,2-dioxaborolan-2-yl)-3,5-dihydro-1,4-benzodiazepin-1-yl]azetidine-1-carboxylate (78.0 mg, 0.13 mmol){{9:uid 1}}_XXXXX_  Potassium Carbonate (53.41 mg, 0.39 mmol){{9:uid 3}}_XXXXX_   bis(cyclopenta-1,3-dien-1-yl(diphenyl)phosphane);dichloromethane;iron(2+);palladium(2+);dichloride (10.52 mg, 0.01 mmol){{9:uid 4}}_XXXXX_   N-[5-acetyl-4-(3-bromo-2-methoxyanilino)-2-pyridinyl]cyclopropanecarboxamide (57.22 mg, 0.13 mmol){{9:uid 2}}_XXXXX_    dissolved in 1,4-Dioxane (1 mL){{3:uid 1}}_XXXXX_   and Water (0.20 mL){{3:uid 2}}_XXXXX_    degass with n2 sparging for 2 min heat to 80 °C{{8:row 1}}_XXXXX_   for 3 hours  rxn complete dilute with brine extract with iPrOH/CHCl3 dry, conc. column 0-15% MeOH/DCM     obtained 2-[4-(3-methyl-2,3-dihydro-1H-indol-4-yl)phenyl]-2-[methyl(pyridin-2-ylmethyl)amino]acetic acid (<span style='background-color: yellow; color: black;'>?</span> mg, <span style='background-color: yellow; color: black;'>?</span> mmol, <span style='background-color: yellow; color: black;'>?</span>% yield)   M+1 = 803.5 found\n",
       "            </div>\n",
       "        </div>\n",
       "    </div>\n",
       "    </div>"
      ],
      "text/plain": [
       "<IPython.core.display.HTML object>"
      ]
     },
     "metadata": {},
     "output_type": "display_data"
    },
    {
     "data": {
      "text/html": [
       "<div style='margin: 10px 0; width: 100%; display: flex; border: 1px solid #ddd; border-radius: 4px; background: #f8f9fa;'>\n",
       "    <div style=\"display: flex; flex-direction: column; width: 100%; border: 2px solid #bbb;\">\n",
       "        <!-- Header Row -->\n",
       "        <div style=\"display: flex; font-weight: bold; background: #d6d8db; padding: 8px; border-bottom: 2px solid #bbb;\">\n",
       "            <div style=\"width: 80px; text-align: center; border-right: 2px solid #bbb; display: flex; align-items: center; justify-content: center;\">Index</div>\n",
       "            <div style=\"width: 150px; text-align: center; border-right: 2px solid #bbb; display: flex; align-items: center; justify-content: center;\">Experiment ID</div>\n",
       "            <div style=\"flex: 1; text-align: center;\">Writeup</div>\n",
       "        </div>\n",
       "\n",
       "        <!-- Data Row -->\n",
       "        <div style=\"display: flex; padding: 8px; background: #f8f9fa;\">\n",
       "            <div style=\"width: 80px; text-align: center; border-right: 2px solid #ddd; font-weight: bold; display: flex; align-items: center; justify-content: center;\">\n",
       "                190\n",
       "            </div>\n",
       "            <div style=\"width: 150px; text-align: center; border-right: 2px solid #ddd; font-weight: bold; display: flex; align-items: center; justify-content: center;\">\n",
       "                259422\n",
       "            </div>\n",
       "            <div style=\"flex: 1; padding: 8px 12px; white-space: pre-wrap; overflow-wrap: break-word;\">\n",
       "                tert-butyl 4-[4-[[6-(dimethylcarbamoyl)-2-pyridinyl]methyl]-2-oxo-8-(4,4,5,5-tetramethyl-1,3,2-dioxaborolan-2-yl)-3,5-dihydro-1,4-benzodiazepin-1-yl]piperidine-1-carboxylate (99.0 mg, 0.16 mmol){{9:uid 1}}_XXXXX_  Potassium Carbonate (64.78 mg, 0.47 mmol){{9:uid 3}}_XXXXX_   bis(cyclopenta-1,3-dien-1-yl(diphenyl)phosphane);dichloromethane;iron(2+);palladium(2+);dichloride (12.76 mg, 0.02 mmol){{9:uid 4}}_XXXXX_   N-[5-acetyl-4-(3-bromo-2-methoxyanilino)-2-pyridinyl]cyclopropanecarboxamide (69.41 mg, 0.16 mmol){{9:uid 2}}_XXXXX_    dissolved in 1,4-Dioxane (1 mL){{3:uid 1}}_XXXXX_   and Water (0.20 mL){{3:uid 2}}_XXXXX_    degass with n2 sparging for 2 min heat to 80 °C{{8:row 1}}_XXXXX_   for 3 hours  rxn complete dilute with brine extract with iPrOH/CHCl3 dry, conc. column 0-15% MeOH/DCM     obtained 2-[4-(3-methyl-2,3-dihydro-1H-indol-4-yl)phenyl]-2-[methyl(pyridin-2-ylmethyl)amino]acetic acid (<span style='background-color: yellow; color: black;'>?</span> mg, <span style='background-color: yellow; color: black;'>?</span> mmol, <span style='background-color: yellow; color: black;'>?</span>% yield)   M+1 = 831.6 found\n",
       "            </div>\n",
       "        </div>\n",
       "    </div>\n",
       "    </div>"
      ],
      "text/plain": [
       "<IPython.core.display.HTML object>"
      ]
     },
     "metadata": {},
     "output_type": "display_data"
    },
    {
     "data": {
      "text/html": [
       "<div style='margin: 10px 0; width: 100%; display: flex; border: 1px solid #ddd; border-radius: 4px; background: #f8f9fa;'>\n",
       "    <div style=\"display: flex; flex-direction: column; width: 100%; border: 2px solid #bbb;\">\n",
       "        <!-- Header Row -->\n",
       "        <div style=\"display: flex; font-weight: bold; background: #d6d8db; padding: 8px; border-bottom: 2px solid #bbb;\">\n",
       "            <div style=\"width: 80px; text-align: center; border-right: 2px solid #bbb; display: flex; align-items: center; justify-content: center;\">Index</div>\n",
       "            <div style=\"width: 150px; text-align: center; border-right: 2px solid #bbb; display: flex; align-items: center; justify-content: center;\">Experiment ID</div>\n",
       "            <div style=\"flex: 1; text-align: center;\">Writeup</div>\n",
       "        </div>\n",
       "\n",
       "        <!-- Data Row -->\n",
       "        <div style=\"display: flex; padding: 8px; background: #f8f9fa;\">\n",
       "            <div style=\"width: 80px; text-align: center; border-right: 2px solid #ddd; font-weight: bold; display: flex; align-items: center; justify-content: center;\">\n",
       "                191\n",
       "            </div>\n",
       "            <div style=\"width: 150px; text-align: center; border-right: 2px solid #ddd; font-weight: bold; display: flex; align-items: center; justify-content: center;\">\n",
       "                259463\n",
       "            </div>\n",
       "            <div style=\"flex: 1; padding: 8px 12px; white-space: pre-wrap; overflow-wrap: break-word;\">\n",
       "                A solution of 1-[2,6-bis(phenylmethoxy)-3-pyridinyl]-5-bromo-3-methylindazole (230.0 mg, 0.46 mmol){{9:uid 1}}_XXXXX_   , 2-(Dicyclohexylphosphino)-2',4',6'-tri-i-propyl-1,1'-biphenyl (XPhos) (43.82 mg, 0.09 mmol){{9:uid 3}}_XXXXX_   , Cesium carbonate (494.2 mg, 1.52 mmol){{9:uid 5}}_XXXXX_   , rac-(3R)-3-(phenylmethoxymethyl)pyrrolidine (123.08 mg, 0.64 mmol){{9:uid 2}}_XXXXX_   , and Tris(dibenzylideneacetone)dipalladium (0) (42.09 mg, 0.05 mmol){{9:uid 4}}_XXXXX_   in 1,4-Dioxane (4.5 mL){{3:uid 1}}_XXXXX_   was sparged for 5 min with nitrogen.    Cont to stir at 110 °C{{8:row 1}}_XXXXX_   overnight *full conversion The reaction was diluted with water (10 mL) and MTBE (10 mL). The aqueous layer was extracted with MTBE (3 x 5 mL). The combined organic layers were washed with brine, dried over MgSO4, filtered, and concentrated. The crude material was purified by silica gel chromatography (0-25% EtOAc/hexanes) to afford 1-[2,6-bis(phenylmethoxy)-3-pyridinyl]-3-methyl-5-[rac-(3R)-3-(phenylmethoxymethyl)pyrrolidin-1-yl]indazole (<span style='background-color: yellow; color: black;'>?</span> mg, <span style='background-color: yellow; color: black;'>?</span> mmol, <span style='background-color: yellow; color: black;'>?</span>% yield)  as a yellow sticky solid. M+1=610.2      \n",
       "            </div>\n",
       "        </div>\n",
       "    </div>\n",
       "    </div>"
      ],
      "text/plain": [
       "<IPython.core.display.HTML object>"
      ]
     },
     "metadata": {},
     "output_type": "display_data"
    },
    {
     "data": {
      "text/html": [
       "<div style='margin: 10px 0; width: 100%; display: flex; border: 1px solid #ddd; border-radius: 4px; background: #f8f9fa;'>\n",
       "    <div style=\"display: flex; flex-direction: column; width: 100%; border: 2px solid #bbb;\">\n",
       "        <!-- Header Row -->\n",
       "        <div style=\"display: flex; font-weight: bold; background: #d6d8db; padding: 8px; border-bottom: 2px solid #bbb;\">\n",
       "            <div style=\"width: 80px; text-align: center; border-right: 2px solid #bbb; display: flex; align-items: center; justify-content: center;\">Index</div>\n",
       "            <div style=\"width: 150px; text-align: center; border-right: 2px solid #bbb; display: flex; align-items: center; justify-content: center;\">Experiment ID</div>\n",
       "            <div style=\"flex: 1; text-align: center;\">Writeup</div>\n",
       "        </div>\n",
       "\n",
       "        <!-- Data Row -->\n",
       "        <div style=\"display: flex; padding: 8px; background: #f8f9fa;\">\n",
       "            <div style=\"width: 80px; text-align: center; border-right: 2px solid #ddd; font-weight: bold; display: flex; align-items: center; justify-content: center;\">\n",
       "                192\n",
       "            </div>\n",
       "            <div style=\"width: 150px; text-align: center; border-right: 2px solid #ddd; font-weight: bold; display: flex; align-items: center; justify-content: center;\">\n",
       "                259668\n",
       "            </div>\n",
       "            <div style=\"flex: 1; padding: 8px 12px; white-space: pre-wrap; overflow-wrap: break-word;\">\n",
       "                A solution of 1-[2,6-bis(phenylmethoxy)-3-pyridinyl]-5-bromo-3-methylindazole (200.0 mg, 0.4 mmol){{9:uid 1}}_XXXXX_   , 2-(Dicyclohexylphosphino)-2',4',6'-tri-i-propyl-1,1'-biphenyl (XPhos) (38.11 mg, 0.08 mmol){{9:uid 3}}_XXXXX_   , Cesium carbonate (429.74 mg, 1.32 mmol){{9:uid 5}}_XXXXX_   , rac-(3R)-3-(phenylmethoxymethyl)pyrrolidine (107.03 mg, 0.56 mmol){{9:uid 2}}_XXXXX_   , and Tris(dibenzylideneacetone)dipalladium (0) (36.6 mg, 0.04 mmol){{9:uid 4}}_XXXXX_   in 1,4-Dioxane (4 mL){{3:uid 1}}_XXXXX_   was sparged for 5 min with nitrogen.    Cont to stir at 110 °C{{8:row 1}}_XXXXX_   overnight *full conversion The reaction was diluted with water (10 mL) and MTBE (10 mL). The aqueous layer was extracted with MTBE (3 x 5 mL). The combined organic layers were washed with brine, dried over MgSO4, filtered, and concentrated. The crude material was purified by silica gel chromatography (0-25% EtOAc/hexanes) to afford 1-[2,6-bis(phenylmethoxy)-3-pyridinyl]-3-methyl-5-[rac-(3R)-3-(phenylmethoxymethyl)pyrrolidin-1-yl]indazole (<span style='background-color: yellow; color: black;'>?</span> mg, <span style='background-color: yellow; color: black;'>?</span> mmol, <span style='background-color: yellow; color: black;'>?</span>% yield)  as a yellow sticky solid. M+1=611.2      \n",
       "            </div>\n",
       "        </div>\n",
       "    </div>\n",
       "    </div>"
      ],
      "text/plain": [
       "<IPython.core.display.HTML object>"
      ]
     },
     "metadata": {},
     "output_type": "display_data"
    },
    {
     "data": {
      "text/html": [
       "<div style='margin: 10px 0; width: 100%; display: flex; border: 1px solid #ddd; border-radius: 4px; background: #f8f9fa;'>\n",
       "    <div style=\"display: flex; flex-direction: column; width: 100%; border: 2px solid #bbb;\">\n",
       "        <!-- Header Row -->\n",
       "        <div style=\"display: flex; font-weight: bold; background: #d6d8db; padding: 8px; border-bottom: 2px solid #bbb;\">\n",
       "            <div style=\"width: 80px; text-align: center; border-right: 2px solid #bbb; display: flex; align-items: center; justify-content: center;\">Index</div>\n",
       "            <div style=\"width: 150px; text-align: center; border-right: 2px solid #bbb; display: flex; align-items: center; justify-content: center;\">Experiment ID</div>\n",
       "            <div style=\"flex: 1; text-align: center;\">Writeup</div>\n",
       "        </div>\n",
       "\n",
       "        <!-- Data Row -->\n",
       "        <div style=\"display: flex; padding: 8px; background: #f8f9fa;\">\n",
       "            <div style=\"width: 80px; text-align: center; border-right: 2px solid #ddd; font-weight: bold; display: flex; align-items: center; justify-content: center;\">\n",
       "                193\n",
       "            </div>\n",
       "            <div style=\"width: 150px; text-align: center; border-right: 2px solid #ddd; font-weight: bold; display: flex; align-items: center; justify-content: center;\">\n",
       "                260178\n",
       "            </div>\n",
       "            <div style=\"flex: 1; padding: 8px 12px; white-space: pre-wrap; overflow-wrap: break-word;\">\n",
       "                To a nitrogen sparged solution of 4-bromo-N-[4-methoxy-6-(pyrazol-1-ylmethyl)-1,2-benzoxazol-3-yl]benzenesulfonamide (69.0 mg, 0.15 mmol) , <span style='background-color: yellow; color: black;'>?</span> (<span style='background-color: yellow; color: black;'>?</span>, <span style='background-color: yellow; color: black;'>?</span> mmol) , sodium tert-butoxide (71.56 mg, 0.74 mmol)   in 1,4-Dioxane (1.4893 mL) was added (2'-Amino-2-biphenylyl)(methanesulfonato-kappaO)palladium - dicyclohexyl(2',4',6'-triisopropyl-3,6-dimethoxy-2-biphenylyl)phosphine (1:1) (10.8 mg, 0.01 mmol) . The reaction was stirred for 1 h at 100 °C , under a nitrogen atmosphere. The reaction was concentrated, and 0.2 mL of TFA was added. The reaction was stirred for 30 min. 68% conversion from protected amine to deprotected amine 0.2mL of TFA was added. The rxn stirred for 1hr Full conversion The reaction was concentrated via rotory evaporation and Hi-vac The crude material was purified by silica gel chromatography (0-25% MeOH/DCM) to afford 4-(2,7-diazaspiro[3.5]nonan-2-yl)-N-[4-methoxy-6-(pyrazol-1-ylmethyl)-1,2-benzoxazol-3-yl]benzenesulfonamide (55 mg, 0.10814 mmol, 72.612% yield){{2:uid 1}}_XXXXX_   as a white solid.   Before deprotection: M+1= 609.2 After deprotection: M+1 = 509.0\n",
       "            </div>\n",
       "        </div>\n",
       "    </div>\n",
       "    </div>"
      ],
      "text/plain": [
       "<IPython.core.display.HTML object>"
      ]
     },
     "metadata": {},
     "output_type": "display_data"
    },
    {
     "data": {
      "text/html": [
       "<div style='margin: 10px 0; width: 100%; display: flex; border: 1px solid #ddd; border-radius: 4px; background: #f8f9fa;'>\n",
       "    <div style=\"display: flex; flex-direction: column; width: 100%; border: 2px solid #bbb;\">\n",
       "        <!-- Header Row -->\n",
       "        <div style=\"display: flex; font-weight: bold; background: #d6d8db; padding: 8px; border-bottom: 2px solid #bbb;\">\n",
       "            <div style=\"width: 80px; text-align: center; border-right: 2px solid #bbb; display: flex; align-items: center; justify-content: center;\">Index</div>\n",
       "            <div style=\"width: 150px; text-align: center; border-right: 2px solid #bbb; display: flex; align-items: center; justify-content: center;\">Experiment ID</div>\n",
       "            <div style=\"flex: 1; text-align: center;\">Writeup</div>\n",
       "        </div>\n",
       "\n",
       "        <!-- Data Row -->\n",
       "        <div style=\"display: flex; padding: 8px; background: #f8f9fa;\">\n",
       "            <div style=\"width: 80px; text-align: center; border-right: 2px solid #ddd; font-weight: bold; display: flex; align-items: center; justify-content: center;\">\n",
       "                194\n",
       "            </div>\n",
       "            <div style=\"width: 150px; text-align: center; border-right: 2px solid #ddd; font-weight: bold; display: flex; align-items: center; justify-content: center;\">\n",
       "                260345\n",
       "            </div>\n",
       "            <div style=\"flex: 1; padding: 8px 12px; white-space: pre-wrap; overflow-wrap: break-word;\">\n",
       "                N,N-dimethyl-6-[[1-(1-methylpyrazol-4-yl)-2-oxo-8-(4,4,5,5-tetramethyl-1,3,2-dioxaborolan-2-yl)-3,5-dihydro-1,4-benzodiazepin-4-yl]methyl]pyridine-2-carboxamide (10.0 mg, 0.02 mmol){{9:uid 1}}_XXXXX_  Potassium Carbonate (7.82 mg, 0.06 mmol){{9:uid 3}}_XXXXX_   bis(cyclopenta-1,3-dien-1-yl(diphenyl)phosphane);dichloromethane;iron(2+);palladium(2+);dichloride (1.54 mg, 0. mmol){{9:uid 4}}_XXXXX_   N-[5-acetyl-4-(3-bromo-2-methoxyanilino)-2-pyridinyl]cyclopropanecarboxamide (12.56 mg, 0.03 mmol){{9:uid 2}}_XXXXX_    dissolved in 1,4-Dioxane (1 mL){{3:uid 1}}_XXXXX_   and Water (0.20 mL){{3:uid 2}}_XXXXX_    degass with n2 sparging for 2 min heat to 80 °C{{8:row 1}}_XXXXX_   for 3 hours  rxn complete   dilute with ACN filter purify with HPLC:    obtained 2-[4-(3-methyl-2,3-dihydro-1H-indol-4-yl)phenyl]-2-[methyl(pyridin-2-ylmethyl)amino]acetic acid (<span style='background-color: yellow; color: black;'>?</span> mg, <span style='background-color: yellow; color: black;'>?</span> mmol, <span style='background-color: yellow; color: black;'>?</span>% yield)   M+1 = 728.2 Purity  = 96.9\n",
       "            </div>\n",
       "        </div>\n",
       "    </div>\n",
       "    </div>"
      ],
      "text/plain": [
       "<IPython.core.display.HTML object>"
      ]
     },
     "metadata": {},
     "output_type": "display_data"
    },
    {
     "data": {
      "text/html": [
       "<div style='margin: 10px 0; width: 100%; display: flex; border: 1px solid #ddd; border-radius: 4px; background: #f8f9fa;'>\n",
       "    <div style=\"display: flex; flex-direction: column; width: 100%; border: 2px solid #bbb;\">\n",
       "        <!-- Header Row -->\n",
       "        <div style=\"display: flex; font-weight: bold; background: #d6d8db; padding: 8px; border-bottom: 2px solid #bbb;\">\n",
       "            <div style=\"width: 80px; text-align: center; border-right: 2px solid #bbb; display: flex; align-items: center; justify-content: center;\">Index</div>\n",
       "            <div style=\"width: 150px; text-align: center; border-right: 2px solid #bbb; display: flex; align-items: center; justify-content: center;\">Experiment ID</div>\n",
       "            <div style=\"flex: 1; text-align: center;\">Writeup</div>\n",
       "        </div>\n",
       "\n",
       "        <!-- Data Row -->\n",
       "        <div style=\"display: flex; padding: 8px; background: #f8f9fa;\">\n",
       "            <div style=\"width: 80px; text-align: center; border-right: 2px solid #ddd; font-weight: bold; display: flex; align-items: center; justify-content: center;\">\n",
       "                195\n",
       "            </div>\n",
       "            <div style=\"width: 150px; text-align: center; border-right: 2px solid #ddd; font-weight: bold; display: flex; align-items: center; justify-content: center;\">\n",
       "                260516\n",
       "            </div>\n",
       "            <div style=\"flex: 1; padding: 8px 12px; white-space: pre-wrap; overflow-wrap: break-word;\">\n",
       "                To a nitrogen sparged solution of 4-bromo-N-[4-methoxy-6-(pyrazol-1-ylmethyl)-1,2-benzoxazol-3-yl]benzenesulfonamide (69.0 mg, 0.15 mmol) , <span style='background-color: yellow; color: black;'>?</span> (<span style='background-color: yellow; color: black;'>?</span>, <span style='background-color: yellow; color: black;'>?</span> mmol) , sodium tert-butoxide (71.56 mg, 0.74 mmol)   in 1,4-Dioxane (1.4893 mL) was added (2'-Amino-2-biphenylyl)(methanesulfonato-kappaO)palladium - dicyclohexyl(2',4',6'-triisopropyl-3,6-dimethoxy-2-biphenylyl)phosphine (1:1) (10.8 mg, 0.01 mmol) . The reaction was stirred for 1 h at 100 °C , under a nitrogen atmosphere. appeared to be full conversion, did not see SM The reaction was concentrated, and 0.2 mL of TFA was added. The reaction was stirred for 30 min. 77% conversion from protected amine to deprotected amine The reaction was concentrated via rotory evaporation and Hi-vac The crude material was purified by silica gel chromatography (0-25% MeOH/DCM) to afford N-[4-methoxy-6-(pyrazol-1-ylmethyl)-1,2-benzoxazol-3-yl]-4-piperazin-1-ylbenzenesulfonamide (42 mg, 0.08964 mmol, 103.83% yield){{2:uid 1}}_XXXXX_   as a white solid.   Before deprotection: M+1= 569.1 After deprotection: M+1 = 469.0\n",
       "            </div>\n",
       "        </div>\n",
       "    </div>\n",
       "    </div>"
      ],
      "text/plain": [
       "<IPython.core.display.HTML object>"
      ]
     },
     "metadata": {},
     "output_type": "display_data"
    },
    {
     "data": {
      "text/html": [
       "<div style='margin: 10px 0; width: 100%; display: flex; border: 1px solid #ddd; border-radius: 4px; background: #f8f9fa;'>\n",
       "    <div style=\"display: flex; flex-direction: column; width: 100%; border: 2px solid #bbb;\">\n",
       "        <!-- Header Row -->\n",
       "        <div style=\"display: flex; font-weight: bold; background: #d6d8db; padding: 8px; border-bottom: 2px solid #bbb;\">\n",
       "            <div style=\"width: 80px; text-align: center; border-right: 2px solid #bbb; display: flex; align-items: center; justify-content: center;\">Index</div>\n",
       "            <div style=\"width: 150px; text-align: center; border-right: 2px solid #bbb; display: flex; align-items: center; justify-content: center;\">Experiment ID</div>\n",
       "            <div style=\"flex: 1; text-align: center;\">Writeup</div>\n",
       "        </div>\n",
       "\n",
       "        <!-- Data Row -->\n",
       "        <div style=\"display: flex; padding: 8px; background: #f8f9fa;\">\n",
       "            <div style=\"width: 80px; text-align: center; border-right: 2px solid #ddd; font-weight: bold; display: flex; align-items: center; justify-content: center;\">\n",
       "                196\n",
       "            </div>\n",
       "            <div style=\"width: 150px; text-align: center; border-right: 2px solid #ddd; font-weight: bold; display: flex; align-items: center; justify-content: center;\">\n",
       "                260570\n",
       "            </div>\n",
       "            <div style=\"flex: 1; padding: 8px 12px; white-space: pre-wrap; overflow-wrap: break-word;\">\n",
       "                To a nitrogen sparged solution of 4-bromo-N-[4-methoxy-6-(pyrazol-1-ylmethyl)-1,2-benzoxazol-3-yl]benzenesulfonamide (69.0 mg, 0.15 mmol) , <span style='background-color: yellow; color: black;'>?</span> (<span style='background-color: yellow; color: black;'>?</span>, <span style='background-color: yellow; color: black;'>?</span> mmol) , sodium tert-butoxide (71.56 mg, 0.74 mmol)   in 1,4-Dioxane (1.4893 mL) was added (2'-Amino-2-biphenylyl)(methanesulfonato-kappaO)palladium - dicyclohexyl(2',4',6'-triisopropyl-3,6-dimethoxy-2-biphenylyl)phosphine (1:1) (10.8 mg, 0.01 mmol) . The reaction was stirred overnight at 100 °C , under a nitrogen atmosphere. 90% conversion, The reaction was concentrated, and 0.2 mL of TFA was added. The reaction was stirred for 1hr. full conversion from protected amine to deprotected amine The reaction was concentrated via rotory evaporation and Hi-vac The crude material was purified by silica gel chromatography (0-25% MeOH/DCM) to afford 2-methoxy-N-[4-methoxy-6-(pyrazol-1-ylmethyl)-1,2-benzoxazol-3-yl]-4-piperazin-1-ylbenzenesulfonamide;2,2,2-trifluoroacetic acid (45 mg, 0.07346 mmol, 120.8% yield){{2:uid 1}}_XXXXX_   as a tan solid. high yiled likely due to pdt being not fully dry   Before deprotection: M+1= 599.1 After deprotection: M+1 = 499.0\n",
       "            </div>\n",
       "        </div>\n",
       "    </div>\n",
       "    </div>"
      ],
      "text/plain": [
       "<IPython.core.display.HTML object>"
      ]
     },
     "metadata": {},
     "output_type": "display_data"
    },
    {
     "data": {
      "text/html": [
       "<div style='margin: 10px 0; width: 100%; display: flex; border: 1px solid #ddd; border-radius: 4px; background: #f8f9fa;'>\n",
       "    <div style=\"display: flex; flex-direction: column; width: 100%; border: 2px solid #bbb;\">\n",
       "        <!-- Header Row -->\n",
       "        <div style=\"display: flex; font-weight: bold; background: #d6d8db; padding: 8px; border-bottom: 2px solid #bbb;\">\n",
       "            <div style=\"width: 80px; text-align: center; border-right: 2px solid #bbb; display: flex; align-items: center; justify-content: center;\">Index</div>\n",
       "            <div style=\"width: 150px; text-align: center; border-right: 2px solid #bbb; display: flex; align-items: center; justify-content: center;\">Experiment ID</div>\n",
       "            <div style=\"flex: 1; text-align: center;\">Writeup</div>\n",
       "        </div>\n",
       "\n",
       "        <!-- Data Row -->\n",
       "        <div style=\"display: flex; padding: 8px; background: #f8f9fa;\">\n",
       "            <div style=\"width: 80px; text-align: center; border-right: 2px solid #ddd; font-weight: bold; display: flex; align-items: center; justify-content: center;\">\n",
       "                197\n",
       "            </div>\n",
       "            <div style=\"width: 150px; text-align: center; border-right: 2px solid #ddd; font-weight: bold; display: flex; align-items: center; justify-content: center;\">\n",
       "                260667\n",
       "            </div>\n",
       "            <div style=\"flex: 1; padding: 8px 12px; white-space: pre-wrap; overflow-wrap: break-word;\">\n",
       "                To 1-[3-(2,6-dioxopiperidin-3-yl)-1-methylpyrrolo[2,3-b]pyridin-6-yl]piperidine-4-carbaldehyde (4.98 mg, 0.01 mmol){{9:uid 2}}_XXXXX_     and 2-methoxy-N-[4-methoxy-6-(pyrazol-1-ylmethyl)-1,2-benzoxazol-3-yl]-4-piperazin-1-ylbenzenesulfonamide (7.0 mg, 0.01 mmol){{9:uid 1}}_XXXXX_   in DMSO (0.25024 mL){{3:uid 3613}}_XXXXX_    and MeCN (0.18768 mL){{3:uid 3614}}_XXXXX_   was added acetic acid (11.81 uL, 0.21 mmol). The mixture was stirred at rt for 10min, sodium triacetoxyborohydride (14.58 mg, 0.07 mmol)  was added. The mixture was stirred at room temperature overnight  The rxn mixture was diluted with MeCN and water, filtered, and purified via Prep LC/MS in a C18 column to afford 4-[7-[[1-[1-(2,6-dioxopiperidin-3-yl)-3-methylindazol-5-yl]piperidin-4-yl]methyl]-2,7-diazaspiro[3.5]nonan-2-yl]-2-methoxy-N-[4-methoxy-6-(pyrazol-1-ylmethyl)-1,2-benzoxazol-3-yl]benzenesulfonamide (<span style='background-color: yellow; color: black;'>?</span> mg, <span style='background-color: yellow; color: black;'>?</span> mmol, <span style='background-color: yellow; color: black;'>?</span>% yield)  as a white solid  m+1 = 836.2 doubly charged = 419.1 \n",
       "            </div>\n",
       "        </div>\n",
       "    </div>\n",
       "    </div>"
      ],
      "text/plain": [
       "<IPython.core.display.HTML object>"
      ]
     },
     "metadata": {},
     "output_type": "display_data"
    },
    {
     "data": {
      "text/html": [
       "<div style='margin: 10px 0; width: 100%; display: flex; border: 1px solid #ddd; border-radius: 4px; background: #f8f9fa;'>\n",
       "    <div style=\"display: flex; flex-direction: column; width: 100%; border: 2px solid #bbb;\">\n",
       "        <!-- Header Row -->\n",
       "        <div style=\"display: flex; font-weight: bold; background: #d6d8db; padding: 8px; border-bottom: 2px solid #bbb;\">\n",
       "            <div style=\"width: 80px; text-align: center; border-right: 2px solid #bbb; display: flex; align-items: center; justify-content: center;\">Index</div>\n",
       "            <div style=\"width: 150px; text-align: center; border-right: 2px solid #bbb; display: flex; align-items: center; justify-content: center;\">Experiment ID</div>\n",
       "            <div style=\"flex: 1; text-align: center;\">Writeup</div>\n",
       "        </div>\n",
       "\n",
       "        <!-- Data Row -->\n",
       "        <div style=\"display: flex; padding: 8px; background: #f8f9fa;\">\n",
       "            <div style=\"width: 80px; text-align: center; border-right: 2px solid #ddd; font-weight: bold; display: flex; align-items: center; justify-content: center;\">\n",
       "                198\n",
       "            </div>\n",
       "            <div style=\"width: 150px; text-align: center; border-right: 2px solid #ddd; font-weight: bold; display: flex; align-items: center; justify-content: center;\">\n",
       "                261401\n",
       "            </div>\n",
       "            <div style=\"flex: 1; padding: 8px 12px; white-space: pre-wrap; overflow-wrap: break-word;\">\n",
       "                To a solution of <span style='background-color: yellow; color: black;'>?</span> (<span style='background-color: yellow; color: black;'>?</span>, <span style='background-color: yellow; color: black;'>?</span> mmol)  in 1,4-Dioxane (2.25 mL)  and Water (0.25 mL) was added <span style='background-color: yellow; color: black;'>?</span> (<span style='background-color: yellow; color: black;'>?</span>, <span style='background-color: yellow; color: black;'>?</span> mmol)  ,<span style='background-color: yellow; color: black;'>?</span> (<span style='background-color: yellow; color: black;'>?</span>, <span style='background-color: yellow; color: black;'>?</span> mmol)  and <span style='background-color: yellow; color: black;'>?</span> (<span style='background-color: yellow; color: black;'>?</span>, <span style='background-color: yellow; color: black;'>?</span> mmol) under N2 . The resulting mixture was stirred at 110 °C for 18 h.  LCMS showed desired mass. The reaction mixture was quenched by adding H2O. the mixture was extracted with EtOAc (50 ml x 3). the combined organic layers were washed with brine, dried over sodium sulfate, filtered and concentrated under reduced pressure to obtain crude, which was purified by column (eluent: EA+2.5%MeOH) to obtain  6-[6-amino-5-(difluoromethoxy)pyrimidin-4-yl]-2-[[6-(3,3-difluoropyrrolidine-1-carbonyl)-2-pyridinyl]methyl]spiro[3H-isoquinoline-4,1'-cyclobutane]-1-one (235 mg, 0.41188 mmol, 68.841% yield)   as a yellow solid.\n",
       "            </div>\n",
       "        </div>\n",
       "    </div>\n",
       "    </div>"
      ],
      "text/plain": [
       "<IPython.core.display.HTML object>"
      ]
     },
     "metadata": {},
     "output_type": "display_data"
    },
    {
     "data": {
      "text/html": [
       "<div style='margin: 10px 0; width: 100%; display: flex; border: 1px solid #ddd; border-radius: 4px; background: #f8f9fa;'>\n",
       "    <div style=\"display: flex; flex-direction: column; width: 100%; border: 2px solid #bbb;\">\n",
       "        <!-- Header Row -->\n",
       "        <div style=\"display: flex; font-weight: bold; background: #d6d8db; padding: 8px; border-bottom: 2px solid #bbb;\">\n",
       "            <div style=\"width: 80px; text-align: center; border-right: 2px solid #bbb; display: flex; align-items: center; justify-content: center;\">Index</div>\n",
       "            <div style=\"width: 150px; text-align: center; border-right: 2px solid #bbb; display: flex; align-items: center; justify-content: center;\">Experiment ID</div>\n",
       "            <div style=\"flex: 1; text-align: center;\">Writeup</div>\n",
       "        </div>\n",
       "\n",
       "        <!-- Data Row -->\n",
       "        <div style=\"display: flex; padding: 8px; background: #f8f9fa;\">\n",
       "            <div style=\"width: 80px; text-align: center; border-right: 2px solid #ddd; font-weight: bold; display: flex; align-items: center; justify-content: center;\">\n",
       "                199\n",
       "            </div>\n",
       "            <div style=\"width: 150px; text-align: center; border-right: 2px solid #ddd; font-weight: bold; display: flex; align-items: center; justify-content: center;\">\n",
       "                261819\n",
       "            </div>\n",
       "            <div style=\"flex: 1; padding: 8px 12px; white-space: pre-wrap; overflow-wrap: break-word;\">\n",
       "                To a solution of <span style='background-color: yellow; color: black;'>?</span> (<span style='background-color: yellow; color: black;'>?</span>, <span style='background-color: yellow; color: black;'>?</span> mmol)  in 1,4-Dioxane (2.25 mL)  and Water (0.25 mL) was added <span style='background-color: yellow; color: black;'>?</span> (<span style='background-color: yellow; color: black;'>?</span>, <span style='background-color: yellow; color: black;'>?</span> mmol)  ,<span style='background-color: yellow; color: black;'>?</span> (<span style='background-color: yellow; color: black;'>?</span>, <span style='background-color: yellow; color: black;'>?</span> mmol)  and <span style='background-color: yellow; color: black;'>?</span> (<span style='background-color: yellow; color: black;'>?</span>, <span style='background-color: yellow; color: black;'>?</span> mmol) under N2 . The resulting mixture was stirred at 110 °C for 18 h.  LCMS showed desired mass. The reaction mixture was quenched by adding H2O. the mixture was extracted with EtOAc (50 ml x 3). the combined organic layers were washed with brine, dried over sodium sulfate, filtered and concentrated under reduced pressure to obtain crude, which was purified by column (eluent: EA+2.5%MeOH) to obtain  6-[6-amino-5-(difluoromethoxy)pyrimidin-4-yl]-2-[[6-(3,3-difluoropyrrolidine-1-carbonyl)-2-pyridinyl]methyl]spiro[3H-isoquinoline-4,1'-cyclobutane]-1-one (235 mg, 0.41188 mmol, 68.841% yield)   as a yellow solid.\n",
       "            </div>\n",
       "        </div>\n",
       "    </div>\n",
       "    </div>"
      ],
      "text/plain": [
       "<IPython.core.display.HTML object>"
      ]
     },
     "metadata": {},
     "output_type": "display_data"
    },
    {
     "data": {
      "text/html": [
       "<div style='margin: 10px 0; width: 100%; display: flex; border: 1px solid #ddd; border-radius: 4px; background: #f8f9fa;'>\n",
       "    <div style=\"display: flex; flex-direction: column; width: 100%; border: 2px solid #bbb;\">\n",
       "        <!-- Header Row -->\n",
       "        <div style=\"display: flex; font-weight: bold; background: #d6d8db; padding: 8px; border-bottom: 2px solid #bbb;\">\n",
       "            <div style=\"width: 80px; text-align: center; border-right: 2px solid #bbb; display: flex; align-items: center; justify-content: center;\">Index</div>\n",
       "            <div style=\"width: 150px; text-align: center; border-right: 2px solid #bbb; display: flex; align-items: center; justify-content: center;\">Experiment ID</div>\n",
       "            <div style=\"flex: 1; text-align: center;\">Writeup</div>\n",
       "        </div>\n",
       "\n",
       "        <!-- Data Row -->\n",
       "        <div style=\"display: flex; padding: 8px; background: #f8f9fa;\">\n",
       "            <div style=\"width: 80px; text-align: center; border-right: 2px solid #ddd; font-weight: bold; display: flex; align-items: center; justify-content: center;\">\n",
       "                200\n",
       "            </div>\n",
       "            <div style=\"width: 150px; text-align: center; border-right: 2px solid #ddd; font-weight: bold; display: flex; align-items: center; justify-content: center;\">\n",
       "                262058\n",
       "            </div>\n",
       "            <div style=\"flex: 1; padding: 8px 12px; white-space: pre-wrap; overflow-wrap: break-word;\">\n",
       "                To a nitrogen sparged solution of 4-bromo-N-[4-methoxy-6-(pyrazol-1-ylmethyl)-1,2-benzoxazol-3-yl]benzenesulfonamide (69.0 mg, 0.15 mmol) , <span style='background-color: yellow; color: black;'>?</span> (<span style='background-color: yellow; color: black;'>?</span>, <span style='background-color: yellow; color: black;'>?</span> mmol) , sodium tert-butoxide (71.56 mg, 0.74 mmol)   in 1,4-Dioxane (1.4893 mL) was added (2'-Amino-2-biphenylyl)(methanesulfonato-kappaO)palladium - dicyclohexyl(2',4',6'-triisopropyl-3,6-dimethoxy-2-biphenylyl)phosphine (1:1) (10.8 mg, 0.01 mmol) . The reaction was stirred for 1 h at 100 °C , under a nitrogen atmosphere. The reaction was concentrated, and 0.8 mL of neat TFA was added. The reaction was stirred for 2hr due to timing. (normally 30min) % conversion from protected amine to deprotected amine 0.2mL of TFA was added. The rxn stirred for 1hr Full conversion The reaction was concentrated via rotory evaporation and Hi-vac The crude material was purified by silica gel chromatography (0-25% MeOH/DCM) to afford 4-(2,7-diazaspiro[3.5]nonan-2-yl)-N-[4-methoxy-6-(pyrazol-1-ylmethyl)-1,2-benzoxazol-3-yl]benzenesulfonamide (<span style='background-color: yellow; color: black;'>?</span> mg, <span style='background-color: yellow; color: black;'>?</span> mmol, <span style='background-color: yellow; color: black;'>?</span>% yield){{2:uid 1}}_XXXXX_   as a white solid.   Before deprotection: M+1= 609.2 After deprotection: M+1 = 509.0\n",
       "            </div>\n",
       "        </div>\n",
       "    </div>\n",
       "    </div>"
      ],
      "text/plain": [
       "<IPython.core.display.HTML object>"
      ]
     },
     "metadata": {},
     "output_type": "display_data"
    },
    {
     "data": {
      "text/html": [
       "<div style='margin: 10px 0; width: 100%; display: flex; border: 1px solid #ddd; border-radius: 4px; background: #f8f9fa;'>\n",
       "    <div style=\"display: flex; flex-direction: column; width: 100%; border: 2px solid #bbb;\">\n",
       "        <!-- Header Row -->\n",
       "        <div style=\"display: flex; font-weight: bold; background: #d6d8db; padding: 8px; border-bottom: 2px solid #bbb;\">\n",
       "            <div style=\"width: 80px; text-align: center; border-right: 2px solid #bbb; display: flex; align-items: center; justify-content: center;\">Index</div>\n",
       "            <div style=\"width: 150px; text-align: center; border-right: 2px solid #bbb; display: flex; align-items: center; justify-content: center;\">Experiment ID</div>\n",
       "            <div style=\"flex: 1; text-align: center;\">Writeup</div>\n",
       "        </div>\n",
       "\n",
       "        <!-- Data Row -->\n",
       "        <div style=\"display: flex; padding: 8px; background: #f8f9fa;\">\n",
       "            <div style=\"width: 80px; text-align: center; border-right: 2px solid #ddd; font-weight: bold; display: flex; align-items: center; justify-content: center;\">\n",
       "                201\n",
       "            </div>\n",
       "            <div style=\"width: 150px; text-align: center; border-right: 2px solid #ddd; font-weight: bold; display: flex; align-items: center; justify-content: center;\">\n",
       "                265928\n",
       "            </div>\n",
       "            <div style=\"flex: 1; padding: 8px 12px; white-space: pre-wrap; overflow-wrap: break-word;\">\n",
       "                To a solution of 5-(3-amino-2-methoxyphenyl)-N-methyl-N-[(1-methylpyrazol-4-yl)methyl]pyridine-2-carboxamide (20.0 mg, 0.06 mmol) in 1,4-Dioxane (2 mL){{3:uid 1}}_XXXXX_    was added Tris(dibenzylideneacetone)dipalladium (0) (5.21 mg, 0.01 mmol)  , Cesium carbonate (55.63 mg, 0.17 mmol)  , 9,9-Dimethyl-4,5-bis(diphenylphosphino)xanthene (6.59 mg, 0.01 mmol)  , 2-bromo-4-iodo-5-methoxy-3-methylpyridine (28.0 mg, 0.09 mmol) . The solution was purged with N2 for 1 minute. The reaction was stirred at 100 °C ofor 16h. Then the reaction mixture was quenched with water, and the aquas phase was washed with dichloromethane (10 mL x 3). The combined organic phase was dried over Na2SO4 and concentrated with reduced pressure to get the product 5-[3-[(2-bromo-5-methoxy-3-methyl-4-pyridinyl)amino]-2-methoxyphenyl]-N-methyl-N-[(1-methylpyrazol-4-yl)methyl]pyridine-2-carboxamide (<span style='background-color: yellow; color: black;'>?</span> mg, <span style='background-color: yellow; color: black;'>?</span> mmol, <span style='background-color: yellow; color: black;'>?</span>% yield)   , which was directly used for the next step.\n",
       "            </div>\n",
       "        </div>\n",
       "    </div>\n",
       "    </div>"
      ],
      "text/plain": [
       "<IPython.core.display.HTML object>"
      ]
     },
     "metadata": {},
     "output_type": "display_data"
    },
    {
     "data": {
      "text/html": [
       "<div style='margin: 10px 0; width: 100%; display: flex; border: 1px solid #ddd; border-radius: 4px; background: #f8f9fa;'>\n",
       "    <div style=\"display: flex; flex-direction: column; width: 100%; border: 2px solid #bbb;\">\n",
       "        <!-- Header Row -->\n",
       "        <div style=\"display: flex; font-weight: bold; background: #d6d8db; padding: 8px; border-bottom: 2px solid #bbb;\">\n",
       "            <div style=\"width: 80px; text-align: center; border-right: 2px solid #bbb; display: flex; align-items: center; justify-content: center;\">Index</div>\n",
       "            <div style=\"width: 150px; text-align: center; border-right: 2px solid #bbb; display: flex; align-items: center; justify-content: center;\">Experiment ID</div>\n",
       "            <div style=\"flex: 1; text-align: center;\">Writeup</div>\n",
       "        </div>\n",
       "\n",
       "        <!-- Data Row -->\n",
       "        <div style=\"display: flex; padding: 8px; background: #f8f9fa;\">\n",
       "            <div style=\"width: 80px; text-align: center; border-right: 2px solid #ddd; font-weight: bold; display: flex; align-items: center; justify-content: center;\">\n",
       "                202\n",
       "            </div>\n",
       "            <div style=\"width: 150px; text-align: center; border-right: 2px solid #ddd; font-weight: bold; display: flex; align-items: center; justify-content: center;\">\n",
       "                266388\n",
       "            </div>\n",
       "            <div style=\"flex: 1; padding: 8px 12px; white-space: pre-wrap; overflow-wrap: break-word;\">\n",
       "                N,N-dimethyl-6-[[rac-(4R)-8-bromo-2-oxo-1,3,4,5-tetrahydropyrido[2,3-b][1,4]diazepin-4-yl]methyl]pyridine-2-carboxamide (40.0 mg, 0.1 mmol){{9:uid 1}}_XXXXX_   dissolved in DMF (1 mL){{3:uid 1}}_XXXXX_    add Cesium carbonate (96.71 mg, 0.3 mmol){{9:uid 2}}_XXXXX_     add (R)-3-Iodotetrahydrofuran (30.93 uL, 0.3 mmol){{9:uid 3}}_XXXXX_    stirred at 60 °C{{8:row 1}}_XXXXX_    dilute with brine extract with iPrOH/CHCl3 dry, conc.   purifty with 0-10% MeOH/DCM obtained N,N-dimethyl-6-[[rac-(4S)-8-bromo-2-oxo-1-[rac-(3R)-oxolan-3-yl]-4,5-dihydro-3H-pyrido[2,3-b][1,4]diazepin-4-yl]methyl]pyridine-2-carboxamide (<span style='background-color: yellow; color: black;'>?</span> mg, <span style='background-color: yellow; color: black;'>?</span> mmol, <span style='background-color: yellow; color: black;'>?</span>% yield)   purified by chiral purification to separate diastereomers M+1 = 474.0  found\n",
       "            </div>\n",
       "        </div>\n",
       "    </div>\n",
       "    </div>"
      ],
      "text/plain": [
       "<IPython.core.display.HTML object>"
      ]
     },
     "metadata": {},
     "output_type": "display_data"
    },
    {
     "data": {
      "text/html": [
       "<div style='margin: 10px 0; width: 100%; display: flex; border: 1px solid #ddd; border-radius: 4px; background: #f8f9fa;'>\n",
       "    <div style=\"display: flex; flex-direction: column; width: 100%; border: 2px solid #bbb;\">\n",
       "        <!-- Header Row -->\n",
       "        <div style=\"display: flex; font-weight: bold; background: #d6d8db; padding: 8px; border-bottom: 2px solid #bbb;\">\n",
       "            <div style=\"width: 80px; text-align: center; border-right: 2px solid #bbb; display: flex; align-items: center; justify-content: center;\">Index</div>\n",
       "            <div style=\"width: 150px; text-align: center; border-right: 2px solid #bbb; display: flex; align-items: center; justify-content: center;\">Experiment ID</div>\n",
       "            <div style=\"flex: 1; text-align: center;\">Writeup</div>\n",
       "        </div>\n",
       "\n",
       "        <!-- Data Row -->\n",
       "        <div style=\"display: flex; padding: 8px; background: #f8f9fa;\">\n",
       "            <div style=\"width: 80px; text-align: center; border-right: 2px solid #ddd; font-weight: bold; display: flex; align-items: center; justify-content: center;\">\n",
       "                203\n",
       "            </div>\n",
       "            <div style=\"width: 150px; text-align: center; border-right: 2px solid #ddd; font-weight: bold; display: flex; align-items: center; justify-content: center;\">\n",
       "                267059\n",
       "            </div>\n",
       "            <div style=\"flex: 1; padding: 8px 12px; white-space: pre-wrap; overflow-wrap: break-word;\">\n",
       "                To a solution of SM1 (0.1g, 0.29mmol, 1.0eq.) in DMF (2mL) at 10-20℃ was added SM2 (0.24g, 0.87mmol, 3.0eq.) and Cs2CO3 (0.28g, 0.87mol, 3.0eq.). After addition, the solution was stirred at 55-65℃ overnight and then dilute with brine and extract with DCM (5 mL*3) and the organic phase was separated and concentrated. Then the organic phase was washed with water (5 mL*2), dried over Na2SO4 and concentrated under vacuum to give 0.12g yellow oil crude product, which was purified by preparation and separation(Dr:99.4%:0.6%) .   To a solution of  6-[(8-chloro-2-oxo-3,5-dihydro-1H-pyrido[4,3-e][1,4]diazepin-4-yl)methyl]-N,N-dimethylpyridine-2-carboxamide​​​(60​, 0.16675 mmol)​   in DMF​(2​mL)​ was  added <span style='background-color: yellow; color: black;'>?</span>​​​(<span style='background-color: yellow; color: black;'>?</span>​, <span style='background-color: yellow; color: black;'>?</span> mmol)​ <span style='background-color: yellow; color: black;'>?</span>​​​(<span style='background-color: yellow; color: black;'>?</span>​, <span style='background-color: yellow; color: black;'>?</span> mmol)​  Iodoethane​​​(52.017​, 0.33351 mmol)​   slowly at 0 °C. The  reaction was stirred at RT for 1 h.     Note: 1:1 mixture of m/z 474 (desired) and m/z 474 (SN2 on the oxygen).   After the prep undesired m/z 474 was hydrolyzed to m/z 493<span style='background-color: yellow; color: black;'>?</span>   Fractions after the prep were combined with NKK007-60-1.  \n",
       "            </div>\n",
       "        </div>\n",
       "    </div>\n",
       "    </div>"
      ],
      "text/plain": [
       "<IPython.core.display.HTML object>"
      ]
     },
     "metadata": {},
     "output_type": "display_data"
    },
    {
     "data": {
      "text/html": [
       "<div style='margin: 10px 0; width: 100%; display: flex; border: 1px solid #ddd; border-radius: 4px; background: #f8f9fa;'>\n",
       "    <div style=\"display: flex; flex-direction: column; width: 100%; border: 2px solid #bbb;\">\n",
       "        <!-- Header Row -->\n",
       "        <div style=\"display: flex; font-weight: bold; background: #d6d8db; padding: 8px; border-bottom: 2px solid #bbb;\">\n",
       "            <div style=\"width: 80px; text-align: center; border-right: 2px solid #bbb; display: flex; align-items: center; justify-content: center;\">Index</div>\n",
       "            <div style=\"width: 150px; text-align: center; border-right: 2px solid #bbb; display: flex; align-items: center; justify-content: center;\">Experiment ID</div>\n",
       "            <div style=\"flex: 1; text-align: center;\">Writeup</div>\n",
       "        </div>\n",
       "\n",
       "        <!-- Data Row -->\n",
       "        <div style=\"display: flex; padding: 8px; background: #f8f9fa;\">\n",
       "            <div style=\"width: 80px; text-align: center; border-right: 2px solid #ddd; font-weight: bold; display: flex; align-items: center; justify-content: center;\">\n",
       "                204\n",
       "            </div>\n",
       "            <div style=\"width: 150px; text-align: center; border-right: 2px solid #ddd; font-weight: bold; display: flex; align-items: center; justify-content: center;\">\n",
       "                267088\n",
       "            </div>\n",
       "            <div style=\"flex: 1; padding: 8px 12px; white-space: pre-wrap; overflow-wrap: break-word;\">\n",
       "                To a solution of SM1 (0.1g, 0.29mmol, 1.0eq.) in DMF (2mL) at 10-20℃ was added SM2 (0.24g, 0.87mmol, 3.0eq.) and Cs2CO3 (0.28g, 0.87mol, 3.0eq.). After addition, the solution was stirred at 55-65℃ overnight and then dilute with brine and extract with DCM (5 mL*3) and the organic phase was separated and concentrated. Then the organic phase was washed with water (5 mL*2), dried over Na2SO4 and concentrated under vacuum to give 0.12g yellow oil crude product, which was purified by preparation and separation(Dr:99.4%:0.6%) .   To a solution of  6-[(8-chloro-2-oxo-3,5-dihydro-1H-pyrido[4,3-e][1,4]diazepin-4-yl)methyl]-N,N-dimethylpyridine-2-carboxamide​​​(60​, 0.16675 mmol)​   in DMF​(2​mL)​ was  added <span style='background-color: yellow; color: black;'>?</span>​​​(<span style='background-color: yellow; color: black;'>?</span>​, <span style='background-color: yellow; color: black;'>?</span> mmol)​ <span style='background-color: yellow; color: black;'>?</span>​​​(<span style='background-color: yellow; color: black;'>?</span>​, <span style='background-color: yellow; color: black;'>?</span> mmol)​  Iodoethane​​​(52.017​, 0.33351 mmol)​   slowly at 0 °C. The  reaction was stirred at RT for 1 h.    White powder.   Note: Combined yield with NKK007-59-1. minor - 492-494, \n",
       "            </div>\n",
       "        </div>\n",
       "    </div>\n",
       "    </div>"
      ],
      "text/plain": [
       "<IPython.core.display.HTML object>"
      ]
     },
     "metadata": {},
     "output_type": "display_data"
    },
    {
     "data": {
      "text/html": [
       "<div style='margin: 10px 0; width: 100%; display: flex; border: 1px solid #ddd; border-radius: 4px; background: #f8f9fa;'>\n",
       "    <div style=\"display: flex; flex-direction: column; width: 100%; border: 2px solid #bbb;\">\n",
       "        <!-- Header Row -->\n",
       "        <div style=\"display: flex; font-weight: bold; background: #d6d8db; padding: 8px; border-bottom: 2px solid #bbb;\">\n",
       "            <div style=\"width: 80px; text-align: center; border-right: 2px solid #bbb; display: flex; align-items: center; justify-content: center;\">Index</div>\n",
       "            <div style=\"width: 150px; text-align: center; border-right: 2px solid #bbb; display: flex; align-items: center; justify-content: center;\">Experiment ID</div>\n",
       "            <div style=\"flex: 1; text-align: center;\">Writeup</div>\n",
       "        </div>\n",
       "\n",
       "        <!-- Data Row -->\n",
       "        <div style=\"display: flex; padding: 8px; background: #f8f9fa;\">\n",
       "            <div style=\"width: 80px; text-align: center; border-right: 2px solid #ddd; font-weight: bold; display: flex; align-items: center; justify-content: center;\">\n",
       "                205\n",
       "            </div>\n",
       "            <div style=\"width: 150px; text-align: center; border-right: 2px solid #ddd; font-weight: bold; display: flex; align-items: center; justify-content: center;\">\n",
       "                267198\n",
       "            </div>\n",
       "            <div style=\"flex: 1; padding: 8px 12px; white-space: pre-wrap; overflow-wrap: break-word;\">\n",
       "                To a solution of  6-[(8-chloro-2-oxo-3,5-dihydro-1H-pyrido[4,3-e][1,4]diazepin-4-yl)methyl]-N,N-dimethylpyridine-2-carboxamide​​​(60​, 0.16675 mmol)​   in DMF​(2​mL)​ was  added <span style='background-color: yellow; color: black;'>?</span>​​​(<span style='background-color: yellow; color: black;'>?</span>​, <span style='background-color: yellow; color: black;'>?</span> mmol)​ <span style='background-color: yellow; color: black;'>?</span>​​​(<span style='background-color: yellow; color: black;'>?</span>​, <span style='background-color: yellow; color: black;'>?</span> mmol)​  Iodoethane​​​(52.017​, 0.33351 mmol)​   slowly at 0 °C. The  reaction was stirred at RT for 1 h.   13 mg test first and then 150 mg.   Foamy white solid.\n",
       "            </div>\n",
       "        </div>\n",
       "    </div>\n",
       "    </div>"
      ],
      "text/plain": [
       "<IPython.core.display.HTML object>"
      ]
     },
     "metadata": {},
     "output_type": "display_data"
    },
    {
     "data": {
      "text/html": [
       "<div style='margin: 10px 0; width: 100%; display: flex; border: 1px solid #ddd; border-radius: 4px; background: #f8f9fa;'>\n",
       "    <div style=\"display: flex; flex-direction: column; width: 100%; border: 2px solid #bbb;\">\n",
       "        <!-- Header Row -->\n",
       "        <div style=\"display: flex; font-weight: bold; background: #d6d8db; padding: 8px; border-bottom: 2px solid #bbb;\">\n",
       "            <div style=\"width: 80px; text-align: center; border-right: 2px solid #bbb; display: flex; align-items: center; justify-content: center;\">Index</div>\n",
       "            <div style=\"width: 150px; text-align: center; border-right: 2px solid #bbb; display: flex; align-items: center; justify-content: center;\">Experiment ID</div>\n",
       "            <div style=\"flex: 1; text-align: center;\">Writeup</div>\n",
       "        </div>\n",
       "\n",
       "        <!-- Data Row -->\n",
       "        <div style=\"display: flex; padding: 8px; background: #f8f9fa;\">\n",
       "            <div style=\"width: 80px; text-align: center; border-right: 2px solid #ddd; font-weight: bold; display: flex; align-items: center; justify-content: center;\">\n",
       "                206\n",
       "            </div>\n",
       "            <div style=\"width: 150px; text-align: center; border-right: 2px solid #ddd; font-weight: bold; display: flex; align-items: center; justify-content: center;\">\n",
       "                267203\n",
       "            </div>\n",
       "            <div style=\"flex: 1; padding: 8px 12px; white-space: pre-wrap; overflow-wrap: break-word;\">\n",
       "                To a solution of  6-[(8-chloro-2-oxo-3,5-dihydro-1H-pyrido[4,3-e][1,4]diazepin-4-yl)methyl]-N,N-dimethylpyridine-2-carboxamide​​​(60​, 0.16675 mmol)​   in DMF​(2​mL)​ was  added <span style='background-color: yellow; color: black;'>?</span>​​​(<span style='background-color: yellow; color: black;'>?</span>​, <span style='background-color: yellow; color: black;'>?</span> mmol)​ <span style='background-color: yellow; color: black;'>?</span>​​​(<span style='background-color: yellow; color: black;'>?</span>​, <span style='background-color: yellow; color: black;'>?</span> mmol)​  Iodoethane​​​(52.017​, 0.33351 mmol)​   slowly at 0 °C. The  reaction was stirred at RT for 1 h.   1,2,3,4-tetrahydronaphthalen-2-amine (​15.51 mg, ​0.11 mmol)​{{1080:uid 2}}_XXXXX_  was mixed with bromomethane (​10.0 mg, ​0.11 mmol)​{{1080:uid 1}}_XXXXX_  \n",
       "            </div>\n",
       "        </div>\n",
       "    </div>\n",
       "    </div>"
      ],
      "text/plain": [
       "<IPython.core.display.HTML object>"
      ]
     },
     "metadata": {},
     "output_type": "display_data"
    },
    {
     "data": {
      "text/html": [
       "<div style='margin: 10px 0; width: 100%; display: flex; border: 1px solid #ddd; border-radius: 4px; background: #f8f9fa;'>\n",
       "    <div style=\"display: flex; flex-direction: column; width: 100%; border: 2px solid #bbb;\">\n",
       "        <!-- Header Row -->\n",
       "        <div style=\"display: flex; font-weight: bold; background: #d6d8db; padding: 8px; border-bottom: 2px solid #bbb;\">\n",
       "            <div style=\"width: 80px; text-align: center; border-right: 2px solid #bbb; display: flex; align-items: center; justify-content: center;\">Index</div>\n",
       "            <div style=\"width: 150px; text-align: center; border-right: 2px solid #bbb; display: flex; align-items: center; justify-content: center;\">Experiment ID</div>\n",
       "            <div style=\"flex: 1; text-align: center;\">Writeup</div>\n",
       "        </div>\n",
       "\n",
       "        <!-- Data Row -->\n",
       "        <div style=\"display: flex; padding: 8px; background: #f8f9fa;\">\n",
       "            <div style=\"width: 80px; text-align: center; border-right: 2px solid #ddd; font-weight: bold; display: flex; align-items: center; justify-content: center;\">\n",
       "                207\n",
       "            </div>\n",
       "            <div style=\"width: 150px; text-align: center; border-right: 2px solid #ddd; font-weight: bold; display: flex; align-items: center; justify-content: center;\">\n",
       "                267217\n",
       "            </div>\n",
       "            <div style=\"flex: 1; padding: 8px 12px; white-space: pre-wrap; overflow-wrap: break-word;\">\n",
       "                To a solution of  6-[(8-chloro-2-oxo-3,5-dihydro-1H-pyrido[4,3-e][1,4]diazepin-4-yl)methyl]-N,N-dimethylpyridine-2-carboxamide​​​(60​, 0.16675 mmol)​   in DMF​(2​mL)​ was  added <span style='background-color: yellow; color: black;'>?</span>​​​(<span style='background-color: yellow; color: black;'>?</span>​, <span style='background-color: yellow; color: black;'>?</span> mmol)​ <span style='background-color: yellow; color: black;'>?</span>​​​(<span style='background-color: yellow; color: black;'>?</span>​, <span style='background-color: yellow; color: black;'>?</span> mmol)​  Iodoethane​​​(52.017​, 0.33351 mmol)​   slowly at 0 °C. The  reaction was stirred at RT for 1 h.   0 to 30% MeOH/DCM, product at 16%, Off-white solid.\n",
       "            </div>\n",
       "        </div>\n",
       "    </div>\n",
       "    </div>"
      ],
      "text/plain": [
       "<IPython.core.display.HTML object>"
      ]
     },
     "metadata": {},
     "output_type": "display_data"
    },
    {
     "data": {
      "text/html": [
       "<div style='margin: 10px 0; width: 100%; display: flex; border: 1px solid #ddd; border-radius: 4px; background: #f8f9fa;'>\n",
       "    <div style=\"display: flex; flex-direction: column; width: 100%; border: 2px solid #bbb;\">\n",
       "        <!-- Header Row -->\n",
       "        <div style=\"display: flex; font-weight: bold; background: #d6d8db; padding: 8px; border-bottom: 2px solid #bbb;\">\n",
       "            <div style=\"width: 80px; text-align: center; border-right: 2px solid #bbb; display: flex; align-items: center; justify-content: center;\">Index</div>\n",
       "            <div style=\"width: 150px; text-align: center; border-right: 2px solid #bbb; display: flex; align-items: center; justify-content: center;\">Experiment ID</div>\n",
       "            <div style=\"flex: 1; text-align: center;\">Writeup</div>\n",
       "        </div>\n",
       "\n",
       "        <!-- Data Row -->\n",
       "        <div style=\"display: flex; padding: 8px; background: #f8f9fa;\">\n",
       "            <div style=\"width: 80px; text-align: center; border-right: 2px solid #ddd; font-weight: bold; display: flex; align-items: center; justify-content: center;\">\n",
       "                208\n",
       "            </div>\n",
       "            <div style=\"width: 150px; text-align: center; border-right: 2px solid #ddd; font-weight: bold; display: flex; align-items: center; justify-content: center;\">\n",
       "                267342\n",
       "            </div>\n",
       "            <div style=\"flex: 1; padding: 8px 12px; white-space: pre-wrap; overflow-wrap: break-word;\">\n",
       "                To a solution of  6-[(8-chloro-2-oxo-3,5-dihydro-1H-pyrido[4,3-e][1,4]diazepin-4-yl)methyl]-N,N-dimethylpyridine-2-carboxamide​​​(60​, 0.16675 mmol)​   in DMF​(2​mL)​ was  added <span style='background-color: yellow; color: black;'>?</span>​​​(<span style='background-color: yellow; color: black;'>?</span>​, <span style='background-color: yellow; color: black;'>?</span> mmol)​ <span style='background-color: yellow; color: black;'>?</span>​​​(<span style='background-color: yellow; color: black;'>?</span>​, <span style='background-color: yellow; color: black;'>?</span> mmol)​  Iodoethane​​​(52.017​, 0.33351 mmol)​   slowly at 0 °C. The  reaction was stirred at RT for 1 h.     Under an ice bath, caprolactam (10.0 g, 88 mmol) was dissolved in 100 mL of anhydrous DMF, and then sodium hydride (7.07 g, 176 mmol) was slowly added to the reaction system. After stirring the reaction at the maintained temperature for half an hour, 1-bromo-2-methoxyethane (18.4 g, 132 mmol) was added to the reaction solution. The resulting reaction solution was continued to react at room temperature for 12 hours. After the reaction was completed by monitoring by TLC (100% EtOAc), the reaction solution was poured into 200 mL of ice water to quench the reaction. It was then extracted with ethyl acetate three times. After the organic phases were combined, they were washed with saturated brine, dried over anhydrous sodium sulfate, filtered and concentrated to dryness. The resulting crude product was purified by FCC (SiO2, EtOAc/PE=30-100%) to obtain a yellow solid product 1-(2-methoxyethyl)azepan-2-one (9.0 g, yield 59%).\n",
       "            </div>\n",
       "        </div>\n",
       "    </div>\n",
       "    </div>"
      ],
      "text/plain": [
       "<IPython.core.display.HTML object>"
      ]
     },
     "metadata": {},
     "output_type": "display_data"
    },
    {
     "data": {
      "text/html": [
       "<div style='margin: 10px 0; width: 100%; display: flex; border: 1px solid #ddd; border-radius: 4px; background: #f8f9fa;'>\n",
       "    <div style=\"display: flex; flex-direction: column; width: 100%; border: 2px solid #bbb;\">\n",
       "        <!-- Header Row -->\n",
       "        <div style=\"display: flex; font-weight: bold; background: #d6d8db; padding: 8px; border-bottom: 2px solid #bbb;\">\n",
       "            <div style=\"width: 80px; text-align: center; border-right: 2px solid #bbb; display: flex; align-items: center; justify-content: center;\">Index</div>\n",
       "            <div style=\"width: 150px; text-align: center; border-right: 2px solid #bbb; display: flex; align-items: center; justify-content: center;\">Experiment ID</div>\n",
       "            <div style=\"flex: 1; text-align: center;\">Writeup</div>\n",
       "        </div>\n",
       "\n",
       "        <!-- Data Row -->\n",
       "        <div style=\"display: flex; padding: 8px; background: #f8f9fa;\">\n",
       "            <div style=\"width: 80px; text-align: center; border-right: 2px solid #ddd; font-weight: bold; display: flex; align-items: center; justify-content: center;\">\n",
       "                209\n",
       "            </div>\n",
       "            <div style=\"width: 150px; text-align: center; border-right: 2px solid #ddd; font-weight: bold; display: flex; align-items: center; justify-content: center;\">\n",
       "                267397\n",
       "            </div>\n",
       "            <div style=\"flex: 1; padding: 8px 12px; white-space: pre-wrap; overflow-wrap: break-word;\">\n",
       "                To a solution of  6-[(8-chloro-2-oxo-3,5-dihydro-1H-pyrido[4,3-e][1,4]diazepin-4-yl)methyl]-N,N-dimethylpyridine-2-carboxamide​​​(60​, 0.16675 mmol)​   in DMF​(2​mL)​ was  added <span style='background-color: yellow; color: black;'>?</span>​​​(<span style='background-color: yellow; color: black;'>?</span>​, <span style='background-color: yellow; color: black;'>?</span> mmol)​ <span style='background-color: yellow; color: black;'>?</span>​​​(<span style='background-color: yellow; color: black;'>?</span>​, <span style='background-color: yellow; color: black;'>?</span> mmol)​  Iodoethane​​​(52.017​, 0.33351 mmol)​   slowly at 0 °C. The  reaction was stirred at RT for 1 h.   60 °C.\n",
       "            </div>\n",
       "        </div>\n",
       "    </div>\n",
       "    </div>"
      ],
      "text/plain": [
       "<IPython.core.display.HTML object>"
      ]
     },
     "metadata": {},
     "output_type": "display_data"
    }
   ],
   "source": [
    "for _, row in df.iterrows():\n",
    "    highlighted_writeup = highlight_question_marks(str(row['writeup']))\n",
    "    \n",
    "    html = f\"\"\"\n",
    "    <div style=\"display: flex; flex-direction: column; width: 100%; border: 2px solid #bbb;\">\n",
    "        <!-- Header Row -->\n",
    "        <div style=\"display: flex; font-weight: bold; background: #d6d8db; padding: 8px; border-bottom: 2px solid #bbb;\">\n",
    "            <div style=\"width: 80px; text-align: center; border-right: 2px solid #bbb; display: flex; align-items: center; justify-content: center;\">Index</div>\n",
    "            <div style=\"width: 150px; text-align: center; border-right: 2px solid #bbb; display: flex; align-items: center; justify-content: center;\">Experiment ID</div>\n",
    "            <div style=\"flex: 1; text-align: center;\">Writeup</div>\n",
    "        </div>\n",
    "\n",
    "        <!-- Data Row -->\n",
    "        <div style=\"display: flex; padding: 8px; background: #f8f9fa;\">\n",
    "            <div style=\"width: 80px; text-align: center; border-right: 2px solid #ddd; font-weight: bold; display: flex; align-items: center; justify-content: center;\">\n",
    "                {row['index']+1}\n",
    "            </div>\n",
    "            <div style=\"width: 150px; text-align: center; border-right: 2px solid #ddd; font-weight: bold; display: flex; align-items: center; justify-content: center;\">\n",
    "                {row['exp_id']}\n",
    "            </div>\n",
    "            <div style=\"flex: 1; padding: 8px 12px; white-space: pre-wrap; overflow-wrap: break-word;\">\n",
    "                {highlighted_writeup}\n",
    "            </div>\n",
    "        </div>\n",
    "    </div>\n",
    "    \"\"\"\n",
    "\n",
    "    display_full_width(html)"
   ]
  },
  {
   "cell_type": "code",
   "execution_count": null,
   "id": "2cda1d58-68d2-4e1b-a156-b29ffdf2951c",
   "metadata": {},
   "outputs": [
    {
     "name": "stdout",
     "output_type": "stream",
     "text": [
      "{'index': 0, 'exp_id': 138784, 'writeup': 'Purchased from Cayman to be tested in PRMT assays Item:13603, batch 0459019-10 http://www.commonchemistry.org/ChemicalDetail.aspx?ref=979-92-0 ', 'url': 'https://prelude.dotmatics.net/browser/api/studies/experiment/138784/writeup/{includeHtml}'}\n",
      "{'index': 1, 'exp_id': 139184, 'writeup': 'Standard Controls Apply: Lab coats, gloves and safety specs are to be worn at all times. All experiments should be performed in a fumehood.  Pfizer patent Ex. 92/93 Step I: Synthesis of 7-((3aR,4R,6S,6aS)-6-((3,4- difluorophenyl)fluoromethyl)-2,2-dimethyltetrahydrofuro[ 3,4-d] [1,3]dioxol-4-yl)-4-methyl-7H-pyrrolo [2,3-d]pyrimidine (RR-I) SS-I [0460] To a solution of SS-I (Scheme SS) (500 mg, 1.20 mmol) in 5 mL CH2Cl2 was added DAST (965 mg, 5.99 mmol), stirred at rt for 30 min. The reaction was quenched with water, transferred to a separatory funnel, and diluted with 10 mL water. The phases were separated and the aqueous phase was extracted with 3 portions of 5 mL CH2Cl2. The organic phase was combined and washed with 10 mL brine, dried over Na2SO4 and concentrated in vacuo. The residue was purified by silica gel chromatography with 50% EtOAc/ heptane to afford yellow oil RR-I (190 mg, 37.8%). Following the patent procure, Diethylaminosulfur\\ttrifluoride (0.63 mL, 4.76 mmol){{9:row 2}}_XXXXX_  was added to a solution of (S)-[(3aR,4R,6R,6aR)-4-(4-chloropyrrolo[2,3-d]pyrimidin-7-yl)-2,2-dimethyl-3a,4,6,6a-tetrahydrofuro[3,4-d][1,3]dioxol-6-yl]-(4-chlorophenyl)methanol (415.0 mg, 0.95 mmol){{9:row 1}}_XXXXX_  in DCM (5 mL){{3:row 1}}_XXXXX_  at rt. The reaction mixture was stirred for 30 min. LCMS showed part of product lost acetonide. The reaction was quenched with ice cold sat. aq. NaHCO3, extracted with DCM. The combined organic layers were washed with brine, dried over Na2SO4, filtered and concentrated. The residue was purified on a 24 g column, which was eluted with 0-100 EA/hexane to give 7-[(3aR,4R,6S,6aS)-6-[(R)-(4-chlorophenyl)-fluoro-methyl]-2,2-dimethyl-3a,4,6,6a-tetrahydrofuro[3,4-d][1,3]dioxol-4-yl]-4-chloro-pyrrolo[2,3-d]pyrimidine (150 mg, 0.34225 mmol, 35.98% yield){{2:row 1}}_XXXXX_ , followed by (2S,3S,4R,5R)-2-[(S)-(4-chlorophenyl)-fluoro-methyl]-5-(4-chloropyrrolo[2,3-d]pyrimidin-7-yl)tetrahydrofuran-3,4-diol (70 mg, 0.17578 mmol, 18.48% yield){{2:row 2}}_XXXXX_  and (2S,3S,4R,5R)-2-[(R)-(4-chlorophenyl)-fluoro-methyl]-5-(4-chloropyrrolo[2,3-d]pyrimidin-7-yl)tetrahydrofuran-3,4-diol (155 mg, 0.38923 mmol, 40.92% yield){{2:row 3}}_XXXXX_ , Upon storing at RT. The later two products turned purple.Discarded. LCMS HL001-45-1 (??)', 'url': 'https://prelude.dotmatics.net/browser/api/studies/experiment/139184/writeup/{includeHtml}'}\n",
      "{'index': 2, 'exp_id': 139229, 'writeup': ' A 50 mL RBF containing a mixture of (3aR,4R,6S,6aS)-2,2-dimethyl-4-(4-methylpyrrolo[2,3-d]pyrimidin-7-yl)-3a,4,6,6a-tetrahydrofuro[3,4-d][1,3]dioxole-6-carboxylic acid (633.0 mg, 1.98 mmol){{9:row 1}}_XXXXX_  in Ethyl acetate (4 mL){{3:row 1}}_XXXXX_  under Ar was charged with N-methoxymethanamine;hydrochloride (293.0 mg, 3. mmol){{9:row 2}}_XXXXX_  and N-ethyl-N-isopropyl-propan-2-amine (1.5 mL, 8.61 mmol){{9:row 3}}_XXXXX_ , followed by Propylphosphonic Acid Anhydride (2.36 mL, 3.96 mmol){{9:row 4}}_XXXXX_  dropwise over 30 s at RT. The reaction solution was stirred at RT for 18 h. The reaction was cooled to 0 °C and quenched with saturated sodium bicarbonate (3 mL). The mixture was diluted with water (40 mL) and brine (20 mL), and extracted with DCM (3x 40 mL). The organic fractions were combined, dried over sodium sulfate, filtered, and concentrated under reduced pressure. The crude material was purified by flash column chromatography (40g SiO2, 1-&gt;8% MeOH in DCM, wet loaded in DCM). The material streaked horribly during purification. Lost over half the material? Gathered and attempted repurification by FCC (24g SiO2, 0-&gt;100% ethyl acetate in hexanes, wet-loaded in DCM/EtOAc/hex and poured on SiO2 on top cartridge). Column clogged, then unclogged with more polar solvent. Chromatogram showed nothing. Material still on SiO2 in top cartridge. Loose silica rinsed with DCM/MeOH. The filtrate was concentrated under reduced pressure and purified by FCC (same 24g SiO2 column, 50-&gt;100% EtOAc in hexanes, wet-loaded in DCM with filtration). Still streaked horribly. Was able to obtain some clean material, RAL001-25B (3aR,4R,6S,6aS)-N-methoxy-N,2,2-trimethyl-4-(4-methylpyrrolo[2,3-d]pyrimidin-7-yl)-3a,4,6,6a-tetrahydrofuro[3,4-d][1,3]dioxole-6-carboxamide (61.6 mg, 0.16149 mmol, 8.1461% yield){{2:row 1}}_XXXXX_  as an orange oil.  Rf = .2 (3% MeOH in DCM) Rf = 0.64 (10% MeOH in DCM)   RAL001-25B   1H NMR (400 MHz, DMSO-d6) δ 8.66 (s, 1H), 7.75 – 7.69 (m, 1H), 6.76 (d, J = 3.8 Hz, 1H), 6.52 (d, J = 2.3 Hz, 1H), 5.29 (d, J = 11.5 Hz, 2H), 5.04 (s, 1H), 3.65 (s, 3H), 3.08 (s, 3H), 2.65 (s, 3H), 1.57 (s, 3H), 1.35 (s, 3H).   LRMS (ES) m/z calcd for [M]+  C17H22N4O5: 362.38. Found:362.38.   streaked horribly in MeOH/DCM  815 pm start quench 11 am EL Prep Dissolve this solid in EtOAc (400 mL) at room temperature and add N,0-dimethylhydroxylamine hydrochloride (18.8 g, 193.0 mmol) portion wise. Stir the mixture for 5 min at room temperature and drop wise add a 1.67 M solution of 2,4,6-tripropyl-l,3,5,2,4,6-trioxatriphos- phorinane-2,4,6-trioxide in EtOAc (176.3 mL, 294 mmol). Stir the reaction mixture at room temperature for 3 days under N2. Cool the reaction mixture to 0° C. and add water (150 mL) and EtOAc (150 mL). Separate the resulting organic layer and extract the aqueous layer with EtOAc (3x150 mL). Combine the organic extracts and wash with water (200 mL). Dry the organic layer over sodium sulfate, filter, and concentrate to give a crude mixture. Purify by filtration through a silica plug eluting with a gradient of 0-30% EtOAc/DCM to give the title compound as a whitevitreous solid (31.0 g, 60% over two steps). ES/MS m/z (35CE37Cl) 383.0/385.0 [M+H],   Standard Controls Apply: Lab coats, gloves and safety specs are to be worn at all times. All experiments should be performed in a fumehood.', 'url': 'https://prelude.dotmatics.net/browser/api/studies/experiment/139229/writeup/{includeHtml}'}\n",
      "{'index': 3, 'exp_id': 139333, 'writeup': \" A solution of (R)-[(3aR,4R,6R,6aR)-4-(4-hydrazinopyrrolo[2,3-d]pyrimidin-7-yl)-2,2-dimethyl-3a,4,6,6a-tetrahydrofuro[3,4-d][1,3]dioxol-6-yl]-(4-chlorophenyl)methanol (90.0 mg, 0.21 mmol){{9:row 1}}_XXXXX_  in 1:1 TFA/H2O was stirred at RT overnight.  1 H NMR (DMSO-d6, 400 MHz): Al.96 (s, 3H,CH3), 2.03 (s, IH, CH3), 3.57 (dd, J=3.4, 11.9 Hz, IH, H-5'),3.64 (dd, J=3.8, 11.9 Hz, IH, H-5'), 3.95 (q, J=3.6 Hz, IH,H-4'), 4.14 (t, J=4.7 Hz, IH, H-3'), 4.36 (br s, IH, NH), 4.58(d, J=5.7 Hz, IH, H-2'), 5.21 (br s, IH, OH), 5.32 (br s, IH,OH), 5.48 (br s, IH, OH), 5.92 (d, J=6.0 Hz, IH, H-I'), 8.27(s, IH, H-2), 8.33 (s, IH, H-8).Hydrolysis resulted a more polar compound on TLC but the same MW. The reaction was concentrated and the residue was taken into 0.5 mL of MeOH, neutralized with conc. NH4OH at 0 C to pH 8. The resulting mixture was concentrated to an off-white solid, which was purified on a 12 g column, eluted with 0-5% MeOH in DCM to give (2R,3S,4R,5R)-2-[(R)-(4-chlorophenyl)-hydroxy-methyl]-5-[4-(2-isopropylidenehydrazino)pyrrolo[2,3-d]pyrimidin-7-yl]tetrahydrofuran-3,4-diol (15 mg, 0.0347 mmol, 16.651% yield){{2:row 1}}_XXXXX_ .  HNMR showed two distinct Me which have different chemical shift from acetonide (d 1.3, 1.5) The more polar fractions were mixture of the product and other by-product(s). LCMS showed correct mass peaks: 432/434   5.   Preparation of novel hydrazone derivatives as anticancer agents for the treatment of multidrug resistant tumors  Quick View         By Jayaram, Hiremagular N.; Kusumanchi, Praveen; Grifantini, Mario; Franchetti, Palmarisa; Cappellacci, Loredana; Petrelli, Riccardo From U.S. Pat. Appl. Publ. (2012), US 20120329747 A1 20121227.                \", 'url': 'https://prelude.dotmatics.net/browser/api/studies/experiment/139333/writeup/{includeHtml}'}\n",
      "{'index': 4, 'exp_id': 139366, 'writeup': 'A mixture of [(R)-[(3aR,4R,6R,6aR)-4-(5-bromo-4-methyl-pyrrolo[2,3-d]pyrimidin-7-yl)-2,2-dimethyl-3a,4,6,6a-tetrahydrofuro[3,4-d][1,3]dioxol-6-yl]-(3,4-difluorophenyl)methyl] benzoate (189.0 mg, 0.31 mmol){{9:row 4}}_XXXXX_ , palladium;triphenylphosphane (18.46 mg, 0.02 mmol){{9:row 1}}_XXXXX_ ,cuprous;iodide (0.0 mL, 0.03 mmol){{9:row 2}}_XXXXX_ ,  ethynyl(trimethyl)silane (0.13 mL, 0.95 mmol){{9:row 5}}_XXXXX_ , and N,N-diethylethanamine (0.29 mL, 2.06 mmol){{9:row 3}}_XXXXX_  in DMF (2 mL){{3:row 1}}_XXXXX_  was purged with N2, sealed and heated at 100 °C{{8:row 1}}_XXXXX_  overnight. The reaction mixture was concentrated under vaccum and the residue was purified on a 20 g column which was eluted with 0-25% DMF to give ~100 mg of product aThiss a brown solid. This product was dissolved in TFA (0.5 mL, 0.31 mmol){{9:row 6}}_XXXXX_ , cooled to 0 C. Water (0.05 mL){{3:row 2}}_XXXXX_  was added. The resulting mixture was stirred at RT for 30 min, concentrated and the residue was purified on a 20 g C18 column on ISCO (0.1% TFA, 0-50% ACN in water) to give ~50 mg of brown solid. The diastereomer from the starting material can not be purified on C18 column.  The brown solid was dissolved in Methanol (1 mL){{3:row 3}}_XXXXX_ ,K2CO3 (43.44 mg, 0.31 mmol){{9:row 7}}_XXXXX_  was added and the reaction mixture was stirred at RT overnight. The reaction mixture was taken into EtOAc, which was washed with water, brine, dried, filtered and concentrated. The residue was purified on prep-TLC (95:5 DCM/MeOH) to give[(R)-[(3aR,4R,6R,6aR)-2,2-dimethyl-4-[4-methyl-5-(2-trimethylsilylethynyl)pyrrolo[2,3-d]pyrimidin-7-yl]-3a,4,6,6a-tetrahydrofuro[3,4-d][1,3]dioxol-6-yl]-(3,4-difluorophenyl)methyl] benzoate (26 mg, 0.06251 mmol, 19.859% yield){{2:row 1}}_XXXXX_  as a light yellow solid.  Analytical HPLC showed 96% purity.  HNMR in CD3OD 8.68 (s, 1H), 7.96 (s, 1H), 7.39 (m, 1H), 7.26 (m, 2H), 6.22 (d, J = 6, 1H), 4.98 (m, 1H), 4.71 (m, 1H), 4.26 (m, 2H), 3.75 (s, 1H), 2.97 (s, 3H)  LCMS not attached (HL001-62??), scaled up compound for PK study. The major impurity is 7-H by-product from 7-Br Sonogashira reaction.    ', 'url': 'https://prelude.dotmatics.net/browser/api/studies/experiment/139366/writeup/{includeHtml}'}\n",
      "{'index': 5, 'exp_id': 139547, 'writeup': 'A 20 mL vial containing a solution of (2R,3S,4R,5R)-2-[(R)-(4-chlorophenyl)-hydroxy-methyl]-5-(4-chloropyrrolo[2,3-d]pyrimidin-7-yl)tetrahydrofuran-3,4-diol (16.0 mg, 0.04 mmol){{9:row 1}}_XXXXX_  in 1,4-Dioxane (1 mL){{3:row 1}}_XXXXX_  was charged with hydroxylamine;hydrochloride (28.0 mg, 0.4 mmol){{9:row 2}}_XXXXX_ , N,N-diethylethanamine (0.12 mL, 0.86 mmol){{9:row 3}}_XXXXX_ , and then Water (0.50 mL){{3:row 2}}_XXXXX_ . The vial was flushed with Ar, then capped and heated at 100 °C{{8:row 1}}_XXXXX_  for 3 h. Reaction incomplete by LCMS. The reaction was charged with additional hydroxylamine;hydrochloride (75.0 mg, 1.08 mmol){{9:row 4}}_XXXXX_  and N,N-diethylethanamine (0.28 mL, 2.01 mmol){{9:row 5}}_XXXXX_ , and heated at 100 °C{{8:row 1}}_XXXXX_  for 18 h. The reaction was diluted with water (15 mL), brine (15 mL), and extracted with DCM (3x 15 mL). The organic fractions were combined, dried over NaSO4, filtered, and concentrated under reduced pressure. The crude material was purified by FCC (4g SiO2, 10-&gt;12% MeOH in DCM, wet-loaded in DCM + eluent) to yield (2R,3S,4R,5R)-2-[(R)-(4-chlorophenyl)-hydroxy-methyl]-5-[4-(hydroxyamino)pyrrolo[2,3-d]pyrimidin-7-yl]tetrahydrofuran-3,4-diol (7.2 mg, 0.01521 mmol, 37.676% yield){{2:row 1}}_XXXXX_  as a white/grey powder that looked very impure by HNMR, and about 83% pure by HPLC. Some material was used for HNMR, and some material was lost by a vial exploding from sonication. The remaining material was further purified by prep TLC (SiO2, 20% MeOH in DCM). The material was retrieved by scraping the desired silica, then sonicating and vacuum filtering the silica with ~20% MeOH in DCM. The filtrate was concentrated to yield 3.5 mg of material as a yellow/grey oil/solid mixture. Purity is 93% by HPLC after the prepTLC, but the NMR still looks horrible, and the sample looks impure. Product is presumably unstable?     Start @100oC, 2:55 p.m. 515 p.m. -&gt;rt. about 50% completion by LCMS. more hydroxylamine and base added 550pm -&gt;100 oC  next day 11:50 am RT     Standard Controls Apply: Lab coats, gloves and safety specs are to be worn at all times. All experiments should be performed in a fumehood.', 'url': 'https://prelude.dotmatics.net/browser/api/studies/experiment/139547/writeup/{includeHtml}'}\n",
      "{'index': 6, 'exp_id': 139559, 'writeup': 'Standard Controls Apply: Lab coats, gloves and safety specs are to be worn at all times. All experiments should be performed in a fumehood.  acetyl acetate (0.05 mL, 0.53 mmol){{9:row 2}}_XXXXX_  was added to a solution of (R)-[(3aR,4R,6R,6aR)-4-(4-hydrazinopyrrolo[2,3-d]pyrimidin-7-yl)-2,2-dimethyl-3a,4,6,6a-tetrahydrofuro[3,4-d][1,3]dioxol-6-yl]-(4-chlorophenyl)methanol (110.0 mg, 0.23 mmol){{9:row 1}}_XXXXX_  in Pyridine (2 mL){{3:row 1}}_XXXXX_ . The reaction mixture was stirred at RT for 1 hr. LCMS (HL001-68??) showed bis-acetate peaks: 516/518.  Discarded.', 'url': 'https://prelude.dotmatics.net/browser/api/studies/experiment/139559/writeup/{includeHtml}'}\n",
      "{'index': 7, 'exp_id': 139673, 'writeup': 'hydrazine (0.5 mL, 0.5 mmol){{9:row 2}}_XXXXX_  (1M in THF) was added to a mixture of (R)-[(3aR,4R,6R,6aR)-4-(4-chloropyrrolo[2,3-d]pyrimidin-7-yl)-2,2-dimethyl-3a,4,6,6a-tetrahydrofuro[3,4-d][1,3]dioxol-6-yl]-(4-chlorophenyl)methanol (80.0 mg, 0.18 mmol){{9:row 1}}_XXXXX_  in Methanol (2 mL){{3:row 1}}_XXXXX_  and the resulting mixture was heated at 60 °C{{8:row 1}}_XXXXX_  overnight. TLC showed very polar spot formed. LCMS (HL001-77?) showed the right mass peaks 432/434, but major peak with mass of 472/474, which was consistent with hydrazone The reaction mixture was concentrated to give (R)-[(3aR,4R,6R,6aR)-4-[4-(2-isopropylidenehydrazino)pyrrolo[2,3-d]pyrimidin-7-yl]-2,2-dimethyl-3a,4,6,6a-tetrahydrofuro[3,4-d][1,3]dioxol-6-yl]-(4-chlorophenyl)methanol (100 mg, 0.21189 mmol, 115.56% yield){{2:row 1}}_XXXXX_  as a pink solid. Not clear where the acetone came from to make the hydrazone in this reaction.', 'url': 'https://prelude.dotmatics.net/browser/api/studies/experiment/139673/writeup/{includeHtml}'}\n",
      "{'index': 8, 'exp_id': 139686, 'writeup': 'A mixture of (2R,3R,4S,5R)-2-[4-amino-5-(2-trimethylsilylethynyl)pyrrolo[2,3-d]pyrimidin-7-yl]-5-(hydroxymethyl)tetrahydrofuran-3,4-diol (0.66 g, 1.82 mmol){{9:row 1}}_XXXXX_ , 4-methylbenzenesulfonic acid;hydrate (346.37 mg, 1.82 mmol){{9:row 2}}_XXXXX_  and 2,2-Dimethoxypropane (0.53 mL, 4.33 mmol){{9:row 3}}_XXXXX_  in dry Acetone (5 mL){{3:row 1}}_XXXXX_  was stirred at RT overy weekend. TLC showed completion of reaction, 95:5 DCM/MeOH, Rf 0.6 LCMS (HL001-82??) showed desired product peak: 403. The reaction was poured onto ice-cold sat. aq. NaHCO3, extracted with EtOAc 3X. The combined organic layers were washed with brine, dried over N2SO4, filtered, and concentrated. The residue was purified on a 12 g column (too small), eluted with 50-100% EtOAc/hexane to give [(3aR,4R,6R,6aR)-4-[4-amino-5-(2-trimethylsilylethynyl)pyrrolo[2,3-d]pyrimidin-7-yl]-2,2-dimethyl-3a,4,6,6a-tetrahydrofuro[3,4-d][1,3]dioxol-6-yl]methanol (740 mg, 1.5627 mmol, 85.818% yield){{2:row 1}}_XXXXX_  (85% pure based on LCMS and TLC) as a light brown foamy solid.', 'url': 'https://prelude.dotmatics.net/browser/api/studies/experiment/139686/writeup/{includeHtml}'}\n",
      "{'index': 9, 'exp_id': 139710, 'writeup': 'A mixture of (2R,3R,4S,5R)-2-(4-amino-5-vinyl-pyrrolo[2,3-d]pyrimidin-7-yl)-5-(hydroxymethyl)tetrahydrofuran-3,4-diol (0.98 g, 3.34 mmol){{9:row 1}}_XXXXX_ , 4-methylbenzenesulfonic acid;hydrate (635.82 mg, 3.34 mmol){{9:row 2}}_XXXXX_  and 2,2-Dimethoxypropane (0.98 mL, 7.95 mmol){{9:row 3}}_XXXXX_  in dry Acetone (5 mL){{3:row 1}}_XXXXX_  was stirred at RT overnight. TLC showed completion of reaction, 95:5 DCM/MeOH, Rf 0.6. But a less polar spot as major product. LCMS (HL001-84??) showed desired product peak: 333 and by-product 365 The reaction was poured onto ice-cold sat. aq. NaHCO3, extracted with EtOAc 3X. The combined organic layers were washed with brine, dried over N2SO4, filtered, and concentrated. The residue was purified on a 24 g column, eluted with 50-100% EtOAc/hexane to give [(3aR,4R,6R,6aR)-4-(4-amino-5-vinyl-pyrrolo[2,3-d]pyrimidin-7-yl)-2,2-dimethyl-3a,4,6,6a-tetrahydrofuro[3,4-d][1,3]dioxol-6-yl]methanol (635 mg, 1.624 mmol, 48.587% yield){{2:row 1}}_XXXXX_  (85% pure based on TLC and LCMS) as a light yellow foamy solid and [(3aR,4R,6R,6aR)-4-[4-amino-5-(1-methoxyethyl)pyrrolo[2,3-d]pyrimidin-7-yl]-2,2-dimethyl-3a,4,6,6a-tetrahydrofuro[3,4-d][1,3]dioxol-6-yl]methanol (200 mg, 0.54885 mmol, 16.42% yield){{2:row 2}}_XXXXX_  as a white foamy solid.  ', 'url': 'https://prelude.dotmatics.net/browser/api/studies/experiment/139710/writeup/{includeHtml}'}\n",
      "{'index': 10, 'exp_id': 139716, 'writeup': 'chloro(trimethyl)silane (339.53 mg, 3.13 mmol){{9:row 2}}_XXXXX_  was added to a solution of [(3aR,4R,6R,6aR)-4-[4-amino-5-(2-trimethylsilylethynyl)pyrrolo[2,3-d]pyrimidin-7-yl]-2,2-dimethyl-3a,4,6,6a-tetrahydrofuro[3,4-d][1,3]dioxol-6-yl]methanol (740.0 mg, 1.56 mmol){{9:row 1}}_XXXXX_  in Pyridine (10 mL){{3:row 1}}_XXXXX_   at 0C. The resulting mixture was warmed up to RT and stirred for 3 hr. The reaction was cooled to 0C, benzoyl chloride (0.36 mL, 3.13 mmol){{9:row 3}}_XXXXX_  was added and the resulting mixture was stirred at RT overnight. TLC showed one major peak (3:1 hexane/EA), Rf ~0.7 The reaction mixture was concentrated, taken into EtOAc, which was washed with NaHCO3, water, 0.1N HCl, water, brine, dried over Na2SO4, filtered and concentrated. The residue was purified on a 20 g column, eluted with 0-70% EA/hexane to give [(3aR,4R,6R,6aR)-4-[4-benzamido-5-(2-trimethylsilylethynyl)pyrrolo[2,3-d]pyrimidin-7-yl]-2,2-dimethyl-3a,4,6,6a-tetrahydrofuro[3,4-d][1,3]dioxol-6-yl]methyl benzoate (875 mg, 1.4327 mmol, 91.684% yield){{2:row 1}}_XXXXX_ .  LCMS (HL001-86??) showed this is the undesired bis-Bz product  ', 'url': 'https://prelude.dotmatics.net/browser/api/studies/experiment/139716/writeup/{includeHtml}'}\n",
      "{'index': 11, 'exp_id': 139971, 'writeup': 'Standard Controls Apply: Lab coats, gloves and safety specs are to be worn at all times. All experiments should be performed in a fumehood. A mixture of Acetohydrazide (9.35 mg, 0.13 mmol){{9:row 2}}_XXXXX_ , and (R)-[(3aR,4R,6R,6aR)-2,2-dimethyl-4-(4-methylpyrrolo[2,3-d]pyrimidin-7-yl)-3a,4,6,6a-tetrahydrofuro[3,4-d][1,3]dioxol-6-yl]-(4-chlorophenyl)methanol (25.0 mg, 0.06 mmol){{9:row 1}}_XXXXX_  in IPA (0.50 mL){{3:row 1}}_XXXXX_  in a 4 mL vial was sealed and heated at 100 C overnight.  LCMS: 434.1/436.0,  not completed The mixture was concentrated, diluted with EtOAc, washed with water. Organic layer was dried over Na2SO4, filtered and concentrate. The residue was loaded on 12 g column, eluted with 0-15% MeOH in DCM. But no fraction of product was found. It might be too polar, or too water soluble, lost on column. LCMS HL001-95 (??)', 'url': 'https://prelude.dotmatics.net/browser/api/studies/experiment/139971/writeup/{includeHtml}'}\n",
      "{'index': 12, 'exp_id': 140199, 'writeup': 'A 50 mL RBF containting 4-vinyl-1H-pyrrolo[2,3-b]pyridine (116.0 mg, 0.8 mmol){{9:row 1}}_XXXXX_  and [[(3aR,4S,6R,6aR)-2,2-dimethyl-4-(trifluoromethylsulfonyloxy)-4,5,6,6a-tetrahydro-3aH-cyclopenta[d][1,3]dioxol-6-yl]-(4-chlorophenyl)methyl] 4-phenylbenzoate (450.0 mg, 0.74 mmol){{9:row 2}}_XXXXX_  was charged with DMF (5 mL){{3:row 1}}_XXXXX_  and sparged with Ar for 1 min. The vessel was then charged with sodium hydride (38.52 mg, 0.96 mmol){{9:row 3}}_XXXXX_ , sparged with Ar for 2 additional min, and stirred at RT for an additional 30 min. The reaction mixture was cooled to 0 °C in an ice bath and neutralized with 3 mL sat. NH4Cl. The mixture was diluted with water (15 mL), vacuum filtered through a glass frit, and rinsed with 40 mL water. The residue was then dissolved in ethyl acetate (50 mL), dried over Na2SO4, filtered and purified by FCC (20 g SiO2, 5-&gt;100% EtOAc in  Hexanes, dry-loaded on Celite). Fractions containing the desired compound were combined and concentrated to yield [[(3aS,4R,6R,6aR)-2,2-dimethyl-4-(4-vinylpyrrolo[2,3-b]pyridin-1-yl)-4,5,6,6a-tetrahydro-3aH-cyclopenta[d][1,3]dioxol-6-yl]-(4-chlorophenyl)methyl] 4-phenylbenzoate (152.5 mg, 0.2495 mmol, 33.878% yield){{2:row 1}}_XXXXX_  as a yellow solid.   0-&gt;rt 30 min,-&gt;0 quench 3 ml NH4Cl, dilute 15 mL water, filter  1:0.3 molar ratio of product to impurity (or ratio of conformers or diastereomers?)  Rf = 0.57 (2:1 Hexanes:EtOAc)  ', 'url': 'https://prelude.dotmatics.net/browser/api/studies/experiment/140199/writeup/{includeHtml}'}\n",
      "{'index': 13, 'exp_id': 141394, 'writeup': 'Standard Controls Apply: Lab coats, gloves and safety specs are to be worn at all times. All experiments should be performed in a fumehood.  A mixture of 7-[(3aS,6R,6aS)-4-(4-chlorophenyl)sulfanyl-2,2-dimethyl-6,6a-dihydro-3aH-cyclopenta[d][1,3]dioxol-6-yl]-4-chloro-pyrrolo[2,3-d]pyrimidine (120.0 mg, 0.14 mmol){{9:row 1}}_XXXXX_  (50% pure), TFA (0.9 mL, 10. mmol){{9:row 2}}_XXXXX_  and Water (0.10 mL){{3:row 1}}_XXXXX_  (pre-mixed 9:1 TFA:H2) was stirred at rt for 30 min.  LCMS showed the product peak but not a very clean reaction  LCMS 394/396 TLC 1:1 HE:EA Rf 0.3 The reaction mixture was concentrated under vacuum to give crude product (1S,2S,5R)-3-(4-chlorophenyl)sulfanyl-5-(4-chloropyrrolo[2,3-d]pyrimidin-7-yl)cyclopent-3-ene-1,2-diol (56 mg, 0.11362 mmol, 82.253% yield){{2:row 1}}_XXXXX_  (80% purity based on TLC and LCMS) as a white foamy solid. The crude was carried over w/o purification LCMS file HL002-51c?', 'url': 'https://prelude.dotmatics.net/browser/api/studies/experiment/141394/writeup/{includeHtml}'}\n",
      "{'index': 14, 'exp_id': 141569, 'writeup': \"Standard Controls Apply: Lab coats, gloves and safety specs are to be worn at all times. All experiments should be performed in a fumehood.  N,N'-diisopropylmethanediimine (0.3 mL, 1.92 mmol){{9:row 2}}_XXXXX_  was added to a solution of 2-chloroquinolin-7-ol (253.4 mg, 1.41 mmol){{9:row 3}}_XXXXX_ , [(3aR,4R,6R,6aR)-4-(4-chloropyrrolo[2,3-d]pyrimidin-7-yl)-2,2-dimethyl-3a,4,6,6a-tetrahydrofuro[3,4-d][1,3]dioxol-6-yl]methanol (383.0 mg, 1.18 mmol){{9:row 4}}_XXXXX_  and triphenylphosphine (555.1 mg, 2.12 mmol){{9:row 1}}_XXXXX_  in dry THF (4 mL){{3:row 1}}_XXXXX_  The reaction mixture was stirred at RT for 2hr. TLC showed the reaction was completed (3:1 Hexane/EA). St.m. Rf 0.3, product 0.5 The reaction mixture was concentrated under vacuum and the residue was loaded on a 40 g column, which was eluted to with 0-50% EA/hexane to give 7-[[(3aR,4R,6R,6aR)-4-(4-chloropyrrolo[2,3-d]pyrimidin-7-yl)-2,2-dimethyl-3a,4,6,6a-tetrahydrofuro[3,4-d][1,3]dioxol-6-yl]methoxy]-2-chloro-quinoline (800 mg, 1.4774 mmol, 125.66% yield){{2:row 1}}_XXXXX_  as a thick oil. Solvent may not be fully removed. This material was given to Raul to make tool molecule from Jassen patent LCMS HL002-54-1?? HNMR not taken\", 'url': 'https://prelude.dotmatics.net/browser/api/studies/experiment/141569/writeup/{includeHtml}'}\n",
      "{'index': 15, 'exp_id': 141588, 'writeup': 'Standard Controls Apply: Lab coats, gloves and safety specs are to be worn at all times. All experiments should be performed in a fumehood.  Pfizer patent  US 2016/0244475 Al p125, Ex. 103. Less polor one is the desired R isomer with 6:1 selectivity according to the patent. bromo(methyl)magnesium (1.12 mL, 3.36 mmol){{9:row 2}}_XXXXX_  (3.2M in 2-Me-THF) was added a solution of [(3aR,4R,6S,6aS)-4-(4-chloropyrrolo[2,3-d]pyrimidin-7-yl)-2,2-dimethyl-3a,4,6,6a-tetrahydrofuro[3,4-d][1,3]dioxol-6-yl]-(3,4-dichlorophenyl)methanone (315.0 mg, 0.67 mmol){{9:row 1}}_XXXXX_  in THF (2 mL){{3:row 1}}_XXXXX_  at -30 °C{{8:row 1}}_XXXXX_  . The resulting mixture was stirred at -30 C for 1 hr. TLC showed the major desired prod was co-eluted with the starting material but with bright blue color, and small amount (more polar spot) wrong epimer. This was  warmed up to room temp, stirred for another 30 min, then cooled to 0 C. EtOAc was added, then the reaction mixture was poured into ice cold sat. aq. NH4Cl. The aq. layer was extracted with EtOAc and the combined organic layers were washed with brine, dried over Na2SO4, filtered and concentrated. The residue was purified on a 20 g column which was eluted with 0-30% of EA/hexane to give (1R)-1-[(3aR,4R,6S,6aR)-4-(4-chloropyrrolo[2,3-d]pyrimidin-7-yl)-2,2-dimethyl-3a,4,6,6a-tetrahydrofuro[3,4-d][1,3]dioxol-6-yl]-1-(3,4-dichlorophenyl)ethanol (194 mg, 0.4002 mmol, 59.549% yield){{2:row 1}}_XXXXX_  as white foamy solids. TLC 3:1 hexane/EtOAc. This is a repeated reaction. No QC attached.  LCMS HL002-56-1??    ', 'url': 'https://prelude.dotmatics.net/browser/api/studies/experiment/141588/writeup/{includeHtml}'}\n",
      "{'index': 16, 'exp_id': 141851, 'writeup': \"A 500 &micro;L microwave vial with septum containing (R)-[(3aR,4R,6R,6aR)-4-(4-chloropyrrolo[2,3-d]pyrimidin-7-yl)-2,2-dimethyl-3a,4,6,6a-tetrahydrofuro[3,4-d][1,3]dioxol-6-yl]-(3,4-dichlorophenyl)methanol (10.03 mg, 0.02 mmol){{9:row 1}}_XXXXX_ , disodium;carbonate (5.1 mg, 0.05 mmol){{9:row 2}}_XXXXX_ , and Dichloro 1,1'-bisdiphenylphosphino)ferrocene Palladium (II) dichloromethane (2.0 mg, 0. mmol){{9:row 3}}_XXXXX_  was evacuated and backfilled with Ar (&times;2). The vial was charged with 4,4,5,5-tetramethyl-2-vinyl-1,3,2-dioxaborolane (8.0 uL, 0.05 mmol){{9:row 4}}_XXXXX_  followed by DMF (120 uL){{3:row 1}}_XXXXX_  and stirred at 85 °C{{8:row 1}}_XXXXX_  for 10 h. LCMS analysis showed a majority of the SM was still present, with a minor amount of the vinyl product. No vinyl boron product detected. Another minor product (479/481) via SnAr with dimethylamine (from cleaved DMF) was also detected.    The reaction turned black relatively quickly. LiCl as an additive may help keep the palladium in the reaction. Would using an excess of the vinyl pinacol reagent affect the ratio of Heck vs Suzuki coupling? Maybe try TEA/DMF instead of Na2CO3/DMF.  Standard Controls Apply: Lab coats, gloves and safety specs are to be worn at all times. All experiments should be performed in a fumehood.\", 'url': 'https://prelude.dotmatics.net/browser/api/studies/experiment/141851/writeup/{includeHtml}'}\n",
      "{'index': 17, 'exp_id': 142022, 'writeup': 'A 4 mL vial with septum containing a mixture of [(R)-[(3aR,4R,6R,6aR)-4-(4-chloro-5-iodo-pyrrolo[2,3-d]pyrimidin-7-yl)-2,2-dimethyl-3a,4,6,6a-tetrahydrofuro[3,4-d][1,3]dioxol-6-yl]-(4-chlorophenyl)methyl] benzoate (84.3 mg, 0.13 mmol){{9:row 1}}_XXXXX_ , (5-diphenylphosphanyl-9,9-dimethyl-xanthen-4-yl)-diphenyl-phosphane (10.3 mg, 0.02 mmol){{9:row 2}}_XXXXX_ , palladium(2+);diacetate (1.9 mg, 0.01 mmol){{9:row 3}}_XXXXX_ , and dicesium;carbonate (82.45 mg, 0.25 mmol){{9:row 4}}_XXXXX_  was evacuated and backfilled with Ar (&times;3). The vial was then charged with 1,4-Dioxane (1 mL){{3:row 1}}_XXXXX_  and diphenylmethanimine (24.0 uL, 0.14 mmol){{9:row 5}}_XXXXX_ , and stirred at 70 °C{{8:row 1}}_XXXXX_  for 21 h. ~1:1 SM:Prd by LCMS UV after 4 h. LCMS shows the major product is the desired product. SM consumed by LCMS analysis after 21 h total. The crude reaction mixture was combined with RAL002-21A, diluted with EtOAc (50 mL), washed with water (50 mL), water (45 mL) with brine (5 mL), then brine (25 mL), and dried over Na2SO4. The organic layer was filtered and purified by FCC (12 g SiO2, 0-&gt;45% EtOAc in hexanes, wet-loaded in DCM+hexanes) to yield [(R)-[(3aR,4R,6R,6aR)-4-[5-(benzhydrylideneamino)-4-chloro-pyrrolo[2,3-d]pyrimidin-7-yl]-2,2-dimethyl-3a,4,6,6a-tetrahydrofuro[3,4-d][1,3]dioxol-6-yl]-(4-chlorophenyl)methyl] benzoate (85.5 mg, 0.05941 mmol, 46.954% yield){{2:row 1}}_XXXXX_  as a yellow glass. This is the combined yield for both reactions RAL002-21 and RAL002-26 (85.5 mg, 75.2% yield).  The product looks messy by NMR. Maybe not stable? ~50% purity.  Rf = 0.47 (1:2 EtOAc:hexanes)  LCMS Found 719.2/721.2.', 'url': 'https://prelude.dotmatics.net/browser/api/studies/experiment/142022/writeup/{includeHtml}'}\n",
      "{'index': 18, 'exp_id': 142248, 'writeup': 'Standard Controls Apply: Lab coats, gloves and safety specs are to be worn at all times. All experiments should be performed in a fumehood. To a stirred solution of 7-[(3aR,4R,6S,6aR)-6-[(R)-(3,4-dichlorophenyl)-triethylsilyloxy-methyl]-2,2-dimethyl-3a,4,6,6a-tetrahydrofuro[3,4-d][1,3]dioxol-4-yl]-1H-pyrrolo[2,3-d]pyrimidin-4-one oxime (26.mg, 0.0400 mmol) in Toluene (0.5000 mL)  and Water (0.5000 mL) were added 4 drops of Tetrabutylammonium hydroxide solution (11.6mg, 0.0400 mmol), iodo(difluoro)methane (0.5mL, 11.05 mmol) and the reaction was stirred overnight at rt. LCMS showed a very non polar peak that has the same mass as the desired compound and on the TLC (hexane : EtOAc, 70:30) there is also a non polar spot. The reaction mixture was diluted with EtOAc and washed with NH4Cl, water, brine, dried over Na2SO4, filtered and concentrated. The crude was purified on a 4 g silica gel column chromatography using hexane : EtOAc (first one minute hexane only, then ramp up until 40% EtOAc for 11 min and finally 3 min at 40%) to give 7-[(3aR,4R,6S,6aR)-6-[(R)-(3,4-dichlorophenyl)-triethylsilyloxy-methyl]-2,2-dimethyl-3a,4,6,6a-tetrahydrofuro[3,4-d][1,3]dioxol-4-yl]-N-(difluoromethoxy)-1H-pyrrolo[2,3-d]pyrimidin-4-imine (6 mg, 0.0095 mmol, 21.25% yield) and 7-[(3aR,4R,6S,6aR)-6-[(R)-(3,4-dichlorophenyl)-triethylsilyloxy-methyl]-2,2-dimethyl-3a,4,6,6a-tetrahydrofuro[3,4-d][1,3]dioxol-4-yl]-1H-pyrrolo[2,3-d]pyrimidin-4-one oxime (12 mg, 0.0206 mmol, 46.154% yield), recovered starting material. 1H NMR (400 MHz, Chloroform-d) δ 8.11 (s, 1H), 7.81 (t, J = 59.6 Hz, 1H), 7.34 (d, J = 8.3 Hz, 1H), 7.19 (d, J = 2.0 Hz, 1H), 7.01 – 6.92 (m, 2H), 6.80 (d, J = 3.5 Hz, 1H), 6.14 (d, J = 2.9 Hz, 1H), 5.12 (dd, J = 2.9, 6.5 Hz, 1H), 5.04 (dd, J = 3.5, 6.5 Hz, 1H), 4.67 (d, J = 5.8 Hz, 1H), 4.13 (dd, J = 3.5, 5.9 Hz, 1H), 1.90 (s, 5H?), 1.54 (s, 3H), 1.34 (s, 3H), 0.87 (t, J = 8.0 Hz, 9H), 0.60 – 0.41 (m, 6H).          ', 'url': 'https://prelude.dotmatics.net/browser/api/studies/experiment/142248/writeup/{includeHtml}'}\n",
      "{'index': 19, 'exp_id': 142622, 'writeup': \"  Preparation 4 (3aR,4R,6S,6aS)-4-(4-Chloropyrrolo[2,3-d]pyrimidin-7-yl)-N-methoxy-N,2,2-trimethyl- 3a,4,6,6a-tetrahydrofuro[3,4-d][l,3]dioxole-6-carboxamide Dissolve [(3aR,4R,6R,6aR)-4-(4-chloropyrrolo[2,3-d]pyrimidin-7-yl)-2,2-dimethyl-3a,4,6,6a-tetrahydrofuro[3,4-d][l,3]dioxol-6-yl]methanol (45.0 g, 138.1 mmol) in ACN (175 mL). Add water (133 mL) and cool the mixture to 0 °C. Add iodobenzene diacetate (122.3 g, 379.7 mmol) portion wise at 0 °C followed by the portion wise addition of TEMPO (10.5 g, 67.0 mmol). Stir the mixture for 1 hr at room temperature. Add water (100 mL) and EtOAc (250 mL) at 0 °C and separate the resulting organic layer. Extract the aqueous layer with EtOAc (3 x 100 mL). Combine the organic extracts and wash with water (100 mL), 20% w/v aqueous solution of sodium bisulphite (100 mL), and water (100 mL). Dry the organic layer over sodium sulfate, filter, and remove the solvents under reduced pressure to give a brown solid (53.0 g). Dissolve this solid in EtOAc (400 mL) at room temperature and add Ν,Ο-dimethylhydroxylamine hydrochloride (18.8 g, 193.0 mmol) portion wise. Stir the mixture for 5 min at room temperature and drop wise add a 1.67 M solution of 2,4,6-tripropyl-l, 3, 5,2,4,6-trioxatriphosphorinane-2,4,6-trioxide in EtOAc (176.3 mL, 294 mmol). Stir the reaction mixture at room temperature for 3 days under N2. Cool the reaction mixture to 0 °C and add water (150 mL) and EtOAc (150 mL). Separate the resulting organic layer and extract the aqueous layer with EtOAc (3 x 150 mL). Combine the organic extracts and wash with water (200 mL). Dry the organic layer over sodium sulfate, filter, and concentrate to give a crude mixture. Purify by filtration through a silica plug eluting with a gradient of 0-30% EtOAc/DCM to give the title compound as a white vitreous solid (31.0 g, 60% over two steps). ES/MS m/z (35C1/37C1) 383.0/385.0 [M+H]+.    Standard Controls Apply: Lab coats, gloves and safety specs are to be worn at all times. All experiments should be performed in a fumehood.  N-ethyl-N-isopropyl-propan-2-amine (2.74 mL, 15.73 mmol){{9:row 4}}_XXXXX_  was added to a solution of (3aR,4R,6S,6aS)-4-(6-chloropurin-9-yl)-2,2-dimethyl-3a,4,6,6a-tetrahydrofuro[3,4-d][1,3]dioxole-6-carboxylic acid (2.68 g, 7.87 mmol){{9:row 1}}_XXXXX_  and 1-PROPANEPHOSPHONIC ACID CYCLIC ANHYDRIDE (8.0 mL, 15.73 mmol){{9:row 2}}_XXXXX_  in Ethyl acetate (30 mL){{3:row 1}}_XXXXX_  at 0 C. Note that the patent procedure missed the base. The reaction doesn't proceed without base, typically TEA or hunig base. The resultion solution was stirred at RT for 1 hr. TLC showed the completion of the reation (9:1 DCM/MeOH). The reaction was poured into ice-cold water, the aq. layer was extracted with EtOAc 3X. Note that the product was difficult to extract under strong acidic conditions. The combined organic layers were washed with sat. aq. NaHCO3, water, brine, dried over sodium sulfate, filtered and concentrated. The crude product was purified on a 40 g column to give (3aR,4R,6S,6aS)-4-(6-chloropurin-9-yl)-N-methoxy-N,2,2-trimethyl-3a,4,6,6a-tetrahydrofuro[3,4-d][1,3]dioxole-6-carboxamide (1.72 g, 4.4816 mmol, 56.977% yield){{2:row 1}}_XXXXX_  as a white foamy solid. This is the scale up of previous reaction, no QC data attached. LCMS HL002-60-1?? Following the same procedure, HL002-60-2 was obtained from HL002-59-2. Scale up of previous reaction. No QC attached. LCMS HL002-60-2??\", 'url': 'https://prelude.dotmatics.net/browser/api/studies/experiment/142622/writeup/{includeHtml}'}\n",
      "{'index': 20, 'exp_id': 142648, 'writeup': 'Standard Controls Apply: Lab coats, gloves and safety specs are to be worn at all times. All experiments should be performed in a fumehood. To an ice-cold solution of (3aR,4R,6S,6aS)-4-(6-chloropurin-9-yl)-N-methoxy-N,2,2-trimethyl-3a,4,6,6a-tetrahydrofuro[3,4-d][1,3]dioxole-6-carboxamide (1.72 g, 4.48 mmol){{9:row 1}}_XXXXX_  in THF (30 mL){{3:row 1}}_XXXXX_  was added a solution of (3,4-Dichlorophenyl)magnesium bromide, 0.50 M in 2-MeTHF (17.93 mL, 8.96 mmol){{9:row 2}}_XXXXX_  dropwise. The resulting mixture was warmed to rt, stirred for 2 hr. LCMS showed the completion of the reaction. The reaction mixture was poured onto ice-cold sat. aq. NH4Cl solution, which was extracted with EtOAc. The organic layer was washed with brine, dried over Na2SO4, filtered and concentrated. The crude product was purified on a 20 g colume, which was eluted with 0-50% EA/hexane to give [(3aR,4R,6S,6aS)-4-(6-chloropurin-9-yl)-2,2-dimethyl-3a,4,6,6a-tetrahydrofuro[3,4-d][1,3]dioxol-6-yl]-(3,4-dichlorophenyl)methanone (1.82 g, 3.8747 mmol, 86.458% yield){{2:row 1}}_XXXXX_  as a light yellow solid. Scale up of previous reaction. No QC attached. Comparing TLC co-spot (3:1 hexane/EA). LCMS HL002-61-1??  ', 'url': 'https://prelude.dotmatics.net/browser/api/studies/experiment/142648/writeup/{includeHtml}'}\n",
      "{'index': 21, 'exp_id': 142649, 'writeup': 'Standard Controls Apply: Lab coats, gloves and safety specs are to be worn at all times. All experiments should be performed in a fumehood.  To an ice-cold solution of [(3aR,4R,6S,6aS)-4-(6-chloropurin-9-yl)-2,2-dimethyl-3a,4,6,6a-tetrahydrofuro[3,4-d][1,3]dioxol-6-yl]-(3,4-dichlorophenyl)methanone (1.82 g, 3.87 mmol){{9:row 1}}_XXXXX_  in THF (30 mL){{3:row 1}}_XXXXX_  was added a solution of bromo(methyl)magnesium (2.42 mL, 7.75 mmol){{9:row 2}}_XXXXX_  dropwise. The resulting mixture was warmed to rt, stirred for 2 hr. LCMS showed the completion of the reaction. The reaction mixture was poured onto ice-cold sat. aq. NH4Cl solution, which was extracted with EtOAc. The organic layer was washed with brine, dried over Na2SO4, filtered and concentrated. The crude product was purified on a 20 g colume, which was eluted with 0-50% EA/hexane to give (1R)-1-[(3aR,4R,6S,6aR)-4-(6-chloropurin-9-yl)-2,2-dimethyl-3a,4,6,6a-tetrahydrofuro[3,4-d][1,3]dioxol-6-yl]-1-(3,4-dichlorophenyl)ethanol (1.5 g, 3.088 mmol, 79.696% yield){{2:row 1}}_XXXXX_  as a light yellow solid and (1S)-1-[(3aR,4R,6S,6aR)-4-(6-chloropurin-9-yl)-2,2-dimethyl-3a,4,6,6a-tetrahydrofuro[3,4-d][1,3]dioxol-6-yl]-1-(3,4-dichlorophenyl)ethanol (171 mg, 0.35203 mmol, 9.0854% yield){{2:row 2}}_XXXXX_  as a yellow foamy solid. LCMS HL002-62-1, HL002-62-2(??)  Similar chemistry as PRT1000428. No QC attached.   ', 'url': 'https://prelude.dotmatics.net/browser/api/studies/experiment/142649/writeup/{includeHtml}'}\n",
      "{'index': 22, 'exp_id': 142709, 'writeup': 'Standard Controls Apply: Lab coats, gloves and safety specs are to be worn at all times. All experiments should be performed in a fumehood.  A mixture of (1R)-1-[(3aR,4R,6S,6aR)-4-(6-chloropurin-9-yl)-2,2-dimethyl-3a,4,6,6a-tetrahydrofuro[3,4-d][1,3]dioxol-6-yl]-1-(3,4-dichlorophenyl)ethanol (168.0 mg, 0.35 mmol){{9:row 1}}_XXXXX_ , NH4OH (1.0 mL, 26. mmol){{9:row 2}}_XXXXX_  and 1,4-Dioxane (2 mL){{3:row 1}}_XXXXX_  was sealed and irradiated with MW at 120 in a 2-5 mL of MW vial for 20 min. TLC (2:1 Hexane: EA) and LCMS showed the completion of the reaction. The reaction mixture was concentrated and the crude product was purified on a 12 g column eluted with 0-15% and MeOH/DCM to give (1R)-1-[(3aR,4R,6S,6aR)-4-(6-aminopurin-9-yl)-2,2-dimethyl-3a,4,6,6a-tetrahydrofuro[3,4-d][1,3]dioxol-6-yl]-1-(3,4-dichlorophenyl)ethanol (160 mg, 0.34311 mmol, 99.206% yield){{2:row 1}}_XXXXX_  as a light yellow solid Chemistry similar to PRT1000220. No QC attached. LCMS HL002-63-1(??)  ', 'url': 'https://prelude.dotmatics.net/browser/api/studies/experiment/142709/writeup/{includeHtml}'}\n",
      "{'index': 23, 'exp_id': 142710, 'writeup': \"Standard Controls Apply: Lab coats, gloves and safety specs are to be worn at all times. All experiments should be performed in a fumehood.  A mixture of (1R)-1-[(3aR,4R,6S,6aR)-4-(6-chloropurin-9-yl)-2,2-dimethyl-3a,4,6,6a-tetrahydrofuro[3,4-d][1,3]dioxol-6-yl]-1-(3,4-dichlorophenyl)ethanol (280.0 mg, 0.58 mmol){{9:row 3}}_XXXXX_ , TEA (1.82 mL, 9.61 mmol){{9:row 1}}_XXXXX_ , O-Methylhydroxylamine\\thydrochloride (422.3 mg, 4.8 mmol){{9:row 2}}_XXXXX_  in IPA (2 mL){{3:row 1}}_XXXXX_  was purged with N2, sealed and heated at 80 C for 2 hr. LCMS showed the consumption of the st.m. with formation of the TEA adduct as a by-product, which was co-eluted on TLC with the st.m. The reaction mixture was diluted with EtOAc, filtered and concentrated to give a light yellow solid as the crude product, which was purified on a 12 g colume, eluted with 0-100% EtOAc in DCM to give (1R)-1-[(3aR,4R,6S,6aR)-4-[(6Z)-6-methoxyimino-1H-purin-9-yl]-2,2-dimethyl-3a,4,6,6a-tetrahydrofuro[3,4-d][1,3]dioxol-6-yl]-1-(3,4-dichlorophenyl)ethanol (45 mg, 0.09066 mmol, 15.729% yield){{2:row 1}}_XXXXX_ . It was found out later (HL002-68) that the product didn't dissolve in EtOAc. The product might got lost from the filtration. Chemistry similar to PRT1000528. No QC attached. LCMS HL002-63-1 (??)\", 'url': 'https://prelude.dotmatics.net/browser/api/studies/experiment/142710/writeup/{includeHtml}'}\n",
      "{'index': 24, 'exp_id': 142726, 'writeup': \"Standard Controls Apply: Lab coats, gloves and safety specs are to be worn at all times. All experiments should be performed in a fumehood.  HCl (0.04 mL, 0.45 mmol){{9:row 2}}_XXXXX_  (conc. ~12 M) was added to a solution of (1R)-1-[(3aR,4R,6S,6aR)-4-[(6E)-6-methoxyimino-1H-purin-9-yl]-2,2-dimethyl-3a,4,6,6a-tetrahydrofuro[3,4-d][1,3]dioxol-6-yl]-1-(3,4-dichlorophenyl)ethanol (45.0 mg, 0.09 mmol){{9:row 1}}_XXXXX_  in Methanol (0.35 mL){{3:row 1}}_XXXXX_  and stirred at RT for 2 hr. Light pinkish precipitate was formed and it was mainly product but purity wasn't above 95%. The major impurity was unhydrolyzed starting acetonide.  The reaction was concentrated and the residue was loaded on a 12 g column, which was eluted with 0-15% MeOH/DCM. The product was tailed on the column and seemed to decomposed. Discarded. LCMS HL002-66 (??)\", 'url': 'https://prelude.dotmatics.net/browser/api/studies/experiment/142726/writeup/{includeHtml}'}\n",
      "{'index': 25, 'exp_id': 142745, 'writeup': 'Standard Controls Apply: Lab coats, gloves and safety specs are to be worn at all times. All experiments should be performed in a fumehood.  A mixture of K2CO3 (90.91 mg, 0.66 mmol){{9:row 3}}_XXXXX_ , O-Methylhydroxylamine\\thydrochloride (115.83 mg, 1.32 mmol){{9:row 1}}_XXXXX_ , (1R)-1-[(3aR,4R,6S,6aR)-4-(6-chloropurin-9-yl)-2,2-dimethyl-3a,4,6,6a-tetrahydrofuro[3,4-d][1,3]dioxol-6-yl]-1-(3,4-dichlorophenyl)ethanol (320.0 mg, 0.66 mmol){{9:row 2}}_XXXXX_  in IPA (5 mL){{3:row 1}}_XXXXX_  was purged with N2, sealed and heated at 80 C for 2 hr. LCMS showed the consumption of the st.m. with formation of small amount of the iPrOH adduct as a by-product. The reaction mixture was diluted with EtOAc, filtered and filtrates were concentrated. The residue was purified by FCC on a 20 g column, eluted with EtOAc in DCM to give (1R)-1-[(3aR,4R,6S,6aR)-4-[(6Z)-6-methoxyimino-1H-purin-9-yl]-2,2-dimethyl-3a,4,6,6a-tetrahydrofuro[3,4-d][1,3]dioxol-6-yl]-1-(3,4-dichlorophenyl)ethanol (310 mg, 0.62457 mmol, 94.808% yield){{2:row 1}}_XXXXX_  as a white foamy solid. LCMS HL002-67-1 (??) similar chemistry to PRT1000428. No QC attached.', 'url': 'https://prelude.dotmatics.net/browser/api/studies/experiment/142745/writeup/{includeHtml}'}\n",
      "{'index': 26, 'exp_id': 142746, 'writeup': 'Standard Controls Apply: Lab coats, gloves and safety specs are to be worn at all times. All experiments should be performed in a fumehood.  A mixture of N-ethyl-N-isopropyl-propan-2-amine (0.14 mL, 0.82 mmol){{9:row 3}}_XXXXX_ , O-Methylhydroxylamine\\thydrochloride (72.39 mg, 0.82 mmol){{9:row 1}}_XXXXX_ , (1R)-1-[(3aR,4R,6S,6aR)-4-(6-chloropurin-9-yl)-2,2-dimethyl-3a,4,6,6a-tetrahydrofuro[3,4-d][1,3]dioxol-6-yl]-1-(3,4-dichlorophenyl)ethanol (200.0 mg, 0.41 mmol){{9:row 2}}_XXXXX_  in IPA (5 mL){{3:row 1}}_XXXXX_  was purged with N2, sealed and irradiated with MW at 120 C for 20 min. LCMS showed the consumption of the st.m. The reaction mixture was diluted with DCM and water. The aq. layer was extracted with DCM several times until not floating yellow solids visible. All organic layers were combined, dried over Na2SO4, filtered and concentrated to give crude (1R)-1-[(3aR,4R,6S,6aR)-4-[(6Z)-6-methoxyimino-1H-purin-9-yl]-2,2-dimethyl-3a,4,6,6a-tetrahydrofuro[3,4-d][1,3]dioxol-6-yl]-1-(3,4-dichlorophenyl)ethanol (200 mg, 0.40295 mmol, 97.866% yield){{2:row 1}}_XXXXX_  as a light yellow solid LCMS HL002-68?? This is a repeated reaction to scale up PRT1000536. Not fully characterized.', 'url': 'https://prelude.dotmatics.net/browser/api/studies/experiment/142746/writeup/{includeHtml}'}\n",
      "{'index': 27, 'exp_id': 142763, 'writeup': 'A 4mL microwave vial with septum containing a solution of [(R)-[(3aR,4R,6R,6aR)-4-(4-chloro-5,6-dihydropyrrolo[2,3-d]pyrimidin-7-yl)-2,2-dimethyl-3a,4,6,6a-tetrahydrofuro[3,4-d][1,3]dioxol-6-yl]-(4-chloro-3-methyl-phenyl)methyl] 4-phenylbenzoate (57.0 mg, 0.05 mmol){{9:row 1}}_XXXXX_  in 1,4-Dioxane (2 mL){{3:row 1}}_XXXXX_  was sparged with Ar for 1 min, charged with ammonium\\thydroxide (2.0 mL, 30. mmol){{9:row 2}}_XXXXX_ , and microwaved at 100 °C{{8:row 1}}_XXXXX_  for 8 h. LCMS showed a ~1:1 ratio by UV of SM to PhBz cleaved product with minimal SnAr. The reaction was then charged with ammonium\\thydroxide (1.0 mL, 15. mmol){{9:row 3}}_XXXXX_  and microwaved at 120 °C for 12 h. LCMS showed SM was consumed and that a mixture of the (PhBz cleaved) prd and the (SnAr with PhBz cleaved) product was present.. The reaction was then microwaved at 130 °C for 12 h. The reaction mixture was concentrated under reduced pressure, dissolved in MeOH/DCM, dry-loaded onto Celite, and purified by FCC (12 g SiO2, 1-&gt;2% MeOH in DCM, wet-loaded in eluent). Fraction containing product were combined and purified again by FCC (0&rarr;50% EtOAc in hexanes, wet-loaded in DCM). Fractions containing desired product were combined and concentrated under reduced pressure and heat (~50 °C) to yield an impure (R)-[(3aR,4R,6R,6aR)-4-(4-amino-5,6-dihydropyrrolo[2,3-d]pyrimidin-7-yl)-2,2-dimethyl-3a,4,6,6a-tetrahydrofuro[3,4-d][1,3]dioxol-6-yl]-(4-chloro-3-methyl-phenyl)methanol (2 mg, 0.00462 mmol, 8.8394% yield){{2:row 1}}_XXXXX_  that had correct mass by LCMS but impure by NMR. Very low recovery--maybe not stable?   LCMS Found: 434.0/435.9. FN: RAL002-51ff17.', 'url': 'https://prelude.dotmatics.net/browser/api/studies/experiment/142763/writeup/{includeHtml}'}\n",
      "{'index': 28, 'exp_id': 142861, 'writeup': 'Standard Controls Apply: Lab coats, gloves and safety specs are to be worn at all times. All experiments should be performed in a fumehood.  (3,4-Dichlorophenyl)magnesium bromide, 0.50 M in 2-MeTHF (5.0 mL, 2.5 mmol){{9:row 2}}_XXXXX_ (3aR,4R,6S,6aS)-4-(6-chloropurin-9-yl)-N-methoxy-N,2,2-trimethyl-3a,4,6,6a-tetrahydrofuro[3,4-d][1,3]dioxole-6-carboxamide (750.0 mg, 1.95 mmol){{9:row 1}}_XXXXX_  in dry THF (30 mL){{3:row 1}}_XXXXX_  at 0 C. The resulting mixture was warmed up to RT and stirred for 1hr. TLC (3:1 hexane/EA) showed the reaction was completed.  EtOAc was added to quench the reaction, then, sat. aq. NH4Cl. The organic layer was separated, washed with brine, dried over Na2SO4, filtered and concentrated. The crude product was purified on a 24 g column, eluted with 0-50% EA/hexane to give [(3aR,4R,6S,6aS)-4-(6-chloropurin-9-yl)-2,2-dimethyl-3a,4,6,6a-tetrahydrofuro[3,4-d][1,3]dioxol-6-yl]-(3,4-dichlorophenyl)methanone (0.81 g, 1.7245 mmol, 88.244% yield){{2:row 1}}_XXXXX_  as a light yellow solid. This was a repeated reaction on larger scale. No QC was taken. Use TLC co-spot for product identity. LCMS HL002-70(??)', 'url': 'https://prelude.dotmatics.net/browser/api/studies/experiment/142861/writeup/{includeHtml}'}\n",
      "{'index': 29, 'exp_id': 142863, 'writeup': 'Standard Controls Apply: Lab coats, gloves and safety specs are to be worn at all times. All experiments should be performed in a fumehood.  HCl (0.15 mL, 2. mmol){{9:row 2}}_XXXXX_  was added to a solution of (1R)-1-[(3aR,4R,6S,6aR)-4-[(6Z)-6-methoxyimino-1H-purin-9-yl]-2,2-dimethyl-3a,4,6,6a-tetrahydrofuro[3,4-d][1,3]dioxol-6-yl]-1-(3,4-dichlorophenyl)ethanol (310.0 mg, 0.62 mmol){{9:row 1}}_XXXXX_  in Methanol (3 mL){{3:row 1}}_XXXXX_ . The resulting mixture was stirred overnight. Light pink precipitate was formed, filtered to give (2S,3S,4R,5R)-2-[(1R)-1-(3,4-dichlorophenyl)-1-hydroxy-ethyl]-5-[(6Z)-6-methoxyimino-1H-purin-9-yl]tetrahydrofuran-3,4-diol hydrochloride (200 mg, 0.39372 mmol, 63.038% yield){{2:row 1}}_XXXXX_  LCMS HL002-71?? This material was mixed with HL002-69-1 to re-purify to give final product in HL002-72-1. Not characterized here.', 'url': 'https://prelude.dotmatics.net/browser/api/studies/experiment/142863/writeup/{includeHtml}'}\n",
      "{'index': 30, 'exp_id': 143109, 'writeup': \"       Standard Controls Apply: Lab coats, gloves and safety specs are to be worn at all times. All experiments should be performed in a fumehood.  isopropyl (NE)-N-isopropoxycarbonyliminocarbamate (0.31 mL, 1.55 mmol){{9:row 4}}_XXXXX_  was added to a solution of (S)-[(3aR,4R,6R,6aR)-4-(4-chloropyrrolo[2,3-d]pyrimidin-7-yl)-2,2-dimethyl-3a,4,6,6a-tetrahydrofuro[3,4-d][1,3]dioxol-6-yl]-(4-bicyclo[4.2.0]octa-1(6),2,4-trienyl)methanol (368.0 mg, 0.86 mmol){{9:row 1}}_XXXXX_  and triphenylphosphine (345.28 mg, 1.29 mmol){{9:row 2}}_XXXXX_  in THF (5 mL){{3:row 1}}_XXXXX_  at 0 C.  TLC showed the completion of the reation (3:1 hexane/EA). The reaction was concentrated and the crude product was purified on a 12 g column to give [(R)-[(3aR,4R,6R,6aR)-4-(4-chloropyrrolo[2,3-d]pyrimidin-7-yl)-2,2-dimethyl-3a,4,6,6a-tetrahydrofuro[3,4-d][1,3]dioxol-6-yl]-(4-bicyclo[4.2.0]octa-1(6),2,4-trienyl)methyl] benzoate (290 mg, 0.54512 mmol, 63.382% yield){{2:row 1}}_XXXXX_  as a white foamy solid. This reaction was to recycle the undesired epimer from 5'-ketone reduction with DIBAL. TLC co-spot to identify product. No HNMR taken LCMS HL002-76??\", 'url': 'https://prelude.dotmatics.net/browser/api/studies/experiment/143109/writeup/{includeHtml}'}\n",
      "{'index': 31, 'exp_id': 143325, 'writeup': 'A 300 mL RBF containing [(3aR,4R,6S,6aS)-4-(4-chloropyrrolo[2,3-d]pyrimidin-7-yl)-2,2-dimethyl-3a,4,6,6a-tetrahydrofuro[3,4-d][1,3]dioxol-6-yl]-(2,3-dihydrobenzofuran-6-yl)methanone (120.0 mg, 0.27 mmol){{9:row 1}}_XXXXX_  under Ar was charged with Toluene (3 mL){{3:row 1}}_XXXXX_ , cooled to -78 °C{{8:row 1}}_XXXXX_ , then charged with Diisobutylaluminum hydride;DIBAL, 1M in toluene (97.17 uL, 0.55 mmol){{9:row 2}}_XXXXX_  over 4 min. The reaction was stirred at -78 °C{{8:row 1}}_XXXXX_  for 2 h. The reaction was warmed to 0 °C in an ice bath, then quenched sequentially with water (20 &micro;L), 15% NaOH (20 &micro;L), and water (55 &micro;L). The mixture was stirred at 0 °C for 10 min, charged with MgSO4, diluted with EtOAc (15 mL), stirred for 5 additional min, then vacuum filtered through a cellulose acetate filter. The solids were rinsed thoroughly with EtOAc (40 mL). The filtrate was concentrated under reduced pressure and purified by FCC (20 g SiO2, 0&rarr;35% EtOAc in DCM, wet-loaded in DCM). Fractions containing pure product were combined and concentrated under reduced pressure and heat (50°C) to yield (R)-[(3aR,4R,6R,6aR)-4-(4-chloropyrrolo[2,3-d]pyrimidin-7-yl)-2,2-dimethyl-3a,4,6,6a-tetrahydrofuro[3,4-d][1,3]dioxol-6-yl]-(2,3-dihydrobenzofuran-6-yl)methanol (76.8 mg, 0.17302 mmol, 63.709% yield){{2:row 1}}_XXXXX_  as a white foam / clear glass, and (S)-[(3aR,4R,6R,6aR)-4-(4-chloropyrrolo[2,3-d]pyrimidin-7-yl)-2,2-dimethyl-3a,4,6,6a-tetrahydrofuro[3,4-d][1,3]dioxol-6-yl]-(2,3-dihydrobenzofuran-6-yl)methanol (19.8 mg, 0.04461 mmol, 16.425% yield){{2:row 2}}_XXXXX_  as a clear glass.   Rf Major = 0.35 (1:2 EtOAc:hexanes?) Found 444.0/446.0 1H NMR (400 MHz, Chloroform-d) δ 8.71 (s, 1H), 7.35 (d, J = 3.7 Hz, 1H), 7.21 (d, J = 7.5 Hz, 1H), 6.95 (d, J = 9.9 Hz, 2H), 6.66 (d, J = 3.7 Hz, 1H), 5.85 (d, J = 5.2 Hz, 1H), 5.25 (t, J = 5.6 Hz, 1H), 5.07 (s, 1H), 5.00 (dd, J = 1.2, 6.1 Hz, 1H), 4.60 (t, J = 8.7 Hz, 2H), 4.58 (t, J = 1.6 Hz, 1H), 3.22 (t, J = 8.7 Hz, 2H), 1.58 (s, 3H), 1.29 (s, 3H). Extremely broadened hydroxyl 1H peak around 6.35 ppm.   Rf Minor = 0.28 (1:2 EtOAc:hexanes?) Found 444.0/446.0 1H NMR (400 MHz, Chloroform-d) δ 8.75 (s, 1H), 7.26 (d, J = 3.6 Hz, 1H), 7.09 (d, J = 7.6 Hz, 1H), 6.80 (d, J = 7.7 Hz, 1H), 6.75 (s, 1H), 6.61 (d, J = 3.7 Hz, 1H), 6.23 (s, 1H), 5.81 (d, J = 3.8 Hz, 1H), 5.27 – 5.18 (m, 2H), 4.98 (s, 1H), 4.66 (t, J = 1.6 Hz, 1H), 4.50 (t, J = 8.7 Hz, 2H), 3.12 (t, J = 8.7 Hz, 2H), 1.64 (s, 3H), 1.39 (s, 3H).  ', 'url': 'https://prelude.dotmatics.net/browser/api/studies/experiment/143325/writeup/{includeHtml}'}\n",
      "{'index': 32, 'exp_id': 143524, 'writeup': \"To (R)-[(3aS,4R,6R,6aR)-4-(4-chloropyrrolo[2,3-d]pyrimidin-7-yl)-2,2-dimethyl-4,5,6,6a-tetrahydro-3aH-cyclopenta[d][1,3]dioxol-6-yl]-(3,4-dichlorophenyl)methanol (841.mg, 1.79 mmol) in anhydrous DCM (20 mL) at 0 °C{{8:row 1}}_XXXXX_  were added sodium bicarbonate (143.mg, 1.7 mmol), Dess-Martin periodinane (434.mg, 1.02 mmol) and the mixture was stirred at 1 h at that temperature. TLC showed almost completion and the reaction was quenched with the addition of aq. Na2S2O3. The organic layer was separated and washed with NaHCO3, brine, dried over Na2SO4, filtered and concentrated under reduced pressure. The crude was purified on a 20 g silica gel column chromatography using hexane / EtOAc (from 0 to 30%) to give [(3aS,4R,6S,6aR)-4-(4-chloropyrrolo[2,3-d]pyrimidin-7-yl)-2,2-dimethyl-4,5,6,6a-tetrahydro-3aH-cyclopenta[d][1,3]dioxol-6-yl]-(3,4-dichlorophenyl)methanone (354 mg, 0.7585 mmol, 42% yield) and recovered starting material (R)-[(3aS,4R,6R,6aR)-4-(4-chloropyrrolo[2,3-d]pyrimidin-7-yl)-2,2-dimethyl-4,5,6,6a-tetrahydro-3aH-cyclopenta[d][1,3]dioxol-6-yl]-(3,4-dichlorophenyl)methanol (267 mg, 0.5696 mmol, ?% yield). Instead of making the calculations for 841 mg of starting material I made them for 400 mg. That's why I recovered starting material and the yield is low.  1H NMR (400 MHz, Chloroform-d) δ 8.66 (s, 1H), 8.20 (d, J = 2.0 Hz, 1H), 7.93 (dd, J = 2.1, 8.4 Hz, 1H), 7.64 (s, 1H), 7.38 (d, J = 3.7 Hz, 1H), 6.70 (d, J = 3.7 Hz, 1H), 5.28 (ddd, J = 4.5, 7.2, 11.4 Hz, 1H), 5.03 (m, 2H), 3.98 (ddd, J = 4.4, 7.2, 11.3 Hz, 1H), 2.82 (dt, J = 11.2, 13.4 Hz, 1H), 2.65 (dt, J = 7.2, 13.6 Hz, 1H), 1.70 (s, 3H), 1.34 (s, 3H).    \", 'url': 'https://prelude.dotmatics.net/browser/api/studies/experiment/143524/writeup/{includeHtml}'}\n",
      "{'index': 33, 'exp_id': 143794, 'writeup': ' [(R)-[(3aR,4R,6R,6aR)-4-methoxy-2,2-dimethyl-3a,4,6,6a-tetrahydrofuro[3,4-d][1,3]dioxol-6-yl]-(4-bicyclo[4.2.0]octa-1(6),2,4-trienyl)methyl] 4-phenylbenzoate (2.2 g, 4.52 mmol){{9:row 1}}_XXXXX_  was added to a mixture Water (200 mL){{3:row 1}}_XXXXX_  ,  then reaction  mixture was stirred for 3 days. TCL (PE:EA = 1:1, Rf = 0.2) showed the reaction was completed.  The solvent was filtered, and the residue was purifited by  silica gel column (PE:EA = 20:1 to 1:2) to get  [(R)-4-bicyclo[4.2.0]octa-1(6),2,4-trienyl-[(2S,3S,4R,5R)-3,4,5-trihydroxytetrahydrofuran-2-yl]methyl] 4-phenylbenzoate (1.1 g, 2.5435 mmol, 56.254% yield){{2:row 1}}_XXXXX_  as a white solid. TLC showed the product was same as the series reaction.', 'url': 'https://prelude.dotmatics.net/browser/api/studies/experiment/143794/writeup/{includeHtml}'}\n",
      "{'index': 34, 'exp_id': 144419, 'writeup': 'Standard Controls Apply: Lab coats, gloves and safety specs are to be worn at all times. All experiments should be performed in a fumehood. To a suspension of sodium hydride (2.8 g, 70. mmol){{9:row 1}}_XXXXX_   in THF (50 mL){{3:row 1}}_XXXXX_  was stirred and added O3-tert-butyl O1-ethyl propanedioate (11.36 mL, 60. mmol){{9:row 2}}_XXXXX_  drop-wise. After addition, the mixture was stirred for 5 min., then a solution of 4-bromo-2-fluoro-1-nitro-benzene (8.8 g, 40. mmol){{9:row 3}}_XXXXX_   inTHF (30 mL){{3:row 2}}_XXXXX_   was added drop-wise. After addition, the mixture was stirred at 60 °C{{8:row 1}}_XXXXX_  for 1 h. The mixture was cooled to r.t.., and quenched by addition of water. The reaction mixture was diluted with EtOAc (100 mL). The organic phase was washed with saturated brine solution (30 mL). The organics were then separated and dried (Na2SO4) before concentration to dryness. The crude was then purified by flash column chromatography eluting (0-10%) EtOAc in hexane. The desired fractions were concentrated to dryness in vacuo. The residue was treated with Hexane. The precipitate was collected by filtration and washed with hexane to afford the desired product (11.5 g, 74%) without further purification.   1H NMR (500 MHz, Chloroform-d) δ 7.94 (d, J = 8.7 Hz, 1H), 7.69 (d, J = 2.1 Hz, 1H), 7.64 (dd, J = 2.1, 8.7 Hz, 1H), 5.18 (s, 1H), 4.29 (qd, J = 1.0, 7.1 Hz, 2H), 1.49 (s, 9H), 1.31 (t, J = 7.1 Hz, 3H).   LCMS: JZ001-8   EtOAc in Hexane = 15% ', 'url': 'https://prelude.dotmatics.net/browser/api/studies/experiment/144419/writeup/{includeHtml}'}\n",
      "{'index': 35, 'exp_id': 144441, 'writeup': 'A 10 mL RBF containing a solution of  (3aR,6S,6aR)-6-[[tert-butyl(dimethyl)silyl]oxymethyl]-2,2-dimethyl-6,6a-dihydro-3aH-furo[3,4-d][1,3]dioxol-4-one (55.0 mg, 0.18 mmol){{9:row 1}}_XXXXX_  in THF (0.90 mL){{3:row 1}}_XXXXX_  under N2 was cooled to 0 °C{{8:row 1}}_XXXXX_  and charged with Methylmagnesium bromide, 3.2 M in MeTHF (0.12 mL, 0.36 mmol){{9:row 2}}_XXXXX_  dropwise over two min. The reaction mixture was stirred at 0 °C{{8:row 1}}_XXXXX_  for 3 h, then quenched with EtOAc (5 mL) and sat. sodium bicarbonate (5 mL). The mixture was diluted with water (5 mL) and extracted with EtOAc (2&times; 25 mL). The organic layers were combined, washed with brine (20 mL), dried over Na2SO4 , and concentrated under reduced pressure to yield a clear oil (59.6 mg crude).   1H NMR analysis shows a 0.3: 1: 0.16 ratio of SM:undesired double methyl addition:???. The ??? is potentially the desired mono-methyl addition product.   Major product is dimethyl addition by LCMS. Found 357.05 [M+Na]. FN: RAL002-83Awu', 'url': 'https://prelude.dotmatics.net/browser/api/studies/experiment/144441/writeup/{includeHtml}'}\n",
      "{'index': 36, 'exp_id': 144485, 'writeup': 'A 4 mL vial with septum containing a solution of (3aR,6S,6aR)-6-[[tert-butyl(dimethyl)silyl]oxymethyl]-2,2-dimethyl-6,6a-dihydro-3aH-furo[3,4-d][1,3]dioxol-4-one (52.0 mg, 0.17 mmol){{9:row 1}}_XXXXX_  in Ether (0.90 mL){{3:row 1}}_XXXXX_  under N2 was cooled to -50 °C{{8:row 1}}_XXXXX_  in a dry ice/acetonitrile bath contaminated with a small amount of IPA. The flask was then charged with Methylmagnesium bromide, 3.2 M in MeTHF (0.07 mL, 0.22 mmol){{9:row 2}}_XXXXX_  dropwise over 1 min. The reaction mixture was let slowly warm to 5 °C  over the course of 1.5 h. The reaction mixture was quenched with 1 mL of sat. NH4Cl. The mixture was diluted with water (5 mL) and extracted with EtOAc (2&times; 25 mL). The organic layers were combined, washed with brine (20 mL), dried over Na2SO4 , and concentrated under reduced pressure to yield a clear oil (52.5 mg crude).   1H NMR analysis shows a 0.6: 1: 0.25 ratio of SM:undesired double methyl addition:???. The ??? is potentially the desired mono-methyl addition product.   Bringing the solution temperature down to -78 crashed the SM out of solution.  ', 'url': 'https://prelude.dotmatics.net/browser/api/studies/experiment/144485/writeup/{includeHtml}'}\n",
      "{'index': 37, 'exp_id': 144488, 'writeup': 'Standard Controls Apply: Lab coats, gloves and safety specs are to be worn at all times. All experiments should be performed in a fumehood. A mixture of O1-tert-butyl O3-ethyl 2-(5-bromo-2-nitro-phenyl)propanedioate (11.5 g, 29.62 mmol){{9:row 1}}_XXXXX_  and 4-methylbenzenesulfonic acid;hydrate (572.07 mg, 2.96 mmol){{9:row 2}}_XXXXX_  in Toluene (80 mL){{3:row 1}}_XXXXX_  was heated and stirred at 105 °C{{8:row 1}}_XXXXX_  for 3 h. After cooling, the mixture was diluted with EtOAc (100 mL), and washed with 7.5% NaHCO3 aqueous solution (2 x 20 mL), and brine solution (20 mL). The organic layer was separated and dried over Na2SO4, filtered, and concentrated under reduced pressure to afford the crude product (7.85 g, 92%) without further purification.   1H NMR (500 MHz, Chloroform-d) δ 8.00 (d, J = 8.7 Hz, 1H), 7.61 (dd, J = 2.1, 8.7 Hz, 1H), 7.53 (d, J = 2.1 Hz, 1H), 4.19 (q, J = 7.2 Hz, 2H), 3.99 (s, 2H), 1.27 (t, J = 7.1 Hz, 3H).   LCMS file: JZ001-9     EtOAc/Hexane = 15% ', 'url': 'https://prelude.dotmatics.net/browser/api/studies/experiment/144488/writeup/{includeHtml}'}\n",
      "{'index': 38, 'exp_id': 144562, 'writeup': 'Standard Controls Apply: Lab coats, gloves and safety specs are to be worn at all times. All experiments should be performed in a fumehood.   Sodium hydride (1307.92 mg, 32.7 mmol){{9:row 3}}_XXXXX_  was added in small portions to a stirring solution of ethyl 2-(5-bromo-2-nitro-phenyl)acetate (7.85 g, 27.25 mmol){{9:row 1}}_XXXXX_  in DMSO (70 mL){{3:row 1}}_XXXXX_  at r.t.. The mixture was stirred at r.t. until the evolution of gas has subsided. The reaction mixture became dark blue. To the mixture 1-(isothiocyanatomethyl)-4-methoxy-benzene (4.95 g, 27.62 mmol){{9:row 2}}_XXXXX_  was added drop wise. The reaction mixture was stirred at r.t. for 1 h., and then at 100 °C{{8:row 1}}_XXXXX_  for an additional hour. After cooling, water (100 mL) was added to the mixture. The insoluble solid was collected by filtration. The solid was co-triturated with ether, and filtered to afford the crude product. The filtrate  was extracted with EtOAc (2x50 mL) and the organics washed with 2 x 20 ml saturated brine solution. The organics were then dried (Na2SO4) before concentration to dryness. The crude was then purified by flash column chromatography eluting %EtOAc in Isohexane. The desired fractions were concentrated to dryness in vacuo.    LCMS file: JZ001-10-1, one peak at t=2.97 min, m/z = 419/421.   1H NMR (500 MHz, DMSO-d6) δ 12.36 (s, 1H), 8.44 (s, 1H), 8.02 (s, 1H), 7.14 – 7.09 (m, 2H), 6.87 – 6.83 (m, 2H), 4.45 (q, J = 7.1 Hz, 2H), 4.10 (s, 2H), 3.70 (s, 3H), 1.40 (t, J = 7.1 Hz, 3H). EtOAc in Hexane = 15%             ', 'url': 'https://prelude.dotmatics.net/browser/api/studies/experiment/144562/writeup/{includeHtml}'}\n",
      "{'index': 39, 'exp_id': 144584, 'writeup': 'Standard Controls Apply: Lab coats, gloves and safety specs are to be worn at all times. All experiments should be performed in a fumehood.   ethyl 5-bromo-2-[(4-methoxyphenyl)methylamino]benzothiophene-3-carboxylate (3.65 g, 8.68 mmol){{9:row 1}}_XXXXX_  was treated with 2,2,2-trifluoroacetic acid;TFA (10.0 mL, 129.8 mmol){{9:row 2}}_XXXXX_  and DCM (10 mL){{3:row 1}}_XXXXX_  at rt for overnight. LCMS showed the SM consumed, and a new peak at t=2.77 min was observed. The mixture was diluted with DCM (100 mL), and cooled with ice-water. To the reaction mixture was added drop wise 3 N NaOH aqueous solution (about 45 mL) to pH about 8. The organic layer was separated. The aqueous phase was extracted with DCM (2 x 15 mL). The combined organic layers were dried over Na2SO4, filtered, and concentrated under reduced pressure. The residue was triturated with ethanol, and filtered, and washed with ethanol to afford the desired product.   LCMS:   EtOAc in Hexane = about 15%   ', 'url': 'https://prelude.dotmatics.net/browser/api/studies/experiment/144584/writeup/{includeHtml}'}\n",
      "{'index': 40, 'exp_id': 144586, 'writeup': 'A 4 mL vial with septum containing a solution of (3aR,6S,6aR)-6-[[tert-butyl(dimethyl)silyl]oxymethyl]-2,2-dimethyl-6,6a-dihydro-3aH-furo[3,4-d][1,3]dioxol-4-one (34.5 mg, 0.11 mmol){{9:row 1}}_XXXXX_  in Ether (2 mL){{3:row 1}}_XXXXX_  under N2 was cooled to -76 °C{{8:row 1}}_XXXXX_  in a dry ice/isopropanol bath (all the SM remained in solution). The flask was then charged with Methylmagnesium bromide, 3.2 M in MeTHF (0.04 mL, 0.13 mmol){{9:row 2}}_XXXXX_  drop-wise over 30 s. The reaction mixture was let slowly warm to -20 °C  over the course of 2.5 h. The reaction mixture was quenched with EtOAc (0.5 mL), followed by a 1:1 mixture of  sat. NH4Cl and water (1 mL). The mixture was diluted with sat. NH4Cl (4 mL) and extracted with EtOAc (2&times; 4 mL). The organic layers were combined, washed with brine (4 mL), dried over Na2SO4, filtered, and concentrated under reduced pressure to form a white solid (36 mg crude).   1H NMR analysis shows a 1: 0.33: 0.2 ratio of SM:undesired double methyl addition:???. The ??? is potentially the desired mono-methyl addition product.      ', 'url': 'https://prelude.dotmatics.net/browser/api/studies/experiment/144586/writeup/{includeHtml}'}\n",
      "{'index': 41, 'exp_id': 144704, 'writeup': 'A heat-dried 5 mL microwave vial containing [(2R,3S,5R)-5-(6-aminopurin-9-yl)-3-hydroxy-tetrahydrofuran-2-yl]methyl 4-methylbenzenesulfonate (101.0 mg, 0.25 mmol){{9:row 1}}_XXXXX_  and tert-butyl (S)-(2-oxotetrahydrothiophen-3-yl)carbamate (108.0 mg, 0.5 mmol){{9:row 2}}_XXXXX_  under N2 was charged with Methanol (2 mL){{3:row 1}}_XXXXX_ , sure-seal sodium methoxide; 0.5M in methanol (1.2 mL, 0.6 mmol){{9:row 3}}_XXXXX_ , and purged with N2 for 1 min. The vial was then microwaved at 70 °C{{8:row 1}}_XXXXX_  for 2 h. LCMS analysis showed major conversion to the desired methyl ester, but also some formation of the acid (accidentally wrote-over the original LCMS file). This reaction mixture was combined with crude RAL002-90 and quenched with 0.1 M HCl (5 mL), then diluted with water (15 mL) and brine (15 mL), and exhaustively extracted with DCM and 20% MeOH in DCM. The aqueous layer was charged with 1 mL sat. sodium bircarbonate (1 mL) and extracted with additional DCM and 20% MeOH in DCM.   The organic layers were combined, dried over Na2SO4 , filtered, concentrated under reduced pressure, and purified by FCC (20 g SiO2, 0&rarr;14% MeOH in DCM, DCM+MeOH). No carboxylic acid product eluted even after 20% MeOH in DCM with 1% AcOH (Maybe lost the acid during workup?). Fractions containing the desired product were concentrated under reduced pressure and heat (~50 °C) to yield methyl 4-[[(2S,3S,5R)-5-(6-aminopurin-9-yl)-3-hydroxy-tetrahydrofuran-2-yl]methylsulfanyl]-2-(tert-butoxycarbonylamino)butanoate (75.5 mg, 0.15646 mmol, 62.806% yield){{2:row 1}}_XXXXX_  as a white solid after scratching. This comes out to a 50% yield for RAL002-90 and RAL002-91 combined.   NMR shows the product to be pure but a 1:1 mixture of amide rotamers. 1H NMR (500 MHz, Chloroform-d) δ 8.35 (s, 1H), 8.02 – 7.95 (m, 1H), 6.44 – 6.35 (m, 1H), 5.73 (s, 2H), 5.27 – 5.14 (m, 1H), 4.82 – 4.66 (m, 1H), 4.66 – 4.39 (m, 1H), 4.18 – 4.10 (m, 1H), 3.78 – 3.73 (m, 3H), 3.03 – 2.94 (m, 1H), 2.94 – 2.81 (m, 2H), 2.79 – 2.58 (m, 2H), 2.58 – 2.49 (m, 1H), 2.18 – 2.08 (m, 1H), 2.08 – 1.98 (m, 1H), 1.97 – 1.90 (m, 1H), 1.48 – 1.42 (m, 9H).', 'url': 'https://prelude.dotmatics.net/browser/api/studies/experiment/144704/writeup/{includeHtml}'}\n",
      "{'index': 42, 'exp_id': 144832, 'writeup': \"A 100 mL RBF containing crude [4-[[(2S,3S,5R)-5-(6-aminopurin-9-yl)-3-hydroxy-tetrahydrofuran-2-yl]methylsulfanyl]-2-(tert-butoxycarbonylamino)butanoyl]oxylithium (70.2 mg, 0.15 mmol){{9:row 1}}_XXXXX_  residue was charged with DCM (1.5 mL){{3:row 1}}_XXXXX_  but nothing went into solution. The mixture was then cooled to 0 °C{{8:row 1}}_XXXXX_  in an icebath, purged with N2, and charged with a room temperature solution of 2,2,2-trifluoroacetic acid;TFA (1.0 mL, 13.07 mmol){{9:row 2}}_XXXXX_  and Water (1 mL){{3:row 2}}_XXXXX_ . The mixture was sonicated for 1 min, then stirred at RT for 1.5 h. After concentration, LCMS analysis showed only presence of the adenine base (Found: 136.1. FN: RAL002-94A). Reaction mixture was neutralized and tossed.   2'-deoxy-adenosine doesn't seem stable to 1:1 TFA:water. Next time try with dilute HCl?    \", 'url': 'https://prelude.dotmatics.net/browser/api/studies/experiment/144832/writeup/{includeHtml}'}\n",
      "{'index': 43, 'exp_id': 144957, 'writeup': 'A 100 mL RBF containing 2-Bromo-5-chlorobenzoic acid (2.0 g, 8.49 mmol){{9:row 1}}_XXXXX_  was evacuated and back-filled with N2 (2x). The flask was charged with DCM (20 mL){{3:row 1}}_XXXXX_  and N,N-dimethylformamide (30.0 uL, 0.39 mmol){{9:row 5}}_XXXXX_ , cooled to 0 °C{{8:row 1}}_XXXXX_ , and charged with Oxalyl chloride (0.81 mL, 9.44 mmol){{9:row 3}}_XXXXX_  over 2 min. The flask was placed at RT and stirred for 2.5 h. Reaction mixture goes from cloudy white/brown to clear brown over this time. Bubbling occurred for the first hour of the reaction (caution:CO2 and CO is evolved). Half of the reaction mixture (10 mL) was transferred to a second 50 mL RBF. The reaction mixture in both flasks were concentrated to an off-white solid on the rotovap in the fume hood. The first flask was charged with DCM (10 mL){{3:row 2}}_XXXXX_ , cooled to 0 °C{{8:row 1}}_XXXXX_ , then charged with methylamine solution; 40wt% in water (20.0 mL, 577.59 mmol){{9:row 2}}_XXXXX_  in one portion. The reaction was instantaneous but the reaction mixture was let stir overnight at RT. The reaction mixture was diluted with brine (15 mL), and extracted twice with DCM (2x 20 mL). The organic fractions were combined, dried over Na2SO4 , and concentrated under reduced pressure to yield RAL002-97-1, 2-bromo-5-chloro-N-methyl-benzamide (1.074 g, 4.3219 mmol, 50.882% yield){{2:row 1}}_XXXXX_ , as an off-white solid. Found: 247.9/249.9 m/z. FN: RAL002-97A1. 97-1 1H NMR (500 MHz, Chloroform-d) δ 7.53 (d, J = 2.6 Hz, 1H), 7.51 (d, J = 8.5 Hz, 1H), 7.25 (dd, J = 2.6, 8.5 Hz, 1H), 5.97 (s, 1H), 3.02 (d, J = 4.9 Hz, 3H).     The second flask was charged with DCM (10 mL){{3:row 2}}_XXXXX_ , cooled to 0 °C{{8:row 1}}_XXXXX_ , then charged with ammonium\\thydroxide, ~13 M (30.0 mL, 390. mmol){{9:row 4}}_XXXXX_  in one portion. The organic layer of the reaction solidified into a beige solid immediately. The reaction mixture was sonicated and swirled to ensure proper mixing. The reaction was instantaneous but the reaction mixture was let stir overnight at RT. The reaction mixture was vacuum filtered through a cellulose acetate filter and rinsed with DCM and water. The filter and solids were dried under high vacuum. The filtrate was diluted with water (20 mL), and extracted twice with DCM (2x 40 mL). The organic layers were combined, washed with brine (30 mL), and dried over Na2SO4 . The organic layer was filtered through the original cellulose acetate filter, and additional DCM was used to dissolve the remaining organic solids (~80 mL?). The filtrate was concentrated under reduced pressure to yield RAL002-97-2, 2-bromo-5-chloro-benzamide (0.944 g, 4.0259 mmol, 47.397% yield){{2:row 2}}_XXXXX_ , as an off-white solid .   Found: 233.9/235.9 m/z. FN: RAL002-97A2. 97-2 1H NMR (500 MHz, DMSO-d6) δ 7.95 (s, 1H), 7.67 (s, 1H), 7.66 (d, J = 8.4 Hz, 1H), 7.48 (d, J = 2.6 Hz, 1H), 7.41 (dd, J = 2.6, 8.5 Hz, 1H).', 'url': 'https://prelude.dotmatics.net/browser/api/studies/experiment/144957/writeup/{includeHtml}'}\n",
      "{'index': 44, 'exp_id': 145150, 'writeup': 'Standard Controls Apply: Lab coats, gloves and safety specs are to be worn at all times. All experiments should be performed in a fumehood.   Into a vial was placed 1-[(3aR,4R,6S,6aS)-4-(6-chloropurin-9-yl)-2,2-dimethyl-3a,4,6,6a-tetrahydrofuro[3,4-d][1,3]dioxol-6-yl]ethanone (22.4 mg, 0.07 mmol){{9:row 1}}_XXXXX_  in DCM (1 mL){{3:row 1}}_XXXXX_  and methylamine solution 2.0M in THF (0.03 mL, 0.07 mmol){{9:row 2}}_XXXXX_  was added, stir 3h, DCM concentrated and  added, Sodium\\tborohydride (3.28 mg, 0.09 mmol){{9:row 3}}_XXXXX_  added, stir 3h.  LCMS:  ppit001-68 major peak RT=1.68 (carbonyl reduced to OH, 341), RT=1.44 (2 peaks MW= 354 Desired product, both diastereomers?)  ', 'url': 'https://prelude.dotmatics.net/browser/api/studies/experiment/145150/writeup/{includeHtml}'}\n",
      "{'index': 45, 'exp_id': 145431, 'writeup': 'A 2 mL microwave vial with septum containing Magnesium (5.0 mg, 0.21 mmol){{9:row 3}}_XXXXX_  was dried under high vacuum and heat (&gt;100 °C ). The vial was uncapped, charged with tert-butyl N-[(2-bromo-5-chloro-phenyl)methyl]-N-methyl-carbamate (69.7 mg, 0.21 mmol){{9:row 1}}_XXXXX_ , sealed with septum, evacuated and back-filled with N2, and charged with THF (0.30 mL){{3:row 1}}_XXXXX_ . The reaction mixture was charged with 3 drops of DIBAL ((3aR,4R,6S,6aS)-4-(4-chloropyrrolo[2,3-d]pyrimidin-7-yl)-N-methoxy-N,2,2-trimethyl-3a,4,6,6a-tetrahydrofuro[3,4-d][1,3]dioxole-6-carboxamide (57.0 mg, 0.15 mmol){{9:row 2}}_XXXXX_ ) and stirred for 30 min at mostly RT (occassionally heated up to 30-50 °C with heat gun to encourage Grignard formation). Aliquot quenched with acetone showed addition product, and ~70% on the starting aryl bromide consumed (Found: 240.1/242.0. FN: RAL003-09-grignard). Magnesium metal was still present.   A 2 mL microwave vial containing (3aR,4R,6S,6aS)-4-(4-chloropyrrolo[2,3-d]pyrimidin-7-yl)-N-methoxy-N,2,2-trimethyl-3a,4,6,6a-tetrahydrofuro[3,4-d][1,3]dioxole-6-carboxamide (57.0 mg, 0.15 mmol){{9:row 2}}_XXXXX_  was dried repeatedly under high vacuum and heat (~80 °C), then dissolved in THF (1 mL){{3:row 2}}_XXXXX_ . The vial containing Grignard reagent was cooled to 0 °C{{8:row 1}}_XXXXX_ , charged with the Weinreb amide solution over 3 min, and stirred at 0 °C{{8:row 1}}_XXXXX_  for 45 min, then RT for 1 h. The reaction mixture was cooled to 0 °C{{8:row 1}}_XXXXX_ , quenched with 3 mL EtOAc followed by sat. NH4Cl (5 mL). The mixture was diluted with EtOAc (40 mL), washed with water (2&times; 40 mL), brine (40 mL), dried over Na2SO4, and filtered. The filtrate was concentrated under reduced pressure and purified by FCC (12 g SiO2, 0-&gt;40% EtOAc in hexanes, wet-loaded in DCM) to yield tert-butyl N-[[2-[(3aR,4R,6S,6aS)-4-(4-chloropyrrolo[2,3-d]pyrimidin-7-yl)-2,2-dimethyl-3a,4,6,6a-tetrahydrofuro[3,4-d][1,3]dioxole-6-carbonyl]-5-chloro-phenyl]methyl]-N-methyl-carbamate (13.5 mg, 0.02338 mmol, 15.7% yield){{2:row 1}}_XXXXX_  and returned SM Weinreb amide.    Rf = 0.15 (2:1 hexanes:EtOAc) Found: 577.0/579.0 FN: RAL003-09A2 Rotamers present by NMR  9-1 1H NMR (500 MHz, Chloroform-d) δ 8.55 (s, 1H), 7.91 – 7.64 (m, 1H), 7.38 (d, J = 3.7 Hz, 1H), 7.35 – 7.27 (m, 1H), 7.22 (s, 1H), 6.63 (d, J = 3.7 Hz, 1H), 6.45 (s, 1H), 5.56 – 5.49 (m, 1H), 5.46 – 5.33 (m, 2H), 4.69 – 4.26 (m, 2H), 2.84 (s, 3H), 1.69 (s, 3H), 1.52 – 1.35 (m, 12H).   Standard Controls Apply: Lab coats, gloves and safety specs are to be worn at all times. All experiments should be performed in a fume hood.   grignard formation 1 hr. heated ~30-40 d C with heat gun at moments. at 30 min, LCMS showed ~70% consumption of SM.   added weinreb amide. react at 0 d C for 45 min. Placed at RT. LCMS shows some product formation! Still some grignard? will react at RT', 'url': 'https://prelude.dotmatics.net/browser/api/studies/experiment/145431/writeup/{includeHtml}'}\n",
      "{'index': 46, 'exp_id': 145489, 'writeup': 'A 4 mL vial containing a solution of tert-butyl N-[[2-[(3aR,4R,6S,6aS)-4-(4-chloropyrrolo[2,3-d]pyrimidin-7-yl)-2,2-dimethyl-3a,4,6,6a-tetrahydrofuro[3,4-d][1,3]dioxole-6-carbonyl]-5-chloro-phenyl]methyl]-N-methyl-carbamate (6.5 mg, 0.01 mmol){{9:row 1}}_XXXXX_  in DCM (400 uL){{3:row 1}}_XXXXX_  under N2 was cooled in an ice-bath, charged with 2,2,2-trifluoroacetic acid;TFA (100.0 uL, 1.31 mmol){{9:row 2}}_XXXXX_ , and then stirred at RT for 1.5 h. LCMS showed consumption of SM without Boc cleavage, and some formation of the desired iminium(Found: 459.0, FN:RAL003-11Aneut). The vial was then charged with Sodium\\tcyanoborohydride (5.0 mg, 0.08 mmol){{9:row 3}}_XXXXX_  at RT and stirred for 20 min. LCMS showed consumption of intermediate iminium and possible formation of 2 diastereomers of the desired isoindoline (Found:two different peaks with 461 and 479, FN: RAL003-11A2neut). The reaction was quenched with solid bicarb (400 mg), but red coloration started to form, so sat bicarb was added (~2 mL), but then lots of red color formed, so 4 M NaOH was added until the red color turned yellow (&lt;1 mL). The reaction mixture was diluted with EtOAc (15 mL), washed with water (2&times; 15 mL), brine (10 mL), dried over Na2SO4 , and filtered. The filtrate was concentrated to a red solid/oil mixture. Due to the small scale and messy nature of the LCMS trace and TLC, purification was not pursued. Either the product or intermediate does not seem stable to aqueous acid?   start 345 LCMS 4:45 turned bright red with addition of MeCN. Probably have to quench TFA in aliquot. LCMS 5:05 aliquot quenched with bicarb. SM consumed. 459 detected. 5:15 charged with ~5 mg NaCNBH3    ', 'url': 'https://prelude.dotmatics.net/browser/api/studies/experiment/145489/writeup/{includeHtml}'}\n",
      "{'index': 47, 'exp_id': 145637, 'writeup': 'To a suspension of 5-[(3aR,4R,6S,6aS)-4-(4-chloropyrrolo[2,3-d]pyrimidin-7-yl)-2,2-dimethyl-3a,4,6,6a-tetrahydrofuro[3,4-d][1,3]dioxol-6-yl]-3-phenyl-1,2,4-oxadiazole (10.0 mg, 0.02 mmol){{9:row 1}}_XXXXX_  in Methanol (0.50 mL){{3:row 1}}_XXXXX_  was added Hydrochloric\\tacid (0.5 mL, 1. mmol){{9:row 2}}_XXXXX_  to yield a suspension.  No change after a few hours.  Added 1 mL dioxane to yield a clear solution.  Stirred at rt overnight. 05/01/2018 HPLCMS MJH001-50-a1: ~80% 3.0 min (MH+ = 440; SM), ~20% 2.78 min (MH+ = 400).  Added 1 mL 2N HCl.  Clear solution, then thick ppt.  Added 0.6 mL dioxane to yield a cloudy solution which was stirred overnight. 05/02/2018 Reaction mixture almost clear.  HPLCMS MJH001-50-a2:  3:2:0.25 3.15 min : 2.93 min : 2.78 min.  Shift in peaks because this was the first sample of the day. 2.93 min shows MH+ = 400.  Left stirring overnight. 05/03/2018 HPLCMS MJH001-50-a3: 35% 2.95 min (MH+ = 440, 436; SM+?), 54% overlapped peak 2.60 min (MH+ = 400, 396), 11% 2.30 min (no MS signal).  Mix of starting material, product, and decomposition products.  Discarded.', 'url': 'https://prelude.dotmatics.net/browser/api/studies/experiment/145637/writeup/{includeHtml}'}\n",
      "{'index': 48, 'exp_id': 145718, 'writeup': 'Reference: WO9967264 p. 48 A mixture of 3-cyanopyridine (0.5 mL, 4.8 mmol){{9:row 1}}_XXXXX_ , Hydroxyammonium\\tchloride (1179.87 mg, 16.81 mmol){{9:row 2}}_XXXXX_ , and Potassium Carbonate (1327.54 mg, 9.61 mmol){{9:row 3}}_XXXXX_  in Ethanol (40 mL){{3:row 1}}_XXXXX_  was heated to reflux.   05/04/2018 TLC (5% MeOH/DCM) shows no remaining starting material and a major spot rf = 0.1.  Concentrated reaction to a white solid. 05/08/2018 Concentrated solid now has a yellow tint.  Sonicated with DCM/MeOH and filtered, washing solids well with more DCM/MeOH.  White solid/greenish filtrate.  TLC of filtrate shows a new spot directly below product spot which stains dark on plate under UV light.  Pyridyl N-oxide?  Purified by flash column, 2% - 14% MeOH/DCM.  Cleanest product fractions concentrated to a viscous oil which begins to crystallize, MJH001-56-1 N-hydroxypyridine-3-carboxamidine (241 mg, 1.7573 mmol, 36.591% yield){{2:row 1}}_XXXXX_ .', 'url': 'https://prelude.dotmatics.net/browser/api/studies/experiment/145718/writeup/{includeHtml}'}\n",
      "{'index': 49, 'exp_id': 145790, 'writeup': 'To 2-[(3aR,4R,6S,6aS)-4-(4-chloropyrrolo[2,3-d]pyrimidin-7-yl)-2,2-dimethyl-3a,4,6,6a-tetrahydrofuro[3,4-d][1,3]dioxol-6-yl]-5-(4-pyridyl)-1,3,4-oxadiazole (52.12 mg, 0.12 mmol){{9:row 1}}_XXXXX_  in a microwave vial was added 1,4-Dioxane (1.5 mL){{3:row 1}}_XXXXX_  to yield a hazy solution.  ammonium\\thydroxide (0.75 mL, 11.25 mmol){{9:row 2}}_XXXXX_  was added, yielding a clear colorless solution, and the vial was capped and heated at 120°C for 12 hr in the microwave. 05/09/2018 Reaction is a clear light brown solution.  HPLCMS MJH001-57-a1: 100% 2.70 min (with shoulder; MH+ = 364).  Concentrated and purified by flash column, 2% - 15% MeOH/DCM. 05/11/2018 Product fractions concentrated to a tan solid, MJH001-57-1. (2R,3R)-2-(4-aminopyrrolo[2,3-d]pyrimidin-7-yl)-5-[5-(4-pyridyl)-1,3,4-oxadiazol-2-yl]-2,3-dihydrofuran-3-ol (16 mg, 0.04404 mmol, 37.249% yield){{2:row 1}}_XXXXX_  05/14/2018 HPLCMS MJH001-57-1: &gt;95% 2.77 min (MH+ = 364) HPLC MJH001-57-1: 99% 0.24 min.  Strange divergence of retention times between HPLC and HPLCMS. 1H NMR (500 MHz, Methanol-d4) δ 8.80 (d, J = 6.1 Hz, 2H), 8.16 (s, 1H), 8.07 (d, J = 6.2 Hz, 2H), 7.20 (d, J = 3.8 Hz, 1H), 6.81 (d, J = 3.0 Hz, 1H), 6.70 (d, J = 3.7 Hz, 1H), 6.49 (d, J = 2.8 Hz, 1H), 5.51 (t, J = 2.9 Hz, 1H).  Based on precedent from MJH001-55, assume trans isomer since O-H not seen.  What looks like product-related impurity peaks - perhaps some of the cis isomer?', 'url': 'https://prelude.dotmatics.net/browser/api/studies/experiment/145790/writeup/{includeHtml}'}\n",
      "{'index': 50, 'exp_id': 145866, 'writeup': \"A 20 mL vial with septum containing a solution of  6'-chlorospiro[4,5-dihydro-2H-1,5-benzoxazepine-3,1'-tetralin]-7-sulfonamide (37.9 mg, 0.1 mmol){{9:row 1}}_XXXXX_  in DCM (0.70 mL){{3:row 1}}_XXXXX_  and Acetic acid (0.33 mL){{3:row 2}}_XXXXX_  under N2 was charged with cyclobutanecarboxaldehyde (0.02 mL, 0.21 mmol){{9:row 2}}_XXXXX_  and stirred at RT for 45 min. The reaction solution was then cooled to 0 °C{{8:row 1}}_XXXXX_  and charged with Sodium\\tcyanoborohydride (13.07 mg, 0.21 mmol){{9:row 3}}_XXXXX_  in one portion. The reaction mixture was stirred at 0 °C{{8:row 1}}_XXXXX_  for 75 min. LCMS showed ~10% conversion. The reaction mixture was then charged with cyclobutanecarboxaldehyde (0.02 mL, 0.21 mmol){{9:row 4}}_XXXXX_  and 2,2,2-trifluoroacetic acid;TFA (0.08 mL, 1.05 mmol){{9:row 5}}_XXXXX_  and stirred at RT for 45 min. The reaction mixture was then charged with Sodium\\tborohydride (3.78 mg, 0.1 mmol){{9:row 7}}_XXXXX_  at RT overnight. LCMS showed ??. The reaction mixture was then charged with cyclobutanecarboxaldehyde (0.03 mL, 0.39 mmol){{9:row 6}}_XXXXX_  and 2,2,2-trifluoroacetic acid;TFA (11.41 mg, 0.1 mmol){{9:row 8}}_XXXXX_ , stirred at RT for 45 min, then cooled to 0 °C{{8:row 1}}_XXXXX_ , charged with Sodium\\tborohydride (3.78 mg, 0.1 mmol){{9:row 9}}_XXXXX_ , and stirred at 0 °C{{8:row 1}}_XXXXX_  for 1 h. LCMS showed majority consumption of the SM (FN:RAL004-4A3).   The reaction was quenched with sat. sodium bicarbonate (~10 mL), diluted with water (5 mL) and extracted with DCM (20 mL). The organic layer was washed with brine, dried over Na2SO4, filtered, and concentrated under reduced pressure to a yellow oil. The oil was crystallized by dissolving in DCM (3-4 mL) and mixing in hexanes (~1 mL) to form white crystals over 20 min. The supernatant was pipetted off, and the crystals rinsed with additional DCM/hexanes (1 mL, 2:1). The crystals were dried under high vacuum to yield 6'-chloro-5-(cyclobutylmethyl)spiro[2,4-dihydro-1,5-benzoxazepine-3,1'-tetralin]-7-sulfonamide (18 mg, 0.04027 mmol, 40.256% yield){{2:row 1}}_XXXXX_  as white crystals. The supernatant was further concentrated by evaporation to yield a second crop of white crystals that turned to yellow solids, 94% pure 6'-chloro-5-(cyclobutylmethyl)spiro[2,4-dihydro-1,5-benzoxazepine-3,1'-tetralin]-7-sulfonamide (5 mg, 0.01051 mmol, 10.511% yield){{2:row 2}}_XXXXX_ . The white crystals turned to yellow solids after dissolution in CDCl3, concentration under reduced pressure, and scratching.   NMR of RAL004-4-2 1H NMR (500 MHz, Chloroform-d) δ 7.67 (d, J = 8.5 Hz, 1H), 7.24 (dd, J = 2.2, 8.3 Hz, 1H), 7.19 – 7.14 (m, 2H), 7.09 (d, J = 2.3 Hz, 1H), 6.97 (d, J = 8.2 Hz, 1H), 4.74 (s, 2H), 4.11 (ABq, 2H), 3.60 (dd, J = 1.2, 14.4 Hz, 1H), 3.40 – 3.26 (m, 3H), 2.84 – 2.74 (m, 2H), 2.74 – 2.64 (m, 1H), 2.14 – 2.04 (m, 2H), 1.97 – 1.76 (m, 7H), 1.61 – 1.53 (m, 1H).   Rf = 0.28 (2:1 hexanes:EtOAc)  Found: 447.0/449.0. FN: RAL004-4A3.  Found: 447.0/449.0. FN: RAL004-04-2.     Based on the below procedure. \", 'url': 'https://prelude.dotmatics.net/browser/api/studies/experiment/145866/writeup/{includeHtml}'}\n",
      "{'index': 51, 'exp_id': 146013, 'writeup': 'A 20 mL vial with septum containing 1-bromo-5,6-dihydrobenzo[b][1,4]benzoxazepine (478.3 mg, 1.73 mmol){{9:row 1}}_XXXXX_  (dried under high vac and heat before use) and Di-tert butyl dicarbonate (416.0 mg, 1.91 mmol){{9:row 2}}_XXXXX_  was evacuated and backfilled with nitrogen. The vial was charged with THF (9 mL){{3:row 1}}_XXXXX_  and stirred at 75 °C{{8:row 1}}_XXXXX_  for 200 min. No progress by TLC and LCMS (FN: RAL004-06A?). The vial was charged with 4-(dimethylamino)pyridine (20.0 mg, 0.16 mmol){{9:row 4}}_XXXXX_  and additional Di-tert butyl dicarbonate (416.0 mg, 1.91 mmol){{9:row 2}}_XXXXX_ , and then N,N-Diisopropylethylamine (500.0 uL, 2.87 mmol){{9:row 3}}_XXXXX_ . The solution was then heated at 75 °C{{8:row 1}}_XXXXX_  for 200 min. The reaction mixture was diluted with EtOAc (120 mL), water (40 mL), and washed with 2N KHSO4 (40 mL). The organic layer was washed with water (80 mL), sat. bicarb (40 mL), brine (40 mL), dried over Na2SO4 , and filtered. The filtrate was concentrated under reduced pressure and stored as crude yellow/brown crystals. Will purify in the future if we become interested again in this core.   Rf Prd = 0.59 (1:2 EtOAc:hexanes) Rf SM = 0.47 (1:2 EtOAc:hexanes)', 'url': 'https://prelude.dotmatics.net/browser/api/studies/experiment/146013/writeup/{includeHtml}'}\n",
      "{'index': 52, 'exp_id': 147516, 'writeup': \"A 100 mL RBF with septum containing a solution of 4-[(6-chloro-1-formyl-tetralin-1-yl)methoxy]-3-nitro-benzenesulfonamide (1.28 g, 3.02 mmol){{9:row 1}}_XXXXX_  in Acetic acid (50 mL){{3:row 1}}_XXXXX_  was charged with iron powder (1.69 g, 30.21 mmol){{9:row 2}}_XXXXX_ . The mixture was heated at 70 °C{{8:row 1}}_XXXXX_  for 3 h. LCMS showed major desired product (Found: 377.0/379.0 and 395.0/397.0. FN: RAL004-12A). The mixture was vacuum filtered through a Celite plug and rinsed with DCM. The filtrate was concentrated under reduced pressure, dissolved in DCM (30 mL){{3:row 2}}_XXXXX_ , cooled to 0 °C, and charged with Sodium triacetoxyborohydride (1.99 g, 9.44 mmol){{9:row 3}}_XXXXX_  over 1 min. The reaction mixture was stirred at 0 °C for 1 min, then stirred at RT for 80 min. The reaction complete by LCMS analysis (FN: RAL004-12A2_80min, Found: 379.0/381.0). The reaction mixture was quenched with 10% citric acid (30 mL), diluted with water (30 mL), and extracted with EtOAc (125 mL). The organic layer was washed with 10% citric acid (10 mL) and water (40 mL), washed with brine (2&times; 40 mL). The combined aqueous layers were back extracted with EtOAc (50 mL), washed with water (30 mL), and brine (30 mL). The organic layers were combined, dried over Na2SO4, and filtered. The filtrate was concentrated under reduced pressure to yield crude ~80% pure 6'-chlorospiro[4,5-dihydro-2H-1,5-benzoxazepine-3,1'-tetralin]-7-sulfonamide (1.237 g, 2.612 mmol, 86.454% yield){{2:row 1}}_XXXXX_  as a light tan foam. Purity estimated from 1H NMR. 86% yield over RAL004-10, -11, and -12.   Next time, make the crude reaction from the nitro reduction a slurry with Celite before filtering to prevent clogging. May want to evaporate the DCM before extracting with EtOAc so not as much EtOAc has to be used.  RAL004-12-1. One proton missing--probably hiding under the HDO peak at 3.32 ppm. Contains ~10 mol% acetic acid? Estimated 80 wt% purity. 1H NMR (500 MHz, DMSO-d6) δ 7.81 (d, J = 8.5 Hz, 1H), 7.26 (dd, J = 2.4, 8.5 Hz, 1H), 7.18 (dd, J = 2.3, 15.2 Hz, 2H), 7.13 (s, 2H), 7.02 (dd, J = 2.3, 8.4 Hz, 1H), 6.92 (d, J = 8.4 Hz, 1H), 6.20 (t, J = 4.1 Hz, 1H), 4.08 (q, J = 12.2 Hz, 2H), 3.23 (dd, J = 4.7, 13.7 Hz, 1H), 2.77 – 2.65 (m, 2H), 1.87 – 1.66 (m, 3H), 1.55 (ddd, J = 2.9, 9.7, 12.7 Hz, 1H).     Rfs copied over from RAL004-3 Rf of nitro-reduced intermediate = 0.24 (1:1 EtOAc/hexanes) Rf of final reduced compound = 0.45 (1:1 EtOAc/hexanes)     Standard Controls Apply: Lab coats, gloves and safety specs are to be worn at all times. All experiments should be performed in a fumehood.    Following the prep as below.   To a solution of 4-[(6-chloro-1-formyl-tetralin-1-yl)methoxy]-3-nitro-benzenesulfonamide (1.28 g, 3.02 mmol){{9:row 1}}_XXXXX_  in Acetic acid (50 mL){{3:row 1}}_XXXXX_  was added iron powder (1.69 g, 30.21 mmol){{9:row 2}}_XXXXX_ . The mixture was stirred and heated at 70 °C{{8:row 1}}_XXXXX_  for 3 h. The mixture was filtered, and washed with DCM. The filtrate was concentrated under reduced pressure. The residue was dissolved in DCM (30 mL){{3:row 2}}_XXXXX_ . To the solution was added Sodium triacetoxyborohydride (1.99 g, 9.44 mmol){{9:row 3}}_XXXXX_  in small portion. The mixture was stirred at r.t. for 1 h., and quenched by addition of water (2 mL). A thick slurry was formed. 10% citric acid solution (2 mL) was added. The solution became clear. The organic layer was separated. The aquoeus layer was extracted with DCM (3x2 mL). The combined organic layers were washed with 10% citric acid (1 mL), and brine (2 mL), dried over Na2SO4, filtered and concentrated under reduced pressure to afford the crude product (229 mg) with purity about 75% according to HPLCMS. The product was directly used in next step reaction without further purification.   LCMS: Before work-up: JZ001-57-3 After work-up: JZ001-57-O, m/z = 357.9/360.1 (M+H)+\", 'url': 'https://prelude.dotmatics.net/browser/api/studies/experiment/147516/writeup/{includeHtml}'}\n",
      "{'index': 53, 'exp_id': 147614, 'writeup': ' Standard Controls Apply: Lab coats, gloves and safety specs are to be worn at all times. All experiments should be performed in a fumehood. Into a RBF was placed  (3aR,4R,6S,6aS)-4-(4-chloropyrrolo[2,3-d]pyrimidin-7-yl)-2,2-dimethyl-3a,4,6,6a-tetrahydrofuro[3,4-d][1,3]dioxole-6-carboxylic acid (100.0 mg, 0.29 mmol){{9:row 1}}_XXXXX_  in DCM (0.50 mL){{3:row 1}}_XXXXX_ ,  was added and the reaction cooled to 0 °C{{8:row 1}}_XXXXX_  in an ice bath.  Thionyl chloride (0.27 mL, 3.67 mmol){{9:row 2}}_XXXXX_  added slowly ice bath removed and 3 drops DMF added heated to 40 degrees for 1h, solvent evaporated in vacuo.  Et2O added to residue, solvent evaporated, repeat 4X,(LCMS of this RT2.12 (345.02)). Anhydrous   Methanol (1 mL){{3:row 2}}_XXXXX_  added to residue, stir overnight. to give   methyl  (3aR,4R,6S,6aS)-4-(4-chloropyrrolo[2,3-d]pyrimidin-7-yl)-2,2-dimethyl-3a,4,6,6a-tetrahydrofuro[3,4-d][1,3]dioxole-6-carboxylate (45 mg, 0.1272 mmol, 43.215% yield){{2:row 1}}_XXXXX_ and methyl  (3aR,4R,6S,6aS)-4-(4-methoxypyrrolo[2,3-d]pyrimidin-7-yl)-2,2-dimethyl-3a,4,6,6a-tetrahydrofuro[3,4-d][1,3]dioxole-6-carboxylate (51 mg, 0.14599 mmol, 49.597% yield){{2:row 2}}_XXXXX_ ,  LCMS; PMP002-70-1 RT=2.10 (350, 6-OCH3?), RT=2.14 (354.04)    ', 'url': 'https://prelude.dotmatics.net/browser/api/studies/experiment/147614/writeup/{includeHtml}'}\n",
      "{'index': 54, 'exp_id': 148010, 'writeup': 'Standard Controls Apply: Lab coats, gloves and safety specs are to be worn at all times. All experiments should be performed in a fumehood. To the residue N-[9-[rac-(3aR,4R,6S,6aS)-6-(2-diazoacetyl)-2,2-dimethyl-3a,4,6,6a-tetrahydrofuro[3,4-d][1,3]dioxol-4-yl]purin-6-yl]benzamide (101.0 mg, 0.22 mmol){{9:row 1}}_XXXXX_  was added Methanol (0.50 mL){{3:row 2}}_XXXXX_  and 1,4-Dioxane (0.50 mL){{3:row 1}}_XXXXX_  and Silver(I) benzoate (5.15 mg, 0.02 mmol){{9:row 3}}_XXXXX_  was added and the reaction vial was sealed and heated to 100 °C{{8:row 1}}_XXXXX_   for 30 minutes. No product  LCMS gave some product but mostly acid and ?', 'url': 'https://prelude.dotmatics.net/browser/api/studies/experiment/148010/writeup/{includeHtml}'}\n",
      "{'index': 55, 'exp_id': 148351, 'writeup': 'A 100 mL RBF with septum containing a solution of 4-[(6-chloro-1-formyl-tetralin-1-yl)methoxy]-3-nitro-benzenesulfonamide (62.77 mg, 0.15 mmol){{9:row 1}}_XXXXX_  in Acetic acid (2 mL){{3:row 1}}_XXXXX_  was charged with iron powder (70.0 mg, 1.25 mmol){{9:row 2}}_XXXXX_ . The mixture was heated at 70 °C{{8:row 1}}_XXXXX_  for 3 h. LCMS showed major desired product (Found: 577.0/579.0 and 595.0/597.0. FN: RAL004-22A). The mixture was charged with Celite, diluted with DCM, then vacuum filtered through a Celite plug and rinsed with DCM. The filtrate was concentrated under reduced pressure, dissolved in DCM (1 mL){{3:row 2}}_XXXXX_ , cooled to 0 °C, and charged with Sodium triacetoxyborohydride (93.5 mg, 0.44 mmol){{9:row 3}}_XXXXX_  over 1 min. The reaction mixture was stirred at 0 °C for 1 min, then stirred at RT for 80 min. The reaction complete by LCMS analysis (FN: RAL004-22A10, Found: 379.1/381.2). The reaction mixture was quenched with 10% citric acid (10 mL), diluted with water (20 mL), and extracted with EtOAc (30 mL). The organic layer was washed with 10% citric acid (5 mL) and water (20 mL), washed with brine (20 mL). The organic layer was dried over Na2SO4, and filtered, and concentrated under reduced pressure. The residue (135 mg) was used directly in next step reaction without further purification.    -below is from a previous reaction -   Next time, make the crude reaction from the nitro reduction a slurry with Celite before filtering to prevent clogging. May want to evaporate the DCM before extracting with EtOAc so not as much EtOAc has to be used.  RAL004-12-1. One proton missing--probably hiding under the HDO peak at 3.32 ppm. Contains ~10 mol% acetic acid? Estimated 80 wt% purity. 1H NMR (500 MHz, DMSO-d6) δ 7.81 (d, J = 8.5 Hz, 1H), 7.26 (dd, J = 2.4, 8.5 Hz, 1H), 7.18 (dd, J = 2.3, 15.2 Hz, 2H), 7.13 (s, 2H), 7.02 (dd, J = 2.3, 8.4 Hz, 1H), 6.92 (d, J = 8.4 Hz, 1H), 6.20 (t, J = 4.1 Hz, 1H), 4.08 (q, J = 12.2 Hz, 2H), 3.23 (dd, J = 4.7, 13.7 Hz, 1H), 2.77 – 2.65 (m, 2H), 1.87 – 1.66 (m, 3H), 1.55 (ddd, J = 2.9, 9.7, 12.7 Hz, 1H).     Rfs copied over from RAL004-3 Rf of nitro-reduced intermediate = 0.24 (1:1 EtOAc/hexanes) Rf of final reduced compound = 0.45 (1:1 EtOAc/hexanes)     Standard Controls Apply: Lab coats, gloves and safety specs are to be worn at all times. All experiments should be performed in a fumehood.    Following the prep as below.   To a solution of 4-[(6-chloro-1-formyl-tetralin-1-yl)methoxy]-3-nitro-benzenesulfonamide (62.77 mg, 0.15 mmol){{9:row 1}}_XXXXX_  in Acetic acid (2 mL){{3:row 1}}_XXXXX_  was added iron powder (70.0 mg, 1.25 mmol){{9:row 2}}_XXXXX_ . The mixture was stirred and heated at 70 °C{{8:row 1}}_XXXXX_  for 3 h. The mixture was filtered, and washed with DCM. The filtrate was concentrated under reduced pressure. The residue was dissolved in DCM (1 mL){{3:row 2}}_XXXXX_ . To the solution was added Sodium triacetoxyborohydride (93.5 mg, 0.44 mmol){{9:row 3}}_XXXXX_  in small portion. The mixture was stirred at r.t. for 1 h., and quenched by addition of water (2 mL). A thick slurry was formed. 10% citric acid solution (2 mL) was added. The solution became clear. The organic layer was separated. The aquoeus layer was extracted with DCM (3x2 mL). The combined organic layers were washed with 10% citric acid (1 mL), and brine (2 mL), dried over Na2SO4, filtered and concentrated under reduced pressure to afford the crude product (229 mg) with purity about 75% according to HPLCMS. The product was directly used in next step reaction without further purification.   LCMS: Before work-up: JZ001-57-3 After work-up: JZ001-57-O, m/z = 357.9/360.1 (M+H)+', 'url': 'https://prelude.dotmatics.net/browser/api/studies/experiment/148351/writeup/{includeHtml}'}\n",
      "{'index': 56, 'exp_id': 148628, 'writeup': 'WPT 2100-104-3 NMR From CRO will be loaded upon reciept here is link to report', 'url': 'https://prelude.dotmatics.net/browser/api/studies/experiment/148628/writeup/{includeHtml}'}\n",
      "{'index': 57, 'exp_id': 148968, 'writeup': \"A 100 mL RBF with septum containing a solution of 3-nitro-4-[[(1R)-6-chloro-1-formyl-tetralin-1-yl]methoxy]benzenesulfonamide (2.12 g, 4.98 mmol){{9:row 1}}_XXXXX_  in Acetic acid (60 mL){{3:row 1}}_XXXXX_  was charged with iron powder (2.23 g, 39.86 mmol){{9:row 2}}_XXXXX_ . The mixture was heated at 70 °C{{8:row 1}}_XXXXX_  for 3 h. LCMS showed major desired product (Found: 377.0/379.0 and 395.0/397.0. FN: RAL004-28A01). The mixture was vacuum filtered through a Celite plug and rinsed with DCM. The filtrate was concentrated under reduced pressure, dissolved in DCM (45 mL){{3:row 2}}_XXXXX_ , cooled to 0 °C, and charged with Sodium triacetoxyborohydride (3.26 g, 15.45 mmol){{9:row 3}}_XXXXX_  over 1 min. The reaction mixture was stirred at 0 °C for 15 min, then stirred at RT for 80 min. The reaction complete by LCMS analysis (FN: RAL004-28A11, Found: 379.0/381.0). The reaction mixture was quenched with 10% citric acid (30 mL), diluted with water (30 mL), and extracted with EtOAc (125 mL). The organic layer was washed with 10% citric acid (10 mL) and water (40 mL), washed with brine (2&times; 40 mL). The combined aqueous layers were back extracted with EtOAc (50 mL), washed with water (30 mL), and brine (30 mL). The organic layers were combined, dried over Na2SO4, and filtered. The filtrate was purified by FCC (120 g SiO2, 20&rarr;65% EtOAc in hexanes, wet-loaded in DCM). Fractions containing clean desired product were combined and concentrated under reduced pressure and heat (~50 °C) to yield (3S)-6'-chlorospiro[4,5-dihydro-2H-1,5-benzoxazepine-3,1'-tetralin]-7-sulfonamide (982 mg, 2.5919 mmol, 52.02% yield){{2:row 1}}_XXXXX_  as a light tan foam.  Impure fractions were combined and concentrated to give 250 mg of impure material. This material was handed off to Rupa and further purified by FCC to yield (3S)-6'-chlorospiro[4,5-dihydro-2H-1,5-benzoxazepine-3,1'-tetralin]-7-sulfonamide (110 mg, 0.29034 mmol, 5.8271% yield){{2:row 2}}_XXXXX_ . Combined 57% yield over 3 pages/4 reactions (RAL004-26/-27/-28).   RAL004-28-1 Unsure of aniline NH position. Possibly the broad peak near/underneath the 2.9-2.6 ppm peak. 1H NMR (500 MHz, Chloroform-d) δ 7.75 (d, J = 8.5 Hz, 1H), 7.40 (s, 1H), 7.33 (dd, J = 2.2, 8.5 Hz, 1H), 7.16 (dd, J = 2.3, 8.5 Hz, 1H), 7.09 (d, J = 2.3 Hz, 1H), 7.00 (d, J = 8.4 Hz, 1H), 5.02 (s, 2H), 4.19 (s, 2H), 3.52 (d, J = 13.8 Hz, 1H), 3.41 (d, J = 13.8 Hz, 1H), 2.94 – 2.59 (m, 3H), 1.98 – 1.91 (m, 1H), 1.90 – 1.75 (m, 2H), 1.71 (t, J = 11.5 Hz, 1H).   -old-   Next time, make the crude reaction from the nitro reduction a slurry with Celite before filtering to prevent clogging. May want to evaporate the DCM before extracting with EtOAc so not as much EtOAc has to be used.  RAL004-12-1. One proton missing--probably hiding under the HDO peak at 3.32 ppm. Contains ~10 mol% acetic acid? Estimated 80 wt% purity. 1H NMR (500 MHz, DMSO-d6) δ 7.81 (d, J = 8.5 Hz, 1H), 7.26 (dd, J = 2.4, 8.5 Hz, 1H), 7.18 (dd, J = 2.3, 15.2 Hz, 2H), 7.13 (s, 2H), 7.02 (dd, J = 2.3, 8.4 Hz, 1H), 6.92 (d, J = 8.4 Hz, 1H), 6.20 (t, J = 4.1 Hz, 1H), 4.08 (q, J = 12.2 Hz, 2H), 3.23 (dd, J = 4.7, 13.7 Hz, 1H), 2.77 – 2.65 (m, 2H), 1.87 – 1.66 (m, 3H), 1.55 (ddd, J = 2.9, 9.7, 12.7 Hz, 1H).     Rfs copied over from RAL004-3 Rf of nitro-reduced intermediate = 0.24 (1:1 EtOAc/hexanes) Rf of final reduced compound = 0.45 (1:1 EtOAc/hexanes)     Standard Controls Apply: Lab coats, gloves and safety specs are to be worn at all times. All experiments should be performed in a fumehood.    Following the prep as below.   To a solution of 3-nitro-4-[[(1R)-6-chloro-1-formyl-tetralin-1-yl]methoxy]benzenesulfonamide (2.12 g, 4.98 mmol){{9:row 1}}_XXXXX_  in Acetic acid (60 mL){{3:row 1}}_XXXXX_  was added iron powder (2.23 g, 39.86 mmol){{9:row 2}}_XXXXX_ . The mixture was stirred and heated at 70 °C{{8:row 1}}_XXXXX_  for 3 h. The mixture was filtered, and washed with DCM. The filtrate was concentrated under reduced pressure. The residue was dissolved in DCM (45 mL){{3:row 2}}_XXXXX_ . To the solution was added Sodium triacetoxyborohydride (3.26 g, 15.45 mmol){{9:row 3}}_XXXXX_  in small portion. The mixture was stirred at r.t. for 1 h., and quenched by addition of water (2 mL). A thick slurry was formed. 10% citric acid solution (2 mL) was added. The solution became clear. The organic layer was separated. The aquoeus layer was extracted with DCM (3x2 mL). The combined organic layers were washed with 10% citric acid (1 mL), and brine (2 mL), dried over Na2SO4, filtered and concentrated under reduced pressure to afford the crude product (229 mg) with purity about 75% according to HPLCMS. The product was directly used in next step reaction without further purification.   LCMS: Before work-up: JZ001-57-3 After work-up: JZ001-57-O, m/z = 357.9/360.1 (M+H)+\", 'url': 'https://prelude.dotmatics.net/browser/api/studies/experiment/148968/writeup/{includeHtml}'}\n",
      "{'index': 58, 'exp_id': 149057, 'writeup': \"  A 3 mL microwave vial containing Magnesium (13.34 mg, 0.55 mmol){{9:row 3}}_XXXXX_  and a stir bar was heat-gun dried under vacuum and back-filled with nitrogen when cool.  A solution of 1-Bromo-4-chloro-2-fluorobenzene (0.07 mL, 0.52 mmol){{9:row 1}}_XXXXX_  in 2 mL THF was added, followed by diisobutylalumanylium;hydride (0.01 mL, 0.01 mmol){{9:row 4}}_XXXXX_ .  After 30 minutes, almost all the Mg was consumed and the solution is pale yellow.  Stirred for an additional 30 min, then chilled in an ice bath and a solution of (3aR,4R,6S,6aS)-4-(4-chloropyrrolo[2,3-d]pyrimidin-7-yl)-N-methoxy-N,2,2-trimethyl-3a,4,6,6a-tetrahydrofuro[3,4-d][1,3]dioxole-6-carboxamide (100.0 mg, 0.26 mmol){{9:row 2}}_XXXXX_  in 1 mL THF was added drop-wise.  The solution was stirred cold.  After 20 minutes, and aliquot was partitioned between EtOAc and sat'd NH4Cl for HPLCMS MJH002-12-a1: 35% 1.33 (Weinreb amide), 56% 1.78 min (MH+ = 452).  Removed reaction for ice bath and stirred for 30 min, then added EtOAc followed by sat'd NH4Cl.  Separated layers; aqueous extracted with EtOAc and the combined organics were washed with brine, filtered through cotton, and concentrated to a yellow oil.  HPLCMS MJH002-12-a2: 12% Weinreb amide/88% product. 09/17/2018 Material has solidified to a tan/yellow solid.  Purified by flash column 3% - 24% EtOAc/hexanes.  Product fractions where concentrated to a white solid MJH002-12-1, (4-chloro-2-fluoro-phenyl)-[(3aR,4R,6S,6aS)-4-(4-chloropyrrolo[2,3-d]pyrimidin-7-yl)-2,2-dimethyl-3a,4,6,6a-tetrahydrofuro[3,4-d][1,3]dioxol-6-yl]methanone (86 mg, 0.19016 mmol, 72.792% yield){{2:row 1}}_XXXXX_ .  HPLCMS MJH002-12-1: 82% 1.79 min (MH+ = 452/454), 13% 1.75 min (MH+ = 448 - methanol displacement of 6-Cl?), 5% 2.96 min (MH+ = 413).  Will use without further purification in next reaction.\", 'url': 'https://prelude.dotmatics.net/browser/api/studies/experiment/149057/writeup/{includeHtml}'}\n",
      "{'index': 59, 'exp_id': 149658, 'writeup': 'A 20 mL vial with septum containing a mixture of 3-Mercaptophenylacetic acid (405.3 mg, 2.41 mmol){{9:row 1}}_XXXXX_  in Methanol (17 mL){{3:row 1}}_XXXXX_  under N2 was charged with concentrated Sulfuric acid (50.0 uL, 0.91 mmol){{9:row 2}}_XXXXX_  and stirred at RT for 1 d. SM consumed by LCMS analysis. Reaction mixture neutralized with saturated sodium bicarbonate solution (~1.1 M) (2.0 mL, 2.2 mmol){{9:row 3}}_XXXXX_  in one portion. The mixture was concentrated under reduced pressure to remove a majority of the MeOH. The residue was diluted with EtOAc (40 mL), water (30 mL), and acidified with 1N HCl (3 mL, 3 mmol). The organic layer was separated and washed with brine (2&times; 20 mL). The organic layer was dried over Na2SO4, filtered, concentrated under reduced pressure to yield ~85% pure methyl 2-(3-sulfanylphenyl)acetate (432 mg, 2.0149 mmol, 83.625% yield){{2:row 1}}_XXXXX_  as a fluid yellow oil.    LCMS. Found:363.1  = 2M-H2+H? FN:RAL004-38A estimated 85% purity by NMR. Still see S-H proton by NMR. 1H NMR (500 MHz, Chloroform-d) δ 7.22 – 7.20 (m, 1H), 7.20 – 7.16 (m, 2H), 7.09 – 7.04 (m, 1H), 3.70 (s, 3H), 3.57 (s, 2H), 3.45 (s, 1H).  ', 'url': 'https://prelude.dotmatics.net/browser/api/studies/experiment/149658/writeup/{includeHtml}'}\n",
      "{'index': 60, 'exp_id': 149828, 'writeup': \"A 100 mL flask with septum containing (3S)-6'-chloro-5-[[(1R,2R)-2-(allyloxymethyl)cyclobutyl]methyl]spiro[2,4-dihydro-1,5-benzoxazepine-3,1'-tetralin]-7-sulfonamide (40.95 mg, 0.08 mmol){{9:row 1}}_XXXXX_ , 4-(dimethylamino)pyridine (48.38 mg, 0.4 mmol){{9:row 3}}_XXXXX_ , and 1-ethyl-3-(3-dimethylaminopropyl)carbodiimide hydrochloride (53.14 mg, 0.28 mmol){{9:row 4}}_XXXXX_  under N2 was charged with DCM (1 mL){{3:row 1}}_XXXXX_  followed by 4-pentenoic acid (24.25 uL, 0.24 mmol){{9:row 2}}_XXXXX_ . The mixture was stirred at RT for 2.5 h. Reaction complete by LCMS. The reaction mixture was diluted with EtOAc (30 mL), washed twice with brine (20 mL) and 0.1N HCl (5 mL), and washed with brine (20 mL). The organic layer was dried over Na2SO4, filtered, and concentrated under reduced pressure to yield crude N-[(3S)-6'-chloro-5-[[(1R,2R)-2-(allyloxymethyl)cyclobutyl]methyl]spiro[2,4-dihydro-1,5-benzoxazepine-3,1'-tetralin]-7-yl]sulfonylpent-4-enamide (36 mg, 0.06008 mmol, 75.861% yield){{2:row 1}}_XXXXX_  as a clear yellow glass (36 mg). This material was used crude in the following reactions: RAL004-51 and RAL004-52.   Rf Prd = .44 (2:1 hexanes:EtOAc) LCMS FN:RAL004-42A Found: 599.3/601.2 NMR is somewhat messy? Not sure what the issue is. Intermediates have looked messy since the O-allylation reaction. Update-it is possible that the mixture is due to HCl in the chloroform, although I did filter the CDCl3 through sodium carbonate before use. Did not encounter NMR issues with final submitted compound when non-chloroform solvents were used.\", 'url': 'https://prelude.dotmatics.net/browser/api/studies/experiment/149828/writeup/{includeHtml}'}\n",
      "{'index': 61, 'exp_id': 149939, 'writeup': 'Reference: J. Am. Chem. Soc. 2014, 136, 21, 7599-7602 A 50 mL rbf was heat-gun dried under vacuum and back-filled with nitrogen.  A mixture of 1-Bromo-4-chloro-2-iodobenzene\\t (1.0 g, 3.15 mmol){{9:row 1}}_XXXXX_ , (Trimethylsilyl)acetylene\\t (0.45 mL, 3.15 mmol){{9:row 2}}_XXXXX_ , dichlorobis(triphenylphosphine)palladium(II) (110.9 mg, 0.16 mmol){{9:row 3}}_XXXXX_  and copper(I) iodide (50.0 mg, 0.16 mmol){{9:row 4}}_XXXXX_  in THF (6 mL){{3:row 1}}_XXXXX_  gave a milky orange mixture.  Triethylamine;TEA (2.42 mL, 17.33 mmol){{9:row 5}}_XXXXX_  was added (reaction becomes very dark) and the reaction was stirred at rt overnight. 10/23/2018 TLC (hexanes) shows no remaining iodide with formation of a slightly lower-running spot.  Concentrated reaction, sonicated residue with hexanes, filtered through Celite, and concentrated to a clear orange oil.  The crude product was purified by flash column (hexanes) to yield MJH002-36-1, 2-(2-bromo-5-chloro-phenyl)ethynyl-trimethyl-silane (921 mg, 3.2017 mmol, 101.61% yield){{2:row 1}}_XXXXX_  as a pale yellow oil. 1H NMR (500 MHz, Chloroform-d) δ 7.51 – 7.45 (m, 2H), 7.13 (dd, J = 2.6, 8.6 Hz, 1H), 0.28 (s, 9H).', 'url': 'https://prelude.dotmatics.net/browser/api/studies/experiment/149939/writeup/{includeHtml}'}\n",
      "{'index': 62, 'exp_id': 150441, 'writeup': 'Reference: JACS 1981, 103, 3213. To a mixture of (R)-[3,4-difluoro-2-(methoxymethoxy)phenyl]-[(3aR,4R,6R,6aR)-2,2-dimethyl-4-(4-methylpyrrolo[2,3-d]pyrimidin-7-yl)-3a,4,6,6a-tetrahydrofuro[3,4-d][1,3]dioxol-6-yl]methanol (25.0 mg, 0.05 mmol){{9:row 1}}_XXXXX_  and Tetraethylammonium bromide (12.1 mg, 0.06 mmol){{9:row 3}}_XXXXX_  was added DCM (1 mL){{3:row 1}}_XXXXX_  and the resulting yellow solution was chilled on an ice bath. Chlorotrimethylsilane (0.01 mL, 0.06 mmol){{9:row 2}}_XXXXX_  was added and the reaction was stirred cold.  HPLCMS MJH002-52-a1 after 30 min: 11% 1.39 min (MH+ = 434), 83% 1.62 min (MH+ = 478; SM), 6% 1.88 min (MH+ = 524).  Allowed reaction to warm slowly in the bath as the ice melts.  HPLCMS MJH002-52-a2 after 1 hr: 16% 1.38 min, 76% 1.62 min, 6% 1.88 min.  Added an additional 24 mg ofTEAB and 14 uL of TMSCl at 1.5 hr.  HPLCMS MJH002-52-a3 at 3.75 hr: 21.5% 1.39 min, 76% 1.62 min, 3% 1.88 min.  Stirred reaction at rt overnight. 11/07/2018 HPLCMS MJH002-52-a4: 16% 1.63 min, 73% 1.38 min.  Reaction is clean, just slow. 11/08/2018 HPLCMS MJH002-52-a5:5% 1.66 min, 24% 1.52 min, 71% 1.37 min.  1.63/1.52 both show MH+ = 478 (SM).  Racemization?  Stripped reaction down.  Will purify with reaction on p. 53.', 'url': 'https://prelude.dotmatics.net/browser/api/studies/experiment/150441/writeup/{includeHtml}'}\n",
      "{'index': 63, 'exp_id': 150476, 'writeup': 'Reference: JACS 1981, 103, 3213, MJH002-52 To a mixture of (R)-[3,4-difluoro-2-(methoxymethoxy)phenyl]-[(3aR,4R,6R,6aR)-2,2-dimethyl-4-(4-methylpyrrolo[2,3-d]pyrimidin-7-yl)-3a,4,6,6a-tetrahydrofuro[3,4-d][1,3]dioxol-6-yl]methanol (85.0 mg, 0.18 mmol){{9:row 1}}_XXXXX_  and Tetraethylammonium bromide (112.24 mg, 0.53 mmol){{9:row 3}}_XXXXX_  was added DCM (4 mL){{3:row 1}}_XXXXX_  and the resulting yellow solution was chilled on an ice bath. Chlorotrimethylsilane (0.07 mL, 0.53 mmol){{9:row 2}}_XXXXX_  was added and the reaction was allowed to warm to rt in the ice bath and stirred at rt overnight.  11/08/2018  HPLCMS MJH002-53-a1: 56% 1.37 min (MH+ = 434), 12% 1.52 min (MH+ = 478), 32% 1.61 min (MH+ = 478).  Racemization?  Added an additional 112 mg TEAB/68 uL TMSCl.  HPLCMS MJH002-53-a2 after 4 hr: 60% 1.38 min, 17% 1.53 min, 10% 1.63 min.  Combined reaction from p. 52, concentrated (ppt), and loaded onto samplet using DCM (most solids dissolve).  10% - 100% EtOAc/hexanes - no product peak - product not soluble?.  Eluted with DCM - 8% MeOH/DCM and peaks come off.  Concentrated cleanest product fractions to an orange solid MJH002-53-1, 2,3-difluoro-6-[(R)-hydroxy-[(3aR,4R,6R,6aR)-2,2-dimethyl-4-(4-methylpyrrolo[2,3-d]pyrimidin-7-yl)-3a,4,6,6a-tetrahydrofuro[3,4-d][1,3]dioxol-6-yl]methyl]phenol (56 mg, 0.12921 mmol, 72.578% yield){{2:row 1}}_XXXXX_ .  HPLCMS  MJH002-53-1: 40% 0.86 min (MH+ = 394; loss of acetonide, maybe from heat generated by switching solvents on the column?), 53% 1.40 min (MH+ = 434).  Will try next reaction on the mixture.', 'url': 'https://prelude.dotmatics.net/browser/api/studies/experiment/150476/writeup/{includeHtml}'}\n",
      "{'index': 64, 'exp_id': 150560, 'writeup': \"A 4 mL vial with septum containing ~65% pure (3R,6R,24S)-6'-chloro-17,17-dioxo-spiro[22-oxa-8,17λ^6-dithia-1,16-diazapentacyclo[16.7.2.1^9,13.0^3,6.0^21,26]octacosa-9(28),10,12,18(27),19,21(26)-hexaene-24,1'-tetralin]-15-one (3.5 mg, 0. mmol){{9:row 1}}_XXXXX_  and mCPBA (77 wt%) (2.0 mg, 0.01 mmol){{9:row 2}}_XXXXX_  under N2 was charged with DCM (0.50 mL){{3:row 1}}_XXXXX_  and stirred at RT for 18 h. LCMS showed the reaction to be complete. The reaction mixture was concentrated under reduced pressure to a white solid, then purified by FCC (15.5 g C18, 20&rarr;100% MeCN in H2O, wet-loaded in DMSO). Fractions containing pure product were combined and concentrated under reduced pressure to yield ~59.5% pure (3R,6R,24S)-6'-chloro-8,8,17,17-tetraoxo-spiro[22-oxa-8λ^6,17λ^6-dithia-1,16-diazapentacyclo[16.7.2.1^9,13.0^3,6.0^21,26]octacosa-9(28),10,12,18(27),19,21(26)-hexaene-24,1'-tetralin]-15-one (1.66 mg, 0.00154 mmol, 41.249% yield){{2:row 1}}_XXXXX_  as a white solid.   LCMS shows major desired 641 and undesired 675 (M+H2O+O+H)+ Unable to get a reasonable NMR tabulation due to the low purity. 1H NMR (500 MHz, Chloroform-d) δ 8.02 (s, 1H), 7.91 (d, J = 7.8 Hz, 1H), 7.83 (d, J = 7.4 Hz, 1H), 7.69 (s, 1H), 7.66 (d, J = 8.5 Hz, 1H), 7.58 – 7.52 (m, 2H), 7.41 (dd, J = 2.1, 8.5 Hz, 1H), 7.21 (dd, J = 2.3, 8.4 Hz, 1H), 7.10 (d, J = 2.6 Hz, 2H), 6.99 (d, J = 8.3 Hz, 1H), 6.91 (s, 1H), 4.16 (d, J = 12.2 Hz, 1H), 4.01 (d, J = 12.2 Hz, 1H), 3.86 – 3.73 (m, 2H), 3.59 (d, J = 14.5 Hz, 1H), 3.34 – 3.20 (m, 4H), 3.18 – 3.09 (m, 2H), 2.82 – 2.73 (m, 3H), 2.44 (dt, J = 7.5, 14.8 Hz, 2H), 2.13 – 1.96 (m, 4H), 1.96 – 1.72 (m, 8H), 1.67 (d, J = 8.6 Hz, 2H), 1.45 (d, J = 13.6 Hz, 2H).   Impurity formed during concentration of FCC fractions (??), perhaps from mCPBA that co-eluted or perhaps from air oxidation (check stability?). Next time do a reductive workup before purification.  \", 'url': 'https://prelude.dotmatics.net/browser/api/studies/experiment/150560/writeup/{includeHtml}'}\n",
      "{'index': 65, 'exp_id': 152548, 'writeup': 'To a solution of 4-bromo-2-chloro-3-methyl-phenol (1.0 g, 4.52 mmol){{9:row 2}}_XXXXX_ , 2-(4-methylpiperazin-1-yl)ethanol (0.98 g, 6.77 mmol){{9:row 3}}_XXXXX_  and Triphenylphosphine (1.78 g, 6.77 mmol){{9:row 1}}_XXXXX_  in THF (50 mL){{3:row 1}}_XXXXX_  was added Diisopropyl azodicarboxylate (1.6 mL, 8.13 mmol){{9:row 4}}_XXXXX_  under N2 at 10 °C. Then the reaction was stirred at rt for 12h. LCMS showed desired ms and TLC(PE/EA=2/1) showed starting material was consumed. Then the reaction was concentrated to give a crude. The crude was purified by reversed-phase column(NH3.H2O/CH3CN/H2O) to give 1-[2-(4-bromo-2-chloro-3-methyl-phenoxy)ethyl]-4-methyl-piperazine (390 mg, 1.1217 mmol, 24.844% yield){{2:row 1}}_XXXXX_  as yellow oil. data and result LCMS calculated for C14H20BrClN2O [M+H]+ m/z = 347.05; found: 347.0 1H NMR: (400 MHz, CDCl3) δ 7.39 (d, J = 8.8 Hz, 1 H), 6.68 (d, J = 8.8 Hz, 1 H), 4.14 (t, J = 5.6 Hz, 2 H), 2.88 (d, J = 5.6 Hz, 1 H), 2.63-2.68 (m, 3 H), 2.46-2.55 (m, 7 H), 2.28 (s, 3 H). result success', 'url': 'https://prelude.dotmatics.net/browser/api/studies/experiment/152548/writeup/{includeHtml}'}\n"
     ]
    }
   ],
   "source": [
    "exp_id_list_diff = [\n",
    "    138784,\n",
    "    139184,\n",
    "    139229,\n",
    "    139333,\n",
    "    139366,\n",
    "    139547,\n",
    "    139559,\n",
    "    139673,\n",
    "    139686,\n",
    "    139710,\n",
    "    139716,\n",
    "    139971,\n",
    "    140199,\n",
    "    141394,\n",
    "    141569,\n",
    "    141588,\n",
    "    141851,\n",
    "    142022,\n",
    "    142248,\n",
    "    142622,\n",
    "    142648,\n",
    "    142649,\n",
    "    142709,\n",
    "    142710,\n",
    "    142726,\n",
    "    142745,\n",
    "    142746,\n",
    "    142763,\n",
    "    142861,\n",
    "    142863,\n",
    "    143109,\n",
    "    143325,\n",
    "    143524,\n",
    "    143794,\n",
    "    144419,\n",
    "    144441,\n",
    "    144485,\n",
    "    144488,\n",
    "    144562,\n",
    "    144584,\n",
    "    144586,\n",
    "    144704,\n",
    "    144832,\n",
    "    144957,\n",
    "    145150,\n",
    "    145431,\n",
    "    145489,\n",
    "    145637,\n",
    "    145718,\n",
    "    145790,\n",
    "    145866,\n",
    "    146013,\n",
    "    147516,\n",
    "    147614,\n",
    "    148010,\n",
    "    148351,\n",
    "    148628,\n",
    "    148968,\n",
    "    149057,\n",
    "    149658,\n",
    "    149828,\n",
    "    149939,\n",
    "    150441,\n",
    "    150476,\n",
    "    150560,\n",
    "    152548,\n",
    "    152647,\n",
    "    152856,\n",
    "    152858,\n",
    "    152863,\n",
    "    153261,\n",
    "    153430,\n",
    "    153633,\n",
    "    153986,\n",
    "    154642,\n",
    "    155407,\n",
    "    155718,\n",
    "    156157,\n",
    "    156771,\n",
    "    156831,\n",
    "    157251,\n",
    "    158461,\n",
    "    158654,\n",
    "    158660,\n",
    "    161500,\n",
    "    162024,\n",
    "    162250,\n",
    "    162374,\n",
    "    163457,\n",
    "    164157,\n",
    "    164445,\n",
    "    164849,\n",
    "    164975,\n",
    "    164978,\n",
    "    165177,\n",
    "    165617,\n",
    "    165619,\n",
    "    165621,\n",
    "    166428,\n",
    "    167183,\n",
    "    168421,\n",
    "    168750,\n",
    "    169020,\n",
    "    169928,\n",
    "    169978,\n",
    "    170055,\n",
    "    170058,\n",
    "    170101,\n",
    "    170341,\n",
    "    171819,\n",
    "    173148,\n",
    "    173425,\n",
    "    173788,\n",
    "    174005,\n",
    "    174093,\n",
    "    174595,\n",
    "    175917,\n",
    "    176519,\n",
    "    178168,\n",
    "    178236,\n",
    "    178509,\n",
    "    179448,\n",
    "    179522,\n",
    "    179528,\n",
    "    179540,\n",
    "    181336,\n",
    "    181414,\n",
    "    182372,\n",
    "    182408,\n",
    "    182409,\n",
    "    182421,\n",
    "    182474,\n",
    "    182582,\n",
    "    183453,\n",
    "    184218,\n",
    "    184431,\n",
    "    184850,\n",
    "    184929,\n",
    "    185023,\n",
    "    185050,\n",
    "    185178,\n",
    "    185442,\n",
    "    185851,\n",
    "    185976,\n",
    "    185983,\n",
    "    186945,\n",
    "    187173,\n",
    "    187241,\n",
    "    187549,\n",
    "    188768,\n",
    "    189414,\n",
    "    189706,\n",
    "    189811,\n",
    "    190835,\n",
    "    191075,\n",
    "    191111,\n",
    "    191121,\n",
    "    191126,\n",
    "    191364,\n",
    "    192075,\n",
    "    192138,\n",
    "    192373,\n",
    "    192526,\n",
    "    193090,\n",
    "    193428,\n",
    "    193540,\n",
    "    193860,\n",
    "    193886,\n",
    "    194049,\n",
    "    194312,\n",
    "    194501,\n",
    "    194671,\n",
    "    194839,\n",
    "    195369,\n",
    "    195459,\n",
    "    195662,\n",
    "    195863,\n",
    "    196395,\n",
    "    196717,\n",
    "    196852,\n",
    "    197285,\n",
    "    197305,\n",
    "    197446,\n",
    "    198159,\n",
    "    198707,\n",
    "    199342,\n",
    "    200121,\n",
    "    200278,\n",
    "    200546,\n",
    "    200547,\n",
    "    201388,\n",
    "    202774,\n",
    "    205491,\n",
    "    206192,\n",
    "    206671,\n",
    "    206798,\n",
    "    206834,\n",
    "    206881,\n",
    "    206890,\n",
    "    207072,\n",
    "    207073,\n",
    "    207075,\n",
    "    207174,\n",
    "    207175,\n",
    "    207312,\n",
    "    207321,\n",
    "    207393,\n",
    "    207414,\n",
    "    207509,\n",
    "    207532,\n",
    "    207577,\n",
    "    207610,\n",
    "    208248,\n",
    "    208277,\n",
    "    208459,\n",
    "    208467,\n",
    "    208553,\n",
    "    208674,\n",
    "    208745,\n",
    "    209046,\n",
    "    209098,\n",
    "    209101,\n",
    "    209159,\n",
    "    209188,\n",
    "    209224,\n",
    "    209252,\n",
    "    209272,\n",
    "    209356,\n",
    "    209495,\n",
    "    209566,\n",
    "    209567,\n",
    "    209584,\n",
    "    209605,\n",
    "    209609,\n",
    "    209650,\n",
    "    209670,\n",
    "    209674,\n",
    "    209701,\n",
    "    209910,\n",
    "    209924,\n",
    "    210012,\n",
    "    210587,\n",
    "    211189,\n",
    "    211323,\n",
    "    212460,\n",
    "    213067,\n",
    "    213635,\n",
    "    213638,\n",
    "    214150,\n",
    "    214151,\n",
    "    214512,\n",
    "    214829,\n",
    "    214963,\n",
    "    215385,\n",
    "    215912,\n",
    "    215978,\n",
    "    217359,\n",
    "    218368,\n",
    "    218952,\n",
    "    219167,\n",
    "    219344,\n",
    "    220449,\n",
    "    220712,\n",
    "    221389,\n",
    "    221409,\n",
    "    222169,\n",
    "    222171,\n",
    "    222311,\n",
    "    222568,\n",
    "    222577,\n",
    "    222641,\n",
    "    223370,\n",
    "    223469,\n",
    "    223941,\n",
    "    224488,\n",
    "    225006,\n",
    "    225047,\n",
    "    225153,\n",
    "    225250,\n",
    "    225428,\n",
    "    225432,\n",
    "    225909,\n",
    "    226664,\n",
    "    226713,\n",
    "    227266,\n",
    "    227915,\n",
    "    228197,\n",
    "    228299,\n",
    "    228849,\n",
    "    228941,\n",
    "    229012,\n",
    "    229273,\n",
    "    229274,\n",
    "    229499,\n",
    "    229828,\n",
    "    230790,\n",
    "    230801,\n",
    "    231377,\n",
    "    231387,\n",
    "    231391,\n",
    "    232096,\n",
    "    232209,\n",
    "    232210,\n",
    "    232613,\n",
    "    232664,\n",
    "    233076,\n",
    "    233253,\n",
    "    233542,\n",
    "    233543,\n",
    "    233555,\n",
    "    234146,\n",
    "    234273,\n",
    "    234279,\n",
    "    234290,\n",
    "    234295,\n",
    "    234615,\n",
    "    235222,\n",
    "    235516,\n",
    "    235612,\n",
    "    235619,\n",
    "    236443,\n",
    "    236444,\n",
    "    236445,\n",
    "    237070,\n",
    "    237135,\n",
    "    237324,\n",
    "    237418,\n",
    "    237943,\n",
    "    238664,\n",
    "    238692,\n",
    "    238710,\n",
    "    238969,\n",
    "    239156,\n",
    "    239180,\n",
    "    239250,\n",
    "    239328,\n",
    "    239334,\n",
    "    239469,\n",
    "    239661,\n",
    "    239752,\n",
    "    239769,\n",
    "    240216,\n",
    "    240372,\n",
    "    241073,\n",
    "    241293,\n",
    "    241304,\n",
    "    241316,\n",
    "    241470,\n",
    "    241520,\n",
    "    242037,\n",
    "    242195,\n",
    "    242203,\n",
    "    242376,\n",
    "    242566,\n",
    "    244062,\n",
    "    244353,\n",
    "    244442,\n",
    "    244803,\n",
    "    245036,\n",
    "    245109,\n",
    "    245281,\n",
    "    245406,\n",
    "    245421,\n",
    "    245689,\n",
    "    245923,\n",
    "    246226,\n",
    "    246235,\n",
    "    246236,\n",
    "    246240,\n",
    "    246321,\n",
    "    246452,\n",
    "    246896,\n",
    "    247328,\n",
    "    247462,\n",
    "    247466,\n",
    "    247552,\n",
    "    247596,\n",
    "    247766,\n",
    "    247883,\n",
    "    247920,\n",
    "    248077,\n",
    "    248188,\n",
    "    248570,\n",
    "    248615,\n",
    "    248663,\n",
    "    248728,\n",
    "    249031,\n",
    "    249562,\n",
    "    249646,\n",
    "    249648,\n",
    "    249667,\n",
    "    249682,\n",
    "    249683,\n",
    "    249983,\n",
    "    250074,\n",
    "    250111,\n",
    "    250427,\n",
    "    250757,\n",
    "    251509,\n",
    "    251603,\n",
    "    252200,\n",
    "    252260,\n",
    "    252426,\n",
    "    252435,\n",
    "    252681,\n",
    "    252950,\n",
    "    253068,\n",
    "    253070,\n",
    "    253083,\n",
    "    253253,\n",
    "    253267,\n",
    "    253421,\n",
    "    253567,\n",
    "    253945,\n",
    "    254040,\n",
    "    254355,\n",
    "    254643,\n",
    "    254692,\n",
    "    254849,\n",
    "    255230,\n",
    "    255428,\n",
    "    255995,\n",
    "    256108,\n",
    "    256109,\n",
    "    256116,\n",
    "    256200,\n",
    "    256275,\n",
    "    256350,\n",
    "    256380,\n",
    "    256663,\n",
    "    256665,\n",
    "    256685,\n",
    "    256872,\n",
    "    257159,\n",
    "    257344,\n",
    "    257540,\n",
    "    257564,\n",
    "    257903,\n",
    "    257974,\n",
    "    258523,\n",
    "    258664,\n",
    "    258794,\n",
    "    260163,\n",
    "    260172,\n",
    "    260245,\n",
    "    260288,\n",
    "    260500,\n",
    "    261177,\n",
    "    261289,\n",
    "    261317,\n",
    "    261613,\n",
    "    261887,\n",
    "    261968,\n",
    "    261991,\n",
    "    262117,\n",
    "    262732,\n",
    "    262912,\n",
    "    263216,\n",
    "    263319,\n",
    "    263405,\n",
    "    263621,\n",
    "    263836,\n",
    "    264030,\n",
    "    264979,\n",
    "    265046,\n",
    "    265048,\n",
    "    265050,\n",
    "    265162,\n",
    "    265296,\n",
    "    265488,\n",
    "    265489,\n",
    "    265743,\n",
    "    265784,\n",
    "    266135,\n",
    "    266494,\n",
    "    266559,\n",
    "    266666,\n",
    "    267076,\n",
    "    267101,\n",
    "    267383\n",
    "]\n",
    "\n",
    "all_df_pkl = 'writeups_all_df.pkl'\n",
    "if not path.isfile(all_df_pkl):\n",
    "    fetch_writeups(exp_id_list_diff, all_df_pkl)\n",
    "else:\n",
    "    df = pd.read_pickle(all_df_pkl)"
   ]
  },
  {
   "cell_type": "code",
   "execution_count": null,
   "id": "c6cf037e-7d4a-4e22-adb3-a72272409547",
   "metadata": {},
   "outputs": [],
   "source": [
    "for _, row in df.iterrows():\n",
    "    highlighted_writeup = highlight_question_marks(str(row['writeup']))\n",
    "    \n",
    "    html = f\"\"\"\n",
    "    <div style=\"display: flex; flex-direction: column; width: 100%; border: 2px solid #bbb;\">\n",
    "        <!-- Header Row -->\n",
    "        <div style=\"display: flex; font-weight: bold; background: #d6d8db; padding: 8px; border-bottom: 2px solid #bbb;\">\n",
    "            <div style=\"width: 80px; text-align: center; border-right: 2px solid #bbb; display: flex; align-items: center; justify-content: center;\">Index</div>\n",
    "            <div style=\"width: 150px; text-align: center; border-right: 2px solid #bbb; display: flex; align-items: center; justify-content: center;\">Experiment ID</div>\n",
    "            <div style=\"flex: 1; text-align: center;\">Writeup</div>\n",
    "        </div>\n",
    "\n",
    "        <!-- Data Row -->\n",
    "        <div style=\"display: flex; padding: 8px; background: #f8f9fa;\">\n",
    "            <div style=\"width: 80px; text-align: center; border-right: 2px solid #ddd; font-weight: bold; display: flex; align-items: center; justify-content: center;\">\n",
    "                {row['index']+1}\n",
    "            </div>\n",
    "            <div style=\"width: 150px; text-align: center; border-right: 2px solid #ddd; font-weight: bold; display: flex; align-items: center; justify-content: center;\">\n",
    "                {row['exp_id']}\n",
    "            </div>\n",
    "            <div style=\"flex: 1; padding: 8px 12px; white-space: pre-wrap; overflow-wrap: break-word;\">\n",
    "                {highlighted_writeup}\n",
    "            </div>\n",
    "        </div>\n",
    "    </div>\n",
    "    \"\"\"\n",
    "\n",
    "    display_full_width(html)"
   ]
  }
 ],
 "metadata": {
  "kernelspec": {
   "display_name": "Python 3 (ipykernel)",
   "language": "python",
   "name": "python3"
  },
  "language_info": {
   "codemirror_mode": {
    "name": "ipython",
    "version": 3
   },
   "file_extension": ".py",
   "mimetype": "text/x-python",
   "name": "python",
   "nbconvert_exporter": "python",
   "pygments_lexer": "ipython3",
   "version": "3.11.6"
  }
 },
 "nbformat": 4,
 "nbformat_minor": 5
}
