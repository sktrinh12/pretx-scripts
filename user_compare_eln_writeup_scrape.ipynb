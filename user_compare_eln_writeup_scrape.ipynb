{
 "cells": [
  {
   "cell_type": "markdown",
   "id": "491b93e9-0d72-4cac-9de9-779e7269a859",
   "metadata": {
    "jp-MarkdownHeadingCollapsed": true
   },
   "source": [
    "### ELN WRITEUP COMPARISON BETWEEN DM INSTANCES:\n",
    "\n",
    "- run each 'cell' one by one; once you get to [Cell 3](#cell-3):\n",
    "- simply select the CRO protocol name and click 'Submit' button\n",
    "    - it will read the list of experiment ids from the text file\n",
    "- afterwards when you reach [Cell 4](#cell-4) an html render of those specific experiment ids will be executed\n",
    "- check the valid/invalid textboxes as you are QC'ing the writeup data\n",
    "- when finished, run [Cell 5](#cell-5) and a blue button will appear; clikc this to save the checkboxes\n",
    "- lastly, execute [Cell 6](#cell-6) in order to export the saved experiment ids and their `validity` status as a `.csv` file"
   ]
  },
  {
   "cell_type": "markdown",
   "id": "3576c672-7684-43ab-96c5-9e3e52eae4e2",
   "metadata": {},
   "source": [
    "## Cell 1"
   ]
  },
  {
   "cell_type": "code",
   "execution_count": null,
   "id": "c9f23420-d555-4878-9b22-73e397a29fba",
   "metadata": {
    "jupyter": {
     "source_hidden": true
    }
   },
   "outputs": [],
   "source": [
    "from os import getenv\n",
    "from dotenv import load_dotenv\n",
    "load_dotenv()\n",
    "DB_USER = getenv(\"DB_USER\")\n",
    "DB_PASS = getenv(\"DB_PASS\")\n",
    "DB_HOST = getenv(\"DB_HOST\")\n",
    "DB_PORT = getenv(\"DB_PORT\")\n",
    "DB_NAME = getenv(\"DB_NAME\")"
   ]
  },
  {
   "cell_type": "markdown",
   "id": "1611f2a7-cb5b-4f46-b706-9cbcbe43fef1",
   "metadata": {},
   "source": [
    "## Cell 2"
   ]
  },
  {
   "cell_type": "code",
   "execution_count": null,
   "id": "e4c4c528-0d9e-4119-93a8-ab998382f9cf",
   "metadata": {
    "scrolled": true
   },
   "outputs": [],
   "source": [
    "%run compare_eln_writeup_scrape.ipynb"
   ]
  },
  {
   "cell_type": "markdown",
   "id": "fde27673-6841-4135-8029-19a7ab6fe9db",
   "metadata": {},
   "source": [
    "## Cell 3"
   ]
  },
  {
   "cell_type": "code",
   "execution_count": null,
   "id": "c8b5ed12-8165-450f-8945-c4065bd351ec",
   "metadata": {
    "jupyter": {
     "source_hidden": true
    }
   },
   "outputs": [],
   "source": [
    "dropdown = widgets.Dropdown(\n",
    "    options=cro_prots,\n",
    "    value=cro_prots[0],\n",
    "    description=\"Select:\",\n",
    "    style={\"description_width\": \"initial\"},\n",
    ")\n",
    "\n",
    "button = widgets.Button(description=\"Submit\")\n",
    "output = widgets.Output()\n",
    "\n",
    "def on_button_click(b):\n",
    "    with output:\n",
    "        output.clear_output()\n",
    "        print(dropdown.value)\n",
    "\n",
    "button.on_click(on_button_click)\n",
    "display(dropdown, button, output)"
   ]
  },
  {
   "cell_type": "markdown",
   "id": "5278b166-0c85-457a-a921-4aff23810eac",
   "metadata": {},
   "source": [
    "##### Only run [Cell 4](#cell-4) after executing each cell above and selecting the cro protocol then click 'Submit'"
   ]
  },
  {
   "cell_type": "markdown",
   "id": "853bca1b-593b-4fd3-8486-b6c89980771a",
   "metadata": {},
   "source": [
    "## Cell 4"
   ]
  },
  {
   "cell_type": "code",
   "execution_count": null,
   "id": "74944d09-02ad-498a-a66f-ba10c713423a",
   "metadata": {
    "jupyter": {
     "source_hidden": true
    },
    "scrolled": true
   },
   "outputs": [],
   "source": [
    "idx = 0\n",
    "dd_value = dropdown.value\n",
    "print ('='*15, f'{dd_value}', '='*15)\n",
    "html_output = \"\"\n",
    "exp_ids = []\n",
    "with open(os.path.join(dir_path, file_name_prefix.format(dd_value)), 'r') as file:\n",
    "    for line in file:\n",
    "        exp_ids.extend(line.strip().split(\",\"))\n",
    "        \n",
    "filtered_df = df[df['exp_id'].isin(exp_ids)].copy()\n",
    "filtered_df['write_up'] = filtered_df.apply(color_code_writeup, axis=1) \n",
    "\n",
    "for exp_id, group in filtered_df.groupby('exp_id'):\n",
    "    idx += 1\n",
    "    html_output += render_html_group(idx, group)\n",
    "html_output += js_code\n",
    "display(HTML(html_output))"
   ]
  },
  {
   "cell_type": "markdown",
   "id": "101084a9-8cb7-4526-ad7f-dd8d0cf94ce3",
   "metadata": {},
   "source": [
    "##### Run [Cell 5](#cell-5) and click the 'Update Valid Exp Ids' blue button"
   ]
  },
  {
   "cell_type": "markdown",
   "id": "677a80ab-f499-4482-bf69-72bae8af8800",
   "metadata": {},
   "source": [
    "## Cell 5"
   ]
  },
  {
   "cell_type": "code",
   "execution_count": null,
   "id": "59ec8a7b-ec18-4807-a1b4-92a842a1b8b1",
   "metadata": {
    "jupyter": {
     "source_hidden": true
    },
    "scrolled": true
   },
   "outputs": [],
   "source": [
    "%%javascript\n",
    "\n",
    "const div = document.createElement('div');\n",
    "div.innerHTML = '<p style=\"margin-top: 10px; font-size: 20px; color: gray;\">Click the button only after having finished validating each experiment ID.</p>';\n",
    "element.append(div);\n",
    "\n",
    "const updateButton = document.createElement('button');\n",
    "updateButton.textContent = 'Save Valid Exp Ids';\n",
    "updateButton.style.padding = '12px 24px';\n",
    "updateButton.style.fontSize = '18px';\n",
    "updateButton.style.borderRadius = '8px';\n",
    "updateButton.style.backgroundColor = '#007BFF';\n",
    "updateButton.style.color = 'white';\n",
    "updateButton.style.border = 'none';\n",
    "updateButton.style.cursor = 'pointer';\n",
    "updateButton.style.marginTop = '10px';\n",
    "updateButton.style.transition = 'transform 0.3s ease'\n",
    "element.append(updateButton);\n",
    "updateButton.addEventListener('click', function() {\n",
    "    postValidityBackend();\n",
    "    div.innerHTML = '<p style=\"margin-top: 10px; font-size: 20px; color: gray;\">Updated validity data (run the following cell to view & export to file)</p>';\n",
    "    updateButton.style.animation = 'flash 0.5s'; \n",
    "    setTimeout(() => updateButton.style.animation = '', 500);\n",
    "});\n",
    "\n",
    "updateButton.addEventListener('mouseover', function() {\n",
    "    updateButton.style.transform = 'scale(1.08)';\n",
    "}); \n",
    "updateButton.addEventListener('mouseout', function() {\n",
    "    updateButton.style.transform = 'scale(1)'; \n",
    "}); \n",
    "const style = document.createElement('style'); \n",
    "style.textContent = ` \n",
    "    @keyframes flash {\n",
    "        0% { background-color: #007BFF; }\n",
    "        50% { background-color: #FF8C00; }\n",
    "        100% { background-color: #007BFF; } \n",
    "} `;\n",
    "document.head.append(style);"
   ]
  },
  {
   "cell_type": "markdown",
   "id": "d38b0cf2-c00d-4cc0-87a1-a58a60ffd8e0",
   "metadata": {},
   "source": [
    "##### Run [Cell 6](#cell-6) to export to the PARENT/HOME directory as .csv"
   ]
  },
  {
   "cell_type": "markdown",
   "id": "faa32e9b-f5ce-4421-bb88-f51f5329ffbe",
   "metadata": {},
   "source": [
    "## Cell 6"
   ]
  },
  {
   "cell_type": "code",
   "execution_count": null,
   "id": "f4f1fb56-501a-470e-a019-7f9868cd2ad7",
   "metadata": {},
   "outputs": [],
   "source": [
    "df_val = pd.read_sql(sql_query.format(f\"validity_{user_name_uscore}\") , engine)\n",
    "df_val.to_csv(os.path.join(os.path.expanduser(\"~\"), f\"{user_name}_exp_id_validation_output.csv\"), index=False)\n",
    "df_val"
   ]
  }
 ],
 "metadata": {
  "kernelspec": {
   "display_name": "Python 3 (ipykernel)",
   "language": "python",
   "name": "python3"
  },
  "language_info": {
   "codemirror_mode": {
    "name": "ipython",
    "version": 3
   },
   "file_extension": ".py",
   "mimetype": "text/x-python",
   "name": "python",
   "nbconvert_exporter": "python",
   "pygments_lexer": "ipython3",
   "version": "3.11.6"
  }
 },
 "nbformat": 4,
 "nbformat_minor": 5
}
